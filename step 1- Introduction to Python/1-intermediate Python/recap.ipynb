{
 "cells": [
  {
   "cell_type": "markdown",
   "metadata": {},
   "source": [
    "**strings in python**"
   ]
  },
  {
   "cell_type": "code",
   "execution_count": 1,
   "metadata": {},
   "outputs": [
    {
     "name": "stdout",
     "output_type": "stream",
     "text": [
      "4.2\n"
     ]
    },
    {
     "data": {
      "text/plain": [
       "4.2"
      ]
     },
     "execution_count": 1,
     "metadata": {},
     "output_type": "execute_result"
    }
   ],
   "source": [
    "row_1 = ['Facebook', 0.0, 'USD', 2974676, 3.5]\n",
    "row_2 = ['Instagram', 0.0, 'USD', 2161558, 4.5]\n",
    "row_3 = ['Clash of Clans', 0.0, 'USD', 2130805, 4.5]\n",
    "row_4 = ['Temple Run', 0.0, 'USD', 1724546, 4.5]\n",
    "row_5 = ['Pandora - Music & Radio', 0.0, 'USD', 1126879, 4.0]\n",
    "\n",
    "app_data = [row_1, row_2, row_3, row_4,  row_5]\n",
    "\n",
    "ratings = [app_data[0][4], app_data[1][4],app_data[2][4],app_data[3][4],app_data[4][4]]\n",
    "\n",
    "print(sum(ratings) / len(ratings))\n",
    "\n",
    "total = 0\n",
    "for rating in ratings:\n",
    "    total += rating\n",
    "    avg = total/len(ratings)\n",
    "    \n",
    "avg"
   ]
  },
  {
   "cell_type": "code",
   "execution_count": 2,
   "metadata": {},
   "outputs": [
    {
     "name": "stdout",
     "output_type": "stream",
     "text": [
      "['id', 'track_name', 'size_bytes', 'currency', 'price', 'rating_count_tot', 'rating_count_ver', 'user_rating', 'user_rating_ver', 'ver', 'cont_rating', 'prime_genre', 'sup_devices.num', 'ipadSc_urls.num', 'lang.num', 'vpp_lic']\n"
     ]
    }
   ],
   "source": [
    "#opening files in python\n",
    "# import csv module\n",
    "import csv\n",
    "\n",
    "file = open(\"AppleStore.csv\", encoding= \"utf-8\")\n",
    "data =list(csv.reader(file))\n",
    "\n",
    "header = data[0]\n",
    "\n",
    "apps_data = data[1:]\n",
    "print(header)"
   ]
  },
  {
   "cell_type": "code",
   "execution_count": 3,
   "metadata": {},
   "outputs": [
    {
     "name": "stdout",
     "output_type": "stream",
     "text": [
      "3.526955675976101\n",
      "3.526955675976101\n"
     ]
    }
   ],
   "source": [
    "#compute the avg rating for ratings column\n",
    "\n",
    "total = 0\n",
    "for row in apps_data:\n",
    "    rating = float(row[7])\n",
    "    total += rating\n",
    "    \n",
    "avg = total / len(apps_data)\n",
    "print(avg)\n",
    "\n",
    "\n",
    "# second way \n",
    "ratings = []\n",
    "for row in apps_data:\n",
    "    rating = float(row[7])\n",
    "    ratings.append(rating)\n",
    "    \n",
    "avg = sum(ratings) / len(ratings)\n",
    "print(avg)"
   ]
  },
  {
   "cell_type": "code",
   "execution_count": 4,
   "metadata": {},
   "outputs": [
    {
     "name": "stdout",
     "output_type": "stream",
     "text": [
      "free average 3.3767258382642997 :non free avg 3.720948742438714\n"
     ]
    }
   ],
   "source": [
    "#if statement\n",
    "free_app_ratings = []\n",
    "non_free_apps = []\n",
    "\n",
    "for row in apps_data:\n",
    "    rating = float(row[7])\n",
    "    price = float(row[4])\n",
    "    \n",
    "    if price == 0.0:\n",
    "        free_app_ratings.append(rating)\n",
    "    else:\n",
    "        non_free_apps.append(rating)\n",
    "        \n",
    "free_avg = sum(free_app_ratings) / len(free_app_ratings)\n",
    "non_free_avg = sum(non_free_apps) / len(non_free_apps)\n",
    "\n",
    "print(\"free average {}\".format(free_avg) , f':non free avg {non_free_avg}')\n"
   ]
  },
  {
   "cell_type": "code",
   "execution_count": 5,
   "metadata": {},
   "outputs": [
    {
     "data": {
      "text/plain": [
       "3862"
      ]
     },
     "execution_count": 5,
     "metadata": {},
     "output_type": "execute_result"
    }
   ],
   "source": [
    "# genre column in data describes the gere of each app\n",
    "\n",
    "non_gaming = []\n",
    "gaming_apps = []\n",
    "\n",
    "for row in apps_data:\n",
    "    genre  = row[11]\n",
    "    rating = float(row[4])\n",
    "    \n",
    "    if genre  == \"Games\":\n",
    "        gaming_apps.append(rating)\n",
    "    else:\n",
    "        non_gaming.append(rating)\n",
    "        \n",
    "len(gaming_apps)"
   ]
  },
  {
   "cell_type": "code",
   "execution_count": 6,
   "metadata": {},
   "outputs": [
    {
     "name": "stdout",
     "output_type": "stream",
     "text": [
      "3.9049844236760123\n",
      "3.5285777580859548\n"
     ]
    },
    {
     "data": {
      "text/plain": [
       "3.496875"
      ]
     },
     "execution_count": 6,
     "metadata": {},
     "output_type": "execute_result"
    }
   ],
   "source": [
    "#multiple conditions\n",
    "free_games_ratings = []\n",
    "non_free_non_games = []\n",
    "non_free_games = []\n",
    "free_non_games = []\n",
    "\n",
    "for row in apps_data:\n",
    "    rating = float(row[7])\n",
    "    price = float(row[4])\n",
    "    genre = row[11]\n",
    "    \n",
    "    if price == 0.0 and genre == \"Games\" :\n",
    "        free_games_ratings.append(rating)\n",
    "        avg_1 =  sum(free_games_ratings) / len(free_games_ratings)\n",
    "        \n",
    "    elif price != 0.0 and genre != \"Games\":\n",
    "        non_free_non_games.append(rating)\n",
    "        avg_2 = sum(non_free_non_games) / len(non_free_non_games)\n",
    "        \n",
    "    elif price != 0.0 and genre == \"Games\" : \n",
    "        non_free_games.append(rating)\n",
    "        avg_3 = sum(non_free_games) / len(non_free_games)\n",
    "\n",
    "print(max(avg_1 , avg_2, avg_3))\n",
    "print(min(avg_1 , avg_2, avg_3))\n",
    "\n",
    "\n",
    "\n",
    "free_games_social_ratings = []\n",
    "\n",
    "for row in apps_data:\n",
    "    rating = float(row[7])\n",
    "    genre = row[11]\n",
    "    price = float(row[4])\n",
    "    \n",
    "    \n",
    "    if (genre ==  \"Games\" or genre == \"Social Networking\") and price == 0.0 :\n",
    "        free_games_social_ratings.append(rating)\n",
    "        \n",
    "        avg = sum(free_games_social_ratings) /  len(free_games_social_ratings)\n",
    "        \n",
    "avg"
   ]
  },
  {
   "cell_type": "code",
   "execution_count": 7,
   "metadata": {},
   "outputs": [],
   "source": [
    "more_than_90 = []\n",
    "less_than_90 = []\n",
    "equal_90 = []\n",
    "\n",
    "for row in apps_data:\n",
    "    rating = float(row[7])\n",
    "    price = float(row[4])\n",
    "    \n",
    "    if price ==  90:\n",
    "        equal_90.append(rating)\n",
    "    elif price >  90:\n",
    "        more_than_90.append(rating)\n",
    "    elif price < 90:\n",
    "        less_than_90.append(rating)\n",
    "        \n"
   ]
  },
  {
   "cell_type": "code",
   "execution_count": 8,
   "metadata": {},
   "outputs": [
    {
     "name": "stdout",
     "output_type": "stream",
     "text": [
      "[['529479190', 'Clash of Clans', '116476928', 'USD', '0.0', '2130805', '579', '4.5', '4.5', '9.24.12', '9+', 'Games', '38', '5', '18', '1', 'free'], ['420009108', 'Temple Run', '65921024', 'USD', '0.0', '1724546', '3842', '4.5', '4.0', '1.6.2', '9+', 'Games', '40', '5', '1', '1', 'free'], ['284035177', 'Pandora - Music & Radio', '130242560', 'USD', '0.0', '1126879', '3594', '4.0', '4.5', '8.4.1', '12+', 'Music', '37', '4', '1', '1', 'free'], ['429047995', 'Pinterest', '74778624', 'USD', '0.0', '1061624', '1814', '4.5', '4.0', '6.26', '12+', 'Social Networking', '37', '5', '27', '1', 'free']]\n"
     ]
    }
   ],
   "source": [
    "for row in apps_data:\n",
    "    price = float(row[4])\n",
    "    \n",
    "    if price == 0.0 :\n",
    "        row.append(\"free\")\n",
    "    elif   0 < price < 20:\n",
    "        row.append(\"affordable\")\n",
    "    elif  20 <= price  < 50  :\n",
    "        row.append(\"expensive\")\n",
    "    elif price >= 50:\n",
    "        row.append(\"very expensive\")\n",
    "        \n",
    "header.append(\"price_label\")\n",
    "print(apps_data[2:6])"
   ]
  },
  {
   "cell_type": "markdown",
   "metadata": {},
   "source": [
    "**dictionaries and frequency tabels**"
   ]
  },
  {
   "cell_type": "code",
   "execution_count": 9,
   "metadata": {},
   "outputs": [
    {
     "data": {
      "text/plain": [
       "[4, 2, 1]"
      ]
     },
     "execution_count": 9,
     "metadata": {},
     "output_type": "execute_result"
    }
   ],
   "source": [
    "content_ratings = ['4+', '9+', '12+', '17+']\n",
    "numbers = [4433, 987, 1155, 622]\n",
    "\n",
    "content_rating_numbers = [content_ratings, numbers]\n",
    "\n",
    "dic = {\"eslam\":27 ,  \"ebtsam\" : 30 , \"ehab\": 34}\n",
    "\n",
    "\n",
    "# create a dictionary \n",
    "d_1 = {\n",
    "    'key_1' : 'first_value',\n",
    "    'key_2' : 2,\n",
    "    'key_3' : 3.14,\n",
    "    'key_4' : True,\n",
    "    'key_1' : [4,2,1],\n",
    "    (1,2,3) : {'inner_key' : 6 }\n",
    "}\n",
    "\n",
    "\n",
    "\n",
    "d_1[\"key_1\"]"
   ]
  },
  {
   "cell_type": "code",
   "execution_count": 10,
   "metadata": {},
   "outputs": [
    {
     "data": {
      "text/plain": [
       "{4433: 0.2, 987: 0.4, 1155: 0.2, 622: 0.4}"
      ]
     },
     "execution_count": 10,
     "metadata": {},
     "output_type": "execute_result"
    }
   ],
   "source": [
    "content_ratings = {'4+': 4433, '9+': 987, '12+': 1155, '17+': 622}\n",
    "\n",
    "\n",
    "#find the unique values\n",
    "\n",
    "numbers = [4433, 987, 1155, 622 ,622,987 ]\n",
    "\n",
    "dic = {}\n",
    "\n",
    "for number in numbers:\n",
    "    if number in dic:\n",
    "        dic[number] += 1 \n",
    "    else:\n",
    "        dic[number] = 1\n",
    "\n",
    "dic_percent = {}\n",
    "\n",
    "total = 5 \n",
    "for key, value in dic.items():\n",
    "    dic_percent[key] = value/ total\n",
    "    \n",
    "dic_percent"
   ]
  },
  {
   "cell_type": "code",
   "execution_count": 11,
   "metadata": {},
   "outputs": [
    {
     "name": "stdout",
     "output_type": "stream",
     "text": [
      "2974676.0\n",
      "0.0\n"
     ]
    },
    {
     "data": {
      "text/plain": [
       "{'0-5': 7175, '5-10': 16, '10-15': 2, '15-20': 1}"
      ]
     },
     "execution_count": 11,
     "metadata": {},
     "output_type": "execute_result"
    }
   ],
   "source": [
    "#porpotion percentage\n",
    "my_list = []\n",
    "my_dic = {'0-5':0, '5-10':0, '10-15':0, '15-20':0}\n",
    "\n",
    "\n",
    "for row in apps_data:\n",
    "    rating_count = float(row[5])\n",
    "    my_list.append(rating_count)\n",
    "    \n",
    "    if rating_count <= 500000:\n",
    "        my_dic[\"0-5\"] += 1\n",
    "    elif 500000 < rating_count <= 1000000:\n",
    "        my_dic[\"5-10\"] += 1\n",
    "    elif 1000000 < rating_count <= 1500000:\n",
    "        my_dic[\"10-15\"] += 1\n",
    "    elif 1500000 < rating_count <= 2000000:\n",
    "        my_dic[\"15-20\"] += 1\n",
    "        \n",
    "print(max(my_list))\n",
    "print(min(my_list))\n",
    "\n",
    "my_dic"
   ]
  },
  {
   "cell_type": "markdown",
   "metadata": {},
   "source": [
    "**Functions in python**"
   ]
  },
  {
   "cell_type": "code",
   "execution_count": 12,
   "metadata": {},
   "outputs": [
    {
     "name": "stdout",
     "output_type": "stream",
     "text": [
      "103945\n"
     ]
    }
   ],
   "source": [
    "a_list = [4444, 8897, 6340, 9896, 4835, 4324, 10, 6445,\n",
    "          661, 1246, 1000, 7429, 1376, 8121, 647, 1280,\n",
    "          3993, 4881, 9500, 6701, 1199, 6251, 4432, 37]\n",
    "\n",
    "def sum_numbers(args):\n",
    "    total = 0\n",
    "    for each in args:\n",
    "        total += each\n",
    "        \n",
    "    print(total)\n",
    "    \n",
    "sum_numbers(a_list)"
   ]
  },
  {
   "cell_type": "code",
   "execution_count": 13,
   "metadata": {},
   "outputs": [
    {
     "data": {
      "text/plain": [
       "25"
      ]
     },
     "execution_count": 13,
     "metadata": {},
     "output_type": "execute_result"
    }
   ],
   "source": [
    "def square_number(number):\n",
    "    square = number * number\n",
    "    return square\n",
    "\n",
    "square_number(5)"
   ]
  },
  {
   "cell_type": "code",
   "execution_count": 14,
   "metadata": {},
   "outputs": [
    {
     "data": {
      "text/plain": [
       "{'0.0': 4056,\n",
       " '1.99': 621,\n",
       " '0.99': 728,\n",
       " '6.99': 166,\n",
       " '2.99': 683,\n",
       " '7.99': 33,\n",
       " '4.99': 394,\n",
       " '9.99': 81,\n",
       " '3.99': 277,\n",
       " '8.99': 9,\n",
       " '5.99': 52,\n",
       " '14.99': 21,\n",
       " '13.99': 6,\n",
       " '19.99': 13,\n",
       " '17.99': 3,\n",
       " '15.99': 4,\n",
       " '24.99': 8,\n",
       " '20.99': 2,\n",
       " '29.99': 6,\n",
       " '12.99': 5,\n",
       " '39.99': 2,\n",
       " '74.99': 1,\n",
       " '16.99': 2,\n",
       " '249.99': 1,\n",
       " '11.99': 6,\n",
       " '27.99': 2,\n",
       " '49.99': 2,\n",
       " '59.99': 3,\n",
       " '22.99': 2,\n",
       " '18.99': 1,\n",
       " '99.99': 1,\n",
       " '21.99': 1,\n",
       " '34.99': 1,\n",
       " '299.99': 1,\n",
       " '23.99': 2,\n",
       " '47.99': 1}"
      ]
     },
     "execution_count": 14,
     "metadata": {},
     "output_type": "execute_result"
    }
   ],
   "source": [
    "# extracting any column from the dataset\n",
    "prices = []\n",
    "for row in apps_data:\n",
    "    price = row[4]\n",
    "    prices.append(price)\n",
    "    \n",
    "\n",
    "#function to extract any column from the dataset\n",
    "def open_data(file_name , encode = \"utf-8\"):\n",
    "    file = open(file_name , encoding=  encode)\n",
    "    data = list(csv.reader(file))\n",
    "    \n",
    "    return data[1:]\n",
    "\n",
    "\n",
    "\n",
    "def extract_columns(data, index):\n",
    "    column = []\n",
    "    for row in data:\n",
    "        column.append(row[index])\n",
    "        \n",
    "        \n",
    "    return column\n",
    "\n",
    "\n",
    "def freq_table(table_list):\n",
    "    dic = {}\n",
    "    for each in table_list:\n",
    "        if each in dic:\n",
    "            dic[each] += 1\n",
    "        else:\n",
    "            dic[each] = 1\n",
    "            \n",
    "    return dic\n",
    "\n",
    "\n",
    "        \n",
    "\n",
    "app_store = open_data(\"AppleStore.csv\")\n",
    "prices = extract_columns(app_store , 4)\n",
    "\n",
    "unique_prices =  freq_table(prices)\n",
    "\n",
    "unique_prices\n"
   ]
  },
  {
   "cell_type": "code",
   "execution_count": null,
   "metadata": {},
   "outputs": [],
   "source": []
  },
  {
   "cell_type": "code",
   "execution_count": 15,
   "metadata": {},
   "outputs": [],
   "source": [
    "# function to extract any column and its unique values from a dataset\n",
    "def extract_col(data , index):\n",
    "    column = []\n",
    "    dic = {}\n",
    "    for row in data:\n",
    "        col = row[index]\n",
    "        column.append(col)\n",
    "    for each in column:\n",
    "        if each in dic:\n",
    "            dic[each] += 1\n",
    "        else:\n",
    "            dic[each] = 1\n",
    "    \n",
    "    return (column , dic)\n",
    "\n",
    "\n",
    "app_store = open_data(\"AppleStore.csv\")\n",
    "\n",
    "\n",
    "prices , unique_prices = extract_col(app_store , 4)\n"
   ]
  },
  {
   "cell_type": "code",
   "execution_count": 16,
   "metadata": {},
   "outputs": [
    {
     "data": {
      "text/plain": [
       "{'0.0': 4056,\n",
       " '1.99': 621,\n",
       " '0.99': 728,\n",
       " '6.99': 166,\n",
       " '2.99': 683,\n",
       " '7.99': 33,\n",
       " '4.99': 394,\n",
       " '9.99': 81,\n",
       " '3.99': 277,\n",
       " '8.99': 9,\n",
       " '5.99': 52,\n",
       " '14.99': 21,\n",
       " '13.99': 6,\n",
       " '19.99': 13,\n",
       " '17.99': 3,\n",
       " '15.99': 4,\n",
       " '24.99': 8,\n",
       " '20.99': 2,\n",
       " '29.99': 6,\n",
       " '12.99': 5,\n",
       " '39.99': 2,\n",
       " '74.99': 1,\n",
       " '16.99': 2,\n",
       " '249.99': 1,\n",
       " '11.99': 6,\n",
       " '27.99': 2,\n",
       " '49.99': 2,\n",
       " '59.99': 3,\n",
       " '22.99': 2,\n",
       " '18.99': 1,\n",
       " '99.99': 1,\n",
       " '21.99': 1,\n",
       " '34.99': 1,\n",
       " '299.99': 1,\n",
       " '23.99': 2,\n",
       " '47.99': 1}"
      ]
     },
     "execution_count": 16,
     "metadata": {},
     "output_type": "execute_result"
    }
   ],
   "source": [
    "unique_prices"
   ]
  },
  {
   "cell_type": "markdown",
   "metadata": {},
   "source": [
    "> building a function to combine all functions"
   ]
  },
  {
   "cell_type": "code",
   "execution_count": 17,
   "metadata": {},
   "outputs": [],
   "source": [
    "def reading_data(file_name , index = 1 , code = \"utf8\"):\n",
    "    file = open(\"AppleStore.csv\" , encoding= code)\n",
    "    data = list(csv.reader(file))\n",
    "    data = data[1:]\n",
    "    \n",
    "    # extract any column\n",
    "    column = []\n",
    "    for row in data:\n",
    "        col = row[index]\n",
    "        column.append(col)\n",
    "        \n",
    "    #unique values\n",
    "    dic = {}\n",
    "    for each_value in column:\n",
    "        if each_value in dic:\n",
    "            dic[each_value] += 1\n",
    "        else:\n",
    "            dic[each_value] = 1\n",
    "            \n",
    "            \n",
    "    return data, column, dic\n"
   ]
  },
  {
   "cell_type": "code",
   "execution_count": 18,
   "metadata": {},
   "outputs": [],
   "source": [
    "# combining or reusable codes\n",
    "\n",
    "def read_data(file_name):\n",
    "    file = open(file_name , encoding=\"utf-8\")\n",
    "    data = list(csv.reader(file))\n",
    "    \n",
    "    return data[1:]\n",
    "\n",
    "\n",
    "def extrac_col(file_name , index):\n",
    "    data = read_data(file_name)\n",
    "    column = []\n",
    "    for row in data:\n",
    "        col = row[index]\n",
    "        column.append(col)\n",
    "        \n",
    "    return column\n",
    "\n",
    "\n",
    "def unique_values(file_name , index):\n",
    "    col = extrac_col(file_name , index)\n",
    "    \n",
    "    dic = {}\n",
    "    for each_value in col:\n",
    "        if each_value in dic :\n",
    "            dic[each_value] += 1\n",
    "        else:\n",
    "            dic[each_value] = 1\n",
    "            \n",
    "        return dic"
   ]
  },
  {
   "cell_type": "code",
   "execution_count": 19,
   "metadata": {},
   "outputs": [
    {
     "data": {
      "text/plain": [
       "{'USD': 1}"
      ]
     },
     "execution_count": 19,
     "metadata": {},
     "output_type": "execute_result"
    }
   ],
   "source": [
    "prices = unique_values(\"AppleStore.csv\" , 3)\n",
    "\n",
    "prices"
   ]
  },
  {
   "cell_type": "code",
   "execution_count": 20,
   "metadata": {},
   "outputs": [],
   "source": [
    "# find mean for a column\n",
    "\n",
    "data =read_data(\"AppleStore.csv\")\n",
    "\n",
    "prices = extract_columns(data = data , index = 4)\n",
    "\n",
    "def sum_column(column):\n",
    "    s = 0\n",
    "    for value in column:\n",
    "        s += value\n",
    "        return s\n",
    "    \n",
    "def length(column):\n",
    "    l = 0\n",
    "    for value in column:\n",
    "        l += 1\n",
    "    return l\n",
    "\n",
    "\n",
    "def mean(column):\n",
    "    pass\n",
    "    "
   ]
  },
  {
   "cell_type": "markdown",
   "metadata": {},
   "source": [
    "**completing functions**\n",
    "> use your time the most important thing is to put time and effort"
   ]
  },
  {
   "cell_type": "code",
   "execution_count": 21,
   "metadata": {},
   "outputs": [],
   "source": [
    "def open_data(path , code = \"utf-8\"):\n",
    "    file = open(path, encoding= code)\n",
    "    data = list(csv.reader(file))[1:]\n",
    "    \n",
    "    return data\n",
    "\n",
    "data = open_data(\"AppleStore.csv\")\n"
   ]
  },
  {
   "cell_type": "code",
   "execution_count": 22,
   "metadata": {},
   "outputs": [
    {
     "name": "stdout",
     "output_type": "stream",
     "text": [
      "['App', 'Category', 'Rating', 'Reviews', 'Size', 'Installs', 'Type', 'Price', 'Content Rating', 'Genres', 'Last Updated', 'Current Ver', 'Android Ver'] 13 10841\n"
     ]
    }
   ],
   "source": [
    "#complete open file function to get the dataset\n",
    "def get_data(path , code= \"utf-8\"):\n",
    "    import csv\n",
    "    file = open(path, encoding = code)\n",
    "    data = list(csv.reader(file))\n",
    "    header = data[0]\n",
    "    \n",
    "    return header , data[1:]\n",
    "\n",
    "data = get_data(\"googleplaystore.csv\") # here data is a tuble that has 2 values\n",
    "header = data[0]\n",
    "google_play = data[1]\n",
    "\n",
    "print(header, len(header) ,  len(google_play))"
   ]
  },
  {
   "cell_type": "code",
   "execution_count": 23,
   "metadata": {},
   "outputs": [],
   "source": [
    "def multipe_return(a = 5, b= 6, add = True):\n",
    "    if add:\n",
    "        return a + b\n",
    "    else:\n",
    "        return abs( a - b)\n",
    "    \n",
    "multipe_return(5,10, False)\n",
    "\n",
    "\n",
    "def get_data(path, code= \"utf-8\", remove_header = True):\n",
    "    \n",
    "    '''takes the path and return data with or without header''' #docstring of a function in python\n",
    "    import csv\n",
    "    file = open(path , encoding = code)\n",
    "    data = list(csv.reader(file))\n",
    "    \n",
    "    if remove_header:\n",
    "        return data[1:]\n",
    "    else:\n",
    "        return data[0] , data[1:]\n",
    "    \n",
    "\n",
    "dataset = get_data(\"googleplaystore.csv\")\n",
    "\n",
    "data = get_data(\"googleplaystore.csv\" , )\n",
    "\n"
   ]
  },
  {
   "cell_type": "markdown",
   "metadata": {},
   "source": [
    "<b> understanding tubles with functions and return </b>"
   ]
  },
  {
   "cell_type": "code",
   "execution_count": 24,
   "metadata": {},
   "outputs": [
    {
     "data": {
      "text/plain": [
       "[20, 15]"
      ]
     },
     "execution_count": 24,
     "metadata": {},
     "output_type": "execute_result"
    }
   ],
   "source": [
    "def sum_diff(a = 5, b = 10):\n",
    "    a_sum = a+b \n",
    "    a_diff = a-b\n",
    "    \n",
    "    return a_diff , a_sum   #tuple\n",
    "\n",
    "my_list =[]\n",
    "for item in sum_diff(5,10):\n",
    "    my_list.append(item)\n",
    "    \n",
    "my_list[0] = 20\n",
    "my_list"
   ]
  },
  {
   "cell_type": "code",
   "execution_count": 25,
   "metadata": {},
   "outputs": [
    {
     "name": "stdout",
     "output_type": "stream",
     "text": [
      "2.27\n",
      "mathematical constant\n",
      "1000\n",
      "50\n"
     ]
    }
   ],
   "source": [
    "e = 'mathematical constant'\n",
    "a_sum = 1000\n",
    "length = 50\n",
    "\n",
    "def exponential(x):\n",
    "    e = 2.27\n",
    "    print(e)\n",
    "    return e**x\n",
    "\n",
    "result_1 = exponential(5)\n",
    "print(e) #global scope property\n",
    "\n",
    "def divide():\n",
    "    print(a_sum) #global variable or global scope\n",
    "    print(length)\n",
    "    return a_sum / length\n",
    "\n",
    "result_2 = divide()\n",
    "\n",
    "    \n",
    "\n"
   ]
  },
  {
   "cell_type": "markdown",
   "metadata": {},
   "source": [
    "**Python intermediate**"
   ]
  },
  {
   "cell_type": "code",
   "execution_count": 26,
   "metadata": {},
   "outputs": [
    {
     "data": {
      "text/plain": [
       "'the approximate population of india is 1,301,500,000.00'"
      ]
     },
     "execution_count": 26,
     "metadata": {},
     "output_type": "execute_result"
    }
   ],
   "source": [
    "string = \"i am eslam hosam\"\n",
    "string.replace(\"hosam\" , \"soliman\")\n",
    "\n",
    "# string.replace(\"eslam\" , \"\")\n",
    "\n",
    "chars = [\"a\" , \"b\" , \"c\" , \"m\", \"d\"]\n",
    "\n",
    "for char in chars :\n",
    "    if char in string : \n",
    "        a = string.replace(char ,\"\")\n",
    "        \n",
    "\n",
    "        \n",
    "\"the approximate population of india is {:,.2f}\".format(1301500000)"
   ]
  },
  {
   "cell_type": "markdown",
   "metadata": {},
   "source": [
    "**artworks dataset**"
   ]
  },
  {
   "cell_type": "code",
   "execution_count": 27,
   "metadata": {},
   "outputs": [
    {
     "name": "stdout",
     "output_type": "stream",
     "text": [
      "['Title', 'Artist', 'Nationality', 'BeginDate', 'EndDate', 'Gender', 'Date', 'Department'] \n",
      " 8\n"
     ]
    },
    {
     "data": {
      "text/plain": [
       "10841"
      ]
     },
     "execution_count": 27,
     "metadata": {},
     "output_type": "execute_result"
    }
   ],
   "source": [
    "# reading data\n",
    "artworks = list(csv.reader(open(\"artworks.csv\" , encoding= \"utf-8\")))\n",
    "\n",
    "header = artworks[0]\n",
    "moma = artworks[1:]\n",
    "print(header , \"\\n\" , len(header))\n",
    "\n",
    "len(dataset)"
   ]
  },
  {
   "cell_type": "code",
   "execution_count": 28,
   "metadata": {},
   "outputs": [
    {
     "name": "stdout",
     "output_type": "stream",
     "text": [
      "['Dress MacLeod from Tartan Sets', 'Sarah Charlesworth', '(American)', '(1947)', '(2013)', '(Female)', '1986', 'Prints & Illustrated Books'] \n",
      "\n",
      "['Duplicate of plate from folio 11 verso (supplementary suite, plate 4) from ARDICIA', 'Pablo Palazuelo', '(Spanish)', '(1916)', '(2007)', '(Male)', '1978', 'Prints & Illustrated Books'] \n",
      "\n",
      "['Tailpiece (page 55) from SAGESSE', 'Maurice Denis', '(French)', '(1870)', '(1943)', '(Male)', '1889-1911', 'Prints & Illustrated Books'] \n",
      "\n"
     ]
    }
   ],
   "source": [
    "for row in moma[:3]:\n",
    "    print(row , \"\\n\")"
   ]
  },
  {
   "cell_type": "code",
   "execution_count": 29,
   "metadata": {},
   "outputs": [
    {
     "data": {
      "text/plain": [
       "['Female', 'Male', '']"
      ]
     },
     "execution_count": 29,
     "metadata": {},
     "output_type": "execute_result"
    }
   ],
   "source": [
    "# check the values in gender column\n",
    "\n",
    "def clean_string(string) : \n",
    "    string = string.replace(\"(\" , \"\")\n",
    "    string = string.replace(\")\" , \"\")\n",
    "    string = string.title()\n",
    "    \n",
    "    return string\n",
    "\n",
    "gender_unique = []\n",
    "\n",
    "for work in moma :\n",
    "    gender = work[5]\n",
    "    gender = clean_string(gender)\n",
    "    #take the unique values\n",
    "    if gender not in gender_unique:\n",
    "        gender_unique.append(gender)\n",
    "        \n",
    "gender_unique"
   ]
  },
  {
   "cell_type": "markdown",
   "metadata": {},
   "source": [
    "we cleaned the gender and at least now we know that we have missing values in this column "
   ]
  },
  {
   "cell_type": "code",
   "execution_count": 30,
   "metadata": {},
   "outputs": [
    {
     "name": "stdout",
     "output_type": "stream",
     "text": [
      "(American)\n",
      "American\n"
     ]
    }
   ],
   "source": [
    "# clean the gender column with the same function\n",
    "print(moma[5][2])\n",
    "\n",
    "for work in moma :\n",
    "    nationality = work[2]\n",
    "    nationality = clean_string(nationality)\n",
    "    work[2] = nationality\n",
    "    \n",
    "print(moma[5][2])"
   ]
  },
  {
   "cell_type": "code",
   "execution_count": 31,
   "metadata": {},
   "outputs": [
    {
     "name": "stdout",
     "output_type": "stream",
     "text": [
      "83\n"
     ]
    }
   ],
   "source": [
    "nat = []\n",
    "for work in moma :\n",
    "    nationality = work[2]\n",
    "    if nationality not in nat :\n",
    "        nat.append(nationality)\n",
    "        \n",
    "print(len(nat))"
   ]
  },
  {
   "cell_type": "code",
   "execution_count": 32,
   "metadata": {},
   "outputs": [
    {
     "data": {
      "text/plain": [
       "['Female', 'Male', 'unknown']"
      ]
     },
     "execution_count": 32,
     "metadata": {},
     "output_type": "execute_result"
    }
   ],
   "source": [
    "# fill the value in gender column\n",
    "unique = []\n",
    "\n",
    "for row in moma :\n",
    "    gender = row[5]\n",
    "    gender = clean_string(gender)\n",
    "    if gender == \"\":\n",
    "        gender = \"unknown\"\n",
    "    row[5] = gender\n",
    "    if gender not in unique :\n",
    "        unique.append(gender)\n",
    "        \n",
    "unique"
   ]
  },
  {
   "cell_type": "code",
   "execution_count": 33,
   "metadata": {},
   "outputs": [
    {
     "name": "stdout",
     "output_type": "stream",
     "text": [
      "['(1947)', '(2013)']\n",
      "['(1916)', '(2007)']\n",
      "['(1870)', '(1943)']\n",
      "['(1861)', '(1944)']\n",
      "['(1857)', '(1927)']\n",
      "['(1919)', '(2013)']\n",
      "['(1857)', '(1927)']\n",
      "['(1928)', '(1984)']\n",
      "['(1964)', '']\n",
      "['(1882)', '(1953)']\n"
     ]
    }
   ],
   "source": [
    "for row in moma[0:10]:\n",
    "    birth_date = row[3]\n",
    "    death_date = row[4]\n",
    "    print([birth_date , death_date])"
   ]
  },
  {
   "cell_type": "code",
   "execution_count": 35,
   "metadata": {},
   "outputs": [],
   "source": [
    "def clean_date(string_date):\n",
    "    '''clean string and convert string number to int'''\n",
    "    string_date = string_date.replace(\"(\" , \"\")\n",
    "    string_date = string_date.replace(\")\" , \"\")\n",
    "    if string_date == \"\":\n",
    "        string_date = '1990'\n",
    "    string_date =  int(string_date)\n",
    "    \n",
    "    return string_date\n",
    "\n",
    "\n",
    "# change the date column in the datast\n",
    "\n",
    "for row in moma :\n",
    "    row[3],  row[4] = (clean_date(row[3]) , clean_date(row[4])) \n",
    "    \n",
    "   "
   ]
  },
  {
   "cell_type": "code",
   "execution_count": null,
   "metadata": {},
   "outputs": [],
   "source": [
    "# def clean(date):\n",
    "#     if date != \"\":\n",
    "#         date = date.replace(\")\" , \"\")\n",
    "#         date = date.replace(\"(\" , \"\")\n",
    "#     else :\n",
    "#         date = 2020\n",
    "#     return int(date)\n",
    "\n",
    "# clean(\"(1950)\")"
   ]
  },
  {
   "cell_type": "code",
   "execution_count": 42,
   "metadata": {},
   "outputs": [
    {
     "name": "stdout",
     "output_type": "stream",
     "text": [
      "1919 <class 'int'> 2013 <class 'int'>\n",
      "1857 <class 'int'> 1927 <class 'int'>\n",
      "1928 <class 'int'> 1984 <class 'int'>\n",
      "1964 <class 'int'> 1990 <class 'int'>\n",
      "1882 <class 'int'> 1953 <class 'int'>\n"
     ]
    }
   ],
   "source": [
    "for i in range(5,10):\n",
    "    print(moma[i][3] , type(moma[i][3]) , moma[i][4], type(moma[i][4]) )"
   ]
  },
  {
   "cell_type": "code",
   "execution_count": 44,
   "metadata": {},
   "outputs": [
    {
     "name": "stdout",
     "output_type": "stream",
     "text": [
      "['Dress MacLeod from Tartan Sets', 'Sarah Charlesworth', 'American', 1947, 2013, 'Female', '1986', 'Prints & Illustrated Books'] \n",
      "\n",
      "['Duplicate of plate from folio 11 verso (supplementary suite, plate 4) from ARDICIA', 'Pablo Palazuelo', 'Spanish', 1916, 2007, 'Male', '1978', 'Prints & Illustrated Books'] \n",
      "\n",
      "['Tailpiece (page 55) from SAGESSE', 'Maurice Denis', 'French', 1870, 1943, 'Male', '1889-1911', 'Prints & Illustrated Books'] \n",
      "\n",
      "['Headpiece (page 129) from LIVRET DE FOLASTRIES, À JANOT PARISIEN', 'Aristide Maillol', 'French', 1861, 1944, 'Male', '1927-1940', 'Prints & Illustrated Books'] \n",
      "\n",
      "['97 rue du Bac', 'Eugène Atget', 'French', 1857, 1927, 'Male', '1903', 'Photography'] \n",
      "\n"
     ]
    }
   ],
   "source": [
    "for i in range(0,5):\n",
    "    print(moma[i] , \"\\n\")\n",
    "    "
   ]
  },
  {
   "cell_type": "code",
   "execution_count": 51,
   "metadata": {},
   "outputs": [],
   "source": [
    "# checking the null values in dates\n",
    "\n",
    "for row in moma:\n",
    "    birth_date = row[3]\n",
    "    death_date = row[4]\n",
    "    if birth_date == \"\" or birth_date == None or type(birth_date) != int:\n",
    "        print(birth_date)\n",
    "    if death_date == \"\" or death_date == None or type(birth_date) != int:\n",
    "        print(death_date)\n",
    "        \n"
   ]
  },
  {
   "cell_type": "code",
   "execution_count": 65,
   "metadata": {},
   "outputs": [],
   "source": [
    "ages = []\n",
    "frauds = []\n",
    "\n",
    "for row in moma :\n",
    "    age = abs(row[4] - row[3])\n",
    "    ages.append(age)\n",
    "    \n",
    "for i in range(len(ages)):\n",
    "    if ages[i] > 100:\n",
    "        ages[i] = 60\n",
    "    elif ages[i] < 0:\n",
    "        ages[i] = 20\n",
    "        "
   ]
  },
  {
   "cell_type": "markdown",
   "metadata": {},
   "source": [
    "### parsing numbers inside strings"
   ]
  },
  {
   "cell_type": "code",
   "execution_count": 113,
   "metadata": {},
   "outputs": [
    {
     "data": {
      "text/plain": [
       "['good', 'morning', 'good', 'morning']"
      ]
     },
     "execution_count": 113,
     "metadata": {},
     "output_type": "execute_result"
    }
   ],
   "source": [
    "strings = [\"good!\", \"morn?ing\", \"good?!\", \"morniZZZZng\"]\n",
    "bad_chars = [\"!\" , \"?\" , \"Z\"]\n",
    "clean_strings = []\n",
    "\n",
    "for word in strings:\n",
    "    for char in bad_chars:\n",
    "        if char in word :\n",
    "            word = word.replace(char , \"\")\n",
    "    clean_strings.append(word)\n",
    "    \n",
    "clean_strings"
   ]
  },
  {
   "cell_type": "code",
   "execution_count": 115,
   "metadata": {},
   "outputs": [
    {
     "data": {
      "text/plain": [
       "['good', 'morning', 'good', 'morning']"
      ]
     },
     "execution_count": 115,
     "metadata": {},
     "output_type": "execute_result"
    }
   ],
   "source": [
    "def remove_bad_words(words , bad_chars):\n",
    "    cleaned_words =  []\n",
    "    for word in words :\n",
    "        for char in bad_chars:\n",
    "            if char in word :\n",
    "                word = word.replace(char , \"\")\n",
    "        cleaned_words.append(word)\n",
    "        \n",
    "    return cleaned_words\n",
    "\n",
    "names = remove_bad_words(strings , bad_chars = bad_chars)\n",
    "names"
   ]
  },
  {
   "cell_type": "code",
   "execution_count": 127,
   "metadata": {},
   "outputs": [],
   "source": [
    "test_data = [\"1912\", \"1929\", \"1913-1923\",\n",
    "             \"(1951)\", \"1994\", \"1934\",\n",
    "             \"c. 1915\", \"1995\", \"c. 1912\",\n",
    "             \"(1988)\", \"2002\", \"1957-1959\",\n",
    "             \"c. 1955.\", \"c. 1970's\", \n",
    "             \"C. 1990-1999\"]\n",
    "\n",
    "bad_chars2 = [\"(\",\")\",\"c\",\"C\",\".\",\"s\",\"'\", \" \"]\n",
    "\n",
    "dates = remove_bad_words(test_data , bad_chars2) \n",
    "\n",
    "for i in range(len(dates)):\n",
    "    if \"-\" in dates[i]:\n",
    "        a,b = dates[i].split(\"-\")\n",
    "        dates[i] = int((int(a) + int(b)) / 2)\n",
    "    else:\n",
    "        dates[i] = int(dates[i])\n",
    "        \n",
    "        \n"
   ]
  },
  {
   "cell_type": "code",
   "execution_count": 133,
   "metadata": {},
   "outputs": [],
   "source": [
    "def convert_date(date = \"1990-1995\"):\n",
    "    if \"-\" in date and date != None:\n",
    "        a = date.split(\"-\")\n",
    "        date = int((int(a) + int(b)) /2)\n",
    "    return date\n",
    "\n",
    "# convert_date(\"1995-1997\")  correct\n",
    "# convert_date(\"1994-1990-1950\")  sucks here"
   ]
  },
  {
   "cell_type": "markdown",
   "metadata": {},
   "source": [
    "> my function above is not general and it gives an error in an easy change in the parameter"
   ]
  },
  {
   "cell_type": "code",
   "execution_count": 139,
   "metadata": {},
   "outputs": [
    {
     "data": {
      "text/plain": [
       "100"
      ]
     },
     "execution_count": 139,
     "metadata": {},
     "output_type": "execute_result"
    }
   ],
   "source": [
    "# general function \n",
    "def convert_date(date_string = \"1995-1997\"):\n",
    "    s = 0\n",
    "    if \"-\" in date_string:\n",
    "        date_string =date_string.split(\"-\")\n",
    "    for each_date in date_string:\n",
    "        s += int(each_date)\n",
    "    avg = round(s / len(date_string))\n",
    "    \n",
    "    return avg\n",
    "\n",
    "convert_date(\"120-150-   30\")"
   ]
  },
  {
   "cell_type": "code",
   "execution_count": 160,
   "metadata": {},
   "outputs": [],
   "source": [
    "# apply on moma dataset\n",
    "a = [age for age in ages if age < 20 or age > 100 ]\n",
    "    \n"
   ]
  }
 ],
 "metadata": {
  "kernelspec": {
   "display_name": "Python 3",
   "language": "python",
   "name": "python3"
  },
  "language_info": {
   "codemirror_mode": {
    "name": "ipython",
    "version": 3
   },
   "file_extension": ".py",
   "mimetype": "text/x-python",
   "name": "python",
   "nbconvert_exporter": "python",
   "pygments_lexer": "ipython3",
   "version": "3.8.5"
  }
 },
 "nbformat": 4,
 "nbformat_minor": 4
}
