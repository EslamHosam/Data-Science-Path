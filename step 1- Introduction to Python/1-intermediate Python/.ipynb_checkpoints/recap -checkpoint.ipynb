{
 "cells": [
  {
   "cell_type": "markdown",
   "metadata": {},
   "source": [
    "### describe yourdata \n",
    "- Title: The title of the artwork.\n",
    "- Artist: The name of the artist who created the artwork.\n",
    "- Nationality: The nationality of the artist.\n",
    "- BeginDate: The year in which the artist was born.\n",
    "- EndDate: The year in which the artist died.\n",
    "- Gender: The gender of the artist.\n",
    "- Date: The date that the artwork was created.\n",
    "- Department: The department inside MoMA to which the artwork belongs."
   ]
  },
  {
   "cell_type": "code",
   "execution_count": 140,
   "metadata": {},
   "outputs": [
    {
     "name": "stdout",
     "output_type": "stream",
     "text": [
      "['Title', 'Artist', 'Nationality', 'BeginDate', 'EndDate', 'Gender', 'Date', 'Department']\n",
      "\n",
      " number of columns 8\n"
     ]
    }
   ],
   "source": [
    "from csv import reader \n",
    "#read your data and assign it into object\n",
    "read_file = reader(open(\"artworks.csv\" , encoding = \"utf-8\"))\n",
    "data = list(read_file)\n",
    "header = data[0]\n",
    "#dataset\n",
    "moma = data[1:]\n",
    "print(header)\n",
    "print(\"\\n number of columns\" , len(header))"
   ]
  },
  {
   "cell_type": "code",
   "execution_count": 141,
   "metadata": {},
   "outputs": [
    {
     "name": "stdout",
     "output_type": "stream",
     "text": [
      "[['Duplicate of plate from folio 11 verso (supplementary suite, plate 4) from ARDICIA', 'Pablo Palazuelo', '(Spanish)', '(1916)', '(2007)', '(Male)', '1978', 'Prints & Illustrated Books'], ['Tailpiece (page 55) from SAGESSE', 'Maurice Denis', '(French)', '(1870)', '(1943)', '(Male)', '1889-1911', 'Prints & Illustrated Books'], ['Headpiece (page 129) from LIVRET DE FOLASTRIES, À JANOT PARISIEN', 'Aristide Maillol', '(French)', '(1861)', '(1944)', '(Male)', '1927-1940', 'Prints & Illustrated Books']] \n",
      "\n",
      "he length of the data set s : 16725  rows\n"
     ]
    }
   ],
   "source": [
    "#display some rows\n",
    "print(moma[1:4] , \"\\n\")\n",
    "print(\"he length of the data set s :\", len(moma) , \" rows\")"
   ]
  },
  {
   "cell_type": "code",
   "execution_count": 142,
   "metadata": {},
   "outputs": [
    {
     "name": "stdout",
     "output_type": "stream",
     "text": [
      "['(Female)', '(Male)', '()', '(male)']\n"
     ]
    }
   ],
   "source": [
    "#check the values in gender column\n",
    "gender_unique = []\n",
    "for row in moma:\n",
    "    gender = row[5]\n",
    "    if gender not in gender_unique:\n",
    "        gender_unique.append(gender)\n",
    "        \n",
    "print(gender_unique)\n"
   ]
  },
  {
   "cell_type": "markdown",
   "metadata": {},
   "source": [
    "- we can see the values inside the column not appropiate values so we need to clean the column"
   ]
  },
  {
   "cell_type": "code",
   "execution_count": 143,
   "metadata": {},
   "outputs": [
    {
     "data": {
      "text/plain": [
       "'Eslam Hosam Soliman'"
      ]
     },
     "execution_count": 143,
     "metadata": {},
     "output_type": "execute_result"
    }
   ],
   "source": [
    "#build a function to clean the column\n",
    "def clean_column(value):\n",
    "    value = value.replace(\"(\" , \"\")\n",
    "    value = value.replace(\")\" , \"\")\n",
    "    value = value.title()\n",
    "    \n",
    "    return value\n",
    "clean_column(\"(eslam hosam soliman)\")"
   ]
  },
  {
   "cell_type": "code",
   "execution_count": 144,
   "metadata": {},
   "outputs": [
    {
     "name": "stdout",
     "output_type": "stream",
     "text": [
      "['Female', 'Male', '']\n"
     ]
    }
   ],
   "source": [
    "#clean gender column \n",
    "for row in moma:\n",
    "    gender = row[5]\n",
    "    gender = clean_column(gender)\n",
    "    row[5] = gender\n",
    "\n",
    "#check unique values again\n",
    "gender_unique = []\n",
    "for row in moma:\n",
    "    gender = row[5]\n",
    "    if gender not in gender_unique:\n",
    "        gender_unique.append(gender)\n",
    "        \n",
    "print(gender_unique)"
   ]
  },
  {
   "cell_type": "markdown",
   "metadata": {},
   "source": [
    "- now we have cleaned the gender column and we need only to handle the missing values"
   ]
  },
  {
   "cell_type": "code",
   "execution_count": 145,
   "metadata": {},
   "outputs": [
    {
     "name": "stdout",
     "output_type": "stream",
     "text": [
      "French\n",
      "American\n",
      "American\n",
      "American\n",
      "American\n"
     ]
    }
   ],
   "source": [
    "#clean nationality column \n",
    "for row in moma:\n",
    "    nat = row[2]\n",
    "    nat = clean_column(nat)\n",
    "    row[2] = nat\n",
    "    \n",
    "#check a data point \n",
    "for i in range(50,55):\n",
    "    print(moma[i][2])"
   ]
  },
  {
   "cell_type": "markdown",
   "metadata": {},
   "source": [
    "- can you answer my question ?! how many nationalities are there in this data"
   ]
  },
  {
   "cell_type": "code",
   "execution_count": 146,
   "metadata": {},
   "outputs": [
    {
     "name": "stdout",
     "output_type": "stream",
     "text": [
      "['American', 'Spanish', 'French', 'South African', 'Canadian', 'Czech', 'Belgian', 'Russian', 'British', 'German', '', 'Swiss', 'Polish', 'Japanese', 'Portuguese', 'Austrian', 'Australian', 'Italian', 'Chilean', 'Colombian', 'Mexican', 'Brazilian', 'Dutch', 'Romanian', 'Venezuelan', 'Korean', 'Israeli', 'Argentine', 'Indian', 'Nationality Unknown', 'Swedish', 'Yugoslav', 'Cuban', 'Various', 'Luxembourgish', 'Croatian', 'Bulgarian', 'Hungarian', 'Georgian', 'Puerto Rican', 'Danish', 'Serbian', 'Pakistani', 'Ecuadorian', 'Chinese', 'Iranian', 'Finnish', 'Lebanese', 'Thai', 'Cambodian', 'Scottish', 'Kenyan', 'Latvian', 'Sudanese', 'Uruguayan', 'Peruvian', 'New Zealander', 'Moroccan', 'Guatemalan', 'Cameroonian', 'Egyptian', 'Nigerian', 'Icelandic', 'Haitian', 'Tajik', 'Irish', 'Norwegian', 'Costa Rican', 'Slovenian', 'Turkish', 'Mozambican', 'Palestinian', 'Ukrainian', 'Angolan', 'Tunisian', 'Greek', 'Zimbabwean', 'Bahamian', 'Vietnamese', 'Panamanian', 'Canadian Inuit', 'Malian', 'Filipino'] \n",
      " 83\n"
     ]
    }
   ],
   "source": [
    "nat_unique = []\n",
    "for row in moma:\n",
    "    nat = row[2]\n",
    "    if nat not in nat_unique:\n",
    "        nat_unique.append(nat)\n",
    "print(nat_unique ,\"\\n\" , len(nat_unique))"
   ]
  },
  {
   "cell_type": "markdown",
   "metadata": {},
   "source": [
    "- yes the answer is 83 nationalities in our data"
   ]
  },
  {
   "cell_type": "markdown",
   "metadata": {},
   "source": [
    "- I think here it is okay to handle the null values also lets check in gender"
   ]
  },
  {
   "cell_type": "code",
   "execution_count": 147,
   "metadata": {},
   "outputs": [
    {
     "name": "stdout",
     "output_type": "stream",
     "text": [
      "['Female', 'Male', 'UNKNOWN']\n"
     ]
    }
   ],
   "source": [
    "#fill the null values in a column with the value that u want\n",
    "for row in moma:\n",
    "    gender = row[5]\n",
    "    if gender == \"\":\n",
    "        gender = \"UNKNOWN\"\n",
    "    row[5] = gender\n",
    "    \n",
    "#check the unique values\n",
    "gender_unique = []\n",
    "for row in moma:\n",
    "    gender = row[5]\n",
    "    if gender not in gender_unique:\n",
    "        gender_unique.append(gender)\n",
    "        \n",
    "print(gender_unique)"
   ]
  },
  {
   "cell_type": "markdown",
   "metadata": {},
   "source": [
    "- easy way to handle the missing values till we reach pandas"
   ]
  },
  {
   "cell_type": "code",
   "execution_count": 148,
   "metadata": {},
   "outputs": [
    {
     "name": "stdout",
     "output_type": "stream",
     "text": [
      "['(1947)', '(2013)']\n",
      "['(1916)', '(2007)']\n",
      "['(1870)', '(1943)']\n",
      "['(1861)', '(1944)']\n",
      "['(1857)', '(1927)']\n",
      "['(1919)', '(2013)']\n",
      "['(1857)', '(1927)']\n",
      "['(1928)', '(1984)']\n",
      "['(1964)', '']\n",
      "['(1882)', '(1953)']\n"
     ]
    }
   ],
   "source": [
    "#identify the date columns \n",
    "for row in moma[0:10]:\n",
    "    birth_date = row[3]\n",
    "    death_date = row[4]\n",
    "    print([birth_date , death_date])\n",
    "    "
   ]
  },
  {
   "cell_type": "markdown",
   "metadata": {},
   "source": [
    "- we can see missing values and also we need to convert the dates to numbers not strings"
   ]
  },
  {
   "cell_type": "code",
   "execution_count": 149,
   "metadata": {},
   "outputs": [
    {
     "name": "stdout",
     "output_type": "stream",
     "text": [
      "[1887, <class 'int'>, 1985, <class 'int'>]\n",
      "[1925, <class 'int'>, 2008, <class 'int'>]\n",
      "[1938, <class 'int'>, 2011, <class 'int'>]\n",
      "[1929, <class 'int'>, 2020, <class 'int'>]\n",
      "[1936, <class 'int'>, 2020, <class 'int'>]\n",
      "[1857, <class 'int'>, 1927, <class 'int'>]\n",
      "[1948, <class 'int'>, 2020, <class 'int'>]\n",
      "[1886, <class 'int'>, 1969, <class 'int'>]\n",
      "[1868, <class 'int'>, 1941, <class 'int'>]\n",
      "[1931, <class 'int'>, 1978, <class 'int'>]\n"
     ]
    }
   ],
   "source": [
    "#build another function to clean the date columns\n",
    "def clean_dates(date):\n",
    "    if date != \"\":\n",
    "        date = date.replace(\"(\", \"\")\n",
    "        date = date.replace(\")\" , \"\")\n",
    "        date = int(date)\n",
    "    else:\n",
    "        date = 2020\n",
    "    return date\n",
    "\n",
    "# apply the function on the date to clean your column\n",
    "for row in moma:\n",
    "    birth_date = clean_dates(row[3])\n",
    "    death_date = clean_dates(row[4])\n",
    "    row[3] = birth_date\n",
    "    row[4] = death_date\n",
    "    \n",
    "    \n",
    "for i in range(50 , 60):\n",
    "    print([moma[i][3] , type(moma[i][3]) , moma[i][4] , type(moma[i][4])])"
   ]
  },
  {
   "cell_type": "markdown",
   "metadata": {},
   "source": [
    "- yes mission completed and we cleaned the dates columns what next"
   ]
  },
  {
   "cell_type": "code",
   "execution_count": 150,
   "metadata": {},
   "outputs": [],
   "source": [
    "#to check the null values and the empty values inside the columns and if the type is integer or not\n",
    "for row in moma:\n",
    "    birth_date = row[3]\n",
    "    death_date = row[4]\n",
    "    if birth_date == \"\" or birth_date == None or type(birth_date) != int:\n",
    "        print(birth_date)\n",
    "    if death_date == \"\" or death_date == None or type(birth_date) != int:\n",
    "        print(death_date)\n",
    "        "
   ]
  },
  {
   "cell_type": "markdown",
   "metadata": {},
   "source": [
    "- cleaned date columns the begin date column and end date column no empty no null values"
   ]
  },
  {
   "cell_type": "code",
   "execution_count": 151,
   "metadata": {},
   "outputs": [
    {
     "name": "stdout",
     "output_type": "stream",
     "text": [
      "[104, 150, 159, 163, 101, 163, 92, 56, 138, 119, 85, 149, 126, 65, 142, 93, 84, 153, 88]\n",
      "\n",
      " [60, 60, 60, 60, 60, 60, 92, 56, 60, 60, 85, 60, 60, 65, 60, 93, 84, 60, 88]\n"
     ]
    }
   ],
   "source": [
    "# calculate the age of each artist\n",
    "ages = []\n",
    "for row in moma:\n",
    "    birth_date = row[3]\n",
    "    deat_date = row[4]\n",
    "    artist_age = death_date - birth_date\n",
    "    ages.append(artist_age)\n",
    "print(ages[1:20])\n",
    "#clean more because u added 2020\n",
    "for i in range(len(ages)):\n",
    "    if ages[i] > 100:\n",
    "        ages[i] =60\n",
    "print(\"\\n\" , ages[1:20])"
   ]
  },
  {
   "cell_type": "code",
   "execution_count": 152,
   "metadata": {},
   "outputs": [
    {
     "data": {
      "text/plain": [
       "[0, 0, 0, 5, 8]"
      ]
     },
     "execution_count": 152,
     "metadata": {},
     "output_type": "execute_result"
    }
   ],
   "source": [
    "my_list = [1 , 2 , 3 , 5 , 8]\n",
    "\n",
    "#replace an item from list directly\n",
    "for i in range(len(my_list)):\n",
    "    if my_list[i] < 5 :\n",
    "        my_list[i] = 0\n",
    "my_list"
   ]
  },
  {
   "cell_type": "markdown",
   "metadata": {},
   "source": [
    "### parsing numbers from strings"
   ]
  },
  {
   "cell_type": "code",
   "execution_count": 153,
   "metadata": {},
   "outputs": [
    {
     "data": {
      "text/plain": [
       "['good', 'morning', 'good', 'morning']"
      ]
     },
     "execution_count": 153,
     "metadata": {},
     "output_type": "execute_result"
    }
   ],
   "source": [
    "strings = [\"good!\", \"morn?ing\", \"good?!\", \"morniZZZZng\"]\n",
    "bad_chars = [\"!\" , \"?\" , \"Z\"]\n",
    "\n",
    "for i in range(len(strings)):\n",
    "    for j in range(len(bad_chars)):\n",
    "        if bad_chars[j] in strings[i]:\n",
    "            strings[i] = strings[i].replace(bad_chars[j] , \"\")\n",
    "strings\n"
   ]
  },
  {
   "cell_type": "code",
   "execution_count": 154,
   "metadata": {},
   "outputs": [
    {
     "name": "stdout",
     "output_type": "stream",
     "text": [
      "['good', 'morning', 'good', 'morning']\n"
     ]
    }
   ],
   "source": [
    "# but the importance of using the functions comes here to generalize the work\n",
    "#build a general function to clean any string has bad characters or un wanted \n",
    "strings2 = [\"good!\", \"morn?ing\", \"good?!\", \"morniZZZZng\"]\n",
    "def clean_bad_chars(string):\n",
    "    for char in bad_chars:\n",
    "        if char in string:\n",
    "            string = string.replace(char , \"\")\n",
    "    return string\n",
    "cleaned = []\n",
    "for s in strings2:\n",
    "    k = clean_bad_chars(s)\n",
    "    cleaned.append(k)\n",
    "    \n",
    "print(cleaned)"
   ]
  },
  {
   "cell_type": "code",
   "execution_count": 155,
   "metadata": {},
   "outputs": [
    {
     "name": "stdout",
     "output_type": "stream",
     "text": [
      "['1912', '1929', '1913-1923', '1951', '1994', '1934', '1915', '1995', '1912', '1988', '2002', '1957-1959', '1955', '1970', '1990-1999']\n"
     ]
    }
   ],
   "source": [
    "# try the idea for small list of elements\n",
    "\n",
    "test_data = [\"1912\", \"1929\", \"1913-1923\",\n",
    "             \"(1951)\", \"1994\", \"1934\",\n",
    "             \"c. 1915\", \"1995\", \"c. 1912\",\n",
    "             \"(1988)\", \"2002\", \"1957-1959\",\n",
    "             \"c. 1955.\", \"c. 1970's\", \n",
    "             \"C. 1990-1999\"]\n",
    "\n",
    "bad_chars2 = [\"(\",\")\",\"c\",\"C\",\".\",\"s\",\"'\", \" \"]\n",
    "\n",
    "def strip_character(string):\n",
    "    for char in bad_chars2 : \n",
    "        if char in string:\n",
    "            string = string.replace(char , \"\")\n",
    "    return string\n",
    "\n",
    "clean_values = []\n",
    "for value in test_data:\n",
    "    value = strip_character(value)\n",
    "    clean_values.append(value)\n",
    "    \n",
    "print(clean_values)"
   ]
  },
  {
   "cell_type": "code",
   "execution_count": 156,
   "metadata": {},
   "outputs": [
    {
     "data": {
      "text/plain": [
       "2022"
      ]
     },
     "execution_count": 156,
     "metadata": {},
     "output_type": "execute_result"
    }
   ],
   "source": [
    "# build function to parse the numbers from strings (1999 - 2020)\n",
    "def convert_date(date_string = \"1995-2020\"):\n",
    "    s = 0\n",
    "    if \"-\" in date_string:\n",
    "        date_string = date_string.split(\"-\")\n",
    "        for i in date_string:\n",
    "            s += int(i)\n",
    "        avg = s / len(date_string)\n",
    "        date_string = round(avg)\n",
    "        \n",
    "    return date_string\n",
    "\n",
    "convert_date(\"2020-2015 -2030\") "
   ]
  },
  {
   "cell_type": "code",
   "execution_count": 157,
   "metadata": {},
   "outputs": [
    {
     "name": "stdout",
     "output_type": "stream",
     "text": [
      "1986\n",
      "1978\n",
      "1900\n",
      "1934\n",
      "1903\n",
      "1957\n",
      "1924\n",
      "1980\n",
      "2001\n",
      "1941\n"
     ]
    }
   ],
   "source": [
    "# apply on your data \n",
    "for row in moma:\n",
    "    art_date = row[6]\n",
    "    art_date= strip_character(art_date)\n",
    "    art_date = convert_date(art_date)\n",
    "    row[6] = art_date\n",
    "\n",
    "for i in range(10):\n",
    "    print(moma[i][6])"
   ]
  },
  {
   "cell_type": "code",
   "execution_count": 165,
   "metadata": {},
   "outputs": [
    {
     "name": "stdout",
     "output_type": "stream",
     "text": [
      "16725\n"
     ]
    }
   ],
   "source": [
    "#final ages \n",
    "final_ages = []\n",
    "for age in ages :\n",
    "    if age > 20:\n",
    "        f = age\n",
    "    else:\n",
    "        f = \"UNKNOWN\"\n",
    "    final_ages.append(f)\n",
    "\n",
    "        \n",
    "print(len(final_ages))"
   ]
  },
  {
   "cell_type": "markdown",
   "metadata": {},
   "source": [
    "- convert the ages list to decades"
   ]
  },
  {
   "cell_type": "code",
   "execution_count": 172,
   "metadata": {},
   "outputs": [
    {
     "name": "stdout",
     "output_type": "stream",
     "text": [
      "['70s', '60s', '60s', '60s', '60s', '60s', '60s', '90s', '50s', '60s']\n"
     ]
    }
   ],
   "source": [
    "#convert the numbers to string and then parse t \n",
    "decades = []\n",
    "for age in final_ages:\n",
    "    if age != \"UNKNOWN\":\n",
    "        age = str(age)\n",
    "        age = age[:-1]\n",
    "        age += \"0s\"\n",
    "        decades.append(age)\n",
    "print(decades[:10])"
   ]
  },
  {
   "cell_type": "code",
   "execution_count": 174,
   "metadata": {},
   "outputs": [
    {
     "name": "stdout",
     "output_type": "stream",
     "text": [
      "{'70s': 1598, '60s': 9232, '90s': 1797, '50s': 682, '80s': 2015, '40s': 334, '30s': 28, '100s': 86, '20s': 9}\n",
      "9\n"
     ]
    }
   ],
   "source": [
    "#summarize all these decades by making a frequency table for all of them\n",
    "decades_freq = {}\n",
    "\n",
    "for d in decades:\n",
    "    if d not in decades_freq:\n",
    "        decades_freq[d] = 1\n",
    "    else:\n",
    "        decades_freq[d] += 1\n",
    "print(decades_freq)\n",
    "print(len(decades_freq))"
   ]
  },
  {
   "cell_type": "markdown",
   "metadata": {},
   "source": [
    "- insert values inside strings uding formatting"
   ]
  },
  {
   "cell_type": "code",
   "execution_count": 176,
   "metadata": {},
   "outputs": [
    {
     "name": "stdout",
     "output_type": "stream",
     "text": [
      "eslam is 26 YO\n",
      "eslam hosam is an egyptian student he is 26 he came to study in india\n"
     ]
    }
   ],
   "source": [
    "my_age = 26\n",
    "\n",
    "print(f'eslam is {my_age} YO')\n",
    "\n",
    "print(\"eslam {} is an {} student he is {} \\\n",
    "he came to study in {}\".format(\"hosam\" , \"egyptian\" , 26, \"india\" ))"
   ]
  },
  {
   "cell_type": "code",
   "execution_count": 179,
   "metadata": {},
   "outputs": [
    {
     "data": {
      "text/plain": [
       "129"
      ]
     },
     "execution_count": 179,
     "metadata": {},
     "output_type": "execute_result"
    }
   ],
   "source": [
    "artist_table = {}\n",
    "\n",
    "for row in moma:\n",
    "    name = row[1]\n",
    "    if name not in artist_table:\n",
    "        artist_table[name] = 1\n",
    "    else:\n",
    "        artist_table[name]+= 1\n",
    "        \n",
    "artist_table[\"Henri Matisse\"]"
   ]
  },
  {
   "cell_type": "code",
   "execution_count": 183,
   "metadata": {},
   "outputs": [
    {
     "data": {
      "text/plain": [
       "'there are 5 artworks by Vicente Rojo in the data'"
      ]
     },
     "execution_count": 183,
     "metadata": {},
     "output_type": "execute_result"
    }
   ],
   "source": [
    "def artist_summary(name):\n",
    "    artist_works = artist_table[name]\n",
    "    template = \"there are {} artworks by {} in the data\".format(artist_works , name)\n",
    "    \n",
    "    return template\n",
    "artist_summary(\"Henri Matisse\")\n",
    "artist_summary(\"Vicente Rojo\")"
   ]
  },
  {
   "cell_type": "code",
   "execution_count": 193,
   "metadata": {},
   "outputs": [
    {
     "name": "stdout",
     "output_type": "stream",
     "text": [
      "he population of China is 1,379.3028\n",
      "he population of India is 1,281.9360\n",
      "he population of USA is 326.6258\n",
      "he population of Indonesia is 260.5807\n",
      "he population of Brazil is 207.3534\n"
     ]
    }
   ],
   "source": [
    "#format numbers inside strings\n",
    "pop_millions = [\n",
    "    [\"China\", 1379.302771],\n",
    "    [\"India\", 1281.935991],\n",
    "    [\"USA\",  326.625791],\n",
    "    [\"Indonesia\",  260.580739],\n",
    "    [\"Brazil\",  207.353391],\n",
    "]\n",
    "\n",
    "template = \"he population of {} is {:,.4f}\"\n",
    "for i in pop_millions:\n",
    "    print(template.format(i[0] , i[1]))"
   ]
  },
  {
   "cell_type": "code",
   "execution_count": 197,
   "metadata": {},
   "outputs": [
    {
     "name": "stdout",
     "output_type": "stream",
     "text": [
      "there are 2443 in moma by Female\n",
      "there are 13491 in moma by Male\n",
      "there are 791 in moma by UNKNOWN\n"
     ]
    }
   ],
   "source": [
    "#summarize gender column\n",
    "\n",
    "gender_freq = {}\n",
    "\n",
    "for row in moma:\n",
    "    gender = row[5]\n",
    "    if gender not in gender_freq:\n",
    "        gender_freq[gender] = 1\n",
    "    else:\n",
    "        gender_freq[gender]+= 1\n",
    "        \n",
    "template = \"there are {} in moma by {}\"\n",
    "\n",
    "for k ,m in gender_freq.items():\n",
    "    print(template.format(m , k))"
   ]
  },
  {
   "cell_type": "markdown",
   "metadata": {},
   "source": [
    "## object oriented concepts"
   ]
  },
  {
   "cell_type": "code",
   "execution_count": null,
   "metadata": {},
   "outputs": [],
   "source": []
  }
 ],
 "metadata": {
  "kernelspec": {
   "display_name": "Python 3",
   "language": "python",
   "name": "python3"
  },
  "language_info": {
   "codemirror_mode": {
    "name": "ipython",
    "version": 3
   },
   "file_extension": ".py",
   "mimetype": "text/x-python",
   "name": "python",
   "nbconvert_exporter": "python",
   "pygments_lexer": "ipython3",
   "version": "3.7.4"
  }
 },
 "nbformat": 4,
 "nbformat_minor": 2
}
