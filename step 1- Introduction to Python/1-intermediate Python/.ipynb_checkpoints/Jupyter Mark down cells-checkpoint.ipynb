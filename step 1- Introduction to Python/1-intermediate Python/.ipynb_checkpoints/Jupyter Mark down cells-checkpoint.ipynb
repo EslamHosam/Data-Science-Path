{
 "cells": [
  {
   "cell_type": "markdown",
   "metadata": {},
   "source": [
    "**here is we are gonna practice some mark down writing like HTML**\n",
    "#  1.headers"
   ]
  },
  {
   "cell_type": "markdown",
   "metadata": {},
   "source": [
    "# I am eslam hosam soliman\n",
    "## I am eslam hosam soliman\n",
    "### the coming is different\n",
    "\n",
    "<h1> header </h1>\n",
    "<h2>header 2 </h2>"
   ]
  },
  {
   "cell_type": "markdown",
   "metadata": {},
   "source": [
    "\n",
    "    \n"
   ]
  },
  {
   "cell_type": "markdown",
   "metadata": {},
   "source": [
    "**block quotes**\n",
    "\n",
    ">I am eslam ibn hosam ibn soliman el said soliman i came from small village in egypt to study here in India and to improve my life and to improve my personal traits and i hope I achieve what i came for it and I am doing good alhamdullah\n",
    "\n",
    "**the use of block quotes**\n",
    "> we can use the block quotes to explain something in our code or analysisit is very helpful\n"
   ]
  },
  {
   "cell_type": "markdown",
   "metadata": {},
   "source": [
    "## Code Section\n",
    "\n",
    "`x =  5\n",
    "z = 2\n",
    "y = x + z\n",
    "def sum_numbers(number):\n",
    "    pass`\n",
    "    \n",
    "`string = \"eslam hosam\"\n",
    "print(string)`\n",
    "    \n",
    "<code>x = 5\n",
    "string = \"eslam\"\n",
    "concat = string + x</code>"
   ]
  },
  {
   "cell_type": "markdown",
   "metadata": {},
   "source": [
    "<h4>Mathematical symbols </h4>"
   ]
  },
  {
   "cell_type": "markdown",
   "metadata": {},
   "source": [
    "put math symbol $\\sqrt{x}$ during string\n",
    "\n",
    "- write an equation like this $(x = y +2)$ it is amazing equation mr hosam \n",
    "\n",
    "-  another equation $ x + 2^2 = 14$"
   ]
  },
  {
   "cell_type": "markdown",
   "metadata": {},
   "source": [
    "**Line Break**\n",
    "\n",
    "here is the line break to go to next line <br> and here another one mrs eslam hosam soliman<br>boooo\n",
    "\n",
    "\n",
    "- here is the **bold text** and u can __use__ the (_) or maybe u <b> can</b> like this one\n",
    "\n",
    "1. **this is bold text**\n",
    "2. __this is a bold text__\n",
    "3. <b>this is a bold text</b>\n",
    "\n",
    "4. *this is italic text*\n",
    "5.<i>yhis is italic text</i>\n",
    "6._this **is** italic text_\n",
    "\n"
   ]
  },
  {
   "cell_type": "markdown",
   "metadata": {},
   "source": [
    "---\n",
    "## Horizental line\n",
    "---\n",
    "<hr>\n",
    "\n",
    "<hr>\n",
    "\n",
    "### ordered list\n",
    "\n",
    "<ol>\n",
    "    <li>html</li>\n",
    "    <li>css</li>\n",
    "    <li>Js</li>\n",
    "</ol>\n",
    "        \n",
    "**another way to do**\n",
    "1. first choice\n",
    "2. second choice\n",
    "3. third choice\n",
    "\n",
    "\n",
    "**unordered list**\n",
    "<ul>\n",
    "    <li>pandas</li>\n",
    "    <li>numpy</li>\n",
    "    <li>matplotlib</li>\n",
    "</ul>\n",
    "\n",
    "\n",
    "**another way for un ordered list**\n",
    "- pandas\n",
    "- numpy\n",
    "- matplotlib.pyplot\n",
    "- or try this one\n",
    "<hr>\n",
    "* nice way\n",
    "* three ways now to do\n",
    "* nice choice"
   ]
  },
  {
   "cell_type": "markdown",
   "metadata": {},
   "source": [
    "**internal and external link**\n",
    "\n",
    "* internal first\n",
    "\n",
    "<a id = \"division_ID\">mylink</a> <br>\n",
    "\n",
    "\n",
    "how to go for the id in your link\n",
    "[Section title](#division_ID)\n",
    "\n",
    "* external links\n",
    "\n",
    "<a href=\"https://www.google.com\" >Link to Google</a>\n",
    "\n",
    "<a href = \"https://www.datacamp.com/community/tutorials/markdown-in-jupyter-notebook\">data camp</a>"
   ]
  },
  {
   "cell_type": "markdown",
   "metadata": {},
   "source": [
    "**Tables**\n",
    "\n",
    "|Name|Address|Salary| |-----|-------|------| |Hanna|Brisbane|4000| |Adam|Sydney|5000|\n",
    "\n",
    "\n",
    "<table style = \"width:20%\">\n",
    "    <tr![father.jpg](attachment:father.jpg)>\n",
    "    <th>Name</th>\n",
    "    <th>Address</th>\n",
    "    <th>Salary</th>\n",
    "    </tr>\n",
    "    \n",
    "    <tr>\n",
    "    <td>Hanna</td>\n",
    "    <td>Brisbane</td>\n",
    "    <td>4000</td>\n",
    "    </tr>\n",
    "  \n",
    "</table>"
   ]
  },
  {
   "cell_type": "markdown",
   "metadata": {},
   "source": [
    "**images**\n",
    "\n",
    "<img src=\"https://i.imgur.com/WWrydEh.png\" width =\"500\" height=500 >\n",
    "\n",
    "| Syntax | Description |\n",
    "| ----------- | ----------- |\n",
    "| Header | Title |\n",
    "| Paragraph | Text |\n"
   ]
  },
  {
   "cell_type": "code",
   "execution_count": null,
   "metadata": {},
   "outputs": [],
   "source": []
  }
 ],
 "metadata": {
  "kernelspec": {
   "display_name": "Python 3",
   "language": "python",
   "name": "python3"
  },
  "language_info": {
   "codemirror_mode": {
    "name": "ipython",
    "version": 3
   },
   "file_extension": ".py",
   "mimetype": "text/x-python",
   "name": "python",
   "nbconvert_exporter": "python",
   "pygments_lexer": "ipython3",
   "version": "3.8.5"
  }
 },
 "nbformat": 4,
 "nbformat_minor": 4
}
