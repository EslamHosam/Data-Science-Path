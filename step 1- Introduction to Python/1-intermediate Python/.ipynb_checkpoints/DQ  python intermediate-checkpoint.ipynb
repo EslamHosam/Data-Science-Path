{
 "cells": [
  {
   "cell_type": "code",
   "execution_count": 1,
   "metadata": {},
   "outputs": [
    {
     "name": "stdout",
     "output_type": "stream",
     "text": [
      "['Title', 'Artist', 'Nationality', 'BeginDate', 'EndDate', 'Gender', 'Date', 'Department'] \n",
      " ['Plate (folio 35) from ACORDE', 'Vicente Rojo', '(Spanish)', '(1932)', '', '(Male)', '1979', 'Prints & Illustrated Books']\n"
     ]
    }
   ],
   "source": [
    "from csv import reader\n",
    "\n",
    "opened_file = open(\"artworks.csv\" ,  encoding=\"utf8\" )\n",
    "read_file = reader(opened_file)\n",
    "art_works = list(read_file)\n",
    "header = art_works[0]\n",
    "\n",
    "\n",
    "moma = art_works[1:] # my dataset\n",
    "print(header , \"\\n\" , moma[19])"
   ]
  },
  {
   "cell_type": "code",
   "execution_count": 2,
   "metadata": {},
   "outputs": [
    {
     "name": "stdout",
     "output_type": "stream",
     "text": [
      "16725\n"
     ]
    }
   ],
   "source": [
    "print(len(moma))\n"
   ]
  },
  {
   "cell_type": "code",
   "execution_count": 3,
   "metadata": {},
   "outputs": [
    {
     "data": {
      "text/plain": [
       "'1999'"
      ]
     },
     "execution_count": 3,
     "metadata": {},
     "output_type": "execute_result"
    }
   ],
   "source": [
    "# clean the gender and nationality columns\n",
    "# function to clean the column\n",
    "def clean_column(column_value):\n",
    "    column_value = column_value.replace(\"(\", \"\")\n",
    "    column_value = column_value.replace(\")\" , \"\")\n",
    "    column_value = column_value.title()\n",
    "    \n",
    "    return column_value\n",
    "\n",
    "clean_column(\"1999\")"
   ]
  },
  {
   "cell_type": "code",
   "execution_count": 4,
   "metadata": {},
   "outputs": [
    {
     "name": "stdout",
     "output_type": "stream",
     "text": [
      "Swiss\n",
      "Unknown nationality\n",
      "German\n",
      "American\n",
      "American\n",
      "American\n",
      "French\n",
      "American\n",
      "American\n",
      "American\n",
      " \n",
      " number of nationalities is 83\n"
     ]
    }
   ],
   "source": [
    "#clean the nationality column\n",
    "\n",
    "for row in moma:\n",
    "    nat = row[2]\n",
    "    nat = clean_column(nat)\n",
    "    if nat == \"\":\n",
    "        nat = \"Unknown nationality\"\n",
    "    row[2] = nat\n",
    "\n",
    "for i in range(500,510):\n",
    "    print(moma[i][2])\n",
    "    \n",
    "#how many nationalities are there\n",
    "mynat = []\n",
    "for row in moma:\n",
    "    nat = row[2]\n",
    "    if nat not in mynat:\n",
    "        mynat.append(nat)\n",
    "   # print([nat , gender])\n",
    "print(f' \\n number of nationalities is {len(mynat)}')"
   ]
  },
  {
   "cell_type": "code",
   "execution_count": 5,
   "metadata": {},
   "outputs": [
    {
     "data": {
      "text/plain": [
       "['Female', 'Male', 'Unknown']"
      ]
     },
     "execution_count": 5,
     "metadata": {},
     "output_type": "execute_result"
    }
   ],
   "source": [
    "g_lst = []\n",
    "#clean gender column and check unique values\n",
    "for row in moma:\n",
    "    gender = row[5]\n",
    "    gender = clean_column(gender)\n",
    "    if gender == \"\":\n",
    "        gender = \"Unknown\"  \n",
    "    row[5] = gender\n",
    "    if gender not in g_lst:\n",
    "        g_lst.append(gender)\n",
    "\n",
    "        \n",
    "g_lst # check the values in column "
   ]
  },
  {
   "cell_type": "code",
   "execution_count": 6,
   "metadata": {},
   "outputs": [
    {
     "name": "stdout",
     "output_type": "stream",
     "text": [
      "['(1947)', '(2013)']\n",
      "['(1916)', '(2007)']\n",
      "['(1870)', '(1943)']\n",
      "['(1861)', '(1944)']\n",
      "['(1857)', '(1927)']\n",
      "['(1919)', '(2013)']\n",
      "['(1857)', '(1927)']\n",
      "['(1928)', '(1984)']\n",
      "['(1964)', '']\n",
      "['(1882)', '(1953)']\n"
     ]
    }
   ],
   "source": [
    "# start cleaning the date column and see some errors \n",
    "\n",
    "for row in moma[:10]:\n",
    "    birth_date = row[3]\n",
    "    death_date = row[4]\n",
    "    print([birth_date , death_date])\n",
    "    \n",
    "# we can see some empty values or missing data"
   ]
  },
  {
   "cell_type": "code",
   "execution_count": 7,
   "metadata": {},
   "outputs": [
    {
     "data": {
      "text/plain": [
       "''"
      ]
     },
     "execution_count": 7,
     "metadata": {},
     "output_type": "execute_result"
    }
   ],
   "source": [
    "# build a function to clean the date column \n",
    "def clean_date(date):\n",
    "    if date != \"\":\n",
    "        date = str(date) # because some int values among the strings so i need all strings type\n",
    "        date = date.replace(\")\" , \"\")\n",
    "        date = date.replace(\"(\", \"\")\n",
    "        if date == \"None\": # to handle the none values\n",
    "            date = 2020\n",
    "            \n",
    "        date = int(date)\n",
    "    return date\n",
    "\n",
    "clean_date(\"\")"
   ]
  },
  {
   "cell_type": "code",
   "execution_count": 8,
   "metadata": {},
   "outputs": [],
   "source": [
    "# check for the None values in the birth date column and death date column\n",
    "mylst = []\n",
    "m_lst = []\n",
    "for row in moma:\n",
    "    birth_date = row[3]\n",
    "    death_date = row[4]\n",
    "    if birth_date == None:\n",
    "        birth_date = 1\n",
    "        mylst.append(birth_date)\n",
    "    if death_date == None:\n",
    "        m_lst.append(death_date)\n",
    "        \n"
   ]
  },
  {
   "cell_type": "code",
   "execution_count": 9,
   "metadata": {},
   "outputs": [],
   "source": [
    "# clean the begin date and end date columns\n",
    "for row in moma:\n",
    "    birth_date = row[3]\n",
    "    death_date = row[4]\n",
    "    birth_date = clean_date(birth_date)\n",
    "    death_date = clean_date(death_date)\n",
    "    row[3] = birth_date\n",
    "    row[4] = death_date\n",
    "    \n",
    "#     if type(birth_date) != int or type(death_date) != int:\n",
    "#         print(birth_date , type(birth_date) , death_date , type(death_date))\n",
    "#     age = death_date - birth_date\n",
    "#     print(age)\n",
    "\n"
   ]
  },
  {
   "cell_type": "code",
   "execution_count": 10,
   "metadata": {},
   "outputs": [
    {
     "data": {
      "text/plain": [
       "['good', 'morning', 'good', 'morning']"
      ]
     },
     "execution_count": 10,
     "metadata": {},
     "output_type": "execute_result"
    }
   ],
   "source": [
    "# parsing numbers from complex string idea first \n",
    "\n",
    "strings = [\"good!\", \"morn?ing\", \"good?!\", \"morniZZZZng\"]\n",
    "bad_chars = [\"!\", \"?\", \"Z\"]\n",
    "\n",
    "def remove_bad(string):\n",
    "    for char in bad_chars:\n",
    "        if char in string:\n",
    "            string = string.replace(char , \"\")\n",
    "            \n",
    "    return string\n",
    "clean_lst = []\n",
    "for word in strings:\n",
    "    a = remove_bad(word)\n",
    "    clean_lst.append(a)\n",
    "    \n",
    "clean_lst"
   ]
  },
  {
   "cell_type": "code",
   "execution_count": 11,
   "metadata": {},
   "outputs": [],
   "source": [
    "date_bad_chars = [\"(\",\")\",\"c\",\"C\",\".\",\"s\",\"'\", \" \"]\n",
    "#cleaning function:\n",
    "\n",
    "def clean_date(date):\n",
    "    for char in date_bad_chars:\n",
    "        if char in date:\n",
    "            date = date.replace(char , \"\")            \n",
    "    return date\n",
    "\n",
    "def convert_date(date_string):\n",
    "    summ = 0\n",
    "    if \"-\" in date_string:\n",
    "        date_string = date_string.split(\"-\")\n",
    "        length = len(date_string)\n",
    "        for s in date_string:\n",
    "            s = int(s)\n",
    "            summ += s\n",
    "            avg = round(summ/length)\n",
    "            date_string = avg\n",
    "    else:\n",
    "        date_string = int(date_string)\n",
    "        \n",
    "    return date_string\n",
    "\n",
    "# clean the date column and convert it to integer \n",
    "for row in moma:\n",
    "    art_date = row[6]\n",
    "    art_date = clean_date(art_date)\n",
    "    art_date = convert_date(art_date)\n",
    "    row[6] = art_date\n"
   ]
  },
  {
   "cell_type": "markdown",
   "metadata": {},
   "source": [
    "### here we will work on the death date and birth date which we converted   the non empty values to int but still we have some  empty (\" \" ) values "
   ]
  },
  {
   "cell_type": "code",
   "execution_count": 12,
   "metadata": {},
   "outputs": [],
   "source": [
    "#how to calculate the artist age\n",
    "\n",
    "artist_ages = []\n",
    "for row in moma:\n",
    "    birth_date = row[3]\n",
    "    death_date = row[4]\n",
    "    if type(death_date) == int:\n",
    "        age = death_date - birth_date\n",
    "    else:\n",
    "        age = 0\n",
    "    artist_ages.append(age)\n",
    "    \n",
    "# ages = []\n",
    "# for row in moma:\n",
    "#     b_date = row[3]\n",
    "#     d = row[6]\n",
    "#     if type(b_date) == int:\n",
    "#         a = d - b_date\n",
    "#         ages.append(a)\n",
    "\n",
    "\n",
    "# build the final ages\n",
    "final_ages = []\n",
    "for each_age in artist_ages:\n",
    "    if each_age > 20:\n",
    "        f_age = each_age\n",
    "    else:\n",
    "        f_age = \"Unknown\"\n",
    "    final_ages.append(f_age)\n",
    "    \n",
    "#print(final_ages)\n"
   ]
  },
  {
   "cell_type": "markdown",
   "metadata": {},
   "source": [
    "### then we have the idea of converting the ages to decades and barsing numbers in strings"
   ]
  },
  {
   "cell_type": "code",
   "execution_count": 13,
   "metadata": {},
   "outputs": [
    {
     "name": "stdout",
     "output_type": "stream",
     "text": [
      "esla\n"
     ]
    },
    {
     "data": {
      "text/plain": [
       "['20s', '20s', '20s']"
      ]
     },
     "execution_count": 13,
     "metadata": {},
     "output_type": "execute_result"
    }
   ],
   "source": [
    "# simple idea \n",
    "s = \"eslam\"\n",
    "print(s[:-1])\n",
    "\n",
    "d = []\n",
    "my_ages = [21 ,\"unknown\" ,  25 ,26]\n",
    "for a in my_ages:\n",
    "    if a != \"unknown\":\n",
    "        a = str(a) #convert int to string first\n",
    "        a = a[:-1]\n",
    "        a = a + \"0s\"\n",
    "        d.append(a)\n",
    "d"
   ]
  },
  {
   "cell_type": "code",
   "execution_count": 14,
   "metadata": {
    "scrolled": false
   },
   "outputs": [],
   "source": [
    "# make the decades list\n",
    "decades = []\n",
    "for decade in final_ages:\n",
    "    if decade != \"Unknown\":\n",
    "        decade = str(decade)\n",
    "        decade = decade[:-1]\n",
    "        decade = decade + \"0s\"\n",
    "        decades.append(decade)\n",
    "    \n",
    " # print(decades)"
   ]
  },
  {
   "cell_type": "markdown",
   "metadata": {},
   "source": [
    "### summarizing all these decades by making a frequency table for decades"
   ]
  },
  {
   "cell_type": "code",
   "execution_count": 15,
   "metadata": {},
   "outputs": [
    {
     "name": "stdout",
     "output_type": "stream",
     "text": [
      "{'60s': 1269, '90s': 1821, '70s': 2934, '80s': 3190, '50s': 613, '40s': 420, '30s': 152, '20s': 17, '100s': 56} 9\n"
     ]
    }
   ],
   "source": [
    "# make a frequency table for decades\n",
    "\n",
    "freq_decades = {}\n",
    "for d in decades:\n",
    "    if d not in freq_decades:\n",
    "        freq_decades[d] = 1 \n",
    "    else:\n",
    "        freq_decades[d] += 1\n",
    "\n",
    "print(freq_decades , len(freq_decades) )"
   ]
  },
  {
   "cell_type": "markdown",
   "metadata": {},
   "source": [
    "### how to insert a variable inside a string"
   ]
  },
  {
   "cell_type": "code",
   "execution_count": 16,
   "metadata": {},
   "outputs": [],
   "source": [
    "# old = 26\n",
    "# village = \"shamaendeel\"\n",
    "# c = input(\"enter name:\")\n",
    "# s = \"{c} is {old} and from  {village}\".format(c = c , old = old, village = village)\n",
    "# print(s)\n",
    "# name = f'eslam hosam \"{s}\" yd'\n",
    "\n",
    "# name"
   ]
  },
  {
   "cell_type": "code",
   "execution_count": 17,
   "metadata": {},
   "outputs": [
    {
     "data": {
      "text/plain": [
       "129"
      ]
     },
     "execution_count": 17,
     "metadata": {},
     "output_type": "execute_result"
    }
   ],
   "source": [
    "# making an artist freq table\n",
    "\n",
    "artist_freq = {}\n",
    "for row in moma:\n",
    "    name = row[1]\n",
    "    if name not in artist_freq:\n",
    "        artist_freq[name] = 1\n",
    "    else:\n",
    "        artist_freq[name] += 1\n",
    "        \n",
    "artist_freq[\"Henri Matisse\"]"
   ]
  },
  {
   "cell_type": "code",
   "execution_count": 18,
   "metadata": {},
   "outputs": [
    {
     "data": {
      "text/plain": [
       "'there are 5 artworks by Vicente Rojo in our dataset'"
      ]
     },
     "execution_count": 18,
     "metadata": {},
     "output_type": "execute_result"
    }
   ],
   "source": [
    "# making an artist summary function to tell some information about each artist\n",
    "def artist_summary(name):\n",
    "    template = \"there are {} artworks by {} in our dataset\"\n",
    "    for key in artist_freq:\n",
    "        num = artist_freq[name]\n",
    "    out = template.format(num , name)\n",
    "    return out\n",
    "\n",
    "artist_summary(\"Henri Matisse\")\n",
    "artist_summary(\"Vicente Rojo\")\n"
   ]
  },
  {
   "cell_type": "markdown",
   "metadata": {},
   "source": [
    "##### formating numbers in strings"
   ]
  },
  {
   "cell_type": "code",
   "execution_count": 19,
   "metadata": {},
   "outputs": [
    {
     "name": "stdout",
     "output_type": "stream",
     "text": [
      "I have 12,591,251.254 in my bank account\n",
      "the population of China is 1,379.303\n",
      "the population of India is 1,281.936\n",
      "the population of USA is 326.626\n",
      "the population of Indonesia is 260.581\n",
      "the population of Brazil is 207.353\n"
     ]
    }
   ],
   "source": [
    "number = 12591251.254125\n",
    "print(\"I have {:,.3f} in my bank account\".format( number))\n",
    "\n",
    "pop_millions = [\n",
    "    [\"China\", 1379.302771],\n",
    "    [\"India\", 1281.935991],\n",
    "    [\"USA\",  326.625791],\n",
    "    [\"Indonesia\",  260.580739],\n",
    "    [\"Brazil\",  207.353391],\n",
    "]\n",
    "\n",
    "template = \"the population of {contury} is {pop:,.3f}\"\n",
    "for row in pop_millions:\n",
    "    cont = row[0]\n",
    "    population = row[1]\n",
    "    out = template.format(contury = cont , pop = population)\n",
    "    print(out)"
   ]
  },
  {
   "cell_type": "markdown",
   "metadata": {},
   "source": [
    "summarize the gender column"
   ]
  },
  {
   "cell_type": "code",
   "execution_count": 20,
   "metadata": {},
   "outputs": [
    {
     "name": "stdout",
     "output_type": "stream",
     "text": [
      "there are 2,443 artworks by Females in the dataset\n",
      "there are 13,491 artworks by Males in the dataset\n",
      "there are 791 artworks by Unknowns in the dataset\n"
     ]
    }
   ],
   "source": [
    "# try it\n",
    "gender_freq = {}\n",
    "for row in moma:\n",
    "    gender = row[5]\n",
    "    if gender not in gender_freq:\n",
    "        gender_freq[gender] = 1\n",
    "    else:\n",
    "        gender_freq[gender] += 1\n",
    "        \n",
    "template = \"there are {:,} artworks by {}s in the dataset\"\n",
    "\n",
    "for key , value in gender_freq.items():\n",
    "    out = template.format(value , key)\n",
    "    print(out)"
   ]
  },
  {
   "cell_type": "code",
   "execution_count": 21,
   "metadata": {},
   "outputs": [
    {
     "name": "stdout",
     "output_type": "stream",
     "text": [
      "{'Female': 2443, 'Male': 13491, 'Unknown': 791}\n",
      "there are 2,443.00 artworks by Female in our data\n",
      "there are 13,491.00 artworks by Male in our data\n",
      "there are 791.00 artworks by Unknown in our data\n"
     ]
    }
   ],
   "source": [
    "gender_freq_2 = {}\n",
    "\n",
    "for row in moma:\n",
    "    gender = row[5]\n",
    "    if gender not in gender_freq_2:\n",
    "        gender_freq_2[gender] = 1\n",
    "    else:\n",
    "        gender_freq_2[gender] += 1\n",
    "print(gender_freq_2)       \n",
    "template_2 = \"there are {:,.2f} artworks by {} in our data\"\n",
    "for i in gender_freq_2:\n",
    "    c = template_2.format(gender_freq_2[i] , i)\n",
    "    print(c)"
   ]
  },
  {
   "cell_type": "markdown",
   "metadata": {},
   "source": [
    "## object oriented concept at mission 3"
   ]
  },
  {
   "cell_type": "code",
   "execution_count": 22,
   "metadata": {},
   "outputs": [
    {
     "data": {
      "text/plain": [
       "40"
      ]
     },
     "execution_count": 22,
     "metadata": {},
     "output_type": "execute_result"
    }
   ],
   "source": [
    "# creating a class\n",
    "class MyClass():\n",
    "    def __init__(self , parm_1):\n",
    "        self.atribute_1 = parm_1\n",
    "    \n",
    "    def add_20(self):\n",
    "        self.atribute_1  += 20\n",
    "        \n",
    "\n",
    "a = MyClass(20)\n",
    "a.add_20()\n",
    "a.atribute_1\n",
    "\n"
   ]
  },
  {
   "cell_type": "code",
   "execution_count": 23,
   "metadata": {},
   "outputs": [
    {
     "name": "stdout",
     "output_type": "stream",
     "text": [
      "My String\n"
     ]
    }
   ],
   "source": [
    "s = \"MY STRING\"\n",
    "\n",
    "# call `str.title() directly\n",
    "# instead of `s.title()`\n",
    "result = str.title(s)\n",
    "print(result)"
   ]
  },
  {
   "cell_type": "code",
   "execution_count": 24,
   "metadata": {},
   "outputs": [
    {
     "name": "stdout",
     "output_type": "stream",
     "text": [
      "<__main__.MyClass object at 0x000002DA861D5EC8>\n",
      "<__main__.MyClass object at 0x000002DA861D5EC8>\n"
     ]
    }
   ],
   "source": [
    "class MyClass():\n",
    "    def print_self(self):\n",
    "        print(self)\n",
    "\n",
    "mc = MyClass()\n",
    "print(mc)\n",
    "mc.print_self()\n"
   ]
  },
  {
   "cell_type": "code",
   "execution_count": 25,
   "metadata": {},
   "outputs": [
    {
     "name": "stdout",
     "output_type": "stream",
     "text": [
      "hola\n"
     ]
    }
   ],
   "source": [
    "class MyClass():\n",
    "    def __init__(self, string):\n",
    "        self.my_attribute = string\n",
    "\n",
    "mc = MyClass(\"Hola!\")\n",
    "\n",
    "#python runs __init__ directly when we instantiate an object\n",
    "MyClass.__init__(mc , \"hola\")\n",
    "\n",
    "print(mc.my_attribute)"
   ]
  },
  {
   "cell_type": "code",
   "execution_count": 26,
   "metadata": {},
   "outputs": [
    {
     "name": "stdout",
     "output_type": "stream",
     "text": [
      "[1, 2, 3]\n"
     ]
    }
   ],
   "source": [
    "class NewList():\n",
    "    def __init__(self , initial_state ,n):\n",
    "        self.initial_state = initial_state\n",
    "        self.n = n\n",
    "        \n",
    "my_list = NewList([1,2,3] , 5)\n",
    "\n",
    "print(my_list.initial_state)"
   ]
  },
  {
   "cell_type": "code",
   "execution_count": 27,
   "metadata": {},
   "outputs": [
    {
     "name": "stdout",
     "output_type": "stream",
     "text": [
      "[2, 3, 5]\n"
     ]
    }
   ],
   "source": [
    "class New():\n",
    "    def __init__(self , mylist):\n",
    "        self.mylist = mylist\n",
    "        \n",
    "    def new_append(self , value):\n",
    "        self.value = value\n",
    "        self.value = [self.value]\n",
    "        self.mylist = self.mylist + self.value\n",
    "\n",
    "x = New([2,3])\n",
    "x.new_append(5)\n",
    "print(x.mylist)"
   ]
  },
  {
   "cell_type": "code",
   "execution_count": 28,
   "metadata": {},
   "outputs": [],
   "source": [
    "# class MyNewList():\n",
    "#     def __init__(self , initial_state):\n",
    "#         self.data = initial_state\n",
    "#         self.calc_length()\n",
    "        \n",
    "#     def clac_length(self):\n",
    "#         length = 0\n",
    "#         for i in self.data:\n",
    "#             length += 1\n",
    "#         self.length = length\n",
    "        \n",
    "#     def new_append(self , value):\n",
    "#         self.data = self.data + [value]\n",
    "#         self.calc_length()\n",
    "        \n",
    "# f = MyNewList([1,2,3])\n",
    "# f.new_append(5)"
   ]
  },
  {
   "cell_type": "code",
   "execution_count": 29,
   "metadata": {},
   "outputs": [
    {
     "data": {
      "text/plain": [
       "'x'"
      ]
     },
     "execution_count": 29,
     "metadata": {},
     "output_type": "execute_result"
    }
   ],
   "source": [
    "class Eslam():\n",
    "    def __init__(self , gender):\n",
    "        self.gender = gender\n",
    "    \n",
    "a = Eslam(\"male\")\n",
    "a.gender = \"x\"\n",
    "\n",
    "a.gender"
   ]
  },
  {
   "cell_type": "code",
   "execution_count": 30,
   "metadata": {},
   "outputs": [
    {
     "name": "stdout",
     "output_type": "stream",
     "text": [
      "4 , 4\n"
     ]
    }
   ],
   "source": [
    "# class object attributes (the same for any instance)\n",
    "\n",
    "class Car():\n",
    "    wheels = 4\n",
    "    \n",
    "    def __init__(self , brand , model):\n",
    "        self.brand = brand \n",
    "        self.model = model\n",
    "        \n",
    "x = Car(\"bmw\" , \"x6\")\n",
    "x.wheels\n",
    "\n",
    "s = Car(\"audi\" , \"v5\")\n",
    "print(x.wheels , \",\" ,  s.wheels)"
   ]
  },
  {
   "cell_type": "markdown",
   "metadata": {},
   "source": [
    "methods inside classes"
   ]
  },
  {
   "cell_type": "code",
   "execution_count": 31,
   "metadata": {},
   "outputs": [
    {
     "name": "stdout",
     "output_type": "stream",
     "text": [
      "raduis is 1\n",
      "new raduis is 20\n"
     ]
    }
   ],
   "source": [
    "class Circle():\n",
    "    pi = 3.14\n",
    "    # circle gets instantiated with default raduis 1\n",
    "    def __init__(self , raduis = 1):\n",
    "        self.raduis = raduis\n",
    "        self.area = raduis*raduis * Circle.pi\n",
    "    \n",
    "    def setRaduis(self , new_raduis):\n",
    "        self.raduis = new_raduis\n",
    "        self.area = new_raduis*new_raduis * self.pi\n",
    "        \n",
    "z = Circle()\n",
    "print(\"raduis is\" , z.raduis)\n",
    "z.setRaduis(20)\n",
    "print(\"new raduis is\" , z.raduis)"
   ]
  },
  {
   "cell_type": "code",
   "execution_count": 32,
   "metadata": {},
   "outputs": [
    {
     "data": {
      "text/plain": [
       "'eslam is from egypt and speaks arabic'"
      ]
     },
     "execution_count": 32,
     "metadata": {},
     "output_type": "execute_result"
    }
   ],
   "source": [
    "class Human():\n",
    "    \n",
    "    \n",
    "    def __init__(self , gender , name):\n",
    "        self.gender = gender\n",
    "        self.name = name\n",
    "        \n",
    "    def speak(self , language , country):\n",
    "        template = \"{} is from {} and speaks {}\"\n",
    "        out = template.format(self.name , country , language)\n",
    "        return out\n",
    "    \n",
    "h1 = Human(\"male\" , \"eslam\")\n",
    "h1.speak(\"arabic\" , \"egypt\")\n",
    "\n"
   ]
  },
  {
   "cell_type": "markdown",
   "metadata": {},
   "source": [
    "inheritance in python"
   ]
  },
  {
   "cell_type": "code",
   "execution_count": 33,
   "metadata": {},
   "outputs": [],
   "source": [
    "class Animal():\n",
    "    def __init__(self):\n",
    "        print(\"Animal created\")\n",
    "        \n",
    "    def whoamI(self):\n",
    "        print(\"Animal\")\n",
    "        \n",
    "    def eat(self):\n",
    "        print(\"eating\")\n",
    "        \n",
    "\n",
    "class Dog(Animal):\n",
    "    def __init__(self):\n",
    "        print(\"dog created\")\n",
    "    \n",
    "    def whoamI(self):\n",
    "        print(\"iam a dog\")"
   ]
  },
  {
   "cell_type": "code",
   "execution_count": 34,
   "metadata": {},
   "outputs": [
    {
     "name": "stdout",
     "output_type": "stream",
     "text": [
      "dog created\n"
     ]
    }
   ],
   "source": [
    "d = Dog()"
   ]
  },
  {
   "cell_type": "code",
   "execution_count": 35,
   "metadata": {},
   "outputs": [
    {
     "name": "stdout",
     "output_type": "stream",
     "text": [
      "eating\n"
     ]
    }
   ],
   "source": [
    "d.eat()"
   ]
  },
  {
   "cell_type": "code",
   "execution_count": 36,
   "metadata": {},
   "outputs": [
    {
     "name": "stdout",
     "output_type": "stream",
     "text": [
      "Animal created\n"
     ]
    }
   ],
   "source": [
    "z = Animal()"
   ]
  },
  {
   "cell_type": "code",
   "execution_count": 37,
   "metadata": {},
   "outputs": [
    {
     "name": "stdout",
     "output_type": "stream",
     "text": [
      "eating\n"
     ]
    }
   ],
   "source": [
    "z.eat()"
   ]
  },
  {
   "cell_type": "code",
   "execution_count": 38,
   "metadata": {},
   "outputs": [
    {
     "name": "stdout",
     "output_type": "stream",
     "text": [
      "Animal\n"
     ]
    }
   ],
   "source": [
    "z.whoamI()"
   ]
  },
  {
   "cell_type": "markdown",
   "metadata": {},
   "source": [
    "polymorphism concept"
   ]
  },
  {
   "cell_type": "code",
   "execution_count": 39,
   "metadata": {},
   "outputs": [],
   "source": [
    "class Dog():\n",
    "    def __init__(self , name):\n",
    "        self.name = name\n",
    "        \n",
    "    def speak(self):\n",
    "        return self.name + \" says woof\"\n",
    "    \n",
    "class Cat():\n",
    "    def __init__(self , name):\n",
    "        self.name = name\n",
    "        \n",
    "    def speak(self):\n",
    "        return self.name + \" says meow\"\n",
    "    \n"
   ]
  },
  {
   "cell_type": "code",
   "execution_count": 40,
   "metadata": {},
   "outputs": [
    {
     "data": {
      "text/plain": [
       "'bosy says woof'"
      ]
     },
     "execution_count": 40,
     "metadata": {},
     "output_type": "execute_result"
    }
   ],
   "source": [
    "d = Dog(\"bosy\")\n",
    "d.speak()"
   ]
  },
  {
   "cell_type": "code",
   "execution_count": 41,
   "metadata": {},
   "outputs": [
    {
     "data": {
      "text/plain": [
       "'trump says meow'"
      ]
     },
     "execution_count": 41,
     "metadata": {},
     "output_type": "execute_result"
    }
   ],
   "source": [
    "c = Cat(\"trump\")\n",
    "c.speak()"
   ]
  },
  {
   "cell_type": "code",
   "execution_count": 42,
   "metadata": {},
   "outputs": [
    {
     "name": "stdout",
     "output_type": "stream",
     "text": [
      "bosy says woof\n",
      "trump says meow\n"
     ]
    }
   ],
   "source": [
    "for i in [d , c]:\n",
    "    print(i.speak())"
   ]
  },
  {
   "cell_type": "code",
   "execution_count": 43,
   "metadata": {},
   "outputs": [
    {
     "data": {
      "text/plain": [
       "'fido says whoof'"
      ]
     },
     "execution_count": 43,
     "metadata": {},
     "output_type": "execute_result"
    }
   ],
   "source": [
    "class Animal():\n",
    "    def __init__(self, name):\n",
    "        self.name = name\n",
    "        \n",
    "    def speak(self):\n",
    "        raise NotImplementedError(\"Subclass must implement abstract method\")\n",
    "        \n",
    "    \n",
    "class Dog(Animal):\n",
    "    \n",
    "    def speak(self):\n",
    "        return self.name + \" says whoof\"\n",
    "    \n",
    "\n",
    "f = Dog(\"fido\")\n",
    "f.speak()"
   ]
  },
  {
   "cell_type": "markdown",
   "metadata": {},
   "source": [
    "### special methods in python\n",
    "to use the built in functions with the user defined objects"
   ]
  },
  {
   "cell_type": "code",
   "execution_count": 44,
   "metadata": {},
   "outputs": [],
   "source": [
    "class Book():\n",
    "    def __init__(self , title , author , pages):\n",
    "        self.title = title \n",
    "        self.author = author\n",
    "        self.pages = pages\n",
    "        \n",
    "    \n",
    "    def __str__(self): #string representation for any ook object\n",
    "        return \"title: %s, author: %s, pages: %s\" %(self.title , self.author , self.pages)\n",
    "    \n",
    "    def __len__(self):\n",
    "        return self.pages\n",
    "    \n",
    "    def __del__(self):\n",
    "        print(\"book deleted\")\n",
    "        \n",
    "    def __count__(self):\n",
    "        return len([])\n",
    "    \n",
    "    def __int__(self):\n",
    "        return 5\n",
    "    \n"
   ]
  },
  {
   "cell_type": "code",
   "execution_count": 45,
   "metadata": {},
   "outputs": [
    {
     "name": "stdout",
     "output_type": "stream",
     "text": [
      "title: kaizen, author: aj hoge, pages: 200\n"
     ]
    },
    {
     "data": {
      "text/plain": [
       "'title: kaizen, author: aj hoge, pages: 200'"
      ]
     },
     "execution_count": 45,
     "metadata": {},
     "output_type": "execute_result"
    }
   ],
   "source": [
    "book = Book(\"kaizen\" , \"aj hoge\" , 200)\n",
    "\n",
    "print(book)\n",
    "str(book)"
   ]
  },
  {
   "cell_type": "code",
   "execution_count": 46,
   "metadata": {},
   "outputs": [
    {
     "data": {
      "text/plain": [
       "200"
      ]
     },
     "execution_count": 46,
     "metadata": {},
     "output_type": "execute_result"
    }
   ],
   "source": [
    "len(book)"
   ]
  },
  {
   "cell_type": "code",
   "execution_count": 47,
   "metadata": {},
   "outputs": [
    {
     "name": "stdout",
     "output_type": "stream",
     "text": [
      "book deleted\n"
     ]
    }
   ],
   "source": [
    "b = Book(\"ee\" , \"d\" , 20)\n",
    "\n",
    "del(b)"
   ]
  },
  {
   "cell_type": "code",
   "execution_count": 48,
   "metadata": {},
   "outputs": [
    {
     "data": {
      "text/plain": [
       "5"
      ]
     },
     "execution_count": 48,
     "metadata": {},
     "output_type": "execute_result"
    }
   ],
   "source": [
    "int(\"5\")"
   ]
  },
  {
   "cell_type": "markdown",
   "metadata": {},
   "source": [
    "#### home work"
   ]
  },
  {
   "cell_type": "code",
   "execution_count": 49,
   "metadata": {},
   "outputs": [],
   "source": [
    "class Line:\n",
    "    \n",
    "    def __init__(self , coor1 = (0,0) ,coor2 = (1,1)):\n",
    "        self.coor1 = coor1\n",
    "        self.coor2 = coor2\n",
    "        \n",
    "    def distance(self):\n",
    "        x = (self.coor2[0] - self.coor1[0])\n",
    "        y = (self.coor2[1] - self.coor1[1])\n",
    "        return  (x**2 + y**2)**.5\n",
    "        \n",
    "    def slope(self):\n",
    "        return (self.coor2[1] - self.coor1[1]) / (self.coor2[0] - self.coor1[0])\n",
    "    \n",
    "    "
   ]
  },
  {
   "cell_type": "code",
   "execution_count": 50,
   "metadata": {},
   "outputs": [],
   "source": [
    "coordinate1 = (3,2)\n",
    "coordinate2 = (8,10)\n",
    "\n",
    "li = Line(coordinate1 , coordinate2)"
   ]
  },
  {
   "cell_type": "code",
   "execution_count": 51,
   "metadata": {},
   "outputs": [
    {
     "data": {
      "text/plain": [
       "1.6"
      ]
     },
     "execution_count": 51,
     "metadata": {},
     "output_type": "execute_result"
    }
   ],
   "source": [
    "li.slope()"
   ]
  },
  {
   "cell_type": "code",
   "execution_count": 52,
   "metadata": {},
   "outputs": [
    {
     "data": {
      "text/plain": [
       "9.433981132056603"
      ]
     },
     "execution_count": 52,
     "metadata": {},
     "output_type": "execute_result"
    }
   ],
   "source": [
    "li.distance()"
   ]
  },
  {
   "cell_type": "code",
   "execution_count": 53,
   "metadata": {},
   "outputs": [],
   "source": [
    "class Cylinder:\n",
    "    pi = 3.14\n",
    "    \n",
    "    def __init__(self , height = 1 , raduis = 1):\n",
    "        self.height = height\n",
    "        self.raduis = raduis\n",
    "        \n",
    "    def volume(self):\n",
    "        v = Cylinder.pi * self.height * self.raduis**2 \n",
    "        return v\n",
    "    \n",
    "    def surface_area(self):\n",
    "        a = (2*self.pi*self.raduis*self.height) + (2*self.pi*self.raduis**2)\n",
    "        return a\n",
    "    "
   ]
  },
  {
   "cell_type": "code",
   "execution_count": 54,
   "metadata": {},
   "outputs": [],
   "source": [
    "c = Cylinder(2,3)"
   ]
  },
  {
   "cell_type": "code",
   "execution_count": 55,
   "metadata": {},
   "outputs": [
    {
     "data": {
      "text/plain": [
       "94.2"
      ]
     },
     "execution_count": 55,
     "metadata": {},
     "output_type": "execute_result"
    }
   ],
   "source": [
    "c.surface_area()"
   ]
  },
  {
   "cell_type": "code",
   "execution_count": 56,
   "metadata": {},
   "outputs": [
    {
     "data": {
      "text/plain": [
       "56.52"
      ]
     },
     "execution_count": 56,
     "metadata": {},
     "output_type": "execute_result"
    }
   ],
   "source": [
    "c.volume()"
   ]
  },
  {
   "cell_type": "code",
   "execution_count": null,
   "metadata": {},
   "outputs": [],
   "source": []
  },
  {
   "cell_type": "code",
   "execution_count": null,
   "metadata": {},
   "outputs": [],
   "source": []
  },
  {
   "cell_type": "code",
   "execution_count": null,
   "metadata": {},
   "outputs": [],
   "source": []
  },
  {
   "cell_type": "code",
   "execution_count": null,
   "metadata": {},
   "outputs": [],
   "source": []
  },
  {
   "cell_type": "code",
   "execution_count": 57,
   "metadata": {},
   "outputs": [],
   "source": [
    "class Employee:\n",
    "    e = 0\n",
    "    \n",
    "    def __init__(self , name , salary):\n",
    "        self.name = name \n",
    "        self.salary = salary\n",
    "        Employee.e += 1 \n",
    "        \n",
    "    def displayemployee(self):\n",
    "        print(\"total employees %d\" %Employee.e)\n",
    "        \n",
    "    def displayEmployee(self):\n",
    "        print(\"name:\" , self.name , \"salary: \" , self.salary)"
   ]
  },
  {
   "cell_type": "code",
   "execution_count": 58,
   "metadata": {},
   "outputs": [
    {
     "name": "stdout",
     "output_type": "stream",
     "text": [
      "total employees 3\n"
     ]
    }
   ],
   "source": [
    "emp1 = Employee(\"eslam\" , 2000)\n",
    "emp2 = Employee(\"isac\" , 3000)\n",
    "emp3 = Employee(\"ahmad\" , 500)\n",
    "\n",
    "\n",
    "emp1.displayemployee()"
   ]
  },
  {
   "cell_type": "code",
   "execution_count": 59,
   "metadata": {},
   "outputs": [
    {
     "data": {
      "text/plain": [
       "'eslam hosam'"
      ]
     },
     "execution_count": 59,
     "metadata": {},
     "output_type": "execute_result"
    }
   ],
   "source": [
    "emp1.name = \"eslam hosam\"\n",
    "emp1.name"
   ]
  },
  {
   "cell_type": "code",
   "execution_count": 60,
   "metadata": {},
   "outputs": [
    {
     "data": {
      "text/plain": [
       "False"
      ]
     },
     "execution_count": 60,
     "metadata": {},
     "output_type": "execute_result"
    }
   ],
   "source": [
    "hasattr(emp1 , \"k\")"
   ]
  },
  {
   "cell_type": "code",
   "execution_count": 61,
   "metadata": {},
   "outputs": [
    {
     "data": {
      "text/plain": [
       "'isac'"
      ]
     },
     "execution_count": 61,
     "metadata": {},
     "output_type": "execute_result"
    }
   ],
   "source": [
    "getattr(emp2 , \"name\")"
   ]
  },
  {
   "cell_type": "code",
   "execution_count": 62,
   "metadata": {},
   "outputs": [
    {
     "data": {
      "text/plain": [
       "26"
      ]
     },
     "execution_count": 62,
     "metadata": {},
     "output_type": "execute_result"
    }
   ],
   "source": [
    "setattr(emp3 , \"age\" , 26) #add attribute\n",
    "emp3.age"
   ]
  },
  {
   "cell_type": "code",
   "execution_count": 63,
   "metadata": {},
   "outputs": [],
   "source": [
    "delattr(emp3 , \"age\")"
   ]
  },
  {
   "cell_type": "code",
   "execution_count": null,
   "metadata": {},
   "outputs": [],
   "source": []
  },
  {
   "cell_type": "code",
   "execution_count": 64,
   "metadata": {},
   "outputs": [
    {
     "name": "stdout",
     "output_type": "stream",
     "text": [
      "None\n"
     ]
    }
   ],
   "source": [
    "print( Employee.__doc__)"
   ]
  },
  {
   "cell_type": "markdown",
   "metadata": {},
   "source": [
    "## modules and packages in python\n",
    "working with dates and times"
   ]
  },
  {
   "cell_type": "code",
   "execution_count": 72,
   "metadata": {},
   "outputs": [],
   "source": [
    "# different ways to importimg modules and its defentions\n",
    "import csv \n",
    "# csv.reader() ..import module defention\n",
    "# csv.writer()\n",
    "\n",
    "#second one\n",
    "import csv as c\n",
    "# c.reader()\n",
    "#\\\\\\\\\\\\\\\\\\\\\\\\\\\n",
    "from csv import reader\n",
    "\n",
    "#importing all defentions from a module\n",
    "from csv import *\n",
    "\n",
    "# importing multible defentions\n",
    "from csv import reader , writer "
   ]
  },
  {
   "cell_type": "markdown",
   "metadata": {},
   "source": [
    "DateTime module with some examoles"
   ]
  },
  {
   "cell_type": "code",
   "execution_count": 69,
   "metadata": {},
   "outputs": [
    {
     "name": "stdout",
     "output_type": "stream",
     "text": [
      "2020-05-27 00:00:00 <class 'datetime.datetime'>\n",
      "2020-05-27 00:00:00 <class 'datetime.datetime'>\n",
      "2020/05/27 <class 'str'>\n",
      "03:35:33 <class 'datetime.time'>\n",
      "3\n",
      "2020\n",
      "5\n"
     ]
    }
   ],
   "source": [
    "import datetime as dt\n",
    "\n",
    "dt_1 = dt.datetime(2020 , 5 , 27)\n",
    "print(dt_1 , type(dt_1))\n",
    "\n",
    "#creating datetime object from a string\n",
    "s = \"27/5/2020\"\n",
    "s_dt = dt.datetime.strptime(s , \"%d/%m/%Y\")\n",
    "print(s_dt , type(s_dt))\n",
    "\n",
    "#converting datetime.datetime object to string\n",
    "s_2 = s_dt.strftime(\"%Y/%m/%d\")\n",
    "print(s_2 , type(s_2))\n",
    "\n",
    "#instantiating datetime.time object\n",
    "t = dt.time(3 , 35 , 33)\n",
    "print(t , type(t))\n",
    "t.minute\n",
    "#////////////////\n",
    "# retrieving the objects attributes like normal objects\n",
    "\n",
    "print(t.hour) ; print(s_dt.year);print(s_dt.month)\n",
    "\n"
   ]
  },
  {
   "cell_type": "code",
   "execution_count": 73,
   "metadata": {},
   "outputs": [
    {
     "name": "stdout",
     "output_type": "stream",
     "text": [
      "<class 'datetime.datetime'>\n",
      "15:44:00 <class 'datetime.time'>\n"
     ]
    }
   ],
   "source": [
    "#create datetime.time object from datetime.datetime \n",
    "dt_obj = dt.datetime.strptime(\"27/5/2020 15:44\" , \"%d/%m/%Y %H:%M\")\n",
    "print(type(dt_obj))\n",
    "t_obj = dt_obj.time()\n",
    "\n",
    "print(t_obj , type(t_obj))"
   ]
  },
  {
   "cell_type": "markdown",
   "metadata": {},
   "source": [
    "programiz.com  examples"
   ]
  },
  {
   "cell_type": "code",
   "execution_count": 76,
   "metadata": {},
   "outputs": [
    {
     "name": "stdout",
     "output_type": "stream",
     "text": [
      "2020-05-29 10:54:23.621784\n"
     ]
    }
   ],
   "source": [
    "#current date and time \n",
    "datetime_obj = dt.datetime.now()\n",
    "print(datetime_obj)"
   ]
  },
  {
   "cell_type": "code",
   "execution_count": 78,
   "metadata": {},
   "outputs": [
    {
     "name": "stdout",
     "output_type": "stream",
     "text": [
      "2020-05-29\n"
     ]
    }
   ],
   "source": [
    "#get current date\n",
    "date_obj = dt.date.today()\n",
    "print(date_obj)"
   ]
  },
  {
   "cell_type": "code",
   "execution_count": 80,
   "metadata": {},
   "outputs": [
    {
     "name": "stdout",
     "output_type": "stream",
     "text": [
      "['MAXYEAR', 'MINYEAR', '__builtins__', '__cached__', '__doc__', '__file__', '__loader__', '__name__', '__package__', '__spec__', 'date', 'datetime', 'datetime_CAPI', 'sys', 'time', 'timedelta', 'timezone', 'tzinfo']\n"
     ]
    }
   ],
   "source": [
    "# what is inside datetime module\n",
    "print(dir(dt))"
   ]
  },
  {
   "cell_type": "code",
   "execution_count": 88,
   "metadata": {},
   "outputs": [
    {
     "name": "stdout",
     "output_type": "stream",
     "text": [
      "2017-05-20\n"
     ]
    }
   ],
   "source": [
    "# datetime.date clas\n",
    "a = dt.date(2017 , 5 ,20)\n",
    "print(a)"
   ]
  },
  {
   "cell_type": "code",
   "execution_count": 91,
   "metadata": {},
   "outputs": [
    {
     "name": "stdout",
     "output_type": "stream",
     "text": [
      "2020-05-29\n"
     ]
    }
   ],
   "source": [
    "a = dt.date.today()\n",
    "print(a)"
   ]
  },
  {
   "cell_type": "code",
   "execution_count": 106,
   "metadata": {},
   "outputs": [
    {
     "name": "stdout",
     "output_type": "stream",
     "text": [
      "2001-09-09\n"
     ]
    }
   ],
   "source": [
    "# get a date from a time stamp \n",
    "time_stamp = dt.date.fromtimestamp(1000000000)\n",
    "print(time_stamp)"
   ]
  },
  {
   "cell_type": "code",
   "execution_count": 107,
   "metadata": {},
   "outputs": [
    {
     "name": "stdout",
     "output_type": "stream",
     "text": [
      "12 5 1994\n"
     ]
    }
   ],
   "source": [
    "# print the attributes day , month , year\n",
    "a = dt.date(1994 , 5 , 12)\n",
    "print(a.day , a.month , a.year)"
   ]
  },
  {
   "cell_type": "code",
   "execution_count": 109,
   "metadata": {},
   "outputs": [
    {
     "name": "stdout",
     "output_type": "stream",
     "text": [
      "22:30:45\n"
     ]
    }
   ],
   "source": [
    "# time class\n",
    "a = dt.time(22 , 30 , 45)\n",
    "print(a)"
   ]
  },
  {
   "cell_type": "code",
   "execution_count": 110,
   "metadata": {},
   "outputs": [
    {
     "name": "stdout",
     "output_type": "stream",
     "text": [
      "22 30 45\n"
     ]
    }
   ],
   "source": [
    "# print attributes\n",
    "print(a.hour , a.minute , a.second)"
   ]
  },
  {
   "cell_type": "code",
   "execution_count": 116,
   "metadata": {},
   "outputs": [
    {
     "name": "stdout",
     "output_type": "stream",
     "text": [
      "00:00:00\n",
      "0\n"
     ]
    }
   ],
   "source": [
    "from datetime import time\n",
    "a = time()\n",
    "print(a) ; print(a.hour)"
   ]
  },
  {
   "cell_type": "code",
   "execution_count": 121,
   "metadata": {},
   "outputs": [
    {
     "name": "stdout",
     "output_type": "stream",
     "text": [
      "2020-05-29 10:59:00\n",
      "2020 10\n",
      "1590730140.0\n"
     ]
    }
   ],
   "source": [
    "# datetime.datetime class\n",
    "\n",
    "from datetime import datetime\n",
    "a = datetime(2020 , 5 , 29 , 10 , 59)\n",
    "print(a)\n",
    "print(a.year , a.hour)\n",
    "\n",
    "print(a.timestamp())"
   ]
  },
  {
   "cell_type": "code",
   "execution_count": 130,
   "metadata": {},
   "outputs": [
    {
     "name": "stdout",
     "output_type": "stream",
     "text": [
      "2020-05-29\n"
     ]
    }
   ],
   "source": [
    "# understand the time stamp\n",
    "from datetime import date\n",
    "a = date.fromtimestamp(1590730140.0)\n",
    "print(a)"
   ]
  },
  {
   "cell_type": "code",
   "execution_count": 136,
   "metadata": {},
   "outputs": [
    {
     "name": "stdout",
     "output_type": "stream",
     "text": [
      "1079 days, 0:00:00\n",
      "2023-05-13\n"
     ]
    }
   ],
   "source": [
    "# datetime.timedelta class\n",
    "\n",
    "from datetime import timedelta\n",
    "t1 = date(year = 2020 , month = 5 , day = 29)\n",
    "t2 = date(year = 2017 , month = 6 , day = 15)\n",
    "t3 = t1 - t2\n",
    "print(t3)\n",
    "t4 = t1 + t3\n",
    "print(t4)\n"
   ]
  },
  {
   "cell_type": "code",
   "execution_count": 140,
   "metadata": {},
   "outputs": [
    {
     "name": "stdout",
     "output_type": "stream",
     "text": [
      "2188 days, 23:50:00\n"
     ]
    },
    {
     "data": {
      "text/plain": [
       "datetime.timedelta"
      ]
     },
     "execution_count": 140,
     "metadata": {},
     "output_type": "execute_result"
    }
   ],
   "source": [
    "t1 = datetime(2020 , 2 , 2 , 15 , 20)\n",
    "t2 = datetime(2014 , 2 , 4 , 15 , 30)\n",
    "print(t1 - t2) ; type(t1 - t2)"
   ]
  },
  {
   "cell_type": "code",
   "execution_count": 144,
   "metadata": {},
   "outputs": [
    {
     "data": {
      "text/plain": [
       "93225600.0"
      ]
     },
     "execution_count": 144,
     "metadata": {},
     "output_type": "execute_result"
    }
   ],
   "source": [
    "#print total number of seconds in t3\n",
    "t3.total_seconds()"
   ]
  },
  {
   "cell_type": "code",
   "execution_count": 169,
   "metadata": {},
   "outputs": [
    {
     "name": "stdout",
     "output_type": "stream",
     "text": [
      "11:31\n"
     ]
    }
   ],
   "source": [
    "# strftime and strptime methods\n",
    "\n",
    "from datetime import datetime\n",
    "now = datetime.now()\n",
    "now_string = now.strftime(\"%H:%M\")\n",
    "print(now_string)\n"
   ]
  },
  {
   "cell_type": "code",
   "execution_count": 170,
   "metadata": {},
   "outputs": [
    {
     "name": "stdout",
     "output_type": "stream",
     "text": [
      "29/05 11:31:38\n"
     ]
    }
   ],
   "source": [
    "print(now.strftime(\"%d/%m %H:%M:%S\"))"
   ]
  },
  {
   "cell_type": "code",
   "execution_count": 171,
   "metadata": {},
   "outputs": [
    {
     "name": "stdout",
     "output_type": "stream",
     "text": [
      "2020-05-29 10:30:00 <class 'datetime.datetime'>\n"
     ]
    }
   ],
   "source": [
    "# strptime method\n",
    "from datetime import datetime\n",
    "d = \"29/5/2020 10:30\"\n",
    "form = \"%d/%m/%Y %H:%M\"\n",
    "d_dt = datetime.strptime(d , form)\n",
    "print(d_dt , type(d_dt))"
   ]
  },
  {
   "cell_type": "code",
   "execution_count": 183,
   "metadata": {},
   "outputs": [
    {
     "name": "stdout",
     "output_type": "stream",
     "text": [
      "2020-05-29 11:42:13.318512\n",
      "Europe/London\n",
      "2020-05-29 07:12:13.318512+01:00\n"
     ]
    }
   ],
   "source": [
    "# timezone \n",
    "from datetime import datetime\n",
    "import pytz\n",
    "local = datetime.now()\n",
    "print(local)\n",
    "\n",
    "tz = pytz.timezone(\"Europe/London\")\n",
    "print(tz)\n",
    "\n",
    "tz_now = datetime.now(tz)\n",
    "print(tz_now)"
   ]
  },
  {
   "cell_type": "code",
   "execution_count": 201,
   "metadata": {},
   "outputs": [
    {
     "data": {
      "text/plain": [
       "datetime.datetime(1976, 5, 27, 7, 57, 12)"
      ]
     },
     "execution_count": 201,
     "metadata": {},
     "output_type": "execute_result"
    }
   ],
   "source": [
    "a = dt.datetime.fromtimestamp(202012032)\n",
    "a"
   ]
  }
 ],
 "metadata": {
  "kernelspec": {
   "display_name": "Python 3",
   "language": "python",
   "name": "python3"
  },
  "language_info": {
   "codemirror_mode": {
    "name": "ipython",
    "version": 3
   },
   "file_extension": ".py",
   "mimetype": "text/x-python",
   "name": "python",
   "nbconvert_exporter": "python",
   "pygments_lexer": "ipython3",
   "version": "3.7.4"
  }
 },
 "nbformat": 4,
 "nbformat_minor": 2
}
