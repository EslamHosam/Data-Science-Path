{
 "cells": [
  {
   "cell_type": "code",
   "execution_count": 1,
   "metadata": {},
   "outputs": [
    {
     "name": "stdout",
     "output_type": "stream",
     "text": [
      "noting happened\n"
     ]
    }
   ],
   "source": [
    "#conditional statements \n",
    "\n",
    "if 1 != 1:\n",
    "    print(\"they are equal\")\n",
    "elif 1  == 3 :\n",
    "    print(\"it is ok\")\n",
    "else:\n",
    "    print(\"noting happened\")"
   ]
  },
  {
   "cell_type": "code",
   "execution_count": 2,
   "metadata": {},
   "outputs": [
    {
     "data": {
      "text/plain": [
       "{'k1': '2', 'k2': 22, 'k3': {'k': 120}}"
      ]
     },
     "execution_count": 2,
     "metadata": {},
     "output_type": "execute_result"
    }
   ],
   "source": [
    "#concept of dictionaries and frequency tables\n",
    "\n",
    "dic1 = {\"k1\":2, \"k2\":3 , \"k3\":5}\n",
    "\n",
    "dic2 = {}\n",
    "dic2[\"k1\"] = \"2\"\n",
    "dic2[\"k2\"] = [2 , 3 , 2]\n",
    "dic2[\"k3\"] = {\"k\":120}\n",
    "\n",
    "\n",
    "dic2[\"k2\"] = 22\n",
    "\n",
    "dic2"
   ]
  },
  {
   "cell_type": "code",
   "execution_count": 3,
   "metadata": {},
   "outputs": [
    {
     "data": {
      "text/plain": [
       "{1: 1, 2: 2, 5: 2, 4: 1, 3: 1}"
      ]
     },
     "execution_count": 3,
     "metadata": {},
     "output_type": "execute_result"
    }
   ],
   "source": [
    "#frequency tables\n",
    "\n",
    "l2 = [[1, 2, 3] , \n",
    "      [4 , 5 ,6],\n",
    "      [7 , 8 ,9]]\n",
    "\n",
    "mydic = {}\n",
    "\n",
    "#how to make a freq table for a column\n",
    "for row in l2:\n",
    "    col2 = row[1]\n",
    "    if col2 in mydic:\n",
    "        mydic[col2] += 1\n",
    "    else:\n",
    "        mydic[col2] = 1\n",
    "        \n",
    "mydic\n",
    "\n",
    "\n",
    "mylist = [1 , 2 , 5 , 4 , 5 , 2 , 3]\n",
    "\n",
    "dic = {}\n",
    "for i in mylist:\n",
    "    if i in dic:\n",
    "        dic[i] += 1\n",
    "    else:\n",
    "        dic[i] = 1\n",
    "dic"
   ]
  },
  {
   "cell_type": "code",
   "execution_count": 4,
   "metadata": {},
   "outputs": [
    {
     "data": {
      "text/plain": [
       "False"
      ]
     },
     "execution_count": 4,
     "metadata": {},
     "output_type": "execute_result"
    }
   ],
   "source": [
    "#functions takeaway\n",
    "\n",
    "def add_values(x , constant = 21):\n",
    "    \n",
    "    return x + constant\n",
    "add_values(5)\n",
    "\n",
    "def name(name):\n",
    "    if name == \"eslam\":\n",
    "        return 1\n",
    "    \n",
    "    return False\n",
    "    \n",
    "name(\"jhlkm\")"
   ]
  },
  {
   "cell_type": "code",
   "execution_count": 5,
   "metadata": {},
   "outputs": [
    {
     "name": "stdout",
     "output_type": "stream",
     "text": [
      "start\n",
      "s\n",
      "sentence\n"
     ]
    }
   ],
   "source": [
    "# python bootcamp \n",
    "\n",
    "st = 'Print only the words that start with s in this sentence'\n",
    "s = st.split()\n",
    "\n",
    "for word in s:\n",
    "    if word[0].lower() == \"s\":\n",
    "        print(word)"
   ]
  },
  {
   "cell_type": "code",
   "execution_count": 6,
   "metadata": {},
   "outputs": [
    {
     "data": {
      "text/plain": [
       "[1, 4, 7, 10, 13, 16, 19, 22, 25, 28, 31, 34, 37, 40, 43, 46, 49]"
      ]
     },
     "execution_count": 6,
     "metadata": {},
     "output_type": "execute_result"
    }
   ],
   "source": [
    "list(range(1,50,3))"
   ]
  },
  {
   "cell_type": "code",
   "execution_count": 7,
   "metadata": {},
   "outputs": [
    {
     "data": {
      "text/plain": [
       "['e', 's', 'l', 'a', 'm']"
      ]
     },
     "execution_count": 7,
     "metadata": {},
     "output_type": "execute_result"
    }
   ],
   "source": [
    "mylist = [x for x in \"eslam\"]\n",
    "mylist"
   ]
  },
  {
   "cell_type": "code",
   "execution_count": 8,
   "metadata": {},
   "outputs": [
    {
     "name": "stdout",
     "output_type": "stream",
     "text": [
      "word  -- even\n",
      "in  -- even\n",
      "this  -- even\n",
      "sentence  -- even\n",
      "that  -- even\n",
      "an  -- even\n",
      "even  -- even\n",
      "number  -- even\n",
      "of  -- even\n"
     ]
    }
   ],
   "source": [
    "st = 'Print every word in this sentence that has an even number of letters'\n",
    "\n",
    "for word in st.split():\n",
    "    if len(word)%2 == 0:\n",
    "        print(word , \" -- even\" )"
   ]
  },
  {
   "cell_type": "code",
   "execution_count": 9,
   "metadata": {},
   "outputs": [
    {
     "name": "stdout",
     "output_type": "stream",
     "text": [
      "1\n",
      "2\n",
      "fizz\n",
      "4\n",
      "5\n",
      "fizz\n",
      "7\n",
      "8\n",
      "fizz\n",
      "10\n",
      "11\n",
      "fizz\n",
      "13\n",
      "14\n",
      "fizzbuzz\n"
     ]
    }
   ],
   "source": [
    "for num in range(1,16):\n",
    "    if num %3 == 0 and num%5 == 0:\n",
    "        print(\"fizzbuzz\")\n",
    "    elif num%3 == 0:\n",
    "        print(\"fizz\")\n",
    "    elif num%3 == 0:\n",
    "        print(\"buzz\")\n",
    "    else:\n",
    "        print(num)"
   ]
  },
  {
   "cell_type": "code",
   "execution_count": 10,
   "metadata": {},
   "outputs": [
    {
     "data": {
      "text/plain": [
       "['C', 'a', 'l', 'o', 't', 'f', 'l', 'o', 'e', 'w', 'i', 't', 's']"
      ]
     },
     "execution_count": 10,
     "metadata": {},
     "output_type": "execute_result"
    }
   ],
   "source": [
    "st = 'Create a list of the first letters of every word in this string'\n",
    "\n",
    "mylist = [x[0] for x in st.split()]\n",
    "mylist"
   ]
  },
  {
   "cell_type": "code",
   "execution_count": null,
   "metadata": {},
   "outputs": [],
   "source": []
  },
  {
   "cell_type": "code",
   "execution_count": 11,
   "metadata": {},
   "outputs": [
    {
     "data": {
      "text/plain": [
       "[1, 2, 3, 6, 'yazeed', 20]"
      ]
     },
     "execution_count": 11,
     "metadata": {},
     "output_type": "execute_result"
    }
   ],
   "source": [
    "# function of bootcamp\n",
    "lst = [1,2,3,5,6]\n",
    "\n",
    "lst.append(20)\n",
    "lst\n",
    "\n",
    "lst.count(2)\n",
    "\n",
    "lst.extend([\"eslam\"])\n",
    "lst\n",
    "lst.insert(5 , \"yazeed\")\n",
    "lst\n",
    "lst.pop()\n",
    "lst\n",
    "lst.remove(5)\n",
    "lst\n",
    "lst.reverse()\n",
    "lst\n",
    "lst.reverse()\n",
    "lst\n"
   ]
  },
  {
   "cell_type": "code",
   "execution_count": 12,
   "metadata": {},
   "outputs": [
    {
     "name": "stdout",
     "output_type": "stream",
     "text": [
      "17 is prime\n",
      "not prime\n"
     ]
    }
   ],
   "source": [
    "#functions\n",
    "\n",
    "def is_prime(num):\n",
    "    for i in range(2,num):\n",
    "        if num % i == 0:\n",
    "            print(num ,\"is not prime\")\n",
    "            break\n",
    "    else:\n",
    "        print(num , \"is prime\")\n",
    "        \n",
    "is_prime(17)\n",
    "\n",
    "def check_prime(num):\n",
    "    for i in range(2 , num):\n",
    "        if num % i == 0:\n",
    "            print(\"not prime\")\n",
    "            break\n",
    "    else:\n",
    "        print(\"is prime\")\n",
    "        \n",
    "check_prime(36)"
   ]
  },
  {
   "cell_type": "code",
   "execution_count": 13,
   "metadata": {},
   "outputs": [
    {
     "data": {
      "text/plain": [
       "False"
      ]
     },
     "execution_count": 13,
     "metadata": {},
     "output_type": "execute_result"
    }
   ],
   "source": [
    "import math \n",
    "\n",
    "def is_prime2(num):\n",
    "    if num % 2 == 0 and num >2:\n",
    "        return False\n",
    "    for i in range(3 , int(math.sqr(num)) + 1, 2):\n",
    "        if num % i == 0:\n",
    "            return False\n",
    "    return True\n",
    "is_prime2(16)\n",
    "is_prime2(4)"
   ]
  },
  {
   "cell_type": "code",
   "execution_count": 14,
   "metadata": {},
   "outputs": [
    {
     "data": {
      "text/plain": [
       "10"
      ]
     },
     "execution_count": 14,
     "metadata": {},
     "output_type": "execute_result"
    }
   ],
   "source": [
    "#functions\n",
    "def lesser_number(num1 , num2):\n",
    "    if num1 %2 == 0 and num2 %2 == 0:\n",
    "        return min(num1 , num2)\n",
    "    else:\n",
    "        return max(num1 , num2)\n",
    "    \n",
    "lesser_number(2 , 4)\n",
    "lesser_number(5,2)\n",
    "lesser_number(10 , 20)"
   ]
  },
  {
   "cell_type": "code",
   "execution_count": 15,
   "metadata": {},
   "outputs": [
    {
     "data": {
      "text/plain": [
       "True"
      ]
     },
     "execution_count": 15,
     "metadata": {},
     "output_type": "execute_result"
    }
   ],
   "source": [
    "def animal_check(name):\n",
    "    x ,y = name.split()\n",
    "    if x[0] == y[0]:\n",
    "        return True\n",
    "    else:\n",
    "        return False\n",
    "animal_check(\"eslam hosam \")\n",
    "animal_check(\"es es\")"
   ]
  },
  {
   "cell_type": "code",
   "execution_count": 16,
   "metadata": {},
   "outputs": [
    {
     "data": {
      "text/plain": [
       "False"
      ]
     },
     "execution_count": 16,
     "metadata": {},
     "output_type": "execute_result"
    }
   ],
   "source": [
    "def makes_twenty(n , m ):\n",
    "    if n + m == 20 or (n == 20 or m==20):\n",
    "        return True\n",
    "    else:\n",
    "        return False\n",
    "makes_twenty(20 ,10)\n",
    "makes_twenty(10 , 10)\n",
    "makes_twenty(15 , 5)\n",
    "makes_twenty(10 , 2)"
   ]
  },
  {
   "cell_type": "code",
   "execution_count": 17,
   "metadata": {},
   "outputs": [
    {
     "name": "stdout",
     "output_type": "stream",
     "text": [
      "0\n",
      "1\n"
     ]
    }
   ],
   "source": [
    "#checking cell\n",
    "name = \"iam eslam iam 26 years old\"\n",
    "lst = []\n",
    "lst.append(name)\n",
    "lst\n",
    "\n",
    "for i in range(0 , 2):\n",
    "    print(i)"
   ]
  },
  {
   "cell_type": "code",
   "execution_count": 18,
   "metadata": {},
   "outputs": [
    {
     "data": {
      "text/plain": [
       "'MacDonald'"
      ]
     },
     "execution_count": 18,
     "metadata": {},
     "output_type": "execute_result"
    }
   ],
   "source": [
    "def macdolald(name):\n",
    "    return name[0:3].capitalize() + name[3:].capitalize()\n",
    "\n",
    "macdolald('macdonald')\n",
    "\n"
   ]
  },
  {
   "cell_type": "code",
   "execution_count": 19,
   "metadata": {},
   "outputs": [
    {
     "data": {
      "text/plain": [
       "'ready are we'"
      ]
     },
     "execution_count": 19,
     "metadata": {},
     "output_type": "execute_result"
    }
   ],
   "source": [
    "def rev_sen(s):\n",
    "    return \" \".join(s.split()[::-1])\n",
    "rev_sen(\"iam eslam iam 26 yd\")\n",
    "rev_sen(\"we are ready\")"
   ]
  },
  {
   "cell_type": "code",
   "execution_count": 20,
   "metadata": {},
   "outputs": [
    {
     "data": {
      "text/plain": [
       "True"
      ]
     },
     "execution_count": 20,
     "metadata": {},
     "output_type": "execute_result"
    }
   ],
   "source": [
    "# absolute value |5| = 5 , |-5| = 5 المقياس\n",
    "def almost_there(num):\n",
    "    return (abs(100 - num) <= 10) or (abs(200 - num) <= 10)\n",
    "almost_there(109)\n"
   ]
  },
  {
   "cell_type": "code",
   "execution_count": 21,
   "metadata": {},
   "outputs": [
    {
     "data": {
      "text/plain": [
       "'esl'"
      ]
     },
     "execution_count": 21,
     "metadata": {},
     "output_type": "execute_result"
    }
   ],
   "source": [
    "#level 2 Find 33\n",
    "\n",
    "def find_33(num):\n",
    "    for i in range(0 , len(num)-1):\n",
    "        if num[i] == 3 and num[i+1] == 3:\n",
    "            return True\n",
    "    else:\n",
    "        return False\n",
    "\n",
    "find_33([1,2,3])\n",
    "\n",
    "find_33([3,3,3])\n",
    "\n",
    "def has_33(lst):\n",
    "    for i in range(0 , len(lst) - 1):\n",
    "        if lst[i:i+2] == [3 ,3]:\n",
    "            return True\n",
    "    else:\n",
    "        return False\n",
    "    \n",
    "has_33([1 , 2 , 3])\n",
    "has_33([ 1 , 3 , 3])\n",
    "\n",
    "name = \"eslam\"\n",
    "name[0:3]\n"
   ]
  },
  {
   "cell_type": "code",
   "execution_count": 22,
   "metadata": {},
   "outputs": [
    {
     "data": {
      "text/plain": [
       "'MMMiiissssssiiissssssiiippppppiii'"
      ]
     },
     "execution_count": 22,
     "metadata": {},
     "output_type": "execute_result"
    }
   ],
   "source": [
    "def paper_roll(text):\n",
    "    l = [x*3 for x in text]\n",
    "    n = \"\".join(l)\n",
    "    return n\n",
    "paper_roll(\"eslam\")\n",
    "\n",
    "paper_roll('hello')\n",
    "paper_roll('Mississippi')"
   ]
  },
  {
   "cell_type": "code",
   "execution_count": 23,
   "metadata": {},
   "outputs": [
    {
     "data": {
      "text/plain": [
       "'eeessslllaaammm   hhhooosssaaammm'"
      ]
     },
     "execution_count": 23,
     "metadata": {},
     "output_type": "execute_result"
    }
   ],
   "source": [
    "def paper_doll(t):\n",
    "    result = \"\"\n",
    "    for char in t:\n",
    "        result += char*3\n",
    "    return result\n",
    "paper_doll(\"eslam hosam\")"
   ]
  },
  {
   "cell_type": "code",
   "execution_count": 24,
   "metadata": {},
   "outputs": [
    {
     "data": {
      "text/plain": [
       "19"
      ]
     },
     "execution_count": 24,
     "metadata": {},
     "output_type": "execute_result"
    }
   ],
   "source": [
    "def blackjack(a , b ,c): \n",
    "    if sum((a ,b ,c)) <= 21:\n",
    "        return sum((a,b,c))\n",
    "    elif (sum((a,b,c)) <= 31) and 11 in (a,b,c):\n",
    "        return sum((a,b,c)) - 10\n",
    "    else:\n",
    "        return \"bust\"\n",
    "\n",
    "blackjack(9,9,11)"
   ]
  },
  {
   "cell_type": "code",
   "execution_count": 25,
   "metadata": {},
   "outputs": [
    {
     "data": {
      "text/plain": [
       "3"
      ]
     },
     "execution_count": 25,
     "metadata": {},
     "output_type": "execute_result"
    }
   ],
   "source": [
    "def summer_69(nums):\n",
    "    s = sum(nums)\n",
    "    for i in nums:\n",
    "        if i in range(6,10):\n",
    "            s -= i\n",
    "    return s\n",
    "\n",
    "summer_69([2, 1, 6, 9, 11])\n",
    "summer_69([4, 5, 6, 7, 8, 9])\n",
    "summer_69([1, 3, 5])\n",
    "\n",
    "summer_69([1,2,6,7,8,9,9,8,7,6])\n"
   ]
  },
  {
   "cell_type": "code",
   "execution_count": 27,
   "metadata": {},
   "outputs": [
    {
     "name": "stdout",
     "output_type": "stream",
     "text": [
      "eslam hosam\n"
     ]
    }
   ],
   "source": [
    "#spy game\n",
    "\n",
    "print(\"eslam hosam\")\n",
    "        "
   ]
  }
 ],
 "metadata": {
  "kernelspec": {
   "display_name": "Python 3",
   "language": "python",
   "name": "python3"
  },
  "language_info": {
   "codemirror_mode": {
    "name": "ipython",
    "version": 3
   },
   "file_extension": ".py",
   "mimetype": "text/x-python",
   "name": "python",
   "nbconvert_exporter": "python",
   "pygments_lexer": "ipython3",
   "version": "3.8.5"
  }
 },
 "nbformat": 4,
 "nbformat_minor": 2
}
