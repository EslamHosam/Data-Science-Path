{
 "cells": [
  {
   "cell_type": "markdown",
   "id": "western-grade",
   "metadata": {},
   "source": [
    "# Visualize earnings based on college majors "
   ]
  },
  {
   "cell_type": "markdown",
   "id": "affecting-publisher",
   "metadata": {},
   "source": [
    "The dataset on includes information about job outcomes of tudents grduated from college between __2010__ and __2012__. The \n",
    "original data on job outcomes was released by <a href= \"https://www.census.gov/programs-surveys/acs/\">American Community Survey </a> which conducts surveys and aggregates the data. <a href = \"https://fivethirtyeight.com/\">FiveThirtyEight</a> cleaned the dataset and released it on their <a href = \"https://github.com/fivethirtyeight/data\">GitHub Repo </a>.\n",
    "\n",
    "here is a beneficial <a href = \"https://fivethirtyeight.com/features/the-economic-guide-to-picking-a-college-major/\">article </a> for the outcomes of their analysis it gives an intution how we can make alot of descisions with the help of data analysis and how the tudents can decide which major will be the most rewarding for them before applying to college degree \n",
    "\n",
    "\n",
    "Each row in the dataset represents a different major in college and contains information on gender diversity, employment rates, median salaries, share women percentage, and more. The dataset columns are:\n",
    "\n",
    "- __Rank:__Rank by  median earning for major\n",
    "- __Major_code:__Major code for each major \n",
    "- __major_category:__ Category of major\n",
    "- __Total:__Total number of graduated people of major \n",
    "- __Sample_size:__Sample size of full time (unweighted)\n",
    "- __Men:__Male gaduates\n",
    "- __Women:__Women graduates\n",
    "- __ShareWomen:__Women as a share of total \n",
    "- __Employed:__Number of employed graduates\n",
    "- __Full_time:__Emloyed 35 hours\n",
    "- __Part_time:__Employed less than 35 hours\n",
    "- __Full_time_year_round:__ Employd at least 50 weeks a nd 35 hours per week at least\n",
    "- __Unemployed:__Number of unemployed graduates in major \n",
    "- __Unemployment_rate:__Unemployment \n",
    "- __Median:__ Median earnings  of fulltime employed graduates \n",
    "- __P25th:__25th percentile of earnings\n",
    "- __P75th:__75th percentile of earnings\n",
    "- __College_jobs:__ number of jobs requiring a college degree \n",
    "- __Non_college_jobs:__ Number of jobs not requiring college degrees\n",
    "- __Low_wage_jobs:__ number in low wage service jobs \n",
    "\n",
    "- Mostly we will focus in our project for some important features not all the columns like :\n",
    "<hr>\n",
    "\n",
    "<table> \n",
    "    <tr> \n",
    "         <th>Rank</th>\n",
    "        <th>Major_code </th>\n",
    "        <th>Major_category </th>\n",
    "        <th>Major </th>\n",
    "        <th>Total </th>\n",
    "        <th>Sample_size </th>\n",
    "        <th>Men </th>\n",
    "        <th>Share Women </th>\n",
    "        <th>Employed </th>\n",
    "        <th>Median </th>\n",
    "        <th>Full_time </th>\n",
    "        <th>Part_time </th>\n",
    "    </tr>\n",
    "</table>"
   ]
  },
  {
   "cell_type": "markdown",
   "id": "mechanical-department",
   "metadata": {},
   "source": [
    "## Mission Objectives \n",
    "\n",
    "Using the pandas plotting built-in functions we will try to make some analysis and interpret the distrbuition of the data for some columns to answer the following questions :\n",
    "\n",
    "- Do students in more popular majors make more money ? \n",
    "- How many majors are predominatly males ? predominatly females ?\n",
    "- which category of majors have the most students ?\n",
    "\n"
   ]
  },
  {
   "cell_type": "code",
   "execution_count": 1,
   "id": "stupid-exploration",
   "metadata": {},
   "outputs": [],
   "source": [
    "# importing tools \n",
    "import pandas as pd \n",
    "import numpy as np \n",
    "import matplotlib.pyplot as plt \n",
    "import seaborn as sns\n",
    "from pandas.plotting import scatter_matrix\n",
    "\n",
    "%matplotlib inline"
   ]
  },
  {
   "cell_type": "code",
   "execution_count": 2,
   "id": "careful-opportunity",
   "metadata": {},
   "outputs": [
    {
     "data": {
      "text/html": [
       "<div>\n",
       "<style scoped>\n",
       "    .dataframe tbody tr th:only-of-type {\n",
       "        vertical-align: middle;\n",
       "    }\n",
       "\n",
       "    .dataframe tbody tr th {\n",
       "        vertical-align: top;\n",
       "    }\n",
       "\n",
       "    .dataframe thead th {\n",
       "        text-align: right;\n",
       "    }\n",
       "</style>\n",
       "<table border=\"1\" class=\"dataframe\">\n",
       "  <thead>\n",
       "    <tr style=\"text-align: right;\">\n",
       "      <th></th>\n",
       "      <th>Rank</th>\n",
       "      <th>Major_code</th>\n",
       "      <th>Major</th>\n",
       "      <th>Total</th>\n",
       "      <th>Men</th>\n",
       "      <th>Women</th>\n",
       "      <th>Major_category</th>\n",
       "      <th>ShareWomen</th>\n",
       "      <th>Sample_size</th>\n",
       "      <th>Employed</th>\n",
       "      <th>Full_time</th>\n",
       "      <th>Part_time</th>\n",
       "      <th>Full_time_year_round</th>\n",
       "      <th>Unemployed</th>\n",
       "      <th>Unemployment_rate</th>\n",
       "      <th>Median</th>\n",
       "      <th>P25th</th>\n",
       "      <th>P75th</th>\n",
       "      <th>College_jobs</th>\n",
       "      <th>Non_college_jobs</th>\n",
       "      <th>Low_wage_jobs</th>\n",
       "    </tr>\n",
       "  </thead>\n",
       "  <tbody>\n",
       "    <tr>\n",
       "      <th>0</th>\n",
       "      <td>1</td>\n",
       "      <td>2419</td>\n",
       "      <td>PETROLEUM ENGINEERING</td>\n",
       "      <td>2339.0</td>\n",
       "      <td>2057.0</td>\n",
       "      <td>282.0</td>\n",
       "      <td>Engineering</td>\n",
       "      <td>0.120564</td>\n",
       "      <td>36</td>\n",
       "      <td>1976</td>\n",
       "      <td>1849</td>\n",
       "      <td>270</td>\n",
       "      <td>1207</td>\n",
       "      <td>37</td>\n",
       "      <td>0.018381</td>\n",
       "      <td>110000</td>\n",
       "      <td>95000</td>\n",
       "      <td>125000</td>\n",
       "      <td>1534</td>\n",
       "      <td>364</td>\n",
       "      <td>193</td>\n",
       "    </tr>\n",
       "    <tr>\n",
       "      <th>1</th>\n",
       "      <td>2</td>\n",
       "      <td>2416</td>\n",
       "      <td>MINING AND MINERAL ENGINEERING</td>\n",
       "      <td>756.0</td>\n",
       "      <td>679.0</td>\n",
       "      <td>77.0</td>\n",
       "      <td>Engineering</td>\n",
       "      <td>0.101852</td>\n",
       "      <td>7</td>\n",
       "      <td>640</td>\n",
       "      <td>556</td>\n",
       "      <td>170</td>\n",
       "      <td>388</td>\n",
       "      <td>85</td>\n",
       "      <td>0.117241</td>\n",
       "      <td>75000</td>\n",
       "      <td>55000</td>\n",
       "      <td>90000</td>\n",
       "      <td>350</td>\n",
       "      <td>257</td>\n",
       "      <td>50</td>\n",
       "    </tr>\n",
       "    <tr>\n",
       "      <th>2</th>\n",
       "      <td>3</td>\n",
       "      <td>2415</td>\n",
       "      <td>METALLURGICAL ENGINEERING</td>\n",
       "      <td>856.0</td>\n",
       "      <td>725.0</td>\n",
       "      <td>131.0</td>\n",
       "      <td>Engineering</td>\n",
       "      <td>0.153037</td>\n",
       "      <td>3</td>\n",
       "      <td>648</td>\n",
       "      <td>558</td>\n",
       "      <td>133</td>\n",
       "      <td>340</td>\n",
       "      <td>16</td>\n",
       "      <td>0.024096</td>\n",
       "      <td>73000</td>\n",
       "      <td>50000</td>\n",
       "      <td>105000</td>\n",
       "      <td>456</td>\n",
       "      <td>176</td>\n",
       "      <td>0</td>\n",
       "    </tr>\n",
       "    <tr>\n",
       "      <th>3</th>\n",
       "      <td>4</td>\n",
       "      <td>2417</td>\n",
       "      <td>NAVAL ARCHITECTURE AND MARINE ENGINEERING</td>\n",
       "      <td>1258.0</td>\n",
       "      <td>1123.0</td>\n",
       "      <td>135.0</td>\n",
       "      <td>Engineering</td>\n",
       "      <td>0.107313</td>\n",
       "      <td>16</td>\n",
       "      <td>758</td>\n",
       "      <td>1069</td>\n",
       "      <td>150</td>\n",
       "      <td>692</td>\n",
       "      <td>40</td>\n",
       "      <td>0.050125</td>\n",
       "      <td>70000</td>\n",
       "      <td>43000</td>\n",
       "      <td>80000</td>\n",
       "      <td>529</td>\n",
       "      <td>102</td>\n",
       "      <td>0</td>\n",
       "    </tr>\n",
       "    <tr>\n",
       "      <th>4</th>\n",
       "      <td>5</td>\n",
       "      <td>2405</td>\n",
       "      <td>CHEMICAL ENGINEERING</td>\n",
       "      <td>32260.0</td>\n",
       "      <td>21239.0</td>\n",
       "      <td>11021.0</td>\n",
       "      <td>Engineering</td>\n",
       "      <td>0.341631</td>\n",
       "      <td>289</td>\n",
       "      <td>25694</td>\n",
       "      <td>23170</td>\n",
       "      <td>5180</td>\n",
       "      <td>16697</td>\n",
       "      <td>1672</td>\n",
       "      <td>0.061098</td>\n",
       "      <td>65000</td>\n",
       "      <td>50000</td>\n",
       "      <td>75000</td>\n",
       "      <td>18314</td>\n",
       "      <td>4440</td>\n",
       "      <td>972</td>\n",
       "    </tr>\n",
       "    <tr>\n",
       "      <th>...</th>\n",
       "      <td>...</td>\n",
       "      <td>...</td>\n",
       "      <td>...</td>\n",
       "      <td>...</td>\n",
       "      <td>...</td>\n",
       "      <td>...</td>\n",
       "      <td>...</td>\n",
       "      <td>...</td>\n",
       "      <td>...</td>\n",
       "      <td>...</td>\n",
       "      <td>...</td>\n",
       "      <td>...</td>\n",
       "      <td>...</td>\n",
       "      <td>...</td>\n",
       "      <td>...</td>\n",
       "      <td>...</td>\n",
       "      <td>...</td>\n",
       "      <td>...</td>\n",
       "      <td>...</td>\n",
       "      <td>...</td>\n",
       "      <td>...</td>\n",
       "    </tr>\n",
       "    <tr>\n",
       "      <th>168</th>\n",
       "      <td>169</td>\n",
       "      <td>3609</td>\n",
       "      <td>ZOOLOGY</td>\n",
       "      <td>8409.0</td>\n",
       "      <td>3050.0</td>\n",
       "      <td>5359.0</td>\n",
       "      <td>Biology &amp; Life Science</td>\n",
       "      <td>0.637293</td>\n",
       "      <td>47</td>\n",
       "      <td>6259</td>\n",
       "      <td>5043</td>\n",
       "      <td>2190</td>\n",
       "      <td>3602</td>\n",
       "      <td>304</td>\n",
       "      <td>0.046320</td>\n",
       "      <td>26000</td>\n",
       "      <td>20000</td>\n",
       "      <td>39000</td>\n",
       "      <td>2771</td>\n",
       "      <td>2947</td>\n",
       "      <td>743</td>\n",
       "    </tr>\n",
       "    <tr>\n",
       "      <th>169</th>\n",
       "      <td>170</td>\n",
       "      <td>5201</td>\n",
       "      <td>EDUCATIONAL PSYCHOLOGY</td>\n",
       "      <td>2854.0</td>\n",
       "      <td>522.0</td>\n",
       "      <td>2332.0</td>\n",
       "      <td>Psychology &amp; Social Work</td>\n",
       "      <td>0.817099</td>\n",
       "      <td>7</td>\n",
       "      <td>2125</td>\n",
       "      <td>1848</td>\n",
       "      <td>572</td>\n",
       "      <td>1211</td>\n",
       "      <td>148</td>\n",
       "      <td>0.065112</td>\n",
       "      <td>25000</td>\n",
       "      <td>24000</td>\n",
       "      <td>34000</td>\n",
       "      <td>1488</td>\n",
       "      <td>615</td>\n",
       "      <td>82</td>\n",
       "    </tr>\n",
       "    <tr>\n",
       "      <th>170</th>\n",
       "      <td>171</td>\n",
       "      <td>5202</td>\n",
       "      <td>CLINICAL PSYCHOLOGY</td>\n",
       "      <td>2838.0</td>\n",
       "      <td>568.0</td>\n",
       "      <td>2270.0</td>\n",
       "      <td>Psychology &amp; Social Work</td>\n",
       "      <td>0.799859</td>\n",
       "      <td>13</td>\n",
       "      <td>2101</td>\n",
       "      <td>1724</td>\n",
       "      <td>648</td>\n",
       "      <td>1293</td>\n",
       "      <td>368</td>\n",
       "      <td>0.149048</td>\n",
       "      <td>25000</td>\n",
       "      <td>25000</td>\n",
       "      <td>40000</td>\n",
       "      <td>986</td>\n",
       "      <td>870</td>\n",
       "      <td>622</td>\n",
       "    </tr>\n",
       "    <tr>\n",
       "      <th>171</th>\n",
       "      <td>172</td>\n",
       "      <td>5203</td>\n",
       "      <td>COUNSELING PSYCHOLOGY</td>\n",
       "      <td>4626.0</td>\n",
       "      <td>931.0</td>\n",
       "      <td>3695.0</td>\n",
       "      <td>Psychology &amp; Social Work</td>\n",
       "      <td>0.798746</td>\n",
       "      <td>21</td>\n",
       "      <td>3777</td>\n",
       "      <td>3154</td>\n",
       "      <td>965</td>\n",
       "      <td>2738</td>\n",
       "      <td>214</td>\n",
       "      <td>0.053621</td>\n",
       "      <td>23400</td>\n",
       "      <td>19200</td>\n",
       "      <td>26000</td>\n",
       "      <td>2403</td>\n",
       "      <td>1245</td>\n",
       "      <td>308</td>\n",
       "    </tr>\n",
       "    <tr>\n",
       "      <th>172</th>\n",
       "      <td>173</td>\n",
       "      <td>3501</td>\n",
       "      <td>LIBRARY SCIENCE</td>\n",
       "      <td>1098.0</td>\n",
       "      <td>134.0</td>\n",
       "      <td>964.0</td>\n",
       "      <td>Education</td>\n",
       "      <td>0.877960</td>\n",
       "      <td>2</td>\n",
       "      <td>742</td>\n",
       "      <td>593</td>\n",
       "      <td>237</td>\n",
       "      <td>410</td>\n",
       "      <td>87</td>\n",
       "      <td>0.104946</td>\n",
       "      <td>22000</td>\n",
       "      <td>20000</td>\n",
       "      <td>22000</td>\n",
       "      <td>288</td>\n",
       "      <td>338</td>\n",
       "      <td>192</td>\n",
       "    </tr>\n",
       "  </tbody>\n",
       "</table>\n",
       "<p>173 rows × 21 columns</p>\n",
       "</div>"
      ],
      "text/plain": [
       "     Rank  Major_code                                      Major  ...  College_jobs  Non_college_jobs  Low_wage_jobs\n",
       "0       1        2419                      PETROLEUM ENGINEERING  ...          1534               364            193\n",
       "1       2        2416             MINING AND MINERAL ENGINEERING  ...           350               257             50\n",
       "2       3        2415                  METALLURGICAL ENGINEERING  ...           456               176              0\n",
       "3       4        2417  NAVAL ARCHITECTURE AND MARINE ENGINEERING  ...           529               102              0\n",
       "4       5        2405                       CHEMICAL ENGINEERING  ...         18314              4440            972\n",
       "..    ...         ...                                        ...  ...           ...               ...            ...\n",
       "168   169        3609                                    ZOOLOGY  ...          2771              2947            743\n",
       "169   170        5201                     EDUCATIONAL PSYCHOLOGY  ...          1488               615             82\n",
       "170   171        5202                        CLINICAL PSYCHOLOGY  ...           986               870            622\n",
       "171   172        5203                      COUNSELING PSYCHOLOGY  ...          2403              1245            308\n",
       "172   173        3501                            LIBRARY SCIENCE  ...           288               338            192\n",
       "\n",
       "[173 rows x 21 columns]"
      ]
     },
     "execution_count": 2,
     "metadata": {},
     "output_type": "execute_result"
    }
   ],
   "source": [
    "# reading ata and show header \n",
    "majors = pd.read_csv(\"recent-grads.csv\")\n",
    "majors"
   ]
  },
  {
   "cell_type": "code",
   "execution_count": 3,
   "id": "statistical-lobby",
   "metadata": {},
   "outputs": [
    {
     "name": "stdout",
     "output_type": "stream",
     "text": [
      "<class 'pandas.core.frame.DataFrame'>\n",
      "RangeIndex: 173 entries, 0 to 172\n",
      "Data columns (total 21 columns):\n",
      " #   Column                Non-Null Count  Dtype  \n",
      "---  ------                --------------  -----  \n",
      " 0   Rank                  173 non-null    int64  \n",
      " 1   Major_code            173 non-null    int64  \n",
      " 2   Major                 173 non-null    object \n",
      " 3   Total                 172 non-null    float64\n",
      " 4   Men                   172 non-null    float64\n",
      " 5   Women                 172 non-null    float64\n",
      " 6   Major_category        173 non-null    object \n",
      " 7   ShareWomen            172 non-null    float64\n",
      " 8   Sample_size           173 non-null    int64  \n",
      " 9   Employed              173 non-null    int64  \n",
      " 10  Full_time             173 non-null    int64  \n",
      " 11  Part_time             173 non-null    int64  \n",
      " 12  Full_time_year_round  173 non-null    int64  \n",
      " 13  Unemployed            173 non-null    int64  \n",
      " 14  Unemployment_rate     173 non-null    float64\n",
      " 15  Median                173 non-null    int64  \n",
      " 16  P25th                 173 non-null    int64  \n",
      " 17  P75th                 173 non-null    int64  \n",
      " 18  College_jobs          173 non-null    int64  \n",
      " 19  Non_college_jobs      173 non-null    int64  \n",
      " 20  Low_wage_jobs         173 non-null    int64  \n",
      "dtypes: float64(5), int64(14), object(2)\n",
      "memory usage: 28.5+ KB\n"
     ]
    }
   ],
   "source": [
    "# get information \n",
    "majors.info()"
   ]
  },
  {
   "cell_type": "markdown",
   "id": "vocational-membrane",
   "metadata": {},
   "source": [
    "from information above we have some columns containing missing values `Total` `Men` `Women` `ShareWomen` we need to clean theses columns \n",
    "\n",
    "## Cleaning the Dataset"
   ]
  },
  {
   "cell_type": "code",
   "execution_count": 5,
   "id": "sapphire-delhi",
   "metadata": {},
   "outputs": [
    {
     "data": {
      "text/plain": [
       "Rank                    0\n",
       "Major_code              0\n",
       "Major                   0\n",
       "Total                   1\n",
       "Men                     1\n",
       "Women                   1\n",
       "Major_category          0\n",
       "ShareWomen              1\n",
       "Sample_size             0\n",
       "Employed                0\n",
       "Full_time               0\n",
       "Part_time               0\n",
       "Full_time_year_round    0\n",
       "Unemployed              0\n",
       "Unemployment_rate       0\n",
       "Median                  0\n",
       "P25th                   0\n",
       "P75th                   0\n",
       "College_jobs            0\n",
       "Non_college_jobs        0\n",
       "Low_wage_jobs           0\n",
       "dtype: int64"
      ]
     },
     "execution_count": 5,
     "metadata": {},
     "output_type": "execute_result"
    }
   ],
   "source": [
    "# check for number of missing values in each columns \n",
    "majors.isnull().sum()"
   ]
  },
  {
   "cell_type": "code",
   "execution_count": 6,
   "id": "opposite-interpretation",
   "metadata": {},
   "outputs": [
    {
     "name": "stdout",
     "output_type": "stream",
     "text": [
      "number of rows before cleaning:  173\n",
      "number of rows after cleaning:  172\n"
     ]
    }
   ],
   "source": [
    "# removing all rows containing missing values \n",
    "print(\"number of rows before cleaning: \", majors.shape[0])\n",
    "majors = majors.dropna(axis = 0, how= \"any\")\n",
    "\n",
    "print(\"number of rows after cleaning: \", majors.shape[0])"
   ]
  },
  {
   "cell_type": "markdown",
   "id": "intended-medicine",
   "metadata": {},
   "source": [
    "- one row was deleted "
   ]
  },
  {
   "cell_type": "code",
   "execution_count": 8,
   "id": "visible-thanks",
   "metadata": {},
   "outputs": [
    {
     "data": {
      "text/plain": [
       "Rank                    0\n",
       "Major_code              0\n",
       "Major                   0\n",
       "Total                   0\n",
       "Men                     0\n",
       "Women                   0\n",
       "Major_category          0\n",
       "ShareWomen              0\n",
       "Sample_size             0\n",
       "Employed                0\n",
       "Full_time               0\n",
       "Part_time               0\n",
       "Full_time_year_round    0\n",
       "Unemployed              0\n",
       "Unemployment_rate       0\n",
       "Median                  0\n",
       "P25th                   0\n",
       "P75th                   0\n",
       "College_jobs            0\n",
       "Non_college_jobs        0\n",
       "Low_wage_jobs           0\n",
       "dtype: int64"
      ]
     },
     "execution_count": 8,
     "metadata": {},
     "output_type": "execute_result"
    }
   ],
   "source": [
    "# check for null values again \n",
    "majors.isnull().sum()"
   ]
  },
  {
   "cell_type": "code",
   "execution_count": 7,
   "id": "english-password",
   "metadata": {},
   "outputs": [
    {
     "data": {
      "text/html": [
       "<div>\n",
       "<style scoped>\n",
       "    .dataframe tbody tr th:only-of-type {\n",
       "        vertical-align: middle;\n",
       "    }\n",
       "\n",
       "    .dataframe tbody tr th {\n",
       "        vertical-align: top;\n",
       "    }\n",
       "\n",
       "    .dataframe thead th {\n",
       "        text-align: right;\n",
       "    }\n",
       "</style>\n",
       "<table border=\"1\" class=\"dataframe\">\n",
       "  <thead>\n",
       "    <tr style=\"text-align: right;\">\n",
       "      <th></th>\n",
       "      <th>Rank</th>\n",
       "      <th>Major_code</th>\n",
       "      <th>Total</th>\n",
       "      <th>Men</th>\n",
       "      <th>Women</th>\n",
       "      <th>ShareWomen</th>\n",
       "      <th>Sample_size</th>\n",
       "      <th>Employed</th>\n",
       "      <th>Full_time</th>\n",
       "      <th>Part_time</th>\n",
       "      <th>Full_time_year_round</th>\n",
       "      <th>Unemployed</th>\n",
       "      <th>Unemployment_rate</th>\n",
       "      <th>Median</th>\n",
       "      <th>P25th</th>\n",
       "      <th>P75th</th>\n",
       "      <th>College_jobs</th>\n",
       "      <th>Non_college_jobs</th>\n",
       "      <th>Low_wage_jobs</th>\n",
       "    </tr>\n",
       "  </thead>\n",
       "  <tbody>\n",
       "    <tr>\n",
       "      <th>count</th>\n",
       "      <td>172.000000</td>\n",
       "      <td>172.000000</td>\n",
       "      <td>172.000000</td>\n",
       "      <td>172.000000</td>\n",
       "      <td>172.000000</td>\n",
       "      <td>172.000000</td>\n",
       "      <td>172.000000</td>\n",
       "      <td>172.00000</td>\n",
       "      <td>172.000000</td>\n",
       "      <td>172.000000</td>\n",
       "      <td>172.000000</td>\n",
       "      <td>172.000000</td>\n",
       "      <td>172.000000</td>\n",
       "      <td>172.000000</td>\n",
       "      <td>172.000000</td>\n",
       "      <td>172.000000</td>\n",
       "      <td>172.000000</td>\n",
       "      <td>172.000000</td>\n",
       "      <td>172.000000</td>\n",
       "    </tr>\n",
       "    <tr>\n",
       "      <th>mean</th>\n",
       "      <td>87.377907</td>\n",
       "      <td>3895.953488</td>\n",
       "      <td>39370.081395</td>\n",
       "      <td>16723.406977</td>\n",
       "      <td>22646.674419</td>\n",
       "      <td>0.522223</td>\n",
       "      <td>357.941860</td>\n",
       "      <td>31355.80814</td>\n",
       "      <td>26165.767442</td>\n",
       "      <td>8877.232558</td>\n",
       "      <td>19798.843023</td>\n",
       "      <td>2428.412791</td>\n",
       "      <td>0.068024</td>\n",
       "      <td>40076.744186</td>\n",
       "      <td>29486.918605</td>\n",
       "      <td>51386.627907</td>\n",
       "      <td>12387.401163</td>\n",
       "      <td>13354.325581</td>\n",
       "      <td>3878.633721</td>\n",
       "    </tr>\n",
       "    <tr>\n",
       "      <th>std</th>\n",
       "      <td>49.983181</td>\n",
       "      <td>1679.240095</td>\n",
       "      <td>63483.491009</td>\n",
       "      <td>28122.433474</td>\n",
       "      <td>41057.330740</td>\n",
       "      <td>0.231205</td>\n",
       "      <td>619.680419</td>\n",
       "      <td>50777.42865</td>\n",
       "      <td>42957.122320</td>\n",
       "      <td>14679.038729</td>\n",
       "      <td>33229.227514</td>\n",
       "      <td>4121.730452</td>\n",
       "      <td>0.030340</td>\n",
       "      <td>11461.388773</td>\n",
       "      <td>9190.769927</td>\n",
       "      <td>14882.278650</td>\n",
       "      <td>21344.967522</td>\n",
       "      <td>23841.326605</td>\n",
       "      <td>6960.467621</td>\n",
       "    </tr>\n",
       "    <tr>\n",
       "      <th>min</th>\n",
       "      <td>1.000000</td>\n",
       "      <td>1100.000000</td>\n",
       "      <td>124.000000</td>\n",
       "      <td>119.000000</td>\n",
       "      <td>0.000000</td>\n",
       "      <td>0.000000</td>\n",
       "      <td>2.000000</td>\n",
       "      <td>0.00000</td>\n",
       "      <td>111.000000</td>\n",
       "      <td>0.000000</td>\n",
       "      <td>111.000000</td>\n",
       "      <td>0.000000</td>\n",
       "      <td>0.000000</td>\n",
       "      <td>22000.000000</td>\n",
       "      <td>18500.000000</td>\n",
       "      <td>22000.000000</td>\n",
       "      <td>0.000000</td>\n",
       "      <td>0.000000</td>\n",
       "      <td>0.000000</td>\n",
       "    </tr>\n",
       "    <tr>\n",
       "      <th>25%</th>\n",
       "      <td>44.750000</td>\n",
       "      <td>2403.750000</td>\n",
       "      <td>4549.750000</td>\n",
       "      <td>2177.500000</td>\n",
       "      <td>1778.250000</td>\n",
       "      <td>0.336026</td>\n",
       "      <td>42.000000</td>\n",
       "      <td>3734.75000</td>\n",
       "      <td>3181.000000</td>\n",
       "      <td>1013.750000</td>\n",
       "      <td>2474.750000</td>\n",
       "      <td>299.500000</td>\n",
       "      <td>0.050261</td>\n",
       "      <td>33000.000000</td>\n",
       "      <td>24000.000000</td>\n",
       "      <td>41750.000000</td>\n",
       "      <td>1744.750000</td>\n",
       "      <td>1594.000000</td>\n",
       "      <td>336.750000</td>\n",
       "    </tr>\n",
       "    <tr>\n",
       "      <th>50%</th>\n",
       "      <td>87.500000</td>\n",
       "      <td>3608.500000</td>\n",
       "      <td>15104.000000</td>\n",
       "      <td>5434.000000</td>\n",
       "      <td>8386.500000</td>\n",
       "      <td>0.534024</td>\n",
       "      <td>131.000000</td>\n",
       "      <td>12031.50000</td>\n",
       "      <td>10073.500000</td>\n",
       "      <td>3332.500000</td>\n",
       "      <td>7436.500000</td>\n",
       "      <td>905.000000</td>\n",
       "      <td>0.067544</td>\n",
       "      <td>36000.000000</td>\n",
       "      <td>27000.000000</td>\n",
       "      <td>47000.000000</td>\n",
       "      <td>4467.500000</td>\n",
       "      <td>4603.500000</td>\n",
       "      <td>1238.500000</td>\n",
       "    </tr>\n",
       "    <tr>\n",
       "      <th>75%</th>\n",
       "      <td>130.250000</td>\n",
       "      <td>5503.250000</td>\n",
       "      <td>38909.750000</td>\n",
       "      <td>14631.000000</td>\n",
       "      <td>22553.750000</td>\n",
       "      <td>0.703299</td>\n",
       "      <td>339.000000</td>\n",
       "      <td>31701.25000</td>\n",
       "      <td>25447.250000</td>\n",
       "      <td>9981.000000</td>\n",
       "      <td>17674.750000</td>\n",
       "      <td>2397.000000</td>\n",
       "      <td>0.087247</td>\n",
       "      <td>45000.000000</td>\n",
       "      <td>33250.000000</td>\n",
       "      <td>58500.000000</td>\n",
       "      <td>14595.750000</td>\n",
       "      <td>11791.750000</td>\n",
       "      <td>3496.000000</td>\n",
       "    </tr>\n",
       "    <tr>\n",
       "      <th>max</th>\n",
       "      <td>173.000000</td>\n",
       "      <td>6403.000000</td>\n",
       "      <td>393735.000000</td>\n",
       "      <td>173809.000000</td>\n",
       "      <td>307087.000000</td>\n",
       "      <td>0.968954</td>\n",
       "      <td>4212.000000</td>\n",
       "      <td>307933.00000</td>\n",
       "      <td>251540.000000</td>\n",
       "      <td>115172.000000</td>\n",
       "      <td>199897.000000</td>\n",
       "      <td>28169.000000</td>\n",
       "      <td>0.177226</td>\n",
       "      <td>110000.000000</td>\n",
       "      <td>95000.000000</td>\n",
       "      <td>125000.000000</td>\n",
       "      <td>151643.000000</td>\n",
       "      <td>148395.000000</td>\n",
       "      <td>48207.000000</td>\n",
       "    </tr>\n",
       "  </tbody>\n",
       "</table>\n",
       "</div>"
      ],
      "text/plain": [
       "             Rank   Major_code          Total  ...   College_jobs  Non_college_jobs  Low_wage_jobs\n",
       "count  172.000000   172.000000     172.000000  ...     172.000000        172.000000     172.000000\n",
       "mean    87.377907  3895.953488   39370.081395  ...   12387.401163      13354.325581    3878.633721\n",
       "std     49.983181  1679.240095   63483.491009  ...   21344.967522      23841.326605    6960.467621\n",
       "min      1.000000  1100.000000     124.000000  ...       0.000000          0.000000       0.000000\n",
       "25%     44.750000  2403.750000    4549.750000  ...    1744.750000       1594.000000     336.750000\n",
       "50%     87.500000  3608.500000   15104.000000  ...    4467.500000       4603.500000    1238.500000\n",
       "75%    130.250000  5503.250000   38909.750000  ...   14595.750000      11791.750000    3496.000000\n",
       "max    173.000000  6403.000000  393735.000000  ...  151643.000000     148395.000000   48207.000000\n",
       "\n",
       "[8 rows x 19 columns]"
      ]
     },
     "execution_count": 7,
     "metadata": {},
     "output_type": "execute_result"
    }
   ],
   "source": [
    "# show some describtive statisrics about data \n",
    "majors.describe()"
   ]
  },
  {
   "cell_type": "code",
   "execution_count": 14,
   "id": "unexpected-polls",
   "metadata": {},
   "outputs": [
    {
     "data": {
      "text/plain": [
       "Index(['Rank', 'Major_code', 'Major', 'Total', 'Men', 'Women',\n",
       "       'Major_category', 'ShareWomen', 'Sample_size', 'Employed', 'Full_time',\n",
       "       'Part_time', 'Full_time_year_round', 'Unemployed', 'Unemployment_rate',\n",
       "       'Median', 'P25th', 'P75th', 'College_jobs', 'Non_college_jobs',\n",
       "       'Low_wage_jobs'],\n",
       "      dtype='object')"
      ]
     },
     "execution_count": 14,
     "metadata": {},
     "output_type": "execute_result"
    }
   ],
   "source": [
    "# show column names \n",
    "majors.columns"
   ]
  },
  {
   "cell_type": "code",
   "execution_count": 20,
   "id": "opened-claim",
   "metadata": {},
   "outputs": [],
   "source": [
    "# clean column names convert it to snack case \n",
    "col_names = []\n",
    "for c in majors.columns : \n",
    "    c = c.lower()\n",
    "    col_names.append(c)\n",
    "\n",
    "majors.columns = col_names"
   ]
  },
  {
   "cell_type": "code",
   "execution_count": 21,
   "id": "biblical-effects",
   "metadata": {},
   "outputs": [
    {
     "data": {
      "text/html": [
       "<div>\n",
       "<style scoped>\n",
       "    .dataframe tbody tr th:only-of-type {\n",
       "        vertical-align: middle;\n",
       "    }\n",
       "\n",
       "    .dataframe tbody tr th {\n",
       "        vertical-align: top;\n",
       "    }\n",
       "\n",
       "    .dataframe thead th {\n",
       "        text-align: right;\n",
       "    }\n",
       "</style>\n",
       "<table border=\"1\" class=\"dataframe\">\n",
       "  <thead>\n",
       "    <tr style=\"text-align: right;\">\n",
       "      <th></th>\n",
       "      <th>rank</th>\n",
       "      <th>major_code</th>\n",
       "      <th>major</th>\n",
       "      <th>total</th>\n",
       "      <th>men</th>\n",
       "      <th>women</th>\n",
       "      <th>major_category</th>\n",
       "      <th>sharewomen</th>\n",
       "      <th>sample_size</th>\n",
       "      <th>employed</th>\n",
       "      <th>full_time</th>\n",
       "      <th>part_time</th>\n",
       "      <th>full_time_year_round</th>\n",
       "      <th>unemployed</th>\n",
       "      <th>unemployment_rate</th>\n",
       "      <th>median</th>\n",
       "      <th>p25th</th>\n",
       "      <th>p75th</th>\n",
       "      <th>college_jobs</th>\n",
       "      <th>non_college_jobs</th>\n",
       "      <th>low_wage_jobs</th>\n",
       "    </tr>\n",
       "  </thead>\n",
       "  <tbody>\n",
       "    <tr>\n",
       "      <th>0</th>\n",
       "      <td>1</td>\n",
       "      <td>2419</td>\n",
       "      <td>PETROLEUM ENGINEERING</td>\n",
       "      <td>2339.0</td>\n",
       "      <td>2057.0</td>\n",
       "      <td>282.0</td>\n",
       "      <td>Engineering</td>\n",
       "      <td>0.120564</td>\n",
       "      <td>36</td>\n",
       "      <td>1976</td>\n",
       "      <td>1849</td>\n",
       "      <td>270</td>\n",
       "      <td>1207</td>\n",
       "      <td>37</td>\n",
       "      <td>0.018381</td>\n",
       "      <td>110000</td>\n",
       "      <td>95000</td>\n",
       "      <td>125000</td>\n",
       "      <td>1534</td>\n",
       "      <td>364</td>\n",
       "      <td>193</td>\n",
       "    </tr>\n",
       "    <tr>\n",
       "      <th>1</th>\n",
       "      <td>2</td>\n",
       "      <td>2416</td>\n",
       "      <td>MINING AND MINERAL ENGINEERING</td>\n",
       "      <td>756.0</td>\n",
       "      <td>679.0</td>\n",
       "      <td>77.0</td>\n",
       "      <td>Engineering</td>\n",
       "      <td>0.101852</td>\n",
       "      <td>7</td>\n",
       "      <td>640</td>\n",
       "      <td>556</td>\n",
       "      <td>170</td>\n",
       "      <td>388</td>\n",
       "      <td>85</td>\n",
       "      <td>0.117241</td>\n",
       "      <td>75000</td>\n",
       "      <td>55000</td>\n",
       "      <td>90000</td>\n",
       "      <td>350</td>\n",
       "      <td>257</td>\n",
       "      <td>50</td>\n",
       "    </tr>\n",
       "    <tr>\n",
       "      <th>2</th>\n",
       "      <td>3</td>\n",
       "      <td>2415</td>\n",
       "      <td>METALLURGICAL ENGINEERING</td>\n",
       "      <td>856.0</td>\n",
       "      <td>725.0</td>\n",
       "      <td>131.0</td>\n",
       "      <td>Engineering</td>\n",
       "      <td>0.153037</td>\n",
       "      <td>3</td>\n",
       "      <td>648</td>\n",
       "      <td>558</td>\n",
       "      <td>133</td>\n",
       "      <td>340</td>\n",
       "      <td>16</td>\n",
       "      <td>0.024096</td>\n",
       "      <td>73000</td>\n",
       "      <td>50000</td>\n",
       "      <td>105000</td>\n",
       "      <td>456</td>\n",
       "      <td>176</td>\n",
       "      <td>0</td>\n",
       "    </tr>\n",
       "    <tr>\n",
       "      <th>3</th>\n",
       "      <td>4</td>\n",
       "      <td>2417</td>\n",
       "      <td>NAVAL ARCHITECTURE AND MARINE ENGINEERING</td>\n",
       "      <td>1258.0</td>\n",
       "      <td>1123.0</td>\n",
       "      <td>135.0</td>\n",
       "      <td>Engineering</td>\n",
       "      <td>0.107313</td>\n",
       "      <td>16</td>\n",
       "      <td>758</td>\n",
       "      <td>1069</td>\n",
       "      <td>150</td>\n",
       "      <td>692</td>\n",
       "      <td>40</td>\n",
       "      <td>0.050125</td>\n",
       "      <td>70000</td>\n",
       "      <td>43000</td>\n",
       "      <td>80000</td>\n",
       "      <td>529</td>\n",
       "      <td>102</td>\n",
       "      <td>0</td>\n",
       "    </tr>\n",
       "    <tr>\n",
       "      <th>4</th>\n",
       "      <td>5</td>\n",
       "      <td>2405</td>\n",
       "      <td>CHEMICAL ENGINEERING</td>\n",
       "      <td>32260.0</td>\n",
       "      <td>21239.0</td>\n",
       "      <td>11021.0</td>\n",
       "      <td>Engineering</td>\n",
       "      <td>0.341631</td>\n",
       "      <td>289</td>\n",
       "      <td>25694</td>\n",
       "      <td>23170</td>\n",
       "      <td>5180</td>\n",
       "      <td>16697</td>\n",
       "      <td>1672</td>\n",
       "      <td>0.061098</td>\n",
       "      <td>65000</td>\n",
       "      <td>50000</td>\n",
       "      <td>75000</td>\n",
       "      <td>18314</td>\n",
       "      <td>4440</td>\n",
       "      <td>972</td>\n",
       "    </tr>\n",
       "  </tbody>\n",
       "</table>\n",
       "</div>"
      ],
      "text/plain": [
       "   rank  major_code                                      major  ...  college_jobs  non_college_jobs  low_wage_jobs\n",
       "0     1        2419                      PETROLEUM ENGINEERING  ...          1534               364            193\n",
       "1     2        2416             MINING AND MINERAL ENGINEERING  ...           350               257             50\n",
       "2     3        2415                  METALLURGICAL ENGINEERING  ...           456               176              0\n",
       "3     4        2417  NAVAL ARCHITECTURE AND MARINE ENGINEERING  ...           529               102              0\n",
       "4     5        2405                       CHEMICAL ENGINEERING  ...         18314              4440            972\n",
       "\n",
       "[5 rows x 21 columns]"
      ]
     },
     "execution_count": 21,
     "metadata": {},
     "output_type": "execute_result"
    }
   ],
   "source": [
    "majors.head()"
   ]
  },
  {
   "cell_type": "code",
   "execution_count": 107,
   "id": "governmental-landscape",
   "metadata": {},
   "outputs": [
    {
     "data": {
      "text/plain": [
       "Index(['rank', 'major_code', 'major', 'total', 'men', 'women',\n",
       "       'major_category', 'sharewomen', 'sample_size', 'employed', 'full_time',\n",
       "       'part_time', 'full_time_year_round', 'unemployed', 'unemployment_rate',\n",
       "       'median', 'p25th', 'p75th', 'college_jobs', 'non_college_jobs',\n",
       "       'low_wage_jobs'],\n",
       "      dtype='object')"
      ]
     },
     "execution_count": 107,
     "metadata": {},
     "output_type": "execute_result"
    }
   ],
   "source": [
    "majors.columns"
   ]
  },
  {
   "cell_type": "markdown",
   "id": "coastal-humor",
   "metadata": {},
   "source": [
    "all the columns are in snack case now but `sharewomen` column"
   ]
  },
  {
   "cell_type": "code",
   "execution_count": 109,
   "id": "fundamental-musical",
   "metadata": {},
   "outputs": [
    {
     "data": {
      "text/plain": [
       "Index(['rank', 'major_code', 'major', 'total', 'men', 'women',\n",
       "       'major_category', 'share_women', 'sample_size', 'employed', 'full_time',\n",
       "       'part_time', 'full_time_year_round', 'unemployed', 'unemployment_rate',\n",
       "       'median', 'p25th', 'p75th', 'college_jobs', 'non_college_jobs',\n",
       "       'low_wage_jobs'],\n",
       "      dtype='object')"
      ]
     },
     "execution_count": 109,
     "metadata": {},
     "output_type": "execute_result"
    }
   ],
   "source": [
    "# change sharewomen name \n",
    "majors.rename({\"sharewomen\" : \"share_women\"} , axis = 1 , inplace = True)\n",
    "majors.columns"
   ]
  },
  {
   "cell_type": "markdown",
   "id": "modified-sleeping",
   "metadata": {},
   "source": [
    "# Dataset Analysis \n",
    "- We will try to answe the objective questions via plotting the data columns and try to interpret the relationship between some columns using different plots \n",
    "\n",
    "## Scatter plots \n",
    "using [Scatter plots](https://en.wikipedia.org/wiki/Scatter_plot) to compare different relations in the dataset "
   ]
  },
  {
   "cell_type": "code",
   "execution_count": 45,
   "id": "intended-signature",
   "metadata": {},
   "outputs": [
    {
     "data": {
      "text/plain": [
       "Text(0.5, 1.0, 'Sample_size vs Median')"
      ]
     },
     "execution_count": 45,
     "metadata": {},
     "output_type": "execute_result"
    },
    {
     "data": {
      "image/png": "[encoded data removed]",
      "text/plain": [
       "<Figure size 864x360 with 1 Axes>"
      ]
     },
     "metadata": {
      "needs_background": "light"
     },
     "output_type": "display_data"
    }
   ],
   "source": [
    "# use Pandas built in plotting\n",
    "# sample_size and median salaries \n",
    "ax = majors.plot(x= \"sample_size\", y= \"median\" , kind = \"scatter\", figsize= (12,5), color = \"blue\")\n",
    "ax.set_xlabel(\"Sample Size\" , size = 12)\n",
    "ax.set_ylabel(\"Median\" , size= 12)\n",
    "ax.set_title(\"Sample_size vs Median\", size= 12)\n"
   ]
  },
  {
   "cell_type": "markdown",
   "id": "convertible-profile",
   "metadata": {},
   "source": [
    "- the plot shows different points of views :\n",
    "- some majors have large number of people with low salary and some other  have less people with huge salary "
   ]
  },
  {
   "cell_type": "code",
   "execution_count": 38,
   "id": "enhanced-cornell",
   "metadata": {},
   "outputs": [],
   "source": [
    "# majors.plot.hexbin(x= \"sample_size\", y= \"median\", figsize= (15,5), gridsize=(10), colormap= 'seismic')"
   ]
  },
  {
   "cell_type": "code",
   "execution_count": 54,
   "id": "effective-morrison",
   "metadata": {},
   "outputs": [
    {
     "data": {
      "text/plain": [
       "Text(0, 0.5, 'unemployment rate')"
      ]
     },
     "execution_count": 54,
     "metadata": {},
     "output_type": "execute_result"
    },
    {
     "data": {
      "image/png": "[encoded data removed]",
      "text/plain": [
       "<Figure size 864x360 with 1 Axes>"
      ]
     },
     "metadata": {
      "needs_background": "light"
     },
     "output_type": "display_data"
    }
   ],
   "source": [
    "# sample_size  and unempoyment rate \n",
    "ax = majors.plot(x = \"sample_size\" , y = \"unemployment_rate\" , kind= \"scatter\" , figsize= (12,5), color= \"red\")\n",
    "ax.set_title(\"samole_size vs unemployment_rate\" , size = 12)\n",
    "ax.set_xlabel(\"sample_size\", size = 12)\n",
    "ax.set_ylabel(\"unemployment rate\", size = 12)\n"
   ]
  },
  {
   "cell_type": "markdown",
   "id": "attached-setup",
   "metadata": {},
   "source": [
    "- from the plot the different percent of unemployment rate does not rely on the popularity of the major in other words the corelation between `sample_size` and `unemployment_rate` is weak reltionship for instance we can not say that the unemployment rate is increasing when the number of graduated people in the major increases because the plot shows some majors with less number of graduates and higher rate of unemployment and the inverse also if we see the point in the right hand side shows high number of people with average rate in contrast the point at top left of the plot shows less size and higher rate  "
   ]
  },
  {
   "cell_type": "code",
   "execution_count": 57,
   "id": "greatest-beatles",
   "metadata": {},
   "outputs": [
    {
     "data": {
      "text/plain": [
       "Text(0, 0.5, 'median')"
      ]
     },
     "execution_count": 57,
     "metadata": {},
     "output_type": "execute_result"
    },
    {
     "data": {
      "image/png": "[encoded data removed]",
      "text/plain": [
       "<Figure size 864x360 with 1 Axes>"
      ]
     },
     "metadata": {
      "needs_background": "light"
     },
     "output_type": "display_data"
    }
   ],
   "source": []
  },
  {
   "cell_type": "code",
   "execution_count": 58,
   "id": "southern-harrison",
   "metadata": {},
   "outputs": [],
   "source": [
    "# hexbin"
   ]
  },
  {
   "cell_type": "code",
   "execution_count": 110,
   "id": "expected-format",
   "metadata": {},
   "outputs": [
    {
     "data": {
      "image/png": "[encoded data removed]",
      "text/plain": [
       "<Figure size 864x360 with 1 Axes>"
      ]
     },
     "metadata": {
      "needs_background": "light"
     },
     "output_type": "display_data"
    }
   ],
   "source": [
    "# sharewomen and unemployment rate \n",
    "ax = majors.plot(x= \"share_women\" , y= \"unemployment_rate\", kind= \"scatter\" , color= \"red\", figsize= (12,5))\n",
    "ax.set_xlabel(\"share women \", size= 12)\n",
    "ax.set_ylabel(\"Unemployment_rate\" , size= 12)\n",
    "ax.set_title(\"Share Women percent vs Unemployment rate\" , size = 12)\n",
    "\n",
    "plt.show()"
   ]
  },
  {
   "cell_type": "markdown",
   "id": "pressed-brook",
   "metadata": {},
   "source": [
    "- The corelation now shows something a little different from previous columns it is not strong relationship but still is average relationship when the percent `share women` variable increases the `unemployment rate` for some majors increases and does not for some other majors so :\n",
    "\n",
    "\n",
    "- a women can take a descision here to choose a major with higher percentage for `shareWOMEN` and low unemployment rate. if I am suppose to take this decision I am gonna choose the major that is represented by the point between __( 0.6 and 0.8 )__ on `share women` X-axis or any choice that gives me a high availability for pickiing a job (low unemployment rate) and predominatly with women ( high share women percentage)"
   ]
  },
  {
   "cell_type": "code",
   "execution_count": 64,
   "id": "intended-indicator",
   "metadata": {},
   "outputs": [
    {
     "data": {
      "text/plain": [
       "Text(0, 0.5, 'Median')"
      ]
     },
     "execution_count": 64,
     "metadata": {},
     "output_type": "execute_result"
    },
    {
     "data": {
      "image/png": "[encoded data removed]",
      "text/plain": [
       "<Figure size 864x360 with 1 Axes>"
      ]
     },
     "metadata": {
      "needs_background": "light"
     },
     "output_type": "display_data"
    }
   ],
   "source": [
    "# men and median \n",
    "ax = majors.plot(x= \"men\" , y= \"median\" , figsize= (12,5) , color= \"blue\", kind = \"scatter\")\n",
    "ax.set_title(\"Men vs Median\" , size = 12)\n",
    "ax.set_xlabel(\"Men\" , size = 12)\n",
    "ax.set_ylabel(\"Median\", size = 12)\n"
   ]
  },
  {
   "cell_type": "markdown",
   "id": "exclusive-railway",
   "metadata": {},
   "source": [
    "- it is weak relationship between number of men in `major` and `median` salary \n",
    "- some majors with less number of men than other majors have higher salaries and some have high number of men with low salaries\n",
    "- but mostly the majors with fewer students have higher salaries \n"
   ]
  },
  {
   "cell_type": "code",
   "execution_count": 65,
   "id": "outside-circular",
   "metadata": {},
   "outputs": [],
   "source": [
    "# hexbin "
   ]
  },
  {
   "cell_type": "code",
   "execution_count": 68,
   "id": "indian-priority",
   "metadata": {},
   "outputs": [
    {
     "data": {
      "text/plain": [
       "Text(0, 0.5, 'Median  salary')"
      ]
     },
     "execution_count": 68,
     "metadata": {},
     "output_type": "execute_result"
    },
    {
     "data": {
      "image/png": "[encoded data removed]",
      "text/plain": [
       "<Figure size 864x360 with 1 Axes>"
      ]
     },
     "metadata": {
      "needs_background": "light"
     },
     "output_type": "display_data"
    }
   ],
   "source": [
    "# women vs median \n",
    "ax = majors.plot(x= \"women\" , y= \"median\" , kind= \"scatter\" , color = \"red\" , figsize = (12,5))\n",
    "ax.set_title(\"Women vs Median salary\" , size= 12)\n",
    "ax.set_xlabel(\"Women\" , size = 12)\n",
    "ax.set_ylabel(\"Median  salary\" , size = 12)\n"
   ]
  },
  {
   "cell_type": "code",
   "execution_count": null,
   "id": "enormous-eight",
   "metadata": {},
   "outputs": [],
   "source": [
    "# hexbin"
   ]
  },
  {
   "cell_type": "markdown",
   "id": "severe-verse",
   "metadata": {},
   "source": [
    "this corelation is weak also like the previous one but here for __Women__ and the same concolusion like the previous plot __Men vs Median__\n",
    "\n",
    "if we try to answer objective questions we will give an aproximate answer from the previos plots.\n",
    "\n",
    "- __Do students in popular majors make more money ?__ \n",
    "\n",
    "from last two plots __Men vs Median__ and __Women vs Median salary__ we mentioned that mostly the majors with __fewer__ students earning more money \n",
    "\n",
    "- __Do students in predominatly female majors make more money ?__ \n",
    "\n",
    "it is not completely clear from previous plots but let's try to interpret the corelation between `sharewomen` percent and `median` salaries \n"
   ]
  },
  {
   "cell_type": "code",
   "execution_count": 112,
   "id": "educated-piece",
   "metadata": {},
   "outputs": [
    {
     "data": {
      "text/plain": [
       "Text(0, 0.5, 'Median')"
      ]
     },
     "execution_count": 112,
     "metadata": {},
     "output_type": "execute_result"
    },
    {
     "data": {
      "image/png": "[encoded data removed]",
      "text/plain": [
       "<Figure size 864x360 with 1 Axes>"
      ]
     },
     "metadata": {
      "needs_background": "light"
     },
     "output_type": "display_data"
    }
   ],
   "source": [
    "ax = majors.plot(x= \"share_women\" , y= \"median\" , kind = \"scatter\" , figsize= (12,5), color = \"blue\")\n",
    "ax.set_title(\"Share Women vs Median\" , size= 12)\n",
    "ax.set_xlabel(\"Share_women\" , size = 12)\n",
    "ax.set_ylabel(\"Median\" , size = 12)"
   ]
  },
  {
   "cell_type": "markdown",
   "id": "weekly-corporation",
   "metadata": {},
   "source": [
    "- here is the weakness in the corelation is much __clearer__ which means the people in predominatly female majors make **less** money than students in predominatly male majors \n",
    "\n",
    "\n",
    "\n",
    "- __Is there is any link between  full_time employees and median salary ?__ <br>\n",
    "will try to answer from the next plot "
   ]
  },
  {
   "cell_type": "code",
   "execution_count": 75,
   "id": "empty-offset",
   "metadata": {},
   "outputs": [
    {
     "data": {
      "text/plain": [
       "Text(0, 0.5, 'median')"
      ]
     },
     "execution_count": 75,
     "metadata": {},
     "output_type": "execute_result"
    },
    {
     "data": {
      "image/png": "[encoded data removed]",
      "text/plain": [
       "<Figure size 864x360 with 1 Axes>"
      ]
     },
     "metadata": {
      "needs_background": "light"
     },
     "output_type": "display_data"
    }
   ],
   "source": [
    "# full time and median \n",
    "ax = majors.plot(x= \"full_time\" , y= \"median\" , kind= \"scatter\" , color= \"blue\", figsize= (12,5))\n",
    "ax.set_title(\"Full_time vs Median\", size= 12)\n",
    "ax.set_xlabel(\"full_time\" , size = 12)\n",
    "ax.set_ylabel(\"median\", size = 12, rotation = 0)"
   ]
  },
  {
   "cell_type": "markdown",
   "id": "helpful-corporation",
   "metadata": {},
   "source": [
    "- the corelation between `full_time` employed graduates and `median` salary is weak some people have full time jobs with low salaries , some have with higher salaries this is normal in our life for instance the director of a company is not getting the same salary of security men although both are working full time "
   ]
  },
  {
   "cell_type": "markdown",
   "id": "determined-divorce",
   "metadata": {},
   "source": [
    "# Histograms \n",
    "\n",
    "- we are going to explore the data distribution over different columns in the dataset fo more interpretation "
   ]
  },
  {
   "cell_type": "code",
   "execution_count": 76,
   "id": "pharmaceutical-border",
   "metadata": {},
   "outputs": [
    {
     "data": {
      "text/html": [
       "<div>\n",
       "<style scoped>\n",
       "    .dataframe tbody tr th:only-of-type {\n",
       "        vertical-align: middle;\n",
       "    }\n",
       "\n",
       "    .dataframe tbody tr th {\n",
       "        vertical-align: top;\n",
       "    }\n",
       "\n",
       "    .dataframe thead th {\n",
       "        text-align: right;\n",
       "    }\n",
       "</style>\n",
       "<table border=\"1\" class=\"dataframe\">\n",
       "  <thead>\n",
       "    <tr style=\"text-align: right;\">\n",
       "      <th></th>\n",
       "      <th>rank</th>\n",
       "      <th>major_code</th>\n",
       "      <th>total</th>\n",
       "      <th>men</th>\n",
       "      <th>women</th>\n",
       "      <th>sharewomen</th>\n",
       "      <th>sample_size</th>\n",
       "      <th>employed</th>\n",
       "      <th>full_time</th>\n",
       "      <th>part_time</th>\n",
       "      <th>full_time_year_round</th>\n",
       "      <th>unemployed</th>\n",
       "      <th>unemployment_rate</th>\n",
       "      <th>median</th>\n",
       "      <th>p25th</th>\n",
       "      <th>p75th</th>\n",
       "      <th>college_jobs</th>\n",
       "      <th>non_college_jobs</th>\n",
       "      <th>low_wage_jobs</th>\n",
       "    </tr>\n",
       "  </thead>\n",
       "  <tbody>\n",
       "    <tr>\n",
       "      <th>count</th>\n",
       "      <td>172.000000</td>\n",
       "      <td>172.000000</td>\n",
       "      <td>172.000000</td>\n",
       "      <td>172.000000</td>\n",
       "      <td>172.000000</td>\n",
       "      <td>172.000000</td>\n",
       "      <td>172.000000</td>\n",
       "      <td>172.00000</td>\n",
       "      <td>172.000000</td>\n",
       "      <td>172.000000</td>\n",
       "      <td>172.000000</td>\n",
       "      <td>172.000000</td>\n",
       "      <td>172.000000</td>\n",
       "      <td>172.000000</td>\n",
       "      <td>172.000000</td>\n",
       "      <td>172.000000</td>\n",
       "      <td>172.000000</td>\n",
       "      <td>172.000000</td>\n",
       "      <td>172.000000</td>\n",
       "    </tr>\n",
       "    <tr>\n",
       "      <th>mean</th>\n",
       "      <td>87.377907</td>\n",
       "      <td>3895.953488</td>\n",
       "      <td>39370.081395</td>\n",
       "      <td>16723.406977</td>\n",
       "      <td>22646.674419</td>\n",
       "      <td>0.522223</td>\n",
       "      <td>357.941860</td>\n",
       "      <td>31355.80814</td>\n",
       "      <td>26165.767442</td>\n",
       "      <td>8877.232558</td>\n",
       "      <td>19798.843023</td>\n",
       "      <td>2428.412791</td>\n",
       "      <td>0.068024</td>\n",
       "      <td>40076.744186</td>\n",
       "      <td>29486.918605</td>\n",
       "      <td>51386.627907</td>\n",
       "      <td>12387.401163</td>\n",
       "      <td>13354.325581</td>\n",
       "      <td>3878.633721</td>\n",
       "    </tr>\n",
       "    <tr>\n",
       "      <th>std</th>\n",
       "      <td>49.983181</td>\n",
       "      <td>1679.240095</td>\n",
       "      <td>63483.491009</td>\n",
       "      <td>28122.433474</td>\n",
       "      <td>41057.330740</td>\n",
       "      <td>0.231205</td>\n",
       "      <td>619.680419</td>\n",
       "      <td>50777.42865</td>\n",
       "      <td>42957.122320</td>\n",
       "      <td>14679.038729</td>\n",
       "      <td>33229.227514</td>\n",
       "      <td>4121.730452</td>\n",
       "      <td>0.030340</td>\n",
       "      <td>11461.388773</td>\n",
       "      <td>9190.769927</td>\n",
       "      <td>14882.278650</td>\n",
       "      <td>21344.967522</td>\n",
       "      <td>23841.326605</td>\n",
       "      <td>6960.467621</td>\n",
       "    </tr>\n",
       "    <tr>\n",
       "      <th>min</th>\n",
       "      <td>1.000000</td>\n",
       "      <td>1100.000000</td>\n",
       "      <td>124.000000</td>\n",
       "      <td>119.000000</td>\n",
       "      <td>0.000000</td>\n",
       "      <td>0.000000</td>\n",
       "      <td>2.000000</td>\n",
       "      <td>0.00000</td>\n",
       "      <td>111.000000</td>\n",
       "      <td>0.000000</td>\n",
       "      <td>111.000000</td>\n",
       "      <td>0.000000</td>\n",
       "      <td>0.000000</td>\n",
       "      <td>22000.000000</td>\n",
       "      <td>18500.000000</td>\n",
       "      <td>22000.000000</td>\n",
       "      <td>0.000000</td>\n",
       "      <td>0.000000</td>\n",
       "      <td>0.000000</td>\n",
       "    </tr>\n",
       "    <tr>\n",
       "      <th>25%</th>\n",
       "      <td>44.750000</td>\n",
       "      <td>2403.750000</td>\n",
       "      <td>4549.750000</td>\n",
       "      <td>2177.500000</td>\n",
       "      <td>1778.250000</td>\n",
       "      <td>0.336026</td>\n",
       "      <td>42.000000</td>\n",
       "      <td>3734.75000</td>\n",
       "      <td>3181.000000</td>\n",
       "      <td>1013.750000</td>\n",
       "      <td>2474.750000</td>\n",
       "      <td>299.500000</td>\n",
       "      <td>0.050261</td>\n",
       "      <td>33000.000000</td>\n",
       "      <td>24000.000000</td>\n",
       "      <td>41750.000000</td>\n",
       "      <td>1744.750000</td>\n",
       "      <td>1594.000000</td>\n",
       "      <td>336.750000</td>\n",
       "    </tr>\n",
       "    <tr>\n",
       "      <th>50%</th>\n",
       "      <td>87.500000</td>\n",
       "      <td>3608.500000</td>\n",
       "      <td>15104.000000</td>\n",
       "      <td>5434.000000</td>\n",
       "      <td>8386.500000</td>\n",
       "      <td>0.534024</td>\n",
       "      <td>131.000000</td>\n",
       "      <td>12031.50000</td>\n",
       "      <td>10073.500000</td>\n",
       "      <td>3332.500000</td>\n",
       "      <td>7436.500000</td>\n",
       "      <td>905.000000</td>\n",
       "      <td>0.067544</td>\n",
       "      <td>36000.000000</td>\n",
       "      <td>27000.000000</td>\n",
       "      <td>47000.000000</td>\n",
       "      <td>4467.500000</td>\n",
       "      <td>4603.500000</td>\n",
       "      <td>1238.500000</td>\n",
       "    </tr>\n",
       "    <tr>\n",
       "      <th>75%</th>\n",
       "      <td>130.250000</td>\n",
       "      <td>5503.250000</td>\n",
       "      <td>38909.750000</td>\n",
       "      <td>14631.000000</td>\n",
       "      <td>22553.750000</td>\n",
       "      <td>0.703299</td>\n",
       "      <td>339.000000</td>\n",
       "      <td>31701.25000</td>\n",
       "      <td>25447.250000</td>\n",
       "      <td>9981.000000</td>\n",
       "      <td>17674.750000</td>\n",
       "      <td>2397.000000</td>\n",
       "      <td>0.087247</td>\n",
       "      <td>45000.000000</td>\n",
       "      <td>33250.000000</td>\n",
       "      <td>58500.000000</td>\n",
       "      <td>14595.750000</td>\n",
       "      <td>11791.750000</td>\n",
       "      <td>3496.000000</td>\n",
       "    </tr>\n",
       "    <tr>\n",
       "      <th>max</th>\n",
       "      <td>173.000000</td>\n",
       "      <td>6403.000000</td>\n",
       "      <td>393735.000000</td>\n",
       "      <td>173809.000000</td>\n",
       "      <td>307087.000000</td>\n",
       "      <td>0.968954</td>\n",
       "      <td>4212.000000</td>\n",
       "      <td>307933.00000</td>\n",
       "      <td>251540.000000</td>\n",
       "      <td>115172.000000</td>\n",
       "      <td>199897.000000</td>\n",
       "      <td>28169.000000</td>\n",
       "      <td>0.177226</td>\n",
       "      <td>110000.000000</td>\n",
       "      <td>95000.000000</td>\n",
       "      <td>125000.000000</td>\n",
       "      <td>151643.000000</td>\n",
       "      <td>148395.000000</td>\n",
       "      <td>48207.000000</td>\n",
       "    </tr>\n",
       "  </tbody>\n",
       "</table>\n",
       "</div>"
      ],
      "text/plain": [
       "             rank   major_code          total  ...   college_jobs  non_college_jobs  low_wage_jobs\n",
       "count  172.000000   172.000000     172.000000  ...     172.000000        172.000000     172.000000\n",
       "mean    87.377907  3895.953488   39370.081395  ...   12387.401163      13354.325581    3878.633721\n",
       "std     49.983181  1679.240095   63483.491009  ...   21344.967522      23841.326605    6960.467621\n",
       "min      1.000000  1100.000000     124.000000  ...       0.000000          0.000000       0.000000\n",
       "25%     44.750000  2403.750000    4549.750000  ...    1744.750000       1594.000000     336.750000\n",
       "50%     87.500000  3608.500000   15104.000000  ...    4467.500000       4603.500000    1238.500000\n",
       "75%    130.250000  5503.250000   38909.750000  ...   14595.750000      11791.750000    3496.000000\n",
       "max    173.000000  6403.000000  393735.000000  ...  151643.000000     148395.000000   48207.000000\n",
       "\n",
       "[8 rows x 19 columns]"
      ]
     },
     "execution_count": 76,
     "metadata": {},
     "output_type": "execute_result"
    }
   ],
   "source": [
    "# show describtive statistics \n",
    "majors.describe()"
   ]
  },
  {
   "cell_type": "code",
   "execution_count": 95,
   "id": "least-tolerance",
   "metadata": {},
   "outputs": [
    {
     "data": {
      "text/plain": [
       "Text(0, 0.5, 'value_counts')"
      ]
     },
     "execution_count": 95,
     "metadata": {},
     "output_type": "execute_result"
    },
    {
     "data": {
      "image/png": "[encoded data removed]",
      "text/plain": [
       "<Figure size 864x360 with 1 Axes>"
      ]
     },
     "metadata": {
      "needs_background": "light"
     },
     "output_type": "display_data"
    }
   ],
   "source": [
    "# 1- FOR SAMPLE_SIZE DISTRIBUTION \n",
    "ax = majors[\"sample_size\"].hist(figsize = (12,5) , grid = False)\n",
    "ax.set_title(\"Sample size histogram\" , size= 15)\n",
    "ax.set_xlabel(\"sample_size\" , size= 10)\n",
    "ax.set_ylabel(\"value_counts\" , size= 10)"
   ]
  },
  {
   "cell_type": "markdown",
   "id": "collectible-slope",
   "metadata": {},
   "source": [
    "- most of samples fall in the range between __0 to 1000__"
   ]
  },
  {
   "cell_type": "code",
   "execution_count": 96,
   "id": "proof-dodge",
   "metadata": {},
   "outputs": [
    {
     "data": {
      "text/plain": [
       "Text(0, 0.5, 'value_counts')"
      ]
     },
     "execution_count": 96,
     "metadata": {},
     "output_type": "execute_result"
    },
    {
     "data": {
      "image/png": "[encoded data removed]",
      "text/plain": [
       "<Figure size 864x360 with 1 Axes>"
      ]
     },
     "metadata": {
      "needs_background": "light"
     },
     "output_type": "display_data"
    }
   ],
   "source": [
    "# median histogram \n",
    "ax = majors[\"median\"].hist(bins = 10, figsize= (12,5))\n",
    "ax.set_title(\"Median Distribution\" , size = 20)\n",
    "ax.set_xlabel(\"Median\" , size = 10)\n",
    "ax.set_ylabel(\"value_counts\" , size = 10)\n"
   ]
  },
  {
   "cell_type": "markdown",
   "id": "dimensional-montreal",
   "metadata": {},
   "source": [
    "- the plot is right tailed but most of data falls in range between __20000 to 50000__ (most of majors median salaries ) we can get the median of all the average salaries for all majors to generalize the average salary for all these majors in tha dataset "
   ]
  },
  {
   "cell_type": "code",
   "execution_count": 97,
   "id": "sharing-macro",
   "metadata": {},
   "outputs": [
    {
     "data": {
      "text/plain": [
       "36000.0"
      ]
     },
     "execution_count": 97,
     "metadata": {},
     "output_type": "execute_result"
    }
   ],
   "source": [
    "majors[\"median\"].median()  # calculate the average"
   ]
  },
  {
   "cell_type": "markdown",
   "id": "laden-elizabeth",
   "metadata": {},
   "source": [
    "we can say that any one will get a job in the community will get average salary __36000__ $ annually"
   ]
  },
  {
   "cell_type": "code",
   "execution_count": 99,
   "id": "polyphonic-dependence",
   "metadata": {},
   "outputs": [
    {
     "data": {
      "text/plain": [
       "Text(0, 0.5, 'value_counts')"
      ]
     },
     "execution_count": 99,
     "metadata": {},
     "output_type": "execute_result"
    },
    {
     "data": {
      "image/png": "[encoded data removed]",
      "text/plain": [
       "<Figure size 864x360 with 1 Axes>"
      ]
     },
     "metadata": {
      "needs_background": "light"
     },
     "output_type": "display_data"
    }
   ],
   "source": [
    "# employed distribution \n",
    "ax = majors[\"employed\"].hist(bins= 10, figsize= (12,5))\n",
    "ax.set_title(\"Employed people distribution\", size= 20)\n",
    "ax.set_xlabel(\"Employed\")\n",
    "ax.set_ylabel(\"value_counts\")"
   ]
  },
  {
   "cell_type": "code",
   "execution_count": 101,
   "id": "accompanied-bottom",
   "metadata": {},
   "outputs": [
    {
     "data": {
      "text/plain": [
       "12031.5"
      ]
     },
     "execution_count": 101,
     "metadata": {},
     "output_type": "execute_result"
    }
   ],
   "source": [
    "majors[\"employed\"].median()"
   ]
  },
  {
   "cell_type": "code",
   "execution_count": 103,
   "id": "sunset-evaluation",
   "metadata": {},
   "outputs": [
    {
     "data": {
      "text/plain": [
       "Text(0.5, 1.0, 'Full time Distribution')"
      ]
     },
     "execution_count": 103,
     "metadata": {},
     "output_type": "execute_result"
    },
    {
     "data": {
      "image/png": "[encoded data removed]",
      "text/plain": [
       "<Figure size 864x360 with 1 Axes>"
      ]
     },
     "metadata": {
      "needs_background": "light"
     },
     "output_type": "display_data"
    }
   ],
   "source": [
    "#full time \n",
    "ax = majors[\"full_time\"].hist(figsize= (12,5) , grid = False, bins= 10)\n",
    "ax.set_title(\"Full time Distribution\")"
   ]
  },
  {
   "cell_type": "code",
   "execution_count": 113,
   "id": "impressed-beach",
   "metadata": {},
   "outputs": [
    {
     "data": {
      "text/plain": [
       "Text(0, 0.5, 'value_counts')"
      ]
     },
     "execution_count": 113,
     "metadata": {},
     "output_type": "execute_result"
    },
    {
     "data": {
      "image/png": "[encoded data removed]",
      "text/plain": [
       "<Figure size 864x360 with 1 Axes>"
      ]
     },
     "metadata": {
      "needs_background": "light"
     },
     "output_type": "display_data"
    }
   ],
   "source": [
    "ax = majors[\"share_women\"].hist(figsize =(12,5) )\n",
    "ax.set_title(\"share women distrubution\")\n",
    "ax.set_xlabel(\"share_women\")\n",
    "ax.set_ylabel(\"value_counts\")\n"
   ]
  },
  {
   "cell_type": "code",
   "execution_count": 124,
   "id": "weighted-validation",
   "metadata": {},
   "outputs": [
    {
     "data": {
      "text/plain": [
       "(-0.0019690000000000003, 0.0969]     3\n",
       "(0.0969, 0.194]                     14\n",
       "(0.194, 0.291]                      16\n",
       "(0.291, 0.388]                      22\n",
       "(0.388, 0.484]                      19\n",
       "(0.484, 0.581]                      21\n",
       "(0.581, 0.678]                      25\n",
       "(0.678, 0.775]                      29\n",
       "(0.775, 0.872]                      11\n",
       "(0.872, 0.969]                      12\n",
       "Name: share_women, dtype: int64"
      ]
     },
     "execution_count": 124,
     "metadata": {},
     "output_type": "execute_result"
    }
   ],
   "source": [
    "majors[\"share_women\"].value_counts(bins = 10).sort_index(ascending = True)"
   ]
  },
  {
   "cell_type": "markdown",
   "id": "orange-output",
   "metadata": {},
   "source": [
    "looking at the histogram and the intervals we conclude : \n",
    "- 3 majors have women share less than __10%__ ( __90% males , 1.7% out of all majors__)\n",
    "\n",
    "- total  __( 74 major - 43% )__  have women share less than __48.4%__ which means that the rest of majors __(98 major, 56.9%)__ are predominatly males not females   "
   ]
  },
  {
   "cell_type": "code",
   "execution_count": 134,
   "id": "wicked-lloyd",
   "metadata": {},
   "outputs": [
    {
     "data": {
      "text/plain": [
       "Text(0.5, 1.0, 'Unemploymeny Distribution')"
      ]
     },
     "execution_count": 134,
     "metadata": {},
     "output_type": "execute_result"
    },
    {
     "data": {
      "image/png": "[encoded data removed]",
      "text/plain": [
       "<Figure size 864x360 with 1 Axes>"
      ]
     },
     "metadata": {
      "needs_background": "light"
     },
     "output_type": "display_data"
    }
   ],
   "source": [
    "ax = majors[\"unemployment_rate\"].hist(figsize= (12,5) , bins= 10)\n",
    "ax.set_xlabel(\"unempoyment rate\")\n",
    "ax.set_ylabel(\"value_counts\")\n",
    "ax.set_title(\"Unemploymeny Distribution\" , size = 20)"
   ]
  },
  {
   "cell_type": "code",
   "execution_count": 138,
   "id": "appointed-broadcast",
   "metadata": {},
   "outputs": [
    {
     "data": {
      "text/plain": [
       "Text(0.5, 0, 'Men')"
      ]
     },
     "execution_count": 138,
     "metadata": {},
     "output_type": "execute_result"
    },
    {
     "data": {
      "image/png": "[encoded data removed]",
      "text/plain": [
       "<Figure size 864x360 with 1 Axes>"
      ]
     },
     "metadata": {
      "needs_background": "light"
     },
     "output_type": "display_data"
    }
   ],
   "source": [
    "ax = majors[\"men\"].hist(figsize = (12,5) , bins =10)\n",
    "ax.set_title(\"Men graduates Distribution\", size = 20)\n",
    "ax.set_ylabel(\"value_counts\")\n",
    "ax.set_xlabel(\"Men\")"
   ]
  },
  {
   "cell_type": "code",
   "execution_count": 140,
   "id": "legitimate-assistant",
   "metadata": {},
   "outputs": [
    {
     "data": {
      "text/plain": [
       "(-54.690999999999995, 17488.0]    132\n",
       "(17488.0, 34857.0]                 20\n",
       "(34857.0, 52226.0]                  3\n",
       "(52226.0, 69595.0]                  3\n",
       "(69595.0, 86964.0]                  6\n",
       "(86964.0, 104333.0]                 4\n",
       "(104333.0, 121702.0]                2\n",
       "(121702.0, 139071.0]                1\n",
       "(139071.0, 156440.0]                0\n",
       "(156440.0, 173809.0]                1\n",
       "Name: men, dtype: int64"
      ]
     },
     "execution_count": 140,
     "metadata": {},
     "output_type": "execute_result"
    }
   ],
   "source": [
    "majors[\"men\"].value_counts(bins = 10 ).sort_index() "
   ]
  },
  {
   "cell_type": "markdown",
   "id": "critical-buying",
   "metadata": {},
   "source": [
    "- most of graduated men number in range between __0 to 34857__"
   ]
  },
  {
   "cell_type": "code",
   "execution_count": 141,
   "id": "sharing-algeria",
   "metadata": {},
   "outputs": [
    {
     "data": {
      "text/plain": [
       "Text(0.5, 0, 'Women')"
      ]
     },
     "execution_count": 141,
     "metadata": {},
     "output_type": "execute_result"
    },
    {
     "data": {
      "image/png": "[encoded data removed]",
      "text/plain": [
       "<Figure size 864x360 with 1 Axes>"
      ]
     },
     "metadata": {
      "needs_background": "light"
     },
     "output_type": "display_data"
    }
   ],
   "source": [
    "ax = majors[\"women\"].hist(figsize = (12,5) , bins =10)\n",
    "ax.set_title(\"Women graduates Distribution\", size = 20)\n",
    "ax.set_ylabel(\"value_counts\")\n",
    "ax.set_xlabel(\"Women\")"
   ]
  },
  {
   "cell_type": "code",
   "execution_count": 143,
   "id": "exceptional-oklahoma",
   "metadata": {},
   "outputs": [
    {
     "data": {
      "text/plain": [
       "(-307.08799999999997, 30708.7]    139\n",
       "(30708.7, 61417.4]                 16\n",
       "(61417.4, 92126.1]                  6\n",
       "(92126.1, 122834.8]                 3\n",
       "(122834.8, 153543.5]                3\n",
       "(153543.5, 184252.2]                3\n",
       "(184252.2, 214960.9]                1\n",
       "(276378.3, 307087.0]                1\n",
       "(214960.9, 245669.6]                0\n",
       "(245669.6, 276378.3]                0\n",
       "Name: women, dtype: int64"
      ]
     },
     "execution_count": 143,
     "metadata": {},
     "output_type": "execute_result"
    }
   ],
   "source": [
    "majors[\"women\"].value_counts(bins = 10)"
   ]
  },
  {
   "cell_type": "markdown",
   "id": "honey-playback",
   "metadata": {},
   "source": [
    "- most of women graduated number falls between __0 to 61417.4__"
   ]
  },
  {
   "cell_type": "code",
   "execution_count": null,
   "id": "structural-arena",
   "metadata": {},
   "outputs": [],
   "source": []
  }
 ],
 "metadata": {
  "kernelspec": {
   "display_name": "Python 3",
   "language": "python",
   "name": "python3"
  },
  "language_info": {
   "codemirror_mode": {
    "name": "ipython",
    "version": 3
   },
   "file_extension": ".py",
   "mimetype": "text/x-python",
   "name": "python",
   "nbconvert_exporter": "python",
   "pygments_lexer": "ipython3",
   "version": "3.8.5"
  }
 },
 "nbformat": 4,
 "nbformat_minor": 5
}
