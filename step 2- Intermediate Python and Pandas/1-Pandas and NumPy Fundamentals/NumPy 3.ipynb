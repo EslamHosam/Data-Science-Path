{
 "cells": [
  {
   "cell_type": "markdown",
   "metadata": {},
   "source": [
    "## Numpy tutorial"
   ]
  },
  {
   "cell_type": "markdown",
   "metadata": {},
   "source": [
    "**creating numpy array**"
   ]
  },
  {
   "cell_type": "code",
   "execution_count": 2,
   "metadata": {},
   "outputs": [
    {
     "name": "stdout",
     "output_type": "stream",
     "text": [
      "[1 2 3]\n"
     ]
    }
   ],
   "source": [
    "# import numpy library \n",
    "import numpy as np\n",
    "\n",
    "# create rank 1 array \n",
    "arr = np.array([1, 2, 3])\n",
    "print(arr)"
   ]
  },
  {
   "cell_type": "code",
   "execution_count": 4,
   "metadata": {},
   "outputs": [
    {
     "name": "stdout",
     "output_type": "stream",
     "text": [
      "Array of rank 2: \n",
      " [[1 2 3]\n",
      " [4 5 6]]\n"
     ]
    }
   ],
   "source": [
    "# create rank2 array\n",
    "arr2 = np.array([[1,2,3],\n",
    "                [4,5,6]])\n",
    "\n",
    "print(\"Array of rank 2: \\n\",arr2)"
   ]
  },
  {
   "cell_type": "code",
   "execution_count": 5,
   "metadata": {},
   "outputs": [
    {
     "name": "stdout",
     "output_type": "stream",
     "text": [
      "array created used passed tuple \n",
      " [1 2 3]\n"
     ]
    }
   ],
   "source": [
    "# array created using tuple\n",
    "arr = np.array((1,2,3))\n",
    "print(\"array created used passed tuple \\n\", arr)"
   ]
  },
  {
   "cell_type": "markdown",
   "metadata": {},
   "source": [
    "**Accessing the array Index**"
   ]
  },
  {
   "cell_type": "code",
   "execution_count": 17,
   "metadata": {},
   "outputs": [
    {
     "name": "stdout",
     "output_type": "stream",
     "text": [
      "initial array\n",
      " [[-1.   2.   0.   4. ]\n",
      " [ 4.  -0.5  6.   0. ]\n",
      " [ 2.6  0.   7.   8. ]\n",
      " [ 3.  -7.   4.   2. ]]\n",
      "\n",
      "Sliced array for first 2 rows and cloumns[0,2]\n",
      " [[-1.  0.]\n",
      " [ 4.  6.]]\n",
      "\n",
      "elements for indices (1,0), (2,2)\n",
      " [4. 7.]\n"
     ]
    }
   ],
   "source": [
    "arr = np.array([[-1, 2, 0, 4],\n",
    "                [4, -0.5, 6, 0],\n",
    "                [2.6, 0, 7, 8],\n",
    "                [3, -7, 4, 2.0]])\n",
    "\n",
    "print(\"initial array\\n\", arr)\n",
    "\n",
    "sliced_arr = arr[:2 , [0,2]]\n",
    "print(\"\\nSliced array for first 2 rows and cloumns[0,2]\\n\", sliced_arr)\n",
    "\n",
    "\n",
    "# printing elements at specific indices\n",
    "index_arr = arr[[1 ,2],\n",
    "                [0 , 2]]\n",
    "print(\"\\nelements for indices (1,0), (2,2)\\n\",index_arr)"
   ]
  },
  {
   "cell_type": "markdown",
   "metadata": {},
   "source": [
    "**basic array operations**"
   ]
  },
  {
   "cell_type": "code",
   "execution_count": 19,
   "metadata": {},
   "outputs": [
    {
     "name": "stdout",
     "output_type": "stream",
     "text": [
      "adding 1 to each element in a\n",
      " [[2 3]\n",
      " [4 5]]\n",
      "\n",
      " subtract 2 from each element in b\n",
      " [[3 4]\n",
      " [5 6]]\n",
      "\n",
      " sum of a is 10\n",
      "\n",
      " sum of b is 26\n",
      "\n",
      "sum of a and b:\n",
      " [[ 6  8]\n",
      " [10 12]]\n"
     ]
    }
   ],
   "source": [
    "a = np.array([[1,2],[3,4]])\n",
    "\n",
    "b = np.array([[5,6], [7,8]])\n",
    "\n",
    "# adding 1 to every element\n",
    "print(\"adding 1 to each element in a\\n\", a + 1)\n",
    "print(\"\\n subtract 2 from each element in b\\n\", b - 2)\n",
    "\n",
    "# sum of all elements\n",
    "print(\"\\n sum of a is {}\".format(a.sum()))\n",
    "print(\"\\n sum of b is {}\".format(b.sum()))\n",
    "\n",
    "# addind 2 arrays \n",
    "print( \"\\nsum of a and b:\\n\", a + b)"
   ]
  },
  {
   "cell_type": "markdown",
   "metadata": {},
   "source": [
    "**numpy datatype**"
   ]
  },
  {
   "cell_type": "code",
   "execution_count": 30,
   "metadata": {},
   "outputs": [
    {
     "name": "stdout",
     "output_type": "stream",
     "text": [
      "a dtype is int32\n",
      "\n",
      " b dtype is float64\n",
      "\n",
      " c dtype is int32\n",
      "\n",
      " d dtype is int64\n"
     ]
    }
   ],
   "source": [
    "a = np.array([1,2,3,4])\n",
    "# int datatype gussed by numpy \n",
    "print(\"a dtype is\", a.dtype)\n",
    "\n",
    "#float dtype\n",
    "b = np.array([1.2, 3, 4, 5])\n",
    "print(\"\\n b dtype is\", b.dtype)\n",
    "\n",
    "#forced datatype\n",
    "c = np.array([1,2, 3.4, 5.6], dtype = int)\n",
    "print(\"\\n c dtype is\", c.dtype)\n",
    "\n",
    "d = np.array([1, 2.5, 4], dtype = np.int64)\n",
    "print(\"\\n d dtype is\", d.dtype)"
   ]
  },
  {
   "cell_type": "markdown",
   "metadata": {},
   "source": [
    "**math operations**"
   ]
  },
  {
   "cell_type": "code",
   "execution_count": 36,
   "metadata": {},
   "outputs": [
    {
     "name": "stdout",
     "output_type": "stream",
     "text": [
      "Addition\n",
      " [[ 2  7 10]\n",
      " [14 15  8]]\n",
      "\n",
      " summtion of an array \n",
      " 22\n",
      "square root of each element in array:\n",
      " [[1.         2.23606798 2.64575131]\n",
      " [3.16227766 2.23606798 2.44948974]]\n",
      "\n",
      "transpose of array\n",
      " [[ 1  4]\n",
      " [ 2 10]\n",
      " [ 3  2]]\n"
     ]
    }
   ],
   "source": [
    "a = np.array([[1,2,3], [4,10,2]], dtype = np.int64)\n",
    "b = np.array([[1.2, 5, 7.3], [10, 5, 6]], dtype = np.int64)\n",
    "\n",
    "# add two arrays\n",
    "print(\"Addition\\n\" , a + b)\n",
    "\n",
    "print(\"\\n summtion of an array \\n\", np.sum(a))\n",
    "\n",
    "print(\"square root of each element in array:\\n\", np.sqrt(b))\n",
    "\n",
    "print(\"\\ntranspose of array\\n\", a.T) # T for transpose"
   ]
  },
  {
   "cell_type": "markdown",
   "metadata": {},
   "source": [
    "**Numpy ndarray**"
   ]
  },
  {
   "cell_type": "code",
   "execution_count": 45,
   "metadata": {},
   "outputs": [
    {
     "name": "stdout",
     "output_type": "stream",
     "text": [
      "the type of array: <class 'numpy.ndarray'>\n",
      "\n",
      " the dimensions of the array: 2\n",
      "\n",
      " the shape of the array is (3, 3)\n",
      "\n",
      " the size of the array: 9\n",
      "\n",
      " the element's size : 4\n",
      "\n",
      " the array stores elements in dtype: int32\n"
     ]
    }
   ],
   "source": [
    "# create ndarray\n",
    "a = np.array([[1,2,3], [4,10,5], [6,7,8]])\n",
    "\n",
    "print(\"the type of array:\" , type(a))\n",
    "print(\"\\n the dimensions of the array:\", a.ndim)\n",
    "print(\"\\n the shape of the array is\", a.shape)\n",
    "print(\"\\n the size of the array:\", a.size)\n",
    "print(\"\\n the element's size :\", a.itemsize)\n",
    "print(\"\\n the array stores elements in dtype:\" , a.dtype)"
   ]
  },
  {
   "cell_type": "markdown",
   "metadata": {},
   "source": [
    "**lets try different methods to create arrays**"
   ]
  },
  {
   "cell_type": "code",
   "execution_count": 57,
   "metadata": {},
   "outputs": [
    {
     "name": "stdout",
     "output_type": "stream",
     "text": [
      "[1 3 5 7]\n",
      "\n",
      "a =\n",
      "  [[0. 0. 0.]\n",
      " [0. 0. 0.]]\n"
     ]
    }
   ],
   "source": [
    "# np.arange()\n",
    "a = np.arange(1, 9,2)\n",
    "print(a)\n",
    "\n",
    "a = np.zeros((2,3))\n",
    "print(\"\\na =\\n \", a)"
   ]
  },
  {
   "cell_type": "code",
   "execution_count": 58,
   "metadata": {},
   "outputs": [
    {
     "name": "stdout",
     "output_type": "stream",
     "text": [
      "[[6 6 6]\n",
      " [6 6 6]\n",
      " [6 6 6]]\n"
     ]
    }
   ],
   "source": [
    "# constatnt value array\n",
    "a = np.full((3,3), 6, dtype= np.int64)\n",
    "print(a)"
   ]
  },
  {
   "cell_type": "markdown",
   "metadata": {},
   "source": [
    "**Unary operators**"
   ]
  },
  {
   "cell_type": "code",
   "execution_count": 71,
   "metadata": {},
   "outputs": [
    {
     "name": "stdout",
     "output_type": "stream",
     "text": [
      "largest element in the array is:  9\n",
      "min number in the rray is:  1\n",
      "\n",
      " mininmum element for each column:  [1 1 2]\n",
      "\n",
      "minimum for each row:  [1 2 1]\n"
     ]
    }
   ],
   "source": [
    "arr = np.array([[1, 5, 6],\n",
    "                [4, 7, 2],\n",
    "                [3, 1, 9]])\n",
    "\n",
    "print(\"largest element in the array is: \", np.max(arr))\n",
    "print(\"min number in the rray is: \", arr.min())\n",
    "\n",
    "print(\"\\n mininmum element for each column: \", arr.min(axis = 0))\n",
    "\n",
    "print(\"\\nminimum for each row: \", arr.min(axis =1))"
   ]
  },
  {
   "cell_type": "code",
   "execution_count": 73,
   "metadata": {},
   "outputs": [
    {
     "name": "stdout",
     "output_type": "stream",
     "text": [
      "dot product for these matriecs is :\n",
      " [[ 5 10]\n",
      " [15 26]]\n"
     ]
    }
   ],
   "source": [
    "# matrix multiplication for 2 arrays\n",
    "a = np.array([[1,2], \n",
    "              [3,4]])\n",
    "\n",
    "b = np.array([[5,6],\n",
    "              [0,2]])\n",
    "\n",
    "print(\"Matrix multiplication :\\n\" , a.dot(b))\n"
   ]
  },
  {
   "cell_type": "code",
   "execution_count": 98,
   "metadata": {},
   "outputs": [
    {
     "ename": "IndexError",
     "evalue": "index 4 is out of bounds for axis 0 with size 4",
     "output_type": "error",
     "traceback": [
      "\u001b[1;31m---------------------------------------------------------------------------\u001b[0m",
      "\u001b[1;31mIndexError\u001b[0m                                Traceback (most recent call last)",
      "\u001b[1;32m<ipython-input-98-6a924b18db1b>\u001b[0m in \u001b[0;36m<module>\u001b[1;34m\u001b[0m\n\u001b[0;32m      5\u001b[0m \u001b[1;33m\u001b[0m\u001b[0m\n\u001b[0;32m      6\u001b[0m \u001b[0mfilter\u001b[0m \u001b[1;33m=\u001b[0m \u001b[0ma\u001b[0m \u001b[1;33m>\u001b[0m \u001b[1;36m0\u001b[0m\u001b[1;33m\u001b[0m\u001b[1;33m\u001b[0m\u001b[0m\n\u001b[1;32m----> 7\u001b[1;33m \u001b[0ma\u001b[0m\u001b[1;33m[\u001b[0m\u001b[0ma\u001b[0m\u001b[1;33m[\u001b[0m\u001b[0mfilter\u001b[0m\u001b[1;33m]\u001b[0m\u001b[1;33m,\u001b[0m \u001b[1;33m:\u001b[0m\u001b[1;36m2\u001b[0m\u001b[1;33m]\u001b[0m\u001b[1;33m\u001b[0m\u001b[1;33m\u001b[0m\u001b[0m\n\u001b[0m",
      "\u001b[1;31mIndexError\u001b[0m: index 4 is out of bounds for axis 0 with size 4"
     ]
    }
   ],
   "source": [
    "a = np.array([[1,2,3], \n",
    "              [4,10,15],\n",
    "              [15, 20, 23],\n",
    "             [10,-2, 3]])\n",
    "\n",
    "filter = a > 0\n",
    "a[a[filter], :2]"
   ]
  }
 ],
 "metadata": {
  "kernelspec": {
   "display_name": "Python 3",
   "language": "python",
   "name": "python3"
  },
  "language_info": {
   "codemirror_mode": {
    "name": "ipython",
    "version": 3
   },
   "file_extension": ".py",
   "mimetype": "text/x-python",
   "name": "python",
   "nbconvert_exporter": "python",
   "pygments_lexer": "ipython3",
   "version": "3.7.4"
  }
 },
 "nbformat": 4,
 "nbformat_minor": 2
}
