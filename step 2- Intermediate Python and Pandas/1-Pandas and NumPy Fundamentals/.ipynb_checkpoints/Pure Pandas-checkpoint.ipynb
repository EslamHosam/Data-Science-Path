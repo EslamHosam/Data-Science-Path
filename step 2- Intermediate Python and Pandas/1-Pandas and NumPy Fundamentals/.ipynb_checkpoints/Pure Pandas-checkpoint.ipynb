{
 "cells": [
  {
   "cell_type": "markdown",
   "metadata": {},
   "source": [
    "#### from pandas documentation"
   ]
  },
  {
   "cell_type": "code",
   "execution_count": 1,
   "metadata": {},
   "outputs": [
    {
     "data": {
      "text/html": [
       "<div>\n",
       "<style scoped>\n",
       "    .dataframe tbody tr th:only-of-type {\n",
       "        vertical-align: middle;\n",
       "    }\n",
       "\n",
       "    .dataframe tbody tr th {\n",
       "        vertical-align: top;\n",
       "    }\n",
       "\n",
       "    .dataframe thead th {\n",
       "        text-align: right;\n",
       "    }\n",
       "</style>\n",
       "<table border=\"1\" class=\"dataframe\">\n",
       "  <thead>\n",
       "    <tr style=\"text-align: right;\">\n",
       "      <th></th>\n",
       "      <th>rank</th>\n",
       "      <th>revenues</th>\n",
       "      <th>revenue_change</th>\n",
       "      <th>profits</th>\n",
       "      <th>assets</th>\n",
       "      <th>profit_change</th>\n",
       "      <th>ceo</th>\n",
       "      <th>industry</th>\n",
       "      <th>sector</th>\n",
       "      <th>previous_rank</th>\n",
       "      <th>country</th>\n",
       "      <th>hq_location</th>\n",
       "      <th>website</th>\n",
       "      <th>years_on_global_500_list</th>\n",
       "      <th>employees</th>\n",
       "      <th>total_stockholder_equity</th>\n",
       "    </tr>\n",
       "    <tr>\n",
       "      <th>company</th>\n",
       "      <th></th>\n",
       "      <th></th>\n",
       "      <th></th>\n",
       "      <th></th>\n",
       "      <th></th>\n",
       "      <th></th>\n",
       "      <th></th>\n",
       "      <th></th>\n",
       "      <th></th>\n",
       "      <th></th>\n",
       "      <th></th>\n",
       "      <th></th>\n",
       "      <th></th>\n",
       "      <th></th>\n",
       "      <th></th>\n",
       "      <th></th>\n",
       "    </tr>\n",
       "  </thead>\n",
       "  <tbody>\n",
       "    <tr>\n",
       "      <td>Walmart</td>\n",
       "      <td>1</td>\n",
       "      <td>485873</td>\n",
       "      <td>0.8</td>\n",
       "      <td>13643.0</td>\n",
       "      <td>198825</td>\n",
       "      <td>-7.2</td>\n",
       "      <td>C. Douglas McMillon</td>\n",
       "      <td>General Merchandisers</td>\n",
       "      <td>Retailing</td>\n",
       "      <td>1</td>\n",
       "      <td>USA</td>\n",
       "      <td>Bentonville, AR</td>\n",
       "      <td>http://www.walmart.com</td>\n",
       "      <td>23</td>\n",
       "      <td>2300000</td>\n",
       "      <td>77798</td>\n",
       "    </tr>\n",
       "    <tr>\n",
       "      <td>State Grid</td>\n",
       "      <td>2</td>\n",
       "      <td>315199</td>\n",
       "      <td>-4.4</td>\n",
       "      <td>9571.3</td>\n",
       "      <td>489838</td>\n",
       "      <td>-6.2</td>\n",
       "      <td>Kou Wei</td>\n",
       "      <td>Utilities</td>\n",
       "      <td>Energy</td>\n",
       "      <td>2</td>\n",
       "      <td>China</td>\n",
       "      <td>Beijing, China</td>\n",
       "      <td>http://www.sgcc.com.cn</td>\n",
       "      <td>17</td>\n",
       "      <td>926067</td>\n",
       "      <td>209456</td>\n",
       "    </tr>\n",
       "    <tr>\n",
       "      <td>Sinopec Group</td>\n",
       "      <td>3</td>\n",
       "      <td>267518</td>\n",
       "      <td>-9.1</td>\n",
       "      <td>1257.9</td>\n",
       "      <td>310726</td>\n",
       "      <td>-65.0</td>\n",
       "      <td>Wang Yupu</td>\n",
       "      <td>Petroleum Refining</td>\n",
       "      <td>Energy</td>\n",
       "      <td>4</td>\n",
       "      <td>China</td>\n",
       "      <td>Beijing, China</td>\n",
       "      <td>http://www.sinopec.com</td>\n",
       "      <td>19</td>\n",
       "      <td>713288</td>\n",
       "      <td>106523</td>\n",
       "    </tr>\n",
       "    <tr>\n",
       "      <td>China National Petroleum</td>\n",
       "      <td>4</td>\n",
       "      <td>262573</td>\n",
       "      <td>-12.3</td>\n",
       "      <td>1867.5</td>\n",
       "      <td>585619</td>\n",
       "      <td>-73.7</td>\n",
       "      <td>Zhang Jianhua</td>\n",
       "      <td>Petroleum Refining</td>\n",
       "      <td>Energy</td>\n",
       "      <td>3</td>\n",
       "      <td>China</td>\n",
       "      <td>Beijing, China</td>\n",
       "      <td>http://www.cnpc.com.cn</td>\n",
       "      <td>17</td>\n",
       "      <td>1512048</td>\n",
       "      <td>301893</td>\n",
       "    </tr>\n",
       "    <tr>\n",
       "      <td>Toyota Motor</td>\n",
       "      <td>5</td>\n",
       "      <td>254694</td>\n",
       "      <td>7.7</td>\n",
       "      <td>16899.3</td>\n",
       "      <td>437575</td>\n",
       "      <td>-12.3</td>\n",
       "      <td>Akio Toyoda</td>\n",
       "      <td>Motor Vehicles and Parts</td>\n",
       "      <td>Motor Vehicles &amp; Parts</td>\n",
       "      <td>8</td>\n",
       "      <td>Japan</td>\n",
       "      <td>Toyota, Japan</td>\n",
       "      <td>http://www.toyota-global.com</td>\n",
       "      <td>23</td>\n",
       "      <td>364445</td>\n",
       "      <td>157210</td>\n",
       "    </tr>\n",
       "  </tbody>\n",
       "</table>\n",
       "</div>"
      ],
      "text/plain": [
       "                          rank  revenues  revenue_change  profits  assets  \\\n",
       "company                                                                     \n",
       "Walmart                      1    485873             0.8  13643.0  198825   \n",
       "State Grid                   2    315199            -4.4   9571.3  489838   \n",
       "Sinopec Group                3    267518            -9.1   1257.9  310726   \n",
       "China National Petroleum     4    262573           -12.3   1867.5  585619   \n",
       "Toyota Motor                 5    254694             7.7  16899.3  437575   \n",
       "\n",
       "                          profit_change                  ceo  \\\n",
       "company                                                        \n",
       "Walmart                            -7.2  C. Douglas McMillon   \n",
       "State Grid                         -6.2              Kou Wei   \n",
       "Sinopec Group                     -65.0            Wang Yupu   \n",
       "China National Petroleum          -73.7        Zhang Jianhua   \n",
       "Toyota Motor                      -12.3          Akio Toyoda   \n",
       "\n",
       "                                          industry                  sector  \\\n",
       "company                                                                      \n",
       "Walmart                      General Merchandisers               Retailing   \n",
       "State Grid                               Utilities                  Energy   \n",
       "Sinopec Group                   Petroleum Refining                  Energy   \n",
       "China National Petroleum        Petroleum Refining                  Energy   \n",
       "Toyota Motor              Motor Vehicles and Parts  Motor Vehicles & Parts   \n",
       "\n",
       "                          previous_rank country      hq_location  \\\n",
       "company                                                            \n",
       "Walmart                               1     USA  Bentonville, AR   \n",
       "State Grid                            2   China   Beijing, China   \n",
       "Sinopec Group                         4   China   Beijing, China   \n",
       "China National Petroleum              3   China   Beijing, China   \n",
       "Toyota Motor                          8   Japan    Toyota, Japan   \n",
       "\n",
       "                                               website  \\\n",
       "company                                                  \n",
       "Walmart                         http://www.walmart.com   \n",
       "State Grid                      http://www.sgcc.com.cn   \n",
       "Sinopec Group                   http://www.sinopec.com   \n",
       "China National Petroleum        http://www.cnpc.com.cn   \n",
       "Toyota Motor              http://www.toyota-global.com   \n",
       "\n",
       "                          years_on_global_500_list  employees  \\\n",
       "company                                                         \n",
       "Walmart                                         23    2300000   \n",
       "State Grid                                      17     926067   \n",
       "Sinopec Group                                   19     713288   \n",
       "China National Petroleum                        17    1512048   \n",
       "Toyota Motor                                    23     364445   \n",
       "\n",
       "                          total_stockholder_equity  \n",
       "company                                             \n",
       "Walmart                                      77798  \n",
       "State Grid                                  209456  \n",
       "Sinopec Group                               106523  \n",
       "China National Petroleum                    301893  \n",
       "Toyota Motor                                157210  "
      ]
     },
     "execution_count": 1,
     "metadata": {},
     "output_type": "execute_result"
    }
   ],
   "source": [
    "import numpy as np\n",
    "import pandas as pd\n",
    "f500 = pd.read_csv(\"f500.csv\" , index_col = 0)\n",
    "f500.head()"
   ]
  },
  {
   "cell_type": "code",
   "execution_count": 2,
   "metadata": {},
   "outputs": [
    {
     "data": {
      "text/html": [
       "<div>\n",
       "<style scoped>\n",
       "    .dataframe tbody tr th:only-of-type {\n",
       "        vertical-align: middle;\n",
       "    }\n",
       "\n",
       "    .dataframe tbody tr th {\n",
       "        vertical-align: top;\n",
       "    }\n",
       "\n",
       "    .dataframe thead th {\n",
       "        text-align: right;\n",
       "    }\n",
       "</style>\n",
       "<table border=\"1\" class=\"dataframe\">\n",
       "  <thead>\n",
       "    <tr style=\"text-align: right;\">\n",
       "      <th></th>\n",
       "      <th>rank</th>\n",
       "      <th>revenues</th>\n",
       "      <th>revenue_change</th>\n",
       "      <th>profits</th>\n",
       "      <th>assets</th>\n",
       "      <th>profit_change</th>\n",
       "      <th>ceo</th>\n",
       "      <th>industry</th>\n",
       "      <th>sector</th>\n",
       "      <th>previous_rank</th>\n",
       "      <th>country</th>\n",
       "      <th>hq_location</th>\n",
       "      <th>website</th>\n",
       "      <th>years_on_global_500_list</th>\n",
       "      <th>employees</th>\n",
       "      <th>total_stockholder_equity</th>\n",
       "    </tr>\n",
       "    <tr>\n",
       "      <th>company</th>\n",
       "      <th></th>\n",
       "      <th></th>\n",
       "      <th></th>\n",
       "      <th></th>\n",
       "      <th></th>\n",
       "      <th></th>\n",
       "      <th></th>\n",
       "      <th></th>\n",
       "      <th></th>\n",
       "      <th></th>\n",
       "      <th></th>\n",
       "      <th></th>\n",
       "      <th></th>\n",
       "      <th></th>\n",
       "      <th></th>\n",
       "      <th></th>\n",
       "    </tr>\n",
       "  </thead>\n",
       "  <tbody>\n",
       "    <tr>\n",
       "      <td>Wm. Morrison Supermarkets</td>\n",
       "      <td>498</td>\n",
       "      <td>21741</td>\n",
       "      <td>-11.3</td>\n",
       "      <td>406.4</td>\n",
       "      <td>11630</td>\n",
       "      <td>20.4</td>\n",
       "      <td>David T. Potts</td>\n",
       "      <td>Food and Drug Stores</td>\n",
       "      <td>Food &amp; Drug Stores</td>\n",
       "      <td>437</td>\n",
       "      <td>Britain</td>\n",
       "      <td>Bradford, Britain</td>\n",
       "      <td>http://www.morrisons.com</td>\n",
       "      <td>13</td>\n",
       "      <td>77210</td>\n",
       "      <td>5111</td>\n",
       "    </tr>\n",
       "    <tr>\n",
       "      <td>TUI</td>\n",
       "      <td>499</td>\n",
       "      <td>21655</td>\n",
       "      <td>-5.5</td>\n",
       "      <td>1151.7</td>\n",
       "      <td>16247</td>\n",
       "      <td>195.5</td>\n",
       "      <td>Friedrich Joussen</td>\n",
       "      <td>Travel Services</td>\n",
       "      <td>Business Services</td>\n",
       "      <td>467</td>\n",
       "      <td>Germany</td>\n",
       "      <td>Hanover, Germany</td>\n",
       "      <td>http://www.tuigroup.com</td>\n",
       "      <td>23</td>\n",
       "      <td>66779</td>\n",
       "      <td>3006</td>\n",
       "    </tr>\n",
       "    <tr>\n",
       "      <td>AutoNation</td>\n",
       "      <td>500</td>\n",
       "      <td>21609</td>\n",
       "      <td>3.6</td>\n",
       "      <td>430.5</td>\n",
       "      <td>10060</td>\n",
       "      <td>-2.7</td>\n",
       "      <td>Michael J. Jackson</td>\n",
       "      <td>Specialty Retailers</td>\n",
       "      <td>Retailing</td>\n",
       "      <td>0</td>\n",
       "      <td>USA</td>\n",
       "      <td>Fort Lauderdale, FL</td>\n",
       "      <td>http://www.autonation.com</td>\n",
       "      <td>12</td>\n",
       "      <td>26000</td>\n",
       "      <td>2310</td>\n",
       "    </tr>\n",
       "  </tbody>\n",
       "</table>\n",
       "</div>"
      ],
      "text/plain": [
       "                           rank  revenues  revenue_change  profits  assets  \\\n",
       "company                                                                      \n",
       "Wm. Morrison Supermarkets   498     21741           -11.3    406.4   11630   \n",
       "TUI                         499     21655            -5.5   1151.7   16247   \n",
       "AutoNation                  500     21609             3.6    430.5   10060   \n",
       "\n",
       "                           profit_change                 ceo  \\\n",
       "company                                                        \n",
       "Wm. Morrison Supermarkets           20.4      David T. Potts   \n",
       "TUI                                195.5   Friedrich Joussen   \n",
       "AutoNation                          -2.7  Michael J. Jackson   \n",
       "\n",
       "                                       industry              sector  \\\n",
       "company                                                               \n",
       "Wm. Morrison Supermarkets  Food and Drug Stores  Food & Drug Stores   \n",
       "TUI                             Travel Services   Business Services   \n",
       "AutoNation                  Specialty Retailers           Retailing   \n",
       "\n",
       "                           previous_rank  country          hq_location  \\\n",
       "company                                                                  \n",
       "Wm. Morrison Supermarkets            437  Britain    Bradford, Britain   \n",
       "TUI                                  467  Germany     Hanover, Germany   \n",
       "AutoNation                             0      USA  Fort Lauderdale, FL   \n",
       "\n",
       "                                             website  \\\n",
       "company                                                \n",
       "Wm. Morrison Supermarkets   http://www.morrisons.com   \n",
       "TUI                          http://www.tuigroup.com   \n",
       "AutoNation                 http://www.autonation.com   \n",
       "\n",
       "                           years_on_global_500_list  employees  \\\n",
       "company                                                          \n",
       "Wm. Morrison Supermarkets                        13      77210   \n",
       "TUI                                              23      66779   \n",
       "AutoNation                                       12      26000   \n",
       "\n",
       "                           total_stockholder_equity  \n",
       "company                                              \n",
       "Wm. Morrison Supermarkets                      5111  \n",
       "TUI                                            3006  \n",
       "AutoNation                                     2310  "
      ]
     },
     "execution_count": 2,
     "metadata": {},
     "output_type": "execute_result"
    }
   ],
   "source": [
    "f500.tail(3)"
   ]
  },
  {
   "cell_type": "code",
   "execution_count": 3,
   "metadata": {},
   "outputs": [
    {
     "name": "stdout",
     "output_type": "stream",
     "text": [
      "<class 'pandas.core.frame.DataFrame'>\n",
      "Index: 500 entries, Walmart to AutoNation\n",
      "Data columns (total 16 columns):\n",
      "rank                        500 non-null int64\n",
      "revenues                    500 non-null int64\n",
      "revenue_change              498 non-null float64\n",
      "profits                     499 non-null float64\n",
      "assets                      500 non-null int64\n",
      "profit_change               436 non-null float64\n",
      "ceo                         500 non-null object\n",
      "industry                    500 non-null object\n",
      "sector                      500 non-null object\n",
      "previous_rank               500 non-null int64\n",
      "country                     500 non-null object\n",
      "hq_location                 500 non-null object\n",
      "website                     500 non-null object\n",
      "years_on_global_500_list    500 non-null int64\n",
      "employees                   500 non-null int64\n",
      "total_stockholder_equity    500 non-null int64\n",
      "dtypes: float64(3), int64(7), object(6)\n",
      "memory usage: 66.4+ KB\n",
      "(500, 16)\n"
     ]
    }
   ],
   "source": [
    "#print some information about the dataset\n",
    "f500.info()\n",
    "print(f500.shape)"
   ]
  },
  {
   "cell_type": "code",
   "execution_count": 103,
   "metadata": {},
   "outputs": [
    {
     "data": {
      "text/html": [
       "<div>\n",
       "<style scoped>\n",
       "    .dataframe tbody tr th:only-of-type {\n",
       "        vertical-align: middle;\n",
       "    }\n",
       "\n",
       "    .dataframe tbody tr th {\n",
       "        vertical-align: top;\n",
       "    }\n",
       "\n",
       "    .dataframe thead th {\n",
       "        text-align: right;\n",
       "    }\n",
       "</style>\n",
       "<table border=\"1\" class=\"dataframe\">\n",
       "  <thead>\n",
       "    <tr style=\"text-align: right;\">\n",
       "      <th></th>\n",
       "      <th>company</th>\n",
       "      <th>rank</th>\n",
       "      <th>revenues</th>\n",
       "      <th>revenue_change</th>\n",
       "      <th>profits</th>\n",
       "      <th>assets</th>\n",
       "      <th>profit_change</th>\n",
       "      <th>ceo</th>\n",
       "      <th>industry</th>\n",
       "      <th>sector</th>\n",
       "      <th>previous_rank</th>\n",
       "      <th>country</th>\n",
       "      <th>hq_location</th>\n",
       "      <th>website</th>\n",
       "      <th>years_on_global_500_list</th>\n",
       "      <th>employees</th>\n",
       "      <th>total_stockholder_equity</th>\n",
       "      <th>rank_change</th>\n",
       "      <th>roa</th>\n",
       "    </tr>\n",
       "  </thead>\n",
       "  <tbody>\n",
       "    <tr>\n",
       "      <td>count</td>\n",
       "      <td>500</td>\n",
       "      <td>500.000000</td>\n",
       "      <td>500.000000</td>\n",
       "      <td>498.000000</td>\n",
       "      <td>499.000000</td>\n",
       "      <td>5.000000e+02</td>\n",
       "      <td>436.000000</td>\n",
       "      <td>500</td>\n",
       "      <td>500</td>\n",
       "      <td>500</td>\n",
       "      <td>467.000000</td>\n",
       "      <td>500</td>\n",
       "      <td>500</td>\n",
       "      <td>500</td>\n",
       "      <td>500.000000</td>\n",
       "      <td>5.000000e+02</td>\n",
       "      <td>500.000000</td>\n",
       "      <td>467.000000</td>\n",
       "      <td>499.000000</td>\n",
       "    </tr>\n",
       "    <tr>\n",
       "      <td>unique</td>\n",
       "      <td>500</td>\n",
       "      <td>NaN</td>\n",
       "      <td>NaN</td>\n",
       "      <td>NaN</td>\n",
       "      <td>NaN</td>\n",
       "      <td>NaN</td>\n",
       "      <td>NaN</td>\n",
       "      <td>500</td>\n",
       "      <td>58</td>\n",
       "      <td>21</td>\n",
       "      <td>NaN</td>\n",
       "      <td>34</td>\n",
       "      <td>235</td>\n",
       "      <td>500</td>\n",
       "      <td>NaN</td>\n",
       "      <td>NaN</td>\n",
       "      <td>NaN</td>\n",
       "      <td>NaN</td>\n",
       "      <td>NaN</td>\n",
       "    </tr>\n",
       "    <tr>\n",
       "      <td>top</td>\n",
       "      <td>Prudential Financial</td>\n",
       "      <td>NaN</td>\n",
       "      <td>NaN</td>\n",
       "      <td>NaN</td>\n",
       "      <td>NaN</td>\n",
       "      <td>NaN</td>\n",
       "      <td>NaN</td>\n",
       "      <td>Markus Mosa</td>\n",
       "      <td>Banks: Commercial and Savings</td>\n",
       "      <td>Financials</td>\n",
       "      <td>NaN</td>\n",
       "      <td>USA</td>\n",
       "      <td>Beijing, China</td>\n",
       "      <td>http://www.sxcc.com.cn</td>\n",
       "      <td>NaN</td>\n",
       "      <td>NaN</td>\n",
       "      <td>NaN</td>\n",
       "      <td>NaN</td>\n",
       "      <td>NaN</td>\n",
       "    </tr>\n",
       "    <tr>\n",
       "      <td>freq</td>\n",
       "      <td>1</td>\n",
       "      <td>NaN</td>\n",
       "      <td>NaN</td>\n",
       "      <td>NaN</td>\n",
       "      <td>NaN</td>\n",
       "      <td>NaN</td>\n",
       "      <td>NaN</td>\n",
       "      <td>1</td>\n",
       "      <td>51</td>\n",
       "      <td>118</td>\n",
       "      <td>NaN</td>\n",
       "      <td>132</td>\n",
       "      <td>56</td>\n",
       "      <td>1</td>\n",
       "      <td>NaN</td>\n",
       "      <td>NaN</td>\n",
       "      <td>NaN</td>\n",
       "      <td>NaN</td>\n",
       "      <td>NaN</td>\n",
       "    </tr>\n",
       "    <tr>\n",
       "      <td>mean</td>\n",
       "      <td>NaN</td>\n",
       "      <td>250.500000</td>\n",
       "      <td>55416.358000</td>\n",
       "      <td>4.538353</td>\n",
       "      <td>3055.203206</td>\n",
       "      <td>2.436323e+05</td>\n",
       "      <td>24.152752</td>\n",
       "      <td>NaN</td>\n",
       "      <td>NaN</td>\n",
       "      <td>NaN</td>\n",
       "      <td>237.830835</td>\n",
       "      <td>NaN</td>\n",
       "      <td>NaN</td>\n",
       "      <td>NaN</td>\n",
       "      <td>15.036000</td>\n",
       "      <td>1.339983e+05</td>\n",
       "      <td>30628.076000</td>\n",
       "      <td>-3.533191</td>\n",
       "      <td>0.030428</td>\n",
       "    </tr>\n",
       "    <tr>\n",
       "      <td>std</td>\n",
       "      <td>NaN</td>\n",
       "      <td>144.481833</td>\n",
       "      <td>45725.478963</td>\n",
       "      <td>28.549067</td>\n",
       "      <td>5171.981071</td>\n",
       "      <td>4.851937e+05</td>\n",
       "      <td>437.509566</td>\n",
       "      <td>NaN</td>\n",
       "      <td>NaN</td>\n",
       "      <td>NaN</td>\n",
       "      <td>139.211279</td>\n",
       "      <td>NaN</td>\n",
       "      <td>NaN</td>\n",
       "      <td>NaN</td>\n",
       "      <td>7.932752</td>\n",
       "      <td>1.700878e+05</td>\n",
       "      <td>43642.576833</td>\n",
       "      <td>44.293603</td>\n",
       "      <td>0.043733</td>\n",
       "    </tr>\n",
       "    <tr>\n",
       "      <td>min</td>\n",
       "      <td>NaN</td>\n",
       "      <td>1.000000</td>\n",
       "      <td>21609.000000</td>\n",
       "      <td>-67.300000</td>\n",
       "      <td>-13038.000000</td>\n",
       "      <td>3.717000e+03</td>\n",
       "      <td>-793.700000</td>\n",
       "      <td>NaN</td>\n",
       "      <td>NaN</td>\n",
       "      <td>NaN</td>\n",
       "      <td>1.000000</td>\n",
       "      <td>NaN</td>\n",
       "      <td>NaN</td>\n",
       "      <td>NaN</td>\n",
       "      <td>1.000000</td>\n",
       "      <td>3.280000e+02</td>\n",
       "      <td>-59909.000000</td>\n",
       "      <td>-199.000000</td>\n",
       "      <td>-0.237236</td>\n",
       "    </tr>\n",
       "    <tr>\n",
       "      <td>25%</td>\n",
       "      <td>NaN</td>\n",
       "      <td>125.750000</td>\n",
       "      <td>29003.000000</td>\n",
       "      <td>-5.900000</td>\n",
       "      <td>556.950000</td>\n",
       "      <td>3.658850e+04</td>\n",
       "      <td>-22.775000</td>\n",
       "      <td>NaN</td>\n",
       "      <td>NaN</td>\n",
       "      <td>NaN</td>\n",
       "      <td>117.500000</td>\n",
       "      <td>NaN</td>\n",
       "      <td>NaN</td>\n",
       "      <td>NaN</td>\n",
       "      <td>7.000000</td>\n",
       "      <td>4.293250e+04</td>\n",
       "      <td>7553.750000</td>\n",
       "      <td>-21.000000</td>\n",
       "      <td>0.005632</td>\n",
       "    </tr>\n",
       "    <tr>\n",
       "      <td>50%</td>\n",
       "      <td>NaN</td>\n",
       "      <td>250.500000</td>\n",
       "      <td>40236.000000</td>\n",
       "      <td>0.550000</td>\n",
       "      <td>1761.600000</td>\n",
       "      <td>7.326150e+04</td>\n",
       "      <td>-0.350000</td>\n",
       "      <td>NaN</td>\n",
       "      <td>NaN</td>\n",
       "      <td>NaN</td>\n",
       "      <td>236.000000</td>\n",
       "      <td>NaN</td>\n",
       "      <td>NaN</td>\n",
       "      <td>NaN</td>\n",
       "      <td>17.000000</td>\n",
       "      <td>9.291050e+04</td>\n",
       "      <td>15809.500000</td>\n",
       "      <td>-2.000000</td>\n",
       "      <td>0.021783</td>\n",
       "    </tr>\n",
       "    <tr>\n",
       "      <td>75%</td>\n",
       "      <td>NaN</td>\n",
       "      <td>375.250000</td>\n",
       "      <td>63926.750000</td>\n",
       "      <td>6.975000</td>\n",
       "      <td>3954.000000</td>\n",
       "      <td>1.805640e+05</td>\n",
       "      <td>17.700000</td>\n",
       "      <td>NaN</td>\n",
       "      <td>NaN</td>\n",
       "      <td>NaN</td>\n",
       "      <td>355.500000</td>\n",
       "      <td>NaN</td>\n",
       "      <td>NaN</td>\n",
       "      <td>NaN</td>\n",
       "      <td>23.000000</td>\n",
       "      <td>1.689172e+05</td>\n",
       "      <td>37828.500000</td>\n",
       "      <td>10.000000</td>\n",
       "      <td>0.044978</td>\n",
       "    </tr>\n",
       "    <tr>\n",
       "      <td>max</td>\n",
       "      <td>NaN</td>\n",
       "      <td>500.000000</td>\n",
       "      <td>485873.000000</td>\n",
       "      <td>442.300000</td>\n",
       "      <td>45687.000000</td>\n",
       "      <td>3.473238e+06</td>\n",
       "      <td>8909.500000</td>\n",
       "      <td>NaN</td>\n",
       "      <td>NaN</td>\n",
       "      <td>NaN</td>\n",
       "      <td>500.000000</td>\n",
       "      <td>NaN</td>\n",
       "      <td>NaN</td>\n",
       "      <td>NaN</td>\n",
       "      <td>23.000000</td>\n",
       "      <td>2.300000e+06</td>\n",
       "      <td>301893.000000</td>\n",
       "      <td>226.000000</td>\n",
       "      <td>0.236955</td>\n",
       "    </tr>\n",
       "  </tbody>\n",
       "</table>\n",
       "</div>"
      ],
      "text/plain": [
       "                     company        rank       revenues  revenue_change  \\\n",
       "count                    500  500.000000     500.000000      498.000000   \n",
       "unique                   500         NaN            NaN             NaN   \n",
       "top     Prudential Financial         NaN            NaN             NaN   \n",
       "freq                       1         NaN            NaN             NaN   \n",
       "mean                     NaN  250.500000   55416.358000        4.538353   \n",
       "std                      NaN  144.481833   45725.478963       28.549067   \n",
       "min                      NaN    1.000000   21609.000000      -67.300000   \n",
       "25%                      NaN  125.750000   29003.000000       -5.900000   \n",
       "50%                      NaN  250.500000   40236.000000        0.550000   \n",
       "75%                      NaN  375.250000   63926.750000        6.975000   \n",
       "max                      NaN  500.000000  485873.000000      442.300000   \n",
       "\n",
       "             profits        assets  profit_change          ceo  \\\n",
       "count     499.000000  5.000000e+02     436.000000          500   \n",
       "unique           NaN           NaN            NaN          500   \n",
       "top              NaN           NaN            NaN  Markus Mosa   \n",
       "freq             NaN           NaN            NaN            1   \n",
       "mean     3055.203206  2.436323e+05      24.152752          NaN   \n",
       "std      5171.981071  4.851937e+05     437.509566          NaN   \n",
       "min    -13038.000000  3.717000e+03    -793.700000          NaN   \n",
       "25%       556.950000  3.658850e+04     -22.775000          NaN   \n",
       "50%      1761.600000  7.326150e+04      -0.350000          NaN   \n",
       "75%      3954.000000  1.805640e+05      17.700000          NaN   \n",
       "max     45687.000000  3.473238e+06    8909.500000          NaN   \n",
       "\n",
       "                             industry      sector  previous_rank country  \\\n",
       "count                             500         500     467.000000     500   \n",
       "unique                             58          21            NaN      34   \n",
       "top     Banks: Commercial and Savings  Financials            NaN     USA   \n",
       "freq                               51         118            NaN     132   \n",
       "mean                              NaN         NaN     237.830835     NaN   \n",
       "std                               NaN         NaN     139.211279     NaN   \n",
       "min                               NaN         NaN       1.000000     NaN   \n",
       "25%                               NaN         NaN     117.500000     NaN   \n",
       "50%                               NaN         NaN     236.000000     NaN   \n",
       "75%                               NaN         NaN     355.500000     NaN   \n",
       "max                               NaN         NaN     500.000000     NaN   \n",
       "\n",
       "           hq_location                 website  years_on_global_500_list  \\\n",
       "count              500                     500                500.000000   \n",
       "unique             235                     500                       NaN   \n",
       "top     Beijing, China  http://www.sxcc.com.cn                       NaN   \n",
       "freq                56                       1                       NaN   \n",
       "mean               NaN                     NaN                 15.036000   \n",
       "std                NaN                     NaN                  7.932752   \n",
       "min                NaN                     NaN                  1.000000   \n",
       "25%                NaN                     NaN                  7.000000   \n",
       "50%                NaN                     NaN                 17.000000   \n",
       "75%                NaN                     NaN                 23.000000   \n",
       "max                NaN                     NaN                 23.000000   \n",
       "\n",
       "           employees  total_stockholder_equity  rank_change         roa  \n",
       "count   5.000000e+02                500.000000   467.000000  499.000000  \n",
       "unique           NaN                       NaN          NaN         NaN  \n",
       "top              NaN                       NaN          NaN         NaN  \n",
       "freq             NaN                       NaN          NaN         NaN  \n",
       "mean    1.339983e+05              30628.076000    -3.533191    0.030428  \n",
       "std     1.700878e+05              43642.576833    44.293603    0.043733  \n",
       "min     3.280000e+02             -59909.000000  -199.000000   -0.237236  \n",
       "25%     4.293250e+04               7553.750000   -21.000000    0.005632  \n",
       "50%     9.291050e+04              15809.500000    -2.000000    0.021783  \n",
       "75%     1.689172e+05              37828.500000    10.000000    0.044978  \n",
       "max     2.300000e+06             301893.000000   226.000000    0.236955  "
      ]
     },
     "execution_count": 103,
     "metadata": {},
     "output_type": "execute_result"
    }
   ],
   "source": [
    "f500.describe(include = \"all\")"
   ]
  },
  {
   "cell_type": "code",
   "execution_count": 5,
   "metadata": {},
   "outputs": [
    {
     "data": {
      "text/plain": [
       "True    500\n",
       "Name: rank_change, dtype: int64"
      ]
     },
     "execution_count": 5,
     "metadata": {},
     "output_type": "execute_result"
    }
   ],
   "source": [
    "rank_change = f500[\"previous_rank\"] - f500[\"rank\"]\n",
    "f500[\"rank_change\"] = rank_change\n",
    "f500[\"rank_change\"].notnull().value_counts()"
   ]
  },
  {
   "cell_type": "code",
   "execution_count": 6,
   "metadata": {},
   "outputs": [
    {
     "data": {
      "text/html": [
       "<div>\n",
       "<style scoped>\n",
       "    .dataframe tbody tr th:only-of-type {\n",
       "        vertical-align: middle;\n",
       "    }\n",
       "\n",
       "    .dataframe tbody tr th {\n",
       "        vertical-align: top;\n",
       "    }\n",
       "\n",
       "    .dataframe thead th {\n",
       "        text-align: right;\n",
       "    }\n",
       "</style>\n",
       "<table border=\"1\" class=\"dataframe\">\n",
       "  <thead>\n",
       "    <tr style=\"text-align: right;\">\n",
       "      <th></th>\n",
       "      <th>rank</th>\n",
       "      <th>country</th>\n",
       "      <th>rank_change</th>\n",
       "    </tr>\n",
       "    <tr>\n",
       "      <th>company</th>\n",
       "      <th></th>\n",
       "      <th></th>\n",
       "      <th></th>\n",
       "    </tr>\n",
       "  </thead>\n",
       "  <tbody>\n",
       "    <tr>\n",
       "      <td>Walmart</td>\n",
       "      <td>1</td>\n",
       "      <td>USA</td>\n",
       "      <td>0</td>\n",
       "    </tr>\n",
       "    <tr>\n",
       "      <td>State Grid</td>\n",
       "      <td>2</td>\n",
       "      <td>China</td>\n",
       "      <td>0</td>\n",
       "    </tr>\n",
       "    <tr>\n",
       "      <td>Sinopec Group</td>\n",
       "      <td>3</td>\n",
       "      <td>China</td>\n",
       "      <td>1</td>\n",
       "    </tr>\n",
       "    <tr>\n",
       "      <td>China National Petroleum</td>\n",
       "      <td>4</td>\n",
       "      <td>China</td>\n",
       "      <td>-1</td>\n",
       "    </tr>\n",
       "    <tr>\n",
       "      <td>Toyota Motor</td>\n",
       "      <td>5</td>\n",
       "      <td>Japan</td>\n",
       "      <td>3</td>\n",
       "    </tr>\n",
       "    <tr>\n",
       "      <td>Volkswagen</td>\n",
       "      <td>6</td>\n",
       "      <td>Germany</td>\n",
       "      <td>1</td>\n",
       "    </tr>\n",
       "    <tr>\n",
       "      <td>Royal Dutch Shell</td>\n",
       "      <td>7</td>\n",
       "      <td>Netherlands</td>\n",
       "      <td>-2</td>\n",
       "    </tr>\n",
       "    <tr>\n",
       "      <td>Berkshire Hathaway</td>\n",
       "      <td>8</td>\n",
       "      <td>USA</td>\n",
       "      <td>3</td>\n",
       "    </tr>\n",
       "    <tr>\n",
       "      <td>Apple</td>\n",
       "      <td>9</td>\n",
       "      <td>USA</td>\n",
       "      <td>0</td>\n",
       "    </tr>\n",
       "  </tbody>\n",
       "</table>\n",
       "</div>"
      ],
      "text/plain": [
       "                          rank      country  rank_change\n",
       "company                                                 \n",
       "Walmart                      1          USA            0\n",
       "State Grid                   2        China            0\n",
       "Sinopec Group                3        China            1\n",
       "China National Petroleum     4        China           -1\n",
       "Toyota Motor                 5        Japan            3\n",
       "Volkswagen                   6      Germany            1\n",
       "Royal Dutch Shell            7  Netherlands           -2\n",
       "Berkshire Hathaway           8          USA            3\n",
       "Apple                        9          USA            0"
      ]
     },
     "execution_count": 6,
     "metadata": {},
     "output_type": "execute_result"
    }
   ],
   "source": [
    "df2 = f500.loc[\"Walmart\" : \"Apple\" , [\"rank\" , \"country\" , \"rank_change\"]]\n",
    "df2"
   ]
  },
  {
   "cell_type": "code",
   "execution_count": 7,
   "metadata": {},
   "outputs": [
    {
     "data": {
      "text/html": [
       "<div>\n",
       "<style scoped>\n",
       "    .dataframe tbody tr th:only-of-type {\n",
       "        vertical-align: middle;\n",
       "    }\n",
       "\n",
       "    .dataframe tbody tr th {\n",
       "        vertical-align: top;\n",
       "    }\n",
       "\n",
       "    .dataframe thead th {\n",
       "        text-align: right;\n",
       "    }\n",
       "</style>\n",
       "<table border=\"1\" class=\"dataframe\">\n",
       "  <thead>\n",
       "    <tr style=\"text-align: right;\">\n",
       "      <th></th>\n",
       "      <th>assets</th>\n",
       "      <th>revenues</th>\n",
       "    </tr>\n",
       "    <tr>\n",
       "      <th>company</th>\n",
       "      <th></th>\n",
       "      <th></th>\n",
       "    </tr>\n",
       "  </thead>\n",
       "  <tbody>\n",
       "    <tr>\n",
       "      <td>Walmart</td>\n",
       "      <td>198825</td>\n",
       "      <td>485873</td>\n",
       "    </tr>\n",
       "    <tr>\n",
       "      <td>State Grid</td>\n",
       "      <td>489838</td>\n",
       "      <td>315199</td>\n",
       "    </tr>\n",
       "    <tr>\n",
       "      <td>Sinopec Group</td>\n",
       "      <td>310726</td>\n",
       "      <td>267518</td>\n",
       "    </tr>\n",
       "    <tr>\n",
       "      <td>China National Petroleum</td>\n",
       "      <td>585619</td>\n",
       "      <td>262573</td>\n",
       "    </tr>\n",
       "    <tr>\n",
       "      <td>Toyota Motor</td>\n",
       "      <td>437575</td>\n",
       "      <td>254694</td>\n",
       "    </tr>\n",
       "    <tr>\n",
       "      <td>...</td>\n",
       "      <td>...</td>\n",
       "      <td>...</td>\n",
       "    </tr>\n",
       "    <tr>\n",
       "      <td>Teva Pharmaceutical Industries</td>\n",
       "      <td>92890</td>\n",
       "      <td>21903</td>\n",
       "    </tr>\n",
       "    <tr>\n",
       "      <td>New China Life Insurance</td>\n",
       "      <td>100609</td>\n",
       "      <td>21796</td>\n",
       "    </tr>\n",
       "    <tr>\n",
       "      <td>Wm. Morrison Supermarkets</td>\n",
       "      <td>11630</td>\n",
       "      <td>21741</td>\n",
       "    </tr>\n",
       "    <tr>\n",
       "      <td>TUI</td>\n",
       "      <td>16247</td>\n",
       "      <td>21655</td>\n",
       "    </tr>\n",
       "    <tr>\n",
       "      <td>AutoNation</td>\n",
       "      <td>10060</td>\n",
       "      <td>21609</td>\n",
       "    </tr>\n",
       "  </tbody>\n",
       "</table>\n",
       "<p>500 rows × 2 columns</p>\n",
       "</div>"
      ],
      "text/plain": [
       "                                assets  revenues\n",
       "company                                         \n",
       "Walmart                         198825    485873\n",
       "State Grid                      489838    315199\n",
       "Sinopec Group                   310726    267518\n",
       "China National Petroleum        585619    262573\n",
       "Toyota Motor                    437575    254694\n",
       "...                                ...       ...\n",
       "Teva Pharmaceutical Industries   92890     21903\n",
       "New China Life Insurance        100609     21796\n",
       "Wm. Morrison Supermarkets        11630     21741\n",
       "TUI                              16247     21655\n",
       "AutoNation                       10060     21609\n",
       "\n",
       "[500 rows x 2 columns]"
      ]
     },
     "execution_count": 7,
     "metadata": {},
     "output_type": "execute_result"
    }
   ],
   "source": [
    "f500.loc[:, [\"assets\" , \"revenues\"]]"
   ]
  },
  {
   "cell_type": "code",
   "execution_count": 8,
   "metadata": {},
   "outputs": [
    {
     "data": {
      "text/html": [
       "<div>\n",
       "<style scoped>\n",
       "    .dataframe tbody tr th:only-of-type {\n",
       "        vertical-align: middle;\n",
       "    }\n",
       "\n",
       "    .dataframe tbody tr th {\n",
       "        vertical-align: top;\n",
       "    }\n",
       "\n",
       "    .dataframe thead th {\n",
       "        text-align: right;\n",
       "    }\n",
       "</style>\n",
       "<table border=\"1\" class=\"dataframe\">\n",
       "  <thead>\n",
       "    <tr style=\"text-align: right;\">\n",
       "      <th></th>\n",
       "      <th>rank</th>\n",
       "      <th>revenues</th>\n",
       "      <th>revenue_change</th>\n",
       "      <th>profits</th>\n",
       "      <th>assets</th>\n",
       "      <th>profit_change</th>\n",
       "      <th>ceo</th>\n",
       "      <th>industry</th>\n",
       "      <th>sector</th>\n",
       "      <th>previous_rank</th>\n",
       "      <th>country</th>\n",
       "      <th>hq_location</th>\n",
       "      <th>website</th>\n",
       "      <th>years_on_global_500_list</th>\n",
       "      <th>employees</th>\n",
       "      <th>total_stockholder_equity</th>\n",
       "      <th>rank_change</th>\n",
       "    </tr>\n",
       "    <tr>\n",
       "      <th>company</th>\n",
       "      <th></th>\n",
       "      <th></th>\n",
       "      <th></th>\n",
       "      <th></th>\n",
       "      <th></th>\n",
       "      <th></th>\n",
       "      <th></th>\n",
       "      <th></th>\n",
       "      <th></th>\n",
       "      <th></th>\n",
       "      <th></th>\n",
       "      <th></th>\n",
       "      <th></th>\n",
       "      <th></th>\n",
       "      <th></th>\n",
       "      <th></th>\n",
       "      <th></th>\n",
       "    </tr>\n",
       "  </thead>\n",
       "  <tbody>\n",
       "    <tr>\n",
       "      <td>Walmart</td>\n",
       "      <td>1</td>\n",
       "      <td>485873</td>\n",
       "      <td>0.8</td>\n",
       "      <td>13643.0</td>\n",
       "      <td>198825</td>\n",
       "      <td>-7.2</td>\n",
       "      <td>C. Douglas McMillon</td>\n",
       "      <td>General Merchandisers</td>\n",
       "      <td>Retailing</td>\n",
       "      <td>1</td>\n",
       "      <td>USA</td>\n",
       "      <td>Bentonville, AR</td>\n",
       "      <td>http://www.walmart.com</td>\n",
       "      <td>23</td>\n",
       "      <td>2300000</td>\n",
       "      <td>77798</td>\n",
       "      <td>0</td>\n",
       "    </tr>\n",
       "    <tr>\n",
       "      <td>Apple</td>\n",
       "      <td>9</td>\n",
       "      <td>215639</td>\n",
       "      <td>-7.7</td>\n",
       "      <td>45687.0</td>\n",
       "      <td>321686</td>\n",
       "      <td>-14.4</td>\n",
       "      <td>Timothy D. Cook</td>\n",
       "      <td>Computers, Office Equipment</td>\n",
       "      <td>Technology</td>\n",
       "      <td>9</td>\n",
       "      <td>USA</td>\n",
       "      <td>Cupertino, CA</td>\n",
       "      <td>http://www.apple.com</td>\n",
       "      <td>15</td>\n",
       "      <td>116000</td>\n",
       "      <td>128249</td>\n",
       "      <td>0</td>\n",
       "    </tr>\n",
       "  </tbody>\n",
       "</table>\n",
       "</div>"
      ],
      "text/plain": [
       "         rank  revenues  revenue_change  profits  assets  profit_change  \\\n",
       "company                                                                   \n",
       "Walmart     1    485873             0.8  13643.0  198825           -7.2   \n",
       "Apple       9    215639            -7.7  45687.0  321686          -14.4   \n",
       "\n",
       "                         ceo                     industry      sector  \\\n",
       "company                                                                 \n",
       "Walmart  C. Douglas McMillon        General Merchandisers   Retailing   \n",
       "Apple        Timothy D. Cook  Computers, Office Equipment  Technology   \n",
       "\n",
       "         previous_rank country      hq_location                 website  \\\n",
       "company                                                                   \n",
       "Walmart              1     USA  Bentonville, AR  http://www.walmart.com   \n",
       "Apple                9     USA    Cupertino, CA    http://www.apple.com   \n",
       "\n",
       "         years_on_global_500_list  employees  total_stockholder_equity  \\\n",
       "company                                                                  \n",
       "Walmart                        23    2300000                     77798   \n",
       "Apple                          15     116000                    128249   \n",
       "\n",
       "         rank_change  \n",
       "company               \n",
       "Walmart            0  \n",
       "Apple              0  "
      ]
     },
     "execution_count": 8,
     "metadata": {},
     "output_type": "execute_result"
    }
   ],
   "source": [
    "f500.loc[[\"Walmart\" , \"Apple\"]]"
   ]
  },
  {
   "cell_type": "code",
   "execution_count": 9,
   "metadata": {},
   "outputs": [
    {
     "data": {
      "text/plain": [
       "pandas.core.series.Series"
      ]
     },
     "execution_count": 9,
     "metadata": {},
     "output_type": "execute_result"
    }
   ],
   "source": [
    "type(f500[\"rank\"])"
   ]
  },
  {
   "cell_type": "code",
   "execution_count": 10,
   "metadata": {},
   "outputs": [
    {
     "data": {
      "text/plain": [
       "rank                                             1\n",
       "revenues                                    485873\n",
       "revenue_change                                 0.8\n",
       "profits                                      13643\n",
       "assets                                      198825\n",
       "profit_change                                 -7.2\n",
       "ceo                            C. Douglas McMillon\n",
       "industry                     General Merchandisers\n",
       "sector                                   Retailing\n",
       "previous_rank                                    1\n",
       "country                                        USA\n",
       "hq_location                        Bentonville, AR\n",
       "website                     http://www.walmart.com\n",
       "years_on_global_500_list                        23\n",
       "employees                                  2300000\n",
       "total_stockholder_equity                     77798\n",
       "rank_change                                      0\n",
       "Name: Walmart, dtype: object"
      ]
     },
     "execution_count": 10,
     "metadata": {},
     "output_type": "execute_result"
    }
   ],
   "source": [
    "f500.loc[\"Walmart\"]"
   ]
  },
  {
   "cell_type": "code",
   "execution_count": 11,
   "metadata": {},
   "outputs": [
    {
     "data": {
      "text/plain": [
       "False    500\n",
       "Name: country, dtype: int64"
      ]
     },
     "execution_count": 11,
     "metadata": {},
     "output_type": "execute_result"
    }
   ],
   "source": [
    "f500[\"country\"].isnull().value_counts()"
   ]
  },
  {
   "cell_type": "code",
   "execution_count": 12,
   "metadata": {},
   "outputs": [
    {
     "data": {
      "text/plain": [
       "count     500\n",
       "unique     34\n",
       "top       USA\n",
       "freq      132\n",
       "Name: country, dtype: object"
      ]
     },
     "execution_count": 12,
     "metadata": {},
     "output_type": "execute_result"
    }
   ],
   "source": [
    "f500[\"country\"].describe()"
   ]
  },
  {
   "cell_type": "code",
   "execution_count": 13,
   "metadata": {},
   "outputs": [
    {
     "data": {
      "text/plain": [
       "'Japan'"
      ]
     },
     "execution_count": 13,
     "metadata": {},
     "output_type": "execute_result"
    }
   ],
   "source": [
    "f500[\"country\"].head()[\"Toyota Motor\"]"
   ]
  },
  {
   "cell_type": "code",
   "execution_count": 14,
   "metadata": {},
   "outputs": [
    {
     "data": {
      "text/plain": [
       "2"
      ]
     },
     "execution_count": 14,
     "metadata": {},
     "output_type": "execute_result"
    }
   ],
   "source": [
    "f500[\"rank\"].head().loc[\"State Grid\"]"
   ]
  },
  {
   "cell_type": "code",
   "execution_count": 15,
   "metadata": {},
   "outputs": [],
   "source": [
    "zero_prev_ranks = f500[\"previous_rank\"].value_counts()[0]"
   ]
  },
  {
   "cell_type": "code",
   "execution_count": 16,
   "metadata": {},
   "outputs": [
    {
     "data": {
      "text/plain": [
       "rank                            500.0\n",
       "revenues                     485873.0\n",
       "revenue_change                  442.3\n",
       "profits                       45687.0\n",
       "assets                      3473238.0\n",
       "profit_change                  8909.5\n",
       "previous_rank                   500.0\n",
       "years_on_global_500_list         23.0\n",
       "employees                   2300000.0\n",
       "total_stockholder_equity     301893.0\n",
       "rank_change                     226.0\n",
       "dtype: float64"
      ]
     },
     "execution_count": 16,
     "metadata": {},
     "output_type": "execute_result"
    }
   ],
   "source": [
    "f500.max(numeric_only = True)"
   ]
  },
  {
   "cell_type": "code",
   "execution_count": 17,
   "metadata": {},
   "outputs": [],
   "source": [
    "max_f500 = f500.min(numeric_only = True)"
   ]
  },
  {
   "cell_type": "code",
   "execution_count": 18,
   "metadata": {},
   "outputs": [
    {
     "data": {
      "text/html": [
       "<div>\n",
       "<style scoped>\n",
       "    .dataframe tbody tr th:only-of-type {\n",
       "        vertical-align: middle;\n",
       "    }\n",
       "\n",
       "    .dataframe tbody tr th {\n",
       "        vertical-align: top;\n",
       "    }\n",
       "\n",
       "    .dataframe thead th {\n",
       "        text-align: right;\n",
       "    }\n",
       "</style>\n",
       "<table border=\"1\" class=\"dataframe\">\n",
       "  <thead>\n",
       "    <tr style=\"text-align: right;\">\n",
       "      <th></th>\n",
       "      <th>rank</th>\n",
       "      <th>revenues</th>\n",
       "      <th>revenue_change</th>\n",
       "      <th>profits</th>\n",
       "      <th>assets</th>\n",
       "      <th>profit_change</th>\n",
       "      <th>previous_rank</th>\n",
       "      <th>years_on_global_500_list</th>\n",
       "      <th>employees</th>\n",
       "      <th>total_stockholder_equity</th>\n",
       "      <th>rank_change</th>\n",
       "    </tr>\n",
       "  </thead>\n",
       "  <tbody>\n",
       "    <tr>\n",
       "      <td>count</td>\n",
       "      <td>500.000000</td>\n",
       "      <td>500.000000</td>\n",
       "      <td>498.000000</td>\n",
       "      <td>499.000000</td>\n",
       "      <td>5.000000e+02</td>\n",
       "      <td>436.000000</td>\n",
       "      <td>500.000000</td>\n",
       "      <td>500.000000</td>\n",
       "      <td>5.000000e+02</td>\n",
       "      <td>500.000000</td>\n",
       "      <td>500.000000</td>\n",
       "    </tr>\n",
       "    <tr>\n",
       "      <td>mean</td>\n",
       "      <td>250.500000</td>\n",
       "      <td>55416.358000</td>\n",
       "      <td>4.538353</td>\n",
       "      <td>3055.203206</td>\n",
       "      <td>2.436323e+05</td>\n",
       "      <td>24.152752</td>\n",
       "      <td>222.134000</td>\n",
       "      <td>15.036000</td>\n",
       "      <td>1.339983e+05</td>\n",
       "      <td>30628.076000</td>\n",
       "      <td>-28.366000</td>\n",
       "    </tr>\n",
       "    <tr>\n",
       "      <td>std</td>\n",
       "      <td>144.481833</td>\n",
       "      <td>45725.478963</td>\n",
       "      <td>28.549067</td>\n",
       "      <td>5171.981071</td>\n",
       "      <td>4.851937e+05</td>\n",
       "      <td>437.509566</td>\n",
       "      <td>146.941961</td>\n",
       "      <td>7.932752</td>\n",
       "      <td>1.700878e+05</td>\n",
       "      <td>43642.576833</td>\n",
       "      <td>108.602823</td>\n",
       "    </tr>\n",
       "    <tr>\n",
       "      <td>min</td>\n",
       "      <td>1.000000</td>\n",
       "      <td>21609.000000</td>\n",
       "      <td>-67.300000</td>\n",
       "      <td>-13038.000000</td>\n",
       "      <td>3.717000e+03</td>\n",
       "      <td>-793.700000</td>\n",
       "      <td>0.000000</td>\n",
       "      <td>1.000000</td>\n",
       "      <td>3.280000e+02</td>\n",
       "      <td>-59909.000000</td>\n",
       "      <td>-500.000000</td>\n",
       "    </tr>\n",
       "    <tr>\n",
       "      <td>25%</td>\n",
       "      <td>125.750000</td>\n",
       "      <td>29003.000000</td>\n",
       "      <td>-5.900000</td>\n",
       "      <td>556.950000</td>\n",
       "      <td>3.658850e+04</td>\n",
       "      <td>-22.775000</td>\n",
       "      <td>92.750000</td>\n",
       "      <td>7.000000</td>\n",
       "      <td>4.293250e+04</td>\n",
       "      <td>7553.750000</td>\n",
       "      <td>-28.250000</td>\n",
       "    </tr>\n",
       "    <tr>\n",
       "      <td>50%</td>\n",
       "      <td>250.500000</td>\n",
       "      <td>40236.000000</td>\n",
       "      <td>0.550000</td>\n",
       "      <td>1761.600000</td>\n",
       "      <td>7.326150e+04</td>\n",
       "      <td>-0.350000</td>\n",
       "      <td>219.500000</td>\n",
       "      <td>17.000000</td>\n",
       "      <td>9.291050e+04</td>\n",
       "      <td>15809.500000</td>\n",
       "      <td>-4.000000</td>\n",
       "    </tr>\n",
       "    <tr>\n",
       "      <td>75%</td>\n",
       "      <td>375.250000</td>\n",
       "      <td>63926.750000</td>\n",
       "      <td>6.975000</td>\n",
       "      <td>3954.000000</td>\n",
       "      <td>1.805640e+05</td>\n",
       "      <td>17.700000</td>\n",
       "      <td>347.250000</td>\n",
       "      <td>23.000000</td>\n",
       "      <td>1.689172e+05</td>\n",
       "      <td>37828.500000</td>\n",
       "      <td>8.250000</td>\n",
       "    </tr>\n",
       "    <tr>\n",
       "      <td>max</td>\n",
       "      <td>500.000000</td>\n",
       "      <td>485873.000000</td>\n",
       "      <td>442.300000</td>\n",
       "      <td>45687.000000</td>\n",
       "      <td>3.473238e+06</td>\n",
       "      <td>8909.500000</td>\n",
       "      <td>500.000000</td>\n",
       "      <td>23.000000</td>\n",
       "      <td>2.300000e+06</td>\n",
       "      <td>301893.000000</td>\n",
       "      <td>226.000000</td>\n",
       "    </tr>\n",
       "  </tbody>\n",
       "</table>\n",
       "</div>"
      ],
      "text/plain": [
       "             rank       revenues  revenue_change       profits        assets  \\\n",
       "count  500.000000     500.000000      498.000000    499.000000  5.000000e+02   \n",
       "mean   250.500000   55416.358000        4.538353   3055.203206  2.436323e+05   \n",
       "std    144.481833   45725.478963       28.549067   5171.981071  4.851937e+05   \n",
       "min      1.000000   21609.000000      -67.300000 -13038.000000  3.717000e+03   \n",
       "25%    125.750000   29003.000000       -5.900000    556.950000  3.658850e+04   \n",
       "50%    250.500000   40236.000000        0.550000   1761.600000  7.326150e+04   \n",
       "75%    375.250000   63926.750000        6.975000   3954.000000  1.805640e+05   \n",
       "max    500.000000  485873.000000      442.300000  45687.000000  3.473238e+06   \n",
       "\n",
       "       profit_change  previous_rank  years_on_global_500_list     employees  \\\n",
       "count     436.000000     500.000000                500.000000  5.000000e+02   \n",
       "mean       24.152752     222.134000                 15.036000  1.339983e+05   \n",
       "std       437.509566     146.941961                  7.932752  1.700878e+05   \n",
       "min      -793.700000       0.000000                  1.000000  3.280000e+02   \n",
       "25%       -22.775000      92.750000                  7.000000  4.293250e+04   \n",
       "50%        -0.350000     219.500000                 17.000000  9.291050e+04   \n",
       "75%        17.700000     347.250000                 23.000000  1.689172e+05   \n",
       "max      8909.500000     500.000000                 23.000000  2.300000e+06   \n",
       "\n",
       "       total_stockholder_equity  rank_change  \n",
       "count                500.000000   500.000000  \n",
       "mean               30628.076000   -28.366000  \n",
       "std                43642.576833   108.602823  \n",
       "min               -59909.000000  -500.000000  \n",
       "25%                 7553.750000   -28.250000  \n",
       "50%                15809.500000    -4.000000  \n",
       "75%                37828.500000     8.250000  \n",
       "max               301893.000000   226.000000  "
      ]
     },
     "execution_count": 18,
     "metadata": {},
     "output_type": "execute_result"
    }
   ],
   "source": [
    "f500.describe() # to bring some statistics"
   ]
  },
  {
   "cell_type": "code",
   "execution_count": 19,
   "metadata": {},
   "outputs": [
    {
     "data": {
      "text/html": [
       "<div>\n",
       "<style scoped>\n",
       "    .dataframe tbody tr th:only-of-type {\n",
       "        vertical-align: middle;\n",
       "    }\n",
       "\n",
       "    .dataframe tbody tr th {\n",
       "        vertical-align: top;\n",
       "    }\n",
       "\n",
       "    .dataframe thead th {\n",
       "        text-align: right;\n",
       "    }\n",
       "</style>\n",
       "<table border=\"1\" class=\"dataframe\">\n",
       "  <thead>\n",
       "    <tr style=\"text-align: right;\">\n",
       "      <th></th>\n",
       "      <th>ceo</th>\n",
       "      <th>industry</th>\n",
       "      <th>sector</th>\n",
       "      <th>country</th>\n",
       "      <th>hq_location</th>\n",
       "      <th>website</th>\n",
       "    </tr>\n",
       "  </thead>\n",
       "  <tbody>\n",
       "    <tr>\n",
       "      <td>count</td>\n",
       "      <td>500</td>\n",
       "      <td>500</td>\n",
       "      <td>500</td>\n",
       "      <td>500</td>\n",
       "      <td>500</td>\n",
       "      <td>500</td>\n",
       "    </tr>\n",
       "    <tr>\n",
       "      <td>unique</td>\n",
       "      <td>500</td>\n",
       "      <td>58</td>\n",
       "      <td>21</td>\n",
       "      <td>34</td>\n",
       "      <td>235</td>\n",
       "      <td>500</td>\n",
       "    </tr>\n",
       "    <tr>\n",
       "      <td>top</td>\n",
       "      <td>Markus Mosa</td>\n",
       "      <td>Banks: Commercial and Savings</td>\n",
       "      <td>Financials</td>\n",
       "      <td>USA</td>\n",
       "      <td>Beijing, China</td>\n",
       "      <td>http://www.sxcc.com.cn</td>\n",
       "    </tr>\n",
       "    <tr>\n",
       "      <td>freq</td>\n",
       "      <td>1</td>\n",
       "      <td>51</td>\n",
       "      <td>118</td>\n",
       "      <td>132</td>\n",
       "      <td>56</td>\n",
       "      <td>1</td>\n",
       "    </tr>\n",
       "  </tbody>\n",
       "</table>\n",
       "</div>"
      ],
      "text/plain": [
       "                ceo                       industry      sector country  \\\n",
       "count           500                            500         500     500   \n",
       "unique          500                             58          21      34   \n",
       "top     Markus Mosa  Banks: Commercial and Savings  Financials     USA   \n",
       "freq              1                             51         118     132   \n",
       "\n",
       "           hq_location                 website  \n",
       "count              500                     500  \n",
       "unique             235                     500  \n",
       "top     Beijing, China  http://www.sxcc.com.cn  \n",
       "freq                56                       1  "
      ]
     },
     "execution_count": 19,
     "metadata": {},
     "output_type": "execute_result"
    }
   ],
   "source": [
    "f500.describe(include = \"O\")"
   ]
  },
  {
   "cell_type": "code",
   "execution_count": 20,
   "metadata": {},
   "outputs": [
    {
     "data": {
      "text/plain": [
       "'Eslam Hosam'"
      ]
     },
     "execution_count": 20,
     "metadata": {},
     "output_type": "execute_result"
    }
   ],
   "source": [
    "iam_ceo = f500.loc[\"Walmart\" , \"ceo\"] = \"Eslam Hosam\"\n",
    "iam_ceo"
   ]
  },
  {
   "cell_type": "code",
   "execution_count": 105,
   "metadata": {},
   "outputs": [
    {
     "data": {
      "text/plain": [
       "'Mada'"
      ]
     },
     "execution_count": 105,
     "metadata": {},
     "output_type": "execute_result"
    }
   ],
   "source": [
    "f500.loc[\"Amazon.com\" , \"ceo\"] = \"Mada\"\n",
    "\n",
    "f500.loc[\"Amazon.com\" , \"ceo\"]"
   ]
  },
  {
   "cell_type": "code",
   "execution_count": 108,
   "metadata": {},
   "outputs": [
    {
     "name": "stdout",
     "output_type": "stream",
     "text": [
      "4            Japan\n",
      "5          Germany\n",
      "16         Germany\n",
      "17             USA\n",
      "20             USA\n",
      "28           Japan\n",
      "40           China\n",
      "43           Japan\n",
      "51         Germany\n",
      "67           China\n",
      "75         Germany\n",
      "77     South Korea\n",
      "124          China\n",
      "136          China\n",
      "139         France\n",
      "156         France\n",
      "208    South Korea\n",
      "212        Germany\n",
      "235          Japan\n",
      "237          China\n",
      "246          India\n",
      "262        Germany\n",
      "278          China\n",
      "289         Canada\n",
      "300         Sweden\n",
      "322    South Korea\n",
      "323          Japan\n",
      "342          China\n",
      "351          Japan\n",
      "352          Japan\n",
      "366          Japan\n",
      "372          Japan\n",
      "419          Japan\n",
      "465         France\n",
      "Name: country, dtype: object\n"
     ]
    },
    {
     "data": {
      "text/plain": [
       "Japan          10\n",
       "China           7\n",
       "Germany         6\n",
       "France          3\n",
       "South Korea     3\n",
       "USA             2\n",
       "India           1\n",
       "Sweden          1\n",
       "Canada          1\n",
       "Name: country, dtype: int64"
      ]
     },
     "execution_count": 108,
     "metadata": {},
     "output_type": "execute_result"
    }
   ],
   "source": [
    "motor_countries = f500.loc[f500[\"industry\"] == \"Motor Vehicles and Parts\" , \"country\"]\n",
    "print(motor_countries)\n",
    "motor_countries.value_counts()"
   ]
  },
  {
   "cell_type": "code",
   "execution_count": 109,
   "metadata": {},
   "outputs": [
    {
     "data": {
      "text/plain": [
       "4      Japan\n",
       "28     Japan\n",
       "43     Japan\n",
       "235    Japan\n",
       "323    Japan\n",
       "351    Japan\n",
       "352    Japan\n",
       "366    Japan\n",
       "372    Japan\n",
       "419    Japan\n",
       "Name: country, dtype: object"
      ]
     },
     "execution_count": 109,
     "metadata": {},
     "output_type": "execute_result"
    }
   ],
   "source": [
    "motor_countries[motor_countries == \"Japan\"]"
   ]
  },
  {
   "cell_type": "code",
   "execution_count": 24,
   "metadata": {},
   "outputs": [
    {
     "data": {
      "text/plain": [
       "company\n",
       "SAIC Motor                             China\n",
       "Dongfeng Motor                         China\n",
       "China FAW Group                        China\n",
       "Beijing Automotive Group               China\n",
       "Guangzhou Automobile Industry Group    China\n",
       "Jardine Matheson                       China\n",
       "Zhejiang Geely Holding Group           China\n",
       "Name: country, dtype: object"
      ]
     },
     "execution_count": 24,
     "metadata": {},
     "output_type": "execute_result"
    }
   ],
   "source": [
    "motor_countries.loc[motor_countries == \"China\"]"
   ]
  },
  {
   "cell_type": "code",
   "execution_count": 25,
   "metadata": {},
   "outputs": [
    {
     "data": {
      "text/plain": [
       "company\n",
       "General Motors    USA\n",
       "Ford Motor        USA\n",
       "Name: country, dtype: object"
      ]
     },
     "execution_count": 25,
     "metadata": {},
     "output_type": "execute_result"
    }
   ],
   "source": [
    "motor_countries[motor_countries == \"USA\"]"
   ]
  },
  {
   "cell_type": "code",
   "execution_count": 26,
   "metadata": {},
   "outputs": [
    {
     "data": {
      "text/plain": [
       "'Egypt'"
      ]
     },
     "execution_count": 26,
     "metadata": {},
     "output_type": "execute_result"
    }
   ],
   "source": [
    "motor_countries[motor_countries == \"USA\"] = \"OM Eldonia\"\n",
    "motor_countries[motor_countries == \"Japan\"] = \"Egypt\"\n",
    "motor_countries[\"Toyota Motor\"]"
   ]
  },
  {
   "cell_type": "code",
   "execution_count": 27,
   "metadata": {},
   "outputs": [
    {
     "name": "stdout",
     "output_type": "stream",
     "text": [
      "0    33\n",
      "Name: previous_rank, dtype: int64\n"
     ]
    },
    {
     "data": {
      "text/plain": [
       "NaN      33\n",
       "471.0     1\n",
       "234.0     1\n",
       "125.0     1\n",
       "166.0     1\n",
       "         ..\n",
       "191.0     1\n",
       "369.0     1\n",
       "179.0     1\n",
       "161.0     1\n",
       "1.0       1\n",
       "Name: previous_rank, Length: 468, dtype: int64"
      ]
     },
     "execution_count": 27,
     "metadata": {},
     "output_type": "execute_result"
    }
   ],
   "source": [
    "prev_rank_before = f500.loc[f500[\"previous_rank\"] == 0 , \"previous_rank\"]\n",
    "print(prev_rank_before.value_counts())\n",
    "f500.loc[f500[\"previous_rank\"] == 0 , \"previous_rank\"] = np.nan\n",
    "prev_rank_after = f500[\"previous_rank\"].value_counts(dropna = False)\n",
    "prev_rank_after"
   ]
  },
  {
   "cell_type": "code",
   "execution_count": 28,
   "metadata": {},
   "outputs": [
    {
     "data": {
      "text/plain": [
       "Egyptian King MO in USA        132\n",
       "Egyptian King MO in China      109\n",
       "Egyptian King MO in Japan       51\n",
       "Egyptian King MO in Germany     29\n",
       "Egyptian King MO in France      29\n",
       "Name: new_ceo, dtype: int64"
      ]
     },
     "execution_count": 28,
     "metadata": {},
     "output_type": "execute_result"
    }
   ],
   "source": [
    "f500[\"new_ceo\"] = \"Egyptian King MO in \" + f500[\"country\"]\n",
    "f500[\"new_ceo\"].value_counts().head()"
   ]
  },
  {
   "cell_type": "code",
   "execution_count": 29,
   "metadata": {},
   "outputs": [
    {
     "data": {
      "text/html": [
       "<div>\n",
       "<style scoped>\n",
       "    .dataframe tbody tr th:only-of-type {\n",
       "        vertical-align: middle;\n",
       "    }\n",
       "\n",
       "    .dataframe tbody tr th {\n",
       "        vertical-align: top;\n",
       "    }\n",
       "\n",
       "    .dataframe thead th {\n",
       "        text-align: right;\n",
       "    }\n",
       "</style>\n",
       "<table border=\"1\" class=\"dataframe\">\n",
       "  <thead>\n",
       "    <tr style=\"text-align: right;\">\n",
       "      <th></th>\n",
       "      <th>rank</th>\n",
       "      <th>revenues</th>\n",
       "      <th>revenue_change</th>\n",
       "      <th>profits</th>\n",
       "      <th>assets</th>\n",
       "      <th>profit_change</th>\n",
       "      <th>ceo</th>\n",
       "      <th>industry</th>\n",
       "      <th>sector</th>\n",
       "      <th>previous_rank</th>\n",
       "      <th>country</th>\n",
       "      <th>hq_location</th>\n",
       "      <th>website</th>\n",
       "      <th>years_on_global_500_list</th>\n",
       "      <th>employees</th>\n",
       "      <th>total_stockholder_equity</th>\n",
       "      <th>rank_change</th>\n",
       "      <th>new_ceo</th>\n",
       "    </tr>\n",
       "    <tr>\n",
       "      <th>company</th>\n",
       "      <th></th>\n",
       "      <th></th>\n",
       "      <th></th>\n",
       "      <th></th>\n",
       "      <th></th>\n",
       "      <th></th>\n",
       "      <th></th>\n",
       "      <th></th>\n",
       "      <th></th>\n",
       "      <th></th>\n",
       "      <th></th>\n",
       "      <th></th>\n",
       "      <th></th>\n",
       "      <th></th>\n",
       "      <th></th>\n",
       "      <th></th>\n",
       "      <th></th>\n",
       "      <th></th>\n",
       "    </tr>\n",
       "  </thead>\n",
       "  <tbody>\n",
       "    <tr>\n",
       "      <td>Walmart</td>\n",
       "      <td>1</td>\n",
       "      <td>485873</td>\n",
       "      <td>0.8</td>\n",
       "      <td>13643.0</td>\n",
       "      <td>198825</td>\n",
       "      <td>-7.2</td>\n",
       "      <td>Eslam Hosam</td>\n",
       "      <td>General Merchandisers</td>\n",
       "      <td>Retailing</td>\n",
       "      <td>1.0</td>\n",
       "      <td>USA</td>\n",
       "      <td>Bentonville, AR</td>\n",
       "      <td>http://www.walmart.com</td>\n",
       "      <td>23</td>\n",
       "      <td>2300000</td>\n",
       "      <td>77798</td>\n",
       "      <td>0</td>\n",
       "      <td>Egyptian King MO in USA</td>\n",
       "    </tr>\n",
       "    <tr>\n",
       "      <td>State Grid</td>\n",
       "      <td>2</td>\n",
       "      <td>315199</td>\n",
       "      <td>-4.4</td>\n",
       "      <td>9571.3</td>\n",
       "      <td>489838</td>\n",
       "      <td>-6.2</td>\n",
       "      <td>Kou Wei</td>\n",
       "      <td>Utilities</td>\n",
       "      <td>Energy</td>\n",
       "      <td>2.0</td>\n",
       "      <td>China</td>\n",
       "      <td>Beijing, China</td>\n",
       "      <td>http://www.sgcc.com.cn</td>\n",
       "      <td>17</td>\n",
       "      <td>926067</td>\n",
       "      <td>209456</td>\n",
       "      <td>0</td>\n",
       "      <td>Egyptian King MO in China</td>\n",
       "    </tr>\n",
       "  </tbody>\n",
       "</table>\n",
       "</div>"
      ],
      "text/plain": [
       "            rank  revenues  revenue_change  profits  assets  profit_change  \\\n",
       "company                                                                      \n",
       "Walmart        1    485873             0.8  13643.0  198825           -7.2   \n",
       "State Grid     2    315199            -4.4   9571.3  489838           -6.2   \n",
       "\n",
       "                    ceo               industry     sector  previous_rank  \\\n",
       "company                                                                    \n",
       "Walmart     Eslam Hosam  General Merchandisers  Retailing            1.0   \n",
       "State Grid      Kou Wei              Utilities     Energy            2.0   \n",
       "\n",
       "           country      hq_location                 website  \\\n",
       "company                                                       \n",
       "Walmart        USA  Bentonville, AR  http://www.walmart.com   \n",
       "State Grid   China   Beijing, China  http://www.sgcc.com.cn   \n",
       "\n",
       "            years_on_global_500_list  employees  total_stockholder_equity  \\\n",
       "company                                                                     \n",
       "Walmart                           23    2300000                     77798   \n",
       "State Grid                        17     926067                    209456   \n",
       "\n",
       "            rank_change                    new_ceo  \n",
       "company                                             \n",
       "Walmart               0    Egyptian King MO in USA  \n",
       "State Grid            0  Egyptian King MO in China  "
      ]
     },
     "execution_count": 29,
     "metadata": {},
     "output_type": "execute_result"
    }
   ],
   "source": [
    "f500.head(2)"
   ]
  },
  {
   "cell_type": "code",
   "execution_count": 30,
   "metadata": {},
   "outputs": [
    {
     "data": {
      "text/plain": [
       "count    467.000000\n",
       "mean      -3.533191\n",
       "std       44.293603\n",
       "min     -199.000000\n",
       "25%      -21.000000\n",
       "50%       -2.000000\n",
       "75%       10.000000\n",
       "max      226.000000\n",
       "Name: rank_change, dtype: float64"
      ]
     },
     "execution_count": 30,
     "metadata": {},
     "output_type": "execute_result"
    }
   ],
   "source": [
    "f500[\"rank_change\"] = f500[\"previous_rank\"] - f500[\"rank\"]\n",
    "rank_change_desc = f500[\"rank_change\"].describe()\n",
    "rank_change_desc"
   ]
  },
  {
   "cell_type": "code",
   "execution_count": 31,
   "metadata": {},
   "outputs": [
    {
     "data": {
      "text/plain": [
       "Banks: Commercial and Savings               8\n",
       "Insurance: Property and Casualty (Stock)    7\n",
       "Health Care: Insurance and Managed Care     6\n",
       "Specialty Retailers                         6\n",
       "Petroleum Refining                          6\n",
       "Name: industry, dtype: int64"
      ]
     },
     "execution_count": 31,
     "metadata": {},
     "output_type": "execute_result"
    }
   ],
   "source": [
    "# top industry companies headquartered in usa \n",
    "usa_companies = f500.loc[f500[\"country\"] == \"USA\" , \"industry\"]\n",
    "usa_companies.value_counts().head()"
   ]
  },
  {
   "cell_type": "code",
   "execution_count": 32,
   "metadata": {},
   "outputs": [
    {
     "data": {
      "text/plain": [
       "Financials     25\n",
       "Energy         22\n",
       "Wholesalers     9\n",
       "Name: sector, dtype: int64"
      ]
     },
     "execution_count": 32,
     "metadata": {},
     "output_type": "execute_result"
    }
   ],
   "source": [
    "#most common sector values for companies in china\n",
    "chinese_sectors = f500.loc[f500[\"country\"] == \"China\" , \"sector\"]\n",
    "chinese_sectors.value_counts(dropna = False).head(3)"
   ]
  },
  {
   "cell_type": "code",
   "execution_count": 33,
   "metadata": {},
   "outputs": [
    {
     "data": {
      "text/plain": [
       "USA             132\n",
       "China           109\n",
       "Japan            51\n",
       "Germany          29\n",
       "France           29\n",
       "Britain          24\n",
       "South Korea      15\n",
       "Netherlands      14\n",
       "Switzerland      14\n",
       "Canada           11\n",
       "Spain             9\n",
       "Australia         7\n",
       "Brazil            7\n",
       "Italy             7\n",
       "India             7\n",
       "Taiwan            6\n",
       "Russia            4\n",
       "Ireland           4\n",
       "Singapore         3\n",
       "Sweden            3\n",
       "Mexico            2\n",
       "Finland           1\n",
       "Indonesia         1\n",
       "Venezuela         1\n",
       "Turkey            1\n",
       "Saudi Arabia      1\n",
       "Norway            1\n",
       "Thailand          1\n",
       "Malaysia          1\n",
       "U.A.E             1\n",
       "Israel            1\n",
       "Denmark           1\n",
       "Belgium           1\n",
       "Luxembourg        1\n",
       "Name: country, dtype: int64"
      ]
     },
     "execution_count": 33,
     "metadata": {},
     "output_type": "execute_result"
    }
   ],
   "source": [
    "f500.loc[f500[\"country\"] == \"om eldonia\" , \"country\"] = \"Om Eldonia\"\n",
    "f500[\"country\"].value_counts()"
   ]
  },
  {
   "cell_type": "markdown",
   "metadata": {},
   "source": [
    "## exploring data basics without string labels"
   ]
  },
  {
   "cell_type": "code",
   "execution_count": 34,
   "metadata": {},
   "outputs": [
    {
     "data": {
      "text/html": [
       "<div>\n",
       "<style scoped>\n",
       "    .dataframe tbody tr th:only-of-type {\n",
       "        vertical-align: middle;\n",
       "    }\n",
       "\n",
       "    .dataframe tbody tr th {\n",
       "        vertical-align: top;\n",
       "    }\n",
       "\n",
       "    .dataframe thead th {\n",
       "        text-align: right;\n",
       "    }\n",
       "</style>\n",
       "<table border=\"1\" class=\"dataframe\">\n",
       "  <thead>\n",
       "    <tr style=\"text-align: right;\">\n",
       "      <th></th>\n",
       "      <th>company</th>\n",
       "      <th>rank</th>\n",
       "      <th>revenues</th>\n",
       "      <th>revenue_change</th>\n",
       "      <th>profits</th>\n",
       "      <th>assets</th>\n",
       "      <th>profit_change</th>\n",
       "      <th>ceo</th>\n",
       "      <th>industry</th>\n",
       "      <th>sector</th>\n",
       "      <th>previous_rank</th>\n",
       "      <th>country</th>\n",
       "      <th>hq_location</th>\n",
       "      <th>website</th>\n",
       "      <th>years_on_global_500_list</th>\n",
       "      <th>employees</th>\n",
       "      <th>total_stockholder_equity</th>\n",
       "    </tr>\n",
       "  </thead>\n",
       "  <tbody>\n",
       "    <tr>\n",
       "      <td>0</td>\n",
       "      <td>Walmart</td>\n",
       "      <td>1</td>\n",
       "      <td>485873</td>\n",
       "      <td>0.8</td>\n",
       "      <td>13643.0</td>\n",
       "      <td>198825</td>\n",
       "      <td>-7.2</td>\n",
       "      <td>C. Douglas McMillon</td>\n",
       "      <td>General Merchandisers</td>\n",
       "      <td>Retailing</td>\n",
       "      <td>1</td>\n",
       "      <td>USA</td>\n",
       "      <td>Bentonville, AR</td>\n",
       "      <td>http://www.walmart.com</td>\n",
       "      <td>23</td>\n",
       "      <td>2300000</td>\n",
       "      <td>77798</td>\n",
       "    </tr>\n",
       "    <tr>\n",
       "      <td>1</td>\n",
       "      <td>State Grid</td>\n",
       "      <td>2</td>\n",
       "      <td>315199</td>\n",
       "      <td>-4.4</td>\n",
       "      <td>9571.3</td>\n",
       "      <td>489838</td>\n",
       "      <td>-6.2</td>\n",
       "      <td>Kou Wei</td>\n",
       "      <td>Utilities</td>\n",
       "      <td>Energy</td>\n",
       "      <td>2</td>\n",
       "      <td>China</td>\n",
       "      <td>Beijing, China</td>\n",
       "      <td>http://www.sgcc.com.cn</td>\n",
       "      <td>17</td>\n",
       "      <td>926067</td>\n",
       "      <td>209456</td>\n",
       "    </tr>\n",
       "    <tr>\n",
       "      <td>2</td>\n",
       "      <td>Sinopec Group</td>\n",
       "      <td>3</td>\n",
       "      <td>267518</td>\n",
       "      <td>-9.1</td>\n",
       "      <td>1257.9</td>\n",
       "      <td>310726</td>\n",
       "      <td>-65.0</td>\n",
       "      <td>Wang Yupu</td>\n",
       "      <td>Petroleum Refining</td>\n",
       "      <td>Energy</td>\n",
       "      <td>4</td>\n",
       "      <td>China</td>\n",
       "      <td>Beijing, China</td>\n",
       "      <td>http://www.sinopec.com</td>\n",
       "      <td>19</td>\n",
       "      <td>713288</td>\n",
       "      <td>106523</td>\n",
       "    </tr>\n",
       "    <tr>\n",
       "      <td>3</td>\n",
       "      <td>China National Petroleum</td>\n",
       "      <td>4</td>\n",
       "      <td>262573</td>\n",
       "      <td>-12.3</td>\n",
       "      <td>1867.5</td>\n",
       "      <td>585619</td>\n",
       "      <td>-73.7</td>\n",
       "      <td>Zhang Jianhua</td>\n",
       "      <td>Petroleum Refining</td>\n",
       "      <td>Energy</td>\n",
       "      <td>3</td>\n",
       "      <td>China</td>\n",
       "      <td>Beijing, China</td>\n",
       "      <td>http://www.cnpc.com.cn</td>\n",
       "      <td>17</td>\n",
       "      <td>1512048</td>\n",
       "      <td>301893</td>\n",
       "    </tr>\n",
       "    <tr>\n",
       "      <td>4</td>\n",
       "      <td>Toyota Motor</td>\n",
       "      <td>5</td>\n",
       "      <td>254694</td>\n",
       "      <td>7.7</td>\n",
       "      <td>16899.3</td>\n",
       "      <td>437575</td>\n",
       "      <td>-12.3</td>\n",
       "      <td>Akio Toyoda</td>\n",
       "      <td>Motor Vehicles and Parts</td>\n",
       "      <td>Motor Vehicles &amp; Parts</td>\n",
       "      <td>8</td>\n",
       "      <td>Japan</td>\n",
       "      <td>Toyota, Japan</td>\n",
       "      <td>http://www.toyota-global.com</td>\n",
       "      <td>23</td>\n",
       "      <td>364445</td>\n",
       "      <td>157210</td>\n",
       "    </tr>\n",
       "  </tbody>\n",
       "</table>\n",
       "</div>"
      ],
      "text/plain": [
       "                    company  rank  revenues  revenue_change  profits  assets  \\\n",
       "0                   Walmart     1    485873             0.8  13643.0  198825   \n",
       "1                State Grid     2    315199            -4.4   9571.3  489838   \n",
       "2             Sinopec Group     3    267518            -9.1   1257.9  310726   \n",
       "3  China National Petroleum     4    262573           -12.3   1867.5  585619   \n",
       "4              Toyota Motor     5    254694             7.7  16899.3  437575   \n",
       "\n",
       "   profit_change                  ceo                  industry  \\\n",
       "0           -7.2  C. Douglas McMillon     General Merchandisers   \n",
       "1           -6.2              Kou Wei                 Utilities   \n",
       "2          -65.0            Wang Yupu        Petroleum Refining   \n",
       "3          -73.7        Zhang Jianhua        Petroleum Refining   \n",
       "4          -12.3          Akio Toyoda  Motor Vehicles and Parts   \n",
       "\n",
       "                   sector  previous_rank country      hq_location  \\\n",
       "0               Retailing              1     USA  Bentonville, AR   \n",
       "1                  Energy              2   China   Beijing, China   \n",
       "2                  Energy              4   China   Beijing, China   \n",
       "3                  Energy              3   China   Beijing, China   \n",
       "4  Motor Vehicles & Parts              8   Japan    Toyota, Japan   \n",
       "\n",
       "                        website  years_on_global_500_list  employees  \\\n",
       "0        http://www.walmart.com                        23    2300000   \n",
       "1        http://www.sgcc.com.cn                        17     926067   \n",
       "2        http://www.sinopec.com                        19     713288   \n",
       "3        http://www.cnpc.com.cn                        17    1512048   \n",
       "4  http://www.toyota-global.com                        23     364445   \n",
       "\n",
       "   total_stockholder_equity  \n",
       "0                     77798  \n",
       "1                    209456  \n",
       "2                    106523  \n",
       "3                    301893  \n",
       "4                    157210  "
      ]
     },
     "execution_count": 34,
     "metadata": {},
     "output_type": "execute_result"
    }
   ],
   "source": [
    "f500 = pd.read_csv(\"f500.csv\") \n",
    "f500.head()"
   ]
  },
  {
   "cell_type": "code",
   "execution_count": 35,
   "metadata": {},
   "outputs": [],
   "source": [
    "f500.loc[f500[\"previous_rank\"] == 0 , \"previous_rank\"] = np.nan"
   ]
  },
  {
   "cell_type": "code",
   "execution_count": 36,
   "metadata": {},
   "outputs": [
    {
     "name": "stdout",
     "output_type": "stream",
     "text": [
      "company                                    Walmart\n",
      "rank                                             1\n",
      "revenues                                    485873\n",
      "revenue_change                                 0.8\n",
      "profits                                      13643\n",
      "assets                                      198825\n",
      "profit_change                                 -7.2\n",
      "ceo                            C. Douglas McMillon\n",
      "industry                     General Merchandisers\n",
      "sector                                   Retailing\n",
      "previous_rank                                    1\n",
      "country                                        USA\n",
      "hq_location                        Bentonville, AR\n",
      "website                     http://www.walmart.com\n",
      "years_on_global_500_list                        23\n",
      "employees                                  2300000\n",
      "total_stockholder_equity                     77798\n",
      "Name: 0, dtype: object\n"
     ]
    }
   ],
   "source": [
    "f500.iloc[0 , 0]\n",
    "print(f500.iloc[0])"
   ]
  },
  {
   "cell_type": "code",
   "execution_count": 37,
   "metadata": {},
   "outputs": [
    {
     "data": {
      "text/plain": [
       "0                             Walmart\n",
       "1                          State Grid\n",
       "2                       Sinopec Group\n",
       "3            China National Petroleum\n",
       "4                        Toyota Motor\n",
       "                    ...              \n",
       "495    Teva Pharmaceutical Industries\n",
       "496          New China Life Insurance\n",
       "497         Wm. Morrison Supermarkets\n",
       "498                               TUI\n",
       "499                        AutoNation\n",
       "Name: company, Length: 500, dtype: object"
      ]
     },
     "execution_count": 37,
     "metadata": {},
     "output_type": "execute_result"
    }
   ],
   "source": [
    "company = f500.iloc[:, 0]\n",
    "company"
   ]
  },
  {
   "cell_type": "code",
   "execution_count": 38,
   "metadata": {},
   "outputs": [
    {
     "data": {
      "text/html": [
       "<div>\n",
       "<style scoped>\n",
       "    .dataframe tbody tr th:only-of-type {\n",
       "        vertical-align: middle;\n",
       "    }\n",
       "\n",
       "    .dataframe tbody tr th {\n",
       "        vertical-align: top;\n",
       "    }\n",
       "\n",
       "    .dataframe thead th {\n",
       "        text-align: right;\n",
       "    }\n",
       "</style>\n",
       "<table border=\"1\" class=\"dataframe\">\n",
       "  <thead>\n",
       "    <tr style=\"text-align: right;\">\n",
       "      <th></th>\n",
       "      <th>company</th>\n",
       "      <th>rank</th>\n",
       "      <th>revenues</th>\n",
       "      <th>revenue_change</th>\n",
       "    </tr>\n",
       "  </thead>\n",
       "  <tbody>\n",
       "    <tr>\n",
       "      <td>0</td>\n",
       "      <td>Walmart</td>\n",
       "      <td>1</td>\n",
       "      <td>485873</td>\n",
       "      <td>0.8</td>\n",
       "    </tr>\n",
       "    <tr>\n",
       "      <td>1</td>\n",
       "      <td>State Grid</td>\n",
       "      <td>2</td>\n",
       "      <td>315199</td>\n",
       "      <td>-4.4</td>\n",
       "    </tr>\n",
       "    <tr>\n",
       "      <td>2</td>\n",
       "      <td>Sinopec Group</td>\n",
       "      <td>3</td>\n",
       "      <td>267518</td>\n",
       "      <td>-9.1</td>\n",
       "    </tr>\n",
       "    <tr>\n",
       "      <td>3</td>\n",
       "      <td>China National Petroleum</td>\n",
       "      <td>4</td>\n",
       "      <td>262573</td>\n",
       "      <td>-12.3</td>\n",
       "    </tr>\n",
       "    <tr>\n",
       "      <td>4</td>\n",
       "      <td>Toyota Motor</td>\n",
       "      <td>5</td>\n",
       "      <td>254694</td>\n",
       "      <td>7.7</td>\n",
       "    </tr>\n",
       "  </tbody>\n",
       "</table>\n",
       "</div>"
      ],
      "text/plain": [
       "                    company  rank  revenues  revenue_change\n",
       "0                   Walmart     1    485873             0.8\n",
       "1                State Grid     2    315199            -4.4\n",
       "2             Sinopec Group     3    267518            -9.1\n",
       "3  China National Petroleum     4    262573           -12.3\n",
       "4              Toyota Motor     5    254694             7.7"
      ]
     },
     "execution_count": 38,
     "metadata": {},
     "output_type": "execute_result"
    }
   ],
   "source": [
    "df = f500.iloc[:5 , 0:4]\n",
    "df"
   ]
  },
  {
   "cell_type": "code",
   "execution_count": 39,
   "metadata": {},
   "outputs": [
    {
     "data": {
      "text/html": [
       "<div>\n",
       "<style scoped>\n",
       "    .dataframe tbody tr th:only-of-type {\n",
       "        vertical-align: middle;\n",
       "    }\n",
       "\n",
       "    .dataframe tbody tr th {\n",
       "        vertical-align: top;\n",
       "    }\n",
       "\n",
       "    .dataframe thead th {\n",
       "        text-align: right;\n",
       "    }\n",
       "</style>\n",
       "<table border=\"1\" class=\"dataframe\">\n",
       "  <thead>\n",
       "    <tr style=\"text-align: right;\">\n",
       "      <th></th>\n",
       "      <th>company</th>\n",
       "      <th>rank</th>\n",
       "      <th>revenues</th>\n",
       "      <th>revenue_change</th>\n",
       "      <th>profits</th>\n",
       "      <th>assets</th>\n",
       "      <th>profit_change</th>\n",
       "      <th>ceo</th>\n",
       "      <th>industry</th>\n",
       "      <th>sector</th>\n",
       "      <th>previous_rank</th>\n",
       "      <th>country</th>\n",
       "      <th>hq_location</th>\n",
       "      <th>website</th>\n",
       "      <th>years_on_global_500_list</th>\n",
       "      <th>employees</th>\n",
       "      <th>total_stockholder_equity</th>\n",
       "    </tr>\n",
       "  </thead>\n",
       "  <tbody>\n",
       "    <tr>\n",
       "      <td>1</td>\n",
       "      <td>State Grid</td>\n",
       "      <td>2</td>\n",
       "      <td>315199</td>\n",
       "      <td>-4.4</td>\n",
       "      <td>9571.3</td>\n",
       "      <td>489838</td>\n",
       "      <td>-6.2</td>\n",
       "      <td>Kou Wei</td>\n",
       "      <td>Utilities</td>\n",
       "      <td>Energy</td>\n",
       "      <td>2.0</td>\n",
       "      <td>China</td>\n",
       "      <td>Beijing, China</td>\n",
       "      <td>http://www.sgcc.com.cn</td>\n",
       "      <td>17</td>\n",
       "      <td>926067</td>\n",
       "      <td>209456</td>\n",
       "    </tr>\n",
       "    <tr>\n",
       "      <td>5</td>\n",
       "      <td>Volkswagen</td>\n",
       "      <td>6</td>\n",
       "      <td>240264</td>\n",
       "      <td>1.5</td>\n",
       "      <td>5937.3</td>\n",
       "      <td>432116</td>\n",
       "      <td>NaN</td>\n",
       "      <td>Matthias Muller</td>\n",
       "      <td>Motor Vehicles and Parts</td>\n",
       "      <td>Motor Vehicles &amp; Parts</td>\n",
       "      <td>7.0</td>\n",
       "      <td>Germany</td>\n",
       "      <td>Wolfsburg, Germany</td>\n",
       "      <td>http://www.volkswagen.com</td>\n",
       "      <td>23</td>\n",
       "      <td>626715</td>\n",
       "      <td>97753</td>\n",
       "    </tr>\n",
       "    <tr>\n",
       "      <td>10</td>\n",
       "      <td>McKesson</td>\n",
       "      <td>11</td>\n",
       "      <td>198533</td>\n",
       "      <td>3.1</td>\n",
       "      <td>5070.0</td>\n",
       "      <td>60969</td>\n",
       "      <td>124.5</td>\n",
       "      <td>John H. Hammergren</td>\n",
       "      <td>Wholesalers: Health Care</td>\n",
       "      <td>Wholesalers</td>\n",
       "      <td>12.0</td>\n",
       "      <td>USA</td>\n",
       "      <td>San Francisco, CA</td>\n",
       "      <td>http://www.mckesson.com</td>\n",
       "      <td>23</td>\n",
       "      <td>64500</td>\n",
       "      <td>11095</td>\n",
       "    </tr>\n",
       "  </tbody>\n",
       "</table>\n",
       "</div>"
      ],
      "text/plain": [
       "       company  rank  revenues  revenue_change  profits  assets  \\\n",
       "1   State Grid     2    315199            -4.4   9571.3  489838   \n",
       "5   Volkswagen     6    240264             1.5   5937.3  432116   \n",
       "10    McKesson    11    198533             3.1   5070.0   60969   \n",
       "\n",
       "    profit_change                 ceo                  industry  \\\n",
       "1            -6.2             Kou Wei                 Utilities   \n",
       "5             NaN     Matthias Muller  Motor Vehicles and Parts   \n",
       "10          124.5  John H. Hammergren  Wholesalers: Health Care   \n",
       "\n",
       "                    sector  previous_rank  country         hq_location  \\\n",
       "1                   Energy            2.0    China      Beijing, China   \n",
       "5   Motor Vehicles & Parts            7.0  Germany  Wolfsburg, Germany   \n",
       "10             Wholesalers           12.0      USA   San Francisco, CA   \n",
       "\n",
       "                      website  years_on_global_500_list  employees  \\\n",
       "1      http://www.sgcc.com.cn                        17     926067   \n",
       "5   http://www.volkswagen.com                        23     626715   \n",
       "10    http://www.mckesson.com                        23      64500   \n",
       "\n",
       "    total_stockholder_equity  \n",
       "1                     209456  \n",
       "5                      97753  \n",
       "10                     11095  "
      ]
     },
     "execution_count": 39,
     "metadata": {},
     "output_type": "execute_result"
    }
   ],
   "source": [
    "rows = f500.iloc[[1 , 5 , 10]]\n",
    "rows"
   ]
  },
  {
   "cell_type": "code",
   "execution_count": 40,
   "metadata": {},
   "outputs": [
    {
     "name": "stdout",
     "output_type": "stream",
     "text": [
      "company                                     McKesson\n",
      "rank                                              11\n",
      "revenues                                      198533\n",
      "revenue_change                                   3.1\n",
      "profits                                         5070\n",
      "assets                                         60969\n",
      "profit_change                                  124.5\n",
      "ceo                               John H. Hammergren\n",
      "industry                    Wholesalers: Health Care\n",
      "sector                                   Wholesalers\n",
      "previous_rank                                     12\n",
      "country                                          USA\n",
      "hq_location                        San Francisco, CA\n",
      "website                      http://www.mckesson.com\n",
      "years_on_global_500_list                          23\n",
      "employees                                      64500\n",
      "total_stockholder_equity                       11095\n",
      "Name: 10, dtype: object\n",
      "company                                     McKesson\n",
      "rank                                              11\n",
      "revenues                                      198533\n",
      "revenue_change                                   3.1\n",
      "profits                                         5070\n",
      "assets                                         60969\n",
      "profit_change                                  124.5\n",
      "ceo                               John H. Hammergren\n",
      "industry                    Wholesalers: Health Care\n",
      "sector                                   Wholesalers\n",
      "previous_rank                                     12\n",
      "country                                          USA\n",
      "hq_location                        San Francisco, CA\n",
      "website                      http://www.mckesson.com\n",
      "years_on_global_500_list                          23\n",
      "employees                                      64500\n",
      "total_stockholder_equity                       11095\n",
      "Name: 10, dtype: object\n"
     ]
    }
   ],
   "source": [
    "print(rows.loc[10]) \n",
    "print(rows.iloc[2])"
   ]
  },
  {
   "cell_type": "code",
   "execution_count": 41,
   "metadata": {},
   "outputs": [
    {
     "data": {
      "text/html": [
       "<div>\n",
       "<style scoped>\n",
       "    .dataframe tbody tr th:only-of-type {\n",
       "        vertical-align: middle;\n",
       "    }\n",
       "\n",
       "    .dataframe tbody tr th {\n",
       "        vertical-align: top;\n",
       "    }\n",
       "\n",
       "    .dataframe thead th {\n",
       "        text-align: right;\n",
       "    }\n",
       "</style>\n",
       "<table border=\"1\" class=\"dataframe\">\n",
       "  <thead>\n",
       "    <tr style=\"text-align: right;\">\n",
       "      <th></th>\n",
       "      <th>company</th>\n",
       "      <th>rank</th>\n",
       "      <th>revenues</th>\n",
       "      <th>revenue_change</th>\n",
       "      <th>profits</th>\n",
       "      <th>assets</th>\n",
       "      <th>profit_change</th>\n",
       "      <th>ceo</th>\n",
       "      <th>industry</th>\n",
       "      <th>sector</th>\n",
       "      <th>previous_rank</th>\n",
       "      <th>country</th>\n",
       "      <th>hq_location</th>\n",
       "      <th>website</th>\n",
       "      <th>years_on_global_500_list</th>\n",
       "      <th>employees</th>\n",
       "      <th>total_stockholder_equity</th>\n",
       "    </tr>\n",
       "  </thead>\n",
       "  <tbody>\n",
       "    <tr>\n",
       "      <td>0</td>\n",
       "      <td>Walmart</td>\n",
       "      <td>1</td>\n",
       "      <td>485873</td>\n",
       "      <td>0.8</td>\n",
       "      <td>13643.0</td>\n",
       "      <td>198825</td>\n",
       "      <td>-7.2</td>\n",
       "      <td>C. Douglas McMillon</td>\n",
       "      <td>General Merchandisers</td>\n",
       "      <td>Retailing</td>\n",
       "      <td>1.0</td>\n",
       "      <td>USA</td>\n",
       "      <td>Bentonville, AR</td>\n",
       "      <td>http://www.walmart.com</td>\n",
       "      <td>23</td>\n",
       "      <td>2300000</td>\n",
       "      <td>77798</td>\n",
       "    </tr>\n",
       "    <tr>\n",
       "      <td>1</td>\n",
       "      <td>State Grid</td>\n",
       "      <td>2</td>\n",
       "      <td>315199</td>\n",
       "      <td>-4.4</td>\n",
       "      <td>9571.3</td>\n",
       "      <td>489838</td>\n",
       "      <td>-6.2</td>\n",
       "      <td>Kou Wei</td>\n",
       "      <td>Utilities</td>\n",
       "      <td>Energy</td>\n",
       "      <td>2.0</td>\n",
       "      <td>China</td>\n",
       "      <td>Beijing, China</td>\n",
       "      <td>http://www.sgcc.com.cn</td>\n",
       "      <td>17</td>\n",
       "      <td>926067</td>\n",
       "      <td>209456</td>\n",
       "    </tr>\n",
       "    <tr>\n",
       "      <td>2</td>\n",
       "      <td>Sinopec Group</td>\n",
       "      <td>3</td>\n",
       "      <td>267518</td>\n",
       "      <td>-9.1</td>\n",
       "      <td>1257.9</td>\n",
       "      <td>310726</td>\n",
       "      <td>-65.0</td>\n",
       "      <td>Wang Yupu</td>\n",
       "      <td>Petroleum Refining</td>\n",
       "      <td>Energy</td>\n",
       "      <td>4.0</td>\n",
       "      <td>China</td>\n",
       "      <td>Beijing, China</td>\n",
       "      <td>http://www.sinopec.com</td>\n",
       "      <td>19</td>\n",
       "      <td>713288</td>\n",
       "      <td>106523</td>\n",
       "    </tr>\n",
       "  </tbody>\n",
       "</table>\n",
       "</div>"
      ],
      "text/plain": [
       "         company  rank  revenues  revenue_change  profits  assets  \\\n",
       "0        Walmart     1    485873             0.8  13643.0  198825   \n",
       "1     State Grid     2    315199            -4.4   9571.3  489838   \n",
       "2  Sinopec Group     3    267518            -9.1   1257.9  310726   \n",
       "\n",
       "   profit_change                  ceo               industry     sector  \\\n",
       "0           -7.2  C. Douglas McMillon  General Merchandisers  Retailing   \n",
       "1           -6.2              Kou Wei              Utilities     Energy   \n",
       "2          -65.0            Wang Yupu     Petroleum Refining     Energy   \n",
       "\n",
       "   previous_rank country      hq_location                 website  \\\n",
       "0            1.0     USA  Bentonville, AR  http://www.walmart.com   \n",
       "1            2.0   China   Beijing, China  http://www.sgcc.com.cn   \n",
       "2            4.0   China   Beijing, China  http://www.sinopec.com   \n",
       "\n",
       "   years_on_global_500_list  employees  total_stockholder_equity  \n",
       "0                        23    2300000                     77798  \n",
       "1                        17     926067                    209456  \n",
       "2                        19     713288                    106523  "
      ]
     },
     "execution_count": 41,
     "metadata": {},
     "output_type": "execute_result"
    }
   ],
   "source": [
    "f500.iloc[0:3]"
   ]
  },
  {
   "cell_type": "code",
   "execution_count": 42,
   "metadata": {},
   "outputs": [
    {
     "data": {
      "text/html": [
       "<div>\n",
       "<style scoped>\n",
       "    .dataframe tbody tr th:only-of-type {\n",
       "        vertical-align: middle;\n",
       "    }\n",
       "\n",
       "    .dataframe tbody tr th {\n",
       "        vertical-align: top;\n",
       "    }\n",
       "\n",
       "    .dataframe thead th {\n",
       "        text-align: right;\n",
       "    }\n",
       "</style>\n",
       "<table border=\"1\" class=\"dataframe\">\n",
       "  <thead>\n",
       "    <tr style=\"text-align: right;\">\n",
       "      <th></th>\n",
       "      <th>company</th>\n",
       "      <th>rank</th>\n",
       "      <th>revenues</th>\n",
       "      <th>revenue_change</th>\n",
       "      <th>profits</th>\n",
       "    </tr>\n",
       "  </thead>\n",
       "  <tbody>\n",
       "    <tr>\n",
       "      <td>5</td>\n",
       "      <td>Volkswagen</td>\n",
       "      <td>6</td>\n",
       "      <td>240264</td>\n",
       "      <td>1.5</td>\n",
       "      <td>5937.3</td>\n",
       "    </tr>\n",
       "    <tr>\n",
       "      <td>6</td>\n",
       "      <td>Royal Dutch Shell</td>\n",
       "      <td>7</td>\n",
       "      <td>240033</td>\n",
       "      <td>-11.8</td>\n",
       "      <td>4575.0</td>\n",
       "    </tr>\n",
       "    <tr>\n",
       "      <td>18</td>\n",
       "      <td>AT&amp;T</td>\n",
       "      <td>19</td>\n",
       "      <td>163786</td>\n",
       "      <td>11.6</td>\n",
       "      <td>12976.0</td>\n",
       "    </tr>\n",
       "  </tbody>\n",
       "</table>\n",
       "</div>"
      ],
      "text/plain": [
       "              company  rank  revenues  revenue_change  profits\n",
       "5          Volkswagen     6    240264             1.5   5937.3\n",
       "6   Royal Dutch Shell     7    240033           -11.8   4575.0\n",
       "18               AT&T    19    163786            11.6  12976.0"
      ]
     },
     "execution_count": 42,
     "metadata": {},
     "output_type": "execute_result"
    }
   ],
   "source": [
    "f500.iloc[[5,6,18] , :5]"
   ]
  },
  {
   "cell_type": "code",
   "execution_count": 43,
   "metadata": {},
   "outputs": [
    {
     "data": {
      "text/plain": [
       "0                     Walmart\n",
       "1                  State Grid\n",
       "2               Sinopec Group\n",
       "3    China National Petroleum\n",
       "Name: company, dtype: object"
      ]
     },
     "execution_count": 43,
     "metadata": {},
     "output_type": "execute_result"
    }
   ],
   "source": [
    "f500.loc[f500.iloc[:,1] < 5 , \"company\"]"
   ]
  },
  {
   "cell_type": "code",
   "execution_count": 44,
   "metadata": {},
   "outputs": [
    {
     "data": {
      "text/plain": [
       "5                                        Volkswagen\n",
       "7                                Berkshire Hathaway\n",
       "11                                               BP\n",
       "15                                         Glencore\n",
       "22                                AmerisourceBergen\n",
       "                           ...                     \n",
       "472                                          Altice\n",
       "473                                            Onex\n",
       "475    Shanxi Jincheng Anthracite Coal Mining Group\n",
       "488                                  Sears Holdings\n",
       "492                                  Telecom Italia\n",
       "Name: company, Length: 64, dtype: object"
      ]
     },
     "execution_count": 44,
     "metadata": {},
     "output_type": "execute_result"
    }
   ],
   "source": [
    "f500.loc[f500.iloc[:,6].isnull() , \"company\"]"
   ]
  },
  {
   "cell_type": "code",
   "execution_count": 45,
   "metadata": {},
   "outputs": [
    {
     "data": {
      "text/html": [
       "<div>\n",
       "<style scoped>\n",
       "    .dataframe tbody tr th:only-of-type {\n",
       "        vertical-align: middle;\n",
       "    }\n",
       "\n",
       "    .dataframe tbody tr th {\n",
       "        vertical-align: top;\n",
       "    }\n",
       "\n",
       "    .dataframe thead th {\n",
       "        text-align: right;\n",
       "    }\n",
       "</style>\n",
       "<table border=\"1\" class=\"dataframe\">\n",
       "  <thead>\n",
       "    <tr style=\"text-align: right;\">\n",
       "      <th></th>\n",
       "      <th>rank</th>\n",
       "      <th>previous_rank</th>\n",
       "      <th>company</th>\n",
       "    </tr>\n",
       "  </thead>\n",
       "  <tbody>\n",
       "    <tr>\n",
       "      <td>48</td>\n",
       "      <td>49</td>\n",
       "      <td>NaN</td>\n",
       "      <td>Legal &amp; General Group</td>\n",
       "    </tr>\n",
       "    <tr>\n",
       "      <td>90</td>\n",
       "      <td>91</td>\n",
       "      <td>NaN</td>\n",
       "      <td>Uniper</td>\n",
       "    </tr>\n",
       "    <tr>\n",
       "      <td>123</td>\n",
       "      <td>124</td>\n",
       "      <td>NaN</td>\n",
       "      <td>Dell Technologies</td>\n",
       "    </tr>\n",
       "    <tr>\n",
       "      <td>138</td>\n",
       "      <td>139</td>\n",
       "      <td>NaN</td>\n",
       "      <td>Anbang Insurance Group</td>\n",
       "    </tr>\n",
       "    <tr>\n",
       "      <td>140</td>\n",
       "      <td>141</td>\n",
       "      <td>NaN</td>\n",
       "      <td>Albertsons Cos.</td>\n",
       "    </tr>\n",
       "  </tbody>\n",
       "</table>\n",
       "</div>"
      ],
      "text/plain": [
       "     rank  previous_rank                 company\n",
       "48     49            NaN   Legal & General Group\n",
       "90     91            NaN                  Uniper\n",
       "123   124            NaN       Dell Technologies\n",
       "138   139            NaN  Anbang Insurance Group\n",
       "140   141            NaN         Albertsons Cos."
      ]
     },
     "execution_count": 45,
     "metadata": {},
     "output_type": "execute_result"
    }
   ],
   "source": [
    "prev_null = f500.loc[f500[\"previous_rank\"].isnull() ,[\"rank\" , \"previous_rank\" , \"company\"]].head()\n",
    "prev_null"
   ]
  },
  {
   "cell_type": "code",
   "execution_count": 46,
   "metadata": {},
   "outputs": [
    {
     "name": "stdout",
     "output_type": "stream",
     "text": [
      "rank                 91\n",
      "previous_rank       NaN\n",
      "company          Uniper\n",
      "Name: 90, dtype: object \n",
      "\n",
      "rank                 91\n",
      "previous_rank       NaN\n",
      "company          Uniper\n",
      "Name: 90, dtype: object\n"
     ]
    }
   ],
   "source": [
    "print(prev_null.loc[90] , \"\\n\")\n",
    "print(prev_null.iloc[1])"
   ]
  },
  {
   "cell_type": "code",
   "execution_count": 47,
   "metadata": {},
   "outputs": [
    {
     "data": {
      "text/plain": [
       "True     467\n",
       "False     33\n",
       "Name: previous_rank, dtype: int64"
      ]
     },
     "execution_count": 47,
     "metadata": {},
     "output_type": "execute_result"
    }
   ],
   "source": [
    "previously_ranked = f500[\"previous_rank\"].notnull()\n",
    "rank_change =  f500.loc[previously_ranked , \"previous_rank\"] - f500[\"rank\"]\n",
    "previously_ranked.value_counts()"
   ]
  },
  {
   "cell_type": "code",
   "execution_count": 48,
   "metadata": {},
   "outputs": [
    {
     "data": {
      "text/plain": [
       " NaN     33\n",
       "-1.0     14\n",
       "-4.0     13\n",
       "-2.0     12\n",
       " 8.0     12\n",
       "         ..\n",
       "-54.0     1\n",
       " 55.0     1\n",
       " 69.0     1\n",
       " 21.0     1\n",
       "-32.0     1\n",
       "Name: rank_change, Length: 153, dtype: int64"
      ]
     },
     "execution_count": 48,
     "metadata": {},
     "output_type": "execute_result"
    }
   ],
   "source": [
    "f500[\"rank_change\"] = rank_change\n",
    "f500[\"rank_change\"].value_counts(dropna = False)"
   ]
  },
  {
   "cell_type": "code",
   "execution_count": 49,
   "metadata": {},
   "outputs": [
    {
     "data": {
      "text/html": [
       "<div>\n",
       "<style scoped>\n",
       "    .dataframe tbody tr th:only-of-type {\n",
       "        vertical-align: middle;\n",
       "    }\n",
       "\n",
       "    .dataframe tbody tr th {\n",
       "        vertical-align: top;\n",
       "    }\n",
       "\n",
       "    .dataframe thead th {\n",
       "        text-align: right;\n",
       "    }\n",
       "</style>\n",
       "<table border=\"1\" class=\"dataframe\">\n",
       "  <thead>\n",
       "    <tr style=\"text-align: right;\">\n",
       "      <th></th>\n",
       "      <th>company</th>\n",
       "      <th>rank</th>\n",
       "      <th>revenues</th>\n",
       "      <th>revenue_change</th>\n",
       "      <th>profits</th>\n",
       "      <th>assets</th>\n",
       "      <th>profit_change</th>\n",
       "      <th>ceo</th>\n",
       "      <th>industry</th>\n",
       "      <th>sector</th>\n",
       "      <th>previous_rank</th>\n",
       "      <th>country</th>\n",
       "      <th>hq_location</th>\n",
       "      <th>website</th>\n",
       "      <th>years_on_global_500_list</th>\n",
       "      <th>employees</th>\n",
       "      <th>total_stockholder_equity</th>\n",
       "      <th>rank_change</th>\n",
       "    </tr>\n",
       "  </thead>\n",
       "  <tbody>\n",
       "    <tr>\n",
       "      <td>32</td>\n",
       "      <td>Japan Post Holdings</td>\n",
       "      <td>33</td>\n",
       "      <td>122990</td>\n",
       "      <td>3.6</td>\n",
       "      <td>-267.4</td>\n",
       "      <td>2631385</td>\n",
       "      <td>-107.5</td>\n",
       "      <td>Masatsugu Nagato</td>\n",
       "      <td>Insurance: Life, Health (stock)</td>\n",
       "      <td>Financials</td>\n",
       "      <td>37.0</td>\n",
       "      <td>Japan</td>\n",
       "      <td>Tokyo, Japan</td>\n",
       "      <td>http://www.japanpost.jp</td>\n",
       "      <td>21</td>\n",
       "      <td>248384</td>\n",
       "      <td>91532</td>\n",
       "      <td>4.0</td>\n",
       "    </tr>\n",
       "    <tr>\n",
       "      <td>44</td>\n",
       "      <td>Chevron</td>\n",
       "      <td>45</td>\n",
       "      <td>107567</td>\n",
       "      <td>-18.0</td>\n",
       "      <td>-497.0</td>\n",
       "      <td>260078</td>\n",
       "      <td>-110.8</td>\n",
       "      <td>John S. Watson</td>\n",
       "      <td>Petroleum Refining</td>\n",
       "      <td>Energy</td>\n",
       "      <td>31.0</td>\n",
       "      <td>USA</td>\n",
       "      <td>San Ramon, CA</td>\n",
       "      <td>http://www.chevron.com</td>\n",
       "      <td>23</td>\n",
       "      <td>55200</td>\n",
       "      <td>145556</td>\n",
       "      <td>-14.0</td>\n",
       "    </tr>\n",
       "  </tbody>\n",
       "</table>\n",
       "</div>"
      ],
      "text/plain": [
       "                company  rank  revenues  revenue_change  profits   assets  \\\n",
       "32  Japan Post Holdings    33    122990             3.6   -267.4  2631385   \n",
       "44              Chevron    45    107567           -18.0   -497.0   260078   \n",
       "\n",
       "    profit_change               ceo                         industry  \\\n",
       "32         -107.5  Masatsugu Nagato  Insurance: Life, Health (stock)   \n",
       "44         -110.8    John S. Watson               Petroleum Refining   \n",
       "\n",
       "        sector  previous_rank country    hq_location                  website  \\\n",
       "32  Financials           37.0   Japan   Tokyo, Japan  http://www.japanpost.jp   \n",
       "44      Energy           31.0     USA  San Ramon, CA   http://www.chevron.com   \n",
       "\n",
       "    years_on_global_500_list  employees  total_stockholder_equity  rank_change  \n",
       "32                        21     248384                     91532          4.0  \n",
       "44                        23      55200                    145556        -14.0  "
      ]
     },
     "execution_count": 49,
     "metadata": {},
     "output_type": "execute_result"
    }
   ],
   "source": [
    "# boolean operators and , or , not\n",
    "big_rev_neg_profit = f500[(f500[\"revenues\"] > 100000) & (f500[\"profits\"] < 0 ) ]\n",
    "big_rev_neg_profit"
   ]
  },
  {
   "cell_type": "code",
   "execution_count": 50,
   "metadata": {},
   "outputs": [
    {
     "name": "stdout",
     "output_type": "stream",
     "text": [
      "<class 'pandas.core.frame.DataFrame'>\n",
      "Int64Index: 34 entries, 74 to 488\n",
      "Data columns (total 18 columns):\n",
      "company                     34 non-null object\n",
      "rank                        34 non-null int64\n",
      "revenues                    34 non-null int64\n",
      "revenue_change              34 non-null float64\n",
      "profits                     34 non-null float64\n",
      "assets                      34 non-null int64\n",
      "profit_change               11 non-null float64\n",
      "ceo                         34 non-null object\n",
      "industry                    34 non-null object\n",
      "sector                      34 non-null object\n",
      "previous_rank               34 non-null float64\n",
      "country                     34 non-null object\n",
      "hq_location                 34 non-null object\n",
      "website                     34 non-null object\n",
      "years_on_global_500_list    34 non-null int64\n",
      "employees                   34 non-null int64\n",
      "total_stockholder_equity    34 non-null int64\n",
      "rank_change                 34 non-null float64\n",
      "dtypes: float64(5), int64(6), object(7)\n",
      "memory usage: 5.0+ KB\n"
     ]
    }
   ],
   "source": [
    "low_rev_neg_profit = f500[(f500[\"revenues\"] < 100000) & (f500[\"profits\"] < 0)]\n",
    "low_rev_neg_profit.loc[low_rev_neg_profit[\"rank_change\"].notnull()].info()"
   ]
  },
  {
   "cell_type": "code",
   "execution_count": 51,
   "metadata": {},
   "outputs": [],
   "source": [
    "jap_ven = f500[(f500[\"country\"] == \"Venezuela\") | (f500[\"country\"] == \"Japan\")]"
   ]
  },
  {
   "cell_type": "code",
   "execution_count": 52,
   "metadata": {},
   "outputs": [
    {
     "data": {
      "text/plain": [
       "14             Samsung Electronics\n",
       "26      Hon Hai Precision Industry\n",
       "70                         Hitachi\n",
       "82     Huawei Investment & Holding\n",
       "104                           Sony\n",
       "Name: company, dtype: object"
      ]
     },
     "execution_count": 52,
     "metadata": {},
     "output_type": "execute_result"
    }
   ],
   "source": [
    "tech_outside_usa = f500.loc[(f500[\"country\"] != \"USA\") & (f500[\"sector\"] == \"Technology\") , \"company\"].head()\n",
    "tech_outside_usa"
   ]
  },
  {
   "cell_type": "code",
   "execution_count": 53,
   "metadata": {},
   "outputs": [
    {
     "data": {
      "text/plain": [
       "82     Huawei Investment & Holding\n",
       "182       Amer International Group\n",
       "225                   Lenovo Group\n",
       "260                         JD.com\n",
       "361              China Electronics\n",
       "449                    Midea Group\n",
       "461          Alibaba Group Holding\n",
       "477               Tencent Holdings\n",
       "Name: company, dtype: object"
      ]
     },
     "execution_count": 53,
     "metadata": {},
     "output_type": "execute_result"
    }
   ],
   "source": [
    "tech_inside_china = f500.loc[(f500[\"sector\"] == \"Technology\") &(f500[\"country\"] == \"China\") , \"company\"]\n",
    "tech_inside_china"
   ]
  },
  {
   "cell_type": "code",
   "execution_count": 54,
   "metadata": {},
   "outputs": [
    {
     "data": {
      "text/html": [
       "<div>\n",
       "<style scoped>\n",
       "    .dataframe tbody tr th:only-of-type {\n",
       "        vertical-align: middle;\n",
       "    }\n",
       "\n",
       "    .dataframe tbody tr th {\n",
       "        vertical-align: top;\n",
       "    }\n",
       "\n",
       "    .dataframe thead th {\n",
       "        text-align: right;\n",
       "    }\n",
       "</style>\n",
       "<table border=\"1\" class=\"dataframe\">\n",
       "  <thead>\n",
       "    <tr style=\"text-align: right;\">\n",
       "      <th></th>\n",
       "      <th>company</th>\n",
       "      <th>rank_change</th>\n",
       "    </tr>\n",
       "  </thead>\n",
       "  <tbody>\n",
       "    <tr>\n",
       "      <td>230</td>\n",
       "      <td>E.ON</td>\n",
       "      <td>-199.0</td>\n",
       "    </tr>\n",
       "    <tr>\n",
       "      <td>349</td>\n",
       "      <td>BHP Billiton</td>\n",
       "      <td>-182.0</td>\n",
       "    </tr>\n",
       "    <tr>\n",
       "      <td>193</td>\n",
       "      <td>HP</td>\n",
       "      <td>-146.0</td>\n",
       "    </tr>\n",
       "    <tr>\n",
       "      <td>429</td>\n",
       "      <td>Datong Coal Mine Group</td>\n",
       "      <td>-108.0</td>\n",
       "    </tr>\n",
       "    <tr>\n",
       "      <td>489</td>\n",
       "      <td>China General Technology</td>\n",
       "      <td>-107.0</td>\n",
       "    </tr>\n",
       "  </tbody>\n",
       "</table>\n",
       "</div>"
      ],
      "text/plain": [
       "                      company  rank_change\n",
       "230                      E.ON       -199.0\n",
       "349              BHP Billiton       -182.0\n",
       "193                        HP       -146.0\n",
       "429    Datong Coal Mine Group       -108.0\n",
       "489  China General Technology       -107.0"
      ]
     },
     "execution_count": 54,
     "metadata": {},
     "output_type": "execute_result"
    }
   ],
   "source": [
    "f500[[\"company\" , \"rank_change\"]].sort_values(\"rank_change\").head()"
   ]
  },
  {
   "cell_type": "code",
   "execution_count": 55,
   "metadata": {},
   "outputs": [
    {
     "data": {
      "text/html": [
       "<div>\n",
       "<style scoped>\n",
       "    .dataframe tbody tr th:only-of-type {\n",
       "        vertical-align: middle;\n",
       "    }\n",
       "\n",
       "    .dataframe tbody tr th {\n",
       "        vertical-align: top;\n",
       "    }\n",
       "\n",
       "    .dataframe thead th {\n",
       "        text-align: right;\n",
       "    }\n",
       "</style>\n",
       "<table border=\"1\" class=\"dataframe\">\n",
       "  <thead>\n",
       "    <tr style=\"text-align: right;\">\n",
       "      <th></th>\n",
       "      <th>company</th>\n",
       "      <th>revenues</th>\n",
       "      <th>country</th>\n",
       "    </tr>\n",
       "  </thead>\n",
       "  <tbody>\n",
       "    <tr>\n",
       "      <td>197</td>\n",
       "      <td>Wesfarmers</td>\n",
       "      <td>48003</td>\n",
       "      <td>Australia</td>\n",
       "    </tr>\n",
       "    <tr>\n",
       "      <td>390</td>\n",
       "      <td>Westpac Banking</td>\n",
       "      <td>27704</td>\n",
       "      <td>Australia</td>\n",
       "    </tr>\n",
       "    <tr>\n",
       "      <td>404</td>\n",
       "      <td>National Australia Bank</td>\n",
       "      <td>26958</td>\n",
       "      <td>Australia</td>\n",
       "    </tr>\n",
       "    <tr>\n",
       "      <td>349</td>\n",
       "      <td>BHP Billiton</td>\n",
       "      <td>30912</td>\n",
       "      <td>Australia</td>\n",
       "    </tr>\n",
       "    <tr>\n",
       "      <td>417</td>\n",
       "      <td>Australia &amp; New Zealand Banking Group</td>\n",
       "      <td>26032</td>\n",
       "      <td>Australia</td>\n",
       "    </tr>\n",
       "    <tr>\n",
       "      <td>...</td>\n",
       "      <td>...</td>\n",
       "      <td>...</td>\n",
       "      <td>...</td>\n",
       "    </tr>\n",
       "    <tr>\n",
       "      <td>257</td>\n",
       "      <td>Best Buy</td>\n",
       "      <td>39403</td>\n",
       "      <td>USA</td>\n",
       "    </tr>\n",
       "    <tr>\n",
       "      <td>259</td>\n",
       "      <td>Honeywell International</td>\n",
       "      <td>39302</td>\n",
       "      <td>USA</td>\n",
       "    </tr>\n",
       "    <tr>\n",
       "      <td>228</td>\n",
       "      <td>Bunge</td>\n",
       "      <td>42679</td>\n",
       "      <td>USA</td>\n",
       "    </tr>\n",
       "    <tr>\n",
       "      <td>499</td>\n",
       "      <td>AutoNation</td>\n",
       "      <td>21609</td>\n",
       "      <td>USA</td>\n",
       "    </tr>\n",
       "    <tr>\n",
       "      <td>441</td>\n",
       "      <td>Mercantil Servicios Financieros</td>\n",
       "      <td>24403</td>\n",
       "      <td>Venezuela</td>\n",
       "    </tr>\n",
       "  </tbody>\n",
       "</table>\n",
       "<p>500 rows × 3 columns</p>\n",
       "</div>"
      ],
      "text/plain": [
       "                                   company  revenues    country\n",
       "197                             Wesfarmers     48003  Australia\n",
       "390                        Westpac Banking     27704  Australia\n",
       "404                National Australia Bank     26958  Australia\n",
       "349                           BHP Billiton     30912  Australia\n",
       "417  Australia & New Zealand Banking Group     26032  Australia\n",
       "..                                     ...       ...        ...\n",
       "257                               Best Buy     39403        USA\n",
       "259                Honeywell International     39302        USA\n",
       "228                                  Bunge     42679        USA\n",
       "499                             AutoNation     21609        USA\n",
       "441        Mercantil Servicios Financieros     24403  Venezuela\n",
       "\n",
       "[500 rows x 3 columns]"
      ]
     },
     "execution_count": 55,
     "metadata": {},
     "output_type": "execute_result"
    }
   ],
   "source": [
    "f500[[\"company\" , \"revenues\", \"country\"]].sort_values(\"country\" )"
   ]
  },
  {
   "cell_type": "code",
   "execution_count": 56,
   "metadata": {},
   "outputs": [
    {
     "data": {
      "text/html": [
       "<div>\n",
       "<style scoped>\n",
       "    .dataframe tbody tr th:only-of-type {\n",
       "        vertical-align: middle;\n",
       "    }\n",
       "\n",
       "    .dataframe tbody tr th {\n",
       "        vertical-align: top;\n",
       "    }\n",
       "\n",
       "    .dataframe thead th {\n",
       "        text-align: right;\n",
       "    }\n",
       "</style>\n",
       "<table border=\"1\" class=\"dataframe\">\n",
       "  <thead>\n",
       "    <tr style=\"text-align: right;\">\n",
       "      <th></th>\n",
       "      <th>company</th>\n",
       "      <th>employees</th>\n",
       "    </tr>\n",
       "  </thead>\n",
       "  <tbody>\n",
       "    <tr>\n",
       "      <td>3</td>\n",
       "      <td>China National Petroleum</td>\n",
       "      <td>1512048</td>\n",
       "    </tr>\n",
       "    <tr>\n",
       "      <td>118</td>\n",
       "      <td>China Post Group</td>\n",
       "      <td>941211</td>\n",
       "    </tr>\n",
       "    <tr>\n",
       "      <td>1</td>\n",
       "      <td>State Grid</td>\n",
       "      <td>926067</td>\n",
       "    </tr>\n",
       "    <tr>\n",
       "      <td>2</td>\n",
       "      <td>Sinopec Group</td>\n",
       "      <td>713288</td>\n",
       "    </tr>\n",
       "    <tr>\n",
       "      <td>37</td>\n",
       "      <td>Agricultural Bank of China</td>\n",
       "      <td>501368</td>\n",
       "    </tr>\n",
       "    <tr>\n",
       "      <td>...</td>\n",
       "      <td>...</td>\n",
       "      <td>...</td>\n",
       "    </tr>\n",
       "    <tr>\n",
       "      <td>182</td>\n",
       "      <td>Amer International Group</td>\n",
       "      <td>17852</td>\n",
       "    </tr>\n",
       "    <tr>\n",
       "      <td>128</td>\n",
       "      <td>Tewoo Group</td>\n",
       "      <td>17353</td>\n",
       "    </tr>\n",
       "    <tr>\n",
       "      <td>438</td>\n",
       "      <td>China National Aviation Fuel Group</td>\n",
       "      <td>11739</td>\n",
       "    </tr>\n",
       "    <tr>\n",
       "      <td>458</td>\n",
       "      <td>Yango Financial Holding</td>\n",
       "      <td>10234</td>\n",
       "    </tr>\n",
       "    <tr>\n",
       "      <td>204</td>\n",
       "      <td>Noble Group</td>\n",
       "      <td>1000</td>\n",
       "    </tr>\n",
       "  </tbody>\n",
       "</table>\n",
       "<p>109 rows × 2 columns</p>\n",
       "</div>"
      ],
      "text/plain": [
       "                                company  employees\n",
       "3              China National Petroleum    1512048\n",
       "118                    China Post Group     941211\n",
       "1                            State Grid     926067\n",
       "2                         Sinopec Group     713288\n",
       "37           Agricultural Bank of China     501368\n",
       "..                                  ...        ...\n",
       "182            Amer International Group      17852\n",
       "128                         Tewoo Group      17353\n",
       "438  China National Aviation Fuel Group      11739\n",
       "458             Yango Financial Holding      10234\n",
       "204                         Noble Group       1000\n",
       "\n",
       "[109 rows x 2 columns]"
      ]
     },
     "execution_count": 56,
     "metadata": {},
     "output_type": "execute_result"
    }
   ],
   "source": [
    "selected_rows = f500[f500[\"country\"] == \"China\"]\n",
    "selected_rows.sort_values(\"employees\" , ascending = False)[[\"company\" , \"employees\"]]"
   ]
  },
  {
   "cell_type": "code",
   "execution_count": 57,
   "metadata": {},
   "outputs": [
    {
     "data": {
      "text/plain": [
       "company      Toyota Motor\n",
       "country             Japan\n",
       "employees          364445\n",
       "Name: 4, dtype: object"
      ]
     },
     "execution_count": 57,
     "metadata": {},
     "output_type": "execute_result"
    }
   ],
   "source": [
    "japan_emp = f500.loc[f500[\"country\"] == \"Japan\" , [\"company\" , \"country\" , \"employees\"]].sort_values(by = \"employees\")\n",
    "#company headquartered in Japan with the largest number of employees.\n",
    "top_japanese_employer = japan_emp.tail().loc[4]\n",
    "top_japanese_employer"
   ]
  },
  {
   "cell_type": "code",
   "execution_count": 58,
   "metadata": {},
   "outputs": [
    {
     "data": {
      "text/html": [
       "<div>\n",
       "<style scoped>\n",
       "    .dataframe tbody tr th:only-of-type {\n",
       "        vertical-align: middle;\n",
       "    }\n",
       "\n",
       "    .dataframe tbody tr th {\n",
       "        vertical-align: top;\n",
       "    }\n",
       "\n",
       "    .dataframe thead th {\n",
       "        text-align: right;\n",
       "    }\n",
       "</style>\n",
       "<table border=\"1\" class=\"dataframe\">\n",
       "  <thead>\n",
       "    <tr style=\"text-align: right;\">\n",
       "      <th></th>\n",
       "      <th>company</th>\n",
       "      <th>country</th>\n",
       "      <th>rank</th>\n",
       "      <th>rank_change</th>\n",
       "    </tr>\n",
       "  </thead>\n",
       "  <tbody>\n",
       "    <tr>\n",
       "      <td>0</td>\n",
       "      <td>Walmart</td>\n",
       "      <td>USA</td>\n",
       "      <td>1</td>\n",
       "      <td>0.0</td>\n",
       "    </tr>\n",
       "    <tr>\n",
       "      <td>1</td>\n",
       "      <td>State Grid</td>\n",
       "      <td>China</td>\n",
       "      <td>2</td>\n",
       "      <td>0.0</td>\n",
       "    </tr>\n",
       "    <tr>\n",
       "      <td>2</td>\n",
       "      <td>Sinopec Group</td>\n",
       "      <td>China</td>\n",
       "      <td>3</td>\n",
       "      <td>1.0</td>\n",
       "    </tr>\n",
       "    <tr>\n",
       "      <td>3</td>\n",
       "      <td>China National Petroleum</td>\n",
       "      <td>China</td>\n",
       "      <td>4</td>\n",
       "      <td>-1.0</td>\n",
       "    </tr>\n",
       "    <tr>\n",
       "      <td>4</td>\n",
       "      <td>Toyota Motor</td>\n",
       "      <td>Japan</td>\n",
       "      <td>5</td>\n",
       "      <td>3.0</td>\n",
       "    </tr>\n",
       "    <tr>\n",
       "      <td>...</td>\n",
       "      <td>...</td>\n",
       "      <td>...</td>\n",
       "      <td>...</td>\n",
       "      <td>...</td>\n",
       "    </tr>\n",
       "    <tr>\n",
       "      <td>495</td>\n",
       "      <td>Teva Pharmaceutical Industries</td>\n",
       "      <td>Israel</td>\n",
       "      <td>496</td>\n",
       "      <td>NaN</td>\n",
       "    </tr>\n",
       "    <tr>\n",
       "      <td>496</td>\n",
       "      <td>New China Life Insurance</td>\n",
       "      <td>China</td>\n",
       "      <td>497</td>\n",
       "      <td>-70.0</td>\n",
       "    </tr>\n",
       "    <tr>\n",
       "      <td>497</td>\n",
       "      <td>Wm. Morrison Supermarkets</td>\n",
       "      <td>Britain</td>\n",
       "      <td>498</td>\n",
       "      <td>-61.0</td>\n",
       "    </tr>\n",
       "    <tr>\n",
       "      <td>498</td>\n",
       "      <td>TUI</td>\n",
       "      <td>Germany</td>\n",
       "      <td>499</td>\n",
       "      <td>-32.0</td>\n",
       "    </tr>\n",
       "    <tr>\n",
       "      <td>499</td>\n",
       "      <td>AutoNation</td>\n",
       "      <td>USA</td>\n",
       "      <td>500</td>\n",
       "      <td>NaN</td>\n",
       "    </tr>\n",
       "  </tbody>\n",
       "</table>\n",
       "<p>500 rows × 4 columns</p>\n",
       "</div>"
      ],
      "text/plain": [
       "                            company  country  rank  rank_change\n",
       "0                           Walmart      USA     1          0.0\n",
       "1                        State Grid    China     2          0.0\n",
       "2                     Sinopec Group    China     3          1.0\n",
       "3          China National Petroleum    China     4         -1.0\n",
       "4                      Toyota Motor    Japan     5          3.0\n",
       "..                              ...      ...   ...          ...\n",
       "495  Teva Pharmaceutical Industries   Israel   496          NaN\n",
       "496        New China Life Insurance    China   497        -70.0\n",
       "497       Wm. Morrison Supermarkets  Britain   498        -61.0\n",
       "498                             TUI  Germany   499        -32.0\n",
       "499                      AutoNation      USA   500          NaN\n",
       "\n",
       "[500 rows x 4 columns]"
      ]
     },
     "execution_count": 58,
     "metadata": {},
     "output_type": "execute_result"
    }
   ],
   "source": [
    "f500[[\"company\" , \"country\" , \"rank\" , \"rank_change\"]].sort_values(by = \"rank\" )"
   ]
  },
  {
   "cell_type": "code",
   "execution_count": 59,
   "metadata": {},
   "outputs": [
    {
     "data": {
      "text/plain": [
       "{'USA': 'Walmart',\n",
       " 'China': 'China National Petroleum',\n",
       " 'Japan': 'Toyota Motor',\n",
       " 'Germany': 'Volkswagen',\n",
       " 'Netherlands': 'EXOR Group',\n",
       " 'Britain': 'Compass Group',\n",
       " 'South Korea': 'Samsung Electronics',\n",
       " 'Switzerland': 'Nestle',\n",
       " 'France': 'Sodexo',\n",
       " 'Taiwan': 'Hon Hai Precision Industry',\n",
       " 'Singapore': 'Flex',\n",
       " 'Italy': 'Poste Italiane',\n",
       " 'Russia': 'Gazprom',\n",
       " 'Spain': 'Banco Santander',\n",
       " 'Brazil': 'JBS',\n",
       " 'Mexico': 'America Movil',\n",
       " 'Luxembourg': 'ArcelorMittal',\n",
       " 'India': 'State Bank of India',\n",
       " 'Malaysia': 'Petronas',\n",
       " 'Thailand': 'PTT',\n",
       " 'Australia': 'Wesfarmers',\n",
       " 'Belgium': 'Anheuser-Busch InBev',\n",
       " 'Norway': 'Statoil',\n",
       " 'Canada': 'George Weston',\n",
       " 'Ireland': 'Accenture',\n",
       " 'Indonesia': 'Pertamina',\n",
       " 'Denmark': 'Maersk Group',\n",
       " 'Saudi Arabia': 'SABIC',\n",
       " 'Sweden': 'H & M Hennes & Mauritz',\n",
       " 'Finland': 'Nokia',\n",
       " 'Venezuela': 'Mercantil Servicios Financieros',\n",
       " 'Turkey': 'Koc Holding',\n",
       " 'U.A.E': 'Emirates Group',\n",
       " 'Israel': 'Teva Pharmaceutical Industries'}"
      ]
     },
     "execution_count": 59,
     "metadata": {},
     "output_type": "execute_result"
    }
   ],
   "source": [
    "# using loops with pandas Aggregation\n",
    "dic = {}\n",
    "for c in f500[\"country\"].unique():\n",
    "    selected_rows = f500[f500[\"country\"] == c]\n",
    "    sorted_rows = selected_rows.sort_values(by = \"employees\" , ascending = False)\n",
    "    first_row = sorted_rows.iloc[0]\n",
    "    company = first_row[\"company\"]\n",
    "    dic[c] = company\n",
    "    \n",
    "dic"
   ]
  },
  {
   "cell_type": "code",
   "execution_count": 60,
   "metadata": {},
   "outputs": [
    {
     "data": {
      "text/plain": [
       "{'Retailing': 'H & M Hennes & Mauritz',\n",
       " 'Energy': 'National Grid',\n",
       " 'Motor Vehicles & Parts': 'Subaru',\n",
       " 'Financials': 'Berkshire Hathaway',\n",
       " 'Technology': 'Accenture',\n",
       " 'Wholesalers': 'McKesson',\n",
       " 'Health Care': 'Gilead Sciences',\n",
       " 'Telecommunications': 'KDDI',\n",
       " 'Engineering & Construction': 'Pacific Construction Group',\n",
       " 'Industrials': '3M',\n",
       " 'Food & Drug Stores': 'Publix Super Markets',\n",
       " 'Aerospace & Defense': 'Lockheed Martin',\n",
       " 'Food, Beverages & Tobacco': 'Philip Morris International',\n",
       " 'Household Products': 'Unilever',\n",
       " 'Transportation': 'Delta Air Lines',\n",
       " 'Materials': 'CRH',\n",
       " 'Chemicals': 'LyondellBasell Industries',\n",
       " 'Media': 'Disney',\n",
       " 'Apparel': 'Nike',\n",
       " 'Hotels, Restaurants & Leisure': 'McDonald’s',\n",
       " 'Business Services': 'Adecco Group'}"
      ]
     },
     "execution_count": 60,
     "metadata": {},
     "output_type": "execute_result"
    }
   ],
   "source": [
    "f500[\"roa\"] = f500[\"profits\"] / f500[\"assets\"]\n",
    "top_roa_by_sector = {}\n",
    "\n",
    "for s in f500[\"sector\"].unique():\n",
    "    selected_rows = f500[f500[\"sector\"] == s].sort_values(by = \"roa\" , ascending = False)\n",
    "    first_row = selected_rows.iloc[0]\n",
    "    comp = first_row[\"company\"]\n",
    "    top_roa_by_sector[s] = comp\n",
    "    \n",
    "top_roa_by_sector"
   ]
  },
  {
   "cell_type": "markdown",
   "metadata": {},
   "source": [
    "## mission 6 data cleaning basics"
   ]
  },
  {
   "cell_type": "code",
   "execution_count": 61,
   "metadata": {},
   "outputs": [
    {
     "data": {
      "text/html": [
       "<div>\n",
       "<style scoped>\n",
       "    .dataframe tbody tr th:only-of-type {\n",
       "        vertical-align: middle;\n",
       "    }\n",
       "\n",
       "    .dataframe tbody tr th {\n",
       "        vertical-align: top;\n",
       "    }\n",
       "\n",
       "    .dataframe thead th {\n",
       "        text-align: right;\n",
       "    }\n",
       "</style>\n",
       "<table border=\"1\" class=\"dataframe\">\n",
       "  <thead>\n",
       "    <tr style=\"text-align: right;\">\n",
       "      <th></th>\n",
       "      <th>Manufacturer</th>\n",
       "      <th>Model Name</th>\n",
       "      <th>Category</th>\n",
       "      <th>Screen Size</th>\n",
       "      <th>Screen</th>\n",
       "      <th>CPU</th>\n",
       "      <th>RAM</th>\n",
       "      <th>Storage</th>\n",
       "      <th>GPU</th>\n",
       "      <th>Operating System</th>\n",
       "      <th>Operating System Version</th>\n",
       "      <th>Weight</th>\n",
       "      <th>Price (Euros)</th>\n",
       "    </tr>\n",
       "  </thead>\n",
       "  <tbody>\n",
       "    <tr>\n",
       "      <td>0</td>\n",
       "      <td>Apple</td>\n",
       "      <td>MacBook Pro</td>\n",
       "      <td>Ultrabook</td>\n",
       "      <td>13.3\"</td>\n",
       "      <td>IPS Panel Retina Display 2560x1600</td>\n",
       "      <td>Intel Core i5 2.3GHz</td>\n",
       "      <td>8GB</td>\n",
       "      <td>128GB SSD</td>\n",
       "      <td>Intel Iris Plus Graphics 640</td>\n",
       "      <td>macOS</td>\n",
       "      <td>NaN</td>\n",
       "      <td>1.37kg</td>\n",
       "      <td>1339,69</td>\n",
       "    </tr>\n",
       "    <tr>\n",
       "      <td>1</td>\n",
       "      <td>Apple</td>\n",
       "      <td>Macbook Air</td>\n",
       "      <td>Ultrabook</td>\n",
       "      <td>13.3\"</td>\n",
       "      <td>1440x900</td>\n",
       "      <td>Intel Core i5 1.8GHz</td>\n",
       "      <td>8GB</td>\n",
       "      <td>128GB Flash Storage</td>\n",
       "      <td>Intel HD Graphics 6000</td>\n",
       "      <td>macOS</td>\n",
       "      <td>NaN</td>\n",
       "      <td>1.34kg</td>\n",
       "      <td>898,94</td>\n",
       "    </tr>\n",
       "    <tr>\n",
       "      <td>2</td>\n",
       "      <td>HP</td>\n",
       "      <td>250 G6</td>\n",
       "      <td>Notebook</td>\n",
       "      <td>15.6\"</td>\n",
       "      <td>Full HD 1920x1080</td>\n",
       "      <td>Intel Core i5 7200U 2.5GHz</td>\n",
       "      <td>8GB</td>\n",
       "      <td>256GB SSD</td>\n",
       "      <td>Intel HD Graphics 620</td>\n",
       "      <td>No OS</td>\n",
       "      <td>NaN</td>\n",
       "      <td>1.86kg</td>\n",
       "      <td>575,00</td>\n",
       "    </tr>\n",
       "    <tr>\n",
       "      <td>3</td>\n",
       "      <td>Apple</td>\n",
       "      <td>MacBook Pro</td>\n",
       "      <td>Ultrabook</td>\n",
       "      <td>15.4\"</td>\n",
       "      <td>IPS Panel Retina Display 2880x1800</td>\n",
       "      <td>Intel Core i7 2.7GHz</td>\n",
       "      <td>16GB</td>\n",
       "      <td>512GB SSD</td>\n",
       "      <td>AMD Radeon Pro 455</td>\n",
       "      <td>macOS</td>\n",
       "      <td>NaN</td>\n",
       "      <td>1.83kg</td>\n",
       "      <td>2537,45</td>\n",
       "    </tr>\n",
       "    <tr>\n",
       "      <td>4</td>\n",
       "      <td>Apple</td>\n",
       "      <td>MacBook Pro</td>\n",
       "      <td>Ultrabook</td>\n",
       "      <td>13.3\"</td>\n",
       "      <td>IPS Panel Retina Display 2560x1600</td>\n",
       "      <td>Intel Core i5 3.1GHz</td>\n",
       "      <td>8GB</td>\n",
       "      <td>256GB SSD</td>\n",
       "      <td>Intel Iris Plus Graphics 650</td>\n",
       "      <td>macOS</td>\n",
       "      <td>NaN</td>\n",
       "      <td>1.37kg</td>\n",
       "      <td>1803,60</td>\n",
       "    </tr>\n",
       "  </tbody>\n",
       "</table>\n",
       "</div>"
      ],
      "text/plain": [
       "  Manufacturer   Model Name   Category Screen Size  \\\n",
       "0        Apple  MacBook Pro  Ultrabook       13.3\"   \n",
       "1        Apple  Macbook Air  Ultrabook       13.3\"   \n",
       "2           HP       250 G6   Notebook       15.6\"   \n",
       "3        Apple  MacBook Pro  Ultrabook       15.4\"   \n",
       "4        Apple  MacBook Pro  Ultrabook       13.3\"   \n",
       "\n",
       "                               Screen                         CPU   RAM  \\\n",
       "0  IPS Panel Retina Display 2560x1600        Intel Core i5 2.3GHz   8GB   \n",
       "1                            1440x900        Intel Core i5 1.8GHz   8GB   \n",
       "2                   Full HD 1920x1080  Intel Core i5 7200U 2.5GHz   8GB   \n",
       "3  IPS Panel Retina Display 2880x1800        Intel Core i7 2.7GHz  16GB   \n",
       "4  IPS Panel Retina Display 2560x1600        Intel Core i5 3.1GHz   8GB   \n",
       "\n",
       "               Storage                           GPU Operating System  \\\n",
       "0            128GB SSD  Intel Iris Plus Graphics 640            macOS   \n",
       "1  128GB Flash Storage        Intel HD Graphics 6000            macOS   \n",
       "2            256GB SSD         Intel HD Graphics 620            No OS   \n",
       "3            512GB SSD            AMD Radeon Pro 455            macOS   \n",
       "4            256GB SSD  Intel Iris Plus Graphics 650            macOS   \n",
       "\n",
       "  Operating System Version  Weight Price (Euros)  \n",
       "0                      NaN  1.37kg       1339,69  \n",
       "1                      NaN  1.34kg        898,94  \n",
       "2                      NaN  1.86kg        575,00  \n",
       "3                      NaN  1.83kg       2537,45  \n",
       "4                      NaN  1.37kg       1803,60  "
      ]
     },
     "execution_count": 61,
     "metadata": {},
     "output_type": "execute_result"
    }
   ],
   "source": [
    "laptops = pd.read_csv(\"laptops.csv\" , encoding = \"Latin-1\")\n",
    "laptops.head()"
   ]
  },
  {
   "cell_type": "code",
   "execution_count": 62,
   "metadata": {},
   "outputs": [
    {
     "name": "stdout",
     "output_type": "stream",
     "text": [
      "<class 'pandas.core.frame.DataFrame'>\n",
      "RangeIndex: 1303 entries, 0 to 1302\n",
      "Data columns (total 13 columns):\n",
      "Manufacturer                1303 non-null object\n",
      "Model Name                  1303 non-null object\n",
      "Category                    1303 non-null object\n",
      "Screen Size                 1303 non-null object\n",
      "Screen                      1303 non-null object\n",
      "CPU                         1303 non-null object\n",
      "RAM                         1303 non-null object\n",
      " Storage                    1303 non-null object\n",
      "GPU                         1303 non-null object\n",
      "Operating System            1303 non-null object\n",
      "Operating System Version    1133 non-null object\n",
      "Weight                      1303 non-null object\n",
      "Price (Euros)               1303 non-null object\n",
      "dtypes: object(13)\n",
      "memory usage: 132.5+ KB\n"
     ]
    }
   ],
   "source": [
    "laptops.info()"
   ]
  },
  {
   "cell_type": "code",
   "execution_count": 63,
   "metadata": {},
   "outputs": [
    {
     "data": {
      "text/plain": [
       "False    1133\n",
       "True      170\n",
       "Name: Operating System Version, dtype: int64"
      ]
     },
     "execution_count": 63,
     "metadata": {},
     "output_type": "execute_result"
    }
   ],
   "source": [
    "laptops[\"Operating System Version\"].isnull().value_counts()"
   ]
  },
  {
   "cell_type": "code",
   "execution_count": 64,
   "metadata": {},
   "outputs": [
    {
     "name": "stdout",
     "output_type": "stream",
     "text": [
      "Index(['Manufacturer', 'Model Name', 'Category', 'Screen Size', 'Screen',\n",
      "       'CPU', 'RAM', ' Storage', 'GPU', 'Operating System',\n",
      "       'Operating System Version', 'Weight', 'Price (Euros)'],\n",
      "      dtype='object')\n"
     ]
    }
   ],
   "source": [
    "print(laptops.columns)"
   ]
  },
  {
   "cell_type": "code",
   "execution_count": 65,
   "metadata": {},
   "outputs": [
    {
     "data": {
      "text/html": [
       "<div>\n",
       "<style scoped>\n",
       "    .dataframe tbody tr th:only-of-type {\n",
       "        vertical-align: middle;\n",
       "    }\n",
       "\n",
       "    .dataframe tbody tr th {\n",
       "        vertical-align: top;\n",
       "    }\n",
       "\n",
       "    .dataframe thead th {\n",
       "        text-align: right;\n",
       "    }\n",
       "</style>\n",
       "<table border=\"1\" class=\"dataframe\">\n",
       "  <thead>\n",
       "    <tr style=\"text-align: right;\">\n",
       "      <th></th>\n",
       "      <th>manufacturer</th>\n",
       "      <th>model_name</th>\n",
       "      <th>category</th>\n",
       "      <th>screen_size</th>\n",
       "      <th>screen</th>\n",
       "      <th>cpu</th>\n",
       "      <th>ram</th>\n",
       "      <th>storage</th>\n",
       "      <th>gpu</th>\n",
       "      <th>operating_system</th>\n",
       "      <th>os</th>\n",
       "      <th>weight</th>\n",
       "      <th>price_euros</th>\n",
       "    </tr>\n",
       "  </thead>\n",
       "  <tbody>\n",
       "    <tr>\n",
       "      <td>0</td>\n",
       "      <td>Apple</td>\n",
       "      <td>MacBook Pro</td>\n",
       "      <td>Ultrabook</td>\n",
       "      <td>13.3\"</td>\n",
       "      <td>IPS Panel Retina Display 2560x1600</td>\n",
       "      <td>Intel Core i5 2.3GHz</td>\n",
       "      <td>8GB</td>\n",
       "      <td>128GB SSD</td>\n",
       "      <td>Intel Iris Plus Graphics 640</td>\n",
       "      <td>macOS</td>\n",
       "      <td>NaN</td>\n",
       "      <td>1.37kg</td>\n",
       "      <td>1339,69</td>\n",
       "    </tr>\n",
       "    <tr>\n",
       "      <td>1</td>\n",
       "      <td>Apple</td>\n",
       "      <td>Macbook Air</td>\n",
       "      <td>Ultrabook</td>\n",
       "      <td>13.3\"</td>\n",
       "      <td>1440x900</td>\n",
       "      <td>Intel Core i5 1.8GHz</td>\n",
       "      <td>8GB</td>\n",
       "      <td>128GB Flash Storage</td>\n",
       "      <td>Intel HD Graphics 6000</td>\n",
       "      <td>macOS</td>\n",
       "      <td>NaN</td>\n",
       "      <td>1.34kg</td>\n",
       "      <td>898,94</td>\n",
       "    </tr>\n",
       "  </tbody>\n",
       "</table>\n",
       "</div>"
      ],
      "text/plain": [
       "  manufacturer   model_name   category screen_size  \\\n",
       "0        Apple  MacBook Pro  Ultrabook       13.3\"   \n",
       "1        Apple  Macbook Air  Ultrabook       13.3\"   \n",
       "\n",
       "                               screen                   cpu  ram  \\\n",
       "0  IPS Panel Retina Display 2560x1600  Intel Core i5 2.3GHz  8GB   \n",
       "1                            1440x900  Intel Core i5 1.8GHz  8GB   \n",
       "\n",
       "               storage                           gpu operating_system   os  \\\n",
       "0            128GB SSD  Intel Iris Plus Graphics 640            macOS  NaN   \n",
       "1  128GB Flash Storage        Intel HD Graphics 6000            macOS  NaN   \n",
       "\n",
       "   weight price_euros  \n",
       "0  1.37kg     1339,69  \n",
       "1  1.34kg      898,94  "
      ]
     },
     "execution_count": 65,
     "metadata": {},
     "output_type": "execute_result"
    }
   ],
   "source": [
    "columns = []\n",
    "\n",
    "def clean_column(c):\n",
    "    c = c.strip()\n",
    "    c = c.replace(\"Operating System Version\" , \"os\")\n",
    "    c = c.lower()\n",
    "    c = c.replace(\"(\" , \"\")\n",
    "    c = c.replace(\")\" , \"\")\n",
    "    c = c.replace(\" \" , \"_\")\n",
    "    return c\n",
    "    \n",
    "for col in laptops.columns:\n",
    "    col = clean_column(col)\n",
    "    columns.append(col)\n",
    "    \n",
    "laptops.columns = columns\n",
    "laptops.head(2)"
   ]
  },
  {
   "cell_type": "code",
   "execution_count": 66,
   "metadata": {},
   "outputs": [
    {
     "data": {
      "text/plain": [
       "manufacturer        object\n",
       "model_name          object\n",
       "category            object\n",
       "screen_size         object\n",
       "screen              object\n",
       "cpu                 object\n",
       "ram                 object\n",
       "storage             object\n",
       "gpu                 object\n",
       "operating_system    object\n",
       "os                  object\n",
       "weight              object\n",
       "price_euros         object\n",
       "dtype: object"
      ]
     },
     "execution_count": 66,
     "metadata": {},
     "output_type": "execute_result"
    }
   ],
   "source": [
    "#all columns are object dtype\n",
    "laptops.dtypes"
   ]
  },
  {
   "cell_type": "code",
   "execution_count": 67,
   "metadata": {},
   "outputs": [
    {
     "name": "stdout",
     "output_type": "stream",
     "text": [
      "    category screen_size                              screen\n",
      "0  Ultrabook       13.3\"  IPS Panel Retina Display 2560x1600\n",
      "1  Ultrabook       13.3\"                            1440x900\n",
      "2   Notebook       15.6\"                   Full HD 1920x1080\n",
      "3  Ultrabook       15.4\"  IPS Panel Retina Display 2880x1800\n",
      "4  Ultrabook       13.3\"  IPS Panel Retina Display 2560x1600\n"
     ]
    }
   ],
   "source": [
    "print(laptops.iloc[0:5 , 2:5])"
   ]
  },
  {
   "cell_type": "code",
   "execution_count": 68,
   "metadata": {},
   "outputs": [
    {
     "name": "stdout",
     "output_type": "stream",
     "text": [
      "object\n",
      "['13.3\"' '15.6\"' '15.4\"' '14.0\"' '12.0\"' '11.6\"' '17.3\"' '10.1\"' '13.5\"'\n",
      " '12.5\"' '13.0\"' '18.4\"' '13.9\"' '12.3\"' '17.0\"' '15.0\"' '14.1\"' '11.3\"']\n"
     ]
    }
   ],
   "source": [
    "#exploring a cplumn for cleaning\n",
    "print(laptops[\"screen_size\"].dtype)\n",
    "print(laptops[\"screen_size\"].unique())"
   ]
  },
  {
   "cell_type": "code",
   "execution_count": 69,
   "metadata": {},
   "outputs": [
    {
     "data": {
      "text/plain": [
       "array(['13.3', '15.6', '15.4', '14.0', '12.0', '11.6', '17.3', '10.1',\n",
       "       '13.5', '12.5', '13.0', '18.4', '13.9', '12.3', '17.0', '15.0',\n",
       "       '14.1', '11.3'], dtype=object)"
      ]
     },
     "execution_count": 69,
     "metadata": {},
     "output_type": "execute_result"
    }
   ],
   "source": [
    "laptops[\"screen_size\"] = laptops[\"screen_size\"].str.replace('\"' , '')\n",
    "laptops[\"screen_size\"].unique()"
   ]
  },
  {
   "cell_type": "code",
   "execution_count": 70,
   "metadata": {},
   "outputs": [
    {
     "data": {
      "text/plain": [
       "dtype('float64')"
      ]
     },
     "execution_count": 70,
     "metadata": {},
     "output_type": "execute_result"
    }
   ],
   "source": [
    "# convert the column values to numeric dtypes\n",
    "laptops[\"screen_size\"] = laptops[\"screen_size\"].astype(float)\n",
    "laptops[\"screen_size\"].dtype"
   ]
  },
  {
   "cell_type": "code",
   "execution_count": 71,
   "metadata": {},
   "outputs": [
    {
     "name": "stdout",
     "output_type": "stream",
     "text": [
      "object\n",
      "['8GB' '16GB' '4GB' '2GB' '12GB' '6GB' '32GB' '24GB' '64GB']\n"
     ]
    }
   ],
   "source": [
    "# identify the ram column\n",
    "print(laptops[\"ram\"].dtype)\n",
    "print(laptops[\"ram\"].unique())"
   ]
  },
  {
   "cell_type": "markdown",
   "metadata": {},
   "source": [
    "- notice we need to remove \"GB\" string then convert to numeric (int)"
   ]
  },
  {
   "cell_type": "code",
   "execution_count": 72,
   "metadata": {},
   "outputs": [
    {
     "name": "stdout",
     "output_type": "stream",
     "text": [
      "int32\n",
      "[ 8 16  4  2 12  6 32 24 64]\n"
     ]
    }
   ],
   "source": [
    "laptops[\"ram\"] = laptops[\"ram\"].str.replace(\"GB\" , \"\")\n",
    "laptops[\"ram\"] = laptops[\"ram\"].astype(int)\n",
    "print(laptops[\"ram\"].dtype)\n",
    "print(laptops[\"ram\"].unique())"
   ]
  },
  {
   "cell_type": "code",
   "execution_count": 73,
   "metadata": {},
   "outputs": [
    {
     "name": "stdout",
     "output_type": "stream",
     "text": [
      "manufacturer         object\n",
      "model_name           object\n",
      "category             object\n",
      "screen_size         float64\n",
      "screen               object\n",
      "cpu                  object\n",
      "ram                   int32\n",
      "storage              object\n",
      "gpu                  object\n",
      "operating_system     object\n",
      "os                   object\n",
      "weight               object\n",
      "price_euros          object\n",
      "dtype: object\n"
     ]
    }
   ],
   "source": [
    "print(laptops.dtypes)"
   ]
  },
  {
   "cell_type": "code",
   "execution_count": 74,
   "metadata": {},
   "outputs": [
    {
     "name": "stdout",
     "output_type": "stream",
     "text": [
      "Index(['manufacturer', 'model_name', 'category', 'screen_size', 'screen',\n",
      "       'cpu', 'ram_gb', 'storage', 'gpu', 'operating_system', 'os', 'weight',\n",
      "       'price_euros'],\n",
      "      dtype='object')\n"
     ]
    },
    {
     "data": {
      "text/plain": [
       "count    1303.000000\n",
       "mean        8.382195\n",
       "std         5.084665\n",
       "min         2.000000\n",
       "25%         4.000000\n",
       "50%         8.000000\n",
       "75%         8.000000\n",
       "max        64.000000\n",
       "Name: ram_gb, dtype: float64"
      ]
     },
     "execution_count": 74,
     "metadata": {},
     "output_type": "execute_result"
    }
   ],
   "source": [
    "# changing a column name\n",
    "laptops.rename({\"ram\" : \"ram_gb\"} , axis = 1 , inplace = True)\n",
    "print(laptops.columns)\n",
    "laptops[\"ram_gb\"].describe()"
   ]
  },
  {
   "cell_type": "code",
   "execution_count": 75,
   "metadata": {},
   "outputs": [
    {
     "name": "stdout",
     "output_type": "stream",
     "text": [
      "0    Intel Iris Plus Graphics 640\n",
      "1          Intel HD Graphics 6000\n",
      "2           Intel HD Graphics 620\n",
      "3              AMD Radeon Pro 455\n",
      "4    Intel Iris Plus Graphics 650\n",
      "Name: gpu, dtype: object\n"
     ]
    }
   ],
   "source": [
    "# extracting values from string\n",
    "print(laptops[\"gpu\"].head())"
   ]
  },
  {
   "cell_type": "markdown",
   "metadata": {},
   "source": [
    "- we get the manufacturer name from the first word (intel , AMD)"
   ]
  },
  {
   "cell_type": "code",
   "execution_count": 76,
   "metadata": {},
   "outputs": [
    {
     "data": {
      "text/plain": [
       "0       [Intel, Iris, Plus, Graphics, 640]\n",
       "1              [Intel, HD, Graphics, 6000]\n",
       "2               [Intel, HD, Graphics, 620]\n",
       "3                  [AMD, Radeon, Pro, 455]\n",
       "4       [Intel, Iris, Plus, Graphics, 650]\n",
       "                       ...                \n",
       "1298            [Intel, HD, Graphics, 520]\n",
       "1299            [Intel, HD, Graphics, 520]\n",
       "1300                 [Intel, HD, Graphics]\n",
       "1301               [AMD, Radeon, R5, M330]\n",
       "1302                 [Intel, HD, Graphics]\n",
       "Name: gpu, Length: 1303, dtype: object"
      ]
     },
     "execution_count": 76,
     "metadata": {},
     "output_type": "execute_result"
    }
   ],
   "source": [
    "# split the string \n",
    "laptops[\"gpu\"].str.split()"
   ]
  },
  {
   "cell_type": "code",
   "execution_count": 77,
   "metadata": {},
   "outputs": [
    {
     "name": "stdout",
     "output_type": "stream",
     "text": [
      "['Intel', 'Iris', 'Plus', 'Graphics', '640']\n",
      "Intel\n"
     ]
    }
   ],
   "source": [
    "print(laptops[\"gpu\"].str.split()[0]) # list\n",
    "print(laptops[\"gpu\"].str.split()[0][0]) #first elment in the list"
   ]
  },
  {
   "cell_type": "code",
   "execution_count": 78,
   "metadata": {},
   "outputs": [
    {
     "data": {
      "text/plain": [
       "['Intel',\n",
       " 'Intel',\n",
       " 'Intel',\n",
       " 'AMD',\n",
       " 'Intel',\n",
       " 'AMD',\n",
       " 'Intel',\n",
       " 'Intel',\n",
       " 'Nvidia',\n",
       " 'Intel']"
      ]
     },
     "execution_count": 78,
     "metadata": {},
     "output_type": "execute_result"
    }
   ],
   "source": [
    "manuf = []\n",
    "for m in laptops[\"gpu\"].str.split():\n",
    "    first = m[0]\n",
    "    manuf.append(first)\n",
    "    \n",
    "manuf[:10]"
   ]
  },
  {
   "cell_type": "code",
   "execution_count": 79,
   "metadata": {},
   "outputs": [
    {
     "name": "stdout",
     "output_type": "stream",
     "text": [
      "object\n",
      "['Intel' 'AMD' 'Nvidia' 'ARM']\n",
      "Intel     722\n",
      "Nvidia    400\n",
      "AMD       180\n",
      "ARM         1\n",
      "Name: gpu_manufacturer, dtype: int64\n"
     ]
    }
   ],
   "source": [
    "laptops[\"gpu_manufacturer\"] = manuf\n",
    "print(laptops[\"gpu_manufacturer\"].dtype)\n",
    "print(laptops[\"gpu_manufacturer\"].unique())\n",
    "print(laptops[\"gpu_manufacturer\"].value_counts())"
   ]
  },
  {
   "cell_type": "code",
   "execution_count": 80,
   "metadata": {},
   "outputs": [
    {
     "data": {
      "text/plain": [
       "0       Intel\n",
       "1       Intel\n",
       "2       Intel\n",
       "3         AMD\n",
       "4       Intel\n",
       "        ...  \n",
       "1298    Intel\n",
       "1299    Intel\n",
       "1300    Intel\n",
       "1301      AMD\n",
       "1302    Intel\n",
       "Name: gpu_manufacturer, Length: 1303, dtype: object"
      ]
     },
     "execution_count": 80,
     "metadata": {},
     "output_type": "execute_result"
    }
   ],
   "source": [
    "# shorthand without looping \n",
    "laptops[\"gpu_manufacturer\"] = laptops[\"gpu\"].str.split().str[0]\n",
    "laptops[\"gpu_manufacturer\"]"
   ]
  },
  {
   "cell_type": "code",
   "execution_count": 81,
   "metadata": {},
   "outputs": [
    {
     "name": "stdout",
     "output_type": "stream",
     "text": [
      "Windows      1125\n",
      "No OS          66\n",
      "Linux          62\n",
      "Chrome OS      27\n",
      "macOS          13\n",
      "Mac OS          8\n",
      "Android         2\n",
      "Name: operating_system, dtype: int64\n"
     ]
    }
   ],
   "source": [
    "print(laptops[\"operating_system\"].value_counts(dropna = False))"
   ]
  },
  {
   "cell_type": "code",
   "execution_count": 82,
   "metadata": {},
   "outputs": [
    {
     "data": {
      "text/plain": [
       "Windows      1125\n",
       "No OS          66\n",
       "Linux          62\n",
       "Chrome OS      27\n",
       "macOS          13\n",
       "Mac OS          8\n",
       "Android         2\n",
       "Name: operating_system, dtype: int64"
      ]
     },
     "execution_count": 82,
     "metadata": {},
     "output_type": "execute_result"
    }
   ],
   "source": [
    "laptops[\"operating_system\"].value_counts()"
   ]
  },
  {
   "cell_type": "code",
   "execution_count": 83,
   "metadata": {},
   "outputs": [
    {
     "name": "stdout",
     "output_type": "stream",
     "text": [
      "Windows      1125\n",
      "No OS          66\n",
      "Linux          62\n",
      "Chrome OS      27\n",
      "Mac OS         21\n",
      "Android         2\n",
      "Name: operating_system, dtype: int64\n"
     ]
    }
   ],
   "source": [
    "corrections = {\n",
    "    \"Windows\" : \"Windows\",\n",
    "    'No OS' : \"No OS\", \n",
    "    \"Linux\" : \"Linux\" , \n",
    "    \"Chrome OS\" : \"Chrome OS\",\n",
    "    \"Android\" : \"Android\" , \n",
    "    \"Mac OS\" : \"Mac OS\",\n",
    "    \"macOS\" : \"Mac OS\"\n",
    "    \n",
    "}\n",
    "\n",
    "laptops[\"operating_system\"] = laptops[\"operating_system\"].map(corrections)\n",
    "print(laptops[\"operating_system\"].value_counts())"
   ]
  },
  {
   "cell_type": "code",
   "execution_count": 84,
   "metadata": {},
   "outputs": [
    {
     "data": {
      "text/html": [
       "<div>\n",
       "<style scoped>\n",
       "    .dataframe tbody tr th:only-of-type {\n",
       "        vertical-align: middle;\n",
       "    }\n",
       "\n",
       "    .dataframe tbody tr th {\n",
       "        vertical-align: top;\n",
       "    }\n",
       "\n",
       "    .dataframe thead th {\n",
       "        text-align: right;\n",
       "    }\n",
       "</style>\n",
       "<table border=\"1\" class=\"dataframe\">\n",
       "  <thead>\n",
       "    <tr style=\"text-align: right;\">\n",
       "      <th></th>\n",
       "      <th>manufacturer</th>\n",
       "      <th>model_name</th>\n",
       "      <th>category</th>\n",
       "      <th>screen_size</th>\n",
       "      <th>screen</th>\n",
       "      <th>cpu</th>\n",
       "      <th>ram_gb</th>\n",
       "      <th>storage</th>\n",
       "      <th>gpu</th>\n",
       "      <th>operating_system</th>\n",
       "      <th>os</th>\n",
       "      <th>weight</th>\n",
       "      <th>price_euros</th>\n",
       "      <th>gpu_manufacturer</th>\n",
       "    </tr>\n",
       "  </thead>\n",
       "  <tbody>\n",
       "    <tr>\n",
       "      <td>0</td>\n",
       "      <td>False</td>\n",
       "      <td>False</td>\n",
       "      <td>False</td>\n",
       "      <td>False</td>\n",
       "      <td>False</td>\n",
       "      <td>False</td>\n",
       "      <td>False</td>\n",
       "      <td>False</td>\n",
       "      <td>False</td>\n",
       "      <td>False</td>\n",
       "      <td>True</td>\n",
       "      <td>False</td>\n",
       "      <td>False</td>\n",
       "      <td>False</td>\n",
       "    </tr>\n",
       "    <tr>\n",
       "      <td>1</td>\n",
       "      <td>False</td>\n",
       "      <td>False</td>\n",
       "      <td>False</td>\n",
       "      <td>False</td>\n",
       "      <td>False</td>\n",
       "      <td>False</td>\n",
       "      <td>False</td>\n",
       "      <td>False</td>\n",
       "      <td>False</td>\n",
       "      <td>False</td>\n",
       "      <td>True</td>\n",
       "      <td>False</td>\n",
       "      <td>False</td>\n",
       "      <td>False</td>\n",
       "    </tr>\n",
       "    <tr>\n",
       "      <td>2</td>\n",
       "      <td>False</td>\n",
       "      <td>False</td>\n",
       "      <td>False</td>\n",
       "      <td>False</td>\n",
       "      <td>False</td>\n",
       "      <td>False</td>\n",
       "      <td>False</td>\n",
       "      <td>False</td>\n",
       "      <td>False</td>\n",
       "      <td>False</td>\n",
       "      <td>True</td>\n",
       "      <td>False</td>\n",
       "      <td>False</td>\n",
       "      <td>False</td>\n",
       "    </tr>\n",
       "    <tr>\n",
       "      <td>3</td>\n",
       "      <td>False</td>\n",
       "      <td>False</td>\n",
       "      <td>False</td>\n",
       "      <td>False</td>\n",
       "      <td>False</td>\n",
       "      <td>False</td>\n",
       "      <td>False</td>\n",
       "      <td>False</td>\n",
       "      <td>False</td>\n",
       "      <td>False</td>\n",
       "      <td>True</td>\n",
       "      <td>False</td>\n",
       "      <td>False</td>\n",
       "      <td>False</td>\n",
       "    </tr>\n",
       "    <tr>\n",
       "      <td>4</td>\n",
       "      <td>False</td>\n",
       "      <td>False</td>\n",
       "      <td>False</td>\n",
       "      <td>False</td>\n",
       "      <td>False</td>\n",
       "      <td>False</td>\n",
       "      <td>False</td>\n",
       "      <td>False</td>\n",
       "      <td>False</td>\n",
       "      <td>False</td>\n",
       "      <td>True</td>\n",
       "      <td>False</td>\n",
       "      <td>False</td>\n",
       "      <td>False</td>\n",
       "    </tr>\n",
       "    <tr>\n",
       "      <td>...</td>\n",
       "      <td>...</td>\n",
       "      <td>...</td>\n",
       "      <td>...</td>\n",
       "      <td>...</td>\n",
       "      <td>...</td>\n",
       "      <td>...</td>\n",
       "      <td>...</td>\n",
       "      <td>...</td>\n",
       "      <td>...</td>\n",
       "      <td>...</td>\n",
       "      <td>...</td>\n",
       "      <td>...</td>\n",
       "      <td>...</td>\n",
       "      <td>...</td>\n",
       "    </tr>\n",
       "    <tr>\n",
       "      <td>1298</td>\n",
       "      <td>False</td>\n",
       "      <td>False</td>\n",
       "      <td>False</td>\n",
       "      <td>False</td>\n",
       "      <td>False</td>\n",
       "      <td>False</td>\n",
       "      <td>False</td>\n",
       "      <td>False</td>\n",
       "      <td>False</td>\n",
       "      <td>False</td>\n",
       "      <td>False</td>\n",
       "      <td>False</td>\n",
       "      <td>False</td>\n",
       "      <td>False</td>\n",
       "    </tr>\n",
       "    <tr>\n",
       "      <td>1299</td>\n",
       "      <td>False</td>\n",
       "      <td>False</td>\n",
       "      <td>False</td>\n",
       "      <td>False</td>\n",
       "      <td>False</td>\n",
       "      <td>False</td>\n",
       "      <td>False</td>\n",
       "      <td>False</td>\n",
       "      <td>False</td>\n",
       "      <td>False</td>\n",
       "      <td>False</td>\n",
       "      <td>False</td>\n",
       "      <td>False</td>\n",
       "      <td>False</td>\n",
       "    </tr>\n",
       "    <tr>\n",
       "      <td>1300</td>\n",
       "      <td>False</td>\n",
       "      <td>False</td>\n",
       "      <td>False</td>\n",
       "      <td>False</td>\n",
       "      <td>False</td>\n",
       "      <td>False</td>\n",
       "      <td>False</td>\n",
       "      <td>False</td>\n",
       "      <td>False</td>\n",
       "      <td>False</td>\n",
       "      <td>False</td>\n",
       "      <td>False</td>\n",
       "      <td>False</td>\n",
       "      <td>False</td>\n",
       "    </tr>\n",
       "    <tr>\n",
       "      <td>1301</td>\n",
       "      <td>False</td>\n",
       "      <td>False</td>\n",
       "      <td>False</td>\n",
       "      <td>False</td>\n",
       "      <td>False</td>\n",
       "      <td>False</td>\n",
       "      <td>False</td>\n",
       "      <td>False</td>\n",
       "      <td>False</td>\n",
       "      <td>False</td>\n",
       "      <td>False</td>\n",
       "      <td>False</td>\n",
       "      <td>False</td>\n",
       "      <td>False</td>\n",
       "    </tr>\n",
       "    <tr>\n",
       "      <td>1302</td>\n",
       "      <td>False</td>\n",
       "      <td>False</td>\n",
       "      <td>False</td>\n",
       "      <td>False</td>\n",
       "      <td>False</td>\n",
       "      <td>False</td>\n",
       "      <td>False</td>\n",
       "      <td>False</td>\n",
       "      <td>False</td>\n",
       "      <td>False</td>\n",
       "      <td>False</td>\n",
       "      <td>False</td>\n",
       "      <td>False</td>\n",
       "      <td>False</td>\n",
       "    </tr>\n",
       "  </tbody>\n",
       "</table>\n",
       "<p>1303 rows × 14 columns</p>\n",
       "</div>"
      ],
      "text/plain": [
       "      manufacturer  model_name  category  screen_size  screen    cpu  ram_gb  \\\n",
       "0            False       False     False        False   False  False   False   \n",
       "1            False       False     False        False   False  False   False   \n",
       "2            False       False     False        False   False  False   False   \n",
       "3            False       False     False        False   False  False   False   \n",
       "4            False       False     False        False   False  False   False   \n",
       "...            ...         ...       ...          ...     ...    ...     ...   \n",
       "1298         False       False     False        False   False  False   False   \n",
       "1299         False       False     False        False   False  False   False   \n",
       "1300         False       False     False        False   False  False   False   \n",
       "1301         False       False     False        False   False  False   False   \n",
       "1302         False       False     False        False   False  False   False   \n",
       "\n",
       "      storage    gpu  operating_system     os  weight  price_euros  \\\n",
       "0       False  False             False   True   False        False   \n",
       "1       False  False             False   True   False        False   \n",
       "2       False  False             False   True   False        False   \n",
       "3       False  False             False   True   False        False   \n",
       "4       False  False             False   True   False        False   \n",
       "...       ...    ...               ...    ...     ...          ...   \n",
       "1298    False  False             False  False   False        False   \n",
       "1299    False  False             False  False   False        False   \n",
       "1300    False  False             False  False   False        False   \n",
       "1301    False  False             False  False   False        False   \n",
       "1302    False  False             False  False   False        False   \n",
       "\n",
       "      gpu_manufacturer  \n",
       "0                False  \n",
       "1                False  \n",
       "2                False  \n",
       "3                False  \n",
       "4                False  \n",
       "...                ...  \n",
       "1298             False  \n",
       "1299             False  \n",
       "1300             False  \n",
       "1301             False  \n",
       "1302             False  \n",
       "\n",
       "[1303 rows x 14 columns]"
      ]
     },
     "execution_count": 84,
     "metadata": {},
     "output_type": "execute_result"
    }
   ],
   "source": [
    "laptops.isnull()"
   ]
  },
  {
   "cell_type": "code",
   "execution_count": 85,
   "metadata": {},
   "outputs": [
    {
     "data": {
      "text/plain": [
       "manufacturer          0\n",
       "model_name            0\n",
       "category              0\n",
       "screen_size           0\n",
       "screen                0\n",
       "cpu                   0\n",
       "ram_gb                0\n",
       "storage               0\n",
       "gpu                   0\n",
       "operating_system      0\n",
       "os                  170\n",
       "weight                0\n",
       "price_euros           0\n",
       "gpu_manufacturer      0\n",
       "dtype: int64"
      ]
     },
     "execution_count": 85,
     "metadata": {},
     "output_type": "execute_result"
    }
   ],
   "source": [
    "laptops.isnull().sum()"
   ]
  },
  {
   "cell_type": "code",
   "execution_count": 86,
   "metadata": {},
   "outputs": [],
   "source": [
    "laptops_no_null_rows = laptops.dropna()\n",
    "laptops_no_null_columns = laptops.dropna(axis = 1)"
   ]
  },
  {
   "cell_type": "code",
   "execution_count": 87,
   "metadata": {},
   "outputs": [
    {
     "data": {
      "text/html": [
       "<div>\n",
       "<style scoped>\n",
       "    .dataframe tbody tr th:only-of-type {\n",
       "        vertical-align: middle;\n",
       "    }\n",
       "\n",
       "    .dataframe tbody tr th {\n",
       "        vertical-align: top;\n",
       "    }\n",
       "\n",
       "    .dataframe thead th {\n",
       "        text-align: right;\n",
       "    }\n",
       "</style>\n",
       "<table border=\"1\" class=\"dataframe\">\n",
       "  <thead>\n",
       "    <tr style=\"text-align: right;\">\n",
       "      <th></th>\n",
       "      <th>manufacturer</th>\n",
       "      <th>model_name</th>\n",
       "      <th>category</th>\n",
       "      <th>screen_size</th>\n",
       "      <th>screen</th>\n",
       "      <th>cpu</th>\n",
       "      <th>ram_gb</th>\n",
       "      <th>storage</th>\n",
       "      <th>gpu</th>\n",
       "      <th>operating_system</th>\n",
       "      <th>weight</th>\n",
       "      <th>price_euros</th>\n",
       "      <th>gpu_manufacturer</th>\n",
       "    </tr>\n",
       "  </thead>\n",
       "  <tbody>\n",
       "    <tr>\n",
       "      <td>0</td>\n",
       "      <td>Apple</td>\n",
       "      <td>MacBook Pro</td>\n",
       "      <td>Ultrabook</td>\n",
       "      <td>13.3</td>\n",
       "      <td>IPS Panel Retina Display 2560x1600</td>\n",
       "      <td>Intel Core i5 2.3GHz</td>\n",
       "      <td>8</td>\n",
       "      <td>128GB SSD</td>\n",
       "      <td>Intel Iris Plus Graphics 640</td>\n",
       "      <td>Mac OS</td>\n",
       "      <td>1.37kg</td>\n",
       "      <td>1339,69</td>\n",
       "      <td>Intel</td>\n",
       "    </tr>\n",
       "    <tr>\n",
       "      <td>1</td>\n",
       "      <td>Apple</td>\n",
       "      <td>Macbook Air</td>\n",
       "      <td>Ultrabook</td>\n",
       "      <td>13.3</td>\n",
       "      <td>1440x900</td>\n",
       "      <td>Intel Core i5 1.8GHz</td>\n",
       "      <td>8</td>\n",
       "      <td>128GB Flash Storage</td>\n",
       "      <td>Intel HD Graphics 6000</td>\n",
       "      <td>Mac OS</td>\n",
       "      <td>1.34kg</td>\n",
       "      <td>898,94</td>\n",
       "      <td>Intel</td>\n",
       "    </tr>\n",
       "    <tr>\n",
       "      <td>2</td>\n",
       "      <td>HP</td>\n",
       "      <td>250 G6</td>\n",
       "      <td>Notebook</td>\n",
       "      <td>15.6</td>\n",
       "      <td>Full HD 1920x1080</td>\n",
       "      <td>Intel Core i5 7200U 2.5GHz</td>\n",
       "      <td>8</td>\n",
       "      <td>256GB SSD</td>\n",
       "      <td>Intel HD Graphics 620</td>\n",
       "      <td>No OS</td>\n",
       "      <td>1.86kg</td>\n",
       "      <td>575,00</td>\n",
       "      <td>Intel</td>\n",
       "    </tr>\n",
       "    <tr>\n",
       "      <td>3</td>\n",
       "      <td>Apple</td>\n",
       "      <td>MacBook Pro</td>\n",
       "      <td>Ultrabook</td>\n",
       "      <td>15.4</td>\n",
       "      <td>IPS Panel Retina Display 2880x1800</td>\n",
       "      <td>Intel Core i7 2.7GHz</td>\n",
       "      <td>16</td>\n",
       "      <td>512GB SSD</td>\n",
       "      <td>AMD Radeon Pro 455</td>\n",
       "      <td>Mac OS</td>\n",
       "      <td>1.83kg</td>\n",
       "      <td>2537,45</td>\n",
       "      <td>AMD</td>\n",
       "    </tr>\n",
       "    <tr>\n",
       "      <td>4</td>\n",
       "      <td>Apple</td>\n",
       "      <td>MacBook Pro</td>\n",
       "      <td>Ultrabook</td>\n",
       "      <td>13.3</td>\n",
       "      <td>IPS Panel Retina Display 2560x1600</td>\n",
       "      <td>Intel Core i5 3.1GHz</td>\n",
       "      <td>8</td>\n",
       "      <td>256GB SSD</td>\n",
       "      <td>Intel Iris Plus Graphics 650</td>\n",
       "      <td>Mac OS</td>\n",
       "      <td>1.37kg</td>\n",
       "      <td>1803,60</td>\n",
       "      <td>Intel</td>\n",
       "    </tr>\n",
       "  </tbody>\n",
       "</table>\n",
       "</div>"
      ],
      "text/plain": [
       "  manufacturer   model_name   category  screen_size  \\\n",
       "0        Apple  MacBook Pro  Ultrabook         13.3   \n",
       "1        Apple  Macbook Air  Ultrabook         13.3   \n",
       "2           HP       250 G6   Notebook         15.6   \n",
       "3        Apple  MacBook Pro  Ultrabook         15.4   \n",
       "4        Apple  MacBook Pro  Ultrabook         13.3   \n",
       "\n",
       "                               screen                         cpu  ram_gb  \\\n",
       "0  IPS Panel Retina Display 2560x1600        Intel Core i5 2.3GHz       8   \n",
       "1                            1440x900        Intel Core i5 1.8GHz       8   \n",
       "2                   Full HD 1920x1080  Intel Core i5 7200U 2.5GHz       8   \n",
       "3  IPS Panel Retina Display 2880x1800        Intel Core i7 2.7GHz      16   \n",
       "4  IPS Panel Retina Display 2560x1600        Intel Core i5 3.1GHz       8   \n",
       "\n",
       "               storage                           gpu operating_system  weight  \\\n",
       "0            128GB SSD  Intel Iris Plus Graphics 640           Mac OS  1.37kg   \n",
       "1  128GB Flash Storage        Intel HD Graphics 6000           Mac OS  1.34kg   \n",
       "2            256GB SSD         Intel HD Graphics 620            No OS  1.86kg   \n",
       "3            512GB SSD            AMD Radeon Pro 455           Mac OS  1.83kg   \n",
       "4            256GB SSD  Intel Iris Plus Graphics 650           Mac OS  1.37kg   \n",
       "\n",
       "  price_euros gpu_manufacturer  \n",
       "0     1339,69            Intel  \n",
       "1      898,94            Intel  \n",
       "2      575,00            Intel  \n",
       "3     2537,45              AMD  \n",
       "4     1803,60            Intel  "
      ]
     },
     "execution_count": 87,
     "metadata": {},
     "output_type": "execute_result"
    }
   ],
   "source": [
    "laptops_no_null_columns.head()"
   ]
  },
  {
   "cell_type": "code",
   "execution_count": 88,
   "metadata": {},
   "outputs": [
    {
     "data": {
      "text/plain": [
       "10      1072\n",
       "NaN      170\n",
       "7         45\n",
       "10 S       8\n",
       "X          8\n",
       "Name: os, dtype: int64"
      ]
     },
     "execution_count": 88,
     "metadata": {},
     "output_type": "execute_result"
    }
   ],
   "source": [
    "#explore the missing values to avoid removing it \n",
    "laptops[\"os\"].value_counts(dropna = False)"
   ]
  },
  {
   "cell_type": "code",
   "execution_count": 89,
   "metadata": {},
   "outputs": [
    {
     "name": "stdout",
     "output_type": "stream",
     "text": [
      "Windows      1125\n",
      "No OS          66\n",
      "Linux          62\n",
      "Chrome OS      27\n",
      "Mac OS         21\n",
      "Android         2\n",
      "Name: operating_system, dtype: int64\n"
     ]
    }
   ],
   "source": [
    "print(laptops[\"operating_system\"].value_counts(dropna = False))"
   ]
  },
  {
   "cell_type": "code",
   "execution_count": 90,
   "metadata": {},
   "outputs": [
    {
     "data": {
      "text/plain": [
       "No OS        66\n",
       "Linux        62\n",
       "Chrome OS    27\n",
       "Mac OS       13\n",
       "Android       2\n",
       "Name: operating_system, dtype: int64"
      ]
     },
     "execution_count": 90,
     "metadata": {},
     "output_type": "execute_result"
    }
   ],
   "source": [
    "laptops.loc[laptops[\"os\"].isnull() , \"operating_system\"].value_counts()"
   ]
  },
  {
   "cell_type": "code",
   "execution_count": 91,
   "metadata": {},
   "outputs": [
    {
     "data": {
      "text/plain": [
       "Windows    1125\n",
       "Mac OS        8\n",
       "Name: operating_system, dtype: int64"
      ]
     },
     "execution_count": 91,
     "metadata": {},
     "output_type": "execute_result"
    }
   ],
   "source": [
    "#here when you delete the rows this what will happen only 2 operating systems remain\n",
    "laptops_no_null_rows[\"operating_system\"].value_counts()"
   ]
  },
  {
   "cell_type": "code",
   "execution_count": 92,
   "metadata": {},
   "outputs": [
    {
     "data": {
      "text/plain": [
       "X    21\n",
       "Name: os, dtype: int64"
      ]
     },
     "execution_count": 92,
     "metadata": {},
     "output_type": "execute_result"
    }
   ],
   "source": [
    "# filling some missing values with assigning values with boolean condition\n",
    "laptops.loc[laptops[\"operating_system\"] == \"Mac OS\" , \"os\"] = \"X\"\n",
    "laptops.loc[laptops[\"operating_system\"] == \"Mac OS\" , \"os\"].value_counts()"
   ]
  },
  {
   "cell_type": "code",
   "execution_count": 93,
   "metadata": {},
   "outputs": [
    {
     "data": {
      "text/plain": [
       "version unknown    66\n",
       "Name: os, dtype: int64"
      ]
     },
     "execution_count": 93,
     "metadata": {},
     "output_type": "execute_result"
    }
   ],
   "source": [
    "# change the verion for no os system to version unknown\n",
    "laptops.loc[laptops[\"operating_system\"] == \"No OS\" , \"os\"] = \"version unknown\"\n",
    "laptops.loc[laptops[\"operating_system\"] == \"No OS\" , \"os\"].value_counts()"
   ]
  },
  {
   "cell_type": "code",
   "execution_count": 94,
   "metadata": {},
   "outputs": [
    {
     "data": {
      "text/plain": [
       "Linux        62\n",
       "Chrome OS    27\n",
       "Android       2\n",
       "Name: operating_system, dtype: int64"
      ]
     },
     "execution_count": 94,
     "metadata": {},
     "output_type": "execute_result"
    }
   ],
   "source": [
    "laptops.loc[laptops[\"os\"].isnull() , \"operating_system\"].value_counts()"
   ]
  },
  {
   "cell_type": "code",
   "execution_count": 95,
   "metadata": {},
   "outputs": [
    {
     "name": "stdout",
     "output_type": "stream",
     "text": [
      "0    1.37kg\n",
      "1    1.34kg\n",
      "2    1.86kg\n",
      "3    1.83kg\n",
      "4    1.37kg\n",
      "Name: weight, dtype: object\n"
     ]
    }
   ],
   "source": [
    "#the challenge is to clean the weight\n",
    "print(laptops[\"weight\"].head())"
   ]
  },
  {
   "cell_type": "code",
   "execution_count": 96,
   "metadata": {},
   "outputs": [
    {
     "name": "stdout",
     "output_type": "stream",
     "text": [
      "object\n"
     ]
    }
   ],
   "source": [
    "print(laptops[\"weight\"].dtype)"
   ]
  },
  {
   "cell_type": "code",
   "execution_count": 97,
   "metadata": {},
   "outputs": [
    {
     "data": {
      "text/plain": [
       "0    1.37\n",
       "1    1.34\n",
       "2    1.86\n",
       "3    1.83\n",
       "4    1.37\n",
       "Name: weight, dtype: object"
      ]
     },
     "execution_count": 97,
     "metadata": {},
     "output_type": "execute_result"
    }
   ],
   "source": [
    "# delete the non numeric values\n",
    "laptops[\"weight\"] = laptops[\"weight\"].str.replace(\"kg\" , \"\")\n",
    "laptops[\"weight\"] = laptops[\"weight\"].str.replace(\"s\" , \"\") #one special case (\"kgs\" , s remaining after remove \"kg\")\n",
    "laptops[\"weight\"].head()"
   ]
  },
  {
   "cell_type": "code",
   "execution_count": 98,
   "metadata": {},
   "outputs": [],
   "source": [
    "#convert the column to numeric values\n",
    "laptops[\"weight\"] =  laptops[\"weight\"].astype(float)\n",
    "#change the column name\n",
    "laptops.rename({\"weight\" : \"weight_kg\"} , axis = 1 , inplace = True)"
   ]
  },
  {
   "cell_type": "code",
   "execution_count": 99,
   "metadata": {},
   "outputs": [
    {
     "data": {
      "text/plain": [
       "dtype('float64')"
      ]
     },
     "execution_count": 99,
     "metadata": {},
     "output_type": "execute_result"
    }
   ],
   "source": [
    "laptops[\"weight_kg\"].dtype"
   ]
  },
  {
   "cell_type": "code",
   "execution_count": 100,
   "metadata": {},
   "outputs": [],
   "source": [
    "# save your changes to csv file\n",
    "laptops.to_csv(\"laptops cleaned.csv\" , index = False)"
   ]
  },
  {
   "cell_type": "code",
   "execution_count": null,
   "metadata": {},
   "outputs": [],
   "source": []
  }
 ],
 "metadata": {
  "kernelspec": {
   "display_name": "Python 3",
   "language": "python",
   "name": "python3"
  },
  "language_info": {
   "codemirror_mode": {
    "name": "ipython",
    "version": 3
   },
   "file_extension": ".py",
   "mimetype": "text/x-python",
   "name": "python",
   "nbconvert_exporter": "python",
   "pygments_lexer": "ipython3",
   "version": "3.7.4"
  }
 },
 "nbformat": 4,
 "nbformat_minor": 2
}
