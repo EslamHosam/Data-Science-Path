{
 "cells": [
  {
   "cell_type": "markdown",
   "metadata": {},
   "source": [
    "### Exploring Data with pandas: Fundamentals\n"
   ]
  },
  {
   "cell_type": "markdown",
   "metadata": {},
   "source": [
    "# write information or the data dictionary first about your dataset"
   ]
  },
  {
   "cell_type": "code",
   "execution_count": null,
   "metadata": {},
   "outputs": [],
   "source": []
  },
  {
   "cell_type": "code",
   "execution_count": 1,
   "metadata": {},
   "outputs": [
    {
     "data": {
      "text/html": [
       "<div>\n",
       "<style scoped>\n",
       "    .dataframe tbody tr th:only-of-type {\n",
       "        vertical-align: middle;\n",
       "    }\n",
       "\n",
       "    .dataframe tbody tr th {\n",
       "        vertical-align: top;\n",
       "    }\n",
       "\n",
       "    .dataframe thead th {\n",
       "        text-align: right;\n",
       "    }\n",
       "</style>\n",
       "<table border=\"1\" class=\"dataframe\">\n",
       "  <thead>\n",
       "    <tr style=\"text-align: right;\">\n",
       "      <th></th>\n",
       "      <th>rank</th>\n",
       "      <th>revenues</th>\n",
       "      <th>revenue_change</th>\n",
       "      <th>profits</th>\n",
       "      <th>assets</th>\n",
       "      <th>profit_change</th>\n",
       "      <th>ceo</th>\n",
       "      <th>industry</th>\n",
       "      <th>sector</th>\n",
       "      <th>previous_rank</th>\n",
       "      <th>country</th>\n",
       "      <th>hq_location</th>\n",
       "      <th>website</th>\n",
       "      <th>years_on_global_500_list</th>\n",
       "      <th>employees</th>\n",
       "      <th>total_stockholder_equity</th>\n",
       "    </tr>\n",
       "    <tr>\n",
       "      <th>company</th>\n",
       "      <th></th>\n",
       "      <th></th>\n",
       "      <th></th>\n",
       "      <th></th>\n",
       "      <th></th>\n",
       "      <th></th>\n",
       "      <th></th>\n",
       "      <th></th>\n",
       "      <th></th>\n",
       "      <th></th>\n",
       "      <th></th>\n",
       "      <th></th>\n",
       "      <th></th>\n",
       "      <th></th>\n",
       "      <th></th>\n",
       "      <th></th>\n",
       "    </tr>\n",
       "  </thead>\n",
       "  <tbody>\n",
       "    <tr>\n",
       "      <td>Walmart</td>\n",
       "      <td>1</td>\n",
       "      <td>485873</td>\n",
       "      <td>0.8</td>\n",
       "      <td>13643.0</td>\n",
       "      <td>198825</td>\n",
       "      <td>-7.2</td>\n",
       "      <td>C. Douglas McMillon</td>\n",
       "      <td>General Merchandisers</td>\n",
       "      <td>Retailing</td>\n",
       "      <td>1</td>\n",
       "      <td>USA</td>\n",
       "      <td>Bentonville, AR</td>\n",
       "      <td>http://www.walmart.com</td>\n",
       "      <td>23</td>\n",
       "      <td>2300000</td>\n",
       "      <td>77798</td>\n",
       "    </tr>\n",
       "    <tr>\n",
       "      <td>State Grid</td>\n",
       "      <td>2</td>\n",
       "      <td>315199</td>\n",
       "      <td>-4.4</td>\n",
       "      <td>9571.3</td>\n",
       "      <td>489838</td>\n",
       "      <td>-6.2</td>\n",
       "      <td>Kou Wei</td>\n",
       "      <td>Utilities</td>\n",
       "      <td>Energy</td>\n",
       "      <td>2</td>\n",
       "      <td>China</td>\n",
       "      <td>Beijing, China</td>\n",
       "      <td>http://www.sgcc.com.cn</td>\n",
       "      <td>17</td>\n",
       "      <td>926067</td>\n",
       "      <td>209456</td>\n",
       "    </tr>\n",
       "    <tr>\n",
       "      <td>Sinopec Group</td>\n",
       "      <td>3</td>\n",
       "      <td>267518</td>\n",
       "      <td>-9.1</td>\n",
       "      <td>1257.9</td>\n",
       "      <td>310726</td>\n",
       "      <td>-65.0</td>\n",
       "      <td>Wang Yupu</td>\n",
       "      <td>Petroleum Refining</td>\n",
       "      <td>Energy</td>\n",
       "      <td>4</td>\n",
       "      <td>China</td>\n",
       "      <td>Beijing, China</td>\n",
       "      <td>http://www.sinopec.com</td>\n",
       "      <td>19</td>\n",
       "      <td>713288</td>\n",
       "      <td>106523</td>\n",
       "    </tr>\n",
       "  </tbody>\n",
       "</table>\n",
       "</div>"
      ],
      "text/plain": [
       "               rank  revenues  revenue_change  profits  assets  profit_change  \\\n",
       "company                                                                         \n",
       "Walmart           1    485873             0.8  13643.0  198825           -7.2   \n",
       "State Grid        2    315199            -4.4   9571.3  489838           -6.2   \n",
       "Sinopec Group     3    267518            -9.1   1257.9  310726          -65.0   \n",
       "\n",
       "                               ceo               industry     sector  \\\n",
       "company                                                                \n",
       "Walmart        C. Douglas McMillon  General Merchandisers  Retailing   \n",
       "State Grid                 Kou Wei              Utilities     Energy   \n",
       "Sinopec Group            Wang Yupu     Petroleum Refining     Energy   \n",
       "\n",
       "               previous_rank country      hq_location                 website  \\\n",
       "company                                                                         \n",
       "Walmart                    1     USA  Bentonville, AR  http://www.walmart.com   \n",
       "State Grid                 2   China   Beijing, China  http://www.sgcc.com.cn   \n",
       "Sinopec Group              4   China   Beijing, China  http://www.sinopec.com   \n",
       "\n",
       "               years_on_global_500_list  employees  total_stockholder_equity  \n",
       "company                                                                       \n",
       "Walmart                              23    2300000                     77798  \n",
       "State Grid                           17     926067                    209456  \n",
       "Sinopec Group                        19     713288                    106523  "
      ]
     },
     "execution_count": 1,
     "metadata": {},
     "output_type": "execute_result"
    }
   ],
   "source": [
    "import numpy as np\n",
    "import pandas as pd \n",
    "f500 = pd.read_csv(\"f500.csv\" , index_col = 0)\n",
    "f500.head(3)"
   ]
  },
  {
   "cell_type": "markdown",
   "metadata": {},
   "source": [
    "- the vectorized operations with pandas"
   ]
  },
  {
   "cell_type": "code",
   "execution_count": 2,
   "metadata": {},
   "outputs": [
    {
     "name": "stdout",
     "output_type": "stream",
     "text": [
      "<class 'pandas.core.frame.DataFrame'>\n",
      "Index: 500 entries, Walmart to AutoNation\n",
      "Data columns (total 16 columns):\n",
      "rank                        500 non-null int64\n",
      "revenues                    500 non-null int64\n",
      "revenue_change              498 non-null float64\n",
      "profits                     499 non-null float64\n",
      "assets                      500 non-null int64\n",
      "profit_change               436 non-null float64\n",
      "ceo                         500 non-null object\n",
      "industry                    500 non-null object\n",
      "sector                      500 non-null object\n",
      "previous_rank               500 non-null int64\n",
      "country                     500 non-null object\n",
      "hq_location                 500 non-null object\n",
      "website                     500 non-null object\n",
      "years_on_global_500_list    500 non-null int64\n",
      "employees                   500 non-null int64\n",
      "total_stockholder_equity    500 non-null int64\n",
      "dtypes: float64(3), int64(7), object(6)\n",
      "memory usage: 66.4+ KB\n"
     ]
    }
   ],
   "source": [
    "f500.info()"
   ]
  },
  {
   "cell_type": "code",
   "execution_count": 3,
   "metadata": {},
   "outputs": [
    {
     "data": {
      "text/plain": [
       "company\n",
       "Walmart                             0\n",
       "State Grid                          0\n",
       "Sinopec Group                       1\n",
       "China National Petroleum           -1\n",
       "Toyota Motor                        3\n",
       "                                 ... \n",
       "Teva Pharmaceutical Industries   -496\n",
       "New China Life Insurance          -70\n",
       "Wm. Morrison Supermarkets         -61\n",
       "TUI                               -32\n",
       "AutoNation                       -500\n",
       "Length: 500, dtype: int64"
      ]
     },
     "execution_count": 3,
     "metadata": {},
     "output_type": "execute_result"
    }
   ],
   "source": [
    "# mathematical operations with pandas\n",
    "prev_rank = f500[\"previous_rank\"]\n",
    "rank = f500[\"rank\"]\n",
    "diff = prev_rank - rank\n",
    "diff"
   ]
  },
  {
   "cell_type": "code",
   "execution_count": 4,
   "metadata": {},
   "outputs": [
    {
     "data": {
      "text/plain": [
       "-1      14\n",
       "-4      13\n",
       " 8      12\n",
       "-2      12\n",
       "-6      11\n",
       "        ..\n",
       "-105     1\n",
       " 105     1\n",
       " 106     1\n",
       "-108     1\n",
       "-124     1\n",
       "Length: 185, dtype: int64"
      ]
     },
     "execution_count": 4,
     "metadata": {},
     "output_type": "execute_result"
    }
   ],
   "source": [
    "# show the values \n",
    "diff.value_counts()"
   ]
  },
  {
   "cell_type": "code",
   "execution_count": 5,
   "metadata": {},
   "outputs": [
    {
     "data": {
      "text/plain": [
       "226"
      ]
     },
     "execution_count": 5,
     "metadata": {},
     "output_type": "execute_result"
    }
   ],
   "source": [
    "diff.max()"
   ]
  },
  {
   "cell_type": "code",
   "execution_count": 6,
   "metadata": {},
   "outputs": [
    {
     "data": {
      "text/plain": [
       "-500"
      ]
     },
     "execution_count": 6,
     "metadata": {},
     "output_type": "execute_result"
    }
   ],
   "source": [
    "diff.min()"
   ]
  },
  {
   "cell_type": "code",
   "execution_count": 7,
   "metadata": {},
   "outputs": [
    {
     "data": {
      "text/plain": [
       "-28.366"
      ]
     },
     "execution_count": 7,
     "metadata": {},
     "output_type": "execute_result"
    }
   ],
   "source": [
    "diff.mean()"
   ]
  },
  {
   "cell_type": "code",
   "execution_count": 8,
   "metadata": {},
   "outputs": [
    {
     "data": {
      "text/plain": [
       "count    500.000000\n",
       "mean     -28.366000\n",
       "std      108.602823\n",
       "min     -500.000000\n",
       "25%      -28.250000\n",
       "50%       -4.000000\n",
       "75%        8.250000\n",
       "max      226.000000\n",
       "dtype: float64"
      ]
     },
     "execution_count": 8,
     "metadata": {},
     "output_type": "execute_result"
    }
   ],
   "source": [
    "# series describe method\n",
    "diff.describe()"
   ]
  },
  {
   "cell_type": "code",
   "execution_count": 9,
   "metadata": {},
   "outputs": [],
   "source": [
    "# change the ceo name to my name\n",
    "diff_bool = diff ==1\n",
    "f500_copy = f500.copy()\n",
    "f500_copy.loc[diff_bool , \"ceo\"] = \"Eslam Hosam\"\n",
    "f500_copy[diff_bool]\n",
    "f500.copy().loc[diff == 1 , \"ceo\"] = \"eslam\""
   ]
  },
  {
   "cell_type": "code",
   "execution_count": 10,
   "metadata": {},
   "outputs": [
    {
     "data": {
      "text/html": [
       "<div>\n",
       "<style scoped>\n",
       "    .dataframe tbody tr th:only-of-type {\n",
       "        vertical-align: middle;\n",
       "    }\n",
       "\n",
       "    .dataframe tbody tr th {\n",
       "        vertical-align: top;\n",
       "    }\n",
       "\n",
       "    .dataframe thead th {\n",
       "        text-align: right;\n",
       "    }\n",
       "</style>\n",
       "<table border=\"1\" class=\"dataframe\">\n",
       "  <thead>\n",
       "    <tr style=\"text-align: right;\">\n",
       "      <th></th>\n",
       "      <th>rank</th>\n",
       "      <th>revenues</th>\n",
       "      <th>revenue_change</th>\n",
       "      <th>profits</th>\n",
       "      <th>assets</th>\n",
       "      <th>profit_change</th>\n",
       "      <th>previous_rank</th>\n",
       "      <th>years_on_global_500_list</th>\n",
       "      <th>employees</th>\n",
       "      <th>total_stockholder_equity</th>\n",
       "    </tr>\n",
       "  </thead>\n",
       "  <tbody>\n",
       "    <tr>\n",
       "      <td>count</td>\n",
       "      <td>500.000000</td>\n",
       "      <td>500.000000</td>\n",
       "      <td>498.000000</td>\n",
       "      <td>499.000000</td>\n",
       "      <td>5.000000e+02</td>\n",
       "      <td>436.000000</td>\n",
       "      <td>500.000000</td>\n",
       "      <td>500.000000</td>\n",
       "      <td>5.000000e+02</td>\n",
       "      <td>500.000000</td>\n",
       "    </tr>\n",
       "    <tr>\n",
       "      <td>mean</td>\n",
       "      <td>250.500000</td>\n",
       "      <td>55416.358000</td>\n",
       "      <td>4.538353</td>\n",
       "      <td>3055.203206</td>\n",
       "      <td>2.436323e+05</td>\n",
       "      <td>24.152752</td>\n",
       "      <td>222.134000</td>\n",
       "      <td>15.036000</td>\n",
       "      <td>1.339983e+05</td>\n",
       "      <td>30628.076000</td>\n",
       "    </tr>\n",
       "    <tr>\n",
       "      <td>std</td>\n",
       "      <td>144.481833</td>\n",
       "      <td>45725.478963</td>\n",
       "      <td>28.549067</td>\n",
       "      <td>5171.981071</td>\n",
       "      <td>4.851937e+05</td>\n",
       "      <td>437.509566</td>\n",
       "      <td>146.941961</td>\n",
       "      <td>7.932752</td>\n",
       "      <td>1.700878e+05</td>\n",
       "      <td>43642.576833</td>\n",
       "    </tr>\n",
       "    <tr>\n",
       "      <td>min</td>\n",
       "      <td>1.000000</td>\n",
       "      <td>21609.000000</td>\n",
       "      <td>-67.300000</td>\n",
       "      <td>-13038.000000</td>\n",
       "      <td>3.717000e+03</td>\n",
       "      <td>-793.700000</td>\n",
       "      <td>0.000000</td>\n",
       "      <td>1.000000</td>\n",
       "      <td>3.280000e+02</td>\n",
       "      <td>-59909.000000</td>\n",
       "    </tr>\n",
       "    <tr>\n",
       "      <td>25%</td>\n",
       "      <td>125.750000</td>\n",
       "      <td>29003.000000</td>\n",
       "      <td>-5.900000</td>\n",
       "      <td>556.950000</td>\n",
       "      <td>3.658850e+04</td>\n",
       "      <td>-22.775000</td>\n",
       "      <td>92.750000</td>\n",
       "      <td>7.000000</td>\n",
       "      <td>4.293250e+04</td>\n",
       "      <td>7553.750000</td>\n",
       "    </tr>\n",
       "    <tr>\n",
       "      <td>50%</td>\n",
       "      <td>250.500000</td>\n",
       "      <td>40236.000000</td>\n",
       "      <td>0.550000</td>\n",
       "      <td>1761.600000</td>\n",
       "      <td>7.326150e+04</td>\n",
       "      <td>-0.350000</td>\n",
       "      <td>219.500000</td>\n",
       "      <td>17.000000</td>\n",
       "      <td>9.291050e+04</td>\n",
       "      <td>15809.500000</td>\n",
       "    </tr>\n",
       "    <tr>\n",
       "      <td>75%</td>\n",
       "      <td>375.250000</td>\n",
       "      <td>63926.750000</td>\n",
       "      <td>6.975000</td>\n",
       "      <td>3954.000000</td>\n",
       "      <td>1.805640e+05</td>\n",
       "      <td>17.700000</td>\n",
       "      <td>347.250000</td>\n",
       "      <td>23.000000</td>\n",
       "      <td>1.689172e+05</td>\n",
       "      <td>37828.500000</td>\n",
       "    </tr>\n",
       "    <tr>\n",
       "      <td>max</td>\n",
       "      <td>500.000000</td>\n",
       "      <td>485873.000000</td>\n",
       "      <td>442.300000</td>\n",
       "      <td>45687.000000</td>\n",
       "      <td>3.473238e+06</td>\n",
       "      <td>8909.500000</td>\n",
       "      <td>500.000000</td>\n",
       "      <td>23.000000</td>\n",
       "      <td>2.300000e+06</td>\n",
       "      <td>301893.000000</td>\n",
       "    </tr>\n",
       "  </tbody>\n",
       "</table>\n",
       "</div>"
      ],
      "text/plain": [
       "             rank       revenues  revenue_change       profits        assets  \\\n",
       "count  500.000000     500.000000      498.000000    499.000000  5.000000e+02   \n",
       "mean   250.500000   55416.358000        4.538353   3055.203206  2.436323e+05   \n",
       "std    144.481833   45725.478963       28.549067   5171.981071  4.851937e+05   \n",
       "min      1.000000   21609.000000      -67.300000 -13038.000000  3.717000e+03   \n",
       "25%    125.750000   29003.000000       -5.900000    556.950000  3.658850e+04   \n",
       "50%    250.500000   40236.000000        0.550000   1761.600000  7.326150e+04   \n",
       "75%    375.250000   63926.750000        6.975000   3954.000000  1.805640e+05   \n",
       "max    500.000000  485873.000000      442.300000  45687.000000  3.473238e+06   \n",
       "\n",
       "       profit_change  previous_rank  years_on_global_500_list     employees  \\\n",
       "count     436.000000     500.000000                500.000000  5.000000e+02   \n",
       "mean       24.152752     222.134000                 15.036000  1.339983e+05   \n",
       "std       437.509566     146.941961                  7.932752  1.700878e+05   \n",
       "min      -793.700000       0.000000                  1.000000  3.280000e+02   \n",
       "25%       -22.775000      92.750000                  7.000000  4.293250e+04   \n",
       "50%        -0.350000     219.500000                 17.000000  9.291050e+04   \n",
       "75%        17.700000     347.250000                 23.000000  1.689172e+05   \n",
       "max      8909.500000     500.000000                 23.000000  2.300000e+06   \n",
       "\n",
       "       total_stockholder_equity  \n",
       "count                500.000000  \n",
       "mean               30628.076000  \n",
       "std                43642.576833  \n",
       "min               -59909.000000  \n",
       "25%                 7553.750000  \n",
       "50%                15809.500000  \n",
       "75%                37828.500000  \n",
       "max               301893.000000  "
      ]
     },
     "execution_count": 10,
     "metadata": {},
     "output_type": "execute_result"
    }
   ],
   "source": [
    "# like the series dataframes have describe method \n",
    "f500.describe() # displays for numerical columns by default"
   ]
  },
  {
   "cell_type": "code",
   "execution_count": 11,
   "metadata": {},
   "outputs": [
    {
     "data": {
      "text/html": [
       "<div>\n",
       "<style scoped>\n",
       "    .dataframe tbody tr th:only-of-type {\n",
       "        vertical-align: middle;\n",
       "    }\n",
       "\n",
       "    .dataframe tbody tr th {\n",
       "        vertical-align: top;\n",
       "    }\n",
       "\n",
       "    .dataframe thead th {\n",
       "        text-align: right;\n",
       "    }\n",
       "</style>\n",
       "<table border=\"1\" class=\"dataframe\">\n",
       "  <thead>\n",
       "    <tr style=\"text-align: right;\">\n",
       "      <th></th>\n",
       "      <th>rank</th>\n",
       "      <th>previous_rank</th>\n",
       "    </tr>\n",
       "  </thead>\n",
       "  <tbody>\n",
       "    <tr>\n",
       "      <td>count</td>\n",
       "      <td>500.000000</td>\n",
       "      <td>500.000000</td>\n",
       "    </tr>\n",
       "    <tr>\n",
       "      <td>mean</td>\n",
       "      <td>250.500000</td>\n",
       "      <td>222.134000</td>\n",
       "    </tr>\n",
       "    <tr>\n",
       "      <td>std</td>\n",
       "      <td>144.481833</td>\n",
       "      <td>146.941961</td>\n",
       "    </tr>\n",
       "    <tr>\n",
       "      <td>min</td>\n",
       "      <td>1.000000</td>\n",
       "      <td>0.000000</td>\n",
       "    </tr>\n",
       "    <tr>\n",
       "      <td>25%</td>\n",
       "      <td>125.750000</td>\n",
       "      <td>92.750000</td>\n",
       "    </tr>\n",
       "    <tr>\n",
       "      <td>50%</td>\n",
       "      <td>250.500000</td>\n",
       "      <td>219.500000</td>\n",
       "    </tr>\n",
       "    <tr>\n",
       "      <td>75%</td>\n",
       "      <td>375.250000</td>\n",
       "      <td>347.250000</td>\n",
       "    </tr>\n",
       "    <tr>\n",
       "      <td>max</td>\n",
       "      <td>500.000000</td>\n",
       "      <td>500.000000</td>\n",
       "    </tr>\n",
       "  </tbody>\n",
       "</table>\n",
       "</div>"
      ],
      "text/plain": [
       "             rank  previous_rank\n",
       "count  500.000000     500.000000\n",
       "mean   250.500000     222.134000\n",
       "std    144.481833     146.941961\n",
       "min      1.000000       0.000000\n",
       "25%    125.750000      92.750000\n",
       "50%    250.500000     219.500000\n",
       "75%    375.250000     347.250000\n",
       "max    500.000000     500.000000"
      ]
     },
     "execution_count": 11,
     "metadata": {},
     "output_type": "execute_result"
    }
   ],
   "source": [
    "# describe for columns \n",
    "f500[[\"rank\" , \"previous_rank\"]].describe()\n"
   ]
  },
  {
   "cell_type": "code",
   "execution_count": 12,
   "metadata": {},
   "outputs": [
    {
     "data": {
      "text/plain": [
       "count     500\n",
       "unique     34\n",
       "top       USA\n",
       "freq      132\n",
       "Name: country, dtype: object"
      ]
     },
     "execution_count": 12,
     "metadata": {},
     "output_type": "execute_result"
    }
   ],
   "source": [
    "# Not a number column \n",
    "f500[\"country\"].describe()"
   ]
  },
  {
   "cell_type": "code",
   "execution_count": 13,
   "metadata": {},
   "outputs": [
    {
     "name": "stdout",
     "output_type": "stream",
     "text": [
      "1\n",
      "132\n"
     ]
    }
   ],
   "source": [
    "# method chaining \n",
    "Li_Guohua  = f500[\"ceo\"].value_counts().loc[\"Li Guohua\"]\n",
    "print(Li_Guohua)\n",
    "usa = f500[\"country\"].value_counts().loc[\"USA\"]\n",
    "print(usa)"
   ]
  },
  {
   "cell_type": "code",
   "execution_count": 14,
   "metadata": {},
   "outputs": [
    {
     "data": {
      "text/plain": [
       "2"
      ]
     },
     "execution_count": 14,
     "metadata": {},
     "output_type": "execute_result"
    }
   ],
   "source": [
    "f500[\"revenues\"].value_counts().loc[29003]"
   ]
  },
  {
   "cell_type": "code",
   "execution_count": 15,
   "metadata": {},
   "outputs": [
    {
     "data": {
      "text/plain": [
       "0      33\n",
       "159     1\n",
       "147     1\n",
       "148     1\n",
       "149     1\n",
       "       ..\n",
       "321     1\n",
       "322     1\n",
       "323     1\n",
       "324     1\n",
       "235     1\n",
       "Name: previous_rank, Length: 468, dtype: int64"
      ]
     },
     "execution_count": 15,
     "metadata": {},
     "output_type": "execute_result"
    }
   ],
   "source": [
    "# return the number of companies with value zero in prewvious rank\n",
    "\n",
    "zero_prev_rank = f500[\"previous_rank\"].value_counts()\n",
    "zero_prev_rank"
   ]
  },
  {
   "cell_type": "code",
   "execution_count": 16,
   "metadata": {},
   "outputs": [
    {
     "data": {
      "text/plain": [
       "NaN      33\n",
       "471.0     1\n",
       "234.0     1\n",
       "125.0     1\n",
       "166.0     1\n",
       "Name: previous_rank, dtype: int64"
      ]
     },
     "execution_count": 16,
     "metadata": {},
     "output_type": "execute_result"
    }
   ],
   "source": [
    "f500.loc[f500[\"previous_rank\"] == 0 ,\"previous_rank\" ] = np.nan\n",
    "f500[\"previous_rank\"].value_counts(dropna=False).head()"
   ]
  },
  {
   "cell_type": "code",
   "execution_count": 17,
   "metadata": {},
   "outputs": [
    {
     "data": {
      "text/plain": [
       "33"
      ]
     },
     "execution_count": 17,
     "metadata": {},
     "output_type": "execute_result"
    }
   ],
   "source": [
    "prev_rank.value_counts().loc[0]"
   ]
  },
  {
   "cell_type": "code",
   "execution_count": 18,
   "metadata": {},
   "outputs": [
    {
     "data": {
      "text/plain": [
       "33"
      ]
     },
     "execution_count": 18,
     "metadata": {},
     "output_type": "execute_result"
    }
   ],
   "source": [
    "x = prev_rank.value_counts()\n",
    "x.loc[0]"
   ]
  },
  {
   "cell_type": "code",
   "execution_count": 19,
   "metadata": {},
   "outputs": [
    {
     "data": {
      "text/plain": [
       "rank                                             500\n",
       "revenues                                      485873\n",
       "revenue_change                                 442.3\n",
       "profits                                        45687\n",
       "assets                                       3473238\n",
       "profit_change                                 8909.5\n",
       "ceo                                       Zhou Qiang\n",
       "industry                    Wholesalers: Health Care\n",
       "sector                                   Wholesalers\n",
       "previous_rank                                    500\n",
       "country                                    Venezuela\n",
       "hq_location                      Zurich, Switzerland\n",
       "website                        http://www.zurich.com\n",
       "years_on_global_500_list                          23\n",
       "employees                                    2300000\n",
       "total_stockholder_equity                      301893\n",
       "dtype: object"
      ]
     },
     "execution_count": 19,
     "metadata": {},
     "output_type": "execute_result"
    }
   ],
   "source": [
    "# data exploratiopn in pandas\n",
    "f500.max(axis = 0)"
   ]
  },
  {
   "cell_type": "code",
   "execution_count": 20,
   "metadata": {},
   "outputs": [
    {
     "data": {
      "text/plain": [
       "rank                            500.0\n",
       "revenues                     485873.0\n",
       "revenue_change                  442.3\n",
       "profits                       45687.0\n",
       "assets                      3473238.0\n",
       "profit_change                  8909.5\n",
       "previous_rank                   500.0\n",
       "years_on_global_500_list         23.0\n",
       "employees                   2300000.0\n",
       "total_stockholder_equity     301893.0\n",
       "dtype: float64"
      ]
     },
     "execution_count": 20,
     "metadata": {},
     "output_type": "execute_result"
    }
   ],
   "source": [
    "# for numeric values only \n",
    "f500.max(axis = 0 , numeric_only=True)"
   ]
  },
  {
   "cell_type": "code",
   "execution_count": 21,
   "metadata": {},
   "outputs": [
    {
     "data": {
      "text/html": [
       "<div>\n",
       "<style scoped>\n",
       "    .dataframe tbody tr th:only-of-type {\n",
       "        vertical-align: middle;\n",
       "    }\n",
       "\n",
       "    .dataframe tbody tr th {\n",
       "        vertical-align: top;\n",
       "    }\n",
       "\n",
       "    .dataframe thead th {\n",
       "        text-align: right;\n",
       "    }\n",
       "</style>\n",
       "<table border=\"1\" class=\"dataframe\">\n",
       "  <thead>\n",
       "    <tr style=\"text-align: right;\">\n",
       "      <th></th>\n",
       "      <th>ceo</th>\n",
       "      <th>industry</th>\n",
       "      <th>sector</th>\n",
       "      <th>country</th>\n",
       "      <th>hq_location</th>\n",
       "      <th>website</th>\n",
       "    </tr>\n",
       "  </thead>\n",
       "  <tbody>\n",
       "    <tr>\n",
       "      <td>count</td>\n",
       "      <td>500</td>\n",
       "      <td>500</td>\n",
       "      <td>500</td>\n",
       "      <td>500</td>\n",
       "      <td>500</td>\n",
       "      <td>500</td>\n",
       "    </tr>\n",
       "    <tr>\n",
       "      <td>unique</td>\n",
       "      <td>500</td>\n",
       "      <td>58</td>\n",
       "      <td>21</td>\n",
       "      <td>34</td>\n",
       "      <td>235</td>\n",
       "      <td>500</td>\n",
       "    </tr>\n",
       "    <tr>\n",
       "      <td>top</td>\n",
       "      <td>J. Bruce Flatt</td>\n",
       "      <td>Banks: Commercial and Savings</td>\n",
       "      <td>Financials</td>\n",
       "      <td>USA</td>\n",
       "      <td>Beijing, China</td>\n",
       "      <td>http://www.apple.com</td>\n",
       "    </tr>\n",
       "    <tr>\n",
       "      <td>freq</td>\n",
       "      <td>1</td>\n",
       "      <td>51</td>\n",
       "      <td>118</td>\n",
       "      <td>132</td>\n",
       "      <td>56</td>\n",
       "      <td>1</td>\n",
       "    </tr>\n",
       "  </tbody>\n",
       "</table>\n",
       "</div>"
      ],
      "text/plain": [
       "                   ceo                       industry      sector country  \\\n",
       "count              500                            500         500     500   \n",
       "unique             500                             58          21      34   \n",
       "top     J. Bruce Flatt  Banks: Commercial and Savings  Financials     USA   \n",
       "freq                 1                             51         118     132   \n",
       "\n",
       "           hq_location               website  \n",
       "count              500                   500  \n",
       "unique             235                   500  \n",
       "top     Beijing, China  http://www.apple.com  \n",
       "freq                56                     1  "
      ]
     },
     "execution_count": 21,
     "metadata": {},
     "output_type": "execute_result"
    }
   ],
   "source": [
    "f500.describe(include=['O'])"
   ]
  },
  {
   "cell_type": "code",
   "execution_count": 22,
   "metadata": {},
   "outputs": [
    {
     "data": {
      "text/plain": [
       "count    467.000000\n",
       "mean      -3.533191\n",
       "std       44.293603\n",
       "min     -199.000000\n",
       "25%      -21.000000\n",
       "50%       -2.000000\n",
       "75%       10.000000\n",
       "max      226.000000\n",
       "Name: rank_change, dtype: float64"
      ]
     },
     "execution_count": 22,
     "metadata": {},
     "output_type": "execute_result"
    }
   ],
   "source": [
    "# creating new column\n",
    "rank_change = f500[\"previous_rank\"] - f500[\"rank\"]\n",
    "#new column \n",
    "f500[\"rank_change\"] = rank_change\n",
    "f500[\"rank_change\"].describe()"
   ]
  },
  {
   "cell_type": "code",
   "execution_count": 23,
   "metadata": {},
   "outputs": [
    {
     "name": "stdout",
     "output_type": "stream",
     "text": [
      "USA industries:\n",
      " Banks: Commercial and Savings               8\n",
      "Insurance: Property and Casualty (Stock)    7\n",
      "Name: industry, dtype: int64 \n",
      "\n",
      "Chinese sectors\n",
      " Financials     25\n",
      "Energy         22\n",
      "Wholesalers     9\n",
      "Name: sector, dtype: int64\n"
     ]
    }
   ],
   "source": [
    "# challenge top performance by country\n",
    "#In this challenge, we'll calculate a specific statistic or attribute of each of \n",
    "#the two most common countries from our f500 dataframe\n",
    "\n",
    "top_2 = f500[\"country\"].value_counts().head(2)\n",
    "\n",
    "#the two most comman value for industry column for countries headquartered in usa\n",
    "industry_usa = f500.loc[f500[\"country\"] == \"USA\" , \"industry\"].value_counts().head(2)\n",
    "\n",
    "#the three most common values for sector column for companies headquartered in china\n",
    "sector_china = f500.loc[f500[\"country\"] == \"China\" , \"sector\"].value_counts().head(3)\n",
    "print(\"USA industries:\\n\" , industry_usa ,\"\\n\")\n",
    "print(\"Chinese sectors\\n\", sector_china)"
   ]
  }
 ],
 "metadata": {
  "kernelspec": {
   "display_name": "Python 3",
   "language": "python",
   "name": "python3"
  },
  "language_info": {
   "codemirror_mode": {
    "name": "ipython",
    "version": 3
   },
   "file_extension": ".py",
   "mimetype": "text/x-python",
   "name": "python",
   "nbconvert_exporter": "python",
   "pygments_lexer": "ipython3",
   "version": "3.7.4"
  }
 },
 "nbformat": 4,
 "nbformat_minor": 2
}
