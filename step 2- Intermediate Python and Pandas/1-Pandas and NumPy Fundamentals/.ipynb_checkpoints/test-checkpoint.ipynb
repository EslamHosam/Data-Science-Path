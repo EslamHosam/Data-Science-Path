{
 "cells": [
  {
   "cell_type": "markdown",
   "metadata": {},
   "source": [
    "## introduction to numpy\n",
    "\n",
    "- applying the numpy fundamentals on the NYC airport dataset taxi dataset\n",
    "- here the data set columns\n",
    "\n",
    "- pickup_month:  The month of the trip (January is 1, December is 12).\n",
    "- pickup_day:  The day of the month of the trip.\n",
    "- pickup_location_code:  The airport or borough where the trip started.\n",
    "- dropoff_location_code: The airport or borough where the trip finished.\n",
    "- trip_distance: The distance of the trip in miles.\n",
    "- trip_length: The length of the trip in seconds.\n",
    "- fare_amount: The base fare of the trip, in dollars.\n",
    "- total_amount: The total amount charged to the passenger, including all fees, tolls and tips. "
   ]
  },
  {
   "cell_type": "code",
   "execution_count": 114,
   "metadata": {},
   "outputs": [],
   "source": [
    "import numpy as np \n",
    "import csv"
   ]
  },
  {
   "cell_type": "code",
   "execution_count": 115,
   "metadata": {},
   "outputs": [
    {
     "name": "stdout",
     "output_type": "stream",
     "text": [
      "['pickup_year', 'pickup_month', 'pickup_day', 'pickup_dayofweek', 'pickup_time', 'pickup_location_code', 'dropoff_location_code', 'trip_distance', 'trip_length', 'fare_amount', 'fees_amount', 'tolls_amount', 'tip_amount', 'total_amount', 'payment_type']\n"
     ]
    }
   ],
   "source": [
    "#open the dataset using csv module and then convert the dtaset into nd array using numpy \n",
    "\n",
    "opened_file = open(\"nyc_taxis.csv\")\n",
    "file_as_list = list(csv.reader(opened_file))\n",
    "header = file_as_list[0]\n",
    "data = file_as_list[1:]\n",
    "print(header)\n"
   ]
  },
  {
   "cell_type": "code",
   "execution_count": 116,
   "metadata": {},
   "outputs": [
    {
     "name": "stdout",
     "output_type": "stream",
     "text": [
      "[[2.016e+03 1.000e+00 1.000e+00 5.000e+00 0.000e+00 2.000e+00 4.000e+00\n",
      "  2.100e+01 2.037e+03 5.200e+01 8.000e-01 5.540e+00 1.165e+01 6.999e+01\n",
      "  1.000e+00]\n",
      " [2.016e+03 1.000e+00 1.000e+00 5.000e+00 0.000e+00 2.000e+00 1.000e+00\n",
      "  1.629e+01 1.520e+03 4.500e+01 1.300e+00 0.000e+00 8.000e+00 5.430e+01\n",
      "  1.000e+00]\n",
      " [2.016e+03 1.000e+00 1.000e+00 5.000e+00 0.000e+00 2.000e+00 6.000e+00\n",
      "  1.270e+01 1.462e+03 3.650e+01 1.300e+00 0.000e+00 0.000e+00 3.780e+01\n",
      "  2.000e+00]\n",
      " [2.016e+03 1.000e+00 1.000e+00 5.000e+00 0.000e+00 2.000e+00 6.000e+00\n",
      "  8.700e+00 1.210e+03 2.600e+01 1.300e+00 0.000e+00 5.460e+00 3.276e+01\n",
      "  1.000e+00]]\n"
     ]
    }
   ],
   "source": [
    "#before converting the dataset notice that\n",
    "#you need to convert the data from string to numeric values first\n",
    "\n",
    "converted_data = []\n",
    "\n",
    "for row in data:\n",
    "    converted_row = []\n",
    "    for i in row:\n",
    "        i = float(i)\n",
    "        converted_row.append(i)\n",
    "    converted_data.append(converted_row)\n",
    "    \n",
    "#convert the data into numpy 2D array now using the numpy.array() method\n",
    "taxi = np.array(converted_data)\n",
    "#show some rows\n",
    "print(taxi[0:4])"
   ]
  },
  {
   "cell_type": "code",
   "execution_count": 117,
   "metadata": {},
   "outputs": [
    {
     "name": "stdout",
     "output_type": "stream",
     "text": [
      "the type of the data now is:  <class 'numpy.ndarray'>\n",
      "the shape of the matrix is:  (89560, 15)\n",
      "the type of the array elements is :  float64\n"
     ]
    }
   ],
   "source": [
    "# show some information about the dataset\n",
    "print(\"the type of the data now is: \",type(taxi))\n",
    "\n",
    "#print(number of rows and columns)\n",
    "print(\"the shape of the matrix is: \", taxi.shape)\n",
    "print(\"the type of the array elements is : \", taxi.dtype)"
   ]
  },
  {
   "cell_type": "code",
   "execution_count": 118,
   "metadata": {},
   "outputs": [
    {
     "name": "stdout",
     "output_type": "stream",
     "text": [
      "[[5. 0. 2.]\n",
      " [5. 0. 2.]\n",
      " [5. 0. 2.]]\n"
     ]
    }
   ],
   "source": [
    "#show some data elements or 2d array like:\n",
    "print(taxi[0:3 , 3:6])"
   ]
  },
  {
   "cell_type": "code",
   "execution_count": 119,
   "metadata": {},
   "outputs": [
    {
     "name": "stdout",
     "output_type": "stream",
     "text": [
      "some days in the month :  [1. 5. 6.]\n"
     ]
    }
   ],
   "source": [
    "#show some days in the month \n",
    "print(\"some days in the month : \", taxi[[50,2000,2500], 2])"
   ]
  },
  {
   "cell_type": "code",
   "execution_count": 120,
   "metadata": {},
   "outputs": [
    {
     "name": "stdout",
     "output_type": "stream",
     "text": [
      "the pick up year is: [2016. 2016. 2016. ... 2016. 2016. 2016.]\n"
     ]
    }
   ],
   "source": [
    "#if u wanna see the pick up year try this:\n",
    "print(\"the pick up year is:\" , taxi[:, 0])"
   ]
  },
  {
   "cell_type": "code",
   "execution_count": 121,
   "metadata": {},
   "outputs": [
    {
     "name": "stdout",
     "output_type": "stream",
     "text": [
      "the minumum fare amount is : -52.0 it is negative amount it is not good at all we should clean it\n"
     ]
    }
   ],
   "source": [
    "# if u wanna know the minimum fare amount try this:\n",
    "print(\"the minumum fare amount is :\" , taxi[:,9].min() , \"it is negative amount it is not good at all we should clean it\")"
   ]
  },
  {
   "cell_type": "code",
   "execution_count": 122,
   "metadata": {},
   "outputs": [
    {
     "name": "stdout",
     "output_type": "stream",
     "text": [
      "the max values for row [2,3,5] are:  2016.0\n"
     ]
    }
   ],
   "source": [
    "# u can know also yhe maximum amount for some rows in the dataset easily:\n",
    "print(\"the max values for row [2,3,5] are: \", taxi[[2,3,5]].max())"
   ]
  },
  {
   "cell_type": "code",
   "execution_count": 123,
   "metadata": {},
   "outputs": [
    {
     "name": "stdout",
     "output_type": "stream",
     "text": [
      "the length of the dataset is 89560 rows:\n"
     ]
    }
   ],
   "source": [
    "#what is the length of the taxi dataset ? \n",
    "print(\"the length of the dataset is {} rows:\".format(len(taxi)))"
   ]
  },
  {
   "cell_type": "code",
   "execution_count": 124,
   "metadata": {},
   "outputs": [
    {
     "name": "stdout",
     "output_type": "stream",
     "text": [
      "[105924.   68400.   53363.  ... 146744.   37363.5  82128. ] length of the product 89560\n"
     ]
    }
   ],
   "source": [
    "#multiplication for 2 columns:\n",
    "pickup_month = taxi[:, 9]\n",
    "pickup_day = taxi[:,8]\n",
    "\n",
    "product = pickup_month * pickup_day\n",
    "print(product, \"length of the product\", len(product))"
   ]
  },
  {
   "cell_type": "markdown",
   "metadata": {},
   "source": [
    "## calculate the miles per hour for each trip"
   ]
  },
  {
   "cell_type": "code",
   "execution_count": 125,
   "metadata": {},
   "outputs": [
    {
     "name": "stdout",
     "output_type": "stream",
     "text": [
      "[37.11340206 38.58157895 31.27222982 25.88429752 26.3715415 ]\n"
     ]
    }
   ],
   "source": [
    "length_by_hour = taxi[:,8] / 3600\n",
    "miles = taxi[:,7]\n",
    "\n",
    "speed= miles / length_by_hour\n",
    "print(speed[:5])"
   ]
  },
  {
   "cell_type": "code",
   "execution_count": 126,
   "metadata": {},
   "outputs": [
    {
     "name": "stdout",
     "output_type": "stream",
     "text": [
      "the max speed for a trip is:  82800.0\n"
     ]
    }
   ],
   "source": [
    "# max speed out of all trips\n",
    "print(\"the max speed for a trip is: \",speed.max())"
   ]
  },
  {
   "cell_type": "markdown",
   "metadata": {},
   "source": [
    "- here it is impossible speed it faster than the fastest plane on the planet 82800"
   ]
  },
  {
   "cell_type": "markdown",
   "metadata": {},
   "source": [
    "- total amount equals all the amounts of other [9:12] columns"
   ]
  },
  {
   "cell_type": "code",
   "execution_count": 127,
   "metadata": {},
   "outputs": [
    {
     "name": "stdout",
     "output_type": "stream",
     "text": [
      "[69.99 54.3  37.8  32.76 18.8 ]\n",
      "[69.99 54.3  37.8  32.76 18.8 ]\n"
     ]
    }
   ],
   "source": [
    "total_amount = taxi[:, 13]\n",
    "sum_amounts = taxi[:, 9:13].sum(axis = 1)\n",
    "\n",
    "print(total_amount[:5])\n",
    "print(sum_amounts[:5])"
   ]
  },
  {
   "cell_type": "code",
   "execution_count": 128,
   "metadata": {},
   "outputs": [
    {
     "data": {
      "text/plain": [
       "array([0, 1, 2, 3, 4])"
      ]
     },
     "execution_count": 128,
     "metadata": {},
     "output_type": "execute_result"
    }
   ],
   "source": [
    "np.arange(5)"
   ]
  },
  {
   "cell_type": "markdown",
   "metadata": {},
   "source": [
    "### boolean indexing with boolean arrays"
   ]
  },
  {
   "cell_type": "markdown",
   "metadata": {},
   "source": [
    "- open file using numpy"
   ]
  },
  {
   "cell_type": "code",
   "execution_count": 129,
   "metadata": {},
   "outputs": [
    {
     "name": "stdout",
     "output_type": "stream",
     "text": [
      "[2.016e+03 1.000e+00 1.000e+00 5.000e+00 0.000e+00 2.000e+00 4.000e+00\n",
      " 2.100e+01 2.037e+03 5.200e+01 8.000e-01 5.540e+00 1.165e+01 6.999e+01\n",
      " 1.000e+00]\n"
     ]
    }
   ],
   "source": [
    "taxi = np.genfromtxt(\"nyc_taxis.csv\" , delimiter=\",\" , skip_header= 1 )\n",
    "print(taxi[0])"
   ]
  },
  {
   "cell_type": "markdown",
   "metadata": {},
   "source": [
    "- starting boolean indexing"
   ]
  },
  {
   "cell_type": "code",
   "execution_count": 130,
   "metadata": {},
   "outputs": [
    {
     "name": "stdout",
     "output_type": "stream",
     "text": [
      "[False False False False  True  True  True]\n",
      "[20 35 15]\n"
     ]
    }
   ],
   "source": [
    "arr = np.array([1,2,3,5,20,35,15])\n",
    "print(arr > 10)\n",
    "print(arr[arr > 10])"
   ]
  },
  {
   "cell_type": "code",
   "execution_count": 131,
   "metadata": {},
   "outputs": [
    {
     "name": "stdout",
     "output_type": "stream",
     "text": [
      "[1. 1. 1. ... 1. 1. 1.]\n"
     ]
    }
   ],
   "source": [
    "# apply for january month\n",
    "pickup_month = taxi[:,1]\n",
    "cond = pickup_month == 1\n",
    "jan = pickup_month[cond]\n",
    "print(jan)"
   ]
  },
  {
   "cell_type": "code",
   "execution_count": 132,
   "metadata": {},
   "outputs": [
    {
     "name": "stdout",
     "output_type": "stream",
     "text": [
      "[2. 2. 2. ... 2. 2. 2.]\n"
     ]
    }
   ],
   "source": [
    "february = pickup_month[taxi[:,1] == 2]\n",
    "print(february)"
   ]
  },
  {
   "cell_type": "markdown",
   "metadata": {},
   "source": [
    "- calculate the top tips for the tips column"
   ]
  },
  {
   "cell_type": "code",
   "execution_count": 133,
   "metadata": {},
   "outputs": [
    {
     "name": "stdout",
     "output_type": "stream",
     "text": [
      "[ 52.8   60.    59.34  80.    70.    60.    55.    65.    80.    62.\n",
      " 100.    58.    62.    75.7   60.    70.  ]\n"
     ]
    }
   ],
   "source": [
    "tips = taxi[:,12]\n",
    "bool_1 = taxi[:,12] > 50\n",
    "top = tips[bool_1]\n",
    "print(top)"
   ]
  },
  {
   "cell_type": "code",
   "execution_count": 134,
   "metadata": {},
   "outputs": [
    {
     "name": "stdout",
     "output_type": "stream",
     "text": [
      "top fares are \n",
      "  [109.5 122.  117.  112.  114.5 102.  105.5 110.5 110.5 101.5 128.  134.5\n",
      " 102.5 113.  102.5 116.  110.5 119.5 106.5 110.  105.5 113.  115.5 106.5\n",
      " 120.  121.  100.5 130.  123.  110.5 106.5 400.  116.5 125.  157.5 103.\n",
      " 120.5 104.  101.  101.  101.  115.5 129.5 112.  106.  114.5 107.  119.\n",
      " 126.  115.  123.  111.  110.  102.5 110.  126.  112.5 101.5 220.  108.\n",
      " 150.  101.  134.  101.  113.  180.5 104.  129.  107.5 120.  112.  117.5\n",
      " 114.5 116.  117.5 116.5 113.5]\n"
     ]
    }
   ],
   "source": [
    "#top fares \n",
    "print(\"top fares are \\n \", taxi[:,9][taxi[:,9]>100])"
   ]
  },
  {
   "cell_type": "code",
   "execution_count": 135,
   "metadata": {},
   "outputs": [
    {
     "name": "stdout",
     "output_type": "stream",
     "text": [
      "[400.3  453.34 220.3  834.84 286.84]\n"
     ]
    }
   ],
   "source": [
    "#total highest fees\n",
    "total_amount = taxi[:,13]\n",
    "cond = total_amount > 200\n",
    "print(total_amount[cond])"
   ]
  },
  {
   "cell_type": "markdown",
   "metadata": {},
   "source": [
    "### assigning values using boolean indexing"
   ]
  },
  {
   "cell_type": "code",
   "execution_count": 136,
   "metadata": {},
   "outputs": [
    {
     "name": "stdout",
     "output_type": "stream",
     "text": [
      "850.0\n"
     ]
    }
   ],
   "source": [
    "#change the maximum fees to be 850 dollr \n",
    "taxi[:,13][taxi[:,13] == 834.84] = 850\n",
    "print(taxi[:,13].max())"
   ]
  },
  {
   "cell_type": "code",
   "execution_count": 137,
   "metadata": {},
   "outputs": [],
   "source": [
    "x = np.zeros((5,5))\n",
    "x[0,1] = 10\n",
    "x[:2, 3] = 5\n",
    "x[:,2] = [1,5,20,15,2]\n",
    "x[4,0] = 50\n"
   ]
  },
  {
   "cell_type": "code",
   "execution_count": 138,
   "metadata": {},
   "outputs": [
    {
     "data": {
      "text/plain": [
       "array([[ 0., 10.,  1.,  5.,  0.],\n",
       "       [ 0.,  0.,  5.,  5.,  0.],\n",
       "       [ 0.,  0., 20.,  0.,  0.],\n",
       "       [ 0.,  0., 15.,  0.,  0.],\n",
       "       [48.,  0.,  2.,  0.,  0.]])"
      ]
     },
     "execution_count": 138,
     "metadata": {},
     "output_type": "execute_result"
    }
   ],
   "source": [
    "x[x==50] = 48\n",
    "x"
   ]
  },
  {
   "cell_type": "code",
   "execution_count": 139,
   "metadata": {},
   "outputs": [
    {
     "data": {
      "text/plain": [
       "array([0., 0., 0., 0., 0., 0., 0., 0., 0., 0., 0., 0., 0., 0., 0., 0., 0.,\n",
       "       0., 0., 0., 0., 0., 0., 0., 0., 0., 0., 0., 0., 0., 0., 0., 0., 0.,\n",
       "       0., 0., 0., 0., 0., 0., 0.])"
      ]
     },
     "execution_count": 139,
     "metadata": {},
     "output_type": "execute_result"
    }
   ],
   "source": [
    "taxi_copy = taxi.copy()\n",
    "total_amount = taxi_copy[:,13]\n",
    "total_amount[total_amount <0] = 0\n",
    "total_amount[total_amount == 0]"
   ]
  },
  {
   "cell_type": "code",
   "execution_count": 140,
   "metadata": {},
   "outputs": [
    {
     "data": {
      "text/plain": [
       "array([500., 500., 500.])"
      ]
     },
     "execution_count": 140,
     "metadata": {},
     "output_type": "execute_result"
    }
   ],
   "source": [
    "bool_1 = taxi_copy[:,13] > 200\n",
    "taxi_copy[bool_1 , 13] = 500\n",
    "taxi_copy[:,13][taxi[:, 13]>400]"
   ]
  },
  {
   "cell_type": "markdown",
   "metadata": {},
   "source": [
    "- create new columns using boolean indexing"
   ]
  },
  {
   "cell_type": "code",
   "execution_count": 172,
   "metadata": {},
   "outputs": [
    {
     "name": "stdout",
     "output_type": "stream",
     "text": [
      "[2. 2. 2. ... 2. 2. 2.]\n"
     ]
    }
   ],
   "source": []
  }
 ],
 "metadata": {
  "kernelspec": {
   "display_name": "Python 3",
   "language": "python",
   "name": "python3"
  },
  "language_info": {
   "codemirror_mode": {
    "name": "ipython",
    "version": 3
   },
   "file_extension": ".py",
   "mimetype": "text/x-python",
   "name": "python",
   "nbconvert_exporter": "python",
   "pygments_lexer": "ipython3",
   "version": "3.7.4"
  }
 },
 "nbformat": 4,
 "nbformat_minor": 2
}
