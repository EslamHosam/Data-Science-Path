{
 "cells": [
  {
   "cell_type": "markdown",
   "metadata": {},
   "source": [
    "# first mission summary"
   ]
  },
  {
   "cell_type": "markdown",
   "metadata": {},
   "source": [
    "- here we are applying the numpy fumndamentals on NYC airport taxi dataset\n",
    "- here is the dataset columns\n",
    "\n",
    "- pickup_month:  The month of the trip (January is 1, December is 12).\n",
    "- pickup_day:  The day of the month of the trip.\n",
    "- pickup_location_code:  The airport or borough where the trip started.\n",
    "- dropoff_location_code: The airport or borough where the trip finished.\n",
    "- trip_distance: The distance of the trip in miles.\n",
    "- trip_length: The length of the trip in seconds.\n",
    "- fare_amount: The base fare of the trip, in dollars.\n",
    "- total_amount: The total amount charged to the passenger, including all fees, tolls and tips. \n"
   ]
  },
  {
   "cell_type": "code",
   "execution_count": 2,
   "metadata": {},
   "outputs": [
    {
     "name": "stdout",
     "output_type": "stream",
     "text": [
      "['pickup_year', 'pickup_month', 'pickup_day', 'pickup_dayofweek', 'pickup_time', 'pickup_location_code', 'dropoff_location_code', 'trip_distance', 'trip_length', 'fare_amount', 'fees_amount', 'tolls_amount', 'tip_amount', 'total_amount', 'payment_type'] \n",
      " ['2016', '1', '1', '5', '0', '2', '4', '21.00', '2037', '52.00', '0.80', '5.54', '11.65', '69.99', '1']\n"
     ]
    }
   ],
   "source": [
    "import numpy as np\n",
    "import csv\n",
    "#opening the nyc csv file\n",
    "opened_file = open(\"nyc_taxis.csv\")\n",
    "data = list(csv.reader(opened_file))\n",
    "headers = data[0] #removing headers\n",
    "data = data[1:]\n",
    "print(headers , \"\\n\" , data[0])"
   ]
  },
  {
   "cell_type": "code",
   "execution_count": 3,
   "metadata": {},
   "outputs": [
    {
     "name": "stdout",
     "output_type": "stream",
     "text": [
      "[2016.0, 1.0, 1.0, 5.0, 0.0, 2.0, 4.0, 21.0, 2037.0, 52.0, 0.8, 5.54, 11.65, 69.99, 1.0]\n"
     ]
    }
   ],
   "source": [
    "# convert the dataset items into float to deal with it\n",
    "taxi_list = []\n",
    "for row in data:\n",
    "    rows = []\n",
    "    for r in row:\n",
    "        r = float(r)\n",
    "        rows.append(r)\n",
    "    taxi_list.append(rows)\n",
    "print(taxi_list[0])"
   ]
  },
  {
   "cell_type": "code",
   "execution_count": 4,
   "metadata": {},
   "outputs": [
    {
     "name": "stdout",
     "output_type": "stream",
     "text": [
      "[2.016e+03 1.000e+00 1.000e+00 5.000e+00 0.000e+00 2.000e+00 1.000e+00\n",
      " 1.629e+01 1.520e+03 4.500e+01 1.300e+00 0.000e+00 8.000e+00 5.430e+01\n",
      " 1.000e+00]\n"
     ]
    }
   ],
   "source": [
    "#convert the data into 2D ndarray using numpy\n",
    "taxi = np.array(taxi_list)\n",
    "print(taxi[1])"
   ]
  },
  {
   "cell_type": "markdown",
   "metadata": {},
   "source": [
    "- apply the slicing techniques here"
   ]
  },
  {
   "cell_type": "code",
   "execution_count": 5,
   "metadata": {},
   "outputs": [
    {
     "name": "stdout",
     "output_type": "stream",
     "text": [
      "<class 'numpy.ndarray'>\n"
     ]
    }
   ],
   "source": [
    "print(type(taxi))"
   ]
  },
  {
   "cell_type": "code",
   "execution_count": 6,
   "metadata": {},
   "outputs": [
    {
     "name": "stdout",
     "output_type": "stream",
     "text": [
      "2\n"
     ]
    }
   ],
   "source": [
    "print(taxi.ndim)"
   ]
  },
  {
   "cell_type": "code",
   "execution_count": 7,
   "metadata": {},
   "outputs": [
    {
     "name": "stdout",
     "output_type": "stream",
     "text": [
      "(89560, 15)\n"
     ]
    }
   ],
   "source": [
    "print(taxi.shape)"
   ]
  },
  {
   "cell_type": "code",
   "execution_count": 8,
   "metadata": {},
   "outputs": [
    {
     "name": "stdout",
     "output_type": "stream",
     "text": [
      "float64\n"
     ]
    }
   ],
   "source": [
    "print(taxi.dtype)"
   ]
  },
  {
   "cell_type": "code",
   "execution_count": 9,
   "metadata": {},
   "outputs": [
    {
     "name": "stdout",
     "output_type": "stream",
     "text": [
      "[[1. 2. 6. 2. 3.]\n",
      " [1. 2. 6. 2. 3.]\n",
      " [1. 2. 6. 3. 3.]\n",
      " [1. 2. 6. 3. 4.]\n",
      " [1. 2. 6. 3. 3.]]\n"
     ]
    }
   ],
   "source": [
    "print(taxi[500:505 , 1:6])"
   ]
  },
  {
   "cell_type": "code",
   "execution_count": null,
   "metadata": {},
   "outputs": [],
   "source": []
  },
  {
   "cell_type": "code",
   "execution_count": 10,
   "metadata": {},
   "outputs": [
    {
     "name": "stdout",
     "output_type": "stream",
     "text": [
      "[1. 1. 1. 1. 1.] [6. 6. 6. 6. 6.]\n"
     ]
    }
   ],
   "source": [
    "# some days in the month\n",
    "print(taxi[:5 , 2] , taxi[80000:80005 , 1])"
   ]
  },
  {
   "cell_type": "code",
   "execution_count": 11,
   "metadata": {},
   "outputs": [
    {
     "name": "stdout",
     "output_type": "stream",
     "text": [
      "[2016. 2016. 2016.]\n"
     ]
    }
   ],
   "source": [
    "#pick up year\n",
    "print(taxi[[-1, 25124 , 500] , 0])"
   ]
  },
  {
   "cell_type": "code",
   "execution_count": 12,
   "metadata": {},
   "outputs": [
    {
     "name": "stdout",
     "output_type": "stream",
     "text": [
      "[ 2.016e+03  1.000e+00  1.000e+00  1.000e+00  0.000e+00  0.000e+00\n",
      "  0.000e+00  0.000e+00  1.000e+00 -5.200e+01 -1.800e+00 -5.540e+00\n",
      "  0.000e+00 -5.834e+01  1.000e+00]\n"
     ]
    }
   ],
   "source": [
    "# minimum values for columns\n",
    "print(taxi.min(axis = 0))"
   ]
  },
  {
   "cell_type": "code",
   "execution_count": 13,
   "metadata": {},
   "outputs": [
    {
     "name": "stdout",
     "output_type": "stream",
     "text": [
      "[2037. 2016. 2016. 2016. 2016. 2016. 2016. 2016. 2562. 2016. 2016. 2016.\n",
      " 2016. 2016. 2016. 2016. 2016. 2304. 2016. 2016.]\n"
     ]
    }
   ],
   "source": [
    "# maximum values for some rows\n",
    "print(taxi[:20].max(axis = 1))"
   ]
  },
  {
   "cell_type": "code",
   "execution_count": 14,
   "metadata": {},
   "outputs": [
    {
     "name": "stdout",
     "output_type": "stream",
     "text": [
      "86383.0\n"
     ]
    }
   ],
   "source": [
    "# maximum value in the matrix\n",
    "print(taxi.max())"
   ]
  },
  {
   "cell_type": "code",
   "execution_count": 15,
   "metadata": {},
   "outputs": [
    {
     "name": "stdout",
     "output_type": "stream",
     "text": [
      "89560 (89560, 15)\n"
     ]
    }
   ],
   "source": [
    "# length of our dataset\n",
    "print(len(taxi) , taxi.shape)"
   ]
  },
  {
   "cell_type": "code",
   "execution_count": 16,
   "metadata": {},
   "outputs": [
    {
     "data": {
      "text/plain": [
       "array([6., 4., 2., 3., 2., 4., 4., 4., 1., 6.])"
      ]
     },
     "execution_count": 16,
     "metadata": {},
     "output_type": "execute_result"
    }
   ],
   "source": [
    "taxi[550:560 , 6]"
   ]
  },
  {
   "cell_type": "code",
   "execution_count": 17,
   "metadata": {},
   "outputs": [
    {
     "name": "stdout",
     "output_type": "stream",
     "text": [
      "[  1.   1.   1. ... 180. 180. 180.]\n"
     ]
    }
   ],
   "source": [
    "# 2 columns multiplication in our dataset\n",
    "pickup_month = taxi[:, 1]\n",
    "pickup_day = taxi[:, 2]\n",
    "product = pickup_month * pickup_day \n",
    "print(product)"
   ]
  },
  {
   "cell_type": "code",
   "execution_count": 18,
   "metadata": {},
   "outputs": [
    {
     "name": "stdout",
     "output_type": "stream",
     "text": [
      "400.0\n",
      "23.995277777777776 hours\n"
     ]
    }
   ],
   "source": [
    "print(taxi[:, 9].max())\n",
    "print(taxi[:, 8].max() / 3600 , \"hours\") # converting the value to hours"
   ]
  },
  {
   "cell_type": "code",
   "execution_count": 19,
   "metadata": {},
   "outputs": [],
   "source": [
    "trip_distance = taxi[:,7] #distance in miles\n",
    "trip_length = taxi[:,8] #length in seconds"
   ]
  },
  {
   "cell_type": "code",
   "execution_count": 20,
   "metadata": {},
   "outputs": [
    {
     "name": "stdout",
     "output_type": "stream",
     "text": [
      "[37.11340206 38.58157895 31.27222982 ... 22.29907867 42.41551247\n",
      " 36.90473407]\n",
      "82800.0\n"
     ]
    }
   ],
   "source": [
    "#calculate the miles per hour for each trip\n",
    "#convert length from seconds to hours\n",
    "length_hours = trip_length / 3600\n",
    "miles_per_hour = trip_distance / length_hours\n",
    "print(miles_per_hour)\n",
    "print(miles_per_hour.max()) #somthing wrong here cause it is faster than the fastest plane in the world"
   ]
  },
  {
   "cell_type": "code",
   "execution_count": 21,
   "metadata": {},
   "outputs": [
    {
     "name": "stdout",
     "output_type": "stream",
     "text": [
      "32.24258580925573\n",
      "0.0\n"
     ]
    }
   ],
   "source": [
    "print(miles_per_hour.mean())\n",
    "print(miles_per_hour.min())"
   ]
  },
  {
   "cell_type": "markdown",
   "metadata": {},
   "source": [
    "- difference between functions and methods for numpy specially\n",
    "- function is stand alone building block which takes input to return output\n",
    "- method is related to specific object we use it with that object"
   ]
  },
  {
   "cell_type": "code",
   "execution_count": 22,
   "metadata": {},
   "outputs": [
    {
     "name": "stdout",
     "output_type": "stream",
     "text": [
      "0.0\n",
      "82800.0\n",
      "32.24258580925573\n"
     ]
    }
   ],
   "source": [
    "#functions\n",
    "print(np.min(miles_per_hour))\n",
    "print(np.max(miles_per_hour))\n",
    "print(np.mean(miles_per_hour))"
   ]
  },
  {
   "cell_type": "code",
   "execution_count": 23,
   "metadata": {},
   "outputs": [
    {
     "name": "stdout",
     "output_type": "stream",
     "text": [
      "32.24258580925573\n",
      "82800.0\n"
     ]
    }
   ],
   "source": [
    "#methods\n",
    "print(miles_per_hour.mean())\n",
    "print(miles_per_hour.max())"
   ]
  },
  {
   "cell_type": "code",
   "execution_count": 24,
   "metadata": {},
   "outputs": [
    {
     "name": "stdout",
     "output_type": "stream",
     "text": [
      "[ 69.99  54.3   37.8   32.76  18.8  105.6   32.25  22.8  131.38  37.3 ]\n",
      "[ 69.99  54.3   37.8   32.76  18.8  105.6   32.25  22.8  131.38  37.3 ]\n"
     ]
    }
   ],
   "source": [
    "#. Calculating Statistics For 2D ndarrays\n",
    "\n",
    "#check the values of the columns [9:13] sum[9:12] should be equal to col[13]\n",
    "total_amount = taxi[:10,13]\n",
    "sum_amounts = taxi[:10 , 9:13].sum(axis = 1)\n",
    "print(total_amount)\n",
    "print(sum_amounts)"
   ]
  },
  {
   "cell_type": "code",
   "execution_count": 25,
   "metadata": {},
   "outputs": [
    {
     "data": {
      "text/plain": [
       "array([0, 1, 2, 3, 4, 5])"
      ]
     },
     "execution_count": 25,
     "metadata": {},
     "output_type": "execute_result"
    }
   ],
   "source": [
    "c= np.arange(6)\n",
    "c"
   ]
  },
  {
   "cell_type": "markdown",
   "metadata": {},
   "source": [
    "# try"
   ]
  },
  {
   "cell_type": "code",
   "execution_count": 97,
   "metadata": {},
   "outputs": [
    {
     "data": {
      "text/plain": [
       "array([[10, 10,  7],\n",
       "       [ 6,  2,  7],\n",
       "       [ 1,  1,  7]])"
      ]
     },
     "execution_count": 97,
     "metadata": {},
     "output_type": "execute_result"
    }
   ],
   "source": [
    "# create a boolean array for trips with average\n",
    "# speeds greater than 20,000 mph\n",
    "\n",
    "mph = taxi[:, 7] / (taxi[:, 8] / 3600)\n",
    "\n",
    "trips_over_2000_speed = taxi[mph > 20000 , 5:9]\n",
    "trips_over_2000_speed.shape\n",
    "\n",
    "taxi[2: 200 , 2:6]\n",
    "\n",
    "x = np.array(np.zeros((3,3), int))\n",
    "x[x ==0] = 1\n",
    "x[1,1] = 2\n",
    "x[2, 2]= 10\n",
    "x[0,2]  = 12\n",
    "x[1,0] = 6\n",
    "x[0] = 10\n",
    "x[:,2] = (x[:, 2].sum()) /3\n",
    "x"
   ]
  },
  {
   "cell_type": "code",
   "execution_count": 119,
   "metadata": {},
   "outputs": [
    {
     "data": {
      "text/plain": [
       "(432,)"
      ]
     },
     "execution_count": 119,
     "metadata": {},
     "output_type": "execute_result"
    }
   ],
   "source": [
    "taxi_copy = taxi.copy()\n",
    "\n",
    "taxi_copy[:, 1] = 16\n",
    "taxi_copy[:,1]\n",
    "\n",
    "(taxi_copy[:, 5][taxi_copy[:, 5] == 0]) = 1\n",
    "\n",
    "avg_5_mean = taxi[:, 5].mean()\n",
    "\n",
    "taxi_copy[:, 5][taxi_copy[:,5] == 1] = avg_5_mean\n",
    "\n",
    "taxi_copy[:, 5][taxi_copy[:,5] == avg_5_mean].shape"
   ]
  },
  {
   "cell_type": "code",
   "execution_count": 128,
   "metadata": {},
   "outputs": [
    {
     "name": "stdout",
     "output_type": "stream",
     "text": [
      "number of trips for jfk airport is 11832 \n",
      "no of trips for laguardia airport is 16602\n",
      "no newyork airport trips 63 \n"
     ]
    }
   ],
   "source": [
    "jfk = taxi_copy[taxi_copy[:, 6] == 2]\n",
    "print(\"number of trips for jfk airport is %d \"% jfk.shape[0])\n",
    "\n",
    "laguardia = taxi_copy[taxi[:, 6] == 3]\n",
    "print(\"no of trips for laguardia airport is {}\".format(laguardia.shape[0]))\n",
    "\n",
    "\n",
    "newyork_airport_trips = taxi_copy[taxi_copy[:,6] == 5]\n",
    "print(\"no newyork airport trips %d \" % newyork_airport_trips.shape[0])"
   ]
  },
  {
   "cell_type": "code",
   "execution_count": 146,
   "metadata": {},
   "outputs": [
    {
     "data": {
      "text/plain": [
       "array([[1, 2, 3, 1, 2],\n",
       "       [4, 5, 6, 3, 5]])"
      ]
     },
     "execution_count": 146,
     "metadata": {},
     "output_type": "execute_result"
    }
   ],
   "source": [
    "a = np.array([[1, 2, 3], [4, 5, 6]])\n",
    "b = np .array([[1,2], [3,5]])\n",
    "\n",
    "np.concatenate((a,b), axis = 1)"
   ]
  }
 ],
 "metadata": {
  "kernelspec": {
   "display_name": "Python 3",
   "language": "python",
   "name": "python3"
  },
  "language_info": {
   "codemirror_mode": {
    "name": "ipython",
    "version": 3
   },
   "file_extension": ".py",
   "mimetype": "text/x-python",
   "name": "python",
   "nbconvert_exporter": "python",
   "pygments_lexer": "ipython3",
   "version": "3.8.5"
  }
 },
 "nbformat": 4,
 "nbformat_minor": 2
}
