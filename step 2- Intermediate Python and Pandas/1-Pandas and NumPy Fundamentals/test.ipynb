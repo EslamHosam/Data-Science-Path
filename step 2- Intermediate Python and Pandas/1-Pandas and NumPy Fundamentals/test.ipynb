{
 "cells": [
  {
   "cell_type": "markdown",
   "metadata": {},
   "source": [
    "## introduction to numpy\n",
    "\n",
    "- applying the numpy fundamentals on the NYC airport dataset taxi dataset\n",
    "- here the data set columns\n",
    "\n",
    "- pickup_month:  The month of the trip (January is 1, December is 12).\n",
    "- pickup_day:  The day of the month of the trip.\n",
    "- pickup_location_code:  The airport or borough where the trip started.\n",
    "- dropoff_location_code: The airport or borough where the trip finished.\n",
    "- trip_distance: The distance of the trip in miles.\n",
    "- trip_length: The length of the trip in seconds.\n",
    "- fare_amount: The base fare of the trip, in dollars.\n",
    "- total_amount: The total amount charged to the passenger, including all fees, tolls and tips. "
   ]
  },
  {
   "cell_type": "code",
   "execution_count": 1,
   "metadata": {},
   "outputs": [],
   "source": [
    "import numpy as np \n",
    "import csv"
   ]
  },
  {
   "cell_type": "code",
   "execution_count": 2,
   "metadata": {},
   "outputs": [
    {
     "name": "stdout",
     "output_type": "stream",
     "text": [
      "['pickup_year', 'pickup_month', 'pickup_day', 'pickup_dayofweek', 'pickup_time', 'pickup_location_code', 'dropoff_location_code', 'trip_distance', 'trip_length', 'fare_amount', 'fees_amount', 'tolls_amount', 'tip_amount', 'total_amount', 'payment_type']\n"
     ]
    }
   ],
   "source": [
    "#open the dataset using csv module and then convert the dtaset into nd array using numpy \n",
    "\n",
    "opened_file = open(\"nyc_taxis.csv\")\n",
    "file_as_list = list(csv.reader(opened_file))\n",
    "header = file_as_list[0]\n",
    "data = file_as_list[1:]\n",
    "print(header)\n"
   ]
  },
  {
   "cell_type": "code",
   "execution_count": 3,
   "metadata": {},
   "outputs": [
    {
     "data": {
      "text/plain": [
       "array([[5, 5, 5],\n",
       "       [4, 4, 4],\n",
       "       [5, 5, 5]])"
      ]
     },
     "execution_count": 3,
     "metadata": {},
     "output_type": "execute_result"
    }
   ],
   "source": [
    "a = np.zeros((3,3), np.int32)\n",
    "a[a == 0] = 5\n",
    "\n",
    "a[1][a[1 , 2] == 5] = 4\n",
    "a"
   ]
  },
  {
   "cell_type": "code",
   "execution_count": 4,
   "metadata": {},
   "outputs": [
    {
     "name": "stdout",
     "output_type": "stream",
     "text": [
      "[[2.016e+03 1.000e+00 1.000e+00 5.000e+00 0.000e+00 2.000e+00 4.000e+00\n",
      "  2.100e+01 2.037e+03 5.200e+01 8.000e-01 5.540e+00 1.165e+01 6.999e+01\n",
      "  1.000e+00]\n",
      " [2.016e+03 1.000e+00 1.000e+00 5.000e+00 0.000e+00 2.000e+00 1.000e+00\n",
      "  1.629e+01 1.520e+03 4.500e+01 1.300e+00 0.000e+00 8.000e+00 5.430e+01\n",
      "  1.000e+00]\n",
      " [2.016e+03 1.000e+00 1.000e+00 5.000e+00 0.000e+00 2.000e+00 6.000e+00\n",
      "  1.270e+01 1.462e+03 3.650e+01 1.300e+00 0.000e+00 0.000e+00 3.780e+01\n",
      "  2.000e+00]\n",
      " [2.016e+03 1.000e+00 1.000e+00 5.000e+00 0.000e+00 2.000e+00 6.000e+00\n",
      "  8.700e+00 1.210e+03 2.600e+01 1.300e+00 0.000e+00 5.460e+00 3.276e+01\n",
      "  1.000e+00]]\n"
     ]
    }
   ],
   "source": [
    "#before converting the dataset notice that\n",
    "#you need to convert the data from string to numeric values first\n",
    "\n",
    "converted_data = []\n",
    "\n",
    "for row in data:\n",
    "    converted_row = []\n",
    "    for i in row:\n",
    "        i = float(i)\n",
    "        converted_row.append(i)\n",
    "    converted_data.append(converted_row)\n",
    "    \n",
    "#convert the data into numpy 2D array now using the numpy.array() method\n",
    "taxi = np.array(converted_data)\n",
    "#show some rows\n",
    "print(taxi[0:4])"
   ]
  },
  {
   "cell_type": "code",
   "execution_count": 5,
   "metadata": {},
   "outputs": [
    {
     "name": "stdout",
     "output_type": "stream",
     "text": [
      "the type of the data now is:  <class 'numpy.ndarray'>\n",
      "the shape of the matrix is:  (89560, 15)\n",
      "the type of the array elements is :  float64\n"
     ]
    }
   ],
   "source": [
    "# show some information about the dataset\n",
    "print(\"the type of the data now is: \",type(taxi))\n",
    "\n",
    "#print(number of rows and columns)\n",
    "print(\"the shape of the matrix is: \", taxi.shape)\n",
    "print(\"the type of the array elements is : \", taxi.dtype)"
   ]
  },
  {
   "cell_type": "code",
   "execution_count": 6,
   "metadata": {},
   "outputs": [
    {
     "name": "stdout",
     "output_type": "stream",
     "text": [
      "[[5. 0. 2.]\n",
      " [5. 0. 2.]\n",
      " [5. 0. 2.]]\n"
     ]
    }
   ],
   "source": [
    "#show some data elements or 2d array like:\n",
    "print(taxi[0:3 , 3:6])"
   ]
  },
  {
   "cell_type": "code",
   "execution_count": 7,
   "metadata": {},
   "outputs": [
    {
     "name": "stdout",
     "output_type": "stream",
     "text": [
      "some days in the month :  [1. 5. 6.]\n"
     ]
    }
   ],
   "source": [
    "#show some days in the month \n",
    "print(\"some days in the month : \", taxi[[50,2000,2500], 2])"
   ]
  },
  {
   "cell_type": "code",
   "execution_count": 8,
   "metadata": {},
   "outputs": [
    {
     "name": "stdout",
     "output_type": "stream",
     "text": [
      "the pick up year is: [2016. 2016. 2016. ... 2016. 2016. 2016.]\n"
     ]
    }
   ],
   "source": [
    "#if u wanna see the pick up year try this:\n",
    "print(\"the pick up year is:\" , taxi[:, 0])"
   ]
  },
  {
   "cell_type": "code",
   "execution_count": 9,
   "metadata": {},
   "outputs": [
    {
     "name": "stdout",
     "output_type": "stream",
     "text": [
      "the minumum fare amount is : -52.0 it is negative amount it is not good at all we should clean it\n"
     ]
    }
   ],
   "source": [
    "# if u wanna know the minimum fare amount try this:\n",
    "print(\"the minumum fare amount is :\" , taxi[:,9].min() , \"it is negative amount it is not good at all we should clean it\")"
   ]
  },
  {
   "cell_type": "code",
   "execution_count": 10,
   "metadata": {},
   "outputs": [
    {
     "name": "stdout",
     "output_type": "stream",
     "text": [
      "the max values for row [2,3,5] are:  2016.0\n"
     ]
    }
   ],
   "source": [
    "# u can know also yhe maximum amount for some rows in the dataset easily:\n",
    "print(\"the max values for row [2,3,5] are: \", taxi[[2,3,5]].max())"
   ]
  },
  {
   "cell_type": "code",
   "execution_count": 11,
   "metadata": {},
   "outputs": [
    {
     "name": "stdout",
     "output_type": "stream",
     "text": [
      "the length of the dataset is 89560 rows:\n"
     ]
    }
   ],
   "source": [
    "#what is the length of the taxi dataset ? \n",
    "print(\"the length of the dataset is {} rows:\".format(len(taxi)))"
   ]
  },
  {
   "cell_type": "code",
   "execution_count": 12,
   "metadata": {},
   "outputs": [
    {
     "name": "stdout",
     "output_type": "stream",
     "text": [
      "[105924.   68400.   53363.  ... 146744.   37363.5  82128. ] length of the product 89560\n"
     ]
    }
   ],
   "source": [
    "#multiplication for 2 columns:\n",
    "pickup_month = taxi[:, 9]\n",
    "pickup_day = taxi[:,8]\n",
    "\n",
    "product = pickup_month * pickup_day\n",
    "print(product, \"length of the product\", len(product))"
   ]
  },
  {
   "cell_type": "markdown",
   "metadata": {},
   "source": [
    "## calculate the miles per hour for each trip"
   ]
  },
  {
   "cell_type": "code",
   "execution_count": 13,
   "metadata": {},
   "outputs": [
    {
     "name": "stdout",
     "output_type": "stream",
     "text": [
      "[37.11340206 38.58157895 31.27222982 25.88429752 26.3715415 ]\n"
     ]
    }
   ],
   "source": [
    "length_by_hour = taxi[:,8] / 3600\n",
    "miles = taxi[:,7]\n",
    "\n",
    "speed= miles / length_by_hour\n",
    "print(speed[:5])"
   ]
  },
  {
   "cell_type": "code",
   "execution_count": 14,
   "metadata": {},
   "outputs": [
    {
     "name": "stdout",
     "output_type": "stream",
     "text": [
      "the max speed for a trip is:  82800.0\n"
     ]
    }
   ],
   "source": [
    "# max speed out of all trips\n",
    "print(\"the max speed for a trip is: \",speed.max())"
   ]
  },
  {
   "cell_type": "markdown",
   "metadata": {},
   "source": [
    "- here it is impossible speed it faster than the fastest plane on the planet 82800"
   ]
  },
  {
   "cell_type": "markdown",
   "metadata": {},
   "source": [
    "- total amount equals all the amounts of other [9:12] columns"
   ]
  },
  {
   "cell_type": "code",
   "execution_count": 15,
   "metadata": {},
   "outputs": [
    {
     "name": "stdout",
     "output_type": "stream",
     "text": [
      "[69.99 54.3  37.8  32.76 18.8 ]\n",
      "[69.99 54.3  37.8  32.76 18.8 ]\n"
     ]
    }
   ],
   "source": [
    "total_amount = taxi[:, 13]\n",
    "sum_amounts = taxi[:, 9:13].sum(axis = 1)\n",
    "\n",
    "print(total_amount[:5])\n",
    "print(sum_amounts[:5])"
   ]
  },
  {
   "cell_type": "code",
   "execution_count": 16,
   "metadata": {},
   "outputs": [
    {
     "data": {
      "text/plain": [
       "array([0, 1, 2, 3, 4])"
      ]
     },
     "execution_count": 16,
     "metadata": {},
     "output_type": "execute_result"
    }
   ],
   "source": [
    "np.arange(5)"
   ]
  },
  {
   "cell_type": "markdown",
   "metadata": {},
   "source": [
    "### boolean indexing with boolean arrays"
   ]
  },
  {
   "cell_type": "markdown",
   "metadata": {},
   "source": [
    "- open file using numpy"
   ]
  },
  {
   "cell_type": "code",
   "execution_count": 17,
   "metadata": {},
   "outputs": [
    {
     "name": "stdout",
     "output_type": "stream",
     "text": [
      "[2.016e+03 1.000e+00 1.000e+00 5.000e+00 0.000e+00 2.000e+00 4.000e+00\n",
      " 2.100e+01 2.037e+03 5.200e+01 8.000e-01 5.540e+00 1.165e+01 6.999e+01\n",
      " 1.000e+00]\n"
     ]
    }
   ],
   "source": [
    "taxi = np.genfromtxt(\"nyc_taxis.csv\" , delimiter=\",\" , skip_header= 1 )\n",
    "print(taxi[0])"
   ]
  },
  {
   "cell_type": "markdown",
   "metadata": {},
   "source": [
    "- starting boolean indexing"
   ]
  },
  {
   "cell_type": "code",
   "execution_count": 18,
   "metadata": {},
   "outputs": [
    {
     "name": "stdout",
     "output_type": "stream",
     "text": [
      "[False False False False  True  True  True]\n",
      "[20 35 15]\n"
     ]
    }
   ],
   "source": [
    "arr = np.array([1,2,3,5,20,35,15])\n",
    "print(arr > 10)\n",
    "print(arr[arr > 10])"
   ]
  },
  {
   "cell_type": "code",
   "execution_count": 19,
   "metadata": {},
   "outputs": [
    {
     "name": "stdout",
     "output_type": "stream",
     "text": [
      "[1. 1. 1. ... 1. 1. 1.]\n"
     ]
    }
   ],
   "source": [
    "# apply for january month\n",
    "pickup_month = taxi[:,1]\n",
    "cond = pickup_month == 1\n",
    "jan = pickup_month[cond]\n",
    "print(jan)"
   ]
  },
  {
   "cell_type": "code",
   "execution_count": 20,
   "metadata": {},
   "outputs": [
    {
     "name": "stdout",
     "output_type": "stream",
     "text": [
      "[2. 2. 2. ... 2. 2. 2.]\n"
     ]
    }
   ],
   "source": [
    "february = pickup_month[taxi[:,1] == 2]\n",
    "print(february)"
   ]
  },
  {
   "cell_type": "markdown",
   "metadata": {},
   "source": [
    "- calculate the top tips for the tips column"
   ]
  },
  {
   "cell_type": "code",
   "execution_count": 21,
   "metadata": {},
   "outputs": [
    {
     "name": "stdout",
     "output_type": "stream",
     "text": [
      "[ 52.8   60.    59.34  80.    70.    60.    55.    65.    80.    62.\n",
      " 100.    58.    62.    75.7   60.    70.  ]\n"
     ]
    }
   ],
   "source": [
    "tips = taxi[:,12]\n",
    "bool_1 = taxi[:,12] > 50\n",
    "top = tips[bool_1]\n",
    "print(top)"
   ]
  },
  {
   "cell_type": "code",
   "execution_count": 22,
   "metadata": {},
   "outputs": [
    {
     "name": "stdout",
     "output_type": "stream",
     "text": [
      "top fares are \n",
      "  [109.5 122.  117.  112.  114.5 102.  105.5 110.5 110.5 101.5 128.  134.5\n",
      " 102.5 113.  102.5 116.  110.5 119.5 106.5 110.  105.5 113.  115.5 106.5\n",
      " 120.  121.  100.5 130.  123.  110.5 106.5 400.  116.5 125.  157.5 103.\n",
      " 120.5 104.  101.  101.  101.  115.5 129.5 112.  106.  114.5 107.  119.\n",
      " 126.  115.  123.  111.  110.  102.5 110.  126.  112.5 101.5 220.  108.\n",
      " 150.  101.  134.  101.  113.  180.5 104.  129.  107.5 120.  112.  117.5\n",
      " 114.5 116.  117.5 116.5 113.5]\n"
     ]
    }
   ],
   "source": [
    "#top fares \n",
    "print(\"top fares are \\n \", taxi[:,9][taxi[:,9]>100])"
   ]
  },
  {
   "cell_type": "code",
   "execution_count": 23,
   "metadata": {},
   "outputs": [
    {
     "name": "stdout",
     "output_type": "stream",
     "text": [
      "[400.3  453.34 220.3  834.84 286.84]\n"
     ]
    }
   ],
   "source": [
    "#total highest fees\n",
    "total_amount = taxi[:,13]\n",
    "cond = total_amount > 200\n",
    "print(total_amount[cond])"
   ]
  },
  {
   "cell_type": "markdown",
   "metadata": {},
   "source": [
    "### assigning values using boolean indexing"
   ]
  },
  {
   "cell_type": "code",
   "execution_count": 24,
   "metadata": {},
   "outputs": [
    {
     "name": "stdout",
     "output_type": "stream",
     "text": [
      "850.0\n"
     ]
    }
   ],
   "source": [
    "#change the maximum fees to be 850 dollr \n",
    "taxi[:,13][taxi[:,13] == 834.84] = 850\n",
    "print(taxi[:,13].max())"
   ]
  },
  {
   "cell_type": "code",
   "execution_count": 25,
   "metadata": {},
   "outputs": [],
   "source": [
    "x = np.zeros((5,5))\n",
    "x[0,1] = 10\n",
    "x[:2, 3] = 5\n",
    "x[:,2] = [1,5,20,15,2]\n",
    "x[4,0] = 50\n"
   ]
  },
  {
   "cell_type": "code",
   "execution_count": 26,
   "metadata": {},
   "outputs": [
    {
     "data": {
      "text/plain": [
       "array([[ 0., 10.,  1.,  5.,  0.],\n",
       "       [ 0.,  0.,  5.,  5.,  0.],\n",
       "       [ 0.,  0., 20.,  0.,  0.],\n",
       "       [ 0.,  0., 15.,  0.,  0.],\n",
       "       [48.,  0.,  2.,  0.,  0.]])"
      ]
     },
     "execution_count": 26,
     "metadata": {},
     "output_type": "execute_result"
    }
   ],
   "source": [
    "x[x==50] = 48\n",
    "x"
   ]
  },
  {
   "cell_type": "code",
   "execution_count": 27,
   "metadata": {},
   "outputs": [
    {
     "data": {
      "text/plain": [
       "array([0., 0., 0., 0., 0., 0., 0., 0., 0., 0., 0., 0., 0., 0., 0., 0., 0.,\n",
       "       0., 0., 0., 0., 0., 0., 0., 0., 0., 0., 0., 0., 0., 0., 0., 0., 0.,\n",
       "       0., 0., 0., 0., 0., 0., 0.])"
      ]
     },
     "execution_count": 27,
     "metadata": {},
     "output_type": "execute_result"
    }
   ],
   "source": [
    "taxi_copy = taxi.copy()\n",
    "total_amount = taxi_copy[:,13]\n",
    "total_amount[total_amount <0] = 0\n",
    "total_amount[total_amount == 0]"
   ]
  },
  {
   "cell_type": "code",
   "execution_count": 28,
   "metadata": {},
   "outputs": [
    {
     "data": {
      "text/plain": [
       "array([500., 500., 500.])"
      ]
     },
     "execution_count": 28,
     "metadata": {},
     "output_type": "execute_result"
    }
   ],
   "source": [
    "bool_1 = taxi_copy[:,13] > 200\n",
    "taxi_copy[bool_1 , 13] = 500\n",
    "taxi_copy[:,13][taxi[:, 13]>400]"
   ]
  },
  {
   "cell_type": "markdown",
   "metadata": {},
   "source": [
    "- create new columns using boolean indexing"
   ]
  },
  {
   "cell_type": "code",
   "execution_count": 29,
   "metadata": {},
   "outputs": [
    {
     "data": {
      "text/plain": [
       "array([[2.016e+03, 1.000e+00, 1.000e+00, ..., 6.999e+01, 1.000e+00,\n",
       "        0.000e+00],\n",
       "       [2.016e+03, 1.000e+00, 1.000e+00, ..., 5.430e+01, 1.000e+00,\n",
       "        0.000e+00],\n",
       "       [2.016e+03, 1.000e+00, 1.000e+00, ..., 3.780e+01, 2.000e+00,\n",
       "        0.000e+00],\n",
       "       ...,\n",
       "       [2.016e+03, 6.000e+00, 3.000e+01, ..., 6.334e+01, 1.000e+00,\n",
       "        0.000e+00],\n",
       "       [2.016e+03, 6.000e+00, 3.000e+01, ..., 4.475e+01, 1.000e+00,\n",
       "        0.000e+00],\n",
       "       [2.016e+03, 6.000e+00, 3.000e+01, ..., 5.484e+01, 2.000e+00,\n",
       "        0.000e+00]])"
      ]
     },
     "execution_count": 29,
     "metadata": {},
     "output_type": "execute_result"
    }
   ],
   "source": [
    "col = np.zeros((89560, 1))\n",
    "np.concatenate([taxi_copy , col], axis = 1)"
   ]
  },
  {
   "cell_type": "markdown",
   "metadata": {},
   "source": [
    "# introduction to pandas"
   ]
  },
  {
   "cell_type": "markdown",
   "metadata": {},
   "source": [
    "## write the data dictionary first of all"
   ]
  },
  {
   "cell_type": "markdown",
   "metadata": {},
   "source": [
    "# working with pandas"
   ]
  },
  {
   "cell_type": "code",
   "execution_count": 30,
   "metadata": {},
   "outputs": [
    {
     "data": {
      "text/html": [
       "<div>\n",
       "<style scoped>\n",
       "    .dataframe tbody tr th:only-of-type {\n",
       "        vertical-align: middle;\n",
       "    }\n",
       "\n",
       "    .dataframe tbody tr th {\n",
       "        vertical-align: top;\n",
       "    }\n",
       "\n",
       "    .dataframe thead th {\n",
       "        text-align: right;\n",
       "    }\n",
       "</style>\n",
       "<table border=\"1\" class=\"dataframe\">\n",
       "  <thead>\n",
       "    <tr style=\"text-align: right;\">\n",
       "      <th></th>\n",
       "      <th>rank</th>\n",
       "      <th>revenues</th>\n",
       "      <th>revenue_change</th>\n",
       "      <th>profits</th>\n",
       "      <th>assets</th>\n",
       "      <th>profit_change</th>\n",
       "      <th>ceo</th>\n",
       "      <th>industry</th>\n",
       "      <th>sector</th>\n",
       "      <th>previous_rank</th>\n",
       "      <th>country</th>\n",
       "      <th>hq_location</th>\n",
       "      <th>website</th>\n",
       "      <th>years_on_global_500_list</th>\n",
       "      <th>employees</th>\n",
       "      <th>total_stockholder_equity</th>\n",
       "    </tr>\n",
       "    <tr>\n",
       "      <th>company</th>\n",
       "      <th></th>\n",
       "      <th></th>\n",
       "      <th></th>\n",
       "      <th></th>\n",
       "      <th></th>\n",
       "      <th></th>\n",
       "      <th></th>\n",
       "      <th></th>\n",
       "      <th></th>\n",
       "      <th></th>\n",
       "      <th></th>\n",
       "      <th></th>\n",
       "      <th></th>\n",
       "      <th></th>\n",
       "      <th></th>\n",
       "      <th></th>\n",
       "    </tr>\n",
       "  </thead>\n",
       "  <tbody>\n",
       "    <tr>\n",
       "      <td>Walmart</td>\n",
       "      <td>1</td>\n",
       "      <td>485873</td>\n",
       "      <td>0.8</td>\n",
       "      <td>13643.0</td>\n",
       "      <td>198825</td>\n",
       "      <td>-7.2</td>\n",
       "      <td>C. Douglas McMillon</td>\n",
       "      <td>General Merchandisers</td>\n",
       "      <td>Retailing</td>\n",
       "      <td>1</td>\n",
       "      <td>USA</td>\n",
       "      <td>Bentonville, AR</td>\n",
       "      <td>http://www.walmart.com</td>\n",
       "      <td>23</td>\n",
       "      <td>2300000</td>\n",
       "      <td>77798</td>\n",
       "    </tr>\n",
       "    <tr>\n",
       "      <td>State Grid</td>\n",
       "      <td>2</td>\n",
       "      <td>315199</td>\n",
       "      <td>-4.4</td>\n",
       "      <td>9571.3</td>\n",
       "      <td>489838</td>\n",
       "      <td>-6.2</td>\n",
       "      <td>Kou Wei</td>\n",
       "      <td>Utilities</td>\n",
       "      <td>Energy</td>\n",
       "      <td>2</td>\n",
       "      <td>China</td>\n",
       "      <td>Beijing, China</td>\n",
       "      <td>http://www.sgcc.com.cn</td>\n",
       "      <td>17</td>\n",
       "      <td>926067</td>\n",
       "      <td>209456</td>\n",
       "    </tr>\n",
       "    <tr>\n",
       "      <td>Sinopec Group</td>\n",
       "      <td>3</td>\n",
       "      <td>267518</td>\n",
       "      <td>-9.1</td>\n",
       "      <td>1257.9</td>\n",
       "      <td>310726</td>\n",
       "      <td>-65.0</td>\n",
       "      <td>Wang Yupu</td>\n",
       "      <td>Petroleum Refining</td>\n",
       "      <td>Energy</td>\n",
       "      <td>4</td>\n",
       "      <td>China</td>\n",
       "      <td>Beijing, China</td>\n",
       "      <td>http://www.sinopec.com</td>\n",
       "      <td>19</td>\n",
       "      <td>713288</td>\n",
       "      <td>106523</td>\n",
       "    </tr>\n",
       "    <tr>\n",
       "      <td>China National Petroleum</td>\n",
       "      <td>4</td>\n",
       "      <td>262573</td>\n",
       "      <td>-12.3</td>\n",
       "      <td>1867.5</td>\n",
       "      <td>585619</td>\n",
       "      <td>-73.7</td>\n",
       "      <td>Zhang Jianhua</td>\n",
       "      <td>Petroleum Refining</td>\n",
       "      <td>Energy</td>\n",
       "      <td>3</td>\n",
       "      <td>China</td>\n",
       "      <td>Beijing, China</td>\n",
       "      <td>http://www.cnpc.com.cn</td>\n",
       "      <td>17</td>\n",
       "      <td>1512048</td>\n",
       "      <td>301893</td>\n",
       "    </tr>\n",
       "    <tr>\n",
       "      <td>Toyota Motor</td>\n",
       "      <td>5</td>\n",
       "      <td>254694</td>\n",
       "      <td>7.7</td>\n",
       "      <td>16899.3</td>\n",
       "      <td>437575</td>\n",
       "      <td>-12.3</td>\n",
       "      <td>Akio Toyoda</td>\n",
       "      <td>Motor Vehicles and Parts</td>\n",
       "      <td>Motor Vehicles &amp; Parts</td>\n",
       "      <td>8</td>\n",
       "      <td>Japan</td>\n",
       "      <td>Toyota, Japan</td>\n",
       "      <td>http://www.toyota-global.com</td>\n",
       "      <td>23</td>\n",
       "      <td>364445</td>\n",
       "      <td>157210</td>\n",
       "    </tr>\n",
       "  </tbody>\n",
       "</table>\n",
       "</div>"
      ],
      "text/plain": [
       "                          rank  revenues  revenue_change  profits  assets  \\\n",
       "company                                                                     \n",
       "Walmart                      1    485873             0.8  13643.0  198825   \n",
       "State Grid                   2    315199            -4.4   9571.3  489838   \n",
       "Sinopec Group                3    267518            -9.1   1257.9  310726   \n",
       "China National Petroleum     4    262573           -12.3   1867.5  585619   \n",
       "Toyota Motor                 5    254694             7.7  16899.3  437575   \n",
       "\n",
       "                          profit_change                  ceo  \\\n",
       "company                                                        \n",
       "Walmart                            -7.2  C. Douglas McMillon   \n",
       "State Grid                         -6.2              Kou Wei   \n",
       "Sinopec Group                     -65.0            Wang Yupu   \n",
       "China National Petroleum          -73.7        Zhang Jianhua   \n",
       "Toyota Motor                      -12.3          Akio Toyoda   \n",
       "\n",
       "                                          industry                  sector  \\\n",
       "company                                                                      \n",
       "Walmart                      General Merchandisers               Retailing   \n",
       "State Grid                               Utilities                  Energy   \n",
       "Sinopec Group                   Petroleum Refining                  Energy   \n",
       "China National Petroleum        Petroleum Refining                  Energy   \n",
       "Toyota Motor              Motor Vehicles and Parts  Motor Vehicles & Parts   \n",
       "\n",
       "                          previous_rank country      hq_location  \\\n",
       "company                                                            \n",
       "Walmart                               1     USA  Bentonville, AR   \n",
       "State Grid                            2   China   Beijing, China   \n",
       "Sinopec Group                         4   China   Beijing, China   \n",
       "China National Petroleum              3   China   Beijing, China   \n",
       "Toyota Motor                          8   Japan    Toyota, Japan   \n",
       "\n",
       "                                               website  \\\n",
       "company                                                  \n",
       "Walmart                         http://www.walmart.com   \n",
       "State Grid                      http://www.sgcc.com.cn   \n",
       "Sinopec Group                   http://www.sinopec.com   \n",
       "China National Petroleum        http://www.cnpc.com.cn   \n",
       "Toyota Motor              http://www.toyota-global.com   \n",
       "\n",
       "                          years_on_global_500_list  employees  \\\n",
       "company                                                         \n",
       "Walmart                                         23    2300000   \n",
       "State Grid                                      17     926067   \n",
       "Sinopec Group                                   19     713288   \n",
       "China National Petroleum                        17    1512048   \n",
       "Toyota Motor                                    23     364445   \n",
       "\n",
       "                          total_stockholder_equity  \n",
       "company                                             \n",
       "Walmart                                      77798  \n",
       "State Grid                                  209456  \n",
       "Sinopec Group                               106523  \n",
       "China National Petroleum                    301893  \n",
       "Toyota Motor                                157210  "
      ]
     },
     "execution_count": 30,
     "metadata": {},
     "output_type": "execute_result"
    }
   ],
   "source": [
    "import pandas as pd\n",
    "f500 = pd.read_csv(\"f500.csv\" , index_col = 0)\n",
    "f500.head()"
   ]
  },
  {
   "cell_type": "code",
   "execution_count": 31,
   "metadata": {},
   "outputs": [
    {
     "name": "stdout",
     "output_type": "stream",
     "text": [
      "<class 'pandas.core.frame.DataFrame'>\n",
      "Index: 500 entries, Walmart to AutoNation\n",
      "Data columns (total 16 columns):\n",
      "rank                        500 non-null int64\n",
      "revenues                    500 non-null int64\n",
      "revenue_change              498 non-null float64\n",
      "profits                     499 non-null float64\n",
      "assets                      500 non-null int64\n",
      "profit_change               436 non-null float64\n",
      "ceo                         500 non-null object\n",
      "industry                    500 non-null object\n",
      "sector                      500 non-null object\n",
      "previous_rank               500 non-null int64\n",
      "country                     500 non-null object\n",
      "hq_location                 500 non-null object\n",
      "website                     500 non-null object\n",
      "years_on_global_500_list    500 non-null int64\n",
      "employees                   500 non-null int64\n",
      "total_stockholder_equity    500 non-null int64\n",
      "dtypes: float64(3), int64(7), object(6)\n",
      "memory usage: 66.4+ KB\n"
     ]
    }
   ],
   "source": [
    "f500.info()"
   ]
  },
  {
   "cell_type": "code",
   "execution_count": 32,
   "metadata": {},
   "outputs": [
    {
     "data": {
      "text/html": [
       "<div>\n",
       "<style scoped>\n",
       "    .dataframe tbody tr th:only-of-type {\n",
       "        vertical-align: middle;\n",
       "    }\n",
       "\n",
       "    .dataframe tbody tr th {\n",
       "        vertical-align: top;\n",
       "    }\n",
       "\n",
       "    .dataframe thead th {\n",
       "        text-align: right;\n",
       "    }\n",
       "</style>\n",
       "<table border=\"1\" class=\"dataframe\">\n",
       "  <thead>\n",
       "    <tr style=\"text-align: right;\">\n",
       "      <th></th>\n",
       "      <th>ceo</th>\n",
       "      <th>industry</th>\n",
       "      <th>sector</th>\n",
       "      <th>country</th>\n",
       "      <th>hq_location</th>\n",
       "      <th>website</th>\n",
       "    </tr>\n",
       "  </thead>\n",
       "  <tbody>\n",
       "    <tr>\n",
       "      <td>count</td>\n",
       "      <td>500</td>\n",
       "      <td>500</td>\n",
       "      <td>500</td>\n",
       "      <td>500</td>\n",
       "      <td>500</td>\n",
       "      <td>500</td>\n",
       "    </tr>\n",
       "    <tr>\n",
       "      <td>unique</td>\n",
       "      <td>500</td>\n",
       "      <td>58</td>\n",
       "      <td>21</td>\n",
       "      <td>34</td>\n",
       "      <td>235</td>\n",
       "      <td>500</td>\n",
       "    </tr>\n",
       "    <tr>\n",
       "      <td>top</td>\n",
       "      <td>Matthias Muller</td>\n",
       "      <td>Banks: Commercial and Savings</td>\n",
       "      <td>Financials</td>\n",
       "      <td>USA</td>\n",
       "      <td>Beijing, China</td>\n",
       "      <td>http://www.commbank.com.au</td>\n",
       "    </tr>\n",
       "    <tr>\n",
       "      <td>freq</td>\n",
       "      <td>1</td>\n",
       "      <td>51</td>\n",
       "      <td>118</td>\n",
       "      <td>132</td>\n",
       "      <td>56</td>\n",
       "      <td>1</td>\n",
       "    </tr>\n",
       "  </tbody>\n",
       "</table>\n",
       "</div>"
      ],
      "text/plain": [
       "                    ceo                       industry      sector country  \\\n",
       "count               500                            500         500     500   \n",
       "unique              500                             58          21      34   \n",
       "top     Matthias Muller  Banks: Commercial and Savings  Financials     USA   \n",
       "freq                  1                             51         118     132   \n",
       "\n",
       "           hq_location                     website  \n",
       "count              500                         500  \n",
       "unique             235                         500  \n",
       "top     Beijing, China  http://www.commbank.com.au  \n",
       "freq                56                           1  "
      ]
     },
     "execution_count": 32,
     "metadata": {},
     "output_type": "execute_result"
    }
   ],
   "source": [
    "f500.describe(include = \"O\")"
   ]
  },
  {
   "cell_type": "code",
   "execution_count": 33,
   "metadata": {},
   "outputs": [
    {
     "data": {
      "text/plain": [
       "(500, 16)"
      ]
     },
     "execution_count": 33,
     "metadata": {},
     "output_type": "execute_result"
    }
   ],
   "source": [
    "f500.shape"
   ]
  },
  {
   "cell_type": "code",
   "execution_count": 34,
   "metadata": {},
   "outputs": [
    {
     "data": {
      "text/html": [
       "<div>\n",
       "<style scoped>\n",
       "    .dataframe tbody tr th:only-of-type {\n",
       "        vertical-align: middle;\n",
       "    }\n",
       "\n",
       "    .dataframe tbody tr th {\n",
       "        vertical-align: top;\n",
       "    }\n",
       "\n",
       "    .dataframe thead th {\n",
       "        text-align: right;\n",
       "    }\n",
       "</style>\n",
       "<table border=\"1\" class=\"dataframe\">\n",
       "  <thead>\n",
       "    <tr style=\"text-align: right;\">\n",
       "      <th></th>\n",
       "      <th>rank</th>\n",
       "      <th>revenues</th>\n",
       "      <th>revenue_change</th>\n",
       "      <th>profits</th>\n",
       "      <th>assets</th>\n",
       "      <th>profit_change</th>\n",
       "      <th>ceo</th>\n",
       "      <th>industry</th>\n",
       "      <th>sector</th>\n",
       "      <th>previous_rank</th>\n",
       "      <th>country</th>\n",
       "      <th>hq_location</th>\n",
       "      <th>website</th>\n",
       "      <th>years_on_global_500_list</th>\n",
       "      <th>employees</th>\n",
       "      <th>total_stockholder_equity</th>\n",
       "    </tr>\n",
       "    <tr>\n",
       "      <th>company</th>\n",
       "      <th></th>\n",
       "      <th></th>\n",
       "      <th></th>\n",
       "      <th></th>\n",
       "      <th></th>\n",
       "      <th></th>\n",
       "      <th></th>\n",
       "      <th></th>\n",
       "      <th></th>\n",
       "      <th></th>\n",
       "      <th></th>\n",
       "      <th></th>\n",
       "      <th></th>\n",
       "      <th></th>\n",
       "      <th></th>\n",
       "      <th></th>\n",
       "    </tr>\n",
       "  </thead>\n",
       "  <tbody>\n",
       "    <tr>\n",
       "      <td>Wm. Morrison Supermarkets</td>\n",
       "      <td>498</td>\n",
       "      <td>21741</td>\n",
       "      <td>-11.3</td>\n",
       "      <td>406.4</td>\n",
       "      <td>11630</td>\n",
       "      <td>20.4</td>\n",
       "      <td>David T. Potts</td>\n",
       "      <td>Food and Drug Stores</td>\n",
       "      <td>Food &amp; Drug Stores</td>\n",
       "      <td>437</td>\n",
       "      <td>Britain</td>\n",
       "      <td>Bradford, Britain</td>\n",
       "      <td>http://www.morrisons.com</td>\n",
       "      <td>13</td>\n",
       "      <td>77210</td>\n",
       "      <td>5111</td>\n",
       "    </tr>\n",
       "    <tr>\n",
       "      <td>TUI</td>\n",
       "      <td>499</td>\n",
       "      <td>21655</td>\n",
       "      <td>-5.5</td>\n",
       "      <td>1151.7</td>\n",
       "      <td>16247</td>\n",
       "      <td>195.5</td>\n",
       "      <td>Friedrich Joussen</td>\n",
       "      <td>Travel Services</td>\n",
       "      <td>Business Services</td>\n",
       "      <td>467</td>\n",
       "      <td>Germany</td>\n",
       "      <td>Hanover, Germany</td>\n",
       "      <td>http://www.tuigroup.com</td>\n",
       "      <td>23</td>\n",
       "      <td>66779</td>\n",
       "      <td>3006</td>\n",
       "    </tr>\n",
       "    <tr>\n",
       "      <td>AutoNation</td>\n",
       "      <td>500</td>\n",
       "      <td>21609</td>\n",
       "      <td>3.6</td>\n",
       "      <td>430.5</td>\n",
       "      <td>10060</td>\n",
       "      <td>-2.7</td>\n",
       "      <td>Michael J. Jackson</td>\n",
       "      <td>Specialty Retailers</td>\n",
       "      <td>Retailing</td>\n",
       "      <td>0</td>\n",
       "      <td>USA</td>\n",
       "      <td>Fort Lauderdale, FL</td>\n",
       "      <td>http://www.autonation.com</td>\n",
       "      <td>12</td>\n",
       "      <td>26000</td>\n",
       "      <td>2310</td>\n",
       "    </tr>\n",
       "  </tbody>\n",
       "</table>\n",
       "</div>"
      ],
      "text/plain": [
       "                           rank  revenues  revenue_change  profits  assets  \\\n",
       "company                                                                      \n",
       "Wm. Morrison Supermarkets   498     21741           -11.3    406.4   11630   \n",
       "TUI                         499     21655            -5.5   1151.7   16247   \n",
       "AutoNation                  500     21609             3.6    430.5   10060   \n",
       "\n",
       "                           profit_change                 ceo  \\\n",
       "company                                                        \n",
       "Wm. Morrison Supermarkets           20.4      David T. Potts   \n",
       "TUI                                195.5   Friedrich Joussen   \n",
       "AutoNation                          -2.7  Michael J. Jackson   \n",
       "\n",
       "                                       industry              sector  \\\n",
       "company                                                               \n",
       "Wm. Morrison Supermarkets  Food and Drug Stores  Food & Drug Stores   \n",
       "TUI                             Travel Services   Business Services   \n",
       "AutoNation                  Specialty Retailers           Retailing   \n",
       "\n",
       "                           previous_rank  country          hq_location  \\\n",
       "company                                                                  \n",
       "Wm. Morrison Supermarkets            437  Britain    Bradford, Britain   \n",
       "TUI                                  467  Germany     Hanover, Germany   \n",
       "AutoNation                             0      USA  Fort Lauderdale, FL   \n",
       "\n",
       "                                             website  \\\n",
       "company                                                \n",
       "Wm. Morrison Supermarkets   http://www.morrisons.com   \n",
       "TUI                          http://www.tuigroup.com   \n",
       "AutoNation                 http://www.autonation.com   \n",
       "\n",
       "                           years_on_global_500_list  employees  \\\n",
       "company                                                          \n",
       "Wm. Morrison Supermarkets                        13      77210   \n",
       "TUI                                              23      66779   \n",
       "AutoNation                                       12      26000   \n",
       "\n",
       "                           total_stockholder_equity  \n",
       "company                                              \n",
       "Wm. Morrison Supermarkets                      5111  \n",
       "TUI                                            3006  \n",
       "AutoNation                                     2310  "
      ]
     },
     "execution_count": 34,
     "metadata": {},
     "output_type": "execute_result"
    }
   ],
   "source": [
    "f500.tail(3)"
   ]
  },
  {
   "cell_type": "code",
   "execution_count": 35,
   "metadata": {},
   "outputs": [
    {
     "data": {
      "text/plain": [
       "rank                          int64\n",
       "revenues                      int64\n",
       "revenue_change              float64\n",
       "profits                     float64\n",
       "assets                        int64\n",
       "profit_change               float64\n",
       "ceo                          object\n",
       "industry                     object\n",
       "sector                       object\n",
       "previous_rank                 int64\n",
       "country                      object\n",
       "hq_location                  object\n",
       "website                      object\n",
       "years_on_global_500_list      int64\n",
       "employees                     int64\n",
       "total_stockholder_equity      int64\n",
       "dtype: object"
      ]
     },
     "execution_count": 35,
     "metadata": {},
     "output_type": "execute_result"
    }
   ],
   "source": [
    "f500.dtypes"
   ]
  },
  {
   "cell_type": "code",
   "execution_count": 36,
   "metadata": {},
   "outputs": [
    {
     "data": {
      "text/plain": [
       "dtype('float64')"
      ]
     },
     "execution_count": 36,
     "metadata": {},
     "output_type": "execute_result"
    }
   ],
   "source": [
    "f500.dtypes[\"profits\"]"
   ]
  },
  {
   "cell_type": "code",
   "execution_count": 37,
   "metadata": {},
   "outputs": [
    {
     "data": {
      "text/plain": [
       "rank                                             1\n",
       "revenues                                    485873\n",
       "revenue_change                                 0.8\n",
       "profits                                      13643\n",
       "assets                                      198825\n",
       "profit_change                                 -7.2\n",
       "ceo                            C. Douglas McMillon\n",
       "industry                     General Merchandisers\n",
       "sector                                   Retailing\n",
       "previous_rank                                    1\n",
       "country                                        USA\n",
       "hq_location                        Bentonville, AR\n",
       "website                     http://www.walmart.com\n",
       "years_on_global_500_list                        23\n",
       "employees                                  2300000\n",
       "total_stockholder_equity                     77798\n",
       "Name: Walmart, dtype: object"
      ]
     },
     "execution_count": 37,
     "metadata": {},
     "output_type": "execute_result"
    }
   ],
   "source": [
    "#select rows\n",
    "f_row = f500.loc[\"Walmart\"]\n",
    "f_row"
   ]
  },
  {
   "cell_type": "code",
   "execution_count": 38,
   "metadata": {},
   "outputs": [
    {
     "data": {
      "text/plain": [
       "rank                                             1\n",
       "revenues                                    485873\n",
       "revenue_change                                 0.8\n",
       "profits                                      13643\n",
       "assets                                      198825\n",
       "profit_change                                 -7.2\n",
       "ceo                            C. Douglas McMillon\n",
       "industry                     General Merchandisers\n",
       "sector                                   Retailing\n",
       "previous_rank                                    1\n",
       "country                                        USA\n",
       "hq_location                        Bentonville, AR\n",
       "website                     http://www.walmart.com\n",
       "years_on_global_500_list                        23\n",
       "employees                                  2300000\n",
       "total_stockholder_equity                     77798\n",
       "Name: Walmart, dtype: object"
      ]
     },
     "execution_count": 38,
     "metadata": {},
     "output_type": "execute_result"
    }
   ],
   "source": [
    "f500.iloc[0]"
   ]
  },
  {
   "cell_type": "code",
   "execution_count": 39,
   "metadata": {},
   "outputs": [
    {
     "data": {
      "text/html": [
       "<div>\n",
       "<style scoped>\n",
       "    .dataframe tbody tr th:only-of-type {\n",
       "        vertical-align: middle;\n",
       "    }\n",
       "\n",
       "    .dataframe tbody tr th {\n",
       "        vertical-align: top;\n",
       "    }\n",
       "\n",
       "    .dataframe thead th {\n",
       "        text-align: right;\n",
       "    }\n",
       "</style>\n",
       "<table border=\"1\" class=\"dataframe\">\n",
       "  <thead>\n",
       "    <tr style=\"text-align: right;\">\n",
       "      <th></th>\n",
       "      <th>rank</th>\n",
       "      <th>revenues</th>\n",
       "      <th>revenue_change</th>\n",
       "      <th>profits</th>\n",
       "      <th>assets</th>\n",
       "      <th>profit_change</th>\n",
       "      <th>ceo</th>\n",
       "      <th>industry</th>\n",
       "      <th>sector</th>\n",
       "      <th>previous_rank</th>\n",
       "      <th>country</th>\n",
       "      <th>hq_location</th>\n",
       "      <th>website</th>\n",
       "      <th>years_on_global_500_list</th>\n",
       "      <th>employees</th>\n",
       "      <th>total_stockholder_equity</th>\n",
       "    </tr>\n",
       "    <tr>\n",
       "      <th>company</th>\n",
       "      <th></th>\n",
       "      <th></th>\n",
       "      <th></th>\n",
       "      <th></th>\n",
       "      <th></th>\n",
       "      <th></th>\n",
       "      <th></th>\n",
       "      <th></th>\n",
       "      <th></th>\n",
       "      <th></th>\n",
       "      <th></th>\n",
       "      <th></th>\n",
       "      <th></th>\n",
       "      <th></th>\n",
       "      <th></th>\n",
       "      <th></th>\n",
       "    </tr>\n",
       "  </thead>\n",
       "  <tbody>\n",
       "    <tr>\n",
       "      <td>Walmart</td>\n",
       "      <td>1</td>\n",
       "      <td>485873</td>\n",
       "      <td>0.8</td>\n",
       "      <td>13643.0</td>\n",
       "      <td>198825</td>\n",
       "      <td>-7.2</td>\n",
       "      <td>C. Douglas McMillon</td>\n",
       "      <td>General Merchandisers</td>\n",
       "      <td>Retailing</td>\n",
       "      <td>1</td>\n",
       "      <td>USA</td>\n",
       "      <td>Bentonville, AR</td>\n",
       "      <td>http://www.walmart.com</td>\n",
       "      <td>23</td>\n",
       "      <td>2300000</td>\n",
       "      <td>77798</td>\n",
       "    </tr>\n",
       "    <tr>\n",
       "      <td>State Grid</td>\n",
       "      <td>2</td>\n",
       "      <td>315199</td>\n",
       "      <td>-4.4</td>\n",
       "      <td>9571.3</td>\n",
       "      <td>489838</td>\n",
       "      <td>-6.2</td>\n",
       "      <td>Kou Wei</td>\n",
       "      <td>Utilities</td>\n",
       "      <td>Energy</td>\n",
       "      <td>2</td>\n",
       "      <td>China</td>\n",
       "      <td>Beijing, China</td>\n",
       "      <td>http://www.sgcc.com.cn</td>\n",
       "      <td>17</td>\n",
       "      <td>926067</td>\n",
       "      <td>209456</td>\n",
       "    </tr>\n",
       "  </tbody>\n",
       "</table>\n",
       "</div>"
      ],
      "text/plain": [
       "            rank  revenues  revenue_change  profits  assets  profit_change  \\\n",
       "company                                                                      \n",
       "Walmart        1    485873             0.8  13643.0  198825           -7.2   \n",
       "State Grid     2    315199            -4.4   9571.3  489838           -6.2   \n",
       "\n",
       "                            ceo               industry     sector  \\\n",
       "company                                                             \n",
       "Walmart     C. Douglas McMillon  General Merchandisers  Retailing   \n",
       "State Grid              Kou Wei              Utilities     Energy   \n",
       "\n",
       "            previous_rank country      hq_location                 website  \\\n",
       "company                                                                      \n",
       "Walmart                 1     USA  Bentonville, AR  http://www.walmart.com   \n",
       "State Grid              2   China   Beijing, China  http://www.sgcc.com.cn   \n",
       "\n",
       "            years_on_global_500_list  employees  total_stockholder_equity  \n",
       "company                                                                    \n",
       "Walmart                           23    2300000                     77798  \n",
       "State Grid                        17     926067                    209456  "
      ]
     },
     "execution_count": 39,
     "metadata": {},
     "output_type": "execute_result"
    }
   ],
   "source": [
    "f500.loc['Walmart': \"State Grid\"]"
   ]
  },
  {
   "cell_type": "code",
   "execution_count": 40,
   "metadata": {},
   "outputs": [
    {
     "data": {
      "text/html": [
       "<div>\n",
       "<style scoped>\n",
       "    .dataframe tbody tr th:only-of-type {\n",
       "        vertical-align: middle;\n",
       "    }\n",
       "\n",
       "    .dataframe tbody tr th {\n",
       "        vertical-align: top;\n",
       "    }\n",
       "\n",
       "    .dataframe thead th {\n",
       "        text-align: right;\n",
       "    }\n",
       "</style>\n",
       "<table border=\"1\" class=\"dataframe\">\n",
       "  <thead>\n",
       "    <tr style=\"text-align: right;\">\n",
       "      <th></th>\n",
       "      <th>rank</th>\n",
       "      <th>revenues</th>\n",
       "      <th>revenue_change</th>\n",
       "      <th>profits</th>\n",
       "      <th>assets</th>\n",
       "      <th>profit_change</th>\n",
       "      <th>ceo</th>\n",
       "      <th>industry</th>\n",
       "      <th>sector</th>\n",
       "      <th>previous_rank</th>\n",
       "      <th>country</th>\n",
       "      <th>hq_location</th>\n",
       "      <th>website</th>\n",
       "      <th>years_on_global_500_list</th>\n",
       "      <th>employees</th>\n",
       "      <th>total_stockholder_equity</th>\n",
       "    </tr>\n",
       "    <tr>\n",
       "      <th>company</th>\n",
       "      <th></th>\n",
       "      <th></th>\n",
       "      <th></th>\n",
       "      <th></th>\n",
       "      <th></th>\n",
       "      <th></th>\n",
       "      <th></th>\n",
       "      <th></th>\n",
       "      <th></th>\n",
       "      <th></th>\n",
       "      <th></th>\n",
       "      <th></th>\n",
       "      <th></th>\n",
       "      <th></th>\n",
       "      <th></th>\n",
       "      <th></th>\n",
       "    </tr>\n",
       "  </thead>\n",
       "  <tbody>\n",
       "    <tr>\n",
       "      <td>Walmart</td>\n",
       "      <td>1</td>\n",
       "      <td>485873</td>\n",
       "      <td>0.8</td>\n",
       "      <td>13643.0</td>\n",
       "      <td>198825</td>\n",
       "      <td>-7.2</td>\n",
       "      <td>C. Douglas McMillon</td>\n",
       "      <td>General Merchandisers</td>\n",
       "      <td>Retailing</td>\n",
       "      <td>1</td>\n",
       "      <td>USA</td>\n",
       "      <td>Bentonville, AR</td>\n",
       "      <td>http://www.walmart.com</td>\n",
       "      <td>23</td>\n",
       "      <td>2300000</td>\n",
       "      <td>77798</td>\n",
       "    </tr>\n",
       "  </tbody>\n",
       "</table>\n",
       "</div>"
      ],
      "text/plain": [
       "         rank  revenues  revenue_change  profits  assets  profit_change  \\\n",
       "company                                                                   \n",
       "Walmart     1    485873             0.8  13643.0  198825           -7.2   \n",
       "\n",
       "                         ceo               industry     sector  previous_rank  \\\n",
       "company                                                                         \n",
       "Walmart  C. Douglas McMillon  General Merchandisers  Retailing              1   \n",
       "\n",
       "        country      hq_location                 website  \\\n",
       "company                                                    \n",
       "Walmart     USA  Bentonville, AR  http://www.walmart.com   \n",
       "\n",
       "         years_on_global_500_list  employees  total_stockholder_equity  \n",
       "company                                                                 \n",
       "Walmart                        23    2300000                     77798  "
      ]
     },
     "execution_count": 40,
     "metadata": {},
     "output_type": "execute_result"
    }
   ],
   "source": [
    "f500.iloc[0:1]"
   ]
  },
  {
   "cell_type": "code",
   "execution_count": 41,
   "metadata": {},
   "outputs": [
    {
     "data": {
      "text/html": [
       "<div>\n",
       "<style scoped>\n",
       "    .dataframe tbody tr th:only-of-type {\n",
       "        vertical-align: middle;\n",
       "    }\n",
       "\n",
       "    .dataframe tbody tr th {\n",
       "        vertical-align: top;\n",
       "    }\n",
       "\n",
       "    .dataframe thead th {\n",
       "        text-align: right;\n",
       "    }\n",
       "</style>\n",
       "<table border=\"1\" class=\"dataframe\">\n",
       "  <thead>\n",
       "    <tr style=\"text-align: right;\">\n",
       "      <th></th>\n",
       "      <th>ceo</th>\n",
       "      <th>industry</th>\n",
       "      <th>sector</th>\n",
       "      <th>previous_rank</th>\n",
       "      <th>country</th>\n",
       "      <th>hq_location</th>\n",
       "      <th>website</th>\n",
       "      <th>years_on_global_500_list</th>\n",
       "      <th>employees</th>\n",
       "      <th>total_stockholder_equity</th>\n",
       "    </tr>\n",
       "    <tr>\n",
       "      <th>company</th>\n",
       "      <th></th>\n",
       "      <th></th>\n",
       "      <th></th>\n",
       "      <th></th>\n",
       "      <th></th>\n",
       "      <th></th>\n",
       "      <th></th>\n",
       "      <th></th>\n",
       "      <th></th>\n",
       "      <th></th>\n",
       "    </tr>\n",
       "  </thead>\n",
       "  <tbody>\n",
       "    <tr>\n",
       "      <td>Walmart</td>\n",
       "      <td>C. Douglas McMillon</td>\n",
       "      <td>General Merchandisers</td>\n",
       "      <td>Retailing</td>\n",
       "      <td>1</td>\n",
       "      <td>USA</td>\n",
       "      <td>Bentonville, AR</td>\n",
       "      <td>http://www.walmart.com</td>\n",
       "      <td>23</td>\n",
       "      <td>2300000</td>\n",
       "      <td>77798</td>\n",
       "    </tr>\n",
       "    <tr>\n",
       "      <td>State Grid</td>\n",
       "      <td>Kou Wei</td>\n",
       "      <td>Utilities</td>\n",
       "      <td>Energy</td>\n",
       "      <td>2</td>\n",
       "      <td>China</td>\n",
       "      <td>Beijing, China</td>\n",
       "      <td>http://www.sgcc.com.cn</td>\n",
       "      <td>17</td>\n",
       "      <td>926067</td>\n",
       "      <td>209456</td>\n",
       "    </tr>\n",
       "    <tr>\n",
       "      <td>Sinopec Group</td>\n",
       "      <td>Wang Yupu</td>\n",
       "      <td>Petroleum Refining</td>\n",
       "      <td>Energy</td>\n",
       "      <td>4</td>\n",
       "      <td>China</td>\n",
       "      <td>Beijing, China</td>\n",
       "      <td>http://www.sinopec.com</td>\n",
       "      <td>19</td>\n",
       "      <td>713288</td>\n",
       "      <td>106523</td>\n",
       "    </tr>\n",
       "    <tr>\n",
       "      <td>China National Petroleum</td>\n",
       "      <td>Zhang Jianhua</td>\n",
       "      <td>Petroleum Refining</td>\n",
       "      <td>Energy</td>\n",
       "      <td>3</td>\n",
       "      <td>China</td>\n",
       "      <td>Beijing, China</td>\n",
       "      <td>http://www.cnpc.com.cn</td>\n",
       "      <td>17</td>\n",
       "      <td>1512048</td>\n",
       "      <td>301893</td>\n",
       "    </tr>\n",
       "    <tr>\n",
       "      <td>Toyota Motor</td>\n",
       "      <td>Akio Toyoda</td>\n",
       "      <td>Motor Vehicles and Parts</td>\n",
       "      <td>Motor Vehicles &amp; Parts</td>\n",
       "      <td>8</td>\n",
       "      <td>Japan</td>\n",
       "      <td>Toyota, Japan</td>\n",
       "      <td>http://www.toyota-global.com</td>\n",
       "      <td>23</td>\n",
       "      <td>364445</td>\n",
       "      <td>157210</td>\n",
       "    </tr>\n",
       "    <tr>\n",
       "      <td>...</td>\n",
       "      <td>...</td>\n",
       "      <td>...</td>\n",
       "      <td>...</td>\n",
       "      <td>...</td>\n",
       "      <td>...</td>\n",
       "      <td>...</td>\n",
       "      <td>...</td>\n",
       "      <td>...</td>\n",
       "      <td>...</td>\n",
       "      <td>...</td>\n",
       "    </tr>\n",
       "    <tr>\n",
       "      <td>Teva Pharmaceutical Industries</td>\n",
       "      <td>Yitzhak Peterburg</td>\n",
       "      <td>Pharmaceuticals</td>\n",
       "      <td>Health Care</td>\n",
       "      <td>0</td>\n",
       "      <td>Israel</td>\n",
       "      <td>Petach Tikva, Israel</td>\n",
       "      <td>http://www.tevapharm.com</td>\n",
       "      <td>1</td>\n",
       "      <td>56960</td>\n",
       "      <td>33337</td>\n",
       "    </tr>\n",
       "    <tr>\n",
       "      <td>New China Life Insurance</td>\n",
       "      <td>Wan Feng</td>\n",
       "      <td>Insurance: Life, Health (stock)</td>\n",
       "      <td>Financials</td>\n",
       "      <td>427</td>\n",
       "      <td>China</td>\n",
       "      <td>Beijing, China</td>\n",
       "      <td>http://www.newchinalife.com</td>\n",
       "      <td>2</td>\n",
       "      <td>54378</td>\n",
       "      <td>8507</td>\n",
       "    </tr>\n",
       "    <tr>\n",
       "      <td>Wm. Morrison Supermarkets</td>\n",
       "      <td>David T. Potts</td>\n",
       "      <td>Food and Drug Stores</td>\n",
       "      <td>Food &amp; Drug Stores</td>\n",
       "      <td>437</td>\n",
       "      <td>Britain</td>\n",
       "      <td>Bradford, Britain</td>\n",
       "      <td>http://www.morrisons.com</td>\n",
       "      <td>13</td>\n",
       "      <td>77210</td>\n",
       "      <td>5111</td>\n",
       "    </tr>\n",
       "    <tr>\n",
       "      <td>TUI</td>\n",
       "      <td>Friedrich Joussen</td>\n",
       "      <td>Travel Services</td>\n",
       "      <td>Business Services</td>\n",
       "      <td>467</td>\n",
       "      <td>Germany</td>\n",
       "      <td>Hanover, Germany</td>\n",
       "      <td>http://www.tuigroup.com</td>\n",
       "      <td>23</td>\n",
       "      <td>66779</td>\n",
       "      <td>3006</td>\n",
       "    </tr>\n",
       "    <tr>\n",
       "      <td>AutoNation</td>\n",
       "      <td>Michael J. Jackson</td>\n",
       "      <td>Specialty Retailers</td>\n",
       "      <td>Retailing</td>\n",
       "      <td>0</td>\n",
       "      <td>USA</td>\n",
       "      <td>Fort Lauderdale, FL</td>\n",
       "      <td>http://www.autonation.com</td>\n",
       "      <td>12</td>\n",
       "      <td>26000</td>\n",
       "      <td>2310</td>\n",
       "    </tr>\n",
       "  </tbody>\n",
       "</table>\n",
       "<p>500 rows × 10 columns</p>\n",
       "</div>"
      ],
      "text/plain": [
       "                                                ceo  \\\n",
       "company                                               \n",
       "Walmart                         C. Douglas McMillon   \n",
       "State Grid                                  Kou Wei   \n",
       "Sinopec Group                             Wang Yupu   \n",
       "China National Petroleum              Zhang Jianhua   \n",
       "Toyota Motor                            Akio Toyoda   \n",
       "...                                             ...   \n",
       "Teva Pharmaceutical Industries    Yitzhak Peterburg   \n",
       "New China Life Insurance                   Wan Feng   \n",
       "Wm. Morrison Supermarkets            David T. Potts   \n",
       "TUI                               Friedrich Joussen   \n",
       "AutoNation                       Michael J. Jackson   \n",
       "\n",
       "                                                       industry  \\\n",
       "company                                                           \n",
       "Walmart                                   General Merchandisers   \n",
       "State Grid                                            Utilities   \n",
       "Sinopec Group                                Petroleum Refining   \n",
       "China National Petroleum                     Petroleum Refining   \n",
       "Toyota Motor                           Motor Vehicles and Parts   \n",
       "...                                                         ...   \n",
       "Teva Pharmaceutical Industries                  Pharmaceuticals   \n",
       "New China Life Insurance        Insurance: Life, Health (stock)   \n",
       "Wm. Morrison Supermarkets                  Food and Drug Stores   \n",
       "TUI                                             Travel Services   \n",
       "AutoNation                                  Specialty Retailers   \n",
       "\n",
       "                                                sector  previous_rank  \\\n",
       "company                                                                 \n",
       "Walmart                                      Retailing              1   \n",
       "State Grid                                      Energy              2   \n",
       "Sinopec Group                                   Energy              4   \n",
       "China National Petroleum                        Energy              3   \n",
       "Toyota Motor                    Motor Vehicles & Parts              8   \n",
       "...                                                ...            ...   \n",
       "Teva Pharmaceutical Industries             Health Care              0   \n",
       "New China Life Insurance                    Financials            427   \n",
       "Wm. Morrison Supermarkets           Food & Drug Stores            437   \n",
       "TUI                                  Business Services            467   \n",
       "AutoNation                                   Retailing              0   \n",
       "\n",
       "                                country           hq_location  \\\n",
       "company                                                         \n",
       "Walmart                             USA       Bentonville, AR   \n",
       "State Grid                        China        Beijing, China   \n",
       "Sinopec Group                     China        Beijing, China   \n",
       "China National Petroleum          China        Beijing, China   \n",
       "Toyota Motor                      Japan         Toyota, Japan   \n",
       "...                                 ...                   ...   \n",
       "Teva Pharmaceutical Industries   Israel  Petach Tikva, Israel   \n",
       "New China Life Insurance          China        Beijing, China   \n",
       "Wm. Morrison Supermarkets       Britain     Bradford, Britain   \n",
       "TUI                             Germany      Hanover, Germany   \n",
       "AutoNation                          USA   Fort Lauderdale, FL   \n",
       "\n",
       "                                                     website  \\\n",
       "company                                                        \n",
       "Walmart                               http://www.walmart.com   \n",
       "State Grid                            http://www.sgcc.com.cn   \n",
       "Sinopec Group                         http://www.sinopec.com   \n",
       "China National Petroleum              http://www.cnpc.com.cn   \n",
       "Toyota Motor                    http://www.toyota-global.com   \n",
       "...                                                      ...   \n",
       "Teva Pharmaceutical Industries      http://www.tevapharm.com   \n",
       "New China Life Insurance         http://www.newchinalife.com   \n",
       "Wm. Morrison Supermarkets           http://www.morrisons.com   \n",
       "TUI                                  http://www.tuigroup.com   \n",
       "AutoNation                         http://www.autonation.com   \n",
       "\n",
       "                                years_on_global_500_list  employees  \\\n",
       "company                                                               \n",
       "Walmart                                               23    2300000   \n",
       "State Grid                                            17     926067   \n",
       "Sinopec Group                                         19     713288   \n",
       "China National Petroleum                              17    1512048   \n",
       "Toyota Motor                                          23     364445   \n",
       "...                                                  ...        ...   \n",
       "Teva Pharmaceutical Industries                         1      56960   \n",
       "New China Life Insurance                               2      54378   \n",
       "Wm. Morrison Supermarkets                             13      77210   \n",
       "TUI                                                   23      66779   \n",
       "AutoNation                                            12      26000   \n",
       "\n",
       "                                total_stockholder_equity  \n",
       "company                                                   \n",
       "Walmart                                            77798  \n",
       "State Grid                                        209456  \n",
       "Sinopec Group                                     106523  \n",
       "China National Petroleum                          301893  \n",
       "Toyota Motor                                      157210  \n",
       "...                                                  ...  \n",
       "Teva Pharmaceutical Industries                     33337  \n",
       "New China Life Insurance                            8507  \n",
       "Wm. Morrison Supermarkets                           5111  \n",
       "TUI                                                 3006  \n",
       "AutoNation                                          2310  \n",
       "\n",
       "[500 rows x 10 columns]"
      ]
     },
     "execution_count": 41,
     "metadata": {},
     "output_type": "execute_result"
    }
   ],
   "source": [
    "f500.loc[:, \"ceo\":]"
   ]
  },
  {
   "cell_type": "code",
   "execution_count": 42,
   "metadata": {},
   "outputs": [
    {
     "data": {
      "text/html": [
       "<div>\n",
       "<style scoped>\n",
       "    .dataframe tbody tr th:only-of-type {\n",
       "        vertical-align: middle;\n",
       "    }\n",
       "\n",
       "    .dataframe tbody tr th {\n",
       "        vertical-align: top;\n",
       "    }\n",
       "\n",
       "    .dataframe thead th {\n",
       "        text-align: right;\n",
       "    }\n",
       "</style>\n",
       "<table border=\"1\" class=\"dataframe\">\n",
       "  <thead>\n",
       "    <tr style=\"text-align: right;\">\n",
       "      <th></th>\n",
       "      <th>ceo</th>\n",
       "      <th>previous_rank</th>\n",
       "    </tr>\n",
       "    <tr>\n",
       "      <th>company</th>\n",
       "      <th></th>\n",
       "      <th></th>\n",
       "    </tr>\n",
       "  </thead>\n",
       "  <tbody>\n",
       "    <tr>\n",
       "      <td>Walmart</td>\n",
       "      <td>C. Douglas McMillon</td>\n",
       "      <td>1</td>\n",
       "    </tr>\n",
       "    <tr>\n",
       "      <td>State Grid</td>\n",
       "      <td>Kou Wei</td>\n",
       "      <td>2</td>\n",
       "    </tr>\n",
       "    <tr>\n",
       "      <td>Sinopec Group</td>\n",
       "      <td>Wang Yupu</td>\n",
       "      <td>4</td>\n",
       "    </tr>\n",
       "    <tr>\n",
       "      <td>China National Petroleum</td>\n",
       "      <td>Zhang Jianhua</td>\n",
       "      <td>3</td>\n",
       "    </tr>\n",
       "    <tr>\n",
       "      <td>Toyota Motor</td>\n",
       "      <td>Akio Toyoda</td>\n",
       "      <td>8</td>\n",
       "    </tr>\n",
       "    <tr>\n",
       "      <td>...</td>\n",
       "      <td>...</td>\n",
       "      <td>...</td>\n",
       "    </tr>\n",
       "    <tr>\n",
       "      <td>Teva Pharmaceutical Industries</td>\n",
       "      <td>Yitzhak Peterburg</td>\n",
       "      <td>0</td>\n",
       "    </tr>\n",
       "    <tr>\n",
       "      <td>New China Life Insurance</td>\n",
       "      <td>Wan Feng</td>\n",
       "      <td>427</td>\n",
       "    </tr>\n",
       "    <tr>\n",
       "      <td>Wm. Morrison Supermarkets</td>\n",
       "      <td>David T. Potts</td>\n",
       "      <td>437</td>\n",
       "    </tr>\n",
       "    <tr>\n",
       "      <td>TUI</td>\n",
       "      <td>Friedrich Joussen</td>\n",
       "      <td>467</td>\n",
       "    </tr>\n",
       "    <tr>\n",
       "      <td>AutoNation</td>\n",
       "      <td>Michael J. Jackson</td>\n",
       "      <td>0</td>\n",
       "    </tr>\n",
       "  </tbody>\n",
       "</table>\n",
       "<p>500 rows × 2 columns</p>\n",
       "</div>"
      ],
      "text/plain": [
       "                                                ceo  previous_rank\n",
       "company                                                           \n",
       "Walmart                         C. Douglas McMillon              1\n",
       "State Grid                                  Kou Wei              2\n",
       "Sinopec Group                             Wang Yupu              4\n",
       "China National Petroleum              Zhang Jianhua              3\n",
       "Toyota Motor                            Akio Toyoda              8\n",
       "...                                             ...            ...\n",
       "Teva Pharmaceutical Industries    Yitzhak Peterburg              0\n",
       "New China Life Insurance                   Wan Feng            427\n",
       "Wm. Morrison Supermarkets            David T. Potts            437\n",
       "TUI                               Friedrich Joussen            467\n",
       "AutoNation                       Michael J. Jackson              0\n",
       "\n",
       "[500 rows x 2 columns]"
      ]
     },
     "execution_count": 42,
     "metadata": {},
     "output_type": "execute_result"
    }
   ],
   "source": [
    "f500.loc[:, [\"ceo\", \"previous_rank\"]]"
   ]
  },
  {
   "cell_type": "code",
   "execution_count": 43,
   "metadata": {},
   "outputs": [
    {
     "data": {
      "text/plain": [
       "25"
      ]
     },
     "execution_count": 43,
     "metadata": {},
     "output_type": "execute_result"
    }
   ],
   "source": [
    "pd.Series([3,5,25,26])[2]"
   ]
  },
  {
   "cell_type": "code",
   "execution_count": 44,
   "metadata": {},
   "outputs": [
    {
     "data": {
      "text/html": [
       "<div>\n",
       "<style scoped>\n",
       "    .dataframe tbody tr th:only-of-type {\n",
       "        vertical-align: middle;\n",
       "    }\n",
       "\n",
       "    .dataframe tbody tr th {\n",
       "        vertical-align: top;\n",
       "    }\n",
       "\n",
       "    .dataframe thead th {\n",
       "        text-align: right;\n",
       "    }\n",
       "</style>\n",
       "<table border=\"1\" class=\"dataframe\">\n",
       "  <thead>\n",
       "    <tr style=\"text-align: right;\">\n",
       "      <th></th>\n",
       "      <th>rank</th>\n",
       "      <th>revenue_change</th>\n",
       "      <th>profits</th>\n",
       "    </tr>\n",
       "    <tr>\n",
       "      <th>company</th>\n",
       "      <th></th>\n",
       "      <th></th>\n",
       "      <th></th>\n",
       "    </tr>\n",
       "  </thead>\n",
       "  <tbody>\n",
       "    <tr>\n",
       "      <td>Walmart</td>\n",
       "      <td>1</td>\n",
       "      <td>0.8</td>\n",
       "      <td>13643.0</td>\n",
       "    </tr>\n",
       "    <tr>\n",
       "      <td>State Grid</td>\n",
       "      <td>2</td>\n",
       "      <td>-4.4</td>\n",
       "      <td>9571.3</td>\n",
       "    </tr>\n",
       "    <tr>\n",
       "      <td>Sinopec Group</td>\n",
       "      <td>3</td>\n",
       "      <td>-9.1</td>\n",
       "      <td>1257.9</td>\n",
       "    </tr>\n",
       "    <tr>\n",
       "      <td>China National Petroleum</td>\n",
       "      <td>4</td>\n",
       "      <td>-12.3</td>\n",
       "      <td>1867.5</td>\n",
       "    </tr>\n",
       "    <tr>\n",
       "      <td>Toyota Motor</td>\n",
       "      <td>5</td>\n",
       "      <td>7.7</td>\n",
       "      <td>16899.3</td>\n",
       "    </tr>\n",
       "    <tr>\n",
       "      <td>...</td>\n",
       "      <td>...</td>\n",
       "      <td>...</td>\n",
       "      <td>...</td>\n",
       "    </tr>\n",
       "    <tr>\n",
       "      <td>Teva Pharmaceutical Industries</td>\n",
       "      <td>496</td>\n",
       "      <td>11.5</td>\n",
       "      <td>329.0</td>\n",
       "    </tr>\n",
       "    <tr>\n",
       "      <td>New China Life Insurance</td>\n",
       "      <td>497</td>\n",
       "      <td>-13.3</td>\n",
       "      <td>743.9</td>\n",
       "    </tr>\n",
       "    <tr>\n",
       "      <td>Wm. Morrison Supermarkets</td>\n",
       "      <td>498</td>\n",
       "      <td>-11.3</td>\n",
       "      <td>406.4</td>\n",
       "    </tr>\n",
       "    <tr>\n",
       "      <td>TUI</td>\n",
       "      <td>499</td>\n",
       "      <td>-5.5</td>\n",
       "      <td>1151.7</td>\n",
       "    </tr>\n",
       "    <tr>\n",
       "      <td>AutoNation</td>\n",
       "      <td>500</td>\n",
       "      <td>3.6</td>\n",
       "      <td>430.5</td>\n",
       "    </tr>\n",
       "  </tbody>\n",
       "</table>\n",
       "<p>500 rows × 3 columns</p>\n",
       "</div>"
      ],
      "text/plain": [
       "                                rank  revenue_change  profits\n",
       "company                                                      \n",
       "Walmart                            1             0.8  13643.0\n",
       "State Grid                         2            -4.4   9571.3\n",
       "Sinopec Group                      3            -9.1   1257.9\n",
       "China National Petroleum           4           -12.3   1867.5\n",
       "Toyota Motor                       5             7.7  16899.3\n",
       "...                              ...             ...      ...\n",
       "Teva Pharmaceutical Industries   496            11.5    329.0\n",
       "New China Life Insurance         497           -13.3    743.9\n",
       "Wm. Morrison Supermarkets        498           -11.3    406.4\n",
       "TUI                              499            -5.5   1151.7\n",
       "AutoNation                       500             3.6    430.5\n",
       "\n",
       "[500 rows x 3 columns]"
      ]
     },
     "execution_count": 44,
     "metadata": {},
     "output_type": "execute_result"
    }
   ],
   "source": [
    "f500.loc[:, [\"rank\" , \"revenue_change\" , \"profits\"]]"
   ]
  },
  {
   "cell_type": "code",
   "execution_count": 45,
   "metadata": {},
   "outputs": [
    {
     "data": {
      "text/html": [
       "<div>\n",
       "<style scoped>\n",
       "    .dataframe tbody tr th:only-of-type {\n",
       "        vertical-align: middle;\n",
       "    }\n",
       "\n",
       "    .dataframe tbody tr th {\n",
       "        vertical-align: top;\n",
       "    }\n",
       "\n",
       "    .dataframe thead th {\n",
       "        text-align: right;\n",
       "    }\n",
       "</style>\n",
       "<table border=\"1\" class=\"dataframe\">\n",
       "  <thead>\n",
       "    <tr style=\"text-align: right;\">\n",
       "      <th></th>\n",
       "      <th>rank</th>\n",
       "      <th>revenues</th>\n",
       "      <th>revenue_change</th>\n",
       "      <th>profits</th>\n",
       "      <th>assets</th>\n",
       "      <th>profit_change</th>\n",
       "      <th>ceo</th>\n",
       "      <th>industry</th>\n",
       "      <th>sector</th>\n",
       "      <th>previous_rank</th>\n",
       "      <th>country</th>\n",
       "      <th>hq_location</th>\n",
       "      <th>website</th>\n",
       "      <th>years_on_global_500_list</th>\n",
       "      <th>employees</th>\n",
       "      <th>total_stockholder_equity</th>\n",
       "    </tr>\n",
       "    <tr>\n",
       "      <th>company</th>\n",
       "      <th></th>\n",
       "      <th></th>\n",
       "      <th></th>\n",
       "      <th></th>\n",
       "      <th></th>\n",
       "      <th></th>\n",
       "      <th></th>\n",
       "      <th></th>\n",
       "      <th></th>\n",
       "      <th></th>\n",
       "      <th></th>\n",
       "      <th></th>\n",
       "      <th></th>\n",
       "      <th></th>\n",
       "      <th></th>\n",
       "      <th></th>\n",
       "    </tr>\n",
       "  </thead>\n",
       "  <tbody>\n",
       "    <tr>\n",
       "      <td>State Grid</td>\n",
       "      <td>2</td>\n",
       "      <td>315199</td>\n",
       "      <td>-4.4</td>\n",
       "      <td>9571.3</td>\n",
       "      <td>489838</td>\n",
       "      <td>-6.2</td>\n",
       "      <td>Kou Wei</td>\n",
       "      <td>Utilities</td>\n",
       "      <td>Energy</td>\n",
       "      <td>2</td>\n",
       "      <td>China</td>\n",
       "      <td>Beijing, China</td>\n",
       "      <td>http://www.sgcc.com.cn</td>\n",
       "      <td>17</td>\n",
       "      <td>926067</td>\n",
       "      <td>209456</td>\n",
       "    </tr>\n",
       "    <tr>\n",
       "      <td>China National Petroleum</td>\n",
       "      <td>4</td>\n",
       "      <td>262573</td>\n",
       "      <td>-12.3</td>\n",
       "      <td>1867.5</td>\n",
       "      <td>585619</td>\n",
       "      <td>-73.7</td>\n",
       "      <td>Zhang Jianhua</td>\n",
       "      <td>Petroleum Refining</td>\n",
       "      <td>Energy</td>\n",
       "      <td>3</td>\n",
       "      <td>China</td>\n",
       "      <td>Beijing, China</td>\n",
       "      <td>http://www.cnpc.com.cn</td>\n",
       "      <td>17</td>\n",
       "      <td>1512048</td>\n",
       "      <td>301893</td>\n",
       "    </tr>\n",
       "  </tbody>\n",
       "</table>\n",
       "</div>"
      ],
      "text/plain": [
       "                          rank  revenues  revenue_change  profits  assets  \\\n",
       "company                                                                     \n",
       "State Grid                   2    315199            -4.4   9571.3  489838   \n",
       "China National Petroleum     4    262573           -12.3   1867.5  585619   \n",
       "\n",
       "                          profit_change            ceo            industry  \\\n",
       "company                                                                      \n",
       "State Grid                         -6.2        Kou Wei           Utilities   \n",
       "China National Petroleum          -73.7  Zhang Jianhua  Petroleum Refining   \n",
       "\n",
       "                          sector  previous_rank country     hq_location  \\\n",
       "company                                                                   \n",
       "State Grid                Energy              2   China  Beijing, China   \n",
       "China National Petroleum  Energy              3   China  Beijing, China   \n",
       "\n",
       "                                         website  years_on_global_500_list  \\\n",
       "company                                                                      \n",
       "State Grid                http://www.sgcc.com.cn                        17   \n",
       "China National Petroleum  http://www.cnpc.com.cn                        17   \n",
       "\n",
       "                          employees  total_stockholder_equity  \n",
       "company                                                        \n",
       "State Grid                   926067                    209456  \n",
       "China National Petroleum    1512048                    301893  "
      ]
     },
     "execution_count": 45,
     "metadata": {},
     "output_type": "execute_result"
    }
   ],
   "source": [
    "f500.loc[[\"State Grid\" , \"China National Petroleum\"]]"
   ]
  },
  {
   "cell_type": "code",
   "execution_count": 46,
   "metadata": {},
   "outputs": [
    {
     "data": {
      "text/plain": [
       "company\n",
       "Walmart                             1\n",
       "State Grid                          2\n",
       "Sinopec Group                       3\n",
       "China National Petroleum            4\n",
       "Toyota Motor                        5\n",
       "                                 ... \n",
       "Teva Pharmaceutical Industries    496\n",
       "New China Life Insurance          497\n",
       "Wm. Morrison Supermarkets         498\n",
       "TUI                               499\n",
       "AutoNation                        500\n",
       "Name: rank, Length: 500, dtype: int64"
      ]
     },
     "execution_count": 46,
     "metadata": {},
     "output_type": "execute_result"
    }
   ],
   "source": [
    "# Series\n",
    "f500[\"rank\"]"
   ]
  },
  {
   "cell_type": "code",
   "execution_count": 47,
   "metadata": {},
   "outputs": [
    {
     "name": "stdout",
     "output_type": "stream",
     "text": [
      "<class 'pandas.core.series.Series'>\n"
     ]
    }
   ],
   "source": [
    "rank = f500.loc[:, \"rank\"]\n",
    "print(type(rank))"
   ]
  },
  {
   "cell_type": "code",
   "execution_count": 48,
   "metadata": {},
   "outputs": [
    {
     "data": {
      "text/plain": [
       "0     1\n",
       "1    20\n",
       "2    50\n",
       "3    55\n",
       "4    32\n",
       "dtype: int64"
      ]
     },
     "execution_count": 48,
     "metadata": {},
     "output_type": "execute_result"
    }
   ],
   "source": [
    "pd.Series([1,20,50,55,32])"
   ]
  },
  {
   "cell_type": "code",
   "execution_count": 49,
   "metadata": {},
   "outputs": [
    {
     "data": {
      "text/plain": [
       " NaN     64\n",
       " 0.9      6\n",
       " 4.5      4\n",
       "-1.8      4\n",
       " 3.7      4\n",
       "         ..\n",
       "-53.4     1\n",
       " 31.1     1\n",
       "-33.6     1\n",
       " 30.1     1\n",
       "-65.0     1\n",
       "Name: profit_change, Length: 369, dtype: int64"
      ]
     },
     "execution_count": 49,
     "metadata": {},
     "output_type": "execute_result"
    }
   ],
   "source": [
    "a = f500.iloc[:, 5]\n",
    "a.value_counts(dropna = False)"
   ]
  },
  {
   "cell_type": "code",
   "execution_count": 50,
   "metadata": {},
   "outputs": [
    {
     "data": {
      "text/plain": [
       "count     500\n",
       "unique     34\n",
       "top       USA\n",
       "freq      132\n",
       "Name: country, dtype: object"
      ]
     },
     "execution_count": 50,
     "metadata": {},
     "output_type": "execute_result"
    }
   ],
   "source": [
    "country = f500.loc[:, \"country\"]\n",
    "country.describe()"
   ]
  },
  {
   "cell_type": "code",
   "execution_count": 51,
   "metadata": {},
   "outputs": [
    {
     "data": {
      "text/plain": [
       "USA             132\n",
       "China           109\n",
       "Japan            51\n",
       "Germany          29\n",
       "France           29\n",
       "Britain          24\n",
       "South Korea      15\n",
       "Switzerland      14\n",
       "Netherlands      14\n",
       "Canada           11\n",
       "Spain             9\n",
       "India             7\n",
       "Brazil            7\n",
       "Italy             7\n",
       "Australia         7\n",
       "Taiwan            6\n",
       "Russia            4\n",
       "Ireland           4\n",
       "Sweden            3\n",
       "Singapore         3\n",
       "Mexico            2\n",
       "Denmark           1\n",
       "Venezuela         1\n",
       "Norway            1\n",
       "U.A.E             1\n",
       "Luxembourg        1\n",
       "Indonesia         1\n",
       "Thailand          1\n",
       "Saudi Arabia      1\n",
       "Turkey            1\n",
       "Israel            1\n",
       "Belgium           1\n",
       "Finland           1\n",
       "Malaysia          1\n",
       "Name: country, dtype: int64"
      ]
     },
     "execution_count": 51,
     "metadata": {},
     "output_type": "execute_result"
    }
   ],
   "source": [
    "country.value_counts()"
   ]
  },
  {
   "cell_type": "code",
   "execution_count": 52,
   "metadata": {},
   "outputs": [],
   "source": [
    "f500[f500[\"country\"] == \"Israel\"] = np.nan"
   ]
  },
  {
   "cell_type": "code",
   "execution_count": 53,
   "metadata": {},
   "outputs": [
    {
     "data": {
      "text/plain": [
       "USA             132\n",
       "China           109\n",
       "Japan            51\n",
       "France           29\n",
       "Germany          29\n",
       "Britain          24\n",
       "South Korea      15\n",
       "Switzerland      14\n",
       "Netherlands      14\n",
       "Canada           11\n",
       "Spain             9\n",
       "Australia         7\n",
       "India             7\n",
       "Brazil            7\n",
       "Italy             7\n",
       "Taiwan            6\n",
       "Russia            4\n",
       "Ireland           4\n",
       "Sweden            3\n",
       "Singapore         3\n",
       "Mexico            2\n",
       "Luxembourg        1\n",
       "Malaysia          1\n",
       "Venezuela         1\n",
       "Norway            1\n",
       "U.A.E             1\n",
       "Denmark           1\n",
       "Finland           1\n",
       "Indonesia         1\n",
       "Saudi Arabia      1\n",
       "Turkey            1\n",
       "Thailand          1\n",
       "Belgium           1\n",
       "NaN               1\n",
       "Name: country, dtype: int64"
      ]
     },
     "execution_count": 53,
     "metadata": {},
     "output_type": "execute_result"
    }
   ],
   "source": [
    "country.value_counts(dropna = False)"
   ]
  },
  {
   "cell_type": "code",
   "execution_count": 54,
   "metadata": {},
   "outputs": [
    {
     "data": {
      "text/plain": [
       "USA             132\n",
       "China           109\n",
       "Japan            51\n",
       "Germany          29\n",
       "France           29\n",
       "Britain          24\n",
       "South Korea      15\n",
       "Switzerland      14\n",
       "Netherlands      14\n",
       "Canada           11\n",
       "Spain             9\n",
       "India             7\n",
       "Brazil            7\n",
       "Italy             7\n",
       "Australia         7\n",
       "Taiwan            6\n",
       "Russia            4\n",
       "Ireland           4\n",
       "Singapore         3\n",
       "Sweden            3\n",
       "Mexico            2\n",
       "Denmark           1\n",
       "Finland           1\n",
       "Belgium           1\n",
       "Thailand          1\n",
       "Turkey            1\n",
       "Saudi Arabia      1\n",
       "Indonesia         1\n",
       "Luxembourg        1\n",
       "U.A.E             1\n",
       "Norway            1\n",
       "Venezuela         1\n",
       "Malaysia          1\n",
       "Name: country, dtype: int64"
      ]
     },
     "execution_count": 54,
     "metadata": {},
     "output_type": "execute_result"
    }
   ],
   "source": [
    "f500.loc[:, \"country\"].value_counts()"
   ]
  },
  {
   "cell_type": "code",
   "execution_count": 55,
   "metadata": {},
   "outputs": [
    {
     "data": {
      "text/plain": [
       "Matthias Muller        1\n",
       "Michael J. Jackson     1\n",
       "Philippe Wahl          1\n",
       "Olivier Brandicourt    1\n",
       "Ryuichi Isaka          1\n",
       "                      ..\n",
       "Andrew G. Thorburn     1\n",
       "Michael L. Corbat      1\n",
       "Liu Hualong            1\n",
       "Mark T. Bertolini      1\n",
       "Wesley G. Bush         1\n",
       "Name: ceo, Length: 499, dtype: int64"
      ]
     },
     "execution_count": 55,
     "metadata": {},
     "output_type": "execute_result"
    }
   ],
   "source": [
    "ceo = f500.loc[:, \"ceo\"]\n",
    "ceo.value_counts()"
   ]
  },
  {
   "cell_type": "code",
   "execution_count": 56,
   "metadata": {},
   "outputs": [
    {
     "data": {
      "text/plain": [
       "count                 499\n",
       "unique                499\n",
       "top       Matthias Muller\n",
       "freq                    1\n",
       "Name: ceo, dtype: object"
      ]
     },
     "execution_count": 56,
     "metadata": {},
     "output_type": "execute_result"
    }
   ],
   "source": [
    "ceo.describe()"
   ]
  },
  {
   "cell_type": "code",
   "execution_count": 57,
   "metadata": {},
   "outputs": [
    {
     "data": {
      "text/plain": [
       "1"
      ]
     },
     "execution_count": 57,
     "metadata": {},
     "output_type": "execute_result"
    }
   ],
   "source": [
    "ceo.value_counts()[\"Ryuichi Isaka\"]"
   ]
  },
  {
   "cell_type": "code",
   "execution_count": 58,
   "metadata": {},
   "outputs": [
    {
     "data": {
      "text/plain": [
       "company\n",
       "China Life Insurance                Yang Mingsheng\n",
       "BMW Group                            Harald Kruger\n",
       "Express Scripts Holding       Timothy C. Wentworth\n",
       "Trafigura Group                        Jeremy Weir\n",
       "China Railway Engineering            Zhang Zongyan\n",
       "Prudential                        Michael A. Wells\n",
       "Assicurazioni Generali          Philippe R. Donnet\n",
       "China Railway Construction           Meng Fengchao\n",
       "Home Depot                         Craig A. Menear\n",
       "Boeing                        Dennis A. Muilenburg\n",
       "Name: ceo, dtype: object"
      ]
     },
     "execution_count": 58,
     "metadata": {},
     "output_type": "execute_result"
    }
   ],
   "source": [
    "ceo[50:60]"
   ]
  },
  {
   "cell_type": "code",
   "execution_count": 59,
   "metadata": {},
   "outputs": [
    {
     "data": {
      "text/plain": [
       "company\n",
       "BMW Group                            Harald Kruger\n",
       "Express Scripts Holding       Timothy C. Wentworth\n",
       "Trafigura Group                        Jeremy Weir\n",
       "China Railway Engineering            Zhang Zongyan\n",
       "Prudential                        Michael A. Wells\n",
       "Assicurazioni Generali          Philippe R. Donnet\n",
       "China Railway Construction           Meng Fengchao\n",
       "Home Depot                         Craig A. Menear\n",
       "Name: ceo, dtype: object"
      ]
     },
     "execution_count": 59,
     "metadata": {},
     "output_type": "execute_result"
    }
   ],
   "source": [
    "ceo.loc[\"BMW Group\" : \"Home Depot\"]"
   ]
  },
  {
   "cell_type": "code",
   "execution_count": 60,
   "metadata": {},
   "outputs": [
    {
     "data": {
      "text/html": [
       "<div>\n",
       "<style scoped>\n",
       "    .dataframe tbody tr th:only-of-type {\n",
       "        vertical-align: middle;\n",
       "    }\n",
       "\n",
       "    .dataframe tbody tr th {\n",
       "        vertical-align: top;\n",
       "    }\n",
       "\n",
       "    .dataframe thead th {\n",
       "        text-align: right;\n",
       "    }\n",
       "</style>\n",
       "<table border=\"1\" class=\"dataframe\">\n",
       "  <thead>\n",
       "    <tr style=\"text-align: right;\">\n",
       "      <th></th>\n",
       "      <th>rank</th>\n",
       "      <th>revenues</th>\n",
       "      <th>revenue_change</th>\n",
       "      <th>profits</th>\n",
       "      <th>assets</th>\n",
       "      <th>profit_change</th>\n",
       "      <th>ceo</th>\n",
       "    </tr>\n",
       "    <tr>\n",
       "      <th>company</th>\n",
       "      <th></th>\n",
       "      <th></th>\n",
       "      <th></th>\n",
       "      <th></th>\n",
       "      <th></th>\n",
       "      <th></th>\n",
       "      <th></th>\n",
       "    </tr>\n",
       "  </thead>\n",
       "  <tbody>\n",
       "    <tr>\n",
       "      <td>BMW Group</td>\n",
       "      <td>52.0</td>\n",
       "      <td>104130.0</td>\n",
       "      <td>1.8</td>\n",
       "      <td>7589.4</td>\n",
       "      <td>198835.0</td>\n",
       "      <td>7.4</td>\n",
       "      <td>Harald Kruger</td>\n",
       "    </tr>\n",
       "    <tr>\n",
       "      <td>Express Scripts Holding</td>\n",
       "      <td>53.0</td>\n",
       "      <td>100288.0</td>\n",
       "      <td>-1.4</td>\n",
       "      <td>3404.4</td>\n",
       "      <td>51745.0</td>\n",
       "      <td>37.5</td>\n",
       "      <td>Timothy C. Wentworth</td>\n",
       "    </tr>\n",
       "    <tr>\n",
       "      <td>Trafigura Group</td>\n",
       "      <td>54.0</td>\n",
       "      <td>98098.0</td>\n",
       "      <td>0.9</td>\n",
       "      <td>750.8</td>\n",
       "      <td>41230.0</td>\n",
       "      <td>-39.3</td>\n",
       "      <td>Jeremy Weir</td>\n",
       "    </tr>\n",
       "    <tr>\n",
       "      <td>China Railway Engineering</td>\n",
       "      <td>55.0</td>\n",
       "      <td>96979.0</td>\n",
       "      <td>-2.5</td>\n",
       "      <td>924.1</td>\n",
       "      <td>108864.0</td>\n",
       "      <td>-6.0</td>\n",
       "      <td>Zhang Zongyan</td>\n",
       "    </tr>\n",
       "    <tr>\n",
       "      <td>Prudential</td>\n",
       "      <td>56.0</td>\n",
       "      <td>96965.0</td>\n",
       "      <td>53.7</td>\n",
       "      <td>2592.8</td>\n",
       "      <td>581221.0</td>\n",
       "      <td>-34.2</td>\n",
       "      <td>Michael A. Wells</td>\n",
       "    </tr>\n",
       "    <tr>\n",
       "      <td>Assicurazioni Generali</td>\n",
       "      <td>57.0</td>\n",
       "      <td>95217.0</td>\n",
       "      <td>-7.2</td>\n",
       "      <td>2301.3</td>\n",
       "      <td>549656.0</td>\n",
       "      <td>2.2</td>\n",
       "      <td>Philippe R. Donnet</td>\n",
       "    </tr>\n",
       "    <tr>\n",
       "      <td>China Railway Construction</td>\n",
       "      <td>58.0</td>\n",
       "      <td>94877.0</td>\n",
       "      <td>-0.8</td>\n",
       "      <td>1192.4</td>\n",
       "      <td>109968.0</td>\n",
       "      <td>7.8</td>\n",
       "      <td>Meng Fengchao</td>\n",
       "    </tr>\n",
       "    <tr>\n",
       "      <td>Home Depot</td>\n",
       "      <td>59.0</td>\n",
       "      <td>94595.0</td>\n",
       "      <td>6.9</td>\n",
       "      <td>7957.0</td>\n",
       "      <td>42966.0</td>\n",
       "      <td>13.5</td>\n",
       "      <td>Craig A. Menear</td>\n",
       "    </tr>\n",
       "  </tbody>\n",
       "</table>\n",
       "</div>"
      ],
      "text/plain": [
       "                            rank  revenues  revenue_change  profits    assets  \\\n",
       "company                                                                         \n",
       "BMW Group                   52.0  104130.0             1.8   7589.4  198835.0   \n",
       "Express Scripts Holding     53.0  100288.0            -1.4   3404.4   51745.0   \n",
       "Trafigura Group             54.0   98098.0             0.9    750.8   41230.0   \n",
       "China Railway Engineering   55.0   96979.0            -2.5    924.1  108864.0   \n",
       "Prudential                  56.0   96965.0            53.7   2592.8  581221.0   \n",
       "Assicurazioni Generali      57.0   95217.0            -7.2   2301.3  549656.0   \n",
       "China Railway Construction  58.0   94877.0            -0.8   1192.4  109968.0   \n",
       "Home Depot                  59.0   94595.0             6.9   7957.0   42966.0   \n",
       "\n",
       "                            profit_change                   ceo  \n",
       "company                                                          \n",
       "BMW Group                             7.4         Harald Kruger  \n",
       "Express Scripts Holding              37.5  Timothy C. Wentworth  \n",
       "Trafigura Group                     -39.3           Jeremy Weir  \n",
       "China Railway Engineering            -6.0         Zhang Zongyan  \n",
       "Prudential                          -34.2      Michael A. Wells  \n",
       "Assicurazioni Generali                2.2    Philippe R. Donnet  \n",
       "China Railway Construction            7.8         Meng Fengchao  \n",
       "Home Depot                           13.5       Craig A. Menear  "
      ]
     },
     "execution_count": 60,
     "metadata": {},
     "output_type": "execute_result"
    }
   ],
   "source": [
    "f500.loc[\"BMW Group\" : \"Home Depot\" , \"rank\" : \"ceo\"]"
   ]
  },
  {
   "cell_type": "code",
   "execution_count": 61,
   "metadata": {},
   "outputs": [],
   "source": [
    "big_movers = f500.loc[[\"Aviva\" , \"HP\", \"JD.com\"]] , [[\"rank\", \"previous_rank\"]]\n",
    "bottom_companies = f500.loc[\"National Grid\" : \"AutoNation\" , [\"rank\" , \"sector\", \"country\"]]"
   ]
  },
  {
   "cell_type": "code",
   "execution_count": 62,
   "metadata": {},
   "outputs": [
    {
     "data": {
      "text/plain": [
       "company\n",
       "Walmart                             0.0\n",
       "State Grid                          0.0\n",
       "Sinopec Group                       1.0\n",
       "China National Petroleum           -1.0\n",
       "Toyota Motor                        3.0\n",
       "                                  ...  \n",
       "Teva Pharmaceutical Industries      NaN\n",
       "New China Life Insurance          -70.0\n",
       "Wm. Morrison Supermarkets         -61.0\n",
       "TUI                               -32.0\n",
       "AutoNation                       -500.0\n",
       "Length: 500, dtype: float64"
      ]
     },
     "execution_count": 62,
     "metadata": {},
     "output_type": "execute_result"
    }
   ],
   "source": [
    "rank = f500.loc[:, \"rank\"]\n",
    "prev_rank = f500.loc[:, \"previous_rank\"]\n",
    "diff = prev_rank - rank \n",
    "diff"
   ]
  },
  {
   "cell_type": "markdown",
   "metadata": {},
   "source": [
    "- 0 value means the compan's rank did not changed\n",
    "- negative value (-) means the compan's rank has been gone down\n",
    "- positive value (+) means the compan's rnk has been raised"
   ]
  },
  {
   "cell_type": "code",
   "execution_count": 63,
   "metadata": {},
   "outputs": [
    {
     "data": {
      "text/plain": [
       "rank                            500.0\n",
       "revenues                     485873.0\n",
       "revenue_change                  442.3\n",
       "profits                       45687.0\n",
       "assets                      3473238.0\n",
       "profit_change                  8909.5\n",
       "previous_rank                   500.0\n",
       "years_on_global_500_list         23.0\n",
       "employees                   2300000.0\n",
       "total_stockholder_equity     301893.0\n",
       "dtype: float64"
      ]
     },
     "execution_count": 63,
     "metadata": {},
     "output_type": "execute_result"
    }
   ],
   "source": [
    "#data exploration methods\n",
    "f500.max()"
   ]
  },
  {
   "cell_type": "code",
   "execution_count": 64,
   "metadata": {},
   "outputs": [
    {
     "name": "stdout",
     "output_type": "stream",
     "text": [
      "226.0\n"
     ]
    }
   ],
   "source": [
    "rank_change_max = diff.max()\n",
    "print(rank_change_max)\n"
   ]
  },
  {
   "cell_type": "code",
   "execution_count": 65,
   "metadata": {},
   "outputs": [
    {
     "name": "stdout",
     "output_type": "stream",
     "text": [
      "the company with the max rank exchange is  : \n",
      " company\n",
      "Centene    USA\n",
      "Name: country, dtype: object\n"
     ]
    }
   ],
   "source": [
    "print(\"the company with the max rank exchange is  : \\n\", f500.loc[diff == 226, \"country\"])"
   ]
  },
  {
   "cell_type": "code",
   "execution_count": 66,
   "metadata": {},
   "outputs": [
    {
     "name": "stdout",
     "output_type": "stream",
     "text": [
      "the company with the minimum rank exchange is :\n",
      " company\n",
      "AutoNation    USA\n",
      "Name: country, dtype: object\n",
      "-500.0\n"
     ]
    }
   ],
   "source": [
    "print(\"the company with the minimum rank exchange is :\\n\", f500.loc[diff == diff.min() , \"country\"])\n",
    "#show the value of minimum ank exchange\n",
    "print(diff.min())"
   ]
  },
  {
   "cell_type": "markdown",
   "metadata": {},
   "source": [
    "- the minimum value of the rank exchange here is -500 but it is wrong value because the minimum value you should reach here is when you go down from 1 to 500 (1-500 = 499) it is supposed to -499  this indicates that we have incorrect data in either the rank column or the previous_rank column"
   ]
  },
  {
   "cell_type": "code",
   "execution_count": 67,
   "metadata": {},
   "outputs": [
    {
     "name": "stdout",
     "output_type": "stream",
     "text": [
      "statistics about rank column: \n",
      " count    499.000000\n",
      "mean     250.008016\n",
      "std      144.206971\n",
      "min        1.000000\n",
      "25%      125.500000\n",
      "50%      250.000000\n",
      "75%      374.500000\n",
      "max      500.000000\n",
      "Name: rank, dtype: float64\n"
     ]
    }
   ],
   "source": [
    "print(\"statistics about rank column: \\n\" , f500.loc[:, \"rank\"].describe())"
   ]
  },
  {
   "cell_type": "code",
   "execution_count": 68,
   "metadata": {},
   "outputs": [
    {
     "name": "stdout",
     "output_type": "stream",
     "text": [
      "some statistics about the ceo Series :\n",
      " count                 499\n",
      "unique                499\n",
      "top       Matthias Muller\n",
      "freq                    1\n",
      "Name: ceo, dtype: object\n"
     ]
    }
   ],
   "source": [
    "print(\"some statistics about the ceo Series :\\n\" , f500.loc[:, \"ceo\"].describe())"
   ]
  },
  {
   "cell_type": "code",
   "execution_count": 69,
   "metadata": {},
   "outputs": [
    {
     "name": "stdout",
     "output_type": "stream",
     "text": [
      "count    499.000000\n",
      "mean     222.579158\n",
      "std      146.751543\n",
      "min        0.000000\n",
      "25%       93.500000\n",
      "50%      220.000000\n",
      "75%      347.500000\n",
      "max      500.000000\n",
      "Name: previous_rank, dtype: float64\n"
     ]
    }
   ],
   "source": [
    "print(f500[\"previous_rank\"].describe())"
   ]
  },
  {
   "cell_type": "code",
   "execution_count": 70,
   "metadata": {},
   "outputs": [
    {
     "data": {
      "text/plain": [
       "0.0      32\n",
       "471.0     1\n",
       "234.0     1\n",
       "125.0     1\n",
       "166.0     1\n",
       "         ..\n",
       "191.0     1\n",
       "369.0     1\n",
       "179.0     1\n",
       "161.0     1\n",
       "1.0       1\n",
       "Name: previous_rank, Length: 468, dtype: int64"
      ]
     },
     "execution_count": 70,
     "metadata": {},
     "output_type": "execute_result"
    }
   ],
   "source": [
    "f500.loc[:, \"previous_rank\"].value_counts(dropna = True)"
   ]
  },
  {
   "cell_type": "code",
   "execution_count": 71,
   "metadata": {},
   "outputs": [
    {
     "data": {
      "text/plain": [
       "rank                            500.0\n",
       "revenues                     485873.0\n",
       "revenue_change                  442.3\n",
       "profits                       45687.0\n",
       "assets                      3473238.0\n",
       "profit_change                  8909.5\n",
       "previous_rank                   500.0\n",
       "years_on_global_500_list         23.0\n",
       "employees                   2300000.0\n",
       "total_stockholder_equity     301893.0\n",
       "dtype: float64"
      ]
     },
     "execution_count": 71,
     "metadata": {},
     "output_type": "execute_result"
    }
   ],
   "source": [
    "f500.max(axis = 0)"
   ]
  },
  {
   "cell_type": "code",
   "execution_count": 72,
   "metadata": {},
   "outputs": [
    {
     "data": {
      "text/plain": [
       "company\n",
       "Walmart                           2300000.0\n",
       "State Grid                         926067.0\n",
       "Sinopec Group                      713288.0\n",
       "China National Petroleum          1512048.0\n",
       "Toyota Motor                       437575.0\n",
       "                                    ...    \n",
       "Teva Pharmaceutical Industries          NaN\n",
       "New China Life Insurance           100609.0\n",
       "Wm. Morrison Supermarkets           77210.0\n",
       "TUI                                 66779.0\n",
       "AutoNation                          26000.0\n",
       "Length: 500, dtype: float64"
      ]
     },
     "execution_count": 72,
     "metadata": {},
     "output_type": "execute_result"
    }
   ],
   "source": [
    "f500.max(axis = 1)"
   ]
  },
  {
   "cell_type": "code",
   "execution_count": 73,
   "metadata": {},
   "outputs": [
    {
     "data": {
      "text/plain": [
       "rank                            500.0\n",
       "revenues                     485873.0\n",
       "revenue_change                  442.3\n",
       "profits                       45687.0\n",
       "assets                      3473238.0\n",
       "profit_change                  8909.5\n",
       "previous_rank                   500.0\n",
       "years_on_global_500_list         23.0\n",
       "employees                   2300000.0\n",
       "total_stockholder_equity     301893.0\n",
       "dtype: float64"
      ]
     },
     "execution_count": 73,
     "metadata": {},
     "output_type": "execute_result"
    }
   ],
   "source": [
    "f500.max(numeric_only= True)"
   ]
  },
  {
   "cell_type": "code",
   "execution_count": 74,
   "metadata": {},
   "outputs": [
    {
     "data": {
      "text/html": [
       "<div>\n",
       "<style scoped>\n",
       "    .dataframe tbody tr th:only-of-type {\n",
       "        vertical-align: middle;\n",
       "    }\n",
       "\n",
       "    .dataframe tbody tr th {\n",
       "        vertical-align: top;\n",
       "    }\n",
       "\n",
       "    .dataframe thead th {\n",
       "        text-align: right;\n",
       "    }\n",
       "</style>\n",
       "<table border=\"1\" class=\"dataframe\">\n",
       "  <thead>\n",
       "    <tr style=\"text-align: right;\">\n",
       "      <th></th>\n",
       "      <th>rank</th>\n",
       "      <th>revenues</th>\n",
       "      <th>revenue_change</th>\n",
       "      <th>profits</th>\n",
       "      <th>assets</th>\n",
       "      <th>profit_change</th>\n",
       "      <th>previous_rank</th>\n",
       "      <th>years_on_global_500_list</th>\n",
       "      <th>employees</th>\n",
       "      <th>total_stockholder_equity</th>\n",
       "    </tr>\n",
       "  </thead>\n",
       "  <tbody>\n",
       "    <tr>\n",
       "      <td>count</td>\n",
       "      <td>499.000000</td>\n",
       "      <td>499.000000</td>\n",
       "      <td>497.000000</td>\n",
       "      <td>498.000000</td>\n",
       "      <td>4.990000e+02</td>\n",
       "      <td>435.000000</td>\n",
       "      <td>499.000000</td>\n",
       "      <td>499.000000</td>\n",
       "      <td>4.990000e+02</td>\n",
       "      <td>499.000000</td>\n",
       "    </tr>\n",
       "    <tr>\n",
       "      <td>mean</td>\n",
       "      <td>250.008016</td>\n",
       "      <td>55483.519038</td>\n",
       "      <td>4.524346</td>\n",
       "      <td>3060.677510</td>\n",
       "      <td>2.439344e+05</td>\n",
       "      <td>24.390575</td>\n",
       "      <td>222.579158</td>\n",
       "      <td>15.064128</td>\n",
       "      <td>1.341527e+05</td>\n",
       "      <td>30622.647295</td>\n",
       "    </tr>\n",
       "    <tr>\n",
       "      <td>std</td>\n",
       "      <td>144.206971</td>\n",
       "      <td>45746.672314</td>\n",
       "      <td>28.576119</td>\n",
       "      <td>5175.734323</td>\n",
       "      <td>4.856335e+05</td>\n",
       "      <td>437.985104</td>\n",
       "      <td>146.751543</td>\n",
       "      <td>7.915714</td>\n",
       "      <td>1.702234e+05</td>\n",
       "      <td>43686.203717</td>\n",
       "    </tr>\n",
       "    <tr>\n",
       "      <td>min</td>\n",
       "      <td>1.000000</td>\n",
       "      <td>21609.000000</td>\n",
       "      <td>-67.300000</td>\n",
       "      <td>-13038.000000</td>\n",
       "      <td>3.717000e+03</td>\n",
       "      <td>-793.700000</td>\n",
       "      <td>0.000000</td>\n",
       "      <td>1.000000</td>\n",
       "      <td>3.280000e+02</td>\n",
       "      <td>-59909.000000</td>\n",
       "    </tr>\n",
       "    <tr>\n",
       "      <td>25%</td>\n",
       "      <td>125.500000</td>\n",
       "      <td>29093.000000</td>\n",
       "      <td>-5.900000</td>\n",
       "      <td>562.775000</td>\n",
       "      <td>3.658400e+04</td>\n",
       "      <td>-22.650000</td>\n",
       "      <td>93.500000</td>\n",
       "      <td>7.000000</td>\n",
       "      <td>4.272700e+04</td>\n",
       "      <td>7552.500000</td>\n",
       "    </tr>\n",
       "    <tr>\n",
       "      <td>50%</td>\n",
       "      <td>250.000000</td>\n",
       "      <td>40238.000000</td>\n",
       "      <td>0.500000</td>\n",
       "      <td>1763.100000</td>\n",
       "      <td>7.298500e+04</td>\n",
       "      <td>-0.300000</td>\n",
       "      <td>220.000000</td>\n",
       "      <td>17.000000</td>\n",
       "      <td>9.312300e+04</td>\n",
       "      <td>15724.000000</td>\n",
       "    </tr>\n",
       "    <tr>\n",
       "      <td>75%</td>\n",
       "      <td>374.500000</td>\n",
       "      <td>64212.500000</td>\n",
       "      <td>6.900000</td>\n",
       "      <td>3968.000000</td>\n",
       "      <td>1.806280e+05</td>\n",
       "      <td>18.000000</td>\n",
       "      <td>347.500000</td>\n",
       "      <td>23.000000</td>\n",
       "      <td>1.690025e+05</td>\n",
       "      <td>37977.000000</td>\n",
       "    </tr>\n",
       "    <tr>\n",
       "      <td>max</td>\n",
       "      <td>500.000000</td>\n",
       "      <td>485873.000000</td>\n",
       "      <td>442.300000</td>\n",
       "      <td>45687.000000</td>\n",
       "      <td>3.473238e+06</td>\n",
       "      <td>8909.500000</td>\n",
       "      <td>500.000000</td>\n",
       "      <td>23.000000</td>\n",
       "      <td>2.300000e+06</td>\n",
       "      <td>301893.000000</td>\n",
       "    </tr>\n",
       "  </tbody>\n",
       "</table>\n",
       "</div>"
      ],
      "text/plain": [
       "             rank       revenues  revenue_change       profits        assets  \\\n",
       "count  499.000000     499.000000      497.000000    498.000000  4.990000e+02   \n",
       "mean   250.008016   55483.519038        4.524346   3060.677510  2.439344e+05   \n",
       "std    144.206971   45746.672314       28.576119   5175.734323  4.856335e+05   \n",
       "min      1.000000   21609.000000      -67.300000 -13038.000000  3.717000e+03   \n",
       "25%    125.500000   29093.000000       -5.900000    562.775000  3.658400e+04   \n",
       "50%    250.000000   40238.000000        0.500000   1763.100000  7.298500e+04   \n",
       "75%    374.500000   64212.500000        6.900000   3968.000000  1.806280e+05   \n",
       "max    500.000000  485873.000000      442.300000  45687.000000  3.473238e+06   \n",
       "\n",
       "       profit_change  previous_rank  years_on_global_500_list     employees  \\\n",
       "count     435.000000     499.000000                499.000000  4.990000e+02   \n",
       "mean       24.390575     222.579158                 15.064128  1.341527e+05   \n",
       "std       437.985104     146.751543                  7.915714  1.702234e+05   \n",
       "min      -793.700000       0.000000                  1.000000  3.280000e+02   \n",
       "25%       -22.650000      93.500000                  7.000000  4.272700e+04   \n",
       "50%        -0.300000     220.000000                 17.000000  9.312300e+04   \n",
       "75%        18.000000     347.500000                 23.000000  1.690025e+05   \n",
       "max      8909.500000     500.000000                 23.000000  2.300000e+06   \n",
       "\n",
       "       total_stockholder_equity  \n",
       "count                499.000000  \n",
       "mean               30622.647295  \n",
       "std                43686.203717  \n",
       "min               -59909.000000  \n",
       "25%                 7552.500000  \n",
       "50%                15724.000000  \n",
       "75%                37977.000000  \n",
       "max               301893.000000  "
      ]
     },
     "execution_count": 74,
     "metadata": {},
     "output_type": "execute_result"
    }
   ],
   "source": [
    "f500.describe()"
   ]
  },
  {
   "cell_type": "code",
   "execution_count": 75,
   "metadata": {},
   "outputs": [
    {
     "data": {
      "text/html": [
       "<div>\n",
       "<style scoped>\n",
       "    .dataframe tbody tr th:only-of-type {\n",
       "        vertical-align: middle;\n",
       "    }\n",
       "\n",
       "    .dataframe tbody tr th {\n",
       "        vertical-align: top;\n",
       "    }\n",
       "\n",
       "    .dataframe thead th {\n",
       "        text-align: right;\n",
       "    }\n",
       "</style>\n",
       "<table border=\"1\" class=\"dataframe\">\n",
       "  <thead>\n",
       "    <tr style=\"text-align: right;\">\n",
       "      <th></th>\n",
       "      <th>ceo</th>\n",
       "      <th>industry</th>\n",
       "      <th>sector</th>\n",
       "      <th>country</th>\n",
       "      <th>hq_location</th>\n",
       "      <th>website</th>\n",
       "    </tr>\n",
       "  </thead>\n",
       "  <tbody>\n",
       "    <tr>\n",
       "      <td>count</td>\n",
       "      <td>499</td>\n",
       "      <td>499</td>\n",
       "      <td>499</td>\n",
       "      <td>499</td>\n",
       "      <td>499</td>\n",
       "      <td>499</td>\n",
       "    </tr>\n",
       "    <tr>\n",
       "      <td>unique</td>\n",
       "      <td>499</td>\n",
       "      <td>58</td>\n",
       "      <td>21</td>\n",
       "      <td>33</td>\n",
       "      <td>234</td>\n",
       "      <td>499</td>\n",
       "    </tr>\n",
       "    <tr>\n",
       "      <td>top</td>\n",
       "      <td>Matthias Muller</td>\n",
       "      <td>Banks: Commercial and Savings</td>\n",
       "      <td>Financials</td>\n",
       "      <td>USA</td>\n",
       "      <td>Beijing, China</td>\n",
       "      <td>http://www.commbank.com.au</td>\n",
       "    </tr>\n",
       "    <tr>\n",
       "      <td>freq</td>\n",
       "      <td>1</td>\n",
       "      <td>51</td>\n",
       "      <td>118</td>\n",
       "      <td>132</td>\n",
       "      <td>56</td>\n",
       "      <td>1</td>\n",
       "    </tr>\n",
       "  </tbody>\n",
       "</table>\n",
       "</div>"
      ],
      "text/plain": [
       "                    ceo                       industry      sector country  \\\n",
       "count               499                            499         499     499   \n",
       "unique              499                             58          21      33   \n",
       "top     Matthias Muller  Banks: Commercial and Savings  Financials     USA   \n",
       "freq                  1                             51         118     132   \n",
       "\n",
       "           hq_location                     website  \n",
       "count              499                         499  \n",
       "unique             234                         499  \n",
       "top     Beijing, China  http://www.commbank.com.au  \n",
       "freq                56                           1  "
      ]
     },
     "execution_count": 75,
     "metadata": {},
     "output_type": "execute_result"
    }
   ],
   "source": [
    "f500.describe(include = \"O\")"
   ]
  },
  {
   "cell_type": "code",
   "execution_count": 76,
   "metadata": {},
   "outputs": [
    {
     "name": "stdout",
     "output_type": "stream",
     "text": [
      "<class 'pandas.core.series.Series'>\n"
     ]
    }
   ],
   "source": [
    "print(type(f500.loc[:, \"rank\"].describe()))"
   ]
  },
  {
   "cell_type": "code",
   "execution_count": 77,
   "metadata": {},
   "outputs": [
    {
     "data": {
      "text/html": [
       "<div>\n",
       "<style scoped>\n",
       "    .dataframe tbody tr th:only-of-type {\n",
       "        vertical-align: middle;\n",
       "    }\n",
       "\n",
       "    .dataframe tbody tr th {\n",
       "        vertical-align: top;\n",
       "    }\n",
       "\n",
       "    .dataframe thead th {\n",
       "        text-align: right;\n",
       "    }\n",
       "</style>\n",
       "<table border=\"1\" class=\"dataframe\">\n",
       "  <thead>\n",
       "    <tr style=\"text-align: right;\">\n",
       "      <th></th>\n",
       "      <th>ceo</th>\n",
       "      <th>industry</th>\n",
       "      <th>sector</th>\n",
       "      <th>country</th>\n",
       "      <th>hq_location</th>\n",
       "      <th>website</th>\n",
       "    </tr>\n",
       "  </thead>\n",
       "  <tbody>\n",
       "    <tr>\n",
       "      <td>count</td>\n",
       "      <td>499</td>\n",
       "      <td>499</td>\n",
       "      <td>499</td>\n",
       "      <td>499</td>\n",
       "      <td>499</td>\n",
       "      <td>499</td>\n",
       "    </tr>\n",
       "    <tr>\n",
       "      <td>unique</td>\n",
       "      <td>499</td>\n",
       "      <td>58</td>\n",
       "      <td>21</td>\n",
       "      <td>33</td>\n",
       "      <td>234</td>\n",
       "      <td>499</td>\n",
       "    </tr>\n",
       "    <tr>\n",
       "      <td>top</td>\n",
       "      <td>Matthias Muller</td>\n",
       "      <td>Banks: Commercial and Savings</td>\n",
       "      <td>Financials</td>\n",
       "      <td>USA</td>\n",
       "      <td>Beijing, China</td>\n",
       "      <td>http://www.commbank.com.au</td>\n",
       "    </tr>\n",
       "    <tr>\n",
       "      <td>freq</td>\n",
       "      <td>1</td>\n",
       "      <td>51</td>\n",
       "      <td>118</td>\n",
       "      <td>132</td>\n",
       "      <td>56</td>\n",
       "      <td>1</td>\n",
       "    </tr>\n",
       "  </tbody>\n",
       "</table>\n",
       "</div>"
      ],
      "text/plain": [
       "                    ceo                       industry      sector country  \\\n",
       "count               499                            499         499     499   \n",
       "unique              499                             58          21      33   \n",
       "top     Matthias Muller  Banks: Commercial and Savings  Financials     USA   \n",
       "freq                  1                             51         118     132   \n",
       "\n",
       "           hq_location                     website  \n",
       "count              499                         499  \n",
       "unique             234                         499  \n",
       "top     Beijing, China  http://www.commbank.com.au  \n",
       "freq                56                           1  "
      ]
     },
     "execution_count": 77,
     "metadata": {},
     "output_type": "execute_result"
    }
   ],
   "source": [
    "f500.describe(include = [\"O\"])"
   ]
  },
  {
   "cell_type": "code",
   "execution_count": null,
   "metadata": {},
   "outputs": [],
   "source": []
  },
  {
   "cell_type": "code",
   "execution_count": 78,
   "metadata": {},
   "outputs": [
    {
     "name": "stdout",
     "output_type": "stream",
     "text": [
      "company\n",
      "Walmart                           0\n",
      "State Grid                        0\n",
      "Sinopec Group                     0\n",
      "China National Petroleum          0\n",
      "Toyota Motor                      0\n",
      "                                 ..\n",
      "Teva Pharmaceutical Industries    0\n",
      "New China Life Insurance          0\n",
      "Wm. Morrison Supermarkets         0\n",
      "TUI                               0\n",
      "AutoNation                        0\n",
      "Name: rank, Length: 500, dtype: int64\n"
     ]
    }
   ],
   "source": [
    "#pandas assignment \n",
    "c = f500.copy()\n",
    "c[\"rank\"] = 0\n",
    "print(c[\"rank\"])\n",
    "c[\"rank\"] = range(1,501)\n"
   ]
  },
  {
   "cell_type": "code",
   "execution_count": 79,
   "metadata": {},
   "outputs": [
    {
     "name": "stdout",
     "output_type": "stream",
     "text": [
      "company\n",
      "Walmart                             1\n",
      "State Grid                          2\n",
      "Sinopec Group                       3\n",
      "China National Petroleum            4\n",
      "Toyota Motor                        5\n",
      "                                 ... \n",
      "Teva Pharmaceutical Industries    496\n",
      "New China Life Insurance          497\n",
      "Wm. Morrison Supermarkets         498\n",
      "TUI                               499\n",
      "AutoNation                        500\n",
      "Name: rank, Length: 500, dtype: int32\n"
     ]
    }
   ],
   "source": [
    "print(c[\"rank\"])"
   ]
  },
  {
   "cell_type": "code",
   "execution_count": 80,
   "metadata": {},
   "outputs": [
    {
     "data": {
      "text/plain": [
       "'Eslam Hosam'"
      ]
     },
     "execution_count": 80,
     "metadata": {},
     "output_type": "execute_result"
    }
   ],
   "source": [
    "c.loc[\"Walmart\" , \"ceo\"] = \"Eslam Hosam\"\n",
    "c.loc[\"Walmart\" , \"ceo\"]"
   ]
  },
  {
   "cell_type": "code",
   "execution_count": 81,
   "metadata": {},
   "outputs": [
    {
     "data": {
      "text/html": [
       "<div>\n",
       "<style scoped>\n",
       "    .dataframe tbody tr th:only-of-type {\n",
       "        vertical-align: middle;\n",
       "    }\n",
       "\n",
       "    .dataframe tbody tr th {\n",
       "        vertical-align: top;\n",
       "    }\n",
       "\n",
       "    .dataframe thead th {\n",
       "        text-align: right;\n",
       "    }\n",
       "</style>\n",
       "<table border=\"1\" class=\"dataframe\">\n",
       "  <thead>\n",
       "    <tr style=\"text-align: right;\">\n",
       "      <th></th>\n",
       "      <th>rank</th>\n",
       "      <th>revenues</th>\n",
       "    </tr>\n",
       "    <tr>\n",
       "      <th>company</th>\n",
       "      <th></th>\n",
       "      <th></th>\n",
       "    </tr>\n",
       "  </thead>\n",
       "  <tbody>\n",
       "    <tr>\n",
       "      <td>Walmart</td>\n",
       "      <td>1.0</td>\n",
       "      <td>485873.0</td>\n",
       "    </tr>\n",
       "    <tr>\n",
       "      <td>State Grid</td>\n",
       "      <td>2.0</td>\n",
       "      <td>315199.0</td>\n",
       "    </tr>\n",
       "    <tr>\n",
       "      <td>Sinopec Group</td>\n",
       "      <td>3.0</td>\n",
       "      <td>267518.0</td>\n",
       "    </tr>\n",
       "    <tr>\n",
       "      <td>China National Petroleum</td>\n",
       "      <td>4.0</td>\n",
       "      <td>262573.0</td>\n",
       "    </tr>\n",
       "    <tr>\n",
       "      <td>Toyota Motor</td>\n",
       "      <td>5.0</td>\n",
       "      <td>254694.0</td>\n",
       "    </tr>\n",
       "  </tbody>\n",
       "</table>\n",
       "</div>"
      ],
      "text/plain": [
       "                          rank  revenues\n",
       "company                                 \n",
       "Walmart                    1.0  485873.0\n",
       "State Grid                 2.0  315199.0\n",
       "Sinopec Group              3.0  267518.0\n",
       "China National Petroleum   4.0  262573.0\n",
       "Toyota Motor               5.0  254694.0"
      ]
     },
     "execution_count": 81,
     "metadata": {},
     "output_type": "execute_result"
    }
   ],
   "source": [
    "#top rank companies\n",
    "top_5 = f500.loc[:, [\"rank\" , \"revenues\"]]\n",
    "top_5.head()"
   ]
  },
  {
   "cell_type": "code",
   "execution_count": 82,
   "metadata": {},
   "outputs": [
    {
     "data": {
      "text/plain": [
       "rank            30.0\n",
       "revenues    267518.0\n",
       "Name: Sinopec Group, dtype: float64"
      ]
     },
     "execution_count": 82,
     "metadata": {},
     "output_type": "execute_result"
    }
   ],
   "source": [
    "top_5.loc[\"Sinopec Group\" , \"rank\"] = 30\n",
    "top_5.loc[\"Sinopec Group\"]"
   ]
  },
  {
   "cell_type": "code",
   "execution_count": 83,
   "metadata": {},
   "outputs": [
    {
     "name": "stdout",
     "output_type": "stream",
     "text": [
      "the ceo of Dow Chemicals is Jim Fitterling\n"
     ]
    }
   ],
   "source": [
    "f500.loc[\"Dow Chemical\" , \"ceo\"] = \"Jim Fitterling\"\n",
    "print(\"the ceo of Dow Chemicals is {}\".format(f500.loc[\"Dow Chemical\" , \"ceo\"]))"
   ]
  },
  {
   "cell_type": "code",
   "execution_count": 84,
   "metadata": {},
   "outputs": [
    {
     "name": "stdout",
     "output_type": "stream",
     "text": [
      "the ceo of Walmart now is Eslam Hosam\n"
     ]
    }
   ],
   "source": [
    "f500.loc[\"Walmart\" , \"ceo\"] = \"Eslam Hosam\"\n",
    "print(\"the ceo of Walmart now is {}\".format(f500.loc[\"Walmart\" , \"ceo\"]))"
   ]
  },
  {
   "cell_type": "code",
   "execution_count": 85,
   "metadata": {},
   "outputs": [
    {
     "data": {
      "text/html": [
       "<div>\n",
       "<style scoped>\n",
       "    .dataframe tbody tr th:only-of-type {\n",
       "        vertical-align: middle;\n",
       "    }\n",
       "\n",
       "    .dataframe tbody tr th {\n",
       "        vertical-align: top;\n",
       "    }\n",
       "\n",
       "    .dataframe thead th {\n",
       "        text-align: right;\n",
       "    }\n",
       "</style>\n",
       "<table border=\"1\" class=\"dataframe\">\n",
       "  <thead>\n",
       "    <tr style=\"text-align: right;\">\n",
       "      <th></th>\n",
       "      <th>a</th>\n",
       "      <th>b</th>\n",
       "    </tr>\n",
       "  </thead>\n",
       "  <tbody>\n",
       "    <tr>\n",
       "      <td>0</td>\n",
       "      <td>kyle</td>\n",
       "      <td>12</td>\n",
       "    </tr>\n",
       "    <tr>\n",
       "      <td>1</td>\n",
       "      <td>esoo</td>\n",
       "      <td>8</td>\n",
       "    </tr>\n",
       "    <tr>\n",
       "      <td>2</td>\n",
       "      <td>hamoo</td>\n",
       "      <td>8</td>\n",
       "    </tr>\n",
       "    <tr>\n",
       "      <td>3</td>\n",
       "      <td>mada</td>\n",
       "      <td>5</td>\n",
       "    </tr>\n",
       "    <tr>\n",
       "      <td>4</td>\n",
       "      <td>mada2</td>\n",
       "      <td>12</td>\n",
       "    </tr>\n",
       "  </tbody>\n",
       "</table>\n",
       "</div>"
      ],
      "text/plain": [
       "       a   b\n",
       "0   kyle  12\n",
       "1   esoo   8\n",
       "2  hamoo   8\n",
       "3   mada   5\n",
       "4  mada2  12"
      ]
     },
     "execution_count": 85,
     "metadata": {},
     "output_type": "execute_result"
    }
   ],
   "source": [
    "df = pd.DataFrame([[\"kyle\" , 12], [\"esoo\" , 8] , [\"hamoo\" , 8], [\"mada\" , 5] , [\"mada2\" , 12]] , columns=[\"a\" , \"b\"])\n",
    "df"
   ]
  },
  {
   "cell_type": "code",
   "execution_count": 86,
   "metadata": {},
   "outputs": [
    {
     "data": {
      "text/html": [
       "<div>\n",
       "<style scoped>\n",
       "    .dataframe tbody tr th:only-of-type {\n",
       "        vertical-align: middle;\n",
       "    }\n",
       "\n",
       "    .dataframe tbody tr th {\n",
       "        vertical-align: top;\n",
       "    }\n",
       "\n",
       "    .dataframe thead th {\n",
       "        text-align: right;\n",
       "    }\n",
       "</style>\n",
       "<table border=\"1\" class=\"dataframe\">\n",
       "  <thead>\n",
       "    <tr style=\"text-align: right;\">\n",
       "      <th></th>\n",
       "      <th>a</th>\n",
       "      <th>b</th>\n",
       "    </tr>\n",
       "  </thead>\n",
       "  <tbody>\n",
       "    <tr>\n",
       "      <td>1</td>\n",
       "      <td>esoo</td>\n",
       "      <td>8</td>\n",
       "    </tr>\n",
       "    <tr>\n",
       "      <td>2</td>\n",
       "      <td>hamoo</td>\n",
       "      <td>8</td>\n",
       "    </tr>\n",
       "  </tbody>\n",
       "</table>\n",
       "</div>"
      ],
      "text/plain": [
       "       a  b\n",
       "1   esoo  8\n",
       "2  hamoo  8"
      ]
     },
     "execution_count": 86,
     "metadata": {},
     "output_type": "execute_result"
    }
   ],
   "source": [
    "df[df[\"b\"] == 8]"
   ]
  },
  {
   "cell_type": "code",
   "execution_count": 87,
   "metadata": {},
   "outputs": [
    {
     "name": "stdout",
     "output_type": "stream",
     "text": [
      "      a  b\n",
      "1  esoo  8\n"
     ]
    }
   ],
   "source": [
    "print(df[df[\"a\"] == \"esoo\"])"
   ]
  },
  {
   "cell_type": "code",
   "execution_count": 88,
   "metadata": {},
   "outputs": [
    {
     "data": {
      "text/html": [
       "<div>\n",
       "<style scoped>\n",
       "    .dataframe tbody tr th:only-of-type {\n",
       "        vertical-align: middle;\n",
       "    }\n",
       "\n",
       "    .dataframe tbody tr th {\n",
       "        vertical-align: top;\n",
       "    }\n",
       "\n",
       "    .dataframe thead th {\n",
       "        text-align: right;\n",
       "    }\n",
       "</style>\n",
       "<table border=\"1\" class=\"dataframe\">\n",
       "  <thead>\n",
       "    <tr style=\"text-align: right;\">\n",
       "      <th></th>\n",
       "      <th>a</th>\n",
       "      <th>b</th>\n",
       "    </tr>\n",
       "  </thead>\n",
       "  <tbody>\n",
       "    <tr>\n",
       "      <td>0</td>\n",
       "      <td>kyle</td>\n",
       "      <td>12</td>\n",
       "    </tr>\n",
       "    <tr>\n",
       "      <td>4</td>\n",
       "      <td>mada2</td>\n",
       "      <td>12</td>\n",
       "    </tr>\n",
       "  </tbody>\n",
       "</table>\n",
       "</div>"
      ],
      "text/plain": [
       "       a   b\n",
       "0   kyle  12\n",
       "4  mada2  12"
      ]
     },
     "execution_count": 88,
     "metadata": {},
     "output_type": "execute_result"
    }
   ],
   "source": [
    "df[df[\"b\"] == 12]"
   ]
  },
  {
   "cell_type": "code",
   "execution_count": 89,
   "metadata": {},
   "outputs": [
    {
     "data": {
      "text/plain": [
       "1    8\n",
       "Name: b, dtype: int64"
      ]
     },
     "execution_count": 89,
     "metadata": {},
     "output_type": "execute_result"
    }
   ],
   "source": [
    "df.loc[df[\"a\"] == \"esoo\" , \"b\"]"
   ]
  },
  {
   "cell_type": "code",
   "execution_count": 90,
   "metadata": {},
   "outputs": [
    {
     "data": {
      "text/plain": [
       "4    12\n",
       "Name: b, dtype: int64"
      ]
     },
     "execution_count": 90,
     "metadata": {},
     "output_type": "execute_result"
    }
   ],
   "source": [
    "df.loc[df[\"a\"] == \"mada2\" , \"b\"]"
   ]
  },
  {
   "cell_type": "code",
   "execution_count": 91,
   "metadata": {},
   "outputs": [
    {
     "data": {
      "text/html": [
       "<div>\n",
       "<style scoped>\n",
       "    .dataframe tbody tr th:only-of-type {\n",
       "        vertical-align: middle;\n",
       "    }\n",
       "\n",
       "    .dataframe tbody tr th {\n",
       "        vertical-align: top;\n",
       "    }\n",
       "\n",
       "    .dataframe thead th {\n",
       "        text-align: right;\n",
       "    }\n",
       "</style>\n",
       "<table border=\"1\" class=\"dataframe\">\n",
       "  <thead>\n",
       "    <tr style=\"text-align: right;\">\n",
       "      <th></th>\n",
       "      <th>a</th>\n",
       "      <th>b</th>\n",
       "    </tr>\n",
       "  </thead>\n",
       "  <tbody>\n",
       "    <tr>\n",
       "      <td>3</td>\n",
       "      <td>mada</td>\n",
       "      <td>5</td>\n",
       "    </tr>\n",
       "  </tbody>\n",
       "</table>\n",
       "</div>"
      ],
      "text/plain": [
       "      a  b\n",
       "3  mada  5"
      ]
     },
     "execution_count": 91,
     "metadata": {},
     "output_type": "execute_result"
    }
   ],
   "source": [
    "c1 = df[\"a\"] == \"mada\"\n",
    "c2 = df[\"a\"] == \"mada2\"\n",
    "df[c1]"
   ]
  },
  {
   "cell_type": "code",
   "execution_count": 92,
   "metadata": {},
   "outputs": [],
   "source": [
    "bool_1 = f500[\"industry\"] == \"Motor Vehicles and Parts\"\n",
    "motor_countries = f500.loc[bool_1 , \"country\"]"
   ]
  },
  {
   "cell_type": "code",
   "execution_count": 93,
   "metadata": {},
   "outputs": [
    {
     "data": {
      "text/plain": [
       "company\n",
       "Toyota Motor                           Motor Vehicles and Parts\n",
       "Volkswagen                             Motor Vehicles and Parts\n",
       "Daimler                                Motor Vehicles and Parts\n",
       "General Motors                         Motor Vehicles and Parts\n",
       "Ford Motor                             Motor Vehicles and Parts\n",
       "Honda Motor                            Motor Vehicles and Parts\n",
       "SAIC Motor                             Motor Vehicles and Parts\n",
       "Nissan Motor                           Motor Vehicles and Parts\n",
       "BMW Group                              Motor Vehicles and Parts\n",
       "Dongfeng Motor                         Motor Vehicles and Parts\n",
       "Robert Bosch                           Motor Vehicles and Parts\n",
       "Hyundai Motor                          Motor Vehicles and Parts\n",
       "China FAW Group                        Motor Vehicles and Parts\n",
       "Beijing Automotive Group               Motor Vehicles and Parts\n",
       "Peugeot                                Motor Vehicles and Parts\n",
       "Renault                                Motor Vehicles and Parts\n",
       "Kia Motors                             Motor Vehicles and Parts\n",
       "Continental                            Motor Vehicles and Parts\n",
       "Denso                                  Motor Vehicles and Parts\n",
       "Guangzhou Automobile Industry Group    Motor Vehicles and Parts\n",
       "Tata Motors                            Motor Vehicles and Parts\n",
       "ZF Friedrichshafen                     Motor Vehicles and Parts\n",
       "Jardine Matheson                       Motor Vehicles and Parts\n",
       "Magna International                    Motor Vehicles and Parts\n",
       "Volvo                                  Motor Vehicles and Parts\n",
       "Hyundai Mobis                          Motor Vehicles and Parts\n",
       "Aisin Seiki                            Motor Vehicles and Parts\n",
       "Zhejiang Geely Holding Group           Motor Vehicles and Parts\n",
       "Subaru                                 Motor Vehicles and Parts\n",
       "Bridgestone                            Motor Vehicles and Parts\n",
       "Mazda Motor                            Motor Vehicles and Parts\n",
       "Suzuki Motor                           Motor Vehicles and Parts\n",
       "Sumitomo Electric Industries           Motor Vehicles and Parts\n",
       "Michelin                               Motor Vehicles and Parts\n",
       "Name: sector, dtype: object"
      ]
     },
     "execution_count": 93,
     "metadata": {},
     "output_type": "execute_result"
    }
   ],
   "source": [
    "f500.loc[f500.loc[:,\"sector\"] == 'Motor Vehicles & Parts', \"sector\" ] = 'Motor Vehicles and Parts'\n",
    "\n",
    "f500.loc[f500.loc[:,\"sector\"] == 'Motor Vehicles and Parts', \"sector\" ]"
   ]
  },
  {
   "cell_type": "code",
   "execution_count": 94,
   "metadata": {},
   "outputs": [],
   "source": [
    "f500.loc[f500[\"industry\"] == \"Motor Vehicles and Parts\" , \"country\"] = \"Egypt\""
   ]
  },
  {
   "cell_type": "code",
   "execution_count": 95,
   "metadata": {},
   "outputs": [
    {
     "data": {
      "text/plain": [
       "Egypt    34\n",
       "Name: country, dtype: int64"
      ]
     },
     "execution_count": 95,
     "metadata": {},
     "output_type": "execute_result"
    }
   ],
   "source": [
    "f500.loc[f500[\"industry\"] == \"Motor Vehicles and Parts\" , 'country'].value_counts()"
   ]
  },
  {
   "cell_type": "code",
   "execution_count": 96,
   "metadata": {},
   "outputs": [
    {
     "data": {
      "text/plain": [
       "False    499\n",
       "True       1\n",
       "Name: previous_rank, dtype: int64"
      ]
     },
     "execution_count": 96,
     "metadata": {},
     "output_type": "execute_result"
    }
   ],
   "source": [
    "f500.loc[f500[\"previous_rank\"] == 0 , \"previous_rank\"] = np.nan\n",
    "(f500[\"previous_rank\"] == 50).value_counts()"
   ]
  },
  {
   "cell_type": "code",
   "execution_count": 97,
   "metadata": {},
   "outputs": [
    {
     "data": {
      "text/plain": [
       "NaN      33\n",
       "471.0     1\n",
       "234.0     1\n",
       "125.0     1\n",
       "166.0     1\n",
       "         ..\n",
       "191.0     1\n",
       "369.0     1\n",
       "179.0     1\n",
       "161.0     1\n",
       "1.0       1\n",
       "Name: previous_rank, Length: 468, dtype: int64"
      ]
     },
     "execution_count": 97,
     "metadata": {},
     "output_type": "execute_result"
    }
   ],
   "source": [
    "f500[\"previous_rank\"].value_counts(dropna = False)"
   ]
  },
  {
   "cell_type": "code",
   "execution_count": 98,
   "metadata": {},
   "outputs": [
    {
     "name": "stdout",
     "output_type": "stream",
     "text": [
      "company\n",
      "Walmart                           20\n",
      "State Grid                        20\n",
      "Sinopec Group                     20\n",
      "China National Petroleum          20\n",
      "Toyota Motor                      20\n",
      "                                  ..\n",
      "Teva Pharmaceutical Industries    20\n",
      "New China Life Insurance          20\n",
      "Wm. Morrison Supermarkets         20\n",
      "TUI                               20\n",
      "AutoNation                        20\n",
      "Name: hg, Length: 500, dtype: int64\n"
     ]
    }
   ],
   "source": [
    "f500[\"hg\"] = 20\n",
    "print(f500[\"hg\"])"
   ]
  },
  {
   "cell_type": "code",
   "execution_count": 99,
   "metadata": {},
   "outputs": [
    {
     "data": {
      "text/plain": [
       "company\n",
       "Walmart                          -185182.0\n",
       "State Grid                       -480266.7\n",
       "Sinopec Group                    -309468.1\n",
       "China National Petroleum         -583751.5\n",
       "Toyota Motor                     -420675.7\n",
       "                                    ...   \n",
       "Teva Pharmaceutical Industries         NaN\n",
       "New China Life Insurance          -99865.1\n",
       "Wm. Morrison Supermarkets         -11223.6\n",
       "TUI                               -15095.3\n",
       "AutoNation                         -9629.5\n",
       "Name: difference, Length: 500, dtype: float64"
      ]
     },
     "execution_count": 99,
     "metadata": {},
     "output_type": "execute_result"
    }
   ],
   "source": [
    "f500[\"difference\"] = f500[\"profits\"] - f500[\"assets\"]\n",
    "f500[\"difference\"]"
   ]
  },
  {
   "cell_type": "code",
   "execution_count": 100,
   "metadata": {},
   "outputs": [
    {
     "data": {
      "text/plain": [
       "(500, 18)"
      ]
     },
     "execution_count": 100,
     "metadata": {},
     "output_type": "execute_result"
    }
   ],
   "source": [
    "f500.shape"
   ]
  },
  {
   "cell_type": "markdown",
   "metadata": {},
   "source": [
    "- now we have 18 columns because we have added more columns to our dataset"
   ]
  },
  {
   "cell_type": "markdown",
   "metadata": {},
   "source": [
    "- challenge top performance by country"
   ]
  },
  {
   "cell_type": "code",
   "execution_count": 101,
   "metadata": {},
   "outputs": [
    {
     "data": {
      "text/plain": [
       "USA      130\n",
       "China    102\n",
       "Name: country, dtype: int64"
      ]
     },
     "execution_count": 101,
     "metadata": {},
     "output_type": "execute_result"
    }
   ],
   "source": [
    "top_2 = f500[\"country\"].value_counts().head(2)\n",
    "top_2"
   ]
  },
  {
   "cell_type": "markdown",
   "metadata": {},
   "source": [
    "- Create a series, industry_usa, containing counts of the two most common values in the industry column for companies headquartered in the USA."
   ]
  },
  {
   "cell_type": "code",
   "execution_count": 102,
   "metadata": {},
   "outputs": [
    {
     "name": "stdout",
     "output_type": "stream",
     "text": [
      "USA top industries are :\n",
      " Banks: Commercial and Savings               8\n",
      "Insurance: Property and Casualty (Stock)    7\n",
      "Name: industry, dtype: int64 \n"
     ]
    }
   ],
   "source": [
    "top_industry_usa = f500.loc[f500[\"country\"] == \"USA\", \"industry\"].value_counts().head(2)\n",
    "print(\"USA top industries are :\\n {} \".format(top_industry_usa))"
   ]
  },
  {
   "cell_type": "markdown",
   "metadata": {},
   "source": [
    "- Create a series, sector_china, containing counts of the three most common values in the sector column for companies headquartered in the China."
   ]
  },
  {
   "cell_type": "code",
   "execution_count": 103,
   "metadata": {},
   "outputs": [
    {
     "data": {
      "text/plain": [
       "Financials                    25\n",
       "Energy                        22\n",
       "Wholesalers                    9\n",
       "Engineering & Construction     8\n",
       "Technology                     8\n",
       "Name: sector, dtype: int64"
      ]
     },
     "execution_count": 103,
     "metadata": {},
     "output_type": "execute_result"
    }
   ],
   "source": [
    "series_china = f500.loc[f500[\"country\"] == \"China\" , \"sector\"].value_counts().head()\n",
    "series_china"
   ]
  },
  {
   "cell_type": "markdown",
   "metadata": {},
   "source": [
    "# mission 5"
   ]
  },
  {
   "cell_type": "code",
   "execution_count": 104,
   "metadata": {},
   "outputs": [
    {
     "data": {
      "text/html": [
       "<div>\n",
       "<style scoped>\n",
       "    .dataframe tbody tr th:only-of-type {\n",
       "        vertical-align: middle;\n",
       "    }\n",
       "\n",
       "    .dataframe tbody tr th {\n",
       "        vertical-align: top;\n",
       "    }\n",
       "\n",
       "    .dataframe thead th {\n",
       "        text-align: right;\n",
       "    }\n",
       "</style>\n",
       "<table border=\"1\" class=\"dataframe\">\n",
       "  <thead>\n",
       "    <tr style=\"text-align: right;\">\n",
       "      <th></th>\n",
       "      <th>revenues</th>\n",
       "      <th>revenue_change</th>\n",
       "    </tr>\n",
       "    <tr>\n",
       "      <th>company</th>\n",
       "      <th></th>\n",
       "      <th></th>\n",
       "    </tr>\n",
       "  </thead>\n",
       "  <tbody>\n",
       "    <tr>\n",
       "      <td>Walmart</td>\n",
       "      <td>485873.0</td>\n",
       "      <td>0.8</td>\n",
       "    </tr>\n",
       "    <tr>\n",
       "      <td>State Grid</td>\n",
       "      <td>315199.0</td>\n",
       "      <td>-4.4</td>\n",
       "    </tr>\n",
       "    <tr>\n",
       "      <td>Sinopec Group</td>\n",
       "      <td>267518.0</td>\n",
       "      <td>-9.1</td>\n",
       "    </tr>\n",
       "    <tr>\n",
       "      <td>China National Petroleum</td>\n",
       "      <td>262573.0</td>\n",
       "      <td>-12.3</td>\n",
       "    </tr>\n",
       "    <tr>\n",
       "      <td>Toyota Motor</td>\n",
       "      <td>254694.0</td>\n",
       "      <td>7.7</td>\n",
       "    </tr>\n",
       "    <tr>\n",
       "      <td>...</td>\n",
       "      <td>...</td>\n",
       "      <td>...</td>\n",
       "    </tr>\n",
       "    <tr>\n",
       "      <td>Teva Pharmaceutical Industries</td>\n",
       "      <td>NaN</td>\n",
       "      <td>NaN</td>\n",
       "    </tr>\n",
       "    <tr>\n",
       "      <td>New China Life Insurance</td>\n",
       "      <td>21796.0</td>\n",
       "      <td>-13.3</td>\n",
       "    </tr>\n",
       "    <tr>\n",
       "      <td>Wm. Morrison Supermarkets</td>\n",
       "      <td>21741.0</td>\n",
       "      <td>-11.3</td>\n",
       "    </tr>\n",
       "    <tr>\n",
       "      <td>TUI</td>\n",
       "      <td>21655.0</td>\n",
       "      <td>-5.5</td>\n",
       "    </tr>\n",
       "    <tr>\n",
       "      <td>AutoNation</td>\n",
       "      <td>21609.0</td>\n",
       "      <td>3.6</td>\n",
       "    </tr>\n",
       "  </tbody>\n",
       "</table>\n",
       "<p>500 rows × 2 columns</p>\n",
       "</div>"
      ],
      "text/plain": [
       "                                revenues  revenue_change\n",
       "company                                                 \n",
       "Walmart                         485873.0             0.8\n",
       "State Grid                      315199.0            -4.4\n",
       "Sinopec Group                   267518.0            -9.1\n",
       "China National Petroleum        262573.0           -12.3\n",
       "Toyota Motor                    254694.0             7.7\n",
       "...                                  ...             ...\n",
       "Teva Pharmaceutical Industries       NaN             NaN\n",
       "New China Life Insurance         21796.0           -13.3\n",
       "Wm. Morrison Supermarkets        21741.0           -11.3\n",
       "TUI                              21655.0            -5.5\n",
       "AutoNation                       21609.0             3.6\n",
       "\n",
       "[500 rows x 2 columns]"
      ]
     },
     "execution_count": 104,
     "metadata": {},
     "output_type": "execute_result"
    }
   ],
   "source": [
    "# select some rows\n",
    "f500_selection = f500.loc[:, [\"revenues\", \"revenue_change\"]]\n",
    "f500_selection"
   ]
  },
  {
   "cell_type": "code",
   "execution_count": 105,
   "metadata": {},
   "outputs": [
    {
     "data": {
      "text/html": [
       "<div>\n",
       "<style scoped>\n",
       "    .dataframe tbody tr th:only-of-type {\n",
       "        vertical-align: middle;\n",
       "    }\n",
       "\n",
       "    .dataframe tbody tr th {\n",
       "        vertical-align: top;\n",
       "    }\n",
       "\n",
       "    .dataframe thead th {\n",
       "        text-align: right;\n",
       "    }\n",
       "</style>\n",
       "<table border=\"1\" class=\"dataframe\">\n",
       "  <thead>\n",
       "    <tr style=\"text-align: right;\">\n",
       "      <th></th>\n",
       "      <th>company</th>\n",
       "      <th>rank</th>\n",
       "      <th>revenues</th>\n",
       "      <th>revenue_change</th>\n",
       "      <th>profits</th>\n",
       "      <th>assets</th>\n",
       "      <th>profit_change</th>\n",
       "      <th>ceo</th>\n",
       "      <th>industry</th>\n",
       "      <th>sector</th>\n",
       "      <th>previous_rank</th>\n",
       "      <th>country</th>\n",
       "      <th>hq_location</th>\n",
       "      <th>website</th>\n",
       "      <th>years_on_global_500_list</th>\n",
       "      <th>employees</th>\n",
       "      <th>total_stockholder_equity</th>\n",
       "    </tr>\n",
       "  </thead>\n",
       "  <tbody>\n",
       "    <tr>\n",
       "      <td>0</td>\n",
       "      <td>Walmart</td>\n",
       "      <td>1</td>\n",
       "      <td>485873</td>\n",
       "      <td>0.8</td>\n",
       "      <td>13643.0</td>\n",
       "      <td>198825</td>\n",
       "      <td>-7.2</td>\n",
       "      <td>C. Douglas McMillon</td>\n",
       "      <td>General Merchandisers</td>\n",
       "      <td>Retailing</td>\n",
       "      <td>1</td>\n",
       "      <td>USA</td>\n",
       "      <td>Bentonville, AR</td>\n",
       "      <td>http://www.walmart.com</td>\n",
       "      <td>23</td>\n",
       "      <td>2300000</td>\n",
       "      <td>77798</td>\n",
       "    </tr>\n",
       "    <tr>\n",
       "      <td>1</td>\n",
       "      <td>State Grid</td>\n",
       "      <td>2</td>\n",
       "      <td>315199</td>\n",
       "      <td>-4.4</td>\n",
       "      <td>9571.3</td>\n",
       "      <td>489838</td>\n",
       "      <td>-6.2</td>\n",
       "      <td>Kou Wei</td>\n",
       "      <td>Utilities</td>\n",
       "      <td>Energy</td>\n",
       "      <td>2</td>\n",
       "      <td>China</td>\n",
       "      <td>Beijing, China</td>\n",
       "      <td>http://www.sgcc.com.cn</td>\n",
       "      <td>17</td>\n",
       "      <td>926067</td>\n",
       "      <td>209456</td>\n",
       "    </tr>\n",
       "    <tr>\n",
       "      <td>2</td>\n",
       "      <td>Sinopec Group</td>\n",
       "      <td>3</td>\n",
       "      <td>267518</td>\n",
       "      <td>-9.1</td>\n",
       "      <td>1257.9</td>\n",
       "      <td>310726</td>\n",
       "      <td>-65.0</td>\n",
       "      <td>Wang Yupu</td>\n",
       "      <td>Petroleum Refining</td>\n",
       "      <td>Energy</td>\n",
       "      <td>4</td>\n",
       "      <td>China</td>\n",
       "      <td>Beijing, China</td>\n",
       "      <td>http://www.sinopec.com</td>\n",
       "      <td>19</td>\n",
       "      <td>713288</td>\n",
       "      <td>106523</td>\n",
       "    </tr>\n",
       "    <tr>\n",
       "      <td>3</td>\n",
       "      <td>China National Petroleum</td>\n",
       "      <td>4</td>\n",
       "      <td>262573</td>\n",
       "      <td>-12.3</td>\n",
       "      <td>1867.5</td>\n",
       "      <td>585619</td>\n",
       "      <td>-73.7</td>\n",
       "      <td>Zhang Jianhua</td>\n",
       "      <td>Petroleum Refining</td>\n",
       "      <td>Energy</td>\n",
       "      <td>3</td>\n",
       "      <td>China</td>\n",
       "      <td>Beijing, China</td>\n",
       "      <td>http://www.cnpc.com.cn</td>\n",
       "      <td>17</td>\n",
       "      <td>1512048</td>\n",
       "      <td>301893</td>\n",
       "    </tr>\n",
       "    <tr>\n",
       "      <td>4</td>\n",
       "      <td>Toyota Motor</td>\n",
       "      <td>5</td>\n",
       "      <td>254694</td>\n",
       "      <td>7.7</td>\n",
       "      <td>16899.3</td>\n",
       "      <td>437575</td>\n",
       "      <td>-12.3</td>\n",
       "      <td>Akio Toyoda</td>\n",
       "      <td>Motor Vehicles and Parts</td>\n",
       "      <td>Motor Vehicles &amp; Parts</td>\n",
       "      <td>8</td>\n",
       "      <td>Japan</td>\n",
       "      <td>Toyota, Japan</td>\n",
       "      <td>http://www.toyota-global.com</td>\n",
       "      <td>23</td>\n",
       "      <td>364445</td>\n",
       "      <td>157210</td>\n",
       "    </tr>\n",
       "  </tbody>\n",
       "</table>\n",
       "</div>"
      ],
      "text/plain": [
       "                    company  rank  revenues  revenue_change  profits  assets  \\\n",
       "0                   Walmart     1    485873             0.8  13643.0  198825   \n",
       "1                State Grid     2    315199            -4.4   9571.3  489838   \n",
       "2             Sinopec Group     3    267518            -9.1   1257.9  310726   \n",
       "3  China National Petroleum     4    262573           -12.3   1867.5  585619   \n",
       "4              Toyota Motor     5    254694             7.7  16899.3  437575   \n",
       "\n",
       "   profit_change                  ceo                  industry  \\\n",
       "0           -7.2  C. Douglas McMillon     General Merchandisers   \n",
       "1           -6.2              Kou Wei                 Utilities   \n",
       "2          -65.0            Wang Yupu        Petroleum Refining   \n",
       "3          -73.7        Zhang Jianhua        Petroleum Refining   \n",
       "4          -12.3          Akio Toyoda  Motor Vehicles and Parts   \n",
       "\n",
       "                   sector  previous_rank country      hq_location  \\\n",
       "0               Retailing              1     USA  Bentonville, AR   \n",
       "1                  Energy              2   China   Beijing, China   \n",
       "2                  Energy              4   China   Beijing, China   \n",
       "3                  Energy              3   China   Beijing, China   \n",
       "4  Motor Vehicles & Parts              8   Japan    Toyota, Japan   \n",
       "\n",
       "                        website  years_on_global_500_list  employees  \\\n",
       "0        http://www.walmart.com                        23    2300000   \n",
       "1        http://www.sgcc.com.cn                        17     926067   \n",
       "2        http://www.sinopec.com                        19     713288   \n",
       "3        http://www.cnpc.com.cn                        17    1512048   \n",
       "4  http://www.toyota-global.com                        23     364445   \n",
       "\n",
       "   total_stockholder_equity  \n",
       "0                     77798  \n",
       "1                    209456  \n",
       "2                    106523  \n",
       "3                    301893  \n",
       "4                    157210  "
      ]
     },
     "execution_count": 105,
     "metadata": {},
     "output_type": "execute_result"
    }
   ],
   "source": [
    "f500 = pd.read_csv(\"f500.csv\")\n",
    "f500.head()"
   ]
  },
  {
   "cell_type": "code",
   "execution_count": 106,
   "metadata": {},
   "outputs": [],
   "source": [
    "f500.loc[f500[\"previous_rank\"] == 0, \"previous_rank\"] = np.nan"
   ]
  },
  {
   "cell_type": "code",
   "execution_count": 107,
   "metadata": {},
   "outputs": [
    {
     "data": {
      "text/plain": [
       "company                                    Volkswagen\n",
       "rank                                                6\n",
       "revenues                                       240264\n",
       "revenue_change                                    1.5\n",
       "profits                                        5937.3\n",
       "assets                                         432116\n",
       "profit_change                                     NaN\n",
       "ceo                                   Matthias Muller\n",
       "industry                     Motor Vehicles and Parts\n",
       "sector                         Motor Vehicles & Parts\n",
       "previous_rank                                       7\n",
       "country                                       Germany\n",
       "hq_location                        Wolfsburg, Germany\n",
       "website                     http://www.volkswagen.com\n",
       "years_on_global_500_list                           23\n",
       "employees                                      626715\n",
       "total_stockholder_equity                        97753\n",
       "Name: 5, dtype: object"
      ]
     },
     "execution_count": 107,
     "metadata": {},
     "output_type": "execute_result"
    }
   ],
   "source": [
    "fifth_row = f500.iloc[5]\n",
    "fifth_row"
   ]
  },
  {
   "cell_type": "code",
   "execution_count": 108,
   "metadata": {},
   "outputs": [],
   "source": [
    "company = f500.iloc[:,0]"
   ]
  },
  {
   "cell_type": "code",
   "execution_count": 109,
   "metadata": {},
   "outputs": [
    {
     "data": {
      "text/html": [
       "<div>\n",
       "<style scoped>\n",
       "    .dataframe tbody tr th:only-of-type {\n",
       "        vertical-align: middle;\n",
       "    }\n",
       "\n",
       "    .dataframe tbody tr th {\n",
       "        vertical-align: top;\n",
       "    }\n",
       "\n",
       "    .dataframe thead th {\n",
       "        text-align: right;\n",
       "    }\n",
       "</style>\n",
       "<table border=\"1\" class=\"dataframe\">\n",
       "  <thead>\n",
       "    <tr style=\"text-align: right;\">\n",
       "      <th></th>\n",
       "      <th>company</th>\n",
       "      <th>rank</th>\n",
       "      <th>revenues</th>\n",
       "      <th>revenue_change</th>\n",
       "      <th>profits</th>\n",
       "      <th>assets</th>\n",
       "      <th>profit_change</th>\n",
       "      <th>ceo</th>\n",
       "      <th>industry</th>\n",
       "      <th>sector</th>\n",
       "      <th>previous_rank</th>\n",
       "      <th>country</th>\n",
       "      <th>hq_location</th>\n",
       "      <th>website</th>\n",
       "      <th>years_on_global_500_list</th>\n",
       "      <th>employees</th>\n",
       "      <th>total_stockholder_equity</th>\n",
       "    </tr>\n",
       "  </thead>\n",
       "  <tbody>\n",
       "    <tr>\n",
       "      <td>0</td>\n",
       "      <td>Walmart</td>\n",
       "      <td>1</td>\n",
       "      <td>485873</td>\n",
       "      <td>0.8</td>\n",
       "      <td>13643.0</td>\n",
       "      <td>198825</td>\n",
       "      <td>-7.2</td>\n",
       "      <td>C. Douglas McMillon</td>\n",
       "      <td>General Merchandisers</td>\n",
       "      <td>Retailing</td>\n",
       "      <td>1.0</td>\n",
       "      <td>USA</td>\n",
       "      <td>Bentonville, AR</td>\n",
       "      <td>http://www.walmart.com</td>\n",
       "      <td>23</td>\n",
       "      <td>2300000</td>\n",
       "      <td>77798</td>\n",
       "    </tr>\n",
       "    <tr>\n",
       "      <td>1</td>\n",
       "      <td>State Grid</td>\n",
       "      <td>2</td>\n",
       "      <td>315199</td>\n",
       "      <td>-4.4</td>\n",
       "      <td>9571.3</td>\n",
       "      <td>489838</td>\n",
       "      <td>-6.2</td>\n",
       "      <td>Kou Wei</td>\n",
       "      <td>Utilities</td>\n",
       "      <td>Energy</td>\n",
       "      <td>2.0</td>\n",
       "      <td>China</td>\n",
       "      <td>Beijing, China</td>\n",
       "      <td>http://www.sgcc.com.cn</td>\n",
       "      <td>17</td>\n",
       "      <td>926067</td>\n",
       "      <td>209456</td>\n",
       "    </tr>\n",
       "    <tr>\n",
       "      <td>2</td>\n",
       "      <td>Sinopec Group</td>\n",
       "      <td>3</td>\n",
       "      <td>267518</td>\n",
       "      <td>-9.1</td>\n",
       "      <td>1257.9</td>\n",
       "      <td>310726</td>\n",
       "      <td>-65.0</td>\n",
       "      <td>Wang Yupu</td>\n",
       "      <td>Petroleum Refining</td>\n",
       "      <td>Energy</td>\n",
       "      <td>4.0</td>\n",
       "      <td>China</td>\n",
       "      <td>Beijing, China</td>\n",
       "      <td>http://www.sinopec.com</td>\n",
       "      <td>19</td>\n",
       "      <td>713288</td>\n",
       "      <td>106523</td>\n",
       "    </tr>\n",
       "    <tr>\n",
       "      <td>3</td>\n",
       "      <td>China National Petroleum</td>\n",
       "      <td>4</td>\n",
       "      <td>262573</td>\n",
       "      <td>-12.3</td>\n",
       "      <td>1867.5</td>\n",
       "      <td>585619</td>\n",
       "      <td>-73.7</td>\n",
       "      <td>Zhang Jianhua</td>\n",
       "      <td>Petroleum Refining</td>\n",
       "      <td>Energy</td>\n",
       "      <td>3.0</td>\n",
       "      <td>China</td>\n",
       "      <td>Beijing, China</td>\n",
       "      <td>http://www.cnpc.com.cn</td>\n",
       "      <td>17</td>\n",
       "      <td>1512048</td>\n",
       "      <td>301893</td>\n",
       "    </tr>\n",
       "    <tr>\n",
       "      <td>4</td>\n",
       "      <td>Toyota Motor</td>\n",
       "      <td>5</td>\n",
       "      <td>254694</td>\n",
       "      <td>7.7</td>\n",
       "      <td>16899.3</td>\n",
       "      <td>437575</td>\n",
       "      <td>-12.3</td>\n",
       "      <td>Akio Toyoda</td>\n",
       "      <td>Motor Vehicles and Parts</td>\n",
       "      <td>Motor Vehicles &amp; Parts</td>\n",
       "      <td>8.0</td>\n",
       "      <td>Japan</td>\n",
       "      <td>Toyota, Japan</td>\n",
       "      <td>http://www.toyota-global.com</td>\n",
       "      <td>23</td>\n",
       "      <td>364445</td>\n",
       "      <td>157210</td>\n",
       "    </tr>\n",
       "    <tr>\n",
       "      <td>5</td>\n",
       "      <td>Volkswagen</td>\n",
       "      <td>6</td>\n",
       "      <td>240264</td>\n",
       "      <td>1.5</td>\n",
       "      <td>5937.3</td>\n",
       "      <td>432116</td>\n",
       "      <td>NaN</td>\n",
       "      <td>Matthias Muller</td>\n",
       "      <td>Motor Vehicles and Parts</td>\n",
       "      <td>Motor Vehicles &amp; Parts</td>\n",
       "      <td>7.0</td>\n",
       "      <td>Germany</td>\n",
       "      <td>Wolfsburg, Germany</td>\n",
       "      <td>http://www.volkswagen.com</td>\n",
       "      <td>23</td>\n",
       "      <td>626715</td>\n",
       "      <td>97753</td>\n",
       "    </tr>\n",
       "    <tr>\n",
       "      <td>6</td>\n",
       "      <td>Royal Dutch Shell</td>\n",
       "      <td>7</td>\n",
       "      <td>240033</td>\n",
       "      <td>-11.8</td>\n",
       "      <td>4575.0</td>\n",
       "      <td>411275</td>\n",
       "      <td>135.9</td>\n",
       "      <td>Ben van Beurden</td>\n",
       "      <td>Petroleum Refining</td>\n",
       "      <td>Energy</td>\n",
       "      <td>5.0</td>\n",
       "      <td>Netherlands</td>\n",
       "      <td>The Hague, Netherlands</td>\n",
       "      <td>http://www.shell.com</td>\n",
       "      <td>23</td>\n",
       "      <td>89000</td>\n",
       "      <td>186646</td>\n",
       "    </tr>\n",
       "  </tbody>\n",
       "</table>\n",
       "</div>"
      ],
      "text/plain": [
       "                    company  rank  revenues  revenue_change  profits  assets  \\\n",
       "0                   Walmart     1    485873             0.8  13643.0  198825   \n",
       "1                State Grid     2    315199            -4.4   9571.3  489838   \n",
       "2             Sinopec Group     3    267518            -9.1   1257.9  310726   \n",
       "3  China National Petroleum     4    262573           -12.3   1867.5  585619   \n",
       "4              Toyota Motor     5    254694             7.7  16899.3  437575   \n",
       "5                Volkswagen     6    240264             1.5   5937.3  432116   \n",
       "6         Royal Dutch Shell     7    240033           -11.8   4575.0  411275   \n",
       "\n",
       "   profit_change                  ceo                  industry  \\\n",
       "0           -7.2  C. Douglas McMillon     General Merchandisers   \n",
       "1           -6.2              Kou Wei                 Utilities   \n",
       "2          -65.0            Wang Yupu        Petroleum Refining   \n",
       "3          -73.7        Zhang Jianhua        Petroleum Refining   \n",
       "4          -12.3          Akio Toyoda  Motor Vehicles and Parts   \n",
       "5            NaN      Matthias Muller  Motor Vehicles and Parts   \n",
       "6          135.9      Ben van Beurden        Petroleum Refining   \n",
       "\n",
       "                   sector  previous_rank      country             hq_location  \\\n",
       "0               Retailing            1.0          USA         Bentonville, AR   \n",
       "1                  Energy            2.0        China          Beijing, China   \n",
       "2                  Energy            4.0        China          Beijing, China   \n",
       "3                  Energy            3.0        China          Beijing, China   \n",
       "4  Motor Vehicles & Parts            8.0        Japan           Toyota, Japan   \n",
       "5  Motor Vehicles & Parts            7.0      Germany      Wolfsburg, Germany   \n",
       "6                  Energy            5.0  Netherlands  The Hague, Netherlands   \n",
       "\n",
       "                        website  years_on_global_500_list  employees  \\\n",
       "0        http://www.walmart.com                        23    2300000   \n",
       "1        http://www.sgcc.com.cn                        17     926067   \n",
       "2        http://www.sinopec.com                        19     713288   \n",
       "3        http://www.cnpc.com.cn                        17    1512048   \n",
       "4  http://www.toyota-global.com                        23     364445   \n",
       "5     http://www.volkswagen.com                        23     626715   \n",
       "6          http://www.shell.com                        23      89000   \n",
       "\n",
       "   total_stockholder_equity  \n",
       "0                     77798  \n",
       "1                    209456  \n",
       "2                    106523  \n",
       "3                    301893  \n",
       "4                    157210  \n",
       "5                     97753  \n",
       "6                    186646  "
      ]
     },
     "execution_count": 109,
     "metadata": {},
     "output_type": "execute_result"
    }
   ],
   "source": [
    "first_rows = f500.iloc[:3]\n",
    "f500.iloc[:7]"
   ]
  },
  {
   "cell_type": "markdown",
   "metadata": {},
   "source": [
    "**try here**"
   ]
  },
  {
   "cell_type": "code",
   "execution_count": 110,
   "metadata": {},
   "outputs": [],
   "source": [
    "# data cleaning basics\n",
    "\n",
    "laptops = pd.read_csv(\"laptops.csv\", encoding = \"Latin-1\")"
   ]
  },
  {
   "cell_type": "code",
   "execution_count": 111,
   "metadata": {},
   "outputs": [
    {
     "name": "stdout",
     "output_type": "stream",
     "text": [
      "<class 'pandas.core.frame.DataFrame'>\n",
      "RangeIndex: 1303 entries, 0 to 1302\n",
      "Data columns (total 13 columns):\n",
      "Manufacturer                1303 non-null object\n",
      "Model Name                  1303 non-null object\n",
      "Category                    1303 non-null object\n",
      "Screen Size                 1303 non-null object\n",
      "Screen                      1303 non-null object\n",
      "CPU                         1303 non-null object\n",
      "RAM                         1303 non-null object\n",
      " Storage                    1303 non-null object\n",
      "GPU                         1303 non-null object\n",
      "Operating System            1303 non-null object\n",
      "Operating System Version    1133 non-null object\n",
      "Weight                      1303 non-null object\n",
      "Price (Euros)               1303 non-null object\n",
      "dtypes: object(13)\n",
      "memory usage: 132.5+ KB\n"
     ]
    }
   ],
   "source": [
    "laptops.info()"
   ]
  },
  {
   "cell_type": "code",
   "execution_count": 112,
   "metadata": {},
   "outputs": [
    {
     "data": {
      "text/plain": [
       "Index(['Manufacturer', 'Model Name', 'Category', 'Screen Size', 'Screen',\n",
       "       'CPU', 'RAM', ' Storage', 'GPU', 'Operating System',\n",
       "       'Operating System Version', 'Weight', 'Price (Euros)'],\n",
       "      dtype='object')"
      ]
     },
     "execution_count": 112,
     "metadata": {},
     "output_type": "execute_result"
    }
   ],
   "source": [
    "laptops.columns"
   ]
  },
  {
   "cell_type": "code",
   "execution_count": 113,
   "metadata": {},
   "outputs": [
    {
     "data": {
      "text/plain": [
       "Index(['Manufacturer', 'Model Name', 'Category', 'Screen Size', 'Screen',\n",
       "       'CPU', 'RAM', 'Storage', 'GPU', 'Operating System',\n",
       "       'Operating System Version', 'Weight', 'Price (Euros)'],\n",
       "      dtype='object')"
      ]
     },
     "execution_count": 113,
     "metadata": {},
     "output_type": "execute_result"
    }
   ],
   "source": [
    "# clean columns names \n",
    "new_column_names = []\n",
    "\n",
    "# string.strip() method removes the white spaces from beginning and end of a string\n",
    "for name in laptops.columns:\n",
    "    cleaned_name = name.strip()\n",
    "    new_column_names.append(cleaned_name)\n",
    "    \n",
    "# clean names\n",
    "laptops.columns = new_column_names\n",
    "laptops.columns"
   ]
  },
  {
   "cell_type": "code",
   "execution_count": 114,
   "metadata": {},
   "outputs": [
    {
     "name": "stdout",
     "output_type": "stream",
     "text": [
      "eslam hosam\n"
     ]
    }
   ],
   "source": [
    "# string.strip() method example\n",
    "print(\"   eslam hosam  \".strip())"
   ]
  },
  {
   "cell_type": "code",
   "execution_count": 115,
   "metadata": {},
   "outputs": [
    {
     "data": {
      "text/plain": [
       "Index(['manufacturer', 'model_name', 'category', 'screen_size', 'screen',\n",
       "       'cpu', 'ram', 'storage', 'gpu', 'os', 'os_version', 'weight',\n",
       "       'price_euros'],\n",
       "      dtype='object')"
      ]
     },
     "execution_count": 115,
     "metadata": {},
     "output_type": "execute_result"
    }
   ],
   "source": [
    "new_names = []\n",
    "\n",
    "def clean_column(column_name):\n",
    "    column_name = column_name.lower()\n",
    "    column_name = column_name.strip()\n",
    "    column_name = column_name.replace(\" \", \"_\")\n",
    "    column_name = column_name.replace(\")\", \"\")\n",
    "    column_name = column_name.replace(\"(\", \"\")\n",
    "    column_name = column_name.replace(\"operating_system\", \"os\")\n",
    "    return column_name\n",
    "    \n",
    "\n",
    "for name in laptops.columns :\n",
    "    name = clean_column(name)\n",
    "    new_names.append(name)\n",
    "\n",
    "laptops.columns = new_names\n",
    "laptops.columns"
   ]
  },
  {
   "cell_type": "code",
   "execution_count": 116,
   "metadata": {},
   "outputs": [
    {
     "data": {
      "text/plain": [
       "array(['13.3\"', '15.6\"', '15.4\"', '14.0\"', '12.0\"', '11.6\"', '17.3\"',\n",
       "       '10.1\"', '13.5\"', '12.5\"', '13.0\"', '18.4\"', '13.9\"', '12.3\"',\n",
       "       '17.0\"', '15.0\"', '14.1\"', '11.3\"'], dtype=object)"
      ]
     },
     "execution_count": 116,
     "metadata": {},
     "output_type": "execute_result"
    }
   ],
   "source": [
    "laptops.screen_size.unique()"
   ]
  },
  {
   "cell_type": "code",
   "execution_count": 117,
   "metadata": {},
   "outputs": [
    {
     "data": {
      "text/plain": [
       "array(['8GB', '16GB', '4GB', '2GB', '12GB', '6GB', '32GB', '24GB', '64GB'],\n",
       "      dtype=object)"
      ]
     },
     "execution_count": 117,
     "metadata": {},
     "output_type": "execute_result"
    }
   ],
   "source": [
    "laptops.ram.unique()"
   ]
  },
  {
   "cell_type": "code",
   "execution_count": 118,
   "metadata": {},
   "outputs": [
    {
     "name": "stdout",
     "output_type": "stream",
     "text": [
      "object\n",
      "['8GB' '16GB' '4GB' '2GB' '12GB' '6GB' '32GB' '24GB' '64GB']\n"
     ]
    },
    {
     "data": {
      "text/plain": [
       "0        8\n",
       "1        8\n",
       "2        8\n",
       "3       16\n",
       "4        8\n",
       "        ..\n",
       "1298     4\n",
       "1299    16\n",
       "1300     2\n",
       "1301     6\n",
       "1302     4\n",
       "Name: ram, Length: 1303, dtype: int32"
      ]
     },
     "execution_count": 118,
     "metadata": {},
     "output_type": "execute_result"
    }
   ],
   "source": [
    "print(laptops.ram.dtype)\n",
    "print(laptops.ram.unique())\n",
    "\n",
    "laptops.ram = laptops[\"ram\"].str.replace(\"GB\", \"\")\n",
    "laptops.ram.astype(int)"
   ]
  },
  {
   "cell_type": "code",
   "execution_count": 119,
   "metadata": {},
   "outputs": [
    {
     "name": "stdout",
     "output_type": "stream",
     "text": [
      "object\n",
      "['13.3\"' '15.6\"' '15.4\"' '14.0\"' '12.0\"' '11.6\"' '17.3\"' '10.1\"' '13.5\"'\n",
      " '12.5\"' '13.0\"' '18.4\"' '13.9\"' '12.3\"' '17.0\"' '15.0\"' '14.1\"' '11.3\"']\n"
     ]
    },
    {
     "data": {
      "text/plain": [
       "0       13.3\n",
       "1       13.3\n",
       "2       15.6\n",
       "3       15.4\n",
       "4       13.3\n",
       "        ... \n",
       "1298    14.0\n",
       "1299    13.3\n",
       "1300    14.0\n",
       "1301    15.6\n",
       "1302    15.6\n",
       "Name: screen_size, Length: 1303, dtype: float64"
      ]
     },
     "execution_count": 119,
     "metadata": {},
     "output_type": "execute_result"
    }
   ],
   "source": [
    "# changing screen size\n",
    "print(laptops.screen_size.dtype)\n",
    "print(laptops[\"screen_size\"].unique())\n",
    "laptops.screen_size = laptops.screen_size.str.replace('\"' , \"\")\n",
    "laptops[\"screen_size\"].astype(float)"
   ]
  },
  {
   "cell_type": "code",
   "execution_count": 120,
   "metadata": {
    "scrolled": true
   },
   "outputs": [
    {
     "data": {
      "text/plain": [
       "Index(['manufacturer', 'model_name', 'category', 'screen_size', 'screen',\n",
       "       'cpu', 'ram', 'storage', 'gpu', 'os', 'os_version', 'weight',\n",
       "       'price_euros'],\n",
       "      dtype='object')"
      ]
     },
     "execution_count": 120,
     "metadata": {},
     "output_type": "execute_result"
    }
   ],
   "source": [
    "# renaming a column\n",
    "# Dataframe.rename()\n",
    "\n",
    "laptops.columns"
   ]
  },
  {
   "cell_type": "code",
   "execution_count": 121,
   "metadata": {},
   "outputs": [
    {
     "data": {
      "text/plain": [
       "Index(['manufacturer', 'model_name', 'category', 'screen_size', 'screen',\n",
       "       'cpu', 'ram', 'storage', 'gpu', 'os', 'os_version', 'weight',\n",
       "       'price_euros'],\n",
       "      dtype='object')"
      ]
     },
     "execution_count": 121,
     "metadata": {},
     "output_type": "execute_result"
    }
   ],
   "source": [
    "laptops.rename({\"cpu\" : \"cpu\"}, axis = \"columns\", inplace = True)\n",
    "laptops.columns"
   ]
  },
  {
   "cell_type": "code",
   "execution_count": 122,
   "metadata": {},
   "outputs": [
    {
     "name": "stdout",
     "output_type": "stream",
     "text": [
      "0    Intel Iris Plus Graphics 640\n",
      "1          Intel HD Graphics 6000\n",
      "Name: gpu, dtype: object \n",
      "\n",
      "we have 4 companies manufacturing gpu for these laptops\n",
      " ['Intel', 'AMD', 'Nvidia', 'ARM']\n"
     ]
    }
   ],
   "source": [
    "# extract values from dtring\n",
    "print(laptops.gpu.head(2), \"\\n\")\n",
    "\n",
    "gpu_manufacturer = []\n",
    "\n",
    "for lst in laptops.gpu.str.split():\n",
    "    m = lst[0]\n",
    "    if m not in gpu_manufacturer:\n",
    "        gpu_manufacturer.append(m)\n",
    "        \n",
    "print(\"we have 4 companies manufacturing gpu for these laptops\\n\" , gpu_manufacturer)"
   ]
  },
  {
   "cell_type": "code",
   "execution_count": 123,
   "metadata": {},
   "outputs": [
    {
     "name": "stdout",
     "output_type": "stream",
     "text": [
      "Intel has 722 laptops \n",
      "AMD has 180 laptops\n",
      "others has 401\n"
     ]
    }
   ],
   "source": [
    "# how many laptops have intel gpu and Amd and others\n",
    "\n",
    "Intel_laptops  = []\n",
    "Amd_laptops = []\n",
    "others = []\n",
    "\n",
    "for lst in laptops.gpu.str.split():\n",
    "    if \"Intel\" in lst :\n",
    "        Intel_laptops.append(lst)\n",
    "        \n",
    "    elif \"AMD\" in lst:\n",
    "        Amd_laptops.append(lst)\n",
    "    else:\n",
    "        others.append(lst)\n",
    "        \n",
    "print(\"Intel has {} laptops \".format(len(Intel_laptops)))\n",
    "print(\"AMD has {} laptops\".format(len(Amd_laptops)))\n",
    "print(\"others has {}\".format(len(others)))"
   ]
  },
  {
   "cell_type": "code",
   "execution_count": 124,
   "metadata": {},
   "outputs": [
    {
     "data": {
      "text/plain": [
       "0       Intel\n",
       "1       Intel\n",
       "2       Intel\n",
       "3         AMD\n",
       "4       Intel\n",
       "        ...  \n",
       "1298    Intel\n",
       "1299    Intel\n",
       "1300    Intel\n",
       "1301      AMD\n",
       "1302    Intel\n",
       "Name: gpu, Length: 1303, dtype: object"
      ]
     },
     "execution_count": 124,
     "metadata": {},
     "output_type": "execute_result"
    }
   ],
   "source": [
    "# create a new column for the gpu_manufacturer\n",
    "\n",
    "v1 = laptops.gpu.str.split().str[0]\n",
    "v1"
   ]
  },
  {
   "cell_type": "code",
   "execution_count": 125,
   "metadata": {},
   "outputs": [
    {
     "data": {
      "text/plain": [
       "0         Iris\n",
       "1           HD\n",
       "2           HD\n",
       "3       Radeon\n",
       "4         Iris\n",
       "         ...  \n",
       "1298        HD\n",
       "1299        HD\n",
       "1300        HD\n",
       "1301    Radeon\n",
       "1302        HD\n",
       "Name: gpu, Length: 1303, dtype: object"
      ]
     },
     "execution_count": 125,
     "metadata": {},
     "output_type": "execute_result"
    }
   ],
   "source": [
    "laptops.gpu.str.split().str[1]"
   ]
  },
  {
   "cell_type": "code",
   "execution_count": 126,
   "metadata": {},
   "outputs": [
    {
     "data": {
      "text/plain": [
       "0       Graphics\n",
       "1           6000\n",
       "2            620\n",
       "3            455\n",
       "4       Graphics\n",
       "          ...   \n",
       "1298         520\n",
       "1299         520\n",
       "1300         NaN\n",
       "1301        M330\n",
       "1302         NaN\n",
       "Name: gpu, Length: 1303, dtype: object"
      ]
     },
     "execution_count": 126,
     "metadata": {},
     "output_type": "execute_result"
    }
   ],
   "source": [
    "laptops.gpu.str.split().str[3]"
   ]
  },
  {
   "cell_type": "code",
   "execution_count": 127,
   "metadata": {},
   "outputs": [
    {
     "data": {
      "text/plain": [
       "True     722\n",
       "False    581\n",
       "Name: gpu, dtype: int64"
      ]
     },
     "execution_count": 127,
     "metadata": {},
     "output_type": "execute_result"
    }
   ],
   "source": [
    "laptops.gpu.str.split().str[0].isin ([\"Intel\"]).value_counts()"
   ]
  },
  {
   "cell_type": "code",
   "execution_count": 128,
   "metadata": {},
   "outputs": [
    {
     "data": {
      "text/plain": [
       "Intel      1240\n",
       "AMD          62\n",
       "Samsung       1\n",
       "Name: cpu_manuf, dtype: int64"
      ]
     },
     "execution_count": 128,
     "metadata": {},
     "output_type": "execute_result"
    }
   ],
   "source": [
    "# create a new column for cpu manufacturers\n",
    "cpu_manu = laptops[\"cpu\"].str.split().str[0]\n",
    "\n",
    "laptops[\"cpu_manuf\"] = cpu_manu\n",
    "laptops.cpu_manuf.value_counts()"
   ]
  },
  {
   "cell_type": "code",
   "execution_count": 129,
   "metadata": {},
   "outputs": [
    {
     "data": {
      "text/plain": [
       "Intel     722\n",
       "Nvidia    400\n",
       "AMD       180\n",
       "ARM         1\n",
       "Name: gpu_manuf, dtype: int64"
      ]
     },
     "execution_count": 129,
     "metadata": {},
     "output_type": "execute_result"
    }
   ],
   "source": [
    "# create a gpu manffacturer column\n",
    "gpu_manufacturer = laptops[\"gpu\"].str.split().str[0]\n",
    "\n",
    "laptops[\"gpu_manuf\"] = gpu_manufacturer\n",
    "laptops.gpu_manuf.value_counts()"
   ]
  },
  {
   "cell_type": "code",
   "execution_count": 130,
   "metadata": {},
   "outputs": [
    {
     "data": {
      "text/plain": [
       "Windows      1125\n",
       "No OS          66\n",
       "Linux          62\n",
       "Chrome OS      27\n",
       "macOS          13\n",
       "Mac OS          8\n",
       "Android         2\n",
       "Name: os, dtype: int64"
      ]
     },
     "execution_count": 130,
     "metadata": {},
     "output_type": "execute_result"
    }
   ],
   "source": [
    "laptops.os.value_counts()"
   ]
  },
  {
   "cell_type": "code",
   "execution_count": 131,
   "metadata": {},
   "outputs": [
    {
     "name": "stdout",
     "output_type": "stream",
     "text": [
      "0     paisr\n",
      "1     oranj\n",
      "2     anana\n",
      "3    oranje\n",
      "dtype: object\n"
     ]
    }
   ],
   "source": [
    "s = pd.Series([\"paisr\", \"oranj\", \"anana\", \"oranje\"])\n",
    "print(s)"
   ]
  },
  {
   "cell_type": "code",
   "execution_count": 132,
   "metadata": {},
   "outputs": [],
   "source": [
    "dic = {\"paisr\" : \"bears\" , \n",
    "       \"oranje\" : \"orange\", \n",
    "       \"anana\" : \"banana\",\n",
    "       }\n",
    "\n",
    "\n",
    "s = s.map(dic)"
   ]
  },
  {
   "cell_type": "code",
   "execution_count": 133,
   "metadata": {},
   "outputs": [
    {
     "data": {
      "text/plain": [
       "Windows      1125\n",
       "No OS          66\n",
       "Linux          62\n",
       "Chrome OS      27\n",
       "macOS          13\n",
       "Mac OS          8\n",
       "Android         2\n",
       "Name: os, dtype: int64"
      ]
     },
     "execution_count": 133,
     "metadata": {},
     "output_type": "execute_result"
    }
   ],
   "source": [
    "laptops.os.value_counts(dropna = False)"
   ]
  },
  {
   "cell_type": "code",
   "execution_count": 134,
   "metadata": {},
   "outputs": [
    {
     "data": {
      "text/plain": [
       "NaN          1138\n",
       "No OS          66\n",
       "Linux          62\n",
       "Chrome OS      27\n",
       "Mac OS          8\n",
       "Android         2\n",
       "Name: os, dtype: int64"
      ]
     },
     "execution_count": 134,
     "metadata": {},
     "output_type": "execute_result"
    }
   ],
   "source": [
    "os_dic = {\n",
    "    \"No OS\" : \"No OS\",\n",
    "    \"Linux\" : \"Linux\",\n",
    "    \"Chrome OS\" : \"Chrome OS\",\n",
    "    \"Android\" : \"Android\", \n",
    "    \"Mac OS\" : \"Mac OS\",\n",
    "    \"macos\" : \"Mac OS\"\n",
    "}\n",
    "\n",
    "laptops.os = laptops.os.map(os_dic)\n",
    "laptops.os.value_counts(dropna = False)"
   ]
  },
  {
   "cell_type": "code",
   "execution_count": 135,
   "metadata": {},
   "outputs": [
    {
     "data": {
      "text/plain": [
       "Windows      1138\n",
       "No OS          66\n",
       "Linux          62\n",
       "Chrome OS      27\n",
       "Mac OS          8\n",
       "Android         2\n",
       "Name: os, dtype: int64"
      ]
     },
     "execution_count": 135,
     "metadata": {},
     "output_type": "execute_result"
    }
   ],
   "source": [
    "os_dic = {\n",
    "    np.nan : \"Windows\",\n",
    "    \"No OS\" : \"No OS\",\n",
    "    \"Linux\" : \"Linux\",\n",
    "    \"Chrome OS\" : \"Chrome OS\",\n",
    "    \"Android\" : \"Android\", \n",
    "    \"Mac OS\" : \"Mac OS\",\n",
    "    \"macos\" : \"Mac OS\"\n",
    "}\n",
    "\n",
    "laptops.os = laptops.os.map(os_dic)\n",
    "laptops.os.value_counts(dropna = False)"
   ]
  },
  {
   "cell_type": "code",
   "execution_count": 136,
   "metadata": {},
   "outputs": [
    {
     "data": {
      "text/plain": [
       "manufacturer      0\n",
       "model_name        0\n",
       "category          0\n",
       "screen_size       0\n",
       "screen            0\n",
       "cpu               0\n",
       "ram               0\n",
       "storage           0\n",
       "gpu               0\n",
       "os                0\n",
       "os_version      170\n",
       "weight            0\n",
       "price_euros       0\n",
       "cpu_manuf         0\n",
       "gpu_manuf         0\n",
       "dtype: int64"
      ]
     },
     "execution_count": 136,
     "metadata": {},
     "output_type": "execute_result"
    }
   ],
   "source": [
    "laptops.isnull().sum(axis = \"index\")"
   ]
  },
  {
   "cell_type": "code",
   "execution_count": 137,
   "metadata": {},
   "outputs": [
    {
     "data": {
      "text/plain": [
       "10      1072\n",
       "NaN      170\n",
       "7         45\n",
       "10 S       8\n",
       "X          8\n",
       "Name: os_version, dtype: int64"
      ]
     },
     "execution_count": 137,
     "metadata": {},
     "output_type": "execute_result"
    }
   ],
   "source": [
    "laptops.os_version.value_counts(dropna = False)"
   ]
  },
  {
   "cell_type": "code",
   "execution_count": 138,
   "metadata": {},
   "outputs": [
    {
     "data": {
      "text/plain": [
       "No OS        66\n",
       "Linux        62\n",
       "Chrome OS    27\n",
       "Windows      13\n",
       "Android       2\n",
       "Name: os, dtype: int64"
      ]
     },
     "execution_count": 138,
     "metadata": {},
     "output_type": "execute_result"
    }
   ],
   "source": [
    "# how to fill the missing values in pandas\n",
    "\n",
    "laptops.loc[laptops.os_version.isnull() , \"os\"].value_counts(dropna = False)"
   ]
  },
  {
   "cell_type": "code",
   "execution_count": null,
   "metadata": {},
   "outputs": [],
   "source": []
  },
  {
   "cell_type": "code",
   "execution_count": 139,
   "metadata": {},
   "outputs": [
    {
     "data": {
      "text/plain": [
       "10      1072\n",
       "NaN      170\n",
       "7         45\n",
       "10 S       8\n",
       "X          8\n",
       "Name: os_version, dtype: int64"
      ]
     },
     "execution_count": 139,
     "metadata": {},
     "output_type": "execute_result"
    }
   ],
   "source": [
    "laptops.os_version.value_counts(dropna = False)"
   ]
  },
  {
   "cell_type": "code",
   "execution_count": 140,
   "metadata": {},
   "outputs": [
    {
     "data": {
      "text/plain": [
       "Windows    13\n",
       "Name: os, dtype: int64"
      ]
     },
     "execution_count": 140,
     "metadata": {},
     "output_type": "execute_result"
    }
   ],
   "source": [
    "laptops.loc[(laptops[\"os_version\"].isnull() & (laptops[\"os\"] == \"Windows\")),\"os_version\"] = \"win 10\"\n",
    "\n",
    "laptops.loc[laptops.os_version == \"win 10\" , \"os\"].value_counts()"
   ]
  },
  {
   "cell_type": "code",
   "execution_count": 154,
   "metadata": {},
   "outputs": [
    {
     "name": "stdout",
     "output_type": "stream",
     "text": [
      "object\n"
     ]
    },
    {
     "data": {
      "text/plain": [
       "dtype('float64')"
      ]
     },
     "execution_count": 154,
     "metadata": {},
     "output_type": "execute_result"
    }
   ],
   "source": [
    "# clean string column\n",
    "\n",
    "print(laptops.weight.dtype)\n",
    "\n",
    "laptops.weight = laptops[\"weight\"].str.split(\"kg\").str[0].astype(float)\n",
    "laptops.weight.dtype"
   ]
  },
  {
   "cell_type": "code",
   "execution_count": 156,
   "metadata": {},
   "outputs": [
    {
     "data": {
      "text/plain": [
       "Index(['manufacturer', 'model_name', 'category', 'screen_size', 'screen',\n",
       "       'cpu', 'ram', 'storage', 'gpu', 'os', 'os_version', 'weight_kg',\n",
       "       'price_euros', 'cpu_manuf', 'gpu_manuf'],\n",
       "      dtype='object')"
      ]
     },
     "execution_count": 156,
     "metadata": {},
     "output_type": "execute_result"
    }
   ],
   "source": [
    "laptops = laptops.rename(columns = {\"weight\" : \"weight_kg\"})\n",
    "laptops.columns"
   ]
  },
  {
   "cell_type": "code",
   "execution_count": 167,
   "metadata": {},
   "outputs": [
    {
     "data": {
      "text/plain": [
       "0       1339.69\n",
       "1        898.94\n",
       "2        575.00\n",
       "3       2537.45\n",
       "4       1803.60\n",
       "         ...   \n",
       "1298     638.00\n",
       "1299    1499.00\n",
       "1300     229.00\n",
       "1301     764.00\n",
       "1302     369.00\n",
       "Name: price_euros, Length: 1303, dtype: float64"
      ]
     },
     "execution_count": 167,
     "metadata": {},
     "output_type": "execute_result"
    }
   ],
   "source": [
    "laptops.price_euros\n",
    "\n"
   ]
  },
  {
   "cell_type": "code",
   "execution_count": 179,
   "metadata": {},
   "outputs": [
    {
     "data": {
      "text/plain": [
       "False    880\n",
       "True     423\n",
       "Name: cpu, dtype: int64"
      ]
     },
     "execution_count": 179,
     "metadata": {},
     "output_type": "execute_result"
    }
   ],
   "source": [
    "# how many core i7 laptops in the data set\n",
    "\n",
    "(laptops.cpu.str.split().str[2] == \"i5\").value_counts()"
   ]
  }
 ],
 "metadata": {
  "kernelspec": {
   "display_name": "Python 3",
   "language": "python",
   "name": "python3"
  },
  "language_info": {
   "codemirror_mode": {
    "name": "ipython",
    "version": 3
   },
   "file_extension": ".py",
   "mimetype": "text/x-python",
   "name": "python",
   "nbconvert_exporter": "python",
   "pygments_lexer": "ipython3",
   "version": "3.8.5"
  }
 },
 "nbformat": 4,
 "nbformat_minor": 2
}
