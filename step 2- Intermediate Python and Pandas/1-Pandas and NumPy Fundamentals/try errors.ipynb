{
 "cells": [
  {
   "cell_type": "markdown",
   "metadata": {},
   "source": [
    "## all missions to practice\n",
    "### mission 1"
   ]
  },
  {
   "cell_type": "code",
   "execution_count": 162,
   "metadata": {},
   "outputs": [],
   "source": [
    "import numpy as np \n",
    "import pandas as pd \n",
    "import matplotlib.pyplot as plt"
   ]
  },
  {
   "cell_type": "code",
   "execution_count": 163,
   "metadata": {},
   "outputs": [
    {
     "data": {
      "text/html": [
       "<div>\n",
       "<style scoped>\n",
       "    .dataframe tbody tr th:only-of-type {\n",
       "        vertical-align: middle;\n",
       "    }\n",
       "\n",
       "    .dataframe tbody tr th {\n",
       "        vertical-align: top;\n",
       "    }\n",
       "\n",
       "    .dataframe thead th {\n",
       "        text-align: right;\n",
       "    }\n",
       "</style>\n",
       "<table border=\"1\" class=\"dataframe\">\n",
       "  <thead>\n",
       "    <tr style=\"text-align: right;\">\n",
       "      <th></th>\n",
       "      <th>company</th>\n",
       "      <th>rank</th>\n",
       "      <th>revenues</th>\n",
       "      <th>revenue_change</th>\n",
       "      <th>profits</th>\n",
       "      <th>assets</th>\n",
       "      <th>profit_change</th>\n",
       "      <th>ceo</th>\n",
       "      <th>industry</th>\n",
       "      <th>sector</th>\n",
       "      <th>previous_rank</th>\n",
       "      <th>country</th>\n",
       "      <th>hq_location</th>\n",
       "      <th>website</th>\n",
       "      <th>years_on_global_500_list</th>\n",
       "      <th>employees</th>\n",
       "      <th>total_stockholder_equity</th>\n",
       "    </tr>\n",
       "  </thead>\n",
       "  <tbody>\n",
       "    <tr>\n",
       "      <th>0</th>\n",
       "      <td>Walmart</td>\n",
       "      <td>1</td>\n",
       "      <td>485873</td>\n",
       "      <td>0.8</td>\n",
       "      <td>13643.0</td>\n",
       "      <td>198825</td>\n",
       "      <td>-7.2</td>\n",
       "      <td>C. Douglas McMillon</td>\n",
       "      <td>General Merchandisers</td>\n",
       "      <td>Retailing</td>\n",
       "      <td>1</td>\n",
       "      <td>USA</td>\n",
       "      <td>Bentonville, AR</td>\n",
       "      <td>http://www.walmart.com</td>\n",
       "      <td>23</td>\n",
       "      <td>2300000</td>\n",
       "      <td>77798</td>\n",
       "    </tr>\n",
       "    <tr>\n",
       "      <th>1</th>\n",
       "      <td>State Grid</td>\n",
       "      <td>2</td>\n",
       "      <td>315199</td>\n",
       "      <td>-4.4</td>\n",
       "      <td>9571.3</td>\n",
       "      <td>489838</td>\n",
       "      <td>-6.2</td>\n",
       "      <td>Kou Wei</td>\n",
       "      <td>Utilities</td>\n",
       "      <td>Energy</td>\n",
       "      <td>2</td>\n",
       "      <td>China</td>\n",
       "      <td>Beijing, China</td>\n",
       "      <td>http://www.sgcc.com.cn</td>\n",
       "      <td>17</td>\n",
       "      <td>926067</td>\n",
       "      <td>209456</td>\n",
       "    </tr>\n",
       "    <tr>\n",
       "      <th>2</th>\n",
       "      <td>Sinopec Group</td>\n",
       "      <td>3</td>\n",
       "      <td>267518</td>\n",
       "      <td>-9.1</td>\n",
       "      <td>1257.9</td>\n",
       "      <td>310726</td>\n",
       "      <td>-65.0</td>\n",
       "      <td>Wang Yupu</td>\n",
       "      <td>Petroleum Refining</td>\n",
       "      <td>Energy</td>\n",
       "      <td>4</td>\n",
       "      <td>China</td>\n",
       "      <td>Beijing, China</td>\n",
       "      <td>http://www.sinopec.com</td>\n",
       "      <td>19</td>\n",
       "      <td>713288</td>\n",
       "      <td>106523</td>\n",
       "    </tr>\n",
       "    <tr>\n",
       "      <th>3</th>\n",
       "      <td>China National Petroleum</td>\n",
       "      <td>4</td>\n",
       "      <td>262573</td>\n",
       "      <td>-12.3</td>\n",
       "      <td>1867.5</td>\n",
       "      <td>585619</td>\n",
       "      <td>-73.7</td>\n",
       "      <td>Zhang Jianhua</td>\n",
       "      <td>Petroleum Refining</td>\n",
       "      <td>Energy</td>\n",
       "      <td>3</td>\n",
       "      <td>China</td>\n",
       "      <td>Beijing, China</td>\n",
       "      <td>http://www.cnpc.com.cn</td>\n",
       "      <td>17</td>\n",
       "      <td>1512048</td>\n",
       "      <td>301893</td>\n",
       "    </tr>\n",
       "    <tr>\n",
       "      <th>4</th>\n",
       "      <td>Toyota Motor</td>\n",
       "      <td>5</td>\n",
       "      <td>254694</td>\n",
       "      <td>7.7</td>\n",
       "      <td>16899.3</td>\n",
       "      <td>437575</td>\n",
       "      <td>-12.3</td>\n",
       "      <td>Akio Toyoda</td>\n",
       "      <td>Motor Vehicles and Parts</td>\n",
       "      <td>Motor Vehicles &amp; Parts</td>\n",
       "      <td>8</td>\n",
       "      <td>Japan</td>\n",
       "      <td>Toyota, Japan</td>\n",
       "      <td>http://www.toyota-global.com</td>\n",
       "      <td>23</td>\n",
       "      <td>364445</td>\n",
       "      <td>157210</td>\n",
       "    </tr>\n",
       "  </tbody>\n",
       "</table>\n",
       "</div>"
      ],
      "text/plain": [
       "                    company  rank  revenues  revenue_change  profits  assets  \\\n",
       "0                   Walmart     1    485873             0.8  13643.0  198825   \n",
       "1                State Grid     2    315199            -4.4   9571.3  489838   \n",
       "2             Sinopec Group     3    267518            -9.1   1257.9  310726   \n",
       "3  China National Petroleum     4    262573           -12.3   1867.5  585619   \n",
       "4              Toyota Motor     5    254694             7.7  16899.3  437575   \n",
       "\n",
       "   profit_change                  ceo                  industry  \\\n",
       "0           -7.2  C. Douglas McMillon     General Merchandisers   \n",
       "1           -6.2              Kou Wei                 Utilities   \n",
       "2          -65.0            Wang Yupu        Petroleum Refining   \n",
       "3          -73.7        Zhang Jianhua        Petroleum Refining   \n",
       "4          -12.3          Akio Toyoda  Motor Vehicles and Parts   \n",
       "\n",
       "                   sector  previous_rank country      hq_location  \\\n",
       "0               Retailing              1     USA  Bentonville, AR   \n",
       "1                  Energy              2   China   Beijing, China   \n",
       "2                  Energy              4   China   Beijing, China   \n",
       "3                  Energy              3   China   Beijing, China   \n",
       "4  Motor Vehicles & Parts              8   Japan    Toyota, Japan   \n",
       "\n",
       "                        website  years_on_global_500_list  employees  \\\n",
       "0        http://www.walmart.com                        23    2300000   \n",
       "1        http://www.sgcc.com.cn                        17     926067   \n",
       "2        http://www.sinopec.com                        19     713288   \n",
       "3        http://www.cnpc.com.cn                        17    1512048   \n",
       "4  http://www.toyota-global.com                        23     364445   \n",
       "\n",
       "   total_stockholder_equity  \n",
       "0                     77798  \n",
       "1                    209456  \n",
       "2                    106523  \n",
       "3                    301893  \n",
       "4                    157210  "
      ]
     },
     "execution_count": 163,
     "metadata": {},
     "output_type": "execute_result"
    }
   ],
   "source": [
    "f500 = pd.read_csv(\"f500.csv\")\n",
    "f500.head()"
   ]
  },
  {
   "cell_type": "code",
   "execution_count": 164,
   "metadata": {},
   "outputs": [
    {
     "data": {
      "text/html": [
       "<div>\n",
       "<style scoped>\n",
       "    .dataframe tbody tr th:only-of-type {\n",
       "        vertical-align: middle;\n",
       "    }\n",
       "\n",
       "    .dataframe tbody tr th {\n",
       "        vertical-align: top;\n",
       "    }\n",
       "\n",
       "    .dataframe thead th {\n",
       "        text-align: right;\n",
       "    }\n",
       "</style>\n",
       "<table border=\"1\" class=\"dataframe\">\n",
       "  <thead>\n",
       "    <tr style=\"text-align: right;\">\n",
       "      <th></th>\n",
       "      <th>rank</th>\n",
       "      <th>revenues</th>\n",
       "      <th>revenue_change</th>\n",
       "      <th>profits</th>\n",
       "      <th>assets</th>\n",
       "      <th>profit_change</th>\n",
       "      <th>previous_rank</th>\n",
       "      <th>years_on_global_500_list</th>\n",
       "      <th>employees</th>\n",
       "      <th>total_stockholder_equity</th>\n",
       "    </tr>\n",
       "  </thead>\n",
       "  <tbody>\n",
       "    <tr>\n",
       "      <th>count</th>\n",
       "      <td>500.000000</td>\n",
       "      <td>500.000000</td>\n",
       "      <td>498.000000</td>\n",
       "      <td>499.000000</td>\n",
       "      <td>5.000000e+02</td>\n",
       "      <td>436.000000</td>\n",
       "      <td>500.000000</td>\n",
       "      <td>500.000000</td>\n",
       "      <td>5.000000e+02</td>\n",
       "      <td>500.000000</td>\n",
       "    </tr>\n",
       "    <tr>\n",
       "      <th>mean</th>\n",
       "      <td>250.500000</td>\n",
       "      <td>55416.358000</td>\n",
       "      <td>4.538353</td>\n",
       "      <td>3055.203206</td>\n",
       "      <td>2.436323e+05</td>\n",
       "      <td>24.152752</td>\n",
       "      <td>222.134000</td>\n",
       "      <td>15.036000</td>\n",
       "      <td>1.339983e+05</td>\n",
       "      <td>30628.076000</td>\n",
       "    </tr>\n",
       "    <tr>\n",
       "      <th>std</th>\n",
       "      <td>144.481833</td>\n",
       "      <td>45725.478963</td>\n",
       "      <td>28.549067</td>\n",
       "      <td>5171.981071</td>\n",
       "      <td>4.851937e+05</td>\n",
       "      <td>437.509566</td>\n",
       "      <td>146.941961</td>\n",
       "      <td>7.932752</td>\n",
       "      <td>1.700878e+05</td>\n",
       "      <td>43642.576833</td>\n",
       "    </tr>\n",
       "    <tr>\n",
       "      <th>min</th>\n",
       "      <td>1.000000</td>\n",
       "      <td>21609.000000</td>\n",
       "      <td>-67.300000</td>\n",
       "      <td>-13038.000000</td>\n",
       "      <td>3.717000e+03</td>\n",
       "      <td>-793.700000</td>\n",
       "      <td>0.000000</td>\n",
       "      <td>1.000000</td>\n",
       "      <td>3.280000e+02</td>\n",
       "      <td>-59909.000000</td>\n",
       "    </tr>\n",
       "    <tr>\n",
       "      <th>25%</th>\n",
       "      <td>125.750000</td>\n",
       "      <td>29003.000000</td>\n",
       "      <td>-5.900000</td>\n",
       "      <td>556.950000</td>\n",
       "      <td>3.658850e+04</td>\n",
       "      <td>-22.775000</td>\n",
       "      <td>92.750000</td>\n",
       "      <td>7.000000</td>\n",
       "      <td>4.293250e+04</td>\n",
       "      <td>7553.750000</td>\n",
       "    </tr>\n",
       "    <tr>\n",
       "      <th>50%</th>\n",
       "      <td>250.500000</td>\n",
       "      <td>40236.000000</td>\n",
       "      <td>0.550000</td>\n",
       "      <td>1761.600000</td>\n",
       "      <td>7.326150e+04</td>\n",
       "      <td>-0.350000</td>\n",
       "      <td>219.500000</td>\n",
       "      <td>17.000000</td>\n",
       "      <td>9.291050e+04</td>\n",
       "      <td>15809.500000</td>\n",
       "    </tr>\n",
       "    <tr>\n",
       "      <th>75%</th>\n",
       "      <td>375.250000</td>\n",
       "      <td>63926.750000</td>\n",
       "      <td>6.975000</td>\n",
       "      <td>3954.000000</td>\n",
       "      <td>1.805640e+05</td>\n",
       "      <td>17.700000</td>\n",
       "      <td>347.250000</td>\n",
       "      <td>23.000000</td>\n",
       "      <td>1.689172e+05</td>\n",
       "      <td>37828.500000</td>\n",
       "    </tr>\n",
       "    <tr>\n",
       "      <th>max</th>\n",
       "      <td>500.000000</td>\n",
       "      <td>485873.000000</td>\n",
       "      <td>442.300000</td>\n",
       "      <td>45687.000000</td>\n",
       "      <td>3.473238e+06</td>\n",
       "      <td>8909.500000</td>\n",
       "      <td>500.000000</td>\n",
       "      <td>23.000000</td>\n",
       "      <td>2.300000e+06</td>\n",
       "      <td>301893.000000</td>\n",
       "    </tr>\n",
       "  </tbody>\n",
       "</table>\n",
       "</div>"
      ],
      "text/plain": [
       "             rank       revenues  revenue_change       profits        assets  \\\n",
       "count  500.000000     500.000000      498.000000    499.000000  5.000000e+02   \n",
       "mean   250.500000   55416.358000        4.538353   3055.203206  2.436323e+05   \n",
       "std    144.481833   45725.478963       28.549067   5171.981071  4.851937e+05   \n",
       "min      1.000000   21609.000000      -67.300000 -13038.000000  3.717000e+03   \n",
       "25%    125.750000   29003.000000       -5.900000    556.950000  3.658850e+04   \n",
       "50%    250.500000   40236.000000        0.550000   1761.600000  7.326150e+04   \n",
       "75%    375.250000   63926.750000        6.975000   3954.000000  1.805640e+05   \n",
       "max    500.000000  485873.000000      442.300000  45687.000000  3.473238e+06   \n",
       "\n",
       "       profit_change  previous_rank  years_on_global_500_list     employees  \\\n",
       "count     436.000000     500.000000                500.000000  5.000000e+02   \n",
       "mean       24.152752     222.134000                 15.036000  1.339983e+05   \n",
       "std       437.509566     146.941961                  7.932752  1.700878e+05   \n",
       "min      -793.700000       0.000000                  1.000000  3.280000e+02   \n",
       "25%       -22.775000      92.750000                  7.000000  4.293250e+04   \n",
       "50%        -0.350000     219.500000                 17.000000  9.291050e+04   \n",
       "75%        17.700000     347.250000                 23.000000  1.689172e+05   \n",
       "max      8909.500000     500.000000                 23.000000  2.300000e+06   \n",
       "\n",
       "       total_stockholder_equity  \n",
       "count                500.000000  \n",
       "mean               30628.076000  \n",
       "std                43642.576833  \n",
       "min               -59909.000000  \n",
       "25%                 7553.750000  \n",
       "50%                15809.500000  \n",
       "75%                37828.500000  \n",
       "max               301893.000000  "
      ]
     },
     "execution_count": 164,
     "metadata": {},
     "output_type": "execute_result"
    }
   ],
   "source": [
    "f500.describe()"
   ]
  },
  {
   "cell_type": "code",
   "execution_count": 165,
   "metadata": {},
   "outputs": [
    {
     "data": {
      "text/plain": [
       "0    C. Douglas McMillon\n",
       "1                Kou Wei\n",
       "2              Wang Yupu\n",
       "3          Zhang Jianhua\n",
       "4            Akio Toyoda\n",
       "Name: ceo, dtype: object"
      ]
     },
     "execution_count": 165,
     "metadata": {},
     "output_type": "execute_result"
    }
   ],
   "source": [
    "ceo = f500.iloc[:, 7]\n",
    "ceo.head()"
   ]
  },
  {
   "cell_type": "code",
   "execution_count": 166,
   "metadata": {},
   "outputs": [
    {
     "data": {
      "text/plain": [
       "'Akio Toyoda'"
      ]
     },
     "execution_count": 166,
     "metadata": {},
     "output_type": "execute_result"
    }
   ],
   "source": [
    "ceo.iloc[4]"
   ]
  },
  {
   "cell_type": "code",
   "execution_count": 167,
   "metadata": {},
   "outputs": [
    {
     "data": {
      "text/plain": [
       "0                     Walmart\n",
       "1                  State Grid\n",
       "2               Sinopec Group\n",
       "3    China National Petroleum\n",
       "4                Toyota Motor\n",
       "5                  Volkswagen\n",
       "6           Royal Dutch Shell\n",
       "Name: company, dtype: object"
      ]
     },
     "execution_count": 167,
     "metadata": {},
     "output_type": "execute_result"
    }
   ],
   "source": [
    "company = f500.iloc[:, 0]\n",
    "\n",
    "company.head(7)"
   ]
  },
  {
   "cell_type": "code",
   "execution_count": 168,
   "metadata": {},
   "outputs": [
    {
     "data": {
      "text/html": [
       "<div>\n",
       "<style scoped>\n",
       "    .dataframe tbody tr th:only-of-type {\n",
       "        vertical-align: middle;\n",
       "    }\n",
       "\n",
       "    .dataframe tbody tr th {\n",
       "        vertical-align: top;\n",
       "    }\n",
       "\n",
       "    .dataframe thead th {\n",
       "        text-align: right;\n",
       "    }\n",
       "</style>\n",
       "<table border=\"1\" class=\"dataframe\">\n",
       "  <thead>\n",
       "    <tr style=\"text-align: right;\">\n",
       "      <th></th>\n",
       "      <th>company</th>\n",
       "      <th>rank</th>\n",
       "      <th>revenues</th>\n",
       "      <th>revenue_change</th>\n",
       "      <th>profits</th>\n",
       "      <th>assets</th>\n",
       "      <th>profit_change</th>\n",
       "      <th>ceo</th>\n",
       "      <th>industry</th>\n",
       "      <th>sector</th>\n",
       "      <th>previous_rank</th>\n",
       "      <th>country</th>\n",
       "      <th>hq_location</th>\n",
       "      <th>website</th>\n",
       "      <th>years_on_global_500_list</th>\n",
       "      <th>employees</th>\n",
       "      <th>total_stockholder_equity</th>\n",
       "    </tr>\n",
       "  </thead>\n",
       "  <tbody>\n",
       "    <tr>\n",
       "      <th>1</th>\n",
       "      <td>State Grid</td>\n",
       "      <td>2</td>\n",
       "      <td>315199</td>\n",
       "      <td>-4.4</td>\n",
       "      <td>9571.3</td>\n",
       "      <td>489838</td>\n",
       "      <td>-6.2</td>\n",
       "      <td>Kou Wei</td>\n",
       "      <td>Utilities</td>\n",
       "      <td>Energy</td>\n",
       "      <td>2</td>\n",
       "      <td>China</td>\n",
       "      <td>Beijing, China</td>\n",
       "      <td>http://www.sgcc.com.cn</td>\n",
       "      <td>17</td>\n",
       "      <td>926067</td>\n",
       "      <td>209456</td>\n",
       "    </tr>\n",
       "    <tr>\n",
       "      <th>15</th>\n",
       "      <td>Glencore</td>\n",
       "      <td>16</td>\n",
       "      <td>173883</td>\n",
       "      <td>2.0</td>\n",
       "      <td>1379.0</td>\n",
       "      <td>124600</td>\n",
       "      <td>NaN</td>\n",
       "      <td>Ivan Glasenberg</td>\n",
       "      <td>Mining, Crude-Oil Production</td>\n",
       "      <td>Energy</td>\n",
       "      <td>14</td>\n",
       "      <td>Switzerland</td>\n",
       "      <td>Baar, Switzerland</td>\n",
       "      <td>http://www.glencore.com</td>\n",
       "      <td>7</td>\n",
       "      <td>93123</td>\n",
       "      <td>44243</td>\n",
       "    </tr>\n",
       "  </tbody>\n",
       "</table>\n",
       "</div>"
      ],
      "text/plain": [
       "       company  rank  revenues  revenue_change  profits  assets  \\\n",
       "1   State Grid     2    315199            -4.4   9571.3  489838   \n",
       "15    Glencore    16    173883             2.0   1379.0  124600   \n",
       "\n",
       "    profit_change              ceo                      industry  sector  \\\n",
       "1            -6.2          Kou Wei                     Utilities  Energy   \n",
       "15            NaN  Ivan Glasenberg  Mining, Crude-Oil Production  Energy   \n",
       "\n",
       "    previous_rank      country        hq_location                  website  \\\n",
       "1               2        China     Beijing, China   http://www.sgcc.com.cn   \n",
       "15             14  Switzerland  Baar, Switzerland  http://www.glencore.com   \n",
       "\n",
       "    years_on_global_500_list  employees  total_stockholder_equity  \n",
       "1                         17     926067                    209456  \n",
       "15                         7      93123                     44243  "
      ]
     },
     "execution_count": 168,
     "metadata": {},
     "output_type": "execute_result"
    }
   ],
   "source": [
    "f500.iloc[[1,15]]"
   ]
  },
  {
   "cell_type": "code",
   "execution_count": 169,
   "metadata": {},
   "outputs": [
    {
     "data": {
      "text/plain": [
       "False    436\n",
       "True      64\n",
       "Name: profit_change, dtype: int64"
      ]
     },
     "execution_count": 169,
     "metadata": {},
     "output_type": "execute_result"
    }
   ],
   "source": [
    "f500.profit_change.isnull().value_counts()"
   ]
  },
  {
   "cell_type": "markdown",
   "metadata": {},
   "source": [
    "- we have 64 companies with no change in the profit "
   ]
  },
  {
   "cell_type": "code",
   "execution_count": 170,
   "metadata": {},
   "outputs": [
    {
     "data": {
      "text/html": [
       "<div>\n",
       "<style scoped>\n",
       "    .dataframe tbody tr th:only-of-type {\n",
       "        vertical-align: middle;\n",
       "    }\n",
       "\n",
       "    .dataframe tbody tr th {\n",
       "        vertical-align: top;\n",
       "    }\n",
       "\n",
       "    .dataframe thead th {\n",
       "        text-align: right;\n",
       "    }\n",
       "</style>\n",
       "<table border=\"1\" class=\"dataframe\">\n",
       "  <thead>\n",
       "    <tr style=\"text-align: right;\">\n",
       "      <th></th>\n",
       "      <th>company</th>\n",
       "      <th>country</th>\n",
       "    </tr>\n",
       "  </thead>\n",
       "  <tbody>\n",
       "    <tr>\n",
       "      <th>5</th>\n",
       "      <td>Volkswagen</td>\n",
       "      <td>Germany</td>\n",
       "    </tr>\n",
       "    <tr>\n",
       "      <th>7</th>\n",
       "      <td>Berkshire Hathaway</td>\n",
       "      <td>USA</td>\n",
       "    </tr>\n",
       "    <tr>\n",
       "      <th>11</th>\n",
       "      <td>BP</td>\n",
       "      <td>Britain</td>\n",
       "    </tr>\n",
       "    <tr>\n",
       "      <th>15</th>\n",
       "      <td>Glencore</td>\n",
       "      <td>Switzerland</td>\n",
       "    </tr>\n",
       "    <tr>\n",
       "      <th>22</th>\n",
       "      <td>AmerisourceBergen</td>\n",
       "      <td>USA</td>\n",
       "    </tr>\n",
       "    <tr>\n",
       "      <th>...</th>\n",
       "      <td>...</td>\n",
       "      <td>...</td>\n",
       "    </tr>\n",
       "    <tr>\n",
       "      <th>472</th>\n",
       "      <td>Altice</td>\n",
       "      <td>Netherlands</td>\n",
       "    </tr>\n",
       "    <tr>\n",
       "      <th>473</th>\n",
       "      <td>Onex</td>\n",
       "      <td>Canada</td>\n",
       "    </tr>\n",
       "    <tr>\n",
       "      <th>475</th>\n",
       "      <td>Shanxi Jincheng Anthracite Coal Mining Group</td>\n",
       "      <td>China</td>\n",
       "    </tr>\n",
       "    <tr>\n",
       "      <th>488</th>\n",
       "      <td>Sears Holdings</td>\n",
       "      <td>USA</td>\n",
       "    </tr>\n",
       "    <tr>\n",
       "      <th>492</th>\n",
       "      <td>Telecom Italia</td>\n",
       "      <td>Italy</td>\n",
       "    </tr>\n",
       "  </tbody>\n",
       "</table>\n",
       "<p>64 rows × 2 columns</p>\n",
       "</div>"
      ],
      "text/plain": [
       "                                          company      country\n",
       "5                                      Volkswagen      Germany\n",
       "7                              Berkshire Hathaway          USA\n",
       "11                                             BP      Britain\n",
       "15                                       Glencore  Switzerland\n",
       "22                              AmerisourceBergen          USA\n",
       "..                                            ...          ...\n",
       "472                                        Altice  Netherlands\n",
       "473                                          Onex       Canada\n",
       "475  Shanxi Jincheng Anthracite Coal Mining Group        China\n",
       "488                                Sears Holdings          USA\n",
       "492                                Telecom Italia        Italy\n",
       "\n",
       "[64 rows x 2 columns]"
      ]
     },
     "execution_count": 170,
     "metadata": {},
     "output_type": "execute_result"
    }
   ],
   "source": [
    "# companies which it have no profit change\n",
    "comp = f500.loc[f500.profit_change.isnull() , [\"company\" , \"country\"]]\n",
    "comp"
   ]
  },
  {
   "cell_type": "code",
   "execution_count": 171,
   "metadata": {},
   "outputs": [
    {
     "data": {
      "text/html": [
       "<div>\n",
       "<style scoped>\n",
       "    .dataframe tbody tr th:only-of-type {\n",
       "        vertical-align: middle;\n",
       "    }\n",
       "\n",
       "    .dataframe tbody tr th {\n",
       "        vertical-align: top;\n",
       "    }\n",
       "\n",
       "    .dataframe thead th {\n",
       "        text-align: right;\n",
       "    }\n",
       "</style>\n",
       "<table border=\"1\" class=\"dataframe\">\n",
       "  <thead>\n",
       "    <tr style=\"text-align: right;\">\n",
       "      <th></th>\n",
       "      <th>country</th>\n",
       "      <th>company</th>\n",
       "    </tr>\n",
       "  </thead>\n",
       "  <tbody>\n",
       "    <tr>\n",
       "      <th>0</th>\n",
       "      <td>USA</td>\n",
       "      <td>Walmart</td>\n",
       "    </tr>\n",
       "    <tr>\n",
       "      <th>1</th>\n",
       "      <td>China</td>\n",
       "      <td>State Grid</td>\n",
       "    </tr>\n",
       "    <tr>\n",
       "      <th>2</th>\n",
       "      <td>China</td>\n",
       "      <td>Sinopec Group</td>\n",
       "    </tr>\n",
       "    <tr>\n",
       "      <th>3</th>\n",
       "      <td>China</td>\n",
       "      <td>China National Petroleum</td>\n",
       "    </tr>\n",
       "    <tr>\n",
       "      <th>4</th>\n",
       "      <td>Japan</td>\n",
       "      <td>Toyota Motor</td>\n",
       "    </tr>\n",
       "    <tr>\n",
       "      <th>...</th>\n",
       "      <td>...</td>\n",
       "      <td>...</td>\n",
       "    </tr>\n",
       "    <tr>\n",
       "      <th>495</th>\n",
       "      <td>Israel</td>\n",
       "      <td>Teva Pharmaceutical Industries</td>\n",
       "    </tr>\n",
       "    <tr>\n",
       "      <th>496</th>\n",
       "      <td>China</td>\n",
       "      <td>New China Life Insurance</td>\n",
       "    </tr>\n",
       "    <tr>\n",
       "      <th>497</th>\n",
       "      <td>Britain</td>\n",
       "      <td>Wm. Morrison Supermarkets</td>\n",
       "    </tr>\n",
       "    <tr>\n",
       "      <th>498</th>\n",
       "      <td>Germany</td>\n",
       "      <td>TUI</td>\n",
       "    </tr>\n",
       "    <tr>\n",
       "      <th>499</th>\n",
       "      <td>USA</td>\n",
       "      <td>AutoNation</td>\n",
       "    </tr>\n",
       "  </tbody>\n",
       "</table>\n",
       "<p>436 rows × 2 columns</p>\n",
       "</div>"
      ],
      "text/plain": [
       "     country                         company\n",
       "0        USA                         Walmart\n",
       "1      China                      State Grid\n",
       "2      China                   Sinopec Group\n",
       "3      China        China National Petroleum\n",
       "4      Japan                    Toyota Motor\n",
       "..       ...                             ...\n",
       "495   Israel  Teva Pharmaceutical Industries\n",
       "496    China        New China Life Insurance\n",
       "497  Britain       Wm. Morrison Supermarkets\n",
       "498  Germany                             TUI\n",
       "499      USA                      AutoNation\n",
       "\n",
       "[436 rows x 2 columns]"
      ]
     },
     "execution_count": 171,
     "metadata": {},
     "output_type": "execute_result"
    }
   ],
   "source": [
    "# the rest of the companies with change in the profit\n",
    "\n",
    "comp_2 = f500.loc[f500.profit_change.notnull() , [\"country\" , \"company\"]]\n",
    "comp_2"
   ]
  },
  {
   "cell_type": "code",
   "execution_count": 172,
   "metadata": {},
   "outputs": [],
   "source": [
    "f500_2 = f500.copy()"
   ]
  },
  {
   "cell_type": "code",
   "execution_count": 173,
   "metadata": {},
   "outputs": [],
   "source": [
    "f500_2.loc[f500.previous_rank== 0 , \"previous_rank\"]  = np.nan"
   ]
  },
  {
   "cell_type": "code",
   "execution_count": 174,
   "metadata": {},
   "outputs": [],
   "source": [
    "f500.loc[f500.previous_rank == 0 , \"previous_rank\"] = np.nan"
   ]
  },
  {
   "cell_type": "code",
   "execution_count": 175,
   "metadata": {},
   "outputs": [
    {
     "data": {
      "text/plain": [
       "48    NaN\n",
       "90    NaN\n",
       "123   NaN\n",
       "138   NaN\n",
       "140   NaN\n",
       "180   NaN\n",
       "267   NaN\n",
       "271   NaN\n",
       "341   NaN\n",
       "375   NaN\n",
       "376   NaN\n",
       "392   NaN\n",
       "409   NaN\n",
       "414   NaN\n",
       "431   NaN\n",
       "440   NaN\n",
       "441   NaN\n",
       "446   NaN\n",
       "456   NaN\n",
       "458   NaN\n",
       "461   NaN\n",
       "463   NaN\n",
       "466   NaN\n",
       "472   NaN\n",
       "477   NaN\n",
       "482   NaN\n",
       "484   NaN\n",
       "487   NaN\n",
       "491   NaN\n",
       "493   NaN\n",
       "494   NaN\n",
       "495   NaN\n",
       "499   NaN\n",
       "Name: previous_rank, dtype: float64"
      ]
     },
     "execution_count": 175,
     "metadata": {},
     "output_type": "execute_result"
    }
   ],
   "source": [
    "f500.loc[f500.previous_rank.isnull() , \"previous_rank\"]"
   ]
  },
  {
   "cell_type": "code",
   "execution_count": 176,
   "metadata": {},
   "outputs": [
    {
     "data": {
      "text/plain": [
       "(467,)"
      ]
     },
     "execution_count": 176,
     "metadata": {},
     "output_type": "execute_result"
    }
   ],
   "source": [
    "prev_rank = f500[f500.previous_rank.notnull()]\n",
    "rank_change = prev_rank[\"previous_rank\"] - prev_rank[\"rank\"]\n",
    "\n",
    "rank_change.shape"
   ]
  },
  {
   "cell_type": "code",
   "execution_count": 177,
   "metadata": {},
   "outputs": [],
   "source": [
    "# assign the rank_change as new column to the data\n",
    "\n",
    "f500[\"rank_change\"] = rank_change"
   ]
  },
  {
   "cell_type": "code",
   "execution_count": 178,
   "metadata": {},
   "outputs": [
    {
     "data": {
      "text/plain": [
       " NaN      33\n",
       "-1.0      14\n",
       "-4.0      13\n",
       "-2.0      12\n",
       " 8.0      12\n",
       "          ..\n",
       "-105.0     1\n",
       "-44.0      1\n",
       " 62.0      1\n",
       " 158.0     1\n",
       "-61.0      1\n",
       "Name: rank_change, Length: 153, dtype: int64"
      ]
     },
     "execution_count": 178,
     "metadata": {},
     "output_type": "execute_result"
    }
   ],
   "source": [
    "f500[\"rank_change\"].value_counts(dropna = False)"
   ]
  },
  {
   "cell_type": "markdown",
   "metadata": {},
   "source": [
    "**using logical operators with pandas for combining conditions**\n",
    "\n",
    "- the question is what are the chinese companies with revenue greater than 265 billion dollars ? "
   ]
  },
  {
   "cell_type": "code",
   "execution_count": 179,
   "metadata": {},
   "outputs": [
    {
     "data": {
      "text/html": [
       "<div>\n",
       "<style scoped>\n",
       "    .dataframe tbody tr th:only-of-type {\n",
       "        vertical-align: middle;\n",
       "    }\n",
       "\n",
       "    .dataframe tbody tr th {\n",
       "        vertical-align: top;\n",
       "    }\n",
       "\n",
       "    .dataframe thead th {\n",
       "        text-align: right;\n",
       "    }\n",
       "</style>\n",
       "<table border=\"1\" class=\"dataframe\">\n",
       "  <thead>\n",
       "    <tr style=\"text-align: right;\">\n",
       "      <th></th>\n",
       "      <th>company</th>\n",
       "      <th>country</th>\n",
       "      <th>rank</th>\n",
       "    </tr>\n",
       "  </thead>\n",
       "  <tbody>\n",
       "    <tr>\n",
       "      <th>1</th>\n",
       "      <td>State Grid</td>\n",
       "      <td>China</td>\n",
       "      <td>2</td>\n",
       "    </tr>\n",
       "    <tr>\n",
       "      <th>2</th>\n",
       "      <td>Sinopec Group</td>\n",
       "      <td>China</td>\n",
       "      <td>3</td>\n",
       "    </tr>\n",
       "  </tbody>\n",
       "</table>\n",
       "</div>"
      ],
      "text/plain": [
       "         company country  rank\n",
       "1     State Grid   China     2\n",
       "2  Sinopec Group   China     3"
      ]
     },
     "execution_count": 179,
     "metadata": {},
     "output_type": "execute_result"
    }
   ],
   "source": [
    "chinese = f500[\"country\"] == \"China\"\n",
    "rev_265 = f500[\"revenues\"] > 265000\n",
    "\n",
    "f500.loc[chinese & rev_265 , [\"company\" , \"country\" , \"rank\"]]"
   ]
  },
  {
   "cell_type": "code",
   "execution_count": 180,
   "metadata": {},
   "outputs": [
    {
     "data": {
      "text/html": [
       "<div>\n",
       "<style scoped>\n",
       "    .dataframe tbody tr th:only-of-type {\n",
       "        vertical-align: middle;\n",
       "    }\n",
       "\n",
       "    .dataframe tbody tr th {\n",
       "        vertical-align: top;\n",
       "    }\n",
       "\n",
       "    .dataframe thead th {\n",
       "        text-align: right;\n",
       "    }\n",
       "</style>\n",
       "<table border=\"1\" class=\"dataframe\">\n",
       "  <thead>\n",
       "    <tr style=\"text-align: right;\">\n",
       "      <th></th>\n",
       "      <th>company</th>\n",
       "      <th>country</th>\n",
       "      <th>rank</th>\n",
       "    </tr>\n",
       "  </thead>\n",
       "  <tbody>\n",
       "    <tr>\n",
       "      <th>0</th>\n",
       "      <td>Walmart</td>\n",
       "      <td>USA</td>\n",
       "      <td>1</td>\n",
       "    </tr>\n",
       "    <tr>\n",
       "      <th>1</th>\n",
       "      <td>State Grid</td>\n",
       "      <td>China</td>\n",
       "      <td>2</td>\n",
       "    </tr>\n",
       "    <tr>\n",
       "      <th>2</th>\n",
       "      <td>Sinopec Group</td>\n",
       "      <td>China</td>\n",
       "      <td>3</td>\n",
       "    </tr>\n",
       "    <tr>\n",
       "      <th>3</th>\n",
       "      <td>China National Petroleum</td>\n",
       "      <td>China</td>\n",
       "      <td>4</td>\n",
       "    </tr>\n",
       "    <tr>\n",
       "      <th>7</th>\n",
       "      <td>Berkshire Hathaway</td>\n",
       "      <td>USA</td>\n",
       "      <td>8</td>\n",
       "    </tr>\n",
       "    <tr>\n",
       "      <th>8</th>\n",
       "      <td>Apple</td>\n",
       "      <td>USA</td>\n",
       "      <td>9</td>\n",
       "    </tr>\n",
       "    <tr>\n",
       "      <th>9</th>\n",
       "      <td>Exxon Mobil</td>\n",
       "      <td>USA</td>\n",
       "      <td>10</td>\n",
       "    </tr>\n",
       "  </tbody>\n",
       "</table>\n",
       "</div>"
      ],
      "text/plain": [
       "                    company country  rank\n",
       "0                   Walmart     USA     1\n",
       "1                State Grid   China     2\n",
       "2             Sinopec Group   China     3\n",
       "3  China National Petroleum   China     4\n",
       "7        Berkshire Hathaway     USA     8\n",
       "8                     Apple     USA     9\n",
       "9               Exxon Mobil     USA    10"
      ]
     },
     "execution_count": 180,
     "metadata": {},
     "output_type": "execute_result"
    }
   ],
   "source": [
    "# the american or chinese companies with revenues more than 200 billion dollars\n",
    "condition = ((f500[\"country\"] == \"USA\") | (f500[\"country\"] == \"China\")) & (f500[\"revenues\"] > 200000)\n",
    "\n",
    "american_chinese_comp = f500.loc[condition , [\"company\" , \"country\" , \"rank\"]]\n",
    "\n",
    "american_chinese_comp"
   ]
  },
  {
   "cell_type": "markdown",
   "metadata": {},
   "source": [
    "-  *we have 7 companies 3 chinese and 4 in USA have revenues more than 200 billions annually*\n",
    "\n",
    "- another question is how many company from germany or france in the dataset ?  "
   ]
  },
  {
   "cell_type": "code",
   "execution_count": 181,
   "metadata": {},
   "outputs": [],
   "source": [
    "ger_fra = (f500[\"country\"] == \"Germany\" )| (f500[\"country\"] == \"France\")\n",
    "\n",
    "ger_fra_companies = f500.loc[ger_fra , [\"company\" , \"country\" , \"rank\" , \"revenues\"]]"
   ]
  },
  {
   "cell_type": "code",
   "execution_count": 182,
   "metadata": {},
   "outputs": [
    {
     "data": {
      "text/plain": [
       "109"
      ]
     },
     "execution_count": 182,
     "metadata": {},
     "output_type": "execute_result"
    }
   ],
   "source": [
    "# loop inside a column \n",
    "s = 0\n",
    "for country in f500[\"country\"]:\n",
    "    if country == \"China\":\n",
    "        s+= 1\n",
    "s"
   ]
  },
  {
   "cell_type": "markdown",
   "metadata": {},
   "source": [
    "- can u list the tech companies in the dataset ? "
   ]
  },
  {
   "cell_type": "code",
   "execution_count": 183,
   "metadata": {},
   "outputs": [
    {
     "data": {
      "text/html": [
       "<div>\n",
       "<style scoped>\n",
       "    .dataframe tbody tr th:only-of-type {\n",
       "        vertical-align: middle;\n",
       "    }\n",
       "\n",
       "    .dataframe tbody tr th {\n",
       "        vertical-align: top;\n",
       "    }\n",
       "\n",
       "    .dataframe thead th {\n",
       "        text-align: right;\n",
       "    }\n",
       "</style>\n",
       "<table border=\"1\" class=\"dataframe\">\n",
       "  <thead>\n",
       "    <tr style=\"text-align: right;\">\n",
       "      <th></th>\n",
       "      <th>company</th>\n",
       "      <th>country</th>\n",
       "    </tr>\n",
       "  </thead>\n",
       "  <tbody>\n",
       "    <tr>\n",
       "      <th>8</th>\n",
       "      <td>Apple</td>\n",
       "      <td>USA</td>\n",
       "    </tr>\n",
       "    <tr>\n",
       "      <th>14</th>\n",
       "      <td>Samsung Electronics</td>\n",
       "      <td>South Korea</td>\n",
       "    </tr>\n",
       "    <tr>\n",
       "      <th>25</th>\n",
       "      <td>Amazon.com</td>\n",
       "      <td>USA</td>\n",
       "    </tr>\n",
       "    <tr>\n",
       "      <th>26</th>\n",
       "      <td>Hon Hai Precision Industry</td>\n",
       "      <td>Taiwan</td>\n",
       "    </tr>\n",
       "    <tr>\n",
       "      <th>64</th>\n",
       "      <td>Alphabet</td>\n",
       "      <td>USA</td>\n",
       "    </tr>\n",
       "    <tr>\n",
       "      <th>68</th>\n",
       "      <td>Microsoft</td>\n",
       "      <td>USA</td>\n",
       "    </tr>\n",
       "    <tr>\n",
       "      <th>70</th>\n",
       "      <td>Hitachi</td>\n",
       "      <td>Japan</td>\n",
       "    </tr>\n",
       "    <tr>\n",
       "      <th>80</th>\n",
       "      <td>IBM</td>\n",
       "      <td>USA</td>\n",
       "    </tr>\n",
       "    <tr>\n",
       "      <th>82</th>\n",
       "      <td>Huawei Investment &amp; Holding</td>\n",
       "      <td>China</td>\n",
       "    </tr>\n",
       "    <tr>\n",
       "      <th>104</th>\n",
       "      <td>Sony</td>\n",
       "      <td>Japan</td>\n",
       "    </tr>\n",
       "    <tr>\n",
       "      <th>109</th>\n",
       "      <td>Panasonic</td>\n",
       "      <td>Japan</td>\n",
       "    </tr>\n",
       "    <tr>\n",
       "      <th>123</th>\n",
       "      <td>Dell Technologies</td>\n",
       "      <td>USA</td>\n",
       "    </tr>\n",
       "    <tr>\n",
       "      <th>143</th>\n",
       "      <td>Intel</td>\n",
       "      <td>USA</td>\n",
       "    </tr>\n",
       "    <tr>\n",
       "      <th>180</th>\n",
       "      <td>Hewlett Packard Enterprise</td>\n",
       "      <td>USA</td>\n",
       "    </tr>\n",
       "    <tr>\n",
       "      <th>182</th>\n",
       "      <td>Amer International Group</td>\n",
       "      <td>China</td>\n",
       "    </tr>\n",
       "    <tr>\n",
       "      <th>186</th>\n",
       "      <td>Cisco Systems</td>\n",
       "      <td>USA</td>\n",
       "    </tr>\n",
       "    <tr>\n",
       "      <th>193</th>\n",
       "      <td>HP</td>\n",
       "      <td>USA</td>\n",
       "    </tr>\n",
       "    <tr>\n",
       "      <th>200</th>\n",
       "      <td>LG Electronics</td>\n",
       "      <td>South Korea</td>\n",
       "    </tr>\n",
       "    <tr>\n",
       "      <th>225</th>\n",
       "      <td>Lenovo Group</td>\n",
       "      <td>China</td>\n",
       "    </tr>\n",
       "    <tr>\n",
       "      <th>236</th>\n",
       "      <td>Fujitsu</td>\n",
       "      <td>Japan</td>\n",
       "    </tr>\n",
       "    <tr>\n",
       "      <th>259</th>\n",
       "      <td>Honeywell International</td>\n",
       "      <td>USA</td>\n",
       "    </tr>\n",
       "    <tr>\n",
       "      <th>260</th>\n",
       "      <td>JD.com</td>\n",
       "      <td>China</td>\n",
       "    </tr>\n",
       "    <tr>\n",
       "      <th>261</th>\n",
       "      <td>Mitsubishi Electric</td>\n",
       "      <td>Japan</td>\n",
       "    </tr>\n",
       "    <tr>\n",
       "      <th>279</th>\n",
       "      <td>Oracle</td>\n",
       "      <td>USA</td>\n",
       "    </tr>\n",
       "    <tr>\n",
       "      <th>295</th>\n",
       "      <td>Pegatron</td>\n",
       "      <td>Taiwan</td>\n",
       "    </tr>\n",
       "    <tr>\n",
       "      <th>304</th>\n",
       "      <td>Accenture</td>\n",
       "      <td>Ireland</td>\n",
       "    </tr>\n",
       "    <tr>\n",
       "      <th>346</th>\n",
       "      <td>Canon</td>\n",
       "      <td>Japan</td>\n",
       "    </tr>\n",
       "    <tr>\n",
       "      <th>361</th>\n",
       "      <td>China Electronics</td>\n",
       "      <td>China</td>\n",
       "    </tr>\n",
       "    <tr>\n",
       "      <th>368</th>\n",
       "      <td>Taiwan Semiconductor Manufacturing</td>\n",
       "      <td>Taiwan</td>\n",
       "    </tr>\n",
       "    <tr>\n",
       "      <th>389</th>\n",
       "      <td>Quanta Computer</td>\n",
       "      <td>Taiwan</td>\n",
       "    </tr>\n",
       "    <tr>\n",
       "      <th>392</th>\n",
       "      <td>Facebook</td>\n",
       "      <td>USA</td>\n",
       "    </tr>\n",
       "    <tr>\n",
       "      <th>398</th>\n",
       "      <td>Schneider Electric</td>\n",
       "      <td>France</td>\n",
       "    </tr>\n",
       "    <tr>\n",
       "      <th>414</th>\n",
       "      <td>Nokia</td>\n",
       "      <td>Finland</td>\n",
       "    </tr>\n",
       "    <tr>\n",
       "      <th>418</th>\n",
       "      <td>LM Ericsson</td>\n",
       "      <td>Sweden</td>\n",
       "    </tr>\n",
       "    <tr>\n",
       "      <th>436</th>\n",
       "      <td>NEC</td>\n",
       "      <td>Japan</td>\n",
       "    </tr>\n",
       "    <tr>\n",
       "      <th>442</th>\n",
       "      <td>SAP</td>\n",
       "      <td>Germany</td>\n",
       "    </tr>\n",
       "    <tr>\n",
       "      <th>449</th>\n",
       "      <td>Midea Group</td>\n",
       "      <td>China</td>\n",
       "    </tr>\n",
       "    <tr>\n",
       "      <th>454</th>\n",
       "      <td>Flex</td>\n",
       "      <td>Singapore</td>\n",
       "    </tr>\n",
       "    <tr>\n",
       "      <th>457</th>\n",
       "      <td>Compal Electronics</td>\n",
       "      <td>Taiwan</td>\n",
       "    </tr>\n",
       "    <tr>\n",
       "      <th>459</th>\n",
       "      <td>Qualcomm</td>\n",
       "      <td>USA</td>\n",
       "    </tr>\n",
       "    <tr>\n",
       "      <th>461</th>\n",
       "      <td>Alibaba Group Holding</td>\n",
       "      <td>China</td>\n",
       "    </tr>\n",
       "    <tr>\n",
       "      <th>473</th>\n",
       "      <td>Onex</td>\n",
       "      <td>Canada</td>\n",
       "    </tr>\n",
       "    <tr>\n",
       "      <th>477</th>\n",
       "      <td>Tencent Holdings</td>\n",
       "      <td>China</td>\n",
       "    </tr>\n",
       "    <tr>\n",
       "      <th>478</th>\n",
       "      <td>LG Display</td>\n",
       "      <td>South Korea</td>\n",
       "    </tr>\n",
       "  </tbody>\n",
       "</table>\n",
       "</div>"
      ],
      "text/plain": [
       "                                company      country\n",
       "8                                 Apple          USA\n",
       "14                  Samsung Electronics  South Korea\n",
       "25                           Amazon.com          USA\n",
       "26           Hon Hai Precision Industry       Taiwan\n",
       "64                             Alphabet          USA\n",
       "68                            Microsoft          USA\n",
       "70                              Hitachi        Japan\n",
       "80                                  IBM          USA\n",
       "82          Huawei Investment & Holding        China\n",
       "104                                Sony        Japan\n",
       "109                           Panasonic        Japan\n",
       "123                   Dell Technologies          USA\n",
       "143                               Intel          USA\n",
       "180          Hewlett Packard Enterprise          USA\n",
       "182            Amer International Group        China\n",
       "186                       Cisco Systems          USA\n",
       "193                                  HP          USA\n",
       "200                      LG Electronics  South Korea\n",
       "225                        Lenovo Group        China\n",
       "236                             Fujitsu        Japan\n",
       "259             Honeywell International          USA\n",
       "260                              JD.com        China\n",
       "261                 Mitsubishi Electric        Japan\n",
       "279                              Oracle          USA\n",
       "295                            Pegatron       Taiwan\n",
       "304                           Accenture      Ireland\n",
       "346                               Canon        Japan\n",
       "361                   China Electronics        China\n",
       "368  Taiwan Semiconductor Manufacturing       Taiwan\n",
       "389                     Quanta Computer       Taiwan\n",
       "392                            Facebook          USA\n",
       "398                  Schneider Electric       France\n",
       "414                               Nokia      Finland\n",
       "418                         LM Ericsson       Sweden\n",
       "436                                 NEC        Japan\n",
       "442                                 SAP      Germany\n",
       "449                         Midea Group        China\n",
       "454                                Flex    Singapore\n",
       "457                  Compal Electronics       Taiwan\n",
       "459                            Qualcomm          USA\n",
       "461               Alibaba Group Holding        China\n",
       "473                                Onex       Canada\n",
       "477                    Tencent Holdings        China\n",
       "478                          LG Display  South Korea"
      ]
     },
     "execution_count": 183,
     "metadata": {},
     "output_type": "execute_result"
    }
   ],
   "source": [
    "f500.loc[f500[\"sector\"] == \"Technology\" , [\"company\" , \"country\"]]"
   ]
  },
  {
   "cell_type": "markdown",
   "metadata": {},
   "source": [
    "## Sorting values\n",
    "- df.sort_values()"
   ]
  },
  {
   "cell_type": "code",
   "execution_count": 184,
   "metadata": {},
   "outputs": [
    {
     "data": {
      "text/html": [
       "<div>\n",
       "<style scoped>\n",
       "    .dataframe tbody tr th:only-of-type {\n",
       "        vertical-align: middle;\n",
       "    }\n",
       "\n",
       "    .dataframe tbody tr th {\n",
       "        vertical-align: top;\n",
       "    }\n",
       "\n",
       "    .dataframe thead th {\n",
       "        text-align: right;\n",
       "    }\n",
       "</style>\n",
       "<table border=\"1\" class=\"dataframe\">\n",
       "  <thead>\n",
       "    <tr style=\"text-align: right;\">\n",
       "      <th></th>\n",
       "      <th>company</th>\n",
       "      <th>country</th>\n",
       "      <th>rank</th>\n",
       "      <th>employees</th>\n",
       "    </tr>\n",
       "  </thead>\n",
       "  <tbody>\n",
       "    <tr>\n",
       "      <th>3</th>\n",
       "      <td>China National Petroleum</td>\n",
       "      <td>China</td>\n",
       "      <td>4</td>\n",
       "      <td>1512048</td>\n",
       "    </tr>\n",
       "    <tr>\n",
       "      <th>118</th>\n",
       "      <td>China Post Group</td>\n",
       "      <td>China</td>\n",
       "      <td>119</td>\n",
       "      <td>941211</td>\n",
       "    </tr>\n",
       "    <tr>\n",
       "      <th>1</th>\n",
       "      <td>State Grid</td>\n",
       "      <td>China</td>\n",
       "      <td>2</td>\n",
       "      <td>926067</td>\n",
       "    </tr>\n",
       "    <tr>\n",
       "      <th>2</th>\n",
       "      <td>Sinopec Group</td>\n",
       "      <td>China</td>\n",
       "      <td>3</td>\n",
       "      <td>713288</td>\n",
       "    </tr>\n",
       "    <tr>\n",
       "      <th>37</th>\n",
       "      <td>Agricultural Bank of China</td>\n",
       "      <td>China</td>\n",
       "      <td>38</td>\n",
       "      <td>501368</td>\n",
       "    </tr>\n",
       "    <tr>\n",
       "      <th>...</th>\n",
       "      <td>...</td>\n",
       "      <td>...</td>\n",
       "      <td>...</td>\n",
       "      <td>...</td>\n",
       "    </tr>\n",
       "    <tr>\n",
       "      <th>182</th>\n",
       "      <td>Amer International Group</td>\n",
       "      <td>China</td>\n",
       "      <td>183</td>\n",
       "      <td>17852</td>\n",
       "    </tr>\n",
       "    <tr>\n",
       "      <th>128</th>\n",
       "      <td>Tewoo Group</td>\n",
       "      <td>China</td>\n",
       "      <td>129</td>\n",
       "      <td>17353</td>\n",
       "    </tr>\n",
       "    <tr>\n",
       "      <th>438</th>\n",
       "      <td>China National Aviation Fuel Group</td>\n",
       "      <td>China</td>\n",
       "      <td>439</td>\n",
       "      <td>11739</td>\n",
       "    </tr>\n",
       "    <tr>\n",
       "      <th>458</th>\n",
       "      <td>Yango Financial Holding</td>\n",
       "      <td>China</td>\n",
       "      <td>459</td>\n",
       "      <td>10234</td>\n",
       "    </tr>\n",
       "    <tr>\n",
       "      <th>204</th>\n",
       "      <td>Noble Group</td>\n",
       "      <td>China</td>\n",
       "      <td>205</td>\n",
       "      <td>1000</td>\n",
       "    </tr>\n",
       "  </tbody>\n",
       "</table>\n",
       "<p>109 rows × 4 columns</p>\n",
       "</div>"
      ],
      "text/plain": [
       "                                company country  rank  employees\n",
       "3              China National Petroleum   China     4    1512048\n",
       "118                    China Post Group   China   119     941211\n",
       "1                            State Grid   China     2     926067\n",
       "2                         Sinopec Group   China     3     713288\n",
       "37           Agricultural Bank of China   China    38     501368\n",
       "..                                  ...     ...   ...        ...\n",
       "182            Amer International Group   China   183      17852\n",
       "128                         Tewoo Group   China   129      17353\n",
       "438  China National Aviation Fuel Group   China   439      11739\n",
       "458             Yango Financial Holding   China   459      10234\n",
       "204                         Noble Group   China   205       1000\n",
       "\n",
       "[109 rows x 4 columns]"
      ]
     },
     "execution_count": 184,
     "metadata": {},
     "output_type": "execute_result"
    }
   ],
   "source": [
    "chinese = f500.loc[f500[\"country\"] == \"China\"]\n",
    "\n",
    "chinese_sel = chinese[[\"company\"  , \"country\" , \"rank\" , \"employees\"]]\n",
    "chinese_sel.sort_values(by = \"employees\" , ascending = False)"
   ]
  },
  {
   "cell_type": "code",
   "execution_count": 185,
   "metadata": {},
   "outputs": [
    {
     "data": {
      "text/html": [
       "<div>\n",
       "<style scoped>\n",
       "    .dataframe tbody tr th:only-of-type {\n",
       "        vertical-align: middle;\n",
       "    }\n",
       "\n",
       "    .dataframe tbody tr th {\n",
       "        vertical-align: top;\n",
       "    }\n",
       "\n",
       "    .dataframe thead th {\n",
       "        text-align: right;\n",
       "    }\n",
       "</style>\n",
       "<table border=\"1\" class=\"dataframe\">\n",
       "  <thead>\n",
       "    <tr style=\"text-align: right;\">\n",
       "      <th></th>\n",
       "      <th>company</th>\n",
       "      <th>rank</th>\n",
       "      <th>employees</th>\n",
       "    </tr>\n",
       "  </thead>\n",
       "  <tbody>\n",
       "    <tr>\n",
       "      <th>4</th>\n",
       "      <td>Toyota Motor</td>\n",
       "      <td>5</td>\n",
       "      <td>364445</td>\n",
       "    </tr>\n",
       "    <tr>\n",
       "      <th>70</th>\n",
       "      <td>Hitachi</td>\n",
       "      <td>71</td>\n",
       "      <td>303887</td>\n",
       "    </tr>\n",
       "    <tr>\n",
       "      <th>49</th>\n",
       "      <td>Nippon Telegraph &amp; Telephone</td>\n",
       "      <td>50</td>\n",
       "      <td>274844</td>\n",
       "    </tr>\n",
       "    <tr>\n",
       "      <th>86</th>\n",
       "      <td>AEON</td>\n",
       "      <td>87</td>\n",
       "      <td>274760</td>\n",
       "    </tr>\n",
       "    <tr>\n",
       "      <th>109</th>\n",
       "      <td>Panasonic</td>\n",
       "      <td>110</td>\n",
       "      <td>257533</td>\n",
       "    </tr>\n",
       "    <tr>\n",
       "      <th>32</th>\n",
       "      <td>Japan Post Holdings</td>\n",
       "      <td>33</td>\n",
       "      <td>248384</td>\n",
       "    </tr>\n",
       "    <tr>\n",
       "      <th>419</th>\n",
       "      <td>Sumitomo Electric Industries</td>\n",
       "      <td>420</td>\n",
       "      <td>248330</td>\n",
       "    </tr>\n",
       "    <tr>\n",
       "      <th>28</th>\n",
       "      <td>Honda Motor</td>\n",
       "      <td>29</td>\n",
       "      <td>211915</td>\n",
       "    </tr>\n",
       "    <tr>\n",
       "      <th>346</th>\n",
       "      <td>Canon</td>\n",
       "      <td>347</td>\n",
       "      <td>197673</td>\n",
       "    </tr>\n",
       "    <tr>\n",
       "      <th>236</th>\n",
       "      <td>Fujitsu</td>\n",
       "      <td>237</td>\n",
       "      <td>155069</td>\n",
       "    </tr>\n",
       "    <tr>\n",
       "      <th>235</th>\n",
       "      <td>Denso</td>\n",
       "      <td>236</td>\n",
       "      <td>154493</td>\n",
       "    </tr>\n",
       "    <tr>\n",
       "      <th>352</th>\n",
       "      <td>Bridgestone</td>\n",
       "      <td>353</td>\n",
       "      <td>143616</td>\n",
       "    </tr>\n",
       "    <tr>\n",
       "      <th>261</th>\n",
       "      <td>Mitsubishi Electric</td>\n",
       "      <td>262</td>\n",
       "      <td>138700</td>\n",
       "    </tr>\n",
       "    <tr>\n",
       "      <th>43</th>\n",
       "      <td>Nissan Motor</td>\n",
       "      <td>44</td>\n",
       "      <td>137250</td>\n",
       "    </tr>\n",
       "    <tr>\n",
       "      <th>104</th>\n",
       "      <td>Sony</td>\n",
       "      <td>105</td>\n",
       "      <td>128400</td>\n",
       "    </tr>\n",
       "    <tr>\n",
       "      <th>163</th>\n",
       "      <td>Mitsubishi UFJ Financial Group</td>\n",
       "      <td>164</td>\n",
       "      <td>115276</td>\n",
       "    </tr>\n",
       "    <tr>\n",
       "      <th>214</th>\n",
       "      <td>Itochu</td>\n",
       "      <td>215</td>\n",
       "      <td>110207</td>\n",
       "    </tr>\n",
       "    <tr>\n",
       "      <th>436</th>\n",
       "      <td>NEC</td>\n",
       "      <td>437</td>\n",
       "      <td>107729</td>\n",
       "    </tr>\n",
       "    <tr>\n",
       "      <th>227</th>\n",
       "      <td>Nippon Steel &amp; Sumitomo Metal</td>\n",
       "      <td>228</td>\n",
       "      <td>100169</td>\n",
       "    </tr>\n",
       "    <tr>\n",
       "      <th>323</th>\n",
       "      <td>Aisin Seiki</td>\n",
       "      <td>324</td>\n",
       "      <td>99389</td>\n",
       "    </tr>\n",
       "    <tr>\n",
       "      <th>407</th>\n",
       "      <td>East Japan Railway</td>\n",
       "      <td>408</td>\n",
       "      <td>85834</td>\n",
       "    </tr>\n",
       "    <tr>\n",
       "      <th>110</th>\n",
       "      <td>Nippon Life Insurance</td>\n",
       "      <td>111</td>\n",
       "      <td>85171</td>\n",
       "    </tr>\n",
       "    <tr>\n",
       "      <th>293</th>\n",
       "      <td>Mitsubishi Heavy Industries</td>\n",
       "      <td>294</td>\n",
       "      <td>82728</td>\n",
       "    </tr>\n",
       "    <tr>\n",
       "      <th>201</th>\n",
       "      <td>Sumitomo Mitsui Financial Group</td>\n",
       "      <td>202</td>\n",
       "      <td>77205</td>\n",
       "    </tr>\n",
       "    <tr>\n",
       "      <th>144</th>\n",
       "      <td>Mitsubishi</td>\n",
       "      <td>145</td>\n",
       "      <td>77164</td>\n",
       "    </tr>\n",
       "    <tr>\n",
       "      <th>281</th>\n",
       "      <td>Sumitomo</td>\n",
       "      <td>282</td>\n",
       "      <td>70900</td>\n",
       "    </tr>\n",
       "    <tr>\n",
       "      <th>348</th>\n",
       "      <td>Mitsubishi Chemical Holdings</td>\n",
       "      <td>349</td>\n",
       "      <td>69291</td>\n",
       "    </tr>\n",
       "    <tr>\n",
       "      <th>71</th>\n",
       "      <td>SoftBank Group</td>\n",
       "      <td>72</td>\n",
       "      <td>68402</td>\n",
       "    </tr>\n",
       "    <tr>\n",
       "      <th>372</th>\n",
       "      <td>Suzuki Motor</td>\n",
       "      <td>373</td>\n",
       "      <td>62992</td>\n",
       "    </tr>\n",
       "    <tr>\n",
       "      <th>141</th>\n",
       "      <td>Dai-ichi Life Holdings</td>\n",
       "      <td>142</td>\n",
       "      <td>62606</td>\n",
       "    </tr>\n",
       "    <tr>\n",
       "      <th>329</th>\n",
       "      <td>Daiwa House Industry</td>\n",
       "      <td>330</td>\n",
       "      <td>60539</td>\n",
       "    </tr>\n",
       "    <tr>\n",
       "      <th>355</th>\n",
       "      <td>JFE Holdings</td>\n",
       "      <td>356</td>\n",
       "      <td>60439</td>\n",
       "    </tr>\n",
       "    <tr>\n",
       "      <th>356</th>\n",
       "      <td>Mizuho Financial Group</td>\n",
       "      <td>357</td>\n",
       "      <td>59179</td>\n",
       "    </tr>\n",
       "    <tr>\n",
       "      <th>166</th>\n",
       "      <td>Seven &amp; I Holdings</td>\n",
       "      <td>167</td>\n",
       "      <td>54712</td>\n",
       "    </tr>\n",
       "    <tr>\n",
       "      <th>366</th>\n",
       "      <td>Mazda Motor</td>\n",
       "      <td>367</td>\n",
       "      <td>48849</td>\n",
       "    </tr>\n",
       "    <tr>\n",
       "      <th>339</th>\n",
       "      <td>Sompo Holdings</td>\n",
       "      <td>340</td>\n",
       "      <td>47430</td>\n",
       "    </tr>\n",
       "    <tr>\n",
       "      <th>248</th>\n",
       "      <td>Mitsui</td>\n",
       "      <td>249</td>\n",
       "      <td>42316</td>\n",
       "    </tr>\n",
       "    <tr>\n",
       "      <th>241</th>\n",
       "      <td>Sumitomo Life Insurance</td>\n",
       "      <td>242</td>\n",
       "      <td>42245</td>\n",
       "    </tr>\n",
       "    <tr>\n",
       "      <th>184</th>\n",
       "      <td>Tokyo Electric Power</td>\n",
       "      <td>185</td>\n",
       "      <td>42060</td>\n",
       "    </tr>\n",
       "    <tr>\n",
       "      <th>296</th>\n",
       "      <td>Meiji Yasuda Life Insurance</td>\n",
       "      <td>297</td>\n",
       "      <td>41872</td>\n",
       "    </tr>\n",
       "    <tr>\n",
       "      <th>187</th>\n",
       "      <td>MS&amp;AD Insurance Group Holdings</td>\n",
       "      <td>188</td>\n",
       "      <td>40641</td>\n",
       "    </tr>\n",
       "    <tr>\n",
       "      <th>115</th>\n",
       "      <td>Marubeni</td>\n",
       "      <td>116</td>\n",
       "      <td>39952</td>\n",
       "    </tr>\n",
       "    <tr>\n",
       "      <th>192</th>\n",
       "      <td>Tokio Marine Holdings</td>\n",
       "      <td>193</td>\n",
       "      <td>38842</td>\n",
       "    </tr>\n",
       "    <tr>\n",
       "      <th>351</th>\n",
       "      <td>Subaru</td>\n",
       "      <td>352</td>\n",
       "      <td>36668</td>\n",
       "    </tr>\n",
       "    <tr>\n",
       "      <th>218</th>\n",
       "      <td>KDDI</td>\n",
       "      <td>219</td>\n",
       "      <td>35032</td>\n",
       "    </tr>\n",
       "    <tr>\n",
       "      <th>388</th>\n",
       "      <td>Kansai Electric Power</td>\n",
       "      <td>389</td>\n",
       "      <td>32666</td>\n",
       "    </tr>\n",
       "    <tr>\n",
       "      <th>450</th>\n",
       "      <td>Chubu Electric Power</td>\n",
       "      <td>451</td>\n",
       "      <td>30635</td>\n",
       "    </tr>\n",
       "    <tr>\n",
       "      <th>126</th>\n",
       "      <td>JXTG Holdings</td>\n",
       "      <td>127</td>\n",
       "      <td>26247</td>\n",
       "    </tr>\n",
       "    <tr>\n",
       "      <th>380</th>\n",
       "      <td>Medipal Holdings</td>\n",
       "      <td>381</td>\n",
       "      <td>15745</td>\n",
       "    </tr>\n",
       "    <tr>\n",
       "      <th>460</th>\n",
       "      <td>Alfresa Holdings</td>\n",
       "      <td>461</td>\n",
       "      <td>13217</td>\n",
       "    </tr>\n",
       "    <tr>\n",
       "      <th>422</th>\n",
       "      <td>Idemitsu Kosan</td>\n",
       "      <td>423</td>\n",
       "      <td>9139</td>\n",
       "    </tr>\n",
       "  </tbody>\n",
       "</table>\n",
       "</div>"
      ],
      "text/plain": [
       "                             company  rank  employees\n",
       "4                       Toyota Motor     5     364445\n",
       "70                           Hitachi    71     303887\n",
       "49      Nippon Telegraph & Telephone    50     274844\n",
       "86                              AEON    87     274760\n",
       "109                        Panasonic   110     257533\n",
       "32               Japan Post Holdings    33     248384\n",
       "419     Sumitomo Electric Industries   420     248330\n",
       "28                       Honda Motor    29     211915\n",
       "346                            Canon   347     197673\n",
       "236                          Fujitsu   237     155069\n",
       "235                            Denso   236     154493\n",
       "352                      Bridgestone   353     143616\n",
       "261              Mitsubishi Electric   262     138700\n",
       "43                      Nissan Motor    44     137250\n",
       "104                             Sony   105     128400\n",
       "163   Mitsubishi UFJ Financial Group   164     115276\n",
       "214                           Itochu   215     110207\n",
       "436                              NEC   437     107729\n",
       "227    Nippon Steel & Sumitomo Metal   228     100169\n",
       "323                      Aisin Seiki   324      99389\n",
       "407               East Japan Railway   408      85834\n",
       "110            Nippon Life Insurance   111      85171\n",
       "293      Mitsubishi Heavy Industries   294      82728\n",
       "201  Sumitomo Mitsui Financial Group   202      77205\n",
       "144                       Mitsubishi   145      77164\n",
       "281                         Sumitomo   282      70900\n",
       "348     Mitsubishi Chemical Holdings   349      69291\n",
       "71                    SoftBank Group    72      68402\n",
       "372                     Suzuki Motor   373      62992\n",
       "141           Dai-ichi Life Holdings   142      62606\n",
       "329             Daiwa House Industry   330      60539\n",
       "355                     JFE Holdings   356      60439\n",
       "356           Mizuho Financial Group   357      59179\n",
       "166               Seven & I Holdings   167      54712\n",
       "366                      Mazda Motor   367      48849\n",
       "339                   Sompo Holdings   340      47430\n",
       "248                           Mitsui   249      42316\n",
       "241          Sumitomo Life Insurance   242      42245\n",
       "184             Tokyo Electric Power   185      42060\n",
       "296      Meiji Yasuda Life Insurance   297      41872\n",
       "187   MS&AD Insurance Group Holdings   188      40641\n",
       "115                         Marubeni   116      39952\n",
       "192            Tokio Marine Holdings   193      38842\n",
       "351                           Subaru   352      36668\n",
       "218                             KDDI   219      35032\n",
       "388            Kansai Electric Power   389      32666\n",
       "450             Chubu Electric Power   451      30635\n",
       "126                    JXTG Holdings   127      26247\n",
       "380                 Medipal Holdings   381      15745\n",
       "460                 Alfresa Holdings   461      13217\n",
       "422                   Idemitsu Kosan   423       9139"
      ]
     },
     "execution_count": 185,
     "metadata": {},
     "output_type": "execute_result"
    }
   ],
   "source": [
    "# japanese company with most employee \n",
    "japanese_comp = f500.loc[f500[\"country\"] == \"Japan\" , [\"company\" , \"rank\" , \"employees\"]]\n",
    "\n",
    "# sort the values by employee to know which company employ more people\n",
    "\n",
    "japanese_comp.sort_values(by = \"employees\" , ascending = False)"
   ]
  },
  {
   "cell_type": "code",
   "execution_count": 186,
   "metadata": {},
   "outputs": [
    {
     "name": "stdout",
     "output_type": "stream",
     "text": [
      "['USA' 'China' 'Japan' 'Germany' 'Netherlands' 'Britain' 'South Korea'\n",
      " 'Switzerland' 'France' 'Taiwan' 'Singapore' 'Italy' 'Russia' 'Spain'\n",
      " 'Brazil' 'Mexico' 'Luxembourg' 'India' 'Malaysia' 'Thailand' 'Australia'\n",
      " 'Belgium' 'Norway' 'Canada' 'Ireland' 'Indonesia' 'Denmark'\n",
      " 'Saudi Arabia' 'Sweden' 'Finland' 'Venezuela' 'Turkey' 'U.A.E' 'Israel'] <class 'numpy.ndarray'>\n"
     ]
    }
   ],
   "source": [
    "# revenue for each country \n",
    "rev_country = f500[[\"country\" , \"revenues\"]]\n",
    "a = rev_country[\"country\"].unique()\n",
    "print(a , type(a))"
   ]
  },
  {
   "cell_type": "code",
   "execution_count": 187,
   "metadata": {},
   "outputs": [
    {
     "data": {
      "text/plain": [
       "{'USA': 'Walmart',\n",
       " 'China': 'State Grid',\n",
       " 'Japan': 'Toyota Motor',\n",
       " 'Germany': 'Volkswagen',\n",
       " 'Netherlands': 'Royal Dutch Shell',\n",
       " 'Britain': 'BP',\n",
       " 'South Korea': 'Samsung Electronics',\n",
       " 'Switzerland': 'Glencore',\n",
       " 'France': 'AXA',\n",
       " 'Taiwan': 'Hon Hai Precision Industry',\n",
       " 'Singapore': 'Trafigura Group',\n",
       " 'Italy': 'Assicurazioni Generali',\n",
       " 'Russia': 'Gazprom',\n",
       " 'Spain': 'Banco Santander',\n",
       " 'Brazil': 'Petrobras',\n",
       " 'Mexico': 'Pemex',\n",
       " 'Luxembourg': 'ArcelorMittal',\n",
       " 'India': 'Indian Oil',\n",
       " 'Malaysia': 'Petronas',\n",
       " 'Thailand': 'PTT',\n",
       " 'Australia': 'Wesfarmers',\n",
       " 'Belgium': 'Anheuser-Busch InBev',\n",
       " 'Norway': 'Statoil',\n",
       " 'Canada': 'Manulife Financial',\n",
       " 'Ireland': 'Johnson Controls International',\n",
       " 'Indonesia': 'Pertamina',\n",
       " 'Denmark': 'Maersk Group',\n",
       " 'Saudi Arabia': 'SABIC',\n",
       " 'Sweden': 'Volvo',\n",
       " 'Finland': 'Nokia',\n",
       " 'Venezuela': 'Mercantil Servicios Financieros',\n",
       " 'Turkey': 'Koc Holding',\n",
       " 'U.A.E': 'Emirates Group',\n",
       " 'Israel': 'Teva Pharmaceutical Industries'}"
      ]
     },
     "execution_count": 187,
     "metadata": {},
     "output_type": "execute_result"
    }
   ],
   "source": [
    "# top revenue company for each country \n",
    "dic = {}\n",
    "countries =  f500[\"country\"].unique()\n",
    "\n",
    "for c in countries:\n",
    "    selected = f500[f500[\"country\"] == c]\n",
    "    sorted_data = selected.sort_values(by = \"revenues\" , ascending = False)\n",
    "    dic[c] = sorted_data.iloc[0 , 0] # to select the first company in the descending oreder \n",
    "    \n",
    "dic"
   ]
  },
  {
   "cell_type": "code",
   "execution_count": 188,
   "metadata": {},
   "outputs": [
    {
     "data": {
      "text/plain": [
       "{'USA': 'Walmart',\n",
       " 'China': 'China National Petroleum',\n",
       " 'Japan': 'Toyota Motor',\n",
       " 'Germany': 'Volkswagen',\n",
       " 'Netherlands': 'EXOR Group',\n",
       " 'Britain': 'Compass Group',\n",
       " 'South Korea': 'Samsung Electronics',\n",
       " 'Switzerland': 'Nestle',\n",
       " 'France': 'Sodexo',\n",
       " 'Taiwan': 'Hon Hai Precision Industry',\n",
       " 'Singapore': 'Flex',\n",
       " 'Italy': 'Poste Italiane',\n",
       " 'Russia': 'Gazprom',\n",
       " 'Spain': 'Banco Santander',\n",
       " 'Brazil': 'JBS',\n",
       " 'Mexico': 'America Movil',\n",
       " 'Luxembourg': 'ArcelorMittal',\n",
       " 'India': 'State Bank of India',\n",
       " 'Malaysia': 'Petronas',\n",
       " 'Thailand': 'PTT',\n",
       " 'Australia': 'Wesfarmers',\n",
       " 'Belgium': 'Anheuser-Busch InBev',\n",
       " 'Norway': 'Statoil',\n",
       " 'Canada': 'George Weston',\n",
       " 'Ireland': 'Accenture',\n",
       " 'Indonesia': 'Pertamina',\n",
       " 'Denmark': 'Maersk Group',\n",
       " 'Saudi Arabia': 'SABIC',\n",
       " 'Sweden': 'H & M Hennes & Mauritz',\n",
       " 'Finland': 'Nokia',\n",
       " 'Venezuela': 'Mercantil Servicios Financieros',\n",
       " 'Turkey': 'Koc Holding',\n",
       " 'U.A.E': 'Emirates Group',\n",
       " 'Israel': 'Teva Pharmaceutical Industries'}"
      ]
     },
     "execution_count": 188,
     "metadata": {},
     "output_type": "execute_result"
    }
   ],
   "source": [
    "# top employer company for each country\n",
    "top_employer = {}\n",
    "for c in countries:\n",
    "    selected_rows = f500[f500[\"country\"] == c]\n",
    "    employer = selected_rows.sort_values(by = \"employees\" , ascending = False).iloc[0].loc[\"company\"]\n",
    "    top_employer[c] = employer\n",
    "    \n",
    "top_employer"
   ]
  },
  {
   "cell_type": "code",
   "execution_count": 189,
   "metadata": {},
   "outputs": [
    {
     "data": {
      "text/plain": [
       "{'USA': 64218.371212121216,\n",
       " 'China': 55397.880733944956,\n",
       " 'Japan': 53164.03921568627,\n",
       " 'Germany': 63915.0,\n",
       " 'Netherlands': 61708.92857142857,\n",
       " 'Britain': 51588.708333333336,\n",
       " 'South Korea': 49725.6,\n",
       " 'Switzerland': 51353.57142857143,\n",
       " 'France': 55231.793103448275,\n",
       " 'Taiwan': 46364.666666666664,\n",
       " 'Singapore': 54454.333333333336,\n",
       " 'Italy': 51899.57142857143,\n",
       " 'Russia': 65247.75,\n",
       " 'Spain': 40600.666666666664,\n",
       " 'Brazil': 52024.57142857143,\n",
       " 'Mexico': 54987.5,\n",
       " 'Luxembourg': 56791.0,\n",
       " 'India': 39993.0,\n",
       " 'Malaysia': 49479.0,\n",
       " 'Thailand': 48719.0,\n",
       " 'Australia': 33688.71428571428,\n",
       " 'Belgium': 45905.0,\n",
       " 'Norway': 45873.0,\n",
       " 'Canada': 31848.0,\n",
       " 'Ireland': 32819.5,\n",
       " 'Indonesia': 36487.0,\n",
       " 'Denmark': 35464.0,\n",
       " 'Saudi Arabia': 35421.0,\n",
       " 'Sweden': 27963.666666666668,\n",
       " 'Finland': 26113.0,\n",
       " 'Venezuela': 24403.0,\n",
       " 'Turkey': 23456.0,\n",
       " 'U.A.E': 22799.0,\n",
       " 'Israel': 21903.0}"
      ]
     },
     "execution_count": 189,
     "metadata": {},
     "output_type": "execute_result"
    }
   ],
   "source": [
    "# the average revenue for each country\n",
    "\n",
    "dic = {}\n",
    "\n",
    "countries = f500[\"country\"].unique()\n",
    "\n",
    "for c in countries:\n",
    "    selected = f500.loc[f500[\"country\"] == c , [\"company\" , \"revenues\"]]\n",
    "    mean = selected[\"revenues\"].mean()\n",
    "    dic[c] = mean\n",
    "    \n",
    "dic"
   ]
  },
  {
   "cell_type": "markdown",
   "metadata": {},
   "source": [
    "## analyse laptops dataset"
   ]
  },
  {
   "cell_type": "code",
   "execution_count": 190,
   "metadata": {},
   "outputs": [
    {
     "data": {
      "text/html": [
       "<div>\n",
       "<style scoped>\n",
       "    .dataframe tbody tr th:only-of-type {\n",
       "        vertical-align: middle;\n",
       "    }\n",
       "\n",
       "    .dataframe tbody tr th {\n",
       "        vertical-align: top;\n",
       "    }\n",
       "\n",
       "    .dataframe thead th {\n",
       "        text-align: right;\n",
       "    }\n",
       "</style>\n",
       "<table border=\"1\" class=\"dataframe\">\n",
       "  <thead>\n",
       "    <tr style=\"text-align: right;\">\n",
       "      <th></th>\n",
       "      <th>Manufacturer</th>\n",
       "      <th>Model Name</th>\n",
       "      <th>Category</th>\n",
       "      <th>Screen Size</th>\n",
       "      <th>Screen</th>\n",
       "      <th>CPU</th>\n",
       "      <th>RAM</th>\n",
       "      <th>Storage</th>\n",
       "      <th>GPU</th>\n",
       "      <th>Operating System</th>\n",
       "      <th>Operating System Version</th>\n",
       "      <th>Weight</th>\n",
       "      <th>Price (Euros)</th>\n",
       "    </tr>\n",
       "  </thead>\n",
       "  <tbody>\n",
       "    <tr>\n",
       "      <th>0</th>\n",
       "      <td>Apple</td>\n",
       "      <td>MacBook Pro</td>\n",
       "      <td>Ultrabook</td>\n",
       "      <td>13.3\"</td>\n",
       "      <td>IPS Panel Retina Display 2560x1600</td>\n",
       "      <td>Intel Core i5 2.3GHz</td>\n",
       "      <td>8GB</td>\n",
       "      <td>128GB SSD</td>\n",
       "      <td>Intel Iris Plus Graphics 640</td>\n",
       "      <td>macOS</td>\n",
       "      <td>NaN</td>\n",
       "      <td>1.37kg</td>\n",
       "      <td>1339,69</td>\n",
       "    </tr>\n",
       "    <tr>\n",
       "      <th>1</th>\n",
       "      <td>Apple</td>\n",
       "      <td>Macbook Air</td>\n",
       "      <td>Ultrabook</td>\n",
       "      <td>13.3\"</td>\n",
       "      <td>1440x900</td>\n",
       "      <td>Intel Core i5 1.8GHz</td>\n",
       "      <td>8GB</td>\n",
       "      <td>128GB Flash Storage</td>\n",
       "      <td>Intel HD Graphics 6000</td>\n",
       "      <td>macOS</td>\n",
       "      <td>NaN</td>\n",
       "      <td>1.34kg</td>\n",
       "      <td>898,94</td>\n",
       "    </tr>\n",
       "    <tr>\n",
       "      <th>2</th>\n",
       "      <td>HP</td>\n",
       "      <td>250 G6</td>\n",
       "      <td>Notebook</td>\n",
       "      <td>15.6\"</td>\n",
       "      <td>Full HD 1920x1080</td>\n",
       "      <td>Intel Core i5 7200U 2.5GHz</td>\n",
       "      <td>8GB</td>\n",
       "      <td>256GB SSD</td>\n",
       "      <td>Intel HD Graphics 620</td>\n",
       "      <td>No OS</td>\n",
       "      <td>NaN</td>\n",
       "      <td>1.86kg</td>\n",
       "      <td>575,00</td>\n",
       "    </tr>\n",
       "    <tr>\n",
       "      <th>3</th>\n",
       "      <td>Apple</td>\n",
       "      <td>MacBook Pro</td>\n",
       "      <td>Ultrabook</td>\n",
       "      <td>15.4\"</td>\n",
       "      <td>IPS Panel Retina Display 2880x1800</td>\n",
       "      <td>Intel Core i7 2.7GHz</td>\n",
       "      <td>16GB</td>\n",
       "      <td>512GB SSD</td>\n",
       "      <td>AMD Radeon Pro 455</td>\n",
       "      <td>macOS</td>\n",
       "      <td>NaN</td>\n",
       "      <td>1.83kg</td>\n",
       "      <td>2537,45</td>\n",
       "    </tr>\n",
       "    <tr>\n",
       "      <th>4</th>\n",
       "      <td>Apple</td>\n",
       "      <td>MacBook Pro</td>\n",
       "      <td>Ultrabook</td>\n",
       "      <td>13.3\"</td>\n",
       "      <td>IPS Panel Retina Display 2560x1600</td>\n",
       "      <td>Intel Core i5 3.1GHz</td>\n",
       "      <td>8GB</td>\n",
       "      <td>256GB SSD</td>\n",
       "      <td>Intel Iris Plus Graphics 650</td>\n",
       "      <td>macOS</td>\n",
       "      <td>NaN</td>\n",
       "      <td>1.37kg</td>\n",
       "      <td>1803,60</td>\n",
       "    </tr>\n",
       "  </tbody>\n",
       "</table>\n",
       "</div>"
      ],
      "text/plain": [
       "  Manufacturer   Model Name   Category Screen Size  \\\n",
       "0        Apple  MacBook Pro  Ultrabook       13.3\"   \n",
       "1        Apple  Macbook Air  Ultrabook       13.3\"   \n",
       "2           HP       250 G6   Notebook       15.6\"   \n",
       "3        Apple  MacBook Pro  Ultrabook       15.4\"   \n",
       "4        Apple  MacBook Pro  Ultrabook       13.3\"   \n",
       "\n",
       "                               Screen                         CPU   RAM  \\\n",
       "0  IPS Panel Retina Display 2560x1600        Intel Core i5 2.3GHz   8GB   \n",
       "1                            1440x900        Intel Core i5 1.8GHz   8GB   \n",
       "2                   Full HD 1920x1080  Intel Core i5 7200U 2.5GHz   8GB   \n",
       "3  IPS Panel Retina Display 2880x1800        Intel Core i7 2.7GHz  16GB   \n",
       "4  IPS Panel Retina Display 2560x1600        Intel Core i5 3.1GHz   8GB   \n",
       "\n",
       "               Storage                           GPU Operating System  \\\n",
       "0            128GB SSD  Intel Iris Plus Graphics 640            macOS   \n",
       "1  128GB Flash Storage        Intel HD Graphics 6000            macOS   \n",
       "2            256GB SSD         Intel HD Graphics 620            No OS   \n",
       "3            512GB SSD            AMD Radeon Pro 455            macOS   \n",
       "4            256GB SSD  Intel Iris Plus Graphics 650            macOS   \n",
       "\n",
       "  Operating System Version  Weight Price (Euros)  \n",
       "0                      NaN  1.37kg       1339,69  \n",
       "1                      NaN  1.34kg        898,94  \n",
       "2                      NaN  1.86kg        575,00  \n",
       "3                      NaN  1.83kg       2537,45  \n",
       "4                      NaN  1.37kg       1803,60  "
      ]
     },
     "execution_count": 190,
     "metadata": {},
     "output_type": "execute_result"
    }
   ],
   "source": [
    "laptops = pd.read_csv(\"laptops.csv\" , encoding = \"Latin-1\" )\n",
    "laptops.head()"
   ]
  },
  {
   "cell_type": "code",
   "execution_count": 191,
   "metadata": {},
   "outputs": [
    {
     "name": "stdout",
     "output_type": "stream",
     "text": [
      "<class 'pandas.core.frame.DataFrame'>\n",
      "RangeIndex: 1303 entries, 0 to 1302\n",
      "Data columns (total 13 columns):\n",
      " #   Column                    Non-Null Count  Dtype \n",
      "---  ------                    --------------  ----- \n",
      " 0   Manufacturer              1303 non-null   object\n",
      " 1   Model Name                1303 non-null   object\n",
      " 2   Category                  1303 non-null   object\n",
      " 3   Screen Size               1303 non-null   object\n",
      " 4   Screen                    1303 non-null   object\n",
      " 5   CPU                       1303 non-null   object\n",
      " 6   RAM                       1303 non-null   object\n",
      " 7    Storage                  1303 non-null   object\n",
      " 8   GPU                       1303 non-null   object\n",
      " 9   Operating System          1303 non-null   object\n",
      " 10  Operating System Version  1133 non-null   object\n",
      " 11  Weight                    1303 non-null   object\n",
      " 12  Price (Euros)             1303 non-null   object\n",
      "dtypes: object(13)\n",
      "memory usage: 132.5+ KB\n"
     ]
    }
   ],
   "source": [
    "laptops.info()"
   ]
  },
  {
   "cell_type": "markdown",
   "metadata": {},
   "source": [
    "- change the column names "
   ]
  },
  {
   "cell_type": "code",
   "execution_count": 192,
   "metadata": {},
   "outputs": [],
   "source": [
    "cols = []\n",
    "\n",
    "for c in laptops.columns:\n",
    "    c = c.strip()\n",
    "    cols.append(c)\n",
    "\n",
    "new_cols = []\n",
    "for c in cols:\n",
    "    c = c.replace(\"(\" , \"\")\n",
    "    c = c.replace(\")\" , \"\")\n",
    "    c = c.lower()\n",
    "    c = c.replace(\" \" , \"_\")\n",
    "    new_cols.append(c)\n",
    "    \n",
    "laptops.columns = new_cols"
   ]
  },
  {
   "cell_type": "code",
   "execution_count": 193,
   "metadata": {},
   "outputs": [
    {
     "data": {
      "text/plain": [
       "Index(['manufacturer', 'model_name', 'category', 'screen_size', 'screen',\n",
       "       'cpu', 'ram', 'storage', 'gpu', 'operating_system',\n",
       "       'operating_system_version', 'weight', 'price_euros'],\n",
       "      dtype='object')"
      ]
     },
     "execution_count": 193,
     "metadata": {},
     "output_type": "execute_result"
    }
   ],
   "source": [
    "laptops.columns"
   ]
  },
  {
   "cell_type": "code",
   "execution_count": 194,
   "metadata": {},
   "outputs": [],
   "source": [
    "# we can directly assign the new names by our own \n",
    "# laptops.colums = [\"manufacturer\" , \"model_name\" , ............]"
   ]
  },
  {
   "cell_type": "markdown",
   "metadata": {},
   "source": [
    "- next we need to know how to convert string columns to numeric data type\n",
    "     1. explore the column\n",
    "     2. remove unwanted values\n",
    "     3. convert to numeric and rename if required"
   ]
  },
  {
   "cell_type": "code",
   "execution_count": 195,
   "metadata": {},
   "outputs": [
    {
     "data": {
      "text/html": [
       "<div>\n",
       "<style scoped>\n",
       "    .dataframe tbody tr th:only-of-type {\n",
       "        vertical-align: middle;\n",
       "    }\n",
       "\n",
       "    .dataframe tbody tr th {\n",
       "        vertical-align: top;\n",
       "    }\n",
       "\n",
       "    .dataframe thead th {\n",
       "        text-align: right;\n",
       "    }\n",
       "</style>\n",
       "<table border=\"1\" class=\"dataframe\">\n",
       "  <thead>\n",
       "    <tr style=\"text-align: right;\">\n",
       "      <th></th>\n",
       "      <th>category</th>\n",
       "      <th>screen_size</th>\n",
       "      <th>screen</th>\n",
       "    </tr>\n",
       "  </thead>\n",
       "  <tbody>\n",
       "    <tr>\n",
       "      <th>0</th>\n",
       "      <td>Ultrabook</td>\n",
       "      <td>13.3\"</td>\n",
       "      <td>IPS Panel Retina Display 2560x1600</td>\n",
       "    </tr>\n",
       "    <tr>\n",
       "      <th>1</th>\n",
       "      <td>Ultrabook</td>\n",
       "      <td>13.3\"</td>\n",
       "      <td>1440x900</td>\n",
       "    </tr>\n",
       "    <tr>\n",
       "      <th>2</th>\n",
       "      <td>Notebook</td>\n",
       "      <td>15.6\"</td>\n",
       "      <td>Full HD 1920x1080</td>\n",
       "    </tr>\n",
       "    <tr>\n",
       "      <th>3</th>\n",
       "      <td>Ultrabook</td>\n",
       "      <td>15.4\"</td>\n",
       "      <td>IPS Panel Retina Display 2880x1800</td>\n",
       "    </tr>\n",
       "    <tr>\n",
       "      <th>4</th>\n",
       "      <td>Ultrabook</td>\n",
       "      <td>13.3\"</td>\n",
       "      <td>IPS Panel Retina Display 2560x1600</td>\n",
       "    </tr>\n",
       "  </tbody>\n",
       "</table>\n",
       "</div>"
      ],
      "text/plain": [
       "    category screen_size                              screen\n",
       "0  Ultrabook       13.3\"  IPS Panel Retina Display 2560x1600\n",
       "1  Ultrabook       13.3\"                            1440x900\n",
       "2   Notebook       15.6\"                   Full HD 1920x1080\n",
       "3  Ultrabook       15.4\"  IPS Panel Retina Display 2880x1800\n",
       "4  Ultrabook       13.3\"  IPS Panel Retina Display 2560x1600"
      ]
     },
     "execution_count": 195,
     "metadata": {},
     "output_type": "execute_result"
    }
   ],
   "source": [
    "# start with the screen_size column in the array\n",
    "laptops.iloc[:5, 2:5]"
   ]
  },
  {
   "cell_type": "markdown",
   "metadata": {},
   "source": [
    "- the screen size column needs to be cleaned first"
   ]
  },
  {
   "cell_type": "code",
   "execution_count": 196,
   "metadata": {},
   "outputs": [
    {
     "data": {
      "text/plain": [
       "array(['13.3\"', '15.6\"', '15.4\"', '14.0\"', '12.0\"', '11.6\"', '17.3\"',\n",
       "       '10.1\"', '13.5\"', '12.5\"', '13.0\"', '18.4\"', '13.9\"', '12.3\"',\n",
       "       '17.0\"', '15.0\"', '14.1\"', '11.3\"'], dtype=object)"
      ]
     },
     "execution_count": 196,
     "metadata": {},
     "output_type": "execute_result"
    }
   ],
   "source": [
    "laptops.screen_size.unique()"
   ]
  },
  {
   "cell_type": "markdown",
   "metadata": {},
   "source": [
    "we can observe from the unique values in the column above that we need only to  remove the (\") character  and then convert to numeric"
   ]
  },
  {
   "cell_type": "code",
   "execution_count": 197,
   "metadata": {},
   "outputs": [],
   "source": [
    "# remove the bad characters\n",
    "laptops[\"screen_size\"] = laptops[\"screen_size\"].str.replace('\"' , \"\")"
   ]
  },
  {
   "cell_type": "code",
   "execution_count": 198,
   "metadata": {},
   "outputs": [],
   "source": [
    "# convert the column to float datatype\n",
    "laptops[\"screen_size\"] = laptops[\"screen_size\"].astype(float)\n"
   ]
  },
  {
   "cell_type": "code",
   "execution_count": 199,
   "metadata": {},
   "outputs": [
    {
     "data": {
      "text/plain": [
       "dtype('float64')"
      ]
     },
     "execution_count": 199,
     "metadata": {},
     "output_type": "execute_result"
    }
   ],
   "source": [
    "laptops.screen_size.dtype"
   ]
  },
  {
   "cell_type": "code",
   "execution_count": 200,
   "metadata": {},
   "outputs": [
    {
     "data": {
      "text/plain": [
       "array(['8GB', '16GB', '4GB', '2GB', '12GB', '6GB', '32GB', '24GB', '64GB'],\n",
       "      dtype=object)"
      ]
     },
     "execution_count": 200,
     "metadata": {},
     "output_type": "execute_result"
    }
   ],
   "source": [
    "# explore the ram column\n",
    "laptops[\"ram\"].unique()"
   ]
  },
  {
   "cell_type": "code",
   "execution_count": 201,
   "metadata": {},
   "outputs": [
    {
     "data": {
      "text/plain": [
       "array([ 8., 16.,  4.,  2., 12.,  6., 32., 24., 64.])"
      ]
     },
     "execution_count": 201,
     "metadata": {},
     "output_type": "execute_result"
    }
   ],
   "source": [
    "# remove the string from the column and convert ot to float data\n",
    "laptops[\"ram\"] = laptops[\"ram\"].str.replace(\"GB\" , \"\")\n",
    "laptops[\"ram\"] = laptops[\"ram\"].astype(float)\n",
    "laptops[\"ram\"].unique()"
   ]
  },
  {
   "cell_type": "code",
   "execution_count": 202,
   "metadata": {},
   "outputs": [
    {
     "data": {
      "text/plain": [
       "array([ 8, 16,  4,  2, 12,  6, 32, 24, 64])"
      ]
     },
     "execution_count": 202,
     "metadata": {},
     "output_type": "execute_result"
    }
   ],
   "source": [
    "laptops[\"ram\"] = laptops.ram.astype(int)\n",
    "laptops.ram.unique()"
   ]
  },
  {
   "cell_type": "code",
   "execution_count": 203,
   "metadata": {},
   "outputs": [],
   "source": [
    "# rename the ram column good idea\n",
    "laptops.rename(columns = {\"ram\" : \"ram_gb\"}  , inplace = True)"
   ]
  },
  {
   "cell_type": "code",
   "execution_count": 204,
   "metadata": {},
   "outputs": [
    {
     "data": {
      "text/plain": [
       "Index(['manufacturer', 'model_name', 'category', 'screen_size', 'screen',\n",
       "       'cpu', 'ram_gb', 'storage', 'gpu', 'operating_system',\n",
       "       'operating_system_version', 'weight', 'price_euros'],\n",
       "      dtype='object')"
      ]
     },
     "execution_count": 204,
     "metadata": {},
     "output_type": "execute_result"
    }
   ],
   "source": [
    "laptops.columns"
   ]
  },
  {
   "cell_type": "code",
   "execution_count": 205,
   "metadata": {},
   "outputs": [
    {
     "data": {
      "text/plain": [
       "0    Intel Iris Plus Graphics 640\n",
       "1          Intel HD Graphics 6000\n",
       "2           Intel HD Graphics 620\n",
       "3              AMD Radeon Pro 455\n",
       "4    Intel Iris Plus Graphics 650\n",
       "Name: gpu, dtype: object"
      ]
     },
     "execution_count": 205,
     "metadata": {},
     "output_type": "execute_result"
    }
   ],
   "source": [
    "# extrac values from string \n",
    "laptops.gpu.head()"
   ]
  },
  {
   "cell_type": "code",
   "execution_count": 206,
   "metadata": {},
   "outputs": [
    {
     "data": {
      "text/plain": [
       "array(['Intel', 'AMD', 'Nvidia', 'ARM'], dtype=object)"
      ]
     },
     "execution_count": 206,
     "metadata": {},
     "output_type": "execute_result"
    }
   ],
   "source": [
    "manu = laptops[\"gpu\"].str.split().str[0]\n",
    "manu.unique()"
   ]
  },
  {
   "cell_type": "code",
   "execution_count": 207,
   "metadata": {},
   "outputs": [
    {
     "data": {
      "text/plain": [
       "0           Plus\n",
       "1       Graphics\n",
       "2       Graphics\n",
       "3            Pro\n",
       "4           Plus\n",
       "          ...   \n",
       "1298    Graphics\n",
       "1299    Graphics\n",
       "1300    Graphics\n",
       "1301          R5\n",
       "1302    Graphics\n",
       "Name: gpu, Length: 1303, dtype: object"
      ]
     },
     "execution_count": 207,
     "metadata": {},
     "output_type": "execute_result"
    }
   ],
   "source": [
    "# extracting the second word from a string \n",
    "laptops[\"gpu\"].str.split().str[2]"
   ]
  },
  {
   "cell_type": "code",
   "execution_count": 208,
   "metadata": {},
   "outputs": [
    {
     "data": {
      "text/plain": [
       "0    Intel\n",
       "1    Intel\n",
       "2    Intel\n",
       "3    Intel\n",
       "4    Intel\n",
       "Name: cpu, dtype: object"
      ]
     },
     "execution_count": 208,
     "metadata": {},
     "output_type": "execute_result"
    }
   ],
   "source": [
    "cpu_manu = laptops[\"cpu\"].str.split().str[0]\n",
    "cpu_manu.head()"
   ]
  },
  {
   "cell_type": "code",
   "execution_count": 209,
   "metadata": {},
   "outputs": [
    {
     "data": {
      "text/plain": [
       "False    1302\n",
       "True        1\n",
       "Name: cpu, dtype: int64"
      ]
     },
     "execution_count": 209,
     "metadata": {},
     "output_type": "execute_result"
    }
   ],
   "source": [
    "# how many intel laptops are there \n",
    "cpu_manu.isin([\"Samsung\"]).value_counts()"
   ]
  },
  {
   "cell_type": "code",
   "execution_count": 210,
   "metadata": {},
   "outputs": [
    {
     "data": {
      "text/plain": [
       "False    1215\n",
       "True       88\n",
       "Name: cpu, dtype: int64"
      ]
     },
     "execution_count": 210,
     "metadata": {},
     "output_type": "execute_result"
    }
   ],
   "source": [
    "(laptops.cpu.str.split().str[1] == \"Celeron\").value_counts()"
   ]
  },
  {
   "cell_type": "code",
   "execution_count": 211,
   "metadata": {},
   "outputs": [
    {
     "data": {
      "text/plain": [
       "array(['macOS', 'No OS', 'Windows', 'Mac OS', 'Linux', 'Android',\n",
       "       'Chrome OS'], dtype=object)"
      ]
     },
     "execution_count": 211,
     "metadata": {},
     "output_type": "execute_result"
    }
   ],
   "source": [
    "# see some incorrect values\n",
    "laptops.operating_system.unique()"
   ]
  },
  {
   "cell_type": "code",
   "execution_count": 212,
   "metadata": {},
   "outputs": [],
   "source": [
    "column = laptops.operating_system\n",
    "column_2 = column.copy()"
   ]
  },
  {
   "cell_type": "code",
   "execution_count": 213,
   "metadata": {},
   "outputs": [
    {
     "data": {
      "text/plain": [
       "array(['macOS', 'No OS', 'Windows', 'Mac OS', 'Linux', 'Android',\n",
       "       'Chrome OS'], dtype=object)"
      ]
     },
     "execution_count": 213,
     "metadata": {},
     "output_type": "execute_result"
    }
   ],
   "source": [
    "dct = {\n",
    "    \"macos\" : \"macos\" , \n",
    "    \"No os\" : \"Android\",\n",
    "    \"Windows\" : \"Windows\"\n",
    "}\n",
    "\n",
    "column.unique()"
   ]
  },
  {
   "cell_type": "code",
   "execution_count": 214,
   "metadata": {},
   "outputs": [],
   "source": [
    "a = column.map(dic)"
   ]
  },
  {
   "cell_type": "code",
   "execution_count": 215,
   "metadata": {},
   "outputs": [],
   "source": [
    "dct = {\n",
    "    \"macOS\" : \"macos\" , \n",
    "    \"No os\" : \"Android\",\n",
    "    \"Windows\" : \"Windows\",\n",
    "    \"Mac OS\" : \"macos\",\n",
    "    \"Linux\" : \"Linux\",\n",
    "    \"Android\" : \"Android\",\n",
    "    \"Chrome OS\" : \"Chrome OS\"\n",
    "}"
   ]
  },
  {
   "cell_type": "code",
   "execution_count": 216,
   "metadata": {},
   "outputs": [],
   "source": [
    "b = column.map(dct)"
   ]
  },
  {
   "cell_type": "code",
   "execution_count": 217,
   "metadata": {},
   "outputs": [
    {
     "data": {
      "text/plain": [
       "array(['macos', nan, 'Windows', 'Linux', 'Android', 'Chrome OS'],\n",
       "      dtype=object)"
      ]
     },
     "execution_count": 217,
     "metadata": {},
     "output_type": "execute_result"
    }
   ],
   "source": [
    "b.unique()"
   ]
  },
  {
   "cell_type": "code",
   "execution_count": 218,
   "metadata": {},
   "outputs": [],
   "source": [
    "dct = {\n",
    "    \"macOS\" : \"macos\" , \n",
    "   \n",
    "}\n",
    "\n"
   ]
  },
  {
   "cell_type": "code",
   "execution_count": 219,
   "metadata": {},
   "outputs": [],
   "source": [
    "b = column.map(dct)"
   ]
  },
  {
   "cell_type": "code",
   "execution_count": 220,
   "metadata": {},
   "outputs": [],
   "source": [
    "x = laptops.ram_gb"
   ]
  },
  {
   "cell_type": "code",
   "execution_count": 221,
   "metadata": {},
   "outputs": [],
   "source": [
    "dct = {\n",
    "    8 : 8,\n",
    "    16:16,\n",
    "    4:4,\n",
    "    2:2,\n",
    "    12:12,\n",
    "    6:6,\n",
    "    32:32,\n",
    "    24:24,\n",
    "    64:56\n",
    "}"
   ]
  },
  {
   "cell_type": "code",
   "execution_count": 222,
   "metadata": {},
   "outputs": [],
   "source": [
    "x = x.map(dct)"
   ]
  },
  {
   "cell_type": "code",
   "execution_count": 223,
   "metadata": {},
   "outputs": [
    {
     "data": {
      "text/plain": [
       "array([ 8, 16,  4,  2, 12,  6, 32, 24, 56], dtype=int64)"
      ]
     },
     "execution_count": 223,
     "metadata": {},
     "output_type": "execute_result"
    }
   ],
   "source": [
    "x.unique()"
   ]
  },
  {
   "cell_type": "code",
   "execution_count": 224,
   "metadata": {},
   "outputs": [
    {
     "data": {
      "text/plain": [
       "Windows      1125\n",
       "No OS          66\n",
       "Linux          62\n",
       "Chrome OS      27\n",
       "macOS          13\n",
       "Mac OS          8\n",
       "Android         2\n",
       "Name: operating_system, dtype: int64"
      ]
     },
     "execution_count": 224,
     "metadata": {},
     "output_type": "execute_result"
    }
   ],
   "source": [
    "laptops.operating_system.value_counts()"
   ]
  },
  {
   "cell_type": "code",
   "execution_count": 225,
   "metadata": {},
   "outputs": [],
   "source": [
    "dct = {\n",
    "    \"macOS\" : \"macos\" , \n",
    "    \"No os\" : \"Android\",\n",
    "    \"Windows\" : \"Windows\",\n",
    "    \"Mac OS\" : \"macos\",\n",
    "    \"Linux\" : \"Linux\",\n",
    "    \"Android\" : \"Android\",\n",
    "    \"Chrome OS\" : \"Chrome OS\"\n",
    "}"
   ]
  },
  {
   "cell_type": "code",
   "execution_count": 226,
   "metadata": {},
   "outputs": [],
   "source": [
    "laptops.operating_system = laptops.operating_system.map(dct)"
   ]
  },
  {
   "cell_type": "code",
   "execution_count": 227,
   "metadata": {},
   "outputs": [
    {
     "data": {
      "text/plain": [
       "Windows      1125\n",
       "NaN            66\n",
       "Linux          62\n",
       "Chrome OS      27\n",
       "macos          21\n",
       "Android         2\n",
       "Name: operating_system, dtype: int64"
      ]
     },
     "execution_count": 227,
     "metadata": {},
     "output_type": "execute_result"
    }
   ],
   "source": [
    "laptops.operating_system.value_counts(dropna = False)"
   ]
  },
  {
   "cell_type": "code",
   "execution_count": 228,
   "metadata": {},
   "outputs": [
    {
     "data": {
      "text/plain": [
       "array(['Intel', 'AMD', 'Nvidia', 'ARM'], dtype=object)"
      ]
     },
     "execution_count": 228,
     "metadata": {},
     "output_type": "execute_result"
    }
   ],
   "source": [
    "gpu_company = laptops.gpu.str.split().str[0]\n",
    "gpu_company.unique()"
   ]
  },
  {
   "cell_type": "code",
   "execution_count": 229,
   "metadata": {},
   "outputs": [
    {
     "data": {
      "text/plain": [
       "Intel     722\n",
       "Nvidia    400\n",
       "AMD       180\n",
       "ARM         1\n",
       "Name: gpu, dtype: int64"
      ]
     },
     "execution_count": 229,
     "metadata": {},
     "output_type": "execute_result"
    }
   ],
   "source": [
    "gpu_company.value_counts(dropna = False)"
   ]
  },
  {
   "cell_type": "code",
   "execution_count": 230,
   "metadata": {},
   "outputs": [
    {
     "data": {
      "text/plain": [
       "array(['Apple', 'HP', 'Acer', 'Asus', 'Dell', 'Lenovo', 'Chuwi', 'MSI',\n",
       "       'Microsoft', 'Toshiba', 'Huawei', 'Xiaomi', 'Vero', 'Razer',\n",
       "       'Mediacom', 'Samsung', 'Google', 'Fujitsu', 'LG'], dtype=object)"
      ]
     },
     "execution_count": 230,
     "metadata": {},
     "output_type": "execute_result"
    }
   ],
   "source": [
    "laptops.manufacturer.unique()"
   ]
  },
  {
   "cell_type": "code",
   "execution_count": 231,
   "metadata": {},
   "outputs": [
    {
     "data": {
      "text/plain": [
       "False    1282\n",
       "True       21\n",
       "Name: manufacturer, dtype: int64"
      ]
     },
     "execution_count": 231,
     "metadata": {},
     "output_type": "execute_result"
    }
   ],
   "source": [
    "# how many apple laptop in data \n",
    "(laptops.manufacturer == \"Apple\").value_counts()"
   ]
  },
  {
   "cell_type": "code",
   "execution_count": 232,
   "metadata": {},
   "outputs": [
    {
     "data": {
      "text/plain": [
       "False    1249\n",
       "True       54\n",
       "Name: manufacturer, dtype: int64"
      ]
     },
     "execution_count": 232,
     "metadata": {},
     "output_type": "execute_result"
    }
   ],
   "source": [
    "# how many MSI laptops in the dataset\n",
    "(laptops.manufacturer == \"MSI\").value_counts()"
   ]
  },
  {
   "cell_type": "code",
   "execution_count": 233,
   "metadata": {},
   "outputs": [
    {
     "data": {
      "text/plain": [
       "False    1255\n",
       "True       48\n",
       "Name: manufacturer, dtype: int64"
      ]
     },
     "execution_count": 233,
     "metadata": {},
     "output_type": "execute_result"
    }
   ],
   "source": [
    "# using isin() method to get the same answer\n",
    "laptops.manufacturer.isin([\"Toshiba\"]).value_counts()"
   ]
  },
  {
   "cell_type": "code",
   "execution_count": 234,
   "metadata": {},
   "outputs": [
    {
     "data": {
      "text/plain": [
       "array(['Apple', 'HP', 'Acer', 'Asus', 'Dell', 'Lenovo', 'Chuwi', 'MSI',\n",
       "       'Microsoft', 'Toshiba', 'Huawei', 'Xiaomi', 'Vero', 'Razer',\n",
       "       'Mediacom', 'Samsung', 'Google', 'Fujitsu', 'LG'], dtype=object)"
      ]
     },
     "execution_count": 234,
     "metadata": {},
     "output_type": "execute_result"
    }
   ],
   "source": [
    "laptops.manufacturer.unique()"
   ]
  },
  {
   "cell_type": "code",
   "execution_count": 235,
   "metadata": {},
   "outputs": [
    {
     "data": {
      "text/plain": [
       "MSI    54\n",
       "Name: manufacturer, dtype: int64"
      ]
     },
     "execution_count": 235,
     "metadata": {},
     "output_type": "execute_result"
    }
   ],
   "source": [
    "msi = laptops.loc[laptops.manufacturer == \"MSI\"]\n",
    "msi.manufacturer.value_counts(dropna = False)"
   ]
  },
  {
   "cell_type": "code",
   "execution_count": 236,
   "metadata": {},
   "outputs": [
    {
     "data": {
      "text/plain": [
       "(1303, 13)"
      ]
     },
     "execution_count": 236,
     "metadata": {},
     "output_type": "execute_result"
    }
   ],
   "source": [
    "laptops.shape"
   ]
  },
  {
   "cell_type": "code",
   "execution_count": 237,
   "metadata": {},
   "outputs": [
    {
     "data": {
      "text/plain": [
       "(1133, 13)"
      ]
     },
     "execution_count": 237,
     "metadata": {},
     "output_type": "execute_result"
    }
   ],
   "source": [
    "laptops.dropna(axis = 0, how= \"any\" , inplace = True)\n",
    "laptops.shape"
   ]
  },
  {
   "cell_type": "code",
   "execution_count": 238,
   "metadata": {},
   "outputs": [
    {
     "data": {
      "text/plain": [
       "manufacturer                                   Acer\n",
       "model_name                                 Aspire 3\n",
       "category                                   Notebook\n",
       "screen_size                                    15.6\n",
       "screen                                     1366x768\n",
       "cpu                         AMD A9-Series 9420 3GHz\n",
       "ram_gb                                            4\n",
       "storage                                   500GB HDD\n",
       "gpu                                   AMD Radeon R5\n",
       "operating_system                            Windows\n",
       "operating_system_version                         10\n",
       "weight                                        2.1kg\n",
       "price_euros                                  400,00\n",
       "Name: 5, dtype: object"
      ]
     },
     "execution_count": 238,
     "metadata": {},
     "output_type": "execute_result"
    }
   ],
   "source": [
    "laptops.iloc[0]"
   ]
  },
  {
   "cell_type": "markdown",
   "metadata": {},
   "source": [
    "### practise some pandas from the course"
   ]
  },
  {
   "cell_type": "code",
   "execution_count": 253,
   "metadata": {},
   "outputs": [
    {
     "data": {
      "text/html": [
       "<div>\n",
       "<style scoped>\n",
       "    .dataframe tbody tr th:only-of-type {\n",
       "        vertical-align: middle;\n",
       "    }\n",
       "\n",
       "    .dataframe tbody tr th {\n",
       "        vertical-align: top;\n",
       "    }\n",
       "\n",
       "    .dataframe thead th {\n",
       "        text-align: right;\n",
       "    }\n",
       "</style>\n",
       "<table border=\"1\" class=\"dataframe\">\n",
       "  <thead>\n",
       "    <tr style=\"text-align: right;\">\n",
       "      <th></th>\n",
       "      <th>A</th>\n",
       "      <th>B</th>\n",
       "      <th>C</th>\n",
       "      <th>D</th>\n",
       "      <th>F</th>\n",
       "    </tr>\n",
       "  </thead>\n",
       "  <tbody>\n",
       "    <tr>\n",
       "      <th>0</th>\n",
       "      <td>1.0</td>\n",
       "      <td>2</td>\n",
       "      <td>10.0</td>\n",
       "      <td>NaN</td>\n",
       "      <td>NaN</td>\n",
       "    </tr>\n",
       "    <tr>\n",
       "      <th>1</th>\n",
       "      <td>2.0</td>\n",
       "      <td>4</td>\n",
       "      <td>11.0</td>\n",
       "      <td>12.0</td>\n",
       "      <td>NaN</td>\n",
       "    </tr>\n",
       "    <tr>\n",
       "      <th>2</th>\n",
       "      <td>3.0</td>\n",
       "      <td>15</td>\n",
       "      <td>13.0</td>\n",
       "      <td>1.0</td>\n",
       "      <td>15.0</td>\n",
       "    </tr>\n",
       "    <tr>\n",
       "      <th>3</th>\n",
       "      <td>NaN</td>\n",
       "      <td>20</td>\n",
       "      <td>NaN</td>\n",
       "      <td>3.0</td>\n",
       "      <td>10.0</td>\n",
       "    </tr>\n",
       "  </tbody>\n",
       "</table>\n",
       "</div>"
      ],
      "text/plain": [
       "     A   B     C     D     F\n",
       "0  1.0   2  10.0   NaN   NaN\n",
       "1  2.0   4  11.0  12.0   NaN\n",
       "2  3.0  15  13.0   1.0  15.0\n",
       "3  NaN  20   NaN   3.0  10.0"
      ]
     },
     "execution_count": 253,
     "metadata": {},
     "output_type": "execute_result"
    }
   ],
   "source": [
    "# missing data \n",
    "df = pd.DataFrame({\"A\" : [1,2,3,np.nan], \n",
    "                   \"B\" : [2,4,15,20], \n",
    "                  \"C\" : [10,11,13, np.nan],\n",
    "                  \"D\" : [np.nan, 12,1,3], \n",
    "                  \"F\" : [np.nan, np.nan,15,10]})\n",
    "\n",
    "df"
   ]
  },
  {
   "cell_type": "code",
   "execution_count": 254,
   "metadata": {},
   "outputs": [
    {
     "data": {
      "text/plain": [
       "(4, 5)"
      ]
     },
     "execution_count": 254,
     "metadata": {},
     "output_type": "execute_result"
    }
   ],
   "source": [
    "df.shape"
   ]
  },
  {
   "cell_type": "markdown",
   "metadata": {},
   "source": [
    "- for missing values in pandas we have df.dropna() method to drop rows or columns containing  ull values\n",
    "- secondly we  have fillna( method to fill the missing values with specific value"
   ]
  },
  {
   "cell_type": "code",
   "execution_count": 255,
   "metadata": {},
   "outputs": [
    {
     "data": {
      "text/html": [
       "<div>\n",
       "<style scoped>\n",
       "    .dataframe tbody tr th:only-of-type {\n",
       "        vertical-align: middle;\n",
       "    }\n",
       "\n",
       "    .dataframe tbody tr th {\n",
       "        vertical-align: top;\n",
       "    }\n",
       "\n",
       "    .dataframe thead th {\n",
       "        text-align: right;\n",
       "    }\n",
       "</style>\n",
       "<table border=\"1\" class=\"dataframe\">\n",
       "  <thead>\n",
       "    <tr style=\"text-align: right;\">\n",
       "      <th></th>\n",
       "      <th>A</th>\n",
       "      <th>B</th>\n",
       "      <th>C</th>\n",
       "      <th>D</th>\n",
       "      <th>F</th>\n",
       "    </tr>\n",
       "  </thead>\n",
       "  <tbody>\n",
       "    <tr>\n",
       "      <th>2</th>\n",
       "      <td>3.0</td>\n",
       "      <td>15</td>\n",
       "      <td>13.0</td>\n",
       "      <td>1.0</td>\n",
       "      <td>15.0</td>\n",
       "    </tr>\n",
       "  </tbody>\n",
       "</table>\n",
       "</div>"
      ],
      "text/plain": [
       "     A   B     C    D     F\n",
       "2  3.0  15  13.0  1.0  15.0"
      ]
     },
     "execution_count": 255,
     "metadata": {},
     "output_type": "execute_result"
    }
   ],
   "source": [
    "df.dropna()"
   ]
  },
  {
   "cell_type": "code",
   "execution_count": 256,
   "metadata": {},
   "outputs": [
    {
     "data": {
      "text/html": [
       "<div>\n",
       "<style scoped>\n",
       "    .dataframe tbody tr th:only-of-type {\n",
       "        vertical-align: middle;\n",
       "    }\n",
       "\n",
       "    .dataframe tbody tr th {\n",
       "        vertical-align: top;\n",
       "    }\n",
       "\n",
       "    .dataframe thead th {\n",
       "        text-align: right;\n",
       "    }\n",
       "</style>\n",
       "<table border=\"1\" class=\"dataframe\">\n",
       "  <thead>\n",
       "    <tr style=\"text-align: right;\">\n",
       "      <th></th>\n",
       "      <th>B</th>\n",
       "    </tr>\n",
       "  </thead>\n",
       "  <tbody>\n",
       "    <tr>\n",
       "      <th>0</th>\n",
       "      <td>2</td>\n",
       "    </tr>\n",
       "    <tr>\n",
       "      <th>1</th>\n",
       "      <td>4</td>\n",
       "    </tr>\n",
       "    <tr>\n",
       "      <th>2</th>\n",
       "      <td>15</td>\n",
       "    </tr>\n",
       "    <tr>\n",
       "      <th>3</th>\n",
       "      <td>20</td>\n",
       "    </tr>\n",
       "  </tbody>\n",
       "</table>\n",
       "</div>"
      ],
      "text/plain": [
       "    B\n",
       "0   2\n",
       "1   4\n",
       "2  15\n",
       "3  20"
      ]
     },
     "execution_count": 256,
     "metadata": {},
     "output_type": "execute_result"
    }
   ],
   "source": [
    "df.dropna(axis= 1)"
   ]
  },
  {
   "cell_type": "code",
   "execution_count": 257,
   "metadata": {},
   "outputs": [
    {
     "data": {
      "text/html": [
       "<div>\n",
       "<style scoped>\n",
       "    .dataframe tbody tr th:only-of-type {\n",
       "        vertical-align: middle;\n",
       "    }\n",
       "\n",
       "    .dataframe tbody tr th {\n",
       "        vertical-align: top;\n",
       "    }\n",
       "\n",
       "    .dataframe thead th {\n",
       "        text-align: right;\n",
       "    }\n",
       "</style>\n",
       "<table border=\"1\" class=\"dataframe\">\n",
       "  <thead>\n",
       "    <tr style=\"text-align: right;\">\n",
       "      <th></th>\n",
       "      <th>A</th>\n",
       "      <th>B</th>\n",
       "      <th>C</th>\n",
       "      <th>D</th>\n",
       "      <th>F</th>\n",
       "    </tr>\n",
       "  </thead>\n",
       "  <tbody>\n",
       "    <tr>\n",
       "      <th>0</th>\n",
       "      <td>1.0</td>\n",
       "      <td>2</td>\n",
       "      <td>10.0</td>\n",
       "      <td>NaN</td>\n",
       "      <td>NaN</td>\n",
       "    </tr>\n",
       "    <tr>\n",
       "      <th>1</th>\n",
       "      <td>2.0</td>\n",
       "      <td>4</td>\n",
       "      <td>11.0</td>\n",
       "      <td>12.0</td>\n",
       "      <td>NaN</td>\n",
       "    </tr>\n",
       "    <tr>\n",
       "      <th>2</th>\n",
       "      <td>3.0</td>\n",
       "      <td>15</td>\n",
       "      <td>13.0</td>\n",
       "      <td>1.0</td>\n",
       "      <td>15.0</td>\n",
       "    </tr>\n",
       "    <tr>\n",
       "      <th>3</th>\n",
       "      <td>NaN</td>\n",
       "      <td>20</td>\n",
       "      <td>NaN</td>\n",
       "      <td>3.0</td>\n",
       "      <td>10.0</td>\n",
       "    </tr>\n",
       "  </tbody>\n",
       "</table>\n",
       "</div>"
      ],
      "text/plain": [
       "     A   B     C     D     F\n",
       "0  1.0   2  10.0   NaN   NaN\n",
       "1  2.0   4  11.0  12.0   NaN\n",
       "2  3.0  15  13.0   1.0  15.0\n",
       "3  NaN  20   NaN   3.0  10.0"
      ]
     },
     "execution_count": 257,
     "metadata": {},
     "output_type": "execute_result"
    }
   ],
   "source": [
    "df"
   ]
  },
  {
   "cell_type": "code",
   "execution_count": 258,
   "metadata": {},
   "outputs": [
    {
     "data": {
      "text/html": [
       "<div>\n",
       "<style scoped>\n",
       "    .dataframe tbody tr th:only-of-type {\n",
       "        vertical-align: middle;\n",
       "    }\n",
       "\n",
       "    .dataframe tbody tr th {\n",
       "        vertical-align: top;\n",
       "    }\n",
       "\n",
       "    .dataframe thead th {\n",
       "        text-align: right;\n",
       "    }\n",
       "</style>\n",
       "<table border=\"1\" class=\"dataframe\">\n",
       "  <thead>\n",
       "    <tr style=\"text-align: right;\">\n",
       "      <th></th>\n",
       "      <th>A</th>\n",
       "      <th>B</th>\n",
       "      <th>C</th>\n",
       "      <th>D</th>\n",
       "      <th>F</th>\n",
       "    </tr>\n",
       "  </thead>\n",
       "  <tbody>\n",
       "    <tr>\n",
       "      <th>0</th>\n",
       "      <td>1.0</td>\n",
       "      <td>2</td>\n",
       "      <td>10.0</td>\n",
       "      <td>NaN</td>\n",
       "      <td>NaN</td>\n",
       "    </tr>\n",
       "    <tr>\n",
       "      <th>1</th>\n",
       "      <td>2.0</td>\n",
       "      <td>4</td>\n",
       "      <td>11.0</td>\n",
       "      <td>12.0</td>\n",
       "      <td>NaN</td>\n",
       "    </tr>\n",
       "    <tr>\n",
       "      <th>2</th>\n",
       "      <td>3.0</td>\n",
       "      <td>15</td>\n",
       "      <td>13.0</td>\n",
       "      <td>1.0</td>\n",
       "      <td>15.0</td>\n",
       "    </tr>\n",
       "    <tr>\n",
       "      <th>3</th>\n",
       "      <td>NaN</td>\n",
       "      <td>20</td>\n",
       "      <td>NaN</td>\n",
       "      <td>3.0</td>\n",
       "      <td>10.0</td>\n",
       "    </tr>\n",
       "  </tbody>\n",
       "</table>\n",
       "</div>"
      ],
      "text/plain": [
       "     A   B     C     D     F\n",
       "0  1.0   2  10.0   NaN   NaN\n",
       "1  2.0   4  11.0  12.0   NaN\n",
       "2  3.0  15  13.0   1.0  15.0\n",
       "3  NaN  20   NaN   3.0  10.0"
      ]
     },
     "execution_count": 258,
     "metadata": {},
     "output_type": "execute_result"
    }
   ],
   "source": [
    "df.dropna(thresh = 1)"
   ]
  },
  {
   "cell_type": "code",
   "execution_count": 259,
   "metadata": {},
   "outputs": [
    {
     "data": {
      "text/html": [
       "<div>\n",
       "<style scoped>\n",
       "    .dataframe tbody tr th:only-of-type {\n",
       "        vertical-align: middle;\n",
       "    }\n",
       "\n",
       "    .dataframe tbody tr th {\n",
       "        vertical-align: top;\n",
       "    }\n",
       "\n",
       "    .dataframe thead th {\n",
       "        text-align: right;\n",
       "    }\n",
       "</style>\n",
       "<table border=\"1\" class=\"dataframe\">\n",
       "  <thead>\n",
       "    <tr style=\"text-align: right;\">\n",
       "      <th></th>\n",
       "      <th>A</th>\n",
       "      <th>B</th>\n",
       "      <th>C</th>\n",
       "      <th>D</th>\n",
       "      <th>F</th>\n",
       "    </tr>\n",
       "  </thead>\n",
       "  <tbody>\n",
       "    <tr>\n",
       "      <th>0</th>\n",
       "      <td>1.0</td>\n",
       "      <td>2</td>\n",
       "      <td>10.0</td>\n",
       "      <td>NaN</td>\n",
       "      <td>NaN</td>\n",
       "    </tr>\n",
       "    <tr>\n",
       "      <th>1</th>\n",
       "      <td>2.0</td>\n",
       "      <td>4</td>\n",
       "      <td>11.0</td>\n",
       "      <td>12.0</td>\n",
       "      <td>NaN</td>\n",
       "    </tr>\n",
       "    <tr>\n",
       "      <th>2</th>\n",
       "      <td>3.0</td>\n",
       "      <td>15</td>\n",
       "      <td>13.0</td>\n",
       "      <td>1.0</td>\n",
       "      <td>15.0</td>\n",
       "    </tr>\n",
       "    <tr>\n",
       "      <th>3</th>\n",
       "      <td>NaN</td>\n",
       "      <td>20</td>\n",
       "      <td>NaN</td>\n",
       "      <td>3.0</td>\n",
       "      <td>10.0</td>\n",
       "    </tr>\n",
       "  </tbody>\n",
       "</table>\n",
       "</div>"
      ],
      "text/plain": [
       "     A   B     C     D     F\n",
       "0  1.0   2  10.0   NaN   NaN\n",
       "1  2.0   4  11.0  12.0   NaN\n",
       "2  3.0  15  13.0   1.0  15.0\n",
       "3  NaN  20   NaN   3.0  10.0"
      ]
     },
     "execution_count": 259,
     "metadata": {},
     "output_type": "execute_result"
    }
   ],
   "source": [
    "df.dropna(thresh = 2)"
   ]
  },
  {
   "cell_type": "code",
   "execution_count": 269,
   "metadata": {},
   "outputs": [
    {
     "data": {
      "text/html": [
       "<div>\n",
       "<style scoped>\n",
       "    .dataframe tbody tr th:only-of-type {\n",
       "        vertical-align: middle;\n",
       "    }\n",
       "\n",
       "    .dataframe tbody tr th {\n",
       "        vertical-align: top;\n",
       "    }\n",
       "\n",
       "    .dataframe thead th {\n",
       "        text-align: right;\n",
       "    }\n",
       "</style>\n",
       "<table border=\"1\" class=\"dataframe\">\n",
       "  <thead>\n",
       "    <tr style=\"text-align: right;\">\n",
       "      <th></th>\n",
       "      <th>A</th>\n",
       "      <th>B</th>\n",
       "      <th>C</th>\n",
       "      <th>D</th>\n",
       "      <th>F</th>\n",
       "    </tr>\n",
       "  </thead>\n",
       "  <tbody>\n",
       "    <tr>\n",
       "      <th>0</th>\n",
       "      <td>1.0</td>\n",
       "      <td>2</td>\n",
       "      <td>10.0</td>\n",
       "      <td>Fill value</td>\n",
       "      <td>Fill value</td>\n",
       "    </tr>\n",
       "    <tr>\n",
       "      <th>1</th>\n",
       "      <td>2.0</td>\n",
       "      <td>4</td>\n",
       "      <td>11.0</td>\n",
       "      <td>12.0</td>\n",
       "      <td>Fill value</td>\n",
       "    </tr>\n",
       "    <tr>\n",
       "      <th>2</th>\n",
       "      <td>3.0</td>\n",
       "      <td>15</td>\n",
       "      <td>13.0</td>\n",
       "      <td>1.0</td>\n",
       "      <td>15.0</td>\n",
       "    </tr>\n",
       "    <tr>\n",
       "      <th>3</th>\n",
       "      <td>Fill value</td>\n",
       "      <td>20</td>\n",
       "      <td>Fill value</td>\n",
       "      <td>3.0</td>\n",
       "      <td>10.0</td>\n",
       "    </tr>\n",
       "  </tbody>\n",
       "</table>\n",
       "</div>"
      ],
      "text/plain": [
       "            A   B           C           D           F\n",
       "0         1.0   2        10.0  Fill value  Fill value\n",
       "1         2.0   4        11.0        12.0  Fill value\n",
       "2         3.0  15        13.0         1.0        15.0\n",
       "3  Fill value  20  Fill value         3.0        10.0"
      ]
     },
     "execution_count": 269,
     "metadata": {},
     "output_type": "execute_result"
    }
   ],
   "source": [
    "df.fillna(value = \"Fill value\")"
   ]
  },
  {
   "cell_type": "markdown",
   "metadata": {},
   "source": [
    "- group by "
   ]
  },
  {
   "cell_type": "code",
   "execution_count": 270,
   "metadata": {},
   "outputs": [],
   "source": [
    "data = {'Company':['GOOG','GOOG','MSFT','MSFT','FB','FB'],\n",
    "       'Person':['Sam','Charlie','Amy','Vanessa','Carl','Sarah'],\n",
    "       'Sales':[200,120,340,124,243,350]}"
   ]
  },
  {
   "cell_type": "code",
   "execution_count": 273,
   "metadata": {},
   "outputs": [
    {
     "data": {
      "text/html": [
       "<div>\n",
       "<style scoped>\n",
       "    .dataframe tbody tr th:only-of-type {\n",
       "        vertical-align: middle;\n",
       "    }\n",
       "\n",
       "    .dataframe tbody tr th {\n",
       "        vertical-align: top;\n",
       "    }\n",
       "\n",
       "    .dataframe thead th {\n",
       "        text-align: right;\n",
       "    }\n",
       "</style>\n",
       "<table border=\"1\" class=\"dataframe\">\n",
       "  <thead>\n",
       "    <tr style=\"text-align: right;\">\n",
       "      <th></th>\n",
       "      <th>Company</th>\n",
       "      <th>Person</th>\n",
       "      <th>Sales</th>\n",
       "    </tr>\n",
       "  </thead>\n",
       "  <tbody>\n",
       "    <tr>\n",
       "      <th>0</th>\n",
       "      <td>GOOG</td>\n",
       "      <td>Sam</td>\n",
       "      <td>200</td>\n",
       "    </tr>\n",
       "    <tr>\n",
       "      <th>1</th>\n",
       "      <td>GOOG</td>\n",
       "      <td>Charlie</td>\n",
       "      <td>120</td>\n",
       "    </tr>\n",
       "    <tr>\n",
       "      <th>2</th>\n",
       "      <td>MSFT</td>\n",
       "      <td>Amy</td>\n",
       "      <td>340</td>\n",
       "    </tr>\n",
       "    <tr>\n",
       "      <th>3</th>\n",
       "      <td>MSFT</td>\n",
       "      <td>Vanessa</td>\n",
       "      <td>124</td>\n",
       "    </tr>\n",
       "    <tr>\n",
       "      <th>4</th>\n",
       "      <td>FB</td>\n",
       "      <td>Carl</td>\n",
       "      <td>243</td>\n",
       "    </tr>\n",
       "    <tr>\n",
       "      <th>5</th>\n",
       "      <td>FB</td>\n",
       "      <td>Sarah</td>\n",
       "      <td>350</td>\n",
       "    </tr>\n",
       "  </tbody>\n",
       "</table>\n",
       "</div>"
      ],
      "text/plain": [
       "  Company   Person  Sales\n",
       "0    GOOG      Sam    200\n",
       "1    GOOG  Charlie    120\n",
       "2    MSFT      Amy    340\n",
       "3    MSFT  Vanessa    124\n",
       "4      FB     Carl    243\n",
       "5      FB    Sarah    350"
      ]
     },
     "execution_count": 273,
     "metadata": {},
     "output_type": "execute_result"
    }
   ],
   "source": [
    "df = pd.DataFrame(data)\n",
    "df"
   ]
  },
  {
   "cell_type": "code",
   "execution_count": 279,
   "metadata": {},
   "outputs": [],
   "source": []
  },
  {
   "cell_type": "code",
   "execution_count": 280,
   "metadata": {},
   "outputs": [
    {
     "data": {
      "text/plain": [
       "229.5"
      ]
     },
     "execution_count": 280,
     "metadata": {},
     "output_type": "execute_result"
    }
   ],
   "source": [
    "(200+120+340+124+243+350) / 6"
   ]
  },
  {
   "cell_type": "code",
   "execution_count": 284,
   "metadata": {},
   "outputs": [],
   "source": [
    "group = df.groupby(\"Company\")"
   ]
  },
  {
   "cell_type": "code",
   "execution_count": 288,
   "metadata": {},
   "outputs": [],
   "source": [
    "com_group = laptops.groupby(\"manufacturer\")"
   ]
  },
  {
   "cell_type": "code",
   "execution_count": 289,
   "metadata": {},
   "outputs": [
    {
     "data": {
      "text/html": [
       "<div>\n",
       "<style scoped>\n",
       "    .dataframe tbody tr th:only-of-type {\n",
       "        vertical-align: middle;\n",
       "    }\n",
       "\n",
       "    .dataframe tbody tr th {\n",
       "        vertical-align: top;\n",
       "    }\n",
       "\n",
       "    .dataframe thead th {\n",
       "        text-align: right;\n",
       "    }\n",
       "</style>\n",
       "<table border=\"1\" class=\"dataframe\">\n",
       "  <thead>\n",
       "    <tr style=\"text-align: right;\">\n",
       "      <th></th>\n",
       "      <th>screen_size</th>\n",
       "      <th>ram_gb</th>\n",
       "    </tr>\n",
       "    <tr>\n",
       "      <th>manufacturer</th>\n",
       "      <th></th>\n",
       "      <th></th>\n",
       "    </tr>\n",
       "  </thead>\n",
       "  <tbody>\n",
       "    <tr>\n",
       "      <th>Acer</th>\n",
       "      <td>15.198684</td>\n",
       "      <td>6.447368</td>\n",
       "    </tr>\n",
       "    <tr>\n",
       "      <th>Apple</th>\n",
       "      <td>12.700000</td>\n",
       "      <td>8.500000</td>\n",
       "    </tr>\n",
       "    <tr>\n",
       "      <th>Asus</th>\n",
       "      <td>15.468085</td>\n",
       "      <td>9.985816</td>\n",
       "    </tr>\n",
       "    <tr>\n",
       "      <th>Chuwi</th>\n",
       "      <td>14.500000</td>\n",
       "      <td>4.666667</td>\n",
       "    </tr>\n",
       "    <tr>\n",
       "      <th>Dell</th>\n",
       "      <td>15.086923</td>\n",
       "      <td>9.500000</td>\n",
       "    </tr>\n",
       "    <tr>\n",
       "      <th>Fujitsu</th>\n",
       "      <td>15.600000</td>\n",
       "      <td>6.666667</td>\n",
       "    </tr>\n",
       "    <tr>\n",
       "      <th>HP</th>\n",
       "      <td>14.957752</td>\n",
       "      <td>7.062016</td>\n",
       "    </tr>\n",
       "    <tr>\n",
       "      <th>Huawei</th>\n",
       "      <td>13.000000</td>\n",
       "      <td>8.000000</td>\n",
       "    </tr>\n",
       "    <tr>\n",
       "      <th>LG</th>\n",
       "      <td>15.066667</td>\n",
       "      <td>10.666667</td>\n",
       "    </tr>\n",
       "    <tr>\n",
       "      <th>Lenovo</th>\n",
       "      <td>14.773878</td>\n",
       "      <td>8.424490</td>\n",
       "    </tr>\n",
       "    <tr>\n",
       "      <th>MSI</th>\n",
       "      <td>16.442593</td>\n",
       "      <td>13.037037</td>\n",
       "    </tr>\n",
       "    <tr>\n",
       "      <th>Mediacom</th>\n",
       "      <td>13.457143</td>\n",
       "      <td>3.714286</td>\n",
       "    </tr>\n",
       "    <tr>\n",
       "      <th>Microsoft</th>\n",
       "      <td>13.500000</td>\n",
       "      <td>8.000000</td>\n",
       "    </tr>\n",
       "    <tr>\n",
       "      <th>Razer</th>\n",
       "      <td>14.514286</td>\n",
       "      <td>19.428571</td>\n",
       "    </tr>\n",
       "    <tr>\n",
       "      <th>Samsung</th>\n",
       "      <td>14.357143</td>\n",
       "      <td>12.571429</td>\n",
       "    </tr>\n",
       "    <tr>\n",
       "      <th>Toshiba</th>\n",
       "      <td>14.354167</td>\n",
       "      <td>8.666667</td>\n",
       "    </tr>\n",
       "    <tr>\n",
       "      <th>Vero</th>\n",
       "      <td>13.825000</td>\n",
       "      <td>3.500000</td>\n",
       "    </tr>\n",
       "    <tr>\n",
       "      <th>Xiaomi</th>\n",
       "      <td>13.300000</td>\n",
       "      <td>8.000000</td>\n",
       "    </tr>\n",
       "  </tbody>\n",
       "</table>\n",
       "</div>"
      ],
      "text/plain": [
       "              screen_size     ram_gb\n",
       "manufacturer                        \n",
       "Acer            15.198684   6.447368\n",
       "Apple           12.700000   8.500000\n",
       "Asus            15.468085   9.985816\n",
       "Chuwi           14.500000   4.666667\n",
       "Dell            15.086923   9.500000\n",
       "Fujitsu         15.600000   6.666667\n",
       "HP              14.957752   7.062016\n",
       "Huawei          13.000000   8.000000\n",
       "LG              15.066667  10.666667\n",
       "Lenovo          14.773878   8.424490\n",
       "MSI             16.442593  13.037037\n",
       "Mediacom        13.457143   3.714286\n",
       "Microsoft       13.500000   8.000000\n",
       "Razer           14.514286  19.428571\n",
       "Samsung         14.357143  12.571429\n",
       "Toshiba         14.354167   8.666667\n",
       "Vero            13.825000   3.500000\n",
       "Xiaomi          13.300000   8.000000"
      ]
     },
     "execution_count": 289,
     "metadata": {},
     "output_type": "execute_result"
    }
   ],
   "source": [
    "com_group.mean()"
   ]
  },
  {
   "cell_type": "code",
   "execution_count": 291,
   "metadata": {},
   "outputs": [
    {
     "data": {
      "text/plain": [
       "{'Acer': 15.198684210526318,\n",
       " 'Apple': 12.7,\n",
       " 'Asus': 15.468085106382947,\n",
       " 'Dell': 15.086923076923055,\n",
       " 'Lenovo': 14.77387755102039,\n",
       " 'HP': 14.957751937984478,\n",
       " 'Chuwi': 14.5,\n",
       " 'MSI': 16.442592592592593,\n",
       " 'Microsoft': 13.5,\n",
       " 'Toshiba': 14.354166666666666,\n",
       " 'Huawei': 13.0,\n",
       " 'Vero': 13.825,\n",
       " 'Razer': 14.514285714285714,\n",
       " 'Mediacom': 13.457142857142857,\n",
       " 'Fujitsu': 15.6,\n",
       " 'Samsung': 14.357142857142858,\n",
       " 'LG': 15.066666666666668,\n",
       " 'Xiaomi': 13.3}"
      ]
     },
     "execution_count": 291,
     "metadata": {},
     "output_type": "execute_result"
    }
   ],
   "source": [
    "# this shows the beauty of groupby() method in aggregating the data \n",
    "dct = {}\n",
    "\n",
    "for comp in laptops.manufacturer.unique():\n",
    "    selected_rows = laptops.loc[laptops.manufacturer == comp]\n",
    "    mean = selected_rows[\"screen_size\"].mean()\n",
    "    dct[comp] = mean\n",
    "    \n",
    "dct"
   ]
  },
  {
   "cell_type": "code",
   "execution_count": 292,
   "metadata": {},
   "outputs": [],
   "source": [
    "ram_agg = laptops.groupby(by = \"ram_gb\")"
   ]
  },
  {
   "cell_type": "code",
   "execution_count": 298,
   "metadata": {},
   "outputs": [
    {
     "data": {
      "text/html": [
       "<div>\n",
       "<style scoped>\n",
       "    .dataframe tbody tr th:only-of-type {\n",
       "        vertical-align: middle;\n",
       "    }\n",
       "\n",
       "    .dataframe tbody tr th {\n",
       "        vertical-align: top;\n",
       "    }\n",
       "\n",
       "    .dataframe thead tr th {\n",
       "        text-align: left;\n",
       "    }\n",
       "\n",
       "    .dataframe thead tr:last-of-type th {\n",
       "        text-align: right;\n",
       "    }\n",
       "</style>\n",
       "<table border=\"1\" class=\"dataframe\">\n",
       "  <thead>\n",
       "    <tr>\n",
       "      <th></th>\n",
       "      <th colspan=\"8\" halign=\"left\">screen_size</th>\n",
       "    </tr>\n",
       "    <tr>\n",
       "      <th></th>\n",
       "      <th>count</th>\n",
       "      <th>mean</th>\n",
       "      <th>std</th>\n",
       "      <th>min</th>\n",
       "      <th>25%</th>\n",
       "      <th>50%</th>\n",
       "      <th>75%</th>\n",
       "      <th>max</th>\n",
       "    </tr>\n",
       "    <tr>\n",
       "      <th>ram_gb</th>\n",
       "      <th></th>\n",
       "      <th></th>\n",
       "      <th></th>\n",
       "      <th></th>\n",
       "      <th></th>\n",
       "      <th></th>\n",
       "      <th></th>\n",
       "      <th></th>\n",
       "    </tr>\n",
       "  </thead>\n",
       "  <tbody>\n",
       "    <tr>\n",
       "      <th>2</th>\n",
       "      <td>19.0</td>\n",
       "      <td>13.368421</td>\n",
       "      <td>1.498537</td>\n",
       "      <td>11.6</td>\n",
       "      <td>11.6</td>\n",
       "      <td>14.0</td>\n",
       "      <td>14.000</td>\n",
       "      <td>15.6</td>\n",
       "    </tr>\n",
       "    <tr>\n",
       "      <th>4</th>\n",
       "      <td>290.0</td>\n",
       "      <td>14.876897</td>\n",
       "      <td>1.334471</td>\n",
       "      <td>10.1</td>\n",
       "      <td>14.0</td>\n",
       "      <td>15.6</td>\n",
       "      <td>15.600</td>\n",
       "      <td>17.3</td>\n",
       "    </tr>\n",
       "    <tr>\n",
       "      <th>6</th>\n",
       "      <td>41.0</td>\n",
       "      <td>15.714634</td>\n",
       "      <td>0.980194</td>\n",
       "      <td>12.3</td>\n",
       "      <td>15.6</td>\n",
       "      <td>15.6</td>\n",
       "      <td>15.600</td>\n",
       "      <td>17.3</td>\n",
       "    </tr>\n",
       "    <tr>\n",
       "      <th>8</th>\n",
       "      <td>547.0</td>\n",
       "      <td>14.825046</td>\n",
       "      <td>1.333540</td>\n",
       "      <td>11.3</td>\n",
       "      <td>13.5</td>\n",
       "      <td>15.6</td>\n",
       "      <td>15.600</td>\n",
       "      <td>17.3</td>\n",
       "    </tr>\n",
       "    <tr>\n",
       "      <th>12</th>\n",
       "      <td>24.0</td>\n",
       "      <td>15.729167</td>\n",
       "      <td>1.140358</td>\n",
       "      <td>13.3</td>\n",
       "      <td>15.6</td>\n",
       "      <td>15.6</td>\n",
       "      <td>16.025</td>\n",
       "      <td>17.3</td>\n",
       "    </tr>\n",
       "    <tr>\n",
       "      <th>16</th>\n",
       "      <td>191.0</td>\n",
       "      <td>15.559686</td>\n",
       "      <td>1.459631</td>\n",
       "      <td>12.5</td>\n",
       "      <td>14.0</td>\n",
       "      <td>15.6</td>\n",
       "      <td>17.300</td>\n",
       "      <td>17.3</td>\n",
       "    </tr>\n",
       "    <tr>\n",
       "      <th>24</th>\n",
       "      <td>3.0</td>\n",
       "      <td>15.633333</td>\n",
       "      <td>1.650253</td>\n",
       "      <td>14.0</td>\n",
       "      <td>14.8</td>\n",
       "      <td>15.6</td>\n",
       "      <td>16.450</td>\n",
       "      <td>17.3</td>\n",
       "    </tr>\n",
       "    <tr>\n",
       "      <th>32</th>\n",
       "      <td>17.0</td>\n",
       "      <td>16.929412</td>\n",
       "      <td>1.136202</td>\n",
       "      <td>13.3</td>\n",
       "      <td>17.3</td>\n",
       "      <td>17.3</td>\n",
       "      <td>17.300</td>\n",
       "      <td>18.4</td>\n",
       "    </tr>\n",
       "    <tr>\n",
       "      <th>64</th>\n",
       "      <td>1.0</td>\n",
       "      <td>17.300000</td>\n",
       "      <td>NaN</td>\n",
       "      <td>17.3</td>\n",
       "      <td>17.3</td>\n",
       "      <td>17.3</td>\n",
       "      <td>17.300</td>\n",
       "      <td>17.3</td>\n",
       "    </tr>\n",
       "  </tbody>\n",
       "</table>\n",
       "</div>"
      ],
      "text/plain": [
       "       screen_size                                                     \n",
       "             count       mean       std   min   25%   50%     75%   max\n",
       "ram_gb                                                                 \n",
       "2             19.0  13.368421  1.498537  11.6  11.6  14.0  14.000  15.6\n",
       "4            290.0  14.876897  1.334471  10.1  14.0  15.6  15.600  17.3\n",
       "6             41.0  15.714634  0.980194  12.3  15.6  15.6  15.600  17.3\n",
       "8            547.0  14.825046  1.333540  11.3  13.5  15.6  15.600  17.3\n",
       "12            24.0  15.729167  1.140358  13.3  15.6  15.6  16.025  17.3\n",
       "16           191.0  15.559686  1.459631  12.5  14.0  15.6  17.300  17.3\n",
       "24             3.0  15.633333  1.650253  14.0  14.8  15.6  16.450  17.3\n",
       "32            17.0  16.929412  1.136202  13.3  17.3  17.3  17.300  18.4\n",
       "64             1.0  17.300000       NaN  17.3  17.3  17.3  17.300  17.3"
      ]
     },
     "execution_count": 298,
     "metadata": {},
     "output_type": "execute_result"
    }
   ],
   "source": [
    "laptops.groupby(\"ram_gb\").describe()"
   ]
  },
  {
   "cell_type": "markdown",
   "metadata": {},
   "source": [
    "- we are using groupby() method in aggregation (mean, std, ....)\n"
   ]
  },
  {
   "cell_type": "code",
   "execution_count": 303,
   "metadata": {},
   "outputs": [
    {
     "data": {
      "text/html": [
       "<div>\n",
       "<style scoped>\n",
       "    .dataframe tbody tr th:only-of-type {\n",
       "        vertical-align: middle;\n",
       "    }\n",
       "\n",
       "    .dataframe tbody tr th {\n",
       "        vertical-align: top;\n",
       "    }\n",
       "\n",
       "    .dataframe thead tr th {\n",
       "        text-align: left;\n",
       "    }\n",
       "\n",
       "    .dataframe thead tr:last-of-type th {\n",
       "        text-align: right;\n",
       "    }\n",
       "</style>\n",
       "<table border=\"1\" class=\"dataframe\">\n",
       "  <thead>\n",
       "    <tr>\n",
       "      <th></th>\n",
       "      <th colspan=\"8\" halign=\"left\">screen_size</th>\n",
       "      <th colspan=\"8\" halign=\"left\">ram_gb</th>\n",
       "    </tr>\n",
       "    <tr>\n",
       "      <th></th>\n",
       "      <th>count</th>\n",
       "      <th>mean</th>\n",
       "      <th>std</th>\n",
       "      <th>min</th>\n",
       "      <th>25%</th>\n",
       "      <th>50%</th>\n",
       "      <th>75%</th>\n",
       "      <th>max</th>\n",
       "      <th>count</th>\n",
       "      <th>mean</th>\n",
       "      <th>std</th>\n",
       "      <th>min</th>\n",
       "      <th>25%</th>\n",
       "      <th>50%</th>\n",
       "      <th>75%</th>\n",
       "      <th>max</th>\n",
       "    </tr>\n",
       "    <tr>\n",
       "      <th>manufacturer</th>\n",
       "      <th></th>\n",
       "      <th></th>\n",
       "      <th></th>\n",
       "      <th></th>\n",
       "      <th></th>\n",
       "      <th></th>\n",
       "      <th></th>\n",
       "      <th></th>\n",
       "      <th></th>\n",
       "      <th></th>\n",
       "      <th></th>\n",
       "      <th></th>\n",
       "      <th></th>\n",
       "      <th></th>\n",
       "      <th></th>\n",
       "      <th></th>\n",
       "    </tr>\n",
       "  </thead>\n",
       "  <tbody>\n",
       "    <tr>\n",
       "      <th>Acer</th>\n",
       "      <td>76.0</td>\n",
       "      <td>15.198684</td>\n",
       "      <td>1.342187</td>\n",
       "      <td>11.6</td>\n",
       "      <td>14.000</td>\n",
       "      <td>15.6</td>\n",
       "      <td>15.60</td>\n",
       "      <td>17.3</td>\n",
       "      <td>76.0</td>\n",
       "      <td>6.447368</td>\n",
       "      <td>3.176559</td>\n",
       "      <td>4.0</td>\n",
       "      <td>4.0</td>\n",
       "      <td>4.0</td>\n",
       "      <td>8.0</td>\n",
       "      <td>16.0</td>\n",
       "    </tr>\n",
       "    <tr>\n",
       "      <th>Apple</th>\n",
       "      <td>8.0</td>\n",
       "      <td>12.700000</td>\n",
       "      <td>1.263781</td>\n",
       "      <td>11.6</td>\n",
       "      <td>12.000</td>\n",
       "      <td>12.0</td>\n",
       "      <td>13.30</td>\n",
       "      <td>15.4</td>\n",
       "      <td>8.0</td>\n",
       "      <td>8.500000</td>\n",
       "      <td>3.338092</td>\n",
       "      <td>4.0</td>\n",
       "      <td>8.0</td>\n",
       "      <td>8.0</td>\n",
       "      <td>8.0</td>\n",
       "      <td>16.0</td>\n",
       "    </tr>\n",
       "    <tr>\n",
       "      <th>Asus</th>\n",
       "      <td>141.0</td>\n",
       "      <td>15.468085</td>\n",
       "      <td>1.510739</td>\n",
       "      <td>11.6</td>\n",
       "      <td>14.000</td>\n",
       "      <td>15.6</td>\n",
       "      <td>17.30</td>\n",
       "      <td>17.3</td>\n",
       "      <td>141.0</td>\n",
       "      <td>9.985816</td>\n",
       "      <td>7.450777</td>\n",
       "      <td>2.0</td>\n",
       "      <td>4.0</td>\n",
       "      <td>8.0</td>\n",
       "      <td>16.0</td>\n",
       "      <td>64.0</td>\n",
       "    </tr>\n",
       "    <tr>\n",
       "      <th>Chuwi</th>\n",
       "      <td>3.0</td>\n",
       "      <td>14.500000</td>\n",
       "      <td>1.905256</td>\n",
       "      <td>12.3</td>\n",
       "      <td>13.950</td>\n",
       "      <td>15.6</td>\n",
       "      <td>15.60</td>\n",
       "      <td>15.6</td>\n",
       "      <td>3.0</td>\n",
       "      <td>4.666667</td>\n",
       "      <td>1.154701</td>\n",
       "      <td>4.0</td>\n",
       "      <td>4.0</td>\n",
       "      <td>4.0</td>\n",
       "      <td>5.0</td>\n",
       "      <td>6.0</td>\n",
       "    </tr>\n",
       "    <tr>\n",
       "      <th>Dell</th>\n",
       "      <td>260.0</td>\n",
       "      <td>15.086923</td>\n",
       "      <td>1.282968</td>\n",
       "      <td>11.6</td>\n",
       "      <td>14.000</td>\n",
       "      <td>15.6</td>\n",
       "      <td>15.60</td>\n",
       "      <td>17.3</td>\n",
       "      <td>260.0</td>\n",
       "      <td>9.500000</td>\n",
       "      <td>5.463462</td>\n",
       "      <td>2.0</td>\n",
       "      <td>8.0</td>\n",
       "      <td>8.0</td>\n",
       "      <td>8.0</td>\n",
       "      <td>32.0</td>\n",
       "    </tr>\n",
       "    <tr>\n",
       "      <th>Fujitsu</th>\n",
       "      <td>3.0</td>\n",
       "      <td>15.600000</td>\n",
       "      <td>0.000000</td>\n",
       "      <td>15.6</td>\n",
       "      <td>15.600</td>\n",
       "      <td>15.6</td>\n",
       "      <td>15.60</td>\n",
       "      <td>15.6</td>\n",
       "      <td>3.0</td>\n",
       "      <td>6.666667</td>\n",
       "      <td>2.309401</td>\n",
       "      <td>4.0</td>\n",
       "      <td>6.0</td>\n",
       "      <td>8.0</td>\n",
       "      <td>8.0</td>\n",
       "      <td>8.0</td>\n",
       "    </tr>\n",
       "    <tr>\n",
       "      <th>HP</th>\n",
       "      <td>258.0</td>\n",
       "      <td>14.957752</td>\n",
       "      <td>1.440425</td>\n",
       "      <td>11.6</td>\n",
       "      <td>14.000</td>\n",
       "      <td>15.6</td>\n",
       "      <td>15.60</td>\n",
       "      <td>17.3</td>\n",
       "      <td>258.0</td>\n",
       "      <td>7.062016</td>\n",
       "      <td>2.905119</td>\n",
       "      <td>2.0</td>\n",
       "      <td>4.0</td>\n",
       "      <td>8.0</td>\n",
       "      <td>8.0</td>\n",
       "      <td>16.0</td>\n",
       "    </tr>\n",
       "    <tr>\n",
       "      <th>Huawei</th>\n",
       "      <td>2.0</td>\n",
       "      <td>13.000000</td>\n",
       "      <td>0.000000</td>\n",
       "      <td>13.0</td>\n",
       "      <td>13.000</td>\n",
       "      <td>13.0</td>\n",
       "      <td>13.00</td>\n",
       "      <td>13.0</td>\n",
       "      <td>2.0</td>\n",
       "      <td>8.000000</td>\n",
       "      <td>0.000000</td>\n",
       "      <td>8.0</td>\n",
       "      <td>8.0</td>\n",
       "      <td>8.0</td>\n",
       "      <td>8.0</td>\n",
       "      <td>8.0</td>\n",
       "    </tr>\n",
       "    <tr>\n",
       "      <th>LG</th>\n",
       "      <td>3.0</td>\n",
       "      <td>15.066667</td>\n",
       "      <td>0.923760</td>\n",
       "      <td>14.0</td>\n",
       "      <td>14.800</td>\n",
       "      <td>15.6</td>\n",
       "      <td>15.60</td>\n",
       "      <td>15.6</td>\n",
       "      <td>3.0</td>\n",
       "      <td>10.666667</td>\n",
       "      <td>4.618802</td>\n",
       "      <td>8.0</td>\n",
       "      <td>8.0</td>\n",
       "      <td>8.0</td>\n",
       "      <td>12.0</td>\n",
       "      <td>16.0</td>\n",
       "    </tr>\n",
       "    <tr>\n",
       "      <th>Lenovo</th>\n",
       "      <td>245.0</td>\n",
       "      <td>14.773878</td>\n",
       "      <td>1.293098</td>\n",
       "      <td>10.1</td>\n",
       "      <td>14.000</td>\n",
       "      <td>15.6</td>\n",
       "      <td>15.60</td>\n",
       "      <td>17.3</td>\n",
       "      <td>245.0</td>\n",
       "      <td>8.424490</td>\n",
       "      <td>4.843389</td>\n",
       "      <td>2.0</td>\n",
       "      <td>4.0</td>\n",
       "      <td>8.0</td>\n",
       "      <td>8.0</td>\n",
       "      <td>32.0</td>\n",
       "    </tr>\n",
       "    <tr>\n",
       "      <th>MSI</th>\n",
       "      <td>54.0</td>\n",
       "      <td>16.442593</td>\n",
       "      <td>0.996712</td>\n",
       "      <td>14.0</td>\n",
       "      <td>15.600</td>\n",
       "      <td>17.3</td>\n",
       "      <td>17.30</td>\n",
       "      <td>18.4</td>\n",
       "      <td>54.0</td>\n",
       "      <td>13.037037</td>\n",
       "      <td>4.738294</td>\n",
       "      <td>8.0</td>\n",
       "      <td>8.0</td>\n",
       "      <td>16.0</td>\n",
       "      <td>16.0</td>\n",
       "      <td>32.0</td>\n",
       "    </tr>\n",
       "    <tr>\n",
       "      <th>Mediacom</th>\n",
       "      <td>7.0</td>\n",
       "      <td>13.457143</td>\n",
       "      <td>0.882906</td>\n",
       "      <td>11.6</td>\n",
       "      <td>13.300</td>\n",
       "      <td>14.0</td>\n",
       "      <td>14.00</td>\n",
       "      <td>14.0</td>\n",
       "      <td>7.0</td>\n",
       "      <td>3.714286</td>\n",
       "      <td>0.755929</td>\n",
       "      <td>2.0</td>\n",
       "      <td>4.0</td>\n",
       "      <td>4.0</td>\n",
       "      <td>4.0</td>\n",
       "      <td>4.0</td>\n",
       "    </tr>\n",
       "    <tr>\n",
       "      <th>Microsoft</th>\n",
       "      <td>6.0</td>\n",
       "      <td>13.500000</td>\n",
       "      <td>0.000000</td>\n",
       "      <td>13.5</td>\n",
       "      <td>13.500</td>\n",
       "      <td>13.5</td>\n",
       "      <td>13.50</td>\n",
       "      <td>13.5</td>\n",
       "      <td>6.0</td>\n",
       "      <td>8.000000</td>\n",
       "      <td>4.381780</td>\n",
       "      <td>4.0</td>\n",
       "      <td>5.0</td>\n",
       "      <td>8.0</td>\n",
       "      <td>8.0</td>\n",
       "      <td>16.0</td>\n",
       "    </tr>\n",
       "    <tr>\n",
       "      <th>Razer</th>\n",
       "      <td>7.0</td>\n",
       "      <td>14.514286</td>\n",
       "      <td>2.017778</td>\n",
       "      <td>12.5</td>\n",
       "      <td>13.250</td>\n",
       "      <td>14.0</td>\n",
       "      <td>15.65</td>\n",
       "      <td>17.3</td>\n",
       "      <td>7.0</td>\n",
       "      <td>19.428571</td>\n",
       "      <td>9.071147</td>\n",
       "      <td>8.0</td>\n",
       "      <td>16.0</td>\n",
       "      <td>16.0</td>\n",
       "      <td>24.0</td>\n",
       "      <td>32.0</td>\n",
       "    </tr>\n",
       "    <tr>\n",
       "      <th>Samsung</th>\n",
       "      <td>7.0</td>\n",
       "      <td>14.357143</td>\n",
       "      <td>1.011364</td>\n",
       "      <td>13.3</td>\n",
       "      <td>13.300</td>\n",
       "      <td>15.0</td>\n",
       "      <td>15.00</td>\n",
       "      <td>15.6</td>\n",
       "      <td>7.0</td>\n",
       "      <td>12.571429</td>\n",
       "      <td>4.276180</td>\n",
       "      <td>8.0</td>\n",
       "      <td>8.0</td>\n",
       "      <td>16.0</td>\n",
       "      <td>16.0</td>\n",
       "      <td>16.0</td>\n",
       "    </tr>\n",
       "    <tr>\n",
       "      <th>Toshiba</th>\n",
       "      <td>48.0</td>\n",
       "      <td>14.354167</td>\n",
       "      <td>1.063907</td>\n",
       "      <td>12.5</td>\n",
       "      <td>13.300</td>\n",
       "      <td>14.0</td>\n",
       "      <td>15.60</td>\n",
       "      <td>15.6</td>\n",
       "      <td>48.0</td>\n",
       "      <td>8.666667</td>\n",
       "      <td>5.240324</td>\n",
       "      <td>4.0</td>\n",
       "      <td>4.0</td>\n",
       "      <td>8.0</td>\n",
       "      <td>8.0</td>\n",
       "      <td>32.0</td>\n",
       "    </tr>\n",
       "    <tr>\n",
       "      <th>Vero</th>\n",
       "      <td>4.0</td>\n",
       "      <td>13.825000</td>\n",
       "      <td>0.350000</td>\n",
       "      <td>13.3</td>\n",
       "      <td>13.825</td>\n",
       "      <td>14.0</td>\n",
       "      <td>14.00</td>\n",
       "      <td>14.0</td>\n",
       "      <td>4.0</td>\n",
       "      <td>3.500000</td>\n",
       "      <td>1.000000</td>\n",
       "      <td>2.0</td>\n",
       "      <td>3.5</td>\n",
       "      <td>4.0</td>\n",
       "      <td>4.0</td>\n",
       "      <td>4.0</td>\n",
       "    </tr>\n",
       "    <tr>\n",
       "      <th>Xiaomi</th>\n",
       "      <td>1.0</td>\n",
       "      <td>13.300000</td>\n",
       "      <td>NaN</td>\n",
       "      <td>13.3</td>\n",
       "      <td>13.300</td>\n",
       "      <td>13.3</td>\n",
       "      <td>13.30</td>\n",
       "      <td>13.3</td>\n",
       "      <td>1.0</td>\n",
       "      <td>8.000000</td>\n",
       "      <td>NaN</td>\n",
       "      <td>8.0</td>\n",
       "      <td>8.0</td>\n",
       "      <td>8.0</td>\n",
       "      <td>8.0</td>\n",
       "      <td>8.0</td>\n",
       "    </tr>\n",
       "  </tbody>\n",
       "</table>\n",
       "</div>"
      ],
      "text/plain": [
       "             screen_size                                                  \\\n",
       "                   count       mean       std   min     25%   50%    75%   \n",
       "manufacturer                                                               \n",
       "Acer                76.0  15.198684  1.342187  11.6  14.000  15.6  15.60   \n",
       "Apple                8.0  12.700000  1.263781  11.6  12.000  12.0  13.30   \n",
       "Asus               141.0  15.468085  1.510739  11.6  14.000  15.6  17.30   \n",
       "Chuwi                3.0  14.500000  1.905256  12.3  13.950  15.6  15.60   \n",
       "Dell               260.0  15.086923  1.282968  11.6  14.000  15.6  15.60   \n",
       "Fujitsu              3.0  15.600000  0.000000  15.6  15.600  15.6  15.60   \n",
       "HP                 258.0  14.957752  1.440425  11.6  14.000  15.6  15.60   \n",
       "Huawei               2.0  13.000000  0.000000  13.0  13.000  13.0  13.00   \n",
       "LG                   3.0  15.066667  0.923760  14.0  14.800  15.6  15.60   \n",
       "Lenovo             245.0  14.773878  1.293098  10.1  14.000  15.6  15.60   \n",
       "MSI                 54.0  16.442593  0.996712  14.0  15.600  17.3  17.30   \n",
       "Mediacom             7.0  13.457143  0.882906  11.6  13.300  14.0  14.00   \n",
       "Microsoft            6.0  13.500000  0.000000  13.5  13.500  13.5  13.50   \n",
       "Razer                7.0  14.514286  2.017778  12.5  13.250  14.0  15.65   \n",
       "Samsung              7.0  14.357143  1.011364  13.3  13.300  15.0  15.00   \n",
       "Toshiba             48.0  14.354167  1.063907  12.5  13.300  14.0  15.60   \n",
       "Vero                 4.0  13.825000  0.350000  13.3  13.825  14.0  14.00   \n",
       "Xiaomi               1.0  13.300000       NaN  13.3  13.300  13.3  13.30   \n",
       "\n",
       "                   ram_gb                                                    \n",
       "               max  count       mean       std  min   25%   50%   75%   max  \n",
       "manufacturer                                                                 \n",
       "Acer          17.3   76.0   6.447368  3.176559  4.0   4.0   4.0   8.0  16.0  \n",
       "Apple         15.4    8.0   8.500000  3.338092  4.0   8.0   8.0   8.0  16.0  \n",
       "Asus          17.3  141.0   9.985816  7.450777  2.0   4.0   8.0  16.0  64.0  \n",
       "Chuwi         15.6    3.0   4.666667  1.154701  4.0   4.0   4.0   5.0   6.0  \n",
       "Dell          17.3  260.0   9.500000  5.463462  2.0   8.0   8.0   8.0  32.0  \n",
       "Fujitsu       15.6    3.0   6.666667  2.309401  4.0   6.0   8.0   8.0   8.0  \n",
       "HP            17.3  258.0   7.062016  2.905119  2.0   4.0   8.0   8.0  16.0  \n",
       "Huawei        13.0    2.0   8.000000  0.000000  8.0   8.0   8.0   8.0   8.0  \n",
       "LG            15.6    3.0  10.666667  4.618802  8.0   8.0   8.0  12.0  16.0  \n",
       "Lenovo        17.3  245.0   8.424490  4.843389  2.0   4.0   8.0   8.0  32.0  \n",
       "MSI           18.4   54.0  13.037037  4.738294  8.0   8.0  16.0  16.0  32.0  \n",
       "Mediacom      14.0    7.0   3.714286  0.755929  2.0   4.0   4.0   4.0   4.0  \n",
       "Microsoft     13.5    6.0   8.000000  4.381780  4.0   5.0   8.0   8.0  16.0  \n",
       "Razer         17.3    7.0  19.428571  9.071147  8.0  16.0  16.0  24.0  32.0  \n",
       "Samsung       15.6    7.0  12.571429  4.276180  8.0   8.0  16.0  16.0  16.0  \n",
       "Toshiba       15.6   48.0   8.666667  5.240324  4.0   4.0   8.0   8.0  32.0  \n",
       "Vero          14.0    4.0   3.500000  1.000000  2.0   3.5   4.0   4.0   4.0  \n",
       "Xiaomi        13.3    1.0   8.000000       NaN  8.0   8.0   8.0   8.0   8.0  "
      ]
     },
     "execution_count": 303,
     "metadata": {},
     "output_type": "execute_result"
    }
   ],
   "source": [
    "laptops.groupby(\"manufacturer\").describe()"
   ]
  },
  {
   "cell_type": "markdown",
   "metadata": {},
   "source": [
    "## Joining, merging and concatinatting"
   ]
  },
  {
   "cell_type": "code",
   "execution_count": null,
   "metadata": {},
   "outputs": [],
   "source": []
  }
 ],
 "metadata": {
  "kernelspec": {
   "display_name": "Python 3",
   "language": "python",
   "name": "python3"
  },
  "language_info": {
   "codemirror_mode": {
    "name": "ipython",
    "version": 3
   },
   "file_extension": ".py",
   "mimetype": "text/x-python",
   "name": "python",
   "nbconvert_exporter": "python",
   "pygments_lexer": "ipython3",
   "version": "3.8.5"
  }
 },
 "nbformat": 4,
 "nbformat_minor": 2
}
