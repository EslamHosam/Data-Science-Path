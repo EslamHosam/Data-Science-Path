{
 "cells": [
  {
   "cell_type": "markdown",
   "metadata": {},
   "source": [
    "#### Introduction to NumPy: Takeaways\n",
    "- introduction to numpy library and its methods"
   ]
  },
  {
   "cell_type": "code",
   "execution_count": 7,
   "metadata": {},
   "outputs": [
    {
     "name": "stdout",
     "output_type": "stream",
     "text": [
      "[1 2 3 4]\n",
      "1\n"
     ]
    }
   ],
   "source": [
    "# importing numpy\n",
    "import numpy as np \n",
    "\n",
    "#convert list to array\n",
    "arr = np.array([1 , 2 , 3 , 4])\n",
    "print(arr)\n",
    "print(arr.ndim)"
   ]
  },
  {
   "cell_type": "markdown",
   "metadata": {},
   "source": [
    "the result of is 1D array [1 2 3 4]"
   ]
  },
  {
   "cell_type": "code",
   "execution_count": 8,
   "metadata": {},
   "outputs": [
    {
     "name": "stdout",
     "output_type": "stream",
     "text": [
      "[[1 1 1 1]\n",
      " [1 2 3 4]\n",
      " [4 5 6 7]\n",
      " [7 8 9 1]\n",
      " [4 5 6 7]\n",
      " [7 8 9 1]]\n"
     ]
    }
   ],
   "source": [
    "#create 2D ndarray\n",
    "my_list = [[1,1,1,1] , [1,2,3,4] , [4,5,6,7] , [7,8,9,1],[4,5,6,7] , [7,8,9,1]]\n",
    "arr2 = np.array(my_list)\n",
    "print(arr2)"
   ]
  },
  {
   "cell_type": "code",
   "execution_count": 9,
   "metadata": {},
   "outputs": [
    {
     "name": "stdout",
     "output_type": "stream",
     "text": [
      "numper of rows and columns is:  (6, 4)\n",
      "size of each item in the array is:  4\n",
      "the dimension of the array is:  2  ndarray\n"
     ]
    },
    {
     "data": {
      "text/plain": [
       "96"
      ]
     },
     "execution_count": 9,
     "metadata": {},
     "output_type": "execute_result"
    }
   ],
   "source": [
    "print(\"numper of rows and columns is: \", arr2.shape) \n",
    "print(\"size of each item in the array is: \" , arr2.itemsize)\n",
    "print(\"the dimension of the array is: \" , arr2.ndim , \" ndarray\")\n",
    "np.size(arr2) * arr2.itemsize"
   ]
  },
  {
   "cell_type": "code",
   "execution_count": 10,
   "metadata": {},
   "outputs": [
    {
     "name": "stdout",
     "output_type": "stream",
     "text": [
      "[[1 1 1 1 1 2]\n",
      " [3 4 4 5 6 7]\n",
      " [7 8 9 1 4 5]\n",
      " [6 7 7 8 9 1]]\n",
      "int32\n"
     ]
    }
   ],
   "source": [
    "#reshape the array\n",
    "arr2_newshape = arr2.reshape(4 ,6) \n",
    "print(arr2_newshape)\n",
    "print(arr2.dtype) #elements data type"
   ]
  },
  {
   "cell_type": "code",
   "execution_count": 11,
   "metadata": {},
   "outputs": [
    {
     "name": "stdout",
     "output_type": "stream",
     "text": [
      "[[1 1 1 1]\n",
      " [1 2 3 4]\n",
      " [4 5 6 7]\n",
      " [7 8 9 1]\n",
      " [4 5 6 7]\n",
      " [7 8 9 1]]\n"
     ]
    }
   ],
   "source": [
    "print(arr2)"
   ]
  },
  {
   "cell_type": "code",
   "execution_count": 12,
   "metadata": {},
   "outputs": [
    {
     "name": "stdout",
     "output_type": "stream",
     "text": [
      "[1 2 3 4]\n",
      "[7 8 9 1] \n",
      "\n",
      "[[1 2 3 4]\n",
      " [4 5 6 7]\n",
      " [7 8 9 1]]\n"
     ]
    }
   ],
   "source": [
    "#slicing for this small array\n",
    "row_2 = arr2[1]\n",
    "print(row_2)\n",
    "row_3 = arr2[3]\n",
    "print(row_3 , \"\\n\")\n",
    "# some row together\n",
    "row1_3 = arr2[1:4]\n",
    "print(row1_3)"
   ]
  },
  {
   "cell_type": "code",
   "execution_count": 13,
   "metadata": {},
   "outputs": [
    {
     "name": "stdout",
     "output_type": "stream",
     "text": [
      "[[1, 2, 3, 4], [4, 5, 6, 7]]\n",
      "[[1 2 3 4]\n",
      " [4 5 6 7]]\n"
     ]
    }
   ],
   "source": [
    "# compare the difference between list of lists and arrays\n",
    "#list of lists\n",
    "print(my_list[1:3]) \n",
    "#arrays\n",
    "print(arr2[1:3])"
   ]
  },
  {
   "cell_type": "code",
   "execution_count": 14,
   "metadata": {},
   "outputs": [
    {
     "name": "stdout",
     "output_type": "stream",
     "text": [
      "5\n",
      "5\n"
     ]
    }
   ],
   "source": [
    "#for elemen\n",
    "print(my_list[2][1])\n",
    "print(arr2[2,1])"
   ]
  },
  {
   "cell_type": "code",
   "execution_count": 15,
   "metadata": {},
   "outputs": [
    {
     "name": "stdout",
     "output_type": "stream",
     "text": [
      "[[4, 5, 6, 7], [1, 1, 1, 1]]\n",
      "[[4 5 6 7]\n",
      " [1 1 1 1]]\n"
     ]
    }
   ],
   "source": [
    "#for different rows\n",
    "new_list = [my_list[4] , my_list[0]]\n",
    "print(new_list)\n",
    "#for arrays use list\n",
    "diff_rows = arr2[[4,0]]\n",
    "print(diff_rows)"
   ]
  },
  {
   "cell_type": "code",
   "execution_count": 16,
   "metadata": {},
   "outputs": [
    {
     "name": "stdout",
     "output_type": "stream",
     "text": [
      "[1, 1, 4, 7, 4, 7]\n"
     ]
    }
   ],
   "source": [
    "#lets practise for columns\n",
    "#lists\n",
    "r_1 = []\n",
    "for row in my_list:\n",
    "    row_1 = row[0]\n",
    "    r_1.append(row_1)\n",
    "print(r_1)"
   ]
  },
  {
   "cell_type": "code",
   "execution_count": 17,
   "metadata": {},
   "outputs": [
    {
     "name": "stdout",
     "output_type": "stream",
     "text": [
      "[1 1 4 7 4 7]\n"
     ]
    }
   ],
   "source": [
    "#arrays\n",
    "r1= arr2[:,0]\n",
    "print(r1)"
   ]
  },
  {
   "cell_type": "code",
   "execution_count": 18,
   "metadata": {},
   "outputs": [
    {
     "name": "stdout",
     "output_type": "stream",
     "text": [
      "[[1, 1, 1], [1, 3, 4], [4, 6, 7], [7, 9, 1], [4, 6, 7], [7, 9, 1]]\n"
     ]
    }
   ],
   "source": [
    "#multible columns lists\n",
    "cols = []\n",
    "for row in my_list:\n",
    "    a = [row[0] , row[2] , row[3]]\n",
    "    cols.append(a)\n",
    "print(cols)"
   ]
  },
  {
   "cell_type": "code",
   "execution_count": 19,
   "metadata": {},
   "outputs": [
    {
     "name": "stdout",
     "output_type": "stream",
     "text": [
      "[[1 1 1]\n",
      " [1 3 4]\n",
      " [4 6 7]\n",
      " [7 9 1]\n",
      " [4 6 7]\n",
      " [7 9 1]]\n"
     ]
    }
   ],
   "source": [
    "#arrays\n",
    "cols = [0 , 2 ,3]\n",
    "print(arr2[:,cols])"
   ]
  },
  {
   "cell_type": "code",
   "execution_count": 20,
   "metadata": {},
   "outputs": [
    {
     "name": "stdout",
     "output_type": "stream",
     "text": [
      "[[1 2 3]\n",
      " [4 5 6]]\n"
     ]
    }
   ],
   "source": [
    "#arrays slicing\n",
    "print(arr2[1:3 , 0:3])\n"
   ]
  },
  {
   "cell_type": "code",
   "execution_count": 21,
   "metadata": {},
   "outputs": [
    {
     "name": "stdout",
     "output_type": "stream",
     "text": [
      "[[1 1 1 1]\n",
      " [1 2 3 4]\n",
      " [4 5 6 7]\n",
      " [7 8 9 1]\n",
      " [4 5 6 7]\n",
      " [7 8 9 1]]\n"
     ]
    }
   ],
   "source": [
    "print(arr2[:])"
   ]
  },
  {
   "cell_type": "code",
   "execution_count": 22,
   "metadata": {},
   "outputs": [
    {
     "name": "stdout",
     "output_type": "stream",
     "text": [
      "[[1 1]\n",
      " [3 4]\n",
      " [6 7]\n",
      " [9 1]\n",
      " [6 7]\n",
      " [9 1]]\n"
     ]
    }
   ],
   "source": [
    "print(arr2[:,2:4])"
   ]
  },
  {
   "cell_type": "code",
   "execution_count": 23,
   "metadata": {},
   "outputs": [
    {
     "name": "stdout",
     "output_type": "stream",
     "text": [
      "[4 7 1]\n"
     ]
    }
   ],
   "source": [
    "print(arr2[1:4,3])"
   ]
  },
  {
   "cell_type": "code",
   "execution_count": 24,
   "metadata": {},
   "outputs": [
    {
     "name": "stdout",
     "output_type": "stream",
     "text": [
      "4\n"
     ]
    }
   ],
   "source": [
    "print(arr2[1,3])"
   ]
  },
  {
   "cell_type": "code",
   "execution_count": 25,
   "metadata": {},
   "outputs": [
    {
     "name": "stdout",
     "output_type": "stream",
     "text": [
      "[[1 1]\n",
      " [2 1]\n",
      " [5 4]\n",
      " [8 7]\n",
      " [5 4]\n",
      " [8 7]]\n"
     ]
    }
   ],
   "source": [
    "print(arr2[:,[1,0]])"
   ]
  },
  {
   "cell_type": "markdown",
   "metadata": {},
   "source": [
    "#### numpy methods"
   ]
  },
  {
   "cell_type": "code",
   "execution_count": 26,
   "metadata": {},
   "outputs": [
    {
     "name": "stdout",
     "output_type": "stream",
     "text": [
      "108\n"
     ]
    }
   ],
   "source": [
    "print(arr2.sum()) # su of all elements"
   ]
  },
  {
   "cell_type": "code",
   "execution_count": 27,
   "metadata": {},
   "outputs": [
    {
     "name": "stdout",
     "output_type": "stream",
     "text": [
      "4.5\n"
     ]
    }
   ],
   "source": [
    "print(arr2.mean()) #the average"
   ]
  },
  {
   "cell_type": "code",
   "execution_count": 28,
   "metadata": {},
   "outputs": [
    {
     "name": "stdout",
     "output_type": "stream",
     "text": [
      "1\n"
     ]
    }
   ],
   "source": [
    "print(arr2.min()) #minimume value "
   ]
  },
  {
   "cell_type": "code",
   "execution_count": 29,
   "metadata": {},
   "outputs": [
    {
     "name": "stdout",
     "output_type": "stream",
     "text": [
      "9\n"
     ]
    }
   ],
   "source": [
    "print(arr2.max()) #maximum value"
   ]
  },
  {
   "cell_type": "code",
   "execution_count": 30,
   "metadata": {},
   "outputs": [
    {
     "name": "stdout",
     "output_type": "stream",
     "text": [
      "[1 1 1 1]\n"
     ]
    }
   ],
   "source": [
    "#the minimum or maximum for each row or each column for rows axis = 1 ,for columns axis = 0\n",
    "print(arr2.min(axis = 0)) #for columns"
   ]
  },
  {
   "cell_type": "code",
   "execution_count": 31,
   "metadata": {},
   "outputs": [
    {
     "name": "stdout",
     "output_type": "stream",
     "text": [
      "[1 4 7 9 7 9]\n"
     ]
    }
   ],
   "source": [
    "print(arr2.max(axis = 1)) #for rows"
   ]
  },
  {
   "cell_type": "markdown",
   "metadata": {},
   "source": [
    "### arithmatic operations on vectors"
   ]
  },
  {
   "cell_type": "code",
   "execution_count": 32,
   "metadata": {},
   "outputs": [
    {
     "name": "stdout",
     "output_type": "stream",
     "text": [
      "[1 1 4 7 4 7] [1 2 5 8 5 8]\n"
     ]
    }
   ],
   "source": [
    "col1 = arr2[:,0]\n",
    "col2 = arr2[:,1]\n",
    "print(col1 , col2)"
   ]
  },
  {
   "cell_type": "code",
   "execution_count": 33,
   "metadata": {},
   "outputs": [
    {
     "name": "stdout",
     "output_type": "stream",
     "text": [
      "[ 1  2 20 56 20 56]\n"
     ]
    }
   ],
   "source": [
    "print(col1 * col2)"
   ]
  },
  {
   "cell_type": "code",
   "execution_count": 34,
   "metadata": {},
   "outputs": [
    {
     "name": "stdout",
     "output_type": "stream",
     "text": [
      "[ 2  3  9 15  9 15]\n"
     ]
    }
   ],
   "source": [
    "print(col1 + col2)"
   ]
  },
  {
   "cell_type": "code",
   "execution_count": 35,
   "metadata": {},
   "outputs": [
    {
     "name": "stdout",
     "output_type": "stream",
     "text": [
      "[1.    0.5   0.8   0.875 0.8   0.875]\n"
     ]
    }
   ],
   "source": [
    "print(col1 / col2)"
   ]
  },
  {
   "cell_type": "code",
   "execution_count": 36,
   "metadata": {},
   "outputs": [
    {
     "name": "stdout",
     "output_type": "stream",
     "text": [
      "[ 0 -1 -1 -1 -1 -1]\n"
     ]
    }
   ],
   "source": [
    "print(col1 - col2)"
   ]
  },
  {
   "cell_type": "code",
   "execution_count": 37,
   "metadata": {},
   "outputs": [
    {
     "name": "stdout",
     "output_type": "stream",
     "text": [
      "[0.5 0.5 2.  3.5 2.  3.5]\n"
     ]
    }
   ],
   "source": [
    "print(col1 / 2)"
   ]
  },
  {
   "cell_type": "code",
   "execution_count": 38,
   "metadata": {},
   "outputs": [
    {
     "name": "stdout",
     "output_type": "stream",
     "text": [
      "[ 3  6 15 24 15 24]\n"
     ]
    }
   ],
   "source": [
    "print(col2 * 3)"
   ]
  },
  {
   "cell_type": "code",
   "execution_count": 39,
   "metadata": {},
   "outputs": [
    {
     "name": "stdout",
     "output_type": "stream",
     "text": [
      "[1.  1.4 1.8 2.2 2.6 3. ]\n"
     ]
    }
   ],
   "source": [
    "print(np.linspace(1,3,6))"
   ]
  },
  {
   "cell_type": "markdown",
   "metadata": {},
   "source": [
    "### working on the NYC taxi dataset"
   ]
  },
  {
   "cell_type": "code",
   "execution_count": 40,
   "metadata": {},
   "outputs": [],
   "source": [
    "import csv \n",
    "f = open(\"nyc_taxis.csv\")\n",
    "taxi_list = list(csv.reader(f))\n",
    "header= taxi_list[0]\n"
   ]
  },
  {
   "cell_type": "code",
   "execution_count": 41,
   "metadata": {},
   "outputs": [],
   "source": [
    "converted_data = []\n",
    "for row in taxi_list[1:]:\n",
    "    converted_row = []\n",
    "    for item in row:\n",
    "        converted_row.append(float(item))\n",
    "    converted_data.append(converted_row)"
   ]
  },
  {
   "cell_type": "code",
   "execution_count": 42,
   "metadata": {},
   "outputs": [
    {
     "name": "stdout",
     "output_type": "stream",
     "text": [
      "[2.016e+03 1.000e+00 1.000e+00 5.000e+00 0.000e+00 2.000e+00 4.000e+00\n",
      " 2.100e+01 2.037e+03 5.200e+01 8.000e-01 5.540e+00 1.165e+01 6.999e+01\n",
      " 1.000e+00]\n"
     ]
    },
    {
     "data": {
      "text/plain": [
       "(89560, 15)"
      ]
     },
     "execution_count": 42,
     "metadata": {},
     "output_type": "execute_result"
    }
   ],
   "source": [
    "# convert the data to array\n",
    "taxi = np.array(converted_data)\n",
    "print(taxi[0])\n",
    "taxi.shape"
   ]
  },
  {
   "cell_type": "markdown",
   "metadata": {},
   "source": [
    "### slicing in numpy and the difference between list of lists"
   ]
  },
  {
   "cell_type": "code",
   "execution_count": 43,
   "metadata": {},
   "outputs": [
    {
     "name": "stdout",
     "output_type": "stream",
     "text": [
      "[2.016e+03 1.000e+00 1.000e+00 5.000e+00 0.000e+00 2.000e+00 4.000e+00\n",
      " 2.100e+01 2.037e+03 5.200e+01 8.000e-01 5.540e+00 1.165e+01 6.999e+01\n",
      " 1.000e+00]\n"
     ]
    }
   ],
   "source": [
    "# select a single row\n",
    "first_row = taxi[0]\n",
    "print(first_row)"
   ]
  },
  {
   "cell_type": "code",
   "execution_count": 44,
   "metadata": {},
   "outputs": [
    {
     "name": "stdout",
     "output_type": "stream",
     "text": [
      "52.0\n"
     ]
    }
   ],
   "source": [
    "# select multible rows\n",
    "multible_rows = taxi[20:25]\n",
    "\n",
    "# specific item \n",
    "item = taxi[10 ,9]\n",
    "print(item)"
   ]
  },
  {
   "cell_type": "code",
   "execution_count": 45,
   "metadata": {},
   "outputs": [
    {
     "name": "stdout",
     "output_type": "stream",
     "text": [
      "c1 is [2016. 2016. 2016. ... 2016. 2016. 2016.]\n"
     ]
    }
   ],
   "source": [
    "#selecting column \n",
    "c1 = taxi[:, 0]\n",
    "print(\"c1 is\",c1)"
   ]
  },
  {
   "cell_type": "code",
   "execution_count": 46,
   "metadata": {},
   "outputs": [
    {
     "data": {
      "text/plain": [
       "array([[ 1.,  1.,  5.],\n",
       "       [ 1.,  1.,  5.],\n",
       "       [ 1.,  1.,  5.],\n",
       "       ...,\n",
       "       [ 6., 30.,  4.],\n",
       "       [ 6., 30.,  4.],\n",
       "       [ 6., 30.,  4.]])"
      ]
     },
     "execution_count": 46,
     "metadata": {},
     "output_type": "execute_result"
    }
   ],
   "source": [
    "#selecting columns\n",
    "taxi[:, 1:4]"
   ]
  },
  {
   "cell_type": "code",
   "execution_count": 47,
   "metadata": {},
   "outputs": [
    {
     "name": "stdout",
     "output_type": "stream",
     "text": [
      "[[ 1.    2.   21.  ]\n",
      " [ 1.    2.   16.29]\n",
      " [ 1.    2.   12.7 ]\n",
      " ...\n",
      " [ 6.    2.   17.48]\n",
      " [ 6.    2.   12.76]\n",
      " [ 6.    2.   17.54]]\n"
     ]
    }
   ],
   "source": [
    "#selecting multiple columns\n",
    "\n",
    "cols = [1,5,7]\n",
    "those_cols = taxi[:, cols]\n",
    "print(those_cols) #retuens 2D ndarray"
   ]
  },
  {
   "cell_type": "code",
   "execution_count": 48,
   "metadata": {},
   "outputs": [
    {
     "data": {
      "text/plain": [
       "array([[1., 1., 5., 0.],\n",
       "       [1., 1., 5., 0.]])"
      ]
     },
     "execution_count": 48,
     "metadata": {},
     "output_type": "execute_result"
    }
   ],
   "source": [
    "#select 2D slice\n",
    "taxi[1:3 , 1:5]"
   ]
  },
  {
   "cell_type": "code",
   "execution_count": 49,
   "metadata": {},
   "outputs": [
    {
     "name": "stdout",
     "output_type": "stream",
     "text": [
      "[ 2.  2.  2. ... 36. 36. 36.]\n"
     ]
    },
    {
     "data": {
      "text/plain": [
       "array([[  5.,   5.],\n",
       "       [  5.,   5.],\n",
       "       [  5.,   5.],\n",
       "       ...,\n",
       "       [ 24., 120.],\n",
       "       [ 24., 120.],\n",
       "       [ 24., 120.]])"
      ]
     },
     "execution_count": 49,
     "metadata": {},
     "output_type": "execute_result"
    }
   ],
   "source": [
    "# vector math or math operations on arrays\n",
    "# add some columns\n",
    "sums = taxi[:, 1] + taxi[:, 2]\n",
    "print(sums)\n",
    "mul = taxi[:, 1:3] * taxi[:,3:4]\n",
    "mul"
   ]
  },
  {
   "cell_type": "code",
   "execution_count": 50,
   "metadata": {},
   "outputs": [
    {
     "name": "stdout",
     "output_type": "stream",
     "text": [
      "(89560, 2)\n"
     ]
    },
    {
     "data": {
      "text/plain": [
       "8646125.0"
      ]
     },
     "execution_count": 50,
     "metadata": {},
     "output_type": "execute_result"
    }
   ],
   "source": [
    "mul2 = taxi[:,1:3] * 5\n",
    "print(mul2.shape)\n",
    "mul2.sum()"
   ]
  },
  {
   "cell_type": "code",
   "execution_count": 51,
   "metadata": {},
   "outputs": [
    {
     "data": {
      "text/plain": [
       "15871.47"
      ]
     },
     "execution_count": 51,
     "metadata": {},
     "output_type": "execute_result"
    }
   ],
   "source": [
    "#calculations for 2D ndarray\n",
    "\n",
    "taxi[1:550 , 2:8].sum()"
   ]
  },
  {
   "cell_type": "code",
   "execution_count": 52,
   "metadata": {},
   "outputs": [
    {
     "data": {
      "text/plain": [
       "array([ 2.016e+03,  1.000e+00,  1.000e+00,  1.000e+00,  0.000e+00,\n",
       "        0.000e+00,  0.000e+00,  0.000e+00,  1.000e+00, -5.200e+01,\n",
       "       -1.800e+00, -5.540e+00,  0.000e+00, -5.834e+01,  1.000e+00])"
      ]
     },
     "execution_count": 52,
     "metadata": {},
     "output_type": "execute_result"
    }
   ],
   "source": [
    "# for each column \n",
    "taxi.min(axis = 0)"
   ]
  },
  {
   "cell_type": "code",
   "execution_count": 53,
   "metadata": {},
   "outputs": [
    {
     "data": {
      "text/plain": [
       "array([2037., 2016., 2016., ..., 2822., 2016., 2016.])"
      ]
     },
     "execution_count": 53,
     "metadata": {},
     "output_type": "execute_result"
    }
   ],
   "source": [
    "#for each row \n",
    "taxi.max(axis = 1)"
   ]
  },
  {
   "cell_type": "code",
   "execution_count": 54,
   "metadata": {},
   "outputs": [
    {
     "data": {
      "text/plain": [
       "array([1, 1])"
      ]
     },
     "execution_count": 54,
     "metadata": {},
     "output_type": "execute_result"
    }
   ],
   "source": [
    "x= np.array([1,2,1])\n",
    "b = x == 1\n",
    "x[b]"
   ]
  }
 ],
 "metadata": {
  "kernelspec": {
   "display_name": "Python 3",
   "language": "python",
   "name": "python3"
  },
  "language_info": {
   "codemirror_mode": {
    "name": "ipython",
    "version": 3
   },
   "file_extension": ".py",
   "mimetype": "text/x-python",
   "name": "python",
   "nbconvert_exporter": "python",
   "pygments_lexer": "ipython3",
   "version": "3.7.4"
  }
 },
 "nbformat": 4,
 "nbformat_minor": 2
}
